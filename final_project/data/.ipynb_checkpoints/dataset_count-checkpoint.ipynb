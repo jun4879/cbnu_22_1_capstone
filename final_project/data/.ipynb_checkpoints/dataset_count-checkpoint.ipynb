{
 "cells": [
  {
   "cell_type": "code",
   "execution_count": 1,
   "id": "04ef8b14-5171-4f49-852f-0328f8cec5e4",
   "metadata": {},
   "outputs": [],
   "source": [
    "import os"
   ]
  },
  {
   "cell_type": "code",
   "execution_count": 2,
   "id": "2792a075-5da5-448d-8737-950fd7acfaa4",
   "metadata": {},
   "outputs": [],
   "source": [
    "train_path = './ver3_added_helmet/train/labels'\n",
    "train_file_list = os.listdir(train_path)\n",
    "train_txt_file_list = [file for file in train_file_list if file.endswith('.txt')]"
   ]
  },
  {
   "cell_type": "code",
   "execution_count": 3,
   "id": "92ad3570-ac5e-4737-8f38-8f1e7a5d6cb5",
   "metadata": {},
   "outputs": [
    {
     "name": "stdout",
     "output_type": "stream",
     "text": [
      "train_head_count :  7849\n",
      "train_helmet_count :  23939\n"
     ]
    }
   ],
   "source": [
    "train_head_count = 0\n",
    "train_helmet_count = 0\n",
    "\n",
    "for train_txt_file_name in train_txt_file_list:\n",
    "    train_txt_file = open(train_path + '/' + train_txt_file_name, 'r')\n",
    "    while True:\n",
    "        line = train_txt_file.readline()\n",
    "        if not line:\n",
    "            break\n",
    "        if line[0] == '0':\n",
    "            train_head_count += 1\n",
    "        if line[0] == '1':\n",
    "            train_helmet_count += 1        \n",
    "    train_txt_file.close()\n",
    "print(\"train_head_count : \", train_head_count)\n",
    "print(\"train_helmet_count : \", train_helmet_count)"
   ]
  },
  {
   "cell_type": "code",
   "execution_count": 4,
   "id": "19f48a0a-d5cf-4f0f-b025-ab1e4f039723",
   "metadata": {},
   "outputs": [],
   "source": [
    "valid_path = './ver3_added_helmet/valid/labels'\n",
    "valid_file_list = os.listdir(valid_path)\n",
    "valid_txt_file_list = [file for file in valid_file_list if file.endswith('.txt')]"
   ]
  },
  {
   "cell_type": "code",
   "execution_count": 5,
   "id": "e2fd5295-b269-4c89-a958-b51abdf3d178",
   "metadata": {},
   "outputs": [
    {
     "ename": "FileNotFoundError",
     "evalue": "[Errno 2] No such file or directory: './ver3_added_helmet/valid/labels/5003_jpg.rf.50698ff881ba8f2220513e8e10a1c6bd.txt'",
     "output_type": "error",
     "traceback": [
      "\u001b[1;31m---------------------------------------------------------------------------\u001b[0m",
      "\u001b[1;31mFileNotFoundError\u001b[0m                         Traceback (most recent call last)",
      "Input \u001b[1;32mIn [5]\u001b[0m, in \u001b[0;36m<cell line: 4>\u001b[1;34m()\u001b[0m\n\u001b[0;32m      2\u001b[0m valid_helmet_count \u001b[38;5;241m=\u001b[39m \u001b[38;5;241m0\u001b[39m\n\u001b[0;32m      4\u001b[0m \u001b[38;5;28;01mfor\u001b[39;00m valid_txt_file_name \u001b[38;5;129;01min\u001b[39;00m valid_txt_file_list:\n\u001b[1;32m----> 5\u001b[0m     valid_txt_file \u001b[38;5;241m=\u001b[39m \u001b[38;5;28;43mopen\u001b[39;49m\u001b[43m(\u001b[49m\u001b[43mvalid_path\u001b[49m\u001b[43m \u001b[49m\u001b[38;5;241;43m+\u001b[39;49m\u001b[43m \u001b[49m\u001b[38;5;124;43m'\u001b[39;49m\u001b[38;5;124;43m/\u001b[39;49m\u001b[38;5;124;43m'\u001b[39;49m\u001b[43m \u001b[49m\u001b[38;5;241;43m+\u001b[39;49m\u001b[43m \u001b[49m\u001b[43mvalid_txt_file_name\u001b[49m\u001b[43m,\u001b[49m\u001b[43m \u001b[49m\u001b[38;5;124;43m'\u001b[39;49m\u001b[38;5;124;43mr\u001b[39;49m\u001b[38;5;124;43m'\u001b[39;49m\u001b[43m)\u001b[49m\n\u001b[0;32m      6\u001b[0m     \u001b[38;5;28;01mwhile\u001b[39;00m \u001b[38;5;28;01mTrue\u001b[39;00m:\n\u001b[0;32m      7\u001b[0m         line \u001b[38;5;241m=\u001b[39m valid_txt_file\u001b[38;5;241m.\u001b[39mreadline()\n",
      "\u001b[1;31mFileNotFoundError\u001b[0m: [Errno 2] No such file or directory: './ver3_added_helmet/valid/labels/5003_jpg.rf.50698ff881ba8f2220513e8e10a1c6bd.txt'"
     ]
    }
   ],
   "source": [
    "valid_head_count = 0\n",
    "valid_helmet_count = 0\n",
    "\n",
    "for valid_txt_file_name in valid_txt_file_list:\n",
    "    valid_txt_file = open(valid_path + '/' + valid_txt_file_name, 'r')\n",
    "    while True:\n",
    "        line = valid_txt_file.readline()\n",
    "        if not line:\n",
    "            break\n",
    "        if line[0] == '0':\n",
    "            valid_head_count += 1\n",
    "        if line[0] == '1':\n",
    "            valid_helmet_count += 1        \n",
    "    valid_txt_file.close()\n",
    "print(\"valid_head_count : \", valid_head_count)\n",
    "print(\"valid_helmet_count : \", valid_helmet_count)"
   ]
  }
 ],
 "metadata": {
  "kernelspec": {
   "display_name": "Python 3 (ipykernel)",
   "language": "python",
   "name": "python3"
  },
  "language_info": {
   "codemirror_mode": {
    "name": "ipython",
    "version": 3
   },
   "file_extension": ".py",
   "mimetype": "text/x-python",
   "name": "python",
   "nbconvert_exporter": "python",
   "pygments_lexer": "ipython3",
   "version": "3.8.5"
  }
 },
 "nbformat": 4,
 "nbformat_minor": 5
}
