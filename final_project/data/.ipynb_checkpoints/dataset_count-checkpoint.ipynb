{
 "cells": [
  {
   "cell_type": "code",
   "execution_count": 1,
   "id": "52c44ca1",
   "metadata": {
    "execution": {
     "iopub.execute_input": "2022-06-12T11:31:49.367250Z",
     "iopub.status.busy": "2022-06-12T11:31:49.366749Z",
     "iopub.status.idle": "2022-06-12T11:31:49.380491Z",
     "shell.execute_reply": "2022-06-12T11:31:49.379990Z",
     "shell.execute_reply.started": "2022-06-12T11:31:49.367250Z"
    }
   },
   "outputs": [],
   "source": [
    "import os"
   ]
  },
  {
   "cell_type": "code",
   "execution_count": 2,
   "id": "6db0658a",
   "metadata": {
    "execution": {
     "iopub.execute_input": "2022-06-12T11:31:49.380990Z",
     "iopub.status.busy": "2022-06-12T11:31:49.380990Z",
     "iopub.status.idle": "2022-06-12T11:31:49.410771Z",
     "shell.execute_reply": "2022-06-12T11:31:49.410217Z",
     "shell.execute_reply.started": "2022-06-12T11:31:49.380990Z"
    }
   },
   "outputs": [],
   "source": [
    "base_train_path = 'D:/capstone_final_data/old data/yolov5_base_data/train/labels'\n",
    "base_train_file_list = os.listdir(base_train_path)\n",
    "base_train_txt_file_list = [file for file in base_train_file_list if file.endswith('.txt')]"
   ]
  },
  {
   "cell_type": "code",
   "execution_count": 3,
   "id": "8ace335b",
   "metadata": {
    "execution": {
     "iopub.execute_input": "2022-06-12T11:31:49.412902Z",
     "iopub.status.busy": "2022-06-12T11:31:49.412902Z",
     "iopub.status.idle": "2022-06-12T11:31:56.356981Z",
     "shell.execute_reply": "2022-06-12T11:31:56.355986Z",
     "shell.execute_reply.started": "2022-06-12T11:31:49.412902Z"
    }
   },
   "outputs": [
    {
     "name": "stdout",
     "output_type": "stream",
     "text": [
      "base_train_head_count :  4297\n",
      "base_train_helmet_count :  11291\n"
     ]
    }
   ],
   "source": [
    "base_train_head_count = 0\n",
    "base_train_helmet_count = 0\n",
    "\n",
    "for base_train_txt_file_name in base_train_txt_file_list:\n",
    "    base_train_txt_file = open(base_train_path + '/' + base_train_txt_file_name, 'r')\n",
    "    while True:\n",
    "        line = base_train_txt_file.readline()\n",
    "        if not line:\n",
    "            break\n",
    "        if line[0] == '0':\n",
    "            base_train_head_count += 1\n",
    "        if line[0] == '1':\n",
    "            base_train_helmet_count += 1        \n",
    "    base_train_txt_file.close()\n",
    "print(\"base_train_head_count : \", base_train_head_count)\n",
    "print(\"base_train_helmet_count : \", base_train_helmet_count)"
   ]
  },
  {
   "cell_type": "code",
   "execution_count": 4,
   "id": "511ae496",
   "metadata": {
    "execution": {
     "iopub.execute_input": "2022-06-12T11:31:56.358504Z",
     "iopub.status.busy": "2022-06-12T11:31:56.358504Z",
     "iopub.status.idle": "2022-06-12T11:31:56.373634Z",
     "shell.execute_reply": "2022-06-12T11:31:56.371703Z",
     "shell.execute_reply.started": "2022-06-12T11:31:56.358504Z"
    }
   },
   "outputs": [],
   "source": [
    "base_valid_path = 'D:/capstone_final_data/old data/yolov5_base_data/valid/labels'\n",
    "base_valid_file_list = os.listdir(base_valid_path)\n",
    "base_valid_txt_file_list = [file for file in base_valid_file_list if file.endswith('.txt')]"
   ]
  },
  {
   "cell_type": "code",
   "execution_count": 5,
   "id": "d0884767",
   "metadata": {
    "execution": {
     "iopub.execute_input": "2022-06-12T11:31:56.375367Z",
     "iopub.status.busy": "2022-06-12T11:31:56.375367Z",
     "iopub.status.idle": "2022-06-12T11:31:58.070756Z",
     "shell.execute_reply": "2022-06-12T11:31:58.070256Z",
     "shell.execute_reply.started": "2022-06-12T11:31:56.375367Z"
    }
   },
   "outputs": [
    {
     "name": "stdout",
     "output_type": "stream",
     "text": [
      "base_valid_head_count :  1041\n",
      "base_valid_helmet_count :  2706\n"
     ]
    }
   ],
   "source": [
    "base_valid_head_count = 0\n",
    "base_valid_helmet_count = 0\n",
    "\n",
    "for base_valid_txt_file_name in base_valid_txt_file_list:\n",
    "    base_valid_txt_file = open(base_valid_path + '/' + base_valid_txt_file_name, 'r')\n",
    "    while True:\n",
    "        line = base_valid_txt_file.readline()\n",
    "        if not line:\n",
    "            break\n",
    "        if line[0] == '0':\n",
    "            base_valid_head_count += 1\n",
    "        if line[0] == '1':\n",
    "            base_valid_helmet_count += 1        \n",
    "    base_valid_txt_file.close()\n",
    "print(\"base_valid_head_count : \", base_valid_head_count)\n",
    "print(\"base_valid_helmet_count : \", base_valid_helmet_count)"
   ]
  },
  {
   "cell_type": "code",
   "execution_count": 6,
   "id": "5a7e2e98",
   "metadata": {
    "execution": {
     "iopub.execute_input": "2022-06-12T11:31:58.073476Z",
     "iopub.status.busy": "2022-06-12T11:31:58.073476Z",
     "iopub.status.idle": "2022-06-12T11:31:58.100849Z",
     "shell.execute_reply": "2022-06-12T11:31:58.100190Z",
     "shell.execute_reply.started": "2022-06-12T11:31:58.073476Z"
    }
   },
   "outputs": [],
   "source": [
    "added_train_path = 'D:/capstone_final_data/yolo_final_project_dataset/train/labels'\n",
    "added_train_file_list = os.listdir(added_train_path)\n",
    "added_train_txt_file_list = [file for file in added_train_file_list if file.endswith('.txt')]"
   ]
  },
  {
   "cell_type": "code",
   "execution_count": 7,
   "id": "7e51c70c",
   "metadata": {
    "execution": {
     "iopub.execute_input": "2022-06-12T11:31:58.101862Z",
     "iopub.status.busy": "2022-06-12T11:31:58.101862Z",
     "iopub.status.idle": "2022-06-12T11:32:15.002899Z",
     "shell.execute_reply": "2022-06-12T11:32:15.002374Z",
     "shell.execute_reply.started": "2022-06-12T11:31:58.101862Z"
    }
   },
   "outputs": [
    {
     "name": "stdout",
     "output_type": "stream",
     "text": [
      "added_train_head_count :  9744\n",
      "added_train_helmet_count :  27845\n"
     ]
    }
   ],
   "source": [
    "added_train_head_count = 0\n",
    "added_train_helmet_count = 0\n",
    "\n",
    "for added_train_txt_file_name in added_train_txt_file_list:\n",
    "    added_train_txt_file = open(added_train_path + '/' + added_train_txt_file_name, 'r')\n",
    "    while True:\n",
    "        line = added_train_txt_file.readline()\n",
    "        if not line:\n",
    "            break\n",
    "        if line[0] == '0':\n",
    "            added_train_head_count += 1\n",
    "        if line[0] == '1':\n",
    "            added_train_helmet_count += 1        \n",
    "    added_train_txt_file.close()\n",
    "print(\"added_train_head_count : \", added_train_head_count)\n",
    "print(\"added_train_helmet_count : \", added_train_helmet_count)"
   ]
  },
  {
   "cell_type": "code",
   "execution_count": 8,
   "id": "928ff7ec",
   "metadata": {
    "execution": {
     "iopub.execute_input": "2022-06-12T11:32:15.003926Z",
     "iopub.status.busy": "2022-06-12T11:32:15.003926Z",
     "iopub.status.idle": "2022-06-12T11:32:15.018100Z",
     "shell.execute_reply": "2022-06-12T11:32:15.017600Z",
     "shell.execute_reply.started": "2022-06-12T11:32:15.003926Z"
    }
   },
   "outputs": [],
   "source": [
    "added_valid_path = 'D:/capstone_final_data/yolo_final_project_dataset/valid/labels'\n",
    "added_valid_file_list = os.listdir(added_valid_path)\n",
    "added_valid_txt_file_list = [file for file in added_valid_file_list if file.endswith('.txt')]"
   ]
  },
  {
   "cell_type": "code",
   "execution_count": 9,
   "id": "f57e9f6b",
   "metadata": {
    "execution": {
     "iopub.execute_input": "2022-06-12T11:32:15.019408Z",
     "iopub.status.busy": "2022-06-12T11:32:15.019408Z",
     "iopub.status.idle": "2022-06-12T11:32:19.034147Z",
     "shell.execute_reply": "2022-06-12T11:32:19.034147Z",
     "shell.execute_reply.started": "2022-06-12T11:32:15.019408Z"
    },
    "tags": []
   },
   "outputs": [
    {
     "name": "stdout",
     "output_type": "stream",
     "text": [
      "added_valid_head_count :  3345\n",
      "added_valid_helmet_count :  5602\n"
     ]
    }
   ],
   "source": [
    "added_valid_head_count = 0\n",
    "added_valid_helmet_count = 0\n",
    "\n",
    "for added_valid_txt_file_name in added_valid_txt_file_list:\n",
    "    added_valid_txt_file = open(added_valid_path + '/' + added_valid_txt_file_name, 'r')\n",
    "    while True:\n",
    "        line = added_valid_txt_file.readline()\n",
    "        if not line:\n",
    "            break\n",
    "        if line[0] == '0':\n",
    "            added_valid_head_count += 1\n",
    "        if line[0] == '1':\n",
    "            added_valid_helmet_count += 1        \n",
    "    added_valid_txt_file.close()\n",
    "print(\"added_valid_head_count : \", added_valid_head_count)\n",
    "print(\"added_valid_helmet_count : \", added_valid_helmet_count)"
   ]
  }
 ],
 "metadata": {
  "kernelspec": {
   "display_name": "Python 3 (ipykernel)",
   "language": "python",
   "name": "python3"
  },
  "language_info": {
   "codemirror_mode": {
    "name": "ipython",
    "version": 3
   },
   "file_extension": ".py",
   "mimetype": "text/x-python",
   "name": "python",
   "nbconvert_exporter": "python",
   "pygments_lexer": "ipython3",
   "version": "3.7.9"
  }
 },
 "nbformat": 4,
 "nbformat_minor": 5
}
