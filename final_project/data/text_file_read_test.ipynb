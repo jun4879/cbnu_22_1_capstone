{
 "cells": [
  {
   "cell_type": "code",
   "execution_count": 1,
   "id": "04ef8b14-5171-4f49-852f-0328f8cec5e4",
   "metadata": {},
   "outputs": [],
   "source": [
    "import os"
   ]
  },
  {
   "cell_type": "code",
   "execution_count": 2,
   "id": "2792a075-5da5-448d-8737-950fd7acfaa4",
   "metadata": {},
   "outputs": [],
   "source": [
    "path = './'\n",
    "file_list = os.listdir(path)\n",
    "file_list_py = [file for file in file_list if file.endswith('.txt')]"
   ]
  },
  {
   "cell_type": "code",
   "execution_count": 4,
   "id": "7a4e139c-04f1-4e93-ba17-72007998d283",
   "metadata": {},
   "outputs": [
    {
     "data": {
      "text/plain": [
       "['test2.txt', 'test3.txt', '학습데이터는 커서 git upload 안 됨.txt']"
      ]
     },
     "execution_count": 4,
     "metadata": {},
     "output_type": "execute_result"
    }
   ],
   "source": [
    "file_list_py"
   ]
  },
  {
   "cell_type": "code",
   "execution_count": 10,
   "id": "92ad3570-ac5e-4737-8f38-8f1e7a5d6cb5",
   "metadata": {},
   "outputs": [
    {
     "name": "stdout",
     "output_type": "stream",
     "text": [
      "3\n",
      "3\n",
      "3\n",
      "3\n",
      "3\n",
      "4\n",
      "4\n",
      "5\n",
      "1\n",
      "0\n",
      "1\n",
      "1\n",
      "zero_count :  1\n",
      "one_count :  3\n"
     ]
    }
   ],
   "source": [
    "zero_count = 0\n",
    "one_count = 0\n",
    "\n",
    "for txt_file_name in file_list_py:\n",
    "    txt_file = open(txt_file_name, 'r')\n",
    "    while True:\n",
    "        line = txt_file.readline()\n",
    "        if not line:\n",
    "            break\n",
    "        if line[0] == '0':\n",
    "            zero_count += 1\n",
    "        if line[0] == '1':\n",
    "            one_count += 1\n",
    "        print(line[0])\n",
    "    txt_file.close()\n",
    "print(\"zero_count : \", zero_count)\n",
    "print(\"one_count : \", one_count)"
   ]
  },
  {
   "cell_type": "code",
   "execution_count": null,
   "id": "19f48a0a-d5cf-4f0f-b025-ab1e4f039723",
   "metadata": {},
   "outputs": [],
   "source": []
  }
 ],
 "metadata": {
  "kernelspec": {
   "display_name": "Python 3 (ipykernel)",
   "language": "python",
   "name": "python3"
  },
  "language_info": {
   "codemirror_mode": {
    "name": "ipython",
    "version": 3
   },
   "file_extension": ".py",
   "mimetype": "text/x-python",
   "name": "python",
   "nbconvert_exporter": "python",
   "pygments_lexer": "ipython3",
   "version": "3.8.11"
  }
 },
 "nbformat": 4,
 "nbformat_minor": 5
}
