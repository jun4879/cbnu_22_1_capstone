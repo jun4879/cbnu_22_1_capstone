{
 "cells": [
  {
   "cell_type": "code",
   "execution_count": null,
   "id": "d9a909cc-48c0-414c-aef1-eecc8f67dddc",
   "metadata": {},
   "outputs": [],
   "source": [
    "!python train.py --data custom_data.yaml --weights yolov5s.pt"
   ]
  }
 ],
 "metadata": {
  "kernelspec": {
   "display_name": "Python 3 (ipykernel)",
   "language": "python",
   "name": "python3"
  },
  "language_info": {
   "codemirror_mode": {
    "name": "ipython",
    "version": 3
   },
   "file_extension": ".py",
   "mimetype": "text/x-python",
   "name": "python",
   "nbconvert_exporter": "python",
   "pygments_lexer": "ipython3",
   "version": "3.8.5"
  }
 },
 "nbformat": 4,
 "nbformat_minor": 5
}
