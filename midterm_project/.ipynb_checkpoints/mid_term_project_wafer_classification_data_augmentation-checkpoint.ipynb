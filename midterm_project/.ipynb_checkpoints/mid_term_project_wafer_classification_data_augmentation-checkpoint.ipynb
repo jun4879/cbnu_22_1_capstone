{
 "cells": [
  {
   "cell_type": "markdown",
   "id": "0b9d5550",
   "metadata": {},
   "source": [
    "## 불균형 데이터셋에 대한 웨이퍼 불량식별을 위한 CNN\n",
    "- 데이터 전처리\n",
    "    - Data Augmentaion\n",
    "    - 불량 클래스\n",
    "        - Center\n",
    "        - Donut\n",
    "        - Local\n",
    "        - Edge-Loc\n",
    "        - Edge-Ring\n",
    "        - Scratch\n",
    "        - Random\n",
    "        - Near-Full\n",
    "        - None"
   ]
  },
  {
   "cell_type": "markdown",
   "id": "5559bc25",
   "metadata": {},
   "source": [
    "### 데이터 확인사항\n",
    "- waferMap 사이즈를 확인하여 추후 개발할 신경망 모델의 224x224 사이즈에 맞게 resizing 작업이 필요할 것으로 예상됨\n",
    "- augmentaion 작업과 resizing 작업이 한 번에 해결될 수 있도록 전처리하는 것이 좋을 듯"
   ]
  },
  {
   "cell_type": "code",
   "execution_count": 1,
   "id": "04bb8899",
   "metadata": {
    "execution": {
     "iopub.execute_input": "2022-04-11T14:49:51.311512Z",
     "iopub.status.busy": "2022-04-11T14:49:51.311512Z",
     "iopub.status.idle": "2022-04-11T14:49:52.648014Z",
     "shell.execute_reply": "2022-04-11T14:49:52.647389Z",
     "shell.execute_reply.started": "2022-04-11T14:49:51.311512Z"
    },
    "tags": []
   },
   "outputs": [],
   "source": [
    "import numpy as np\n",
    "import pandas as pd\n",
    "import cv2\n",
    "import matplotlib.pyplot as plt\n",
    "import random\n",
    "import pickle"
   ]
  },
  {
   "cell_type": "code",
   "execution_count": 2,
   "id": "a587d219",
   "metadata": {
    "execution": {
     "iopub.execute_input": "2022-04-11T14:49:52.648515Z",
     "iopub.status.busy": "2022-04-11T14:49:52.648515Z",
     "iopub.status.idle": "2022-04-11T14:51:36.940021Z",
     "shell.execute_reply": "2022-04-11T14:51:36.939231Z",
     "shell.execute_reply.started": "2022-04-11T14:49:52.648515Z"
    }
   },
   "outputs": [],
   "source": [
    "wm811k = pd.read_pickle('./data/LSWMD.pkl')"
   ]
  },
  {
   "cell_type": "code",
   "execution_count": 3,
   "id": "1153c96d",
   "metadata": {
    "execution": {
     "iopub.execute_input": "2022-04-11T14:51:36.944054Z",
     "iopub.status.busy": "2022-04-11T14:51:36.943128Z",
     "iopub.status.idle": "2022-04-11T14:51:37.320629Z",
     "shell.execute_reply": "2022-04-11T14:51:37.320130Z",
     "shell.execute_reply.started": "2022-04-11T14:51:36.944054Z"
    }
   },
   "outputs": [
    {
     "data": {
      "text/html": [
       "<div>\n",
       "<style scoped>\n",
       "    .dataframe tbody tr th:only-of-type {\n",
       "        vertical-align: middle;\n",
       "    }\n",
       "\n",
       "    .dataframe tbody tr th {\n",
       "        vertical-align: top;\n",
       "    }\n",
       "\n",
       "    .dataframe thead th {\n",
       "        text-align: right;\n",
       "    }\n",
       "</style>\n",
       "<table border=\"1\" class=\"dataframe\">\n",
       "  <thead>\n",
       "    <tr style=\"text-align: right;\">\n",
       "      <th></th>\n",
       "      <th>waferMap</th>\n",
       "      <th>dieSize</th>\n",
       "      <th>lotName</th>\n",
       "      <th>waferIndex</th>\n",
       "      <th>trianTestLabel</th>\n",
       "      <th>failureType</th>\n",
       "    </tr>\n",
       "  </thead>\n",
       "  <tbody>\n",
       "    <tr>\n",
       "      <th>0</th>\n",
       "      <td>[[0, 0, 0, 0, 0, 0, 0, 0, 0, 0, 0, 0, 0, 0, 0,...</td>\n",
       "      <td>1683.0</td>\n",
       "      <td>lot1</td>\n",
       "      <td>1.0</td>\n",
       "      <td>[[Training]]</td>\n",
       "      <td>[[none]]</td>\n",
       "    </tr>\n",
       "    <tr>\n",
       "      <th>1</th>\n",
       "      <td>[[0, 0, 0, 0, 0, 0, 0, 0, 0, 0, 0, 0, 0, 0, 0,...</td>\n",
       "      <td>1683.0</td>\n",
       "      <td>lot1</td>\n",
       "      <td>2.0</td>\n",
       "      <td>[[Training]]</td>\n",
       "      <td>[[none]]</td>\n",
       "    </tr>\n",
       "    <tr>\n",
       "      <th>2</th>\n",
       "      <td>[[0, 0, 0, 0, 0, 0, 0, 0, 0, 0, 0, 0, 0, 0, 0,...</td>\n",
       "      <td>1683.0</td>\n",
       "      <td>lot1</td>\n",
       "      <td>3.0</td>\n",
       "      <td>[[Training]]</td>\n",
       "      <td>[[none]]</td>\n",
       "    </tr>\n",
       "    <tr>\n",
       "      <th>3</th>\n",
       "      <td>[[0, 0, 0, 0, 0, 0, 0, 0, 0, 0, 0, 0, 0, 0, 0,...</td>\n",
       "      <td>1683.0</td>\n",
       "      <td>lot1</td>\n",
       "      <td>4.0</td>\n",
       "      <td>[[Training]]</td>\n",
       "      <td>[[none]]</td>\n",
       "    </tr>\n",
       "    <tr>\n",
       "      <th>4</th>\n",
       "      <td>[[0, 0, 0, 0, 0, 0, 0, 0, 0, 0, 0, 0, 0, 0, 0,...</td>\n",
       "      <td>1683.0</td>\n",
       "      <td>lot1</td>\n",
       "      <td>5.0</td>\n",
       "      <td>[[Training]]</td>\n",
       "      <td>[[none]]</td>\n",
       "    </tr>\n",
       "  </tbody>\n",
       "</table>\n",
       "</div>"
      ],
      "text/plain": [
       "                                            waferMap  dieSize lotName  \\\n",
       "0  [[0, 0, 0, 0, 0, 0, 0, 0, 0, 0, 0, 0, 0, 0, 0,...   1683.0    lot1   \n",
       "1  [[0, 0, 0, 0, 0, 0, 0, 0, 0, 0, 0, 0, 0, 0, 0,...   1683.0    lot1   \n",
       "2  [[0, 0, 0, 0, 0, 0, 0, 0, 0, 0, 0, 0, 0, 0, 0,...   1683.0    lot1   \n",
       "3  [[0, 0, 0, 0, 0, 0, 0, 0, 0, 0, 0, 0, 0, 0, 0,...   1683.0    lot1   \n",
       "4  [[0, 0, 0, 0, 0, 0, 0, 0, 0, 0, 0, 0, 0, 0, 0,...   1683.0    lot1   \n",
       "\n",
       "   waferIndex trianTestLabel failureType  \n",
       "0         1.0   [[Training]]    [[none]]  \n",
       "1         2.0   [[Training]]    [[none]]  \n",
       "2         3.0   [[Training]]    [[none]]  \n",
       "3         4.0   [[Training]]    [[none]]  \n",
       "4         5.0   [[Training]]    [[none]]  "
      ]
     },
     "execution_count": 3,
     "metadata": {},
     "output_type": "execute_result"
    }
   ],
   "source": [
    "wm811k.head()"
   ]
  },
  {
   "cell_type": "code",
   "execution_count": 4,
   "id": "563276e8",
   "metadata": {
    "execution": {
     "iopub.execute_input": "2022-04-11T14:51:37.322667Z",
     "iopub.status.busy": "2022-04-11T14:51:37.321665Z",
     "iopub.status.idle": "2022-04-11T14:51:37.594134Z",
     "shell.execute_reply": "2022-04-11T14:51:37.593135Z",
     "shell.execute_reply.started": "2022-04-11T14:51:37.322667Z"
    }
   },
   "outputs": [
    {
     "name": "stdout",
     "output_type": "stream",
     "text": [
      "<class 'pandas.core.frame.DataFrame'>\n",
      "RangeIndex: 811457 entries, 0 to 811456\n",
      "Data columns (total 6 columns):\n",
      " #   Column          Non-Null Count   Dtype  \n",
      "---  ------          --------------   -----  \n",
      " 0   waferMap        811457 non-null  object \n",
      " 1   dieSize         811457 non-null  float64\n",
      " 2   lotName         811457 non-null  object \n",
      " 3   waferIndex      811457 non-null  float64\n",
      " 4   trianTestLabel  811457 non-null  object \n",
      " 5   failureType     811457 non-null  object \n",
      "dtypes: float64(2), object(4)\n",
      "memory usage: 37.1+ MB\n"
     ]
    }
   ],
   "source": [
    "wm811k.info()"
   ]
  },
  {
   "cell_type": "code",
   "execution_count": 5,
   "id": "7780abab",
   "metadata": {
    "execution": {
     "iopub.execute_input": "2022-04-11T14:51:37.596311Z",
     "iopub.status.busy": "2022-04-11T14:51:37.595286Z",
     "iopub.status.idle": "2022-04-11T14:51:37.945357Z",
     "shell.execute_reply": "2022-04-11T14:51:37.945018Z",
     "shell.execute_reply.started": "2022-04-11T14:51:37.595286Z"
    }
   },
   "outputs": [
    {
     "data": {
      "text/html": [
       "<div>\n",
       "<style scoped>\n",
       "    .dataframe tbody tr th:only-of-type {\n",
       "        vertical-align: middle;\n",
       "    }\n",
       "\n",
       "    .dataframe tbody tr th {\n",
       "        vertical-align: top;\n",
       "    }\n",
       "\n",
       "    .dataframe thead th {\n",
       "        text-align: right;\n",
       "    }\n",
       "</style>\n",
       "<table border=\"1\" class=\"dataframe\">\n",
       "  <thead>\n",
       "    <tr style=\"text-align: right;\">\n",
       "      <th></th>\n",
       "      <th>waferMap</th>\n",
       "      <th>dieSize</th>\n",
       "      <th>lotName</th>\n",
       "      <th>trianTestLabel</th>\n",
       "      <th>failureType</th>\n",
       "    </tr>\n",
       "  </thead>\n",
       "  <tbody>\n",
       "    <tr>\n",
       "      <th>0</th>\n",
       "      <td>[[0, 0, 0, 0, 0, 0, 0, 0, 0, 0, 0, 0, 0, 0, 0,...</td>\n",
       "      <td>1683.0</td>\n",
       "      <td>lot1</td>\n",
       "      <td>[[Training]]</td>\n",
       "      <td>[[none]]</td>\n",
       "    </tr>\n",
       "    <tr>\n",
       "      <th>1</th>\n",
       "      <td>[[0, 0, 0, 0, 0, 0, 0, 0, 0, 0, 0, 0, 0, 0, 0,...</td>\n",
       "      <td>1683.0</td>\n",
       "      <td>lot1</td>\n",
       "      <td>[[Training]]</td>\n",
       "      <td>[[none]]</td>\n",
       "    </tr>\n",
       "    <tr>\n",
       "      <th>2</th>\n",
       "      <td>[[0, 0, 0, 0, 0, 0, 0, 0, 0, 0, 0, 0, 0, 0, 0,...</td>\n",
       "      <td>1683.0</td>\n",
       "      <td>lot1</td>\n",
       "      <td>[[Training]]</td>\n",
       "      <td>[[none]]</td>\n",
       "    </tr>\n",
       "    <tr>\n",
       "      <th>3</th>\n",
       "      <td>[[0, 0, 0, 0, 0, 0, 0, 0, 0, 0, 0, 0, 0, 0, 0,...</td>\n",
       "      <td>1683.0</td>\n",
       "      <td>lot1</td>\n",
       "      <td>[[Training]]</td>\n",
       "      <td>[[none]]</td>\n",
       "    </tr>\n",
       "    <tr>\n",
       "      <th>4</th>\n",
       "      <td>[[0, 0, 0, 0, 0, 0, 0, 0, 0, 0, 0, 0, 0, 0, 0,...</td>\n",
       "      <td>1683.0</td>\n",
       "      <td>lot1</td>\n",
       "      <td>[[Training]]</td>\n",
       "      <td>[[none]]</td>\n",
       "    </tr>\n",
       "  </tbody>\n",
       "</table>\n",
       "</div>"
      ],
      "text/plain": [
       "                                            waferMap  dieSize lotName  \\\n",
       "0  [[0, 0, 0, 0, 0, 0, 0, 0, 0, 0, 0, 0, 0, 0, 0,...   1683.0    lot1   \n",
       "1  [[0, 0, 0, 0, 0, 0, 0, 0, 0, 0, 0, 0, 0, 0, 0,...   1683.0    lot1   \n",
       "2  [[0, 0, 0, 0, 0, 0, 0, 0, 0, 0, 0, 0, 0, 0, 0,...   1683.0    lot1   \n",
       "3  [[0, 0, 0, 0, 0, 0, 0, 0, 0, 0, 0, 0, 0, 0, 0,...   1683.0    lot1   \n",
       "4  [[0, 0, 0, 0, 0, 0, 0, 0, 0, 0, 0, 0, 0, 0, 0,...   1683.0    lot1   \n",
       "\n",
       "  trianTestLabel failureType  \n",
       "0   [[Training]]    [[none]]  \n",
       "1   [[Training]]    [[none]]  \n",
       "2   [[Training]]    [[none]]  \n",
       "3   [[Training]]    [[none]]  \n",
       "4   [[Training]]    [[none]]  "
      ]
     },
     "execution_count": 5,
     "metadata": {},
     "output_type": "execute_result"
    }
   ],
   "source": [
    "# 불필요 컬럼 제거\n",
    "wm811k = wm811k.drop(['waferIndex'], axis = 1)\n",
    "wm811k.head()"
   ]
  },
  {
   "cell_type": "code",
   "execution_count": 6,
   "id": "6771587b",
   "metadata": {
    "execution": {
     "iopub.execute_input": "2022-04-11T14:51:37.946707Z",
     "iopub.status.busy": "2022-04-11T14:51:37.946205Z",
     "iopub.status.idle": "2022-04-11T14:51:37.959822Z",
     "shell.execute_reply": "2022-04-11T14:51:37.959822Z",
     "shell.execute_reply.started": "2022-04-11T14:51:37.946707Z"
    }
   },
   "outputs": [],
   "source": [
    "# wafermap size 확인 및 컬럼 추가\n",
    "def find_dim(x):\n",
    "    dim0=np.size(x,axis=0)\n",
    "    dim1=np.size(x,axis=1)\n",
    "    return dim0,dim1"
   ]
  },
  {
   "cell_type": "code",
   "execution_count": 7,
   "id": "fbcbfd5a",
   "metadata": {
    "execution": {
     "iopub.execute_input": "2022-04-11T14:51:37.960953Z",
     "iopub.status.busy": "2022-04-11T14:51:37.960953Z",
     "iopub.status.idle": "2022-04-11T14:51:40.909452Z",
     "shell.execute_reply": "2022-04-11T14:51:40.908953Z",
     "shell.execute_reply.started": "2022-04-11T14:51:37.960953Z"
    }
   },
   "outputs": [
    {
     "data": {
      "text/html": [
       "<div>\n",
       "<style scoped>\n",
       "    .dataframe tbody tr th:only-of-type {\n",
       "        vertical-align: middle;\n",
       "    }\n",
       "\n",
       "    .dataframe tbody tr th {\n",
       "        vertical-align: top;\n",
       "    }\n",
       "\n",
       "    .dataframe thead th {\n",
       "        text-align: right;\n",
       "    }\n",
       "</style>\n",
       "<table border=\"1\" class=\"dataframe\">\n",
       "  <thead>\n",
       "    <tr style=\"text-align: right;\">\n",
       "      <th></th>\n",
       "      <th>waferMap</th>\n",
       "      <th>dieSize</th>\n",
       "      <th>lotName</th>\n",
       "      <th>trianTestLabel</th>\n",
       "      <th>failureType</th>\n",
       "      <th>waferMapDim</th>\n",
       "    </tr>\n",
       "  </thead>\n",
       "  <tbody>\n",
       "    <tr>\n",
       "      <th>0</th>\n",
       "      <td>[[0, 0, 0, 0, 0, 0, 0, 0, 0, 0, 0, 0, 0, 0, 0,...</td>\n",
       "      <td>1683.0</td>\n",
       "      <td>lot1</td>\n",
       "      <td>[[Training]]</td>\n",
       "      <td>[[none]]</td>\n",
       "      <td>(45, 48)</td>\n",
       "    </tr>\n",
       "    <tr>\n",
       "      <th>1</th>\n",
       "      <td>[[0, 0, 0, 0, 0, 0, 0, 0, 0, 0, 0, 0, 0, 0, 0,...</td>\n",
       "      <td>1683.0</td>\n",
       "      <td>lot1</td>\n",
       "      <td>[[Training]]</td>\n",
       "      <td>[[none]]</td>\n",
       "      <td>(45, 48)</td>\n",
       "    </tr>\n",
       "    <tr>\n",
       "      <th>2</th>\n",
       "      <td>[[0, 0, 0, 0, 0, 0, 0, 0, 0, 0, 0, 0, 0, 0, 0,...</td>\n",
       "      <td>1683.0</td>\n",
       "      <td>lot1</td>\n",
       "      <td>[[Training]]</td>\n",
       "      <td>[[none]]</td>\n",
       "      <td>(45, 48)</td>\n",
       "    </tr>\n",
       "    <tr>\n",
       "      <th>3</th>\n",
       "      <td>[[0, 0, 0, 0, 0, 0, 0, 0, 0, 0, 0, 0, 0, 0, 0,...</td>\n",
       "      <td>1683.0</td>\n",
       "      <td>lot1</td>\n",
       "      <td>[[Training]]</td>\n",
       "      <td>[[none]]</td>\n",
       "      <td>(45, 48)</td>\n",
       "    </tr>\n",
       "    <tr>\n",
       "      <th>4</th>\n",
       "      <td>[[0, 0, 0, 0, 0, 0, 0, 0, 0, 0, 0, 0, 0, 0, 0,...</td>\n",
       "      <td>1683.0</td>\n",
       "      <td>lot1</td>\n",
       "      <td>[[Training]]</td>\n",
       "      <td>[[none]]</td>\n",
       "      <td>(45, 48)</td>\n",
       "    </tr>\n",
       "  </tbody>\n",
       "</table>\n",
       "</div>"
      ],
      "text/plain": [
       "                                            waferMap  dieSize lotName  \\\n",
       "0  [[0, 0, 0, 0, 0, 0, 0, 0, 0, 0, 0, 0, 0, 0, 0,...   1683.0    lot1   \n",
       "1  [[0, 0, 0, 0, 0, 0, 0, 0, 0, 0, 0, 0, 0, 0, 0,...   1683.0    lot1   \n",
       "2  [[0, 0, 0, 0, 0, 0, 0, 0, 0, 0, 0, 0, 0, 0, 0,...   1683.0    lot1   \n",
       "3  [[0, 0, 0, 0, 0, 0, 0, 0, 0, 0, 0, 0, 0, 0, 0,...   1683.0    lot1   \n",
       "4  [[0, 0, 0, 0, 0, 0, 0, 0, 0, 0, 0, 0, 0, 0, 0,...   1683.0    lot1   \n",
       "\n",
       "  trianTestLabel failureType waferMapDim  \n",
       "0   [[Training]]    [[none]]    (45, 48)  \n",
       "1   [[Training]]    [[none]]    (45, 48)  \n",
       "2   [[Training]]    [[none]]    (45, 48)  \n",
       "3   [[Training]]    [[none]]    (45, 48)  \n",
       "4   [[Training]]    [[none]]    (45, 48)  "
      ]
     },
     "execution_count": 7,
     "metadata": {},
     "output_type": "execute_result"
    }
   ],
   "source": [
    "wm811k['waferMapDim']=wm811k['waferMap'].apply(find_dim)\n",
    "wm811k.head()"
   ]
  },
  {
   "cell_type": "code",
   "execution_count": 8,
   "id": "e4f2422f",
   "metadata": {
    "execution": {
     "iopub.execute_input": "2022-04-11T14:51:40.909951Z",
     "iopub.status.busy": "2022-04-11T14:51:40.909951Z",
     "iopub.status.idle": "2022-04-11T14:52:09.450834Z",
     "shell.execute_reply": "2022-04-11T14:52:09.450192Z",
     "shell.execute_reply.started": "2022-04-11T14:51:40.909951Z"
    }
   },
   "outputs": [
    {
     "name": "stderr",
     "output_type": "stream",
     "text": [
      "C:\\Users\\kjt\\Anaconda3\\envs\\dlit\\lib\\site-packages\\pandas\\core\\array_algos\\replace.py:60: FutureWarning: elementwise comparison failed; returning scalar instead, but in the future will perform elementwise comparison\n",
      "  op = lambda x: operator.eq(x, b)\n"
     ]
    },
    {
     "data": {
      "text/html": [
       "<div>\n",
       "<style scoped>\n",
       "    .dataframe tbody tr th:only-of-type {\n",
       "        vertical-align: middle;\n",
       "    }\n",
       "\n",
       "    .dataframe tbody tr th {\n",
       "        vertical-align: top;\n",
       "    }\n",
       "\n",
       "    .dataframe thead th {\n",
       "        text-align: right;\n",
       "    }\n",
       "</style>\n",
       "<table border=\"1\" class=\"dataframe\">\n",
       "  <thead>\n",
       "    <tr style=\"text-align: right;\">\n",
       "      <th></th>\n",
       "      <th>waferMap</th>\n",
       "      <th>dieSize</th>\n",
       "      <th>lotName</th>\n",
       "      <th>trianTestLabel</th>\n",
       "      <th>failureType</th>\n",
       "      <th>waferMapDim</th>\n",
       "      <th>failureNum</th>\n",
       "      <th>trainTestNum</th>\n",
       "    </tr>\n",
       "  </thead>\n",
       "  <tbody>\n",
       "    <tr>\n",
       "      <th>0</th>\n",
       "      <td>[[0, 0, 0, 0, 0, 0, 0, 0, 0, 0, 0, 0, 0, 0, 0,...</td>\n",
       "      <td>1683.0</td>\n",
       "      <td>lot1</td>\n",
       "      <td>[[Training]]</td>\n",
       "      <td>[[none]]</td>\n",
       "      <td>(45, 48)</td>\n",
       "      <td>8</td>\n",
       "      <td>0</td>\n",
       "    </tr>\n",
       "    <tr>\n",
       "      <th>1</th>\n",
       "      <td>[[0, 0, 0, 0, 0, 0, 0, 0, 0, 0, 0, 0, 0, 0, 0,...</td>\n",
       "      <td>1683.0</td>\n",
       "      <td>lot1</td>\n",
       "      <td>[[Training]]</td>\n",
       "      <td>[[none]]</td>\n",
       "      <td>(45, 48)</td>\n",
       "      <td>8</td>\n",
       "      <td>0</td>\n",
       "    </tr>\n",
       "    <tr>\n",
       "      <th>2</th>\n",
       "      <td>[[0, 0, 0, 0, 0, 0, 0, 0, 0, 0, 0, 0, 0, 0, 0,...</td>\n",
       "      <td>1683.0</td>\n",
       "      <td>lot1</td>\n",
       "      <td>[[Training]]</td>\n",
       "      <td>[[none]]</td>\n",
       "      <td>(45, 48)</td>\n",
       "      <td>8</td>\n",
       "      <td>0</td>\n",
       "    </tr>\n",
       "    <tr>\n",
       "      <th>3</th>\n",
       "      <td>[[0, 0, 0, 0, 0, 0, 0, 0, 0, 0, 0, 0, 0, 0, 0,...</td>\n",
       "      <td>1683.0</td>\n",
       "      <td>lot1</td>\n",
       "      <td>[[Training]]</td>\n",
       "      <td>[[none]]</td>\n",
       "      <td>(45, 48)</td>\n",
       "      <td>8</td>\n",
       "      <td>0</td>\n",
       "    </tr>\n",
       "    <tr>\n",
       "      <th>4</th>\n",
       "      <td>[[0, 0, 0, 0, 0, 0, 0, 0, 0, 0, 0, 0, 0, 0, 0,...</td>\n",
       "      <td>1683.0</td>\n",
       "      <td>lot1</td>\n",
       "      <td>[[Training]]</td>\n",
       "      <td>[[none]]</td>\n",
       "      <td>(45, 48)</td>\n",
       "      <td>8</td>\n",
       "      <td>0</td>\n",
       "    </tr>\n",
       "  </tbody>\n",
       "</table>\n",
       "</div>"
      ],
      "text/plain": [
       "                                            waferMap  dieSize lotName  \\\n",
       "0  [[0, 0, 0, 0, 0, 0, 0, 0, 0, 0, 0, 0, 0, 0, 0,...   1683.0    lot1   \n",
       "1  [[0, 0, 0, 0, 0, 0, 0, 0, 0, 0, 0, 0, 0, 0, 0,...   1683.0    lot1   \n",
       "2  [[0, 0, 0, 0, 0, 0, 0, 0, 0, 0, 0, 0, 0, 0, 0,...   1683.0    lot1   \n",
       "3  [[0, 0, 0, 0, 0, 0, 0, 0, 0, 0, 0, 0, 0, 0, 0,...   1683.0    lot1   \n",
       "4  [[0, 0, 0, 0, 0, 0, 0, 0, 0, 0, 0, 0, 0, 0, 0,...   1683.0    lot1   \n",
       "\n",
       "  trianTestLabel failureType waferMapDim failureNum trainTestNum  \n",
       "0   [[Training]]    [[none]]    (45, 48)          8            0  \n",
       "1   [[Training]]    [[none]]    (45, 48)          8            0  \n",
       "2   [[Training]]    [[none]]    (45, 48)          8            0  \n",
       "3   [[Training]]    [[none]]    (45, 48)          8            0  \n",
       "4   [[Training]]    [[none]]    (45, 48)          8            0  "
      ]
     },
     "execution_count": 8,
     "metadata": {},
     "output_type": "execute_result"
    }
   ],
   "source": [
    "# 불량 클래스 확인 및 학습/검증/테스트 데이터 셋 확인\n",
    "wm811k['failureNum']=wm811k['failureType']\n",
    "wm811k['trainTestNum']=wm811k['trianTestLabel']\n",
    "mapping_type={'Center':0,'Donut':1,'Edge-Loc':2,'Edge-Ring':3,'Loc':4,'Random':5,'Scratch':6,'Near-full':7,'none':8}\n",
    "mapping_traintest={'Training':0,'Test':1}\n",
    "wm811k=wm811k.replace({'failureNum':mapping_type, 'trainTestNum':mapping_traintest})\n",
    "wm811k.head()"
   ]
  },
  {
   "cell_type": "code",
   "execution_count": 9,
   "id": "4fe4eb3c",
   "metadata": {
    "execution": {
     "iopub.execute_input": "2022-04-11T14:52:09.452848Z",
     "iopub.status.busy": "2022-04-11T14:52:09.452848Z",
     "iopub.status.idle": "2022-04-11T14:52:18.507548Z",
     "shell.execute_reply": "2022-04-11T14:52:18.506157Z",
     "shell.execute_reply.started": "2022-04-11T14:52:09.452848Z"
    }
   },
   "outputs": [
    {
     "data": {
      "text/plain": [
       "[]                638507\n",
       "[['Test']]        118595\n",
       "[['Training']]     54355\n",
       "Name: trianTestLabel, dtype: int64"
      ]
     },
     "execution_count": 9,
     "metadata": {},
     "output_type": "execute_result"
    }
   ],
   "source": [
    "wm811k['trianTestLabel'].apply(lambda x: str(x)).value_counts()"
   ]
  },
  {
   "cell_type": "code",
   "execution_count": 10,
   "id": "7a4ec88d",
   "metadata": {
    "execution": {
     "iopub.execute_input": "2022-04-11T14:52:18.509347Z",
     "iopub.status.busy": "2022-04-11T14:52:18.508882Z",
     "iopub.status.idle": "2022-04-11T14:52:23.038225Z",
     "shell.execute_reply": "2022-04-11T14:52:23.037726Z",
     "shell.execute_reply.started": "2022-04-11T14:52:18.509347Z"
    }
   },
   "outputs": [
    {
     "data": {
      "text/plain": [
       "[]    638507\n",
       "1     118595\n",
       "0      54355\n",
       "Name: trainTestNum, dtype: int64"
      ]
     },
     "execution_count": 10,
     "metadata": {},
     "output_type": "execute_result"
    }
   ],
   "source": [
    "wm811k['trainTestNum'].apply(lambda x: str(x)).value_counts()"
   ]
  },
  {
   "cell_type": "code",
   "execution_count": 11,
   "id": "02c6ee4d",
   "metadata": {
    "execution": {
     "iopub.execute_input": "2022-04-11T14:52:23.040252Z",
     "iopub.status.busy": "2022-04-11T14:52:23.039253Z",
     "iopub.status.idle": "2022-04-11T14:52:27.407567Z",
     "shell.execute_reply": "2022-04-11T14:52:27.407069Z",
     "shell.execute_reply.started": "2022-04-11T14:52:23.040252Z"
    }
   },
   "outputs": [],
   "source": [
    "wm811k_train = wm811k.query(\"trainTestNum == 0\")"
   ]
  },
  {
   "cell_type": "code",
   "execution_count": 12,
   "id": "d9a09207",
   "metadata": {
    "execution": {
     "iopub.execute_input": "2022-04-11T14:52:27.411606Z",
     "iopub.status.busy": "2022-04-11T14:52:27.411606Z",
     "iopub.status.idle": "2022-04-11T14:52:27.484601Z",
     "shell.execute_reply": "2022-04-11T14:52:27.483638Z",
     "shell.execute_reply.started": "2022-04-11T14:52:27.411606Z"
    }
   },
   "outputs": [
    {
     "name": "stdout",
     "output_type": "stream",
     "text": [
      "<class 'pandas.core.frame.DataFrame'>\n",
      "Int64Index: 54355 entries, 0 to 791476\n",
      "Data columns (total 8 columns):\n",
      " #   Column          Non-Null Count  Dtype  \n",
      "---  ------          --------------  -----  \n",
      " 0   waferMap        54355 non-null  object \n",
      " 1   dieSize         54355 non-null  float64\n",
      " 2   lotName         54355 non-null  object \n",
      " 3   trianTestLabel  54355 non-null  object \n",
      " 4   failureType     54355 non-null  object \n",
      " 5   waferMapDim     54355 non-null  object \n",
      " 6   failureNum      54355 non-null  object \n",
      " 7   trainTestNum    54355 non-null  object \n",
      "dtypes: float64(1), object(7)\n",
      "memory usage: 3.7+ MB\n"
     ]
    }
   ],
   "source": [
    "wm811k_train.info()"
   ]
  },
  {
   "cell_type": "code",
   "execution_count": 13,
   "id": "5476ff5d",
   "metadata": {
    "execution": {
     "iopub.execute_input": "2022-04-11T14:52:27.485104Z",
     "iopub.status.busy": "2022-04-11T14:52:27.485104Z",
     "iopub.status.idle": "2022-04-11T14:52:27.514554Z",
     "shell.execute_reply": "2022-04-11T14:52:27.514052Z",
     "shell.execute_reply.started": "2022-04-11T14:52:27.485104Z"
    },
    "tags": []
   },
   "outputs": [
    {
     "data": {
      "text/plain": [
       "8    36730\n",
       "3     8554\n",
       "0     3462\n",
       "2     2417\n",
       "4     1620\n",
       "5      609\n",
       "6      500\n",
       "1      409\n",
       "7       54\n",
       "Name: failureNum, dtype: int64"
      ]
     },
     "execution_count": 13,
     "metadata": {},
     "output_type": "execute_result"
    }
   ],
   "source": [
    "# 학습 데이터 내 불량 클래스 개수 확인\n",
    "wm811k_train['failureNum'].value_counts()"
   ]
  },
  {
   "cell_type": "markdown",
   "id": "eeeea69d",
   "metadata": {},
   "source": [
    "### waferMap size 확인\n",
    "- data print 결과 빈 부분은 0, 정상 pixel은 1, 불량 pixel은 2로 표현되어있는 듯\n",
    "    - input shape 맞출 때 0으로 padding 주듯이 채우면 될 듯\n",
    "- 예상 전처리 과정 : 기존 데이터에 data augmentaion 적용 $ \\rightarrow $ 변형 데이터에 224x224 size zero_padding $ \\rightarrow $ input data"
   ]
  },
  {
   "cell_type": "code",
   "execution_count": 14,
   "id": "9b4488fe",
   "metadata": {
    "execution": {
     "iopub.execute_input": "2022-04-11T14:52:27.515682Z",
     "iopub.status.busy": "2022-04-11T14:52:27.515682Z",
     "iopub.status.idle": "2022-04-11T14:52:27.561304Z",
     "shell.execute_reply": "2022-04-11T14:52:27.560249Z",
     "shell.execute_reply.started": "2022-04-11T14:52:27.515682Z"
    },
    "tags": []
   },
   "outputs": [],
   "source": [
    "# pd.set_option('display.max_columns', None)\n",
    "# pd.set_option('display.max_rows', None)"
   ]
  },
  {
   "cell_type": "code",
   "execution_count": 15,
   "id": "fede7a2a",
   "metadata": {
    "execution": {
     "iopub.execute_input": "2022-04-11T14:52:27.561304Z",
     "iopub.status.busy": "2022-04-11T14:52:27.561304Z",
     "iopub.status.idle": "2022-04-11T14:52:27.590886Z",
     "shell.execute_reply": "2022-04-11T14:52:27.590258Z",
     "shell.execute_reply.started": "2022-04-11T14:52:27.561304Z"
    },
    "tags": []
   },
   "outputs": [],
   "source": [
    "# 데이터 형태 출력\n",
    "# for i in range(len(wm811k.iloc[0]['waferMap'])):\n",
    "#     print(wm811k.iloc[0]['waferMap'][i])"
   ]
  },
  {
   "cell_type": "code",
   "execution_count": 16,
   "id": "b8ba2e2d",
   "metadata": {
    "execution": {
     "iopub.execute_input": "2022-04-11T14:52:27.591924Z",
     "iopub.status.busy": "2022-04-11T14:52:27.590886Z",
     "iopub.status.idle": "2022-04-11T14:52:27.636737Z",
     "shell.execute_reply": "2022-04-11T14:52:27.636219Z",
     "shell.execute_reply.started": "2022-04-11T14:52:27.591924Z"
    },
    "tags": []
   },
   "outputs": [
    {
     "data": {
      "text/plain": [
       "8    36730\n",
       "3     8554\n",
       "0     3462\n",
       "2     2417\n",
       "4     1620\n",
       "5      609\n",
       "6      500\n",
       "1      409\n",
       "7       54\n",
       "Name: failureNum, dtype: int64"
      ]
     },
     "execution_count": 16,
     "metadata": {},
     "output_type": "execute_result"
    }
   ],
   "source": [
    "# 학습 데이터 내 불량 클래스 개수 확인\n",
    "wm811k_train['failureNum'].value_counts()"
   ]
  },
  {
   "cell_type": "markdown",
   "id": "aa9411f8",
   "metadata": {},
   "source": [
    "### Augmentation 구현\n",
    "- 기법 별로 함수 작성\n",
    "- 비율 개수만큼 sampling\n",
    "- sampling 데이터에 작성한 기법별 함수 적용\n",
    "- waferMapDim 확인 / waferMap 이미지 부분 잘리거나 한 부분 없게끔 적용되게 확인 : 미리 padding 주기?\n",
    "- data concat"
   ]
  },
  {
   "cell_type": "markdown",
   "id": "73a5289d",
   "metadata": {},
   "source": [
    "- 10도 회전\n",
    "    - 참고 : https://076923.github.io/posts/Python-opencv-6/"
   ]
  },
  {
   "cell_type": "code",
   "execution_count": 17,
   "id": "6c2b3055",
   "metadata": {
    "execution": {
     "iopub.execute_input": "2022-04-11T14:52:27.637761Z",
     "iopub.status.busy": "2022-04-11T14:52:27.637761Z",
     "iopub.status.idle": "2022-04-11T14:52:27.668595Z",
     "shell.execute_reply": "2022-04-11T14:52:27.667282Z",
     "shell.execute_reply.started": "2022-04-11T14:52:27.637761Z"
    }
   },
   "outputs": [],
   "source": [
    "def test_rotation_10_degree(data_img):\n",
    "    height, width = data_img.shape\n",
    "    # positive for anti-clockwise and negative for clockwise\n",
    "    rotation_10_degree_img = cv2.getRotationMatrix2D((width/2, height/2), 10, 1) # 중심점, 각도, 배율\n",
    "    dst = cv2.warpAffine(data_img, rotation_10_degree_img, (width,height))\n",
    "    return dst"
   ]
  },
  {
   "cell_type": "code",
   "execution_count": 18,
   "id": "5058648e",
   "metadata": {
    "execution": {
     "iopub.execute_input": "2022-04-11T14:52:27.670357Z",
     "iopub.status.busy": "2022-04-11T14:52:27.670104Z",
     "iopub.status.idle": "2022-04-11T14:52:27.714086Z",
     "shell.execute_reply": "2022-04-11T14:52:27.713591Z",
     "shell.execute_reply.started": "2022-04-11T14:52:27.670357Z"
    }
   },
   "outputs": [],
   "source": [
    "def test_rotation_minus_10_degree(data_img):\n",
    "    height, width = data_img.shape\n",
    "    # positive for anti-clockwise and negative for clockwise\n",
    "    rotation_10_degree_img = cv2.getRotationMatrix2D((width/2, height/2), -10, 1) # 중심점, 각도, 배율\n",
    "    dst = cv2.warpAffine(data_img, rotation_10_degree_img, (width,height))\n",
    "    return dst"
   ]
  },
  {
   "cell_type": "code",
   "execution_count": 19,
   "id": "3d2d8286",
   "metadata": {
    "execution": {
     "iopub.execute_input": "2022-04-11T14:52:27.715099Z",
     "iopub.status.busy": "2022-04-11T14:52:27.715099Z",
     "iopub.status.idle": "2022-04-11T14:52:27.730260Z",
     "shell.execute_reply": "2022-04-11T14:52:27.729758Z",
     "shell.execute_reply.started": "2022-04-11T14:52:27.715099Z"
    }
   },
   "outputs": [],
   "source": [
    "# 회전 변환 다른 라이브러리 활용하는 방법 참고\n",
    "# from scipy.ndimage.interpolation import rotate\n",
    "# rotated = rotate(test_wafermap.iloc[3][\"waferMap\"], angle=10,reshape=False)\n",
    "# plt.imshow(rotated)\n",
    "# plt.show()"
   ]
  },
  {
   "cell_type": "markdown",
   "id": "8f3eaf92",
   "metadata": {},
   "source": [
    "- 좌우 대칭 및 너비 이동(horizontal flipping and width shift)\n",
    "    - cv2.flip : https://crmn.tistory.com/54\n",
    "        - flip_img = cv2.flip(data_img, 1) # 1:좌우반전, 0:상하반전 \n",
    "    - translate : https://m.blog.naver.com/PostView.naver?isHttpsRedirect=true&blogId=vps32&logNo=221762189533\n",
    "        - width shift\n",
    "        - height shift"
   ]
  },
  {
   "cell_type": "code",
   "execution_count": 20,
   "id": "bb57b0d4",
   "metadata": {
    "execution": {
     "iopub.execute_input": "2022-04-11T14:52:27.732288Z",
     "iopub.status.busy": "2022-04-11T14:52:27.731287Z",
     "iopub.status.idle": "2022-04-11T14:52:27.760742Z",
     "shell.execute_reply": "2022-04-11T14:52:27.760243Z",
     "shell.execute_reply.started": "2022-04-11T14:52:27.732288Z"
    }
   },
   "outputs": [],
   "source": [
    "def test_translate(data_img):\n",
    "    height, width = data_img.shape\n",
    "    # random ~ 범위 지정하여 함수 실행 시 마다 무작위로 평행이동 정도 부여하게끔 수정 필요\n",
    "    # 224x224 size 안에서 이동하도록 코딩 필요\n",
    "    translate_matrix = np.float32([[1,0,10], [0,1,5]]) # 세로 10, 가로 5 만큼 평행 이동 \n",
    "    dst = cv2.warpAffine(data_img, translate_matrix, (width,height))\n",
    "    return dst"
   ]
  },
  {
   "cell_type": "markdown",
   "id": "aca3a998",
   "metadata": {},
   "source": [
    "- 전단 범위(shearing range)\n",
    "    - https://www.thepythoncode.com/article/image-transformations-using-opencv-in-python\n",
    "    - https://stackoverflow.com/questions/57881430/how-could-i-implement-a-centered-shear-an-image-with-opencv"
   ]
  },
  {
   "cell_type": "code",
   "execution_count": 21,
   "id": "8fbb1bdb",
   "metadata": {
    "execution": {
     "iopub.execute_input": "2022-04-11T14:52:27.761240Z",
     "iopub.status.busy": "2022-04-11T14:52:27.761240Z",
     "iopub.status.idle": "2022-04-11T14:52:27.791380Z",
     "shell.execute_reply": "2022-04-11T14:52:27.790738Z",
     "shell.execute_reply.started": "2022-04-11T14:52:27.761240Z"
    }
   },
   "outputs": [],
   "source": [
    "def test_shearing(data_img):\n",
    "    height, width = data_img.shape\n",
    "    # random ~ 범위 지정하여 함수 실행 시 마다 x축, y축 shearing 정도 부여하게끔 수정 필요\n",
    "    shearing_matrix = np.float32([[1, 0.5, 0],    # shearing applied to y-axis\n",
    "             \t                  [0, 1  , 0],    # M = np.float32([[1,   0, 0],\n",
    "            \t                  [0, 0  , 1]])   #             \t[0.5, 1, 0],\n",
    "                                                  #             \t[0,   0, 1]])  \n",
    "    # apply a perspective transformation to the image                \n",
    "    dst = cv2.warpPerspective(data_img, shearing_matrix, (int(width*1.5),int(height*1.5)))                      \n",
    "    # 변형 이미지 중심 보정?\n",
    "    return dst"
   ]
  },
  {
   "cell_type": "markdown",
   "id": "a958a30d",
   "metadata": {},
   "source": [
    "- 채널이동 및 확대 축소(channel shift and zooming)\n",
    "    - 단일 채널 이미지라 channel shift는 적용 안 될 것 같음\n",
    "    - zoom : https://076923.github.io/posts/Python-opencv-7/\n",
    "    - cv2.resize 함수 참고\n",
    "        - 참고 : https://seokii.tistory.com/14"
   ]
  },
  {
   "cell_type": "code",
   "execution_count": 22,
   "id": "0b87fa8d",
   "metadata": {
    "execution": {
     "iopub.execute_input": "2022-04-11T14:52:27.793419Z",
     "iopub.status.busy": "2022-04-11T14:52:27.792414Z",
     "iopub.status.idle": "2022-04-11T14:52:27.822485Z",
     "shell.execute_reply": "2022-04-11T14:52:27.821984Z",
     "shell.execute_reply.started": "2022-04-11T14:52:27.792414Z"
    }
   },
   "outputs": [],
   "source": [
    "def test_zoom(data_img):\n",
    "    height, width = data_img.shape\n",
    "    # 2배 확대 이미지 / 가로 세로 값이 조건에 맞으면 dstsize로 값 부여하여 세밀 조정 가능\n",
    "    # 224x224 size 안에서 2배 확대 가능하도록 코딩 필요\n",
    "    dst = cv2.pyrUp(data_img, dstsize=(width * 2, height * 2), borderType=cv2.BORDER_DEFAULT)\n",
    "    return dst"
   ]
  },
  {
   "cell_type": "markdown",
   "id": "66a3502b",
   "metadata": {},
   "source": [
    "- test"
   ]
  },
  {
   "cell_type": "code",
   "execution_count": 23,
   "id": "01f00f7b",
   "metadata": {
    "execution": {
     "iopub.execute_input": "2022-04-11T14:52:27.824613Z",
     "iopub.status.busy": "2022-04-11T14:52:27.824613Z",
     "iopub.status.idle": "2022-04-11T14:52:27.898613Z",
     "shell.execute_reply": "2022-04-11T14:52:27.898481Z",
     "shell.execute_reply.started": "2022-04-11T14:52:27.824613Z"
    }
   },
   "outputs": [],
   "source": [
    "test_wafermap = wm811k_train.query(\"failureNum == 6\").sample(n=5)"
   ]
  },
  {
   "cell_type": "code",
   "execution_count": 24,
   "id": "62287e60",
   "metadata": {
    "execution": {
     "iopub.execute_input": "2022-04-11T14:52:27.901657Z",
     "iopub.status.busy": "2022-04-11T14:52:27.900658Z",
     "iopub.status.idle": "2022-04-11T14:52:28.635290Z",
     "shell.execute_reply": "2022-04-11T14:52:28.634790Z",
     "shell.execute_reply.started": "2022-04-11T14:52:27.901657Z"
    }
   },
   "outputs": [
    {
     "data": {
      "text/html": [
       "<div>\n",
       "<style scoped>\n",
       "    .dataframe tbody tr th:only-of-type {\n",
       "        vertical-align: middle;\n",
       "    }\n",
       "\n",
       "    .dataframe tbody tr th {\n",
       "        vertical-align: top;\n",
       "    }\n",
       "\n",
       "    .dataframe thead th {\n",
       "        text-align: right;\n",
       "    }\n",
       "</style>\n",
       "<table border=\"1\" class=\"dataframe\">\n",
       "  <thead>\n",
       "    <tr style=\"text-align: right;\">\n",
       "      <th></th>\n",
       "      <th>waferMap</th>\n",
       "      <th>dieSize</th>\n",
       "      <th>lotName</th>\n",
       "      <th>trianTestLabel</th>\n",
       "      <th>failureType</th>\n",
       "      <th>waferMapDim</th>\n",
       "      <th>failureNum</th>\n",
       "      <th>trainTestNum</th>\n",
       "    </tr>\n",
       "  </thead>\n",
       "  <tbody>\n",
       "    <tr>\n",
       "      <th>289168</th>\n",
       "      <td>[[0, 0, 0, 0, 0, 0, 0, 0, 0, 0, 0, 0, 0, 0, 0,...</td>\n",
       "      <td>2393.0</td>\n",
       "      <td>lot17691</td>\n",
       "      <td>[[Training]]</td>\n",
       "      <td>[[Scratch]]</td>\n",
       "      <td>(52, 59)</td>\n",
       "      <td>6</td>\n",
       "      <td>0</td>\n",
       "    </tr>\n",
       "    <tr>\n",
       "      <th>177975</th>\n",
       "      <td>[[0, 0, 0, 0, 0, 0, 0, 0, 0, 0, 0, 0, 0, 0, 0,...</td>\n",
       "      <td>2393.0</td>\n",
       "      <td>lot11405</td>\n",
       "      <td>[[Training]]</td>\n",
       "      <td>[[Scratch]]</td>\n",
       "      <td>(52, 59)</td>\n",
       "      <td>6</td>\n",
       "      <td>0</td>\n",
       "    </tr>\n",
       "    <tr>\n",
       "      <th>270598</th>\n",
       "      <td>[[0, 0, 0, 0, 0, 0, 0, 0, 0, 0, 0, 0, 0, 0, 0,...</td>\n",
       "      <td>15550.0</td>\n",
       "      <td>lot16687</td>\n",
       "      <td>[[Training]]</td>\n",
       "      <td>[[Scratch]]</td>\n",
       "      <td>(135, 146)</td>\n",
       "      <td>6</td>\n",
       "      <td>0</td>\n",
       "    </tr>\n",
       "    <tr>\n",
       "      <th>282591</th>\n",
       "      <td>[[0, 0, 0, 0, 0, 0, 0, 0, 0, 0, 0, 0, 0, 0, 0,...</td>\n",
       "      <td>13301.0</td>\n",
       "      <td>lot17291</td>\n",
       "      <td>[[Training]]</td>\n",
       "      <td>[[Scratch]]</td>\n",
       "      <td>(116, 146)</td>\n",
       "      <td>6</td>\n",
       "      <td>0</td>\n",
       "    </tr>\n",
       "    <tr>\n",
       "      <th>136626</th>\n",
       "      <td>[[0, 0, 0, 0, 0, 0, 0, 0, 0, 0, 0, 0, 0, 0, 0,...</td>\n",
       "      <td>1801.0</td>\n",
       "      <td>lot8901</td>\n",
       "      <td>[[Training]]</td>\n",
       "      <td>[[Scratch]]</td>\n",
       "      <td>(56, 41)</td>\n",
       "      <td>6</td>\n",
       "      <td>0</td>\n",
       "    </tr>\n",
       "  </tbody>\n",
       "</table>\n",
       "</div>"
      ],
      "text/plain": [
       "                                                 waferMap  dieSize   lotName  \\\n",
       "289168  [[0, 0, 0, 0, 0, 0, 0, 0, 0, 0, 0, 0, 0, 0, 0,...   2393.0  lot17691   \n",
       "177975  [[0, 0, 0, 0, 0, 0, 0, 0, 0, 0, 0, 0, 0, 0, 0,...   2393.0  lot11405   \n",
       "270598  [[0, 0, 0, 0, 0, 0, 0, 0, 0, 0, 0, 0, 0, 0, 0,...  15550.0  lot16687   \n",
       "282591  [[0, 0, 0, 0, 0, 0, 0, 0, 0, 0, 0, 0, 0, 0, 0,...  13301.0  lot17291   \n",
       "136626  [[0, 0, 0, 0, 0, 0, 0, 0, 0, 0, 0, 0, 0, 0, 0,...   1801.0   lot8901   \n",
       "\n",
       "       trianTestLabel  failureType waferMapDim failureNum trainTestNum  \n",
       "289168   [[Training]]  [[Scratch]]    (52, 59)          6            0  \n",
       "177975   [[Training]]  [[Scratch]]    (52, 59)          6            0  \n",
       "270598   [[Training]]  [[Scratch]]  (135, 146)          6            0  \n",
       "282591   [[Training]]  [[Scratch]]  (116, 146)          6            0  \n",
       "136626   [[Training]]  [[Scratch]]    (56, 41)          6            0  "
      ]
     },
     "execution_count": 24,
     "metadata": {},
     "output_type": "execute_result"
    }
   ],
   "source": [
    "test_wafermap.head()"
   ]
  },
  {
   "cell_type": "code",
   "execution_count": 25,
   "id": "8e76f4fc",
   "metadata": {
    "execution": {
     "iopub.execute_input": "2022-04-11T14:52:28.636506Z",
     "iopub.status.busy": "2022-04-11T14:52:28.636506Z",
     "iopub.status.idle": "2022-04-11T14:52:28.959024Z",
     "shell.execute_reply": "2022-04-11T14:52:28.958410Z",
     "shell.execute_reply.started": "2022-04-11T14:52:28.636506Z"
    }
   },
   "outputs": [
    {
     "data": {
      "image/png": "[encoded data removed]",
      "text/plain": [
       "<Figure size 432x288 with 1 Axes>"
      ]
     },
     "metadata": {
      "needs_background": "light"
     },
     "output_type": "display_data"
    }
   ],
   "source": [
    "test_img = test_wafermap.iloc[3][\"waferMap\"]\n",
    "plt.imshow(test_img)\n",
    "plt.show()"
   ]
  },
  {
   "cell_type": "code",
   "execution_count": 26,
   "id": "09613224",
   "metadata": {
    "execution": {
     "iopub.execute_input": "2022-04-11T14:52:28.960044Z",
     "iopub.status.busy": "2022-04-11T14:52:28.960044Z",
     "iopub.status.idle": "2022-04-11T14:52:29.186208Z",
     "shell.execute_reply": "2022-04-11T14:52:29.185208Z",
     "shell.execute_reply.started": "2022-04-11T14:52:28.960044Z"
    }
   },
   "outputs": [
    {
     "data": {
      "image/png": "[encoded data removed]",
      "text/plain": [
       "<Figure size 432x288 with 1 Axes>"
      ]
     },
     "metadata": {
      "needs_background": "light"
     },
     "output_type": "display_data"
    }
   ],
   "source": [
    "plt.imshow(test_rotation_10_degree(test_img))\n",
    "plt.show()"
   ]
  },
  {
   "cell_type": "code",
   "execution_count": 27,
   "id": "6824474b",
   "metadata": {
    "execution": {
     "iopub.execute_input": "2022-04-11T14:52:29.187222Z",
     "iopub.status.busy": "2022-04-11T14:52:29.187222Z",
     "iopub.status.idle": "2022-04-11T14:52:29.339830Z",
     "shell.execute_reply": "2022-04-11T14:52:29.339146Z",
     "shell.execute_reply.started": "2022-04-11T14:52:29.187222Z"
    }
   },
   "outputs": [
    {
     "data": {
      "image/png": "[encoded data removed]",
      "text/plain": [
       "<Figure size 432x288 with 1 Axes>"
      ]
     },
     "metadata": {
      "needs_background": "light"
     },
     "output_type": "display_data"
    }
   ],
   "source": [
    "plt.imshow(test_rotation_minus_10_degree(test_img))\n",
    "plt.show()"
   ]
  },
  {
   "cell_type": "code",
   "execution_count": 28,
   "id": "fb85d16a",
   "metadata": {
    "execution": {
     "iopub.execute_input": "2022-04-11T14:52:29.342027Z",
     "iopub.status.busy": "2022-04-11T14:52:29.341113Z",
     "iopub.status.idle": "2022-04-11T14:52:29.614340Z",
     "shell.execute_reply": "2022-04-11T14:52:29.613842Z",
     "shell.execute_reply.started": "2022-04-11T14:52:29.341113Z"
    }
   },
   "outputs": [
    {
     "data": {
      "image/png": "[encoded data removed]",
      "text/plain": [
       "<Figure size 432x288 with 1 Axes>"
      ]
     },
     "metadata": {
      "needs_background": "light"
     },
     "output_type": "display_data"
    }
   ],
   "source": [
    "plt.imshow(test_translate(test_img))\n",
    "plt.show()"
   ]
  },
  {
   "cell_type": "code",
   "execution_count": 29,
   "id": "d175919a",
   "metadata": {
    "execution": {
     "iopub.execute_input": "2022-04-11T14:52:29.615374Z",
     "iopub.status.busy": "2022-04-11T14:52:29.615374Z",
     "iopub.status.idle": "2022-04-11T14:52:29.827232Z",
     "shell.execute_reply": "2022-04-11T14:52:29.826765Z",
     "shell.execute_reply.started": "2022-04-11T14:52:29.615374Z"
    }
   },
   "outputs": [
    {
     "data": {
      "image/png": "[encoded data removed]",
      "text/plain": [
       "<Figure size 432x288 with 1 Axes>"
      ]
     },
     "metadata": {
      "needs_background": "light"
     },
     "output_type": "display_data"
    }
   ],
   "source": [
    "plt.imshow(test_shearing(test_img))\n",
    "plt.show()"
   ]
  },
  {
   "cell_type": "code",
   "execution_count": 30,
   "id": "616b25b2",
   "metadata": {
    "execution": {
     "iopub.execute_input": "2022-04-11T14:52:29.828373Z",
     "iopub.status.busy": "2022-04-11T14:52:29.827232Z",
     "iopub.status.idle": "2022-04-11T14:52:30.008696Z",
     "shell.execute_reply": "2022-04-11T14:52:30.008191Z",
     "shell.execute_reply.started": "2022-04-11T14:52:29.828373Z"
    }
   },
   "outputs": [
    {
     "data": {
      "image/png": "[encoded data removed]",
      "text/plain": [
       "<Figure size 432x288 with 1 Axes>"
      ]
     },
     "metadata": {
      "needs_background": "light"
     },
     "output_type": "display_data"
    }
   ],
   "source": [
    "plt.imshow(test_zoom(test_img))\n",
    "plt.show()"
   ]
  },
  {
   "cell_type": "markdown",
   "id": "c976466d",
   "metadata": {},
   "source": [
    "### Input size에 맞게 zero-padding\n",
    "- 참고 : https://webnautes.tistory.com/1652-"
   ]
  },
  {
   "cell_type": "code",
   "execution_count": 31,
   "id": "880ef814",
   "metadata": {
    "execution": {
     "iopub.execute_input": "2022-04-11T14:52:30.010069Z",
     "iopub.status.busy": "2022-04-11T14:52:30.010069Z",
     "iopub.status.idle": "2022-04-11T14:52:30.023751Z",
     "shell.execute_reply": "2022-04-11T14:52:30.022795Z",
     "shell.execute_reply.started": "2022-04-11T14:52:30.010069Z"
    }
   },
   "outputs": [],
   "source": [
    "def zero_padding(data_img, set_size):\n",
    "    height, width = data_img.shape\n",
    "    \n",
    "    if max(height, width) > set_size:\n",
    "        return data_img\n",
    "    \n",
    "    delta_width = set_size - width\n",
    "    delta_height = set_size - height\n",
    "    top, bottom = delta_height//2, delta_height-(delta_height//2)\n",
    "    left, right = delta_width//2, delta_width-(delta_width//2)\n",
    "    \n",
    "    padded_img = cv2.copyMakeBorder(data_img, top, bottom, left, right, cv2.BORDER_CONSTANT, value=[0,0,0])\n",
    "    return padded_img"
   ]
  },
  {
   "cell_type": "markdown",
   "id": "20cde67f",
   "metadata": {},
   "source": [
    "### pad 이후 전처리 / 전처리 이후 pad 비교"
   ]
  },
  {
   "cell_type": "code",
   "execution_count": 32,
   "id": "df9e5f6c",
   "metadata": {
    "execution": {
     "iopub.execute_input": "2022-04-11T14:52:30.025252Z",
     "iopub.status.busy": "2022-04-11T14:52:30.024753Z",
     "iopub.status.idle": "2022-04-11T14:52:30.176787Z",
     "shell.execute_reply": "2022-04-11T14:52:30.175774Z",
     "shell.execute_reply.started": "2022-04-11T14:52:30.025252Z"
    }
   },
   "outputs": [
    {
     "data": {
      "image/png": "[encoded data removed]",
      "text/plain": [
       "<Figure size 432x288 with 1 Axes>"
      ]
     },
     "metadata": {
      "needs_background": "light"
     },
     "output_type": "display_data"
    }
   ],
   "source": [
    "# 원본\n",
    "test_origin = test_wafermap.iloc[2][\"waferMap\"]\n",
    "plt.imshow(test_origin)\n",
    "plt.show()"
   ]
  },
  {
   "cell_type": "code",
   "execution_count": 33,
   "id": "48f8dfc8",
   "metadata": {
    "execution": {
     "iopub.execute_input": "2022-04-11T14:52:30.177800Z",
     "iopub.status.busy": "2022-04-11T14:52:30.176787Z",
     "iopub.status.idle": "2022-04-11T14:52:30.346767Z",
     "shell.execute_reply": "2022-04-11T14:52:30.346189Z",
     "shell.execute_reply.started": "2022-04-11T14:52:30.176787Z"
    }
   },
   "outputs": [
    {
     "data": {
      "image/png": "[encoded data removed]",
      "text/plain": [
       "<Figure size 432x288 with 1 Axes>"
      ]
     },
     "metadata": {
      "needs_background": "light"
     },
     "output_type": "display_data"
    }
   ],
   "source": [
    "pad_origin = zero_padding(test_origin, 224)\n",
    "plt.imshow(pad_origin)\n",
    "plt.show()"
   ]
  },
  {
   "cell_type": "markdown",
   "id": "5a0dac4e",
   "metadata": {},
   "source": [
    "- 회전의 경우 pad 이후 회전과 회전 이후 pad 가 비슷해보임"
   ]
  },
  {
   "cell_type": "code",
   "execution_count": 34,
   "id": "cbacfeda",
   "metadata": {
    "execution": {
     "iopub.execute_input": "2022-04-11T14:52:30.347840Z",
     "iopub.status.busy": "2022-04-11T14:52:30.347840Z",
     "iopub.status.idle": "2022-04-11T14:52:30.866149Z",
     "shell.execute_reply": "2022-04-11T14:52:30.865649Z",
     "shell.execute_reply.started": "2022-04-11T14:52:30.347840Z"
    },
    "tags": []
   },
   "outputs": [
    {
     "data": {
      "image/png": "[encoded data removed]",
      "text/plain": [
       "<Figure size 432x288 with 1 Axes>"
      ]
     },
     "metadata": {
      "needs_background": "light"
     },
     "output_type": "display_data"
    },
    {
     "data": {
      "image/png": "[encoded data removed]",
      "text/plain": [
       "<Figure size 432x288 with 1 Axes>"
      ]
     },
     "metadata": {
      "needs_background": "light"
     },
     "output_type": "display_data"
    },
    {
     "data": {
      "image/png": "[encoded data removed]",
      "text/plain": [
       "<Figure size 432x288 with 1 Axes>"
      ]
     },
     "metadata": {
      "needs_background": "light"
     },
     "output_type": "display_data"
    }
   ],
   "source": [
    "# 10도 회전 : \n",
    "degree_10 = test_rotation_10_degree(test_origin)\n",
    "plt.imshow(degree_10)\n",
    "plt.show()\n",
    "\n",
    "pad_10_degree = zero_padding(degree_10, 224)\n",
    "plt.imshow(pad_10_degree)\n",
    "plt.show()\n",
    "\n",
    "degree_10_pad_origin = test_rotation_10_degree(pad_origin)\n",
    "plt.imshow(degree_10_pad_origin)\n",
    "plt.show()"
   ]
  },
  {
   "cell_type": "markdown",
   "id": "3936a19a",
   "metadata": {},
   "source": [
    "- 평행이동 : 이동 이후 wafer 모양이 잘리는 경우를 감안하면 pad 이후 이동하는 것이 나아보임"
   ]
  },
  {
   "cell_type": "code",
   "execution_count": 35,
   "id": "a545018b",
   "metadata": {
    "execution": {
     "iopub.execute_input": "2022-04-11T14:52:30.868808Z",
     "iopub.status.busy": "2022-04-11T14:52:30.868808Z",
     "iopub.status.idle": "2022-04-11T14:52:31.277490Z",
     "shell.execute_reply": "2022-04-11T14:52:31.276991Z",
     "shell.execute_reply.started": "2022-04-11T14:52:30.868808Z"
    },
    "tags": []
   },
   "outputs": [
    {
     "data": {
      "image/png": "[encoded data removed]",
      "text/plain": [
       "<Figure size 432x288 with 1 Axes>"
      ]
     },
     "metadata": {
      "needs_background": "light"
     },
     "output_type": "display_data"
    },
    {
     "data": {
      "image/png": "[encoded data removed]",
      "text/plain": [
       "<Figure size 432x288 with 1 Axes>"
      ]
     },
     "metadata": {
      "needs_background": "light"
     },
     "output_type": "display_data"
    },
    {
     "data": {
      "image/png": "[encoded data removed]",
      "text/plain": [
       "<Figure size 432x288 with 1 Axes>"
      ]
     },
     "metadata": {
      "needs_background": "light"
     },
     "output_type": "display_data"
    }
   ],
   "source": [
    "translated =  test_translate(test_origin)\n",
    "plt.imshow(translated)\n",
    "plt.show()\n",
    "\n",
    "pad_translated = zero_padding(translated, 224)\n",
    "plt.imshow(pad_translated)\n",
    "plt.show()\n",
    "\n",
    "translate_pad_origin = test_translate(pad_origin)\n",
    "plt.imshow(translate_pad_origin)\n",
    "plt.show()"
   ]
  },
  {
   "cell_type": "code",
   "execution_count": 36,
   "id": "7e0c23b9",
   "metadata": {
    "execution": {
     "iopub.execute_input": "2022-04-11T14:52:31.279035Z",
     "iopub.status.busy": "2022-04-11T14:52:31.277994Z",
     "iopub.status.idle": "2022-04-11T14:52:31.292832Z",
     "shell.execute_reply": "2022-04-11T14:52:31.292332Z",
     "shell.execute_reply.started": "2022-04-11T14:52:31.278996Z"
    },
    "tags": []
   },
   "outputs": [
    {
     "data": {
      "text/plain": [
       "(224, 224)"
      ]
     },
     "execution_count": 36,
     "metadata": {},
     "output_type": "execute_result"
    }
   ],
   "source": [
    "translate_pad_origin.shape"
   ]
  },
  {
   "cell_type": "markdown",
   "id": "a6a7f937",
   "metadata": {},
   "source": [
    "- shearing : 잘리지 않을 범위 내에서 shearing 이후 pad 하는 것이 나을 듯\n",
    "    - shearing 정도에 따라 translate와 마찬가지로 wafer 모양이 잘릴 가능성이 있음\n",
    "    - pad 이후 shearing 시 shape이 변함"
   ]
  },
  {
   "cell_type": "code",
   "execution_count": 37,
   "id": "57e93902",
   "metadata": {
    "execution": {
     "iopub.execute_input": "2022-04-11T14:52:31.294331Z",
     "iopub.status.busy": "2022-04-11T14:52:31.293832Z",
     "iopub.status.idle": "2022-04-11T14:52:31.766905Z",
     "shell.execute_reply": "2022-04-11T14:52:31.766398Z",
     "shell.execute_reply.started": "2022-04-11T14:52:31.294331Z"
    },
    "tags": []
   },
   "outputs": [
    {
     "data": {
      "image/png": "[encoded data removed]",
      "text/plain": [
       "<Figure size 432x288 with 1 Axes>"
      ]
     },
     "metadata": {
      "needs_background": "light"
     },
     "output_type": "display_data"
    },
    {
     "data": {
      "image/png": "[encoded data removed]",
      "text/plain": [
       "<Figure size 432x288 with 1 Axes>"
      ]
     },
     "metadata": {
      "needs_background": "light"
     },
     "output_type": "display_data"
    },
    {
     "data": {
      "image/png": "[encoded data removed]",
      "text/plain": [
       "<Figure size 432x288 with 1 Axes>"
      ]
     },
     "metadata": {
      "needs_background": "light"
     },
     "output_type": "display_data"
    }
   ],
   "source": [
    "sheared = test_shearing(test_origin)\n",
    "plt.imshow(sheared)\n",
    "plt.show()\n",
    "\n",
    "pad_sheared = zero_padding(sheared, 224)\n",
    "plt.imshow(pad_sheared)\n",
    "plt.show()\n",
    "\n",
    "sheared_pad_origin = test_shearing(pad_origin)\n",
    "plt.imshow(sheared_pad_origin)\n",
    "plt.show()"
   ]
  },
  {
   "cell_type": "code",
   "execution_count": 38,
   "id": "040878bb",
   "metadata": {
    "execution": {
     "iopub.execute_input": "2022-04-11T14:52:31.768231Z",
     "iopub.status.busy": "2022-04-11T14:52:31.767728Z",
     "iopub.status.idle": "2022-04-11T14:52:31.782199Z",
     "shell.execute_reply": "2022-04-11T14:52:31.781691Z",
     "shell.execute_reply.started": "2022-04-11T14:52:31.768231Z"
    },
    "tags": []
   },
   "outputs": [
    {
     "data": {
      "text/plain": [
       "(336, 336)"
      ]
     },
     "execution_count": 38,
     "metadata": {},
     "output_type": "execute_result"
    }
   ],
   "source": [
    "sheared_pad_origin.shape"
   ]
  },
  {
   "cell_type": "markdown",
   "id": "7f79db12",
   "metadata": {},
   "source": [
    "- zooming : pad 이후 zoom할 경우 448x448 사이즈 이미지가 생성되므로 zoom 이후 pad 적용"
   ]
  },
  {
   "cell_type": "code",
   "execution_count": 39,
   "id": "6ab73c23",
   "metadata": {
    "execution": {
     "iopub.execute_input": "2022-04-11T14:52:31.786601Z",
     "iopub.status.busy": "2022-04-11T14:52:31.786601Z",
     "iopub.status.idle": "2022-04-11T14:52:32.209451Z",
     "shell.execute_reply": "2022-04-11T14:52:32.208951Z",
     "shell.execute_reply.started": "2022-04-11T14:52:31.786601Z"
    },
    "tags": []
   },
   "outputs": [
    {
     "data": {
      "image/png": "[encoded data removed]",
      "text/plain": [
       "<Figure size 432x288 with 1 Axes>"
      ]
     },
     "metadata": {
      "needs_background": "light"
     },
     "output_type": "display_data"
    },
    {
     "data": {
      "image/png": "[encoded data removed]",
      "text/plain": [
       "<Figure size 432x288 with 1 Axes>"
      ]
     },
     "metadata": {
      "needs_background": "light"
     },
     "output_type": "display_data"
    },
    {
     "data": {
      "image/png": "[encoded data removed]",
      "text/plain": [
       "<Figure size 432x288 with 1 Axes>"
      ]
     },
     "metadata": {
      "needs_background": "light"
     },
     "output_type": "display_data"
    }
   ],
   "source": [
    "zoomed = test_zoom(test_origin)\n",
    "plt.imshow(zoomed)\n",
    "plt.show()\n",
    "\n",
    "pad_zoomed = zero_padding(zoomed, 224)\n",
    "plt.imshow(pad_zoomed)\n",
    "plt.show()\n",
    "\n",
    "zoom_pad_origin = test_zoom(pad_origin)\n",
    "plt.imshow(zoom_pad_origin)\n",
    "plt.show()"
   ]
  },
  {
   "cell_type": "markdown",
   "id": "39be4ae2",
   "metadata": {},
   "source": [
    "### augmentaion 함수별 random 요소 추가 및 padding 함수 추가\n",
    "- rotation : 회전 변환 이후 padding\n",
    "- translate : padding 이후 평행이동, dsize ~ 224로 출력\n",
    "- shearing : shearing 정도에 random 요소 추가, dsize ~ 224로 출력 "
   ]
  },
  {
   "cell_type": "code",
   "execution_count": 40,
   "id": "37e573f5",
   "metadata": {
    "execution": {
     "iopub.execute_input": "2022-04-11T14:52:32.210537Z",
     "iopub.status.busy": "2022-04-11T14:52:32.210537Z",
     "iopub.status.idle": "2022-04-11T14:52:32.224452Z",
     "shell.execute_reply": "2022-04-11T14:52:32.223923Z",
     "shell.execute_reply.started": "2022-04-11T14:52:32.210537Z"
    },
    "tags": []
   },
   "outputs": [],
   "source": [
    "def rotation_10_degree(data_img):\n",
    "    height, width = data_img.shape\n",
    "    # positive for anti-clockwise and negative for clockwise\n",
    "    rotation_10_degree_img = cv2.getRotationMatrix2D((width/2, height/2), 10, 1) # 중심점, 각도, 배율\n",
    "    dst = cv2.warpAffine(data_img, rotation_10_degree_img, (width,height))\n",
    "    padded_dst = zero_padding(dst, 224)\n",
    "    return padded_dst"
   ]
  },
  {
   "cell_type": "code",
   "execution_count": 41,
   "id": "5c6640a7",
   "metadata": {
    "execution": {
     "iopub.execute_input": "2022-04-11T14:52:32.225953Z",
     "iopub.status.busy": "2022-04-11T14:52:32.224918Z",
     "iopub.status.idle": "2022-04-11T14:52:32.269614Z",
     "shell.execute_reply": "2022-04-11T14:52:32.269113Z",
     "shell.execute_reply.started": "2022-04-11T14:52:32.225953Z"
    },
    "tags": []
   },
   "outputs": [],
   "source": [
    "def rotation_minus_10_degree(data_img):\n",
    "    height, width = data_img.shape\n",
    "    # positive for anti-clockwise and negative for clockwise\n",
    "    rotation_10_degree_img = cv2.getRotationMatrix2D((width/2, height/2), -10, 1) # 중심점, 각도, 배율\n",
    "    dst = cv2.warpAffine(data_img, rotation_10_degree_img, (width,height))\n",
    "    padded_dst = zero_padding(dst, 224)\n",
    "    return padded_dst"
   ]
  },
  {
   "cell_type": "code",
   "execution_count": 42,
   "id": "3d228dc9",
   "metadata": {
    "execution": {
     "iopub.execute_input": "2022-04-11T14:52:32.270626Z",
     "iopub.status.busy": "2022-04-11T14:52:32.270626Z",
     "iopub.status.idle": "2022-04-11T14:52:32.346576Z",
     "shell.execute_reply": "2022-04-11T14:52:32.346076Z",
     "shell.execute_reply.started": "2022-04-11T14:52:32.270626Z"
    },
    "tags": []
   },
   "outputs": [],
   "source": [
    "def translate(data_img):\n",
    "    padded_img = zero_padding(data_img, 224)\n",
    "    x_translate = random.randrange(-20, 21)\n",
    "    y_translate = random.randrange(-20, 21)\n",
    "    translate_matrix = np.float32([[1, 0, y_translate],  # 세로 평행이동\n",
    "                                   [0, 1, x_translate]]) # 가로 평행이동 \n",
    "    dst = cv2.warpAffine(padded_img, translate_matrix, (224,224))  # (src, matrix, dsize)\n",
    "    return dst"
   ]
  },
  {
   "cell_type": "code",
   "execution_count": 43,
   "id": "9ed9919f",
   "metadata": {
    "execution": {
     "iopub.execute_input": "2022-04-11T14:52:32.348009Z",
     "iopub.status.busy": "2022-04-11T14:52:32.346576Z",
     "iopub.status.idle": "2022-04-11T14:52:32.377653Z",
     "shell.execute_reply": "2022-04-11T14:52:32.377153Z",
     "shell.execute_reply.started": "2022-04-11T14:52:32.347756Z"
    },
    "tags": []
   },
   "outputs": [],
   "source": [
    "def filping(data_img):\n",
    "    padded_img = zero_padding(data_img, 224)\n",
    "    dst = cv2.flip(padded_img, random.choice([0, 1])) # 0:상하 반전, 1:좌우 반전 \n",
    "    return dst"
   ]
  },
  {
   "cell_type": "code",
   "execution_count": 44,
   "id": "5dedcaeb",
   "metadata": {
    "execution": {
     "iopub.execute_input": "2022-04-11T14:52:32.379204Z",
     "iopub.status.busy": "2022-04-11T14:52:32.378704Z",
     "iopub.status.idle": "2022-04-11T14:52:32.408456Z",
     "shell.execute_reply": "2022-04-11T14:52:32.407957Z",
     "shell.execute_reply.started": "2022-04-11T14:52:32.379204Z"
    },
    "tags": []
   },
   "outputs": [],
   "source": [
    "def shearing(data_img):    \n",
    "    x_shearing = random.random()\n",
    "    y_shearing = random.random()\n",
    "    shearing_matrix = np.float32([[1,          x_shearing, 0],\n",
    "             \t                  [y_shearing, 1,          0],\n",
    "            \t                  [0,          0  ,        1]])           \n",
    "    dst = cv2.warpPerspective(data_img, shearing_matrix, (224, 224)) # warpPerspective(src, matrix, dsize~(width, height))\n",
    "    return dst"
   ]
  },
  {
   "cell_type": "code",
   "execution_count": 45,
   "id": "0a1d2609",
   "metadata": {
    "execution": {
     "iopub.execute_input": "2022-04-11T14:52:32.410465Z",
     "iopub.status.busy": "2022-04-11T14:52:32.410465Z",
     "iopub.status.idle": "2022-04-11T14:52:32.453625Z",
     "shell.execute_reply": "2022-04-11T14:52:32.453124Z",
     "shell.execute_reply.started": "2022-04-11T14:52:32.410465Z"
    },
    "tags": []
   },
   "outputs": [],
   "source": [
    "def resizing(data_img):\n",
    "    scale_list = [0.5, 0.6, 0.7, 0.8, 1.05] # scale 이후 224 size 넘는 경우 있어서 데이터 확인 후 수동 조정\n",
    "    dst = cv2.resize(data_img, dsize=(0,0), fx=random.choice(scale_list), fy=random.choice(scale_list), interpolation=cv2.INTER_LINEAR)    \n",
    "    padded_img = zero_padding(dst, 224)\n",
    "    return padded_img"
   ]
  },
  {
   "cell_type": "markdown",
   "id": "ca675ef4",
   "metadata": {},
   "source": [
    "### Data-Augmentaion - 클래스별로 10,000개 / 논문 Augmentation 기법 적용\n",
    "- 10도 회전 : 20%\n",
    "- 좌우 대칭 및 너비 이동(horizontal flipping and width shift) : 20%\n",
    "- 높이 이동(height shfit) : 15%\n",
    "- 전단 범위(shearing range) : 10%\n",
    "- 채널이동 및 확대 축소(channel shift and zooming) : 10%\n",
    "- 75%밖에 안 되는 듯 : 증량 비율 수정"
   ]
  },
  {
   "cell_type": "code",
   "execution_count": 46,
   "id": "595fbc7f",
   "metadata": {
    "execution": {
     "iopub.execute_input": "2022-04-11T14:52:32.455223Z",
     "iopub.status.busy": "2022-04-11T14:52:32.454206Z",
     "iopub.status.idle": "2022-04-11T14:52:32.898044Z",
     "shell.execute_reply": "2022-04-11T14:52:32.897533Z",
     "shell.execute_reply.started": "2022-04-11T14:52:32.455223Z"
    },
    "tags": []
   },
   "outputs": [
    {
     "name": "stdout",
     "output_type": "stream",
     "text": [
      "<class 'pandas.core.frame.DataFrame'>\n",
      "Int64Index: 10000 entries, 749336 to 244652\n",
      "Data columns (total 10 columns):\n",
      " #   Column                     Non-Null Count  Dtype  \n",
      "---  ------                     --------------  -----  \n",
      " 0   waferMap                   10000 non-null  object \n",
      " 1   dieSize                    10000 non-null  float64\n",
      " 2   lotName                    10000 non-null  object \n",
      " 3   trianTestLabel             10000 non-null  object \n",
      " 4   failureType                10000 non-null  object \n",
      " 5   waferMapDim                10000 non-null  object \n",
      " 6   failureNum                 10000 non-null  object \n",
      " 7   trainTestNum               10000 non-null  object \n",
      " 8   waferMap_augmentation      10000 non-null  object \n",
      " 9   waferMap_augmentation_Dim  10000 non-null  object \n",
      "dtypes: float64(1), object(9)\n",
      "memory usage: 859.4+ KB\n"
     ]
    }
   ],
   "source": [
    "# None(8): 36,730 중 10,000 개 Sampling\n",
    "# 참고 : https://rfriend.tistory.com/602\n",
    "wm811k_new_train_class_None = wm811k_train.query(\"failureNum == 8\").sample(n=10000, random_state=2022)\n",
    "wm811k_new_train_class_None[\"waferMap_augmentation\"] = wm811k_new_train_class_None[\"waferMap\"].apply(lambda x: zero_padding(x,224))\n",
    "wm811k_new_train_class_None['waferMap_augmentation_Dim']=wm811k_new_train_class_None['waferMap_augmentation'].apply(find_dim)\n",
    "wm811k_new_train_class_None.info()"
   ]
  },
  {
   "cell_type": "code",
   "execution_count": 47,
   "id": "6050f1e5",
   "metadata": {
    "execution": {
     "iopub.execute_input": "2022-04-11T14:52:32.899073Z",
     "iopub.status.busy": "2022-04-11T14:52:32.899073Z",
     "iopub.status.idle": "2022-04-11T14:52:32.928734Z",
     "shell.execute_reply": "2022-04-11T14:52:32.928231Z",
     "shell.execute_reply.started": "2022-04-11T14:52:32.899073Z"
    },
    "tags": []
   },
   "outputs": [
    {
     "data": {
      "text/plain": [
       "(224, 224)    10000\n",
       "Name: waferMap_augmentation_Dim, dtype: int64"
      ]
     },
     "execution_count": 47,
     "metadata": {},
     "output_type": "execute_result"
    }
   ],
   "source": [
    "wm811k_new_train_class_None['waferMap_augmentation_Dim'].apply(lambda x: str(x)).value_counts()"
   ]
  },
  {
   "cell_type": "code",
   "execution_count": 48,
   "id": "827d2ee2",
   "metadata": {
    "execution": {
     "iopub.execute_input": "2022-04-11T14:52:32.930330Z",
     "iopub.status.busy": "2022-04-11T14:52:32.929318Z",
     "iopub.status.idle": "2022-04-11T14:52:33.674335Z",
     "shell.execute_reply": "2022-04-11T14:52:33.673798Z",
     "shell.execute_reply.started": "2022-04-11T14:52:32.929318Z"
    },
    "tags": []
   },
   "outputs": [
    {
     "name": "stderr",
     "output_type": "stream",
     "text": [
      "C:\\Users\\kjt\\Anaconda3\\envs\\dlit\\lib\\site-packages\\ipykernel_launcher.py:3: SettingWithCopyWarning: \n",
      "A value is trying to be set on a copy of a slice from a DataFrame.\n",
      "Try using .loc[row_indexer,col_indexer] = value instead\n",
      "\n",
      "See the caveats in the documentation: https://pandas.pydata.org/pandas-docs/stable/user_guide/indexing.html#returning-a-view-versus-a-copy\n",
      "  This is separate from the ipykernel package so we can avoid doing imports until\n",
      "C:\\Users\\kjt\\Anaconda3\\envs\\dlit\\lib\\site-packages\\ipykernel_launcher.py:4: SettingWithCopyWarning: \n",
      "A value is trying to be set on a copy of a slice from a DataFrame.\n",
      "Try using .loc[row_indexer,col_indexer] = value instead\n",
      "\n",
      "See the caveats in the documentation: https://pandas.pydata.org/pandas-docs/stable/user_guide/indexing.html#returning-a-view-versus-a-copy\n",
      "  after removing the cwd from sys.path.\n"
     ]
    },
    {
     "name": "stdout",
     "output_type": "stream",
     "text": [
      "<class 'pandas.core.frame.DataFrame'>\n",
      "Int64Index: 8554 entries, 100 to 786313\n",
      "Data columns (total 10 columns):\n",
      " #   Column                     Non-Null Count  Dtype  \n",
      "---  ------                     --------------  -----  \n",
      " 0   waferMap                   8554 non-null   object \n",
      " 1   dieSize                    8554 non-null   float64\n",
      " 2   lotName                    8554 non-null   object \n",
      " 3   trianTestLabel             8554 non-null   object \n",
      " 4   failureType                8554 non-null   object \n",
      " 5   waferMapDim                8554 non-null   object \n",
      " 6   failureNum                 8554 non-null   object \n",
      " 7   trainTestNum               8554 non-null   object \n",
      " 8   waferMap_augmentation      8554 non-null   object \n",
      " 9   waferMap_augmentation_Dim  8554 non-null   object \n",
      "dtypes: float64(1), object(9)\n",
      "memory usage: 735.1+ KB\n",
      "<class 'pandas.core.frame.DataFrame'>\n",
      "Int64Index: 10000 entries, 100 to 199660\n",
      "Data columns (total 10 columns):\n",
      " #   Column                     Non-Null Count  Dtype  \n",
      "---  ------                     --------------  -----  \n",
      " 0   waferMap                   10000 non-null  object \n",
      " 1   dieSize                    10000 non-null  float64\n",
      " 2   lotName                    10000 non-null  object \n",
      " 3   trianTestLabel             10000 non-null  object \n",
      " 4   failureType                10000 non-null  object \n",
      " 5   waferMapDim                10000 non-null  object \n",
      " 6   failureNum                 10000 non-null  object \n",
      " 7   trainTestNum               10000 non-null  object \n",
      " 8   waferMap_augmentation      10000 non-null  object \n",
      " 9   waferMap_augmentation_Dim  10000 non-null  object \n",
      "dtypes: float64(1), object(9)\n",
      "memory usage: 859.4+ KB\n"
     ]
    }
   ],
   "source": [
    "# Edge-Ring(3) 현 보유 8,554개 / 1,446개 augmentation 필요\n",
    "wm811k_new_train_class_Edge_Ring = wm811k_train.query(\"failureNum == 3\")\n",
    "wm811k_new_train_class_Edge_Ring[\"waferMap_augmentation\"] = wm811k_new_train_class_Edge_Ring['waferMap'].apply(lambda x: zero_padding(x,224))\n",
    "wm811k_new_train_class_Edge_Ring['waferMap_augmentation_Dim']=wm811k_new_train_class_Edge_Ring['waferMap_augmentation'].apply(find_dim)\n",
    "wm811k_new_train_class_Edge_Ring.info()\n",
    "\n",
    "# +10도 회전 : 10% - 144개\n",
    "wm811k_new_train_class_Edge_Ring_10 = wm811k_new_train_class_Edge_Ring.sample(n=144, random_state=2022)\n",
    "wm811k_new_train_class_Edge_Ring_10[\"waferMap_augmentation\"] = wm811k_new_train_class_Edge_Ring_10[\"waferMap\"].apply(lambda x: rotation_10_degree(x))\n",
    "wm811k_new_train_class_Edge_Ring_10['waferMap_augmentation_Dim']=wm811k_new_train_class_Edge_Ring_10['waferMap_augmentation'].apply(find_dim)\n",
    "\n",
    "# -10도 회전 : 10% - 144개\n",
    "wm811k_new_train_class_Edge_Ring_minus_10 = wm811k_new_train_class_Edge_Ring.sample(n=144, random_state=2022)\n",
    "wm811k_new_train_class_Edge_Ring_minus_10[\"waferMap_augmentation\"] = wm811k_new_train_class_Edge_Ring_minus_10[\"waferMap\"].apply(lambda x: rotation_minus_10_degree(x))\n",
    "wm811k_new_train_class_Edge_Ring_minus_10['waferMap_augmentation_Dim']=wm811k_new_train_class_Edge_Ring_minus_10['waferMap_augmentation'].apply(find_dim)\n",
    "\n",
    "# 좌우 대칭 : 20%  - 288개\n",
    "wm811k_new_train_class_Edge_Ring_flip = wm811k_new_train_class_Edge_Ring.sample(n=288, random_state=2022)\n",
    "wm811k_new_train_class_Edge_Ring_flip[\"waferMap_augmentation\"] = wm811k_new_train_class_Edge_Ring_flip[\"waferMap\"].apply(lambda x: filping(x))\n",
    "wm811k_new_train_class_Edge_Ring_flip['waferMap_augmentation_Dim']=wm811k_new_train_class_Edge_Ring_flip['waferMap_augmentation'].apply(find_dim)\n",
    "\n",
    "# 평행 이동 : 30% - 432개\n",
    "wm811k_new_train_class_Edge_Ring_translate = wm811k_new_train_class_Edge_Ring.sample(n=432, random_state=2022)\n",
    "wm811k_new_train_class_Edge_Ring_translate[\"waferMap_augmentation\"] = wm811k_new_train_class_Edge_Ring_translate[\"waferMap\"].apply(lambda x: translate(x))\n",
    "wm811k_new_train_class_Edge_Ring_translate['waferMap_augmentation_Dim']=wm811k_new_train_class_Edge_Ring_translate['waferMap_augmentation'].apply(find_dim)\n",
    "\n",
    "# 전단 범위(shearing range) : 10% - 144개\n",
    "wm811k_new_train_class_Edge_Ring_shearing = wm811k_new_train_class_Edge_Ring.sample(n=144, random_state=2022)\n",
    "wm811k_new_train_class_Edge_Ring_shearing[\"waferMap_augmentation\"] = wm811k_new_train_class_Edge_Ring_shearing[\"waferMap\"].apply(lambda x: shearing(x))\n",
    "wm811k_new_train_class_Edge_Ring_shearing['waferMap_augmentation_Dim']=wm811k_new_train_class_Edge_Ring_shearing['waferMap_augmentation'].apply(find_dim)\n",
    "\n",
    "# 확대 : 20% - 294개\n",
    "wm811k_new_train_class_Edge_Ring_resize = wm811k_new_train_class_Edge_Ring.sample(n=294, random_state=2022)\n",
    "wm811k_new_train_class_Edge_Ring_resize[\"waferMap_augmentation\"] = wm811k_new_train_class_Edge_Ring_resize[\"waferMap\"].apply(lambda x: resizing(x))\n",
    "wm811k_new_train_class_Edge_Ring_resize['waferMap_augmentation_Dim']=wm811k_new_train_class_Edge_Ring_resize['waferMap_augmentation'].apply(find_dim)\n",
    "\n",
    "# concat\n",
    "wm811k_new_train_class_Edge_Ring_augmentation = pd.concat([wm811k_new_train_class_Edge_Ring,\n",
    "                                                           wm811k_new_train_class_Edge_Ring_10,\n",
    "                                                           wm811k_new_train_class_Edge_Ring_minus_10,\n",
    "                                                           wm811k_new_train_class_Edge_Ring_flip,\n",
    "                                                           wm811k_new_train_class_Edge_Ring_translate,\n",
    "                                                           wm811k_new_train_class_Edge_Ring_shearing,\n",
    "                                                           wm811k_new_train_class_Edge_Ring_resize\n",
    "                                                          ])\n",
    "wm811k_new_train_class_Edge_Ring_augmentation.info()"
   ]
  },
  {
   "cell_type": "code",
   "execution_count": 49,
   "id": "4c1b2bfb",
   "metadata": {
    "execution": {
     "iopub.execute_input": "2022-04-11T14:52:33.676059Z",
     "iopub.status.busy": "2022-04-11T14:52:33.675399Z",
     "iopub.status.idle": "2022-04-11T14:52:35.147310Z",
     "shell.execute_reply": "2022-04-11T14:52:35.146810Z",
     "shell.execute_reply.started": "2022-04-11T14:52:33.676059Z"
    },
    "tags": []
   },
   "outputs": [
    {
     "name": "stdout",
     "output_type": "stream",
     "text": [
      "<class 'pandas.core.frame.DataFrame'>\n",
      "Int64Index: 3462 entries, 44 to 785245\n",
      "Data columns (total 10 columns):\n",
      " #   Column                     Non-Null Count  Dtype  \n",
      "---  ------                     --------------  -----  \n",
      " 0   waferMap                   3462 non-null   object \n",
      " 1   dieSize                    3462 non-null   float64\n",
      " 2   lotName                    3462 non-null   object \n",
      " 3   trianTestLabel             3462 non-null   object \n",
      " 4   failureType                3462 non-null   object \n",
      " 5   waferMapDim                3462 non-null   object \n",
      " 6   failureNum                 3462 non-null   object \n",
      " 7   trainTestNum               3462 non-null   object \n",
      " 8   waferMap_augmentation      3462 non-null   object \n",
      " 9   waferMap_augmentation_Dim  3462 non-null   object \n",
      "dtypes: float64(1), object(9)\n",
      "memory usage: 297.5+ KB\n"
     ]
    },
    {
     "name": "stderr",
     "output_type": "stream",
     "text": [
      "C:\\Users\\kjt\\Anaconda3\\envs\\dlit\\lib\\site-packages\\ipykernel_launcher.py:3: SettingWithCopyWarning: \n",
      "A value is trying to be set on a copy of a slice from a DataFrame.\n",
      "Try using .loc[row_indexer,col_indexer] = value instead\n",
      "\n",
      "See the caveats in the documentation: https://pandas.pydata.org/pandas-docs/stable/user_guide/indexing.html#returning-a-view-versus-a-copy\n",
      "  This is separate from the ipykernel package so we can avoid doing imports until\n",
      "C:\\Users\\kjt\\Anaconda3\\envs\\dlit\\lib\\site-packages\\ipykernel_launcher.py:4: SettingWithCopyWarning: \n",
      "A value is trying to be set on a copy of a slice from a DataFrame.\n",
      "Try using .loc[row_indexer,col_indexer] = value instead\n",
      "\n",
      "See the caveats in the documentation: https://pandas.pydata.org/pandas-docs/stable/user_guide/indexing.html#returning-a-view-versus-a-copy\n",
      "  after removing the cwd from sys.path.\n"
     ]
    },
    {
     "name": "stdout",
     "output_type": "stream",
     "text": [
      "<class 'pandas.core.frame.DataFrame'>\n",
      "Int64Index: 10000 entries, 44 to 360911\n",
      "Data columns (total 10 columns):\n",
      " #   Column                     Non-Null Count  Dtype  \n",
      "---  ------                     --------------  -----  \n",
      " 0   waferMap                   10000 non-null  object \n",
      " 1   dieSize                    10000 non-null  float64\n",
      " 2   lotName                    10000 non-null  object \n",
      " 3   trianTestLabel             10000 non-null  object \n",
      " 4   failureType                10000 non-null  object \n",
      " 5   waferMapDim                10000 non-null  object \n",
      " 6   failureNum                 10000 non-null  object \n",
      " 7   trainTestNum               10000 non-null  object \n",
      " 8   waferMap_augmentation      10000 non-null  object \n",
      " 9   waferMap_augmentation_Dim  10000 non-null  object \n",
      "dtypes: float64(1), object(9)\n",
      "memory usage: 859.4+ KB\n"
     ]
    }
   ],
   "source": [
    "# Center(0) 현 보유 3,462개 / 6,538개 augmentation 필요\n",
    "wm811k_new_train_class_Center = wm811k_train.query(\"failureNum == 0\")\n",
    "wm811k_new_train_class_Center[\"waferMap_augmentation\"] = wm811k_new_train_class_Center['waferMap'].apply(lambda x: zero_padding(x,224))\n",
    "wm811k_new_train_class_Center['waferMap_augmentation_Dim']=wm811k_new_train_class_Center['waferMap_augmentation'].apply(find_dim)\n",
    "wm811k_new_train_class_Center.info()\n",
    "\n",
    "# +10도 회전 : 10% - 654개\n",
    "wm811k_new_train_class_Center_10 = wm811k_new_train_class_Center.sample(n=654, random_state=2022)\n",
    "wm811k_new_train_class_Center_10[\"waferMap_augmentation\"] = wm811k_new_train_class_Center_10[\"waferMap\"].apply(lambda x: rotation_10_degree(x))\n",
    "wm811k_new_train_class_Center_10['waferMap_augmentation_Dim']=wm811k_new_train_class_Center_10['waferMap_augmentation'].apply(find_dim)\n",
    "\n",
    "# -10도 회전 : 10% - 654개\n",
    "wm811k_new_train_class_Center_minus_10 = wm811k_new_train_class_Center.sample(n=654, random_state=2022)\n",
    "wm811k_new_train_class_Center_minus_10[\"waferMap_augmentation\"] = wm811k_new_train_class_Center_minus_10[\"waferMap\"].apply(lambda x: rotation_minus_10_degree(x))\n",
    "wm811k_new_train_class_Center_minus_10['waferMap_augmentation_Dim']=wm811k_new_train_class_Center_minus_10['waferMap_augmentation'].apply(find_dim)\n",
    "\n",
    "# 좌우 대칭 : 20%  - 1308개\n",
    "wm811k_new_train_class_Center_flip = wm811k_new_train_class_Center.sample(n=1308, random_state=2022)\n",
    "wm811k_new_train_class_Center_flip[\"waferMap_augmentation\"] = wm811k_new_train_class_Center_flip[\"waferMap\"].apply(lambda x: filping(x))\n",
    "wm811k_new_train_class_Center_flip['waferMap_augmentation_Dim']=wm811k_new_train_class_Center_flip['waferMap_augmentation'].apply(find_dim)\n",
    "\n",
    "# 평행 이동 : 30%  - 1962개\n",
    "wm811k_new_train_class_Center_translate = wm811k_new_train_class_Center.sample(n=1962, random_state=2022)\n",
    "wm811k_new_train_class_Center_translate[\"waferMap_augmentation\"] = wm811k_new_train_class_Center_translate[\"waferMap\"].apply(lambda x: translate(x))\n",
    "wm811k_new_train_class_Center_translate['waferMap_augmentation_Dim']=wm811k_new_train_class_Center_translate['waferMap_augmentation'].apply(find_dim)\n",
    "\n",
    "# 전단 범위(shearing range) : 10% - 652개\n",
    "wm811k_new_train_class_Center_shearing = wm811k_new_train_class_Center.sample(n=652, random_state=2022)\n",
    "wm811k_new_train_class_Center_shearing[\"waferMap_augmentation\"] = wm811k_new_train_class_Center_shearing[\"waferMap\"].apply(lambda x: shearing(x))\n",
    "wm811k_new_train_class_Center_shearing['waferMap_augmentation_Dim']=wm811k_new_train_class_Center_shearing['waferMap_augmentation'].apply(find_dim)\n",
    "\n",
    "# 확대 : 20% - 1308개\n",
    "wm811k_new_train_class_Center_resize = wm811k_new_train_class_Center.sample(n=1308, random_state=2022)\n",
    "wm811k_new_train_class_Center_resize[\"waferMap_augmentation\"] = wm811k_new_train_class_Center_resize[\"waferMap\"].apply(lambda x: resizing(x))\n",
    "wm811k_new_train_class_Center_resize['waferMap_augmentation_Dim']=wm811k_new_train_class_Center_resize['waferMap_augmentation'].apply(find_dim)\n",
    "\n",
    "# concat\n",
    "wm811k_new_train_class_Center_augmentation = pd.concat([wm811k_new_train_class_Center,\n",
    "                                                        wm811k_new_train_class_Center_10,\n",
    "                                                        wm811k_new_train_class_Center_minus_10,\n",
    "                                                        wm811k_new_train_class_Center_flip,\n",
    "                                                        wm811k_new_train_class_Center_translate,\n",
    "                                                        wm811k_new_train_class_Center_shearing,\n",
    "                                                        wm811k_new_train_class_Center_resize\n",
    "                                                       ])\n",
    "wm811k_new_train_class_Center_augmentation.info()"
   ]
  },
  {
   "cell_type": "code",
   "execution_count": 50,
   "id": "99fbd47c",
   "metadata": {
    "execution": {
     "iopub.execute_input": "2022-04-11T14:52:35.149310Z",
     "iopub.status.busy": "2022-04-11T14:52:35.148810Z",
     "iopub.status.idle": "2022-04-11T14:52:37.092037Z",
     "shell.execute_reply": "2022-04-11T14:52:37.091537Z",
     "shell.execute_reply.started": "2022-04-11T14:52:35.149310Z"
    },
    "tags": []
   },
   "outputs": [
    {
     "name": "stdout",
     "output_type": "stream",
     "text": [
      "<class 'pandas.core.frame.DataFrame'>\n",
      "Int64Index: 2417 entries, 36 to 791230\n",
      "Data columns (total 10 columns):\n",
      " #   Column                     Non-Null Count  Dtype  \n",
      "---  ------                     --------------  -----  \n",
      " 0   waferMap                   2417 non-null   object \n",
      " 1   dieSize                    2417 non-null   float64\n",
      " 2   lotName                    2417 non-null   object \n",
      " 3   trianTestLabel             2417 non-null   object \n",
      " 4   failureType                2417 non-null   object \n",
      " 5   waferMapDim                2417 non-null   object \n",
      " 6   failureNum                 2417 non-null   object \n",
      " 7   trainTestNum               2417 non-null   object \n",
      " 8   waferMap_augmentation      2417 non-null   object \n",
      " 9   waferMap_augmentation_Dim  2417 non-null   object \n",
      "dtypes: float64(1), object(9)\n",
      "memory usage: 207.7+ KB\n"
     ]
    },
    {
     "name": "stderr",
     "output_type": "stream",
     "text": [
      "C:\\Users\\kjt\\Anaconda3\\envs\\dlit\\lib\\site-packages\\ipykernel_launcher.py:3: SettingWithCopyWarning: \n",
      "A value is trying to be set on a copy of a slice from a DataFrame.\n",
      "Try using .loc[row_indexer,col_indexer] = value instead\n",
      "\n",
      "See the caveats in the documentation: https://pandas.pydata.org/pandas-docs/stable/user_guide/indexing.html#returning-a-view-versus-a-copy\n",
      "  This is separate from the ipykernel package so we can avoid doing imports until\n",
      "C:\\Users\\kjt\\Anaconda3\\envs\\dlit\\lib\\site-packages\\ipykernel_launcher.py:4: SettingWithCopyWarning: \n",
      "A value is trying to be set on a copy of a slice from a DataFrame.\n",
      "Try using .loc[row_indexer,col_indexer] = value instead\n",
      "\n",
      "See the caveats in the documentation: https://pandas.pydata.org/pandas-docs/stable/user_guide/indexing.html#returning-a-view-versus-a-copy\n",
      "  after removing the cwd from sys.path.\n"
     ]
    },
    {
     "name": "stdout",
     "output_type": "stream",
     "text": [
      "<class 'pandas.core.frame.DataFrame'>\n",
      "Int64Index: 10000 entries, 36 to 417018\n",
      "Data columns (total 10 columns):\n",
      " #   Column                     Non-Null Count  Dtype  \n",
      "---  ------                     --------------  -----  \n",
      " 0   waferMap                   10000 non-null  object \n",
      " 1   dieSize                    10000 non-null  float64\n",
      " 2   lotName                    10000 non-null  object \n",
      " 3   trianTestLabel             10000 non-null  object \n",
      " 4   failureType                10000 non-null  object \n",
      " 5   waferMapDim                10000 non-null  object \n",
      " 6   failureNum                 10000 non-null  object \n",
      " 7   trainTestNum               10000 non-null  object \n",
      " 8   waferMap_augmentation      10000 non-null  object \n",
      " 9   waferMap_augmentation_Dim  10000 non-null  object \n",
      "dtypes: float64(1), object(9)\n",
      "memory usage: 859.4+ KB\n"
     ]
    }
   ],
   "source": [
    "# Edge-Loc(2) 현 보유 2,417개 / 7,583개 augmentation 필요\n",
    "wm811k_new_train_class_Edge_Loc = wm811k_train.query(\"failureNum == 2\")\n",
    "wm811k_new_train_class_Edge_Loc[\"waferMap_augmentation\"] = wm811k_new_train_class_Edge_Loc['waferMap'].apply(lambda x: zero_padding(x,224))\n",
    "wm811k_new_train_class_Edge_Loc['waferMap_augmentation_Dim']=wm811k_new_train_class_Edge_Loc['waferMap_augmentation'].apply(find_dim)\n",
    "wm811k_new_train_class_Edge_Loc.info()\n",
    "\n",
    "# +10도 회전 : 10% - 758개\n",
    "wm811k_new_train_class_Edge_Loc_10 = wm811k_new_train_class_Edge_Loc.sample(n=758, random_state=2022)\n",
    "wm811k_new_train_class_Edge_Loc_10[\"waferMap_augmentation\"] = wm811k_new_train_class_Edge_Loc_10[\"waferMap\"].apply(lambda x: rotation_10_degree(x))\n",
    "wm811k_new_train_class_Edge_Loc_10['waferMap_augmentation_Dim']=wm811k_new_train_class_Edge_Loc_10['waferMap_augmentation'].apply(find_dim)\n",
    "\n",
    "# -10도 회전 : 10% - 758개\n",
    "wm811k_new_train_class_Edge_Loc_minus_10 = wm811k_new_train_class_Edge_Loc.sample(n=758, random_state=2022)\n",
    "wm811k_new_train_class_Edge_Loc_minus_10[\"waferMap_augmentation\"] = wm811k_new_train_class_Edge_Loc_minus_10[\"waferMap\"].apply(lambda x: rotation_minus_10_degree(x))\n",
    "wm811k_new_train_class_Edge_Loc_minus_10['waferMap_augmentation_Dim']=wm811k_new_train_class_Edge_Loc_minus_10['waferMap_augmentation'].apply(find_dim)\n",
    "\n",
    "# 좌우 대칭 : 20% - 1517개\n",
    "wm811k_new_train_class_Edge_Loc_flip = wm811k_new_train_class_Edge_Loc.sample(n=1517, random_state=2022)\n",
    "wm811k_new_train_class_Edge_Loc_flip[\"waferMap_augmentation\"] = wm811k_new_train_class_Edge_Loc_flip[\"waferMap\"].apply(lambda x: filping(x))\n",
    "wm811k_new_train_class_Edge_Loc_flip['waferMap_augmentation_Dim']=wm811k_new_train_class_Edge_Loc_flip['waferMap_augmentation'].apply(find_dim)\n",
    "\n",
    "# 평행 이동 : 30% - 2275개\n",
    "wm811k_new_train_class_Edge_Loc_translate = wm811k_new_train_class_Edge_Loc.sample(n=2275, random_state=2022)\n",
    "wm811k_new_train_class_Edge_Loc_translate[\"waferMap_augmentation\"] = wm811k_new_train_class_Edge_Loc_translate[\"waferMap\"].apply(lambda x: translate(x))\n",
    "wm811k_new_train_class_Edge_Loc_translate['waferMap_augmentation_Dim']=wm811k_new_train_class_Edge_Loc_translate['waferMap_augmentation'].apply(find_dim)\n",
    "\n",
    "# 전단 범위(shearing range) : 10% - 758개\n",
    "wm811k_new_train_class_Edge_Loc_shearing = wm811k_new_train_class_Edge_Loc.sample(n=758, random_state=2022)\n",
    "wm811k_new_train_class_Edge_Loc_shearing[\"waferMap_augmentation\"] = wm811k_new_train_class_Edge_Loc_shearing[\"waferMap\"].apply(lambda x: shearing(x))\n",
    "wm811k_new_train_class_Edge_Loc_shearing['waferMap_augmentation_Dim']=wm811k_new_train_class_Edge_Loc_shearing['waferMap_augmentation'].apply(find_dim)\n",
    "\n",
    "# 확대 : 20% - 1517개\n",
    "wm811k_new_train_class_Edge_Loc_resize = wm811k_new_train_class_Edge_Loc.sample(n=1517, random_state=2022)\n",
    "wm811k_new_train_class_Edge_Loc_resize[\"waferMap_augmentation\"] = wm811k_new_train_class_Edge_Loc_resize[\"waferMap\"].apply(lambda x: resizing(x))\n",
    "wm811k_new_train_class_Edge_Loc_resize['waferMap_augmentation_Dim']=wm811k_new_train_class_Edge_Loc_resize['waferMap_augmentation'].apply(find_dim)\n",
    "\n",
    "# concat\n",
    "wm811k_new_train_class_Edge_Loc_augmentation = pd.concat([wm811k_new_train_class_Edge_Loc,\n",
    "                                                          wm811k_new_train_class_Edge_Loc_10,\n",
    "                                                          wm811k_new_train_class_Edge_Loc_minus_10,\n",
    "                                                          wm811k_new_train_class_Edge_Loc_flip,\n",
    "                                                          wm811k_new_train_class_Edge_Loc_translate,\n",
    "                                                          wm811k_new_train_class_Edge_Loc_shearing,\n",
    "                                                          wm811k_new_train_class_Edge_Loc_resize\n",
    "                                                         ])\n",
    "wm811k_new_train_class_Edge_Loc_augmentation.info()"
   ]
  },
  {
   "cell_type": "code",
   "execution_count": 51,
   "id": "c9c16921",
   "metadata": {
    "execution": {
     "iopub.execute_input": "2022-04-11T14:52:37.093149Z",
     "iopub.status.busy": "2022-04-11T14:52:37.093149Z",
     "iopub.status.idle": "2022-04-11T14:52:39.360133Z",
     "shell.execute_reply": "2022-04-11T14:52:39.359634Z",
     "shell.execute_reply.started": "2022-04-11T14:52:37.093149Z"
    },
    "tags": []
   },
   "outputs": [
    {
     "name": "stdout",
     "output_type": "stream",
     "text": [
      "<class 'pandas.core.frame.DataFrame'>\n",
      "Int64Index: 1620 entries, 19 to 791433\n",
      "Data columns (total 10 columns):\n",
      " #   Column                     Non-Null Count  Dtype  \n",
      "---  ------                     --------------  -----  \n",
      " 0   waferMap                   1620 non-null   object \n",
      " 1   dieSize                    1620 non-null   float64\n",
      " 2   lotName                    1620 non-null   object \n",
      " 3   trianTestLabel             1620 non-null   object \n",
      " 4   failureType                1620 non-null   object \n",
      " 5   waferMapDim                1620 non-null   object \n",
      " 6   failureNum                 1620 non-null   object \n",
      " 7   trainTestNum               1620 non-null   object \n",
      " 8   waferMap_augmentation      1620 non-null   object \n",
      " 9   waferMap_augmentation_Dim  1620 non-null   object \n",
      "dtypes: float64(1), object(9)\n",
      "memory usage: 139.2+ KB\n"
     ]
    },
    {
     "name": "stderr",
     "output_type": "stream",
     "text": [
      "C:\\Users\\kjt\\Anaconda3\\envs\\dlit\\lib\\site-packages\\ipykernel_launcher.py:3: SettingWithCopyWarning: \n",
      "A value is trying to be set on a copy of a slice from a DataFrame.\n",
      "Try using .loc[row_indexer,col_indexer] = value instead\n",
      "\n",
      "See the caveats in the documentation: https://pandas.pydata.org/pandas-docs/stable/user_guide/indexing.html#returning-a-view-versus-a-copy\n",
      "  This is separate from the ipykernel package so we can avoid doing imports until\n",
      "C:\\Users\\kjt\\Anaconda3\\envs\\dlit\\lib\\site-packages\\ipykernel_launcher.py:4: SettingWithCopyWarning: \n",
      "A value is trying to be set on a copy of a slice from a DataFrame.\n",
      "Try using .loc[row_indexer,col_indexer] = value instead\n",
      "\n",
      "See the caveats in the documentation: https://pandas.pydata.org/pandas-docs/stable/user_guide/indexing.html#returning-a-view-versus-a-copy\n",
      "  after removing the cwd from sys.path.\n"
     ]
    },
    {
     "name": "stdout",
     "output_type": "stream",
     "text": [
      "<class 'pandas.core.frame.DataFrame'>\n",
      "Int64Index: 3296 entries, 19 to 12757\n",
      "Data columns (total 10 columns):\n",
      " #   Column                     Non-Null Count  Dtype  \n",
      "---  ------                     --------------  -----  \n",
      " 0   waferMap                   3296 non-null   object \n",
      " 1   dieSize                    3296 non-null   float64\n",
      " 2   lotName                    3296 non-null   object \n",
      " 3   trianTestLabel             3296 non-null   object \n",
      " 4   failureType                3296 non-null   object \n",
      " 5   waferMapDim                3296 non-null   object \n",
      " 6   failureNum                 3296 non-null   object \n",
      " 7   trainTestNum               3296 non-null   object \n",
      " 8   waferMap_augmentation      3296 non-null   object \n",
      " 9   waferMap_augmentation_Dim  3296 non-null   object \n",
      "dtypes: float64(1), object(9)\n",
      "memory usage: 283.2+ KB\n",
      "<class 'pandas.core.frame.DataFrame'>\n",
      "Int64Index: 10000 entries, 19 to 190823\n",
      "Data columns (total 10 columns):\n",
      " #   Column                     Non-Null Count  Dtype  \n",
      "---  ------                     --------------  -----  \n",
      " 0   waferMap                   10000 non-null  object \n",
      " 1   dieSize                    10000 non-null  float64\n",
      " 2   lotName                    10000 non-null  object \n",
      " 3   trianTestLabel             10000 non-null  object \n",
      " 4   failureType                10000 non-null  object \n",
      " 5   waferMapDim                10000 non-null  object \n",
      " 6   failureNum                 10000 non-null  object \n",
      " 7   trainTestNum               10000 non-null  object \n",
      " 8   waferMap_augmentation      10000 non-null  object \n",
      " 9   waferMap_augmentation_Dim  10000 non-null  object \n",
      "dtypes: float64(1), object(9)\n",
      "memory usage: 859.4+ KB\n"
     ]
    }
   ],
   "source": [
    "# Loc(4) 현 보유 1,620개 / 8,380개 augmentation 필요\n",
    "wm811k_new_train_class_Loc = wm811k_train.query(\"failureNum == 4\")\n",
    "wm811k_new_train_class_Loc[\"waferMap_augmentation\"] = wm811k_new_train_class_Loc['waferMap'].apply(lambda x: zero_padding(x,224))\n",
    "wm811k_new_train_class_Loc['waferMap_augmentation_Dim']=wm811k_new_train_class_Loc['waferMap_augmentation'].apply(find_dim)\n",
    "wm811k_new_train_class_Loc.info()\n",
    "\n",
    "# +10도 회전 : 10% - 838개\n",
    "wm811k_new_train_class_Loc_10 = wm811k_new_train_class_Loc.sample(n=838, random_state=2022)\n",
    "wm811k_new_train_class_Loc_10[\"waferMap_augmentation\"] = wm811k_new_train_class_Loc_10[\"waferMap\"].apply(lambda x: rotation_10_degree(x))\n",
    "wm811k_new_train_class_Loc_10['waferMap_augmentation_Dim']=wm811k_new_train_class_Loc_10['waferMap_augmentation'].apply(find_dim)\n",
    "\n",
    "# -10도 회전 : 10% - 838개\n",
    "wm811k_new_train_class_Loc_minus_10 = wm811k_new_train_class_Loc.sample(n=838, random_state=2022)\n",
    "wm811k_new_train_class_Loc_minus_10[\"waferMap_augmentation\"] = wm811k_new_train_class_Loc_minus_10[\"waferMap\"].apply(lambda x: rotation_minus_10_degree(x))\n",
    "wm811k_new_train_class_Loc_minus_10['waferMap_augmentation_Dim']=wm811k_new_train_class_Loc_minus_10['waferMap_augmentation'].apply(find_dim)\n",
    "\n",
    "# 중간 concat\n",
    "wm811k_new_train_class_Loc_patial_concat = pd.concat([wm811k_new_train_class_Loc,\n",
    "                                                      wm811k_new_train_class_Loc_10,\n",
    "                                                      wm811k_new_train_class_Loc_minus_10\n",
    "                                                     ])\n",
    "wm811k_new_train_class_Loc_patial_concat.info()\n",
    "\n",
    "# 좌우 대칭 : 20%  - \"1676개\"\n",
    "wm811k_new_train_class_Loc_flip = wm811k_new_train_class_Loc_patial_concat.sample(n=1676, random_state=2022)\n",
    "wm811k_new_train_class_Loc_flip[\"waferMap_augmentation\"] = wm811k_new_train_class_Loc_flip[\"waferMap\"].apply(lambda x: filping(x))\n",
    "wm811k_new_train_class_Loc_flip['waferMap_augmentation_Dim']=wm811k_new_train_class_Loc_flip['waferMap_augmentation'].apply(find_dim)\n",
    "\n",
    "# 평행 이동 : 30%  - \"2514개\"\n",
    "wm811k_new_train_class_Loc_translate = wm811k_new_train_class_Loc_patial_concat.sample(n=2514, random_state=2022)\n",
    "wm811k_new_train_class_Loc_translate[\"waferMap_augmentation\"] = wm811k_new_train_class_Loc_translate[\"waferMap\"].apply(lambda x: translate(x))\n",
    "wm811k_new_train_class_Loc_translate['waferMap_augmentation_Dim']=wm811k_new_train_class_Loc_translate['waferMap_augmentation'].apply(find_dim)\n",
    "\n",
    "# 전단 범위(shearing range) : 10% - 838개\n",
    "wm811k_new_train_class_Loc_shearing = wm811k_new_train_class_Loc.sample(n=838, random_state=2022)\n",
    "wm811k_new_train_class_Loc_shearing[\"waferMap_augmentation\"] = wm811k_new_train_class_Loc_shearing[\"waferMap\"].apply(lambda x: shearing(x))\n",
    "wm811k_new_train_class_Loc_shearing['waferMap_augmentation_Dim']=wm811k_new_train_class_Loc_shearing['waferMap_augmentation'].apply(find_dim)\n",
    "\n",
    "# 확대 : 20% - \"1676개\"\n",
    "wm811k_new_train_class_Loc_resize = wm811k_new_train_class_Loc_patial_concat.sample(n=1676, random_state=2022)\n",
    "wm811k_new_train_class_Loc_resize[\"waferMap_augmentation\"] = wm811k_new_train_class_Loc_resize[\"waferMap\"].apply(lambda x: resizing(x))\n",
    "wm811k_new_train_class_Loc_resize['waferMap_augmentation_Dim']=wm811k_new_train_class_Loc_resize['waferMap_augmentation'].apply(find_dim)\n",
    "\n",
    "# concat\n",
    "wm811k_new_train_class_Loc_augmentation = pd.concat([wm811k_new_train_class_Loc,\n",
    "                                                      wm811k_new_train_class_Loc_10,\n",
    "                                                      wm811k_new_train_class_Loc_minus_10,\n",
    "                                                      wm811k_new_train_class_Loc_flip,\n",
    "                                                      wm811k_new_train_class_Loc_translate,\n",
    "                                                      wm811k_new_train_class_Loc_shearing,\n",
    "                                                      wm811k_new_train_class_Loc_resize\n",
    "                                                     ])\n",
    "wm811k_new_train_class_Loc_augmentation.info()"
   ]
  },
  {
   "cell_type": "code",
   "execution_count": 52,
   "id": "5e2753b5",
   "metadata": {
    "execution": {
     "iopub.execute_input": "2022-04-11T14:52:39.361905Z",
     "iopub.status.busy": "2022-04-11T14:52:39.361302Z",
     "iopub.status.idle": "2022-04-11T14:52:42.238869Z",
     "shell.execute_reply": "2022-04-11T14:52:42.238367Z",
     "shell.execute_reply.started": "2022-04-11T14:52:39.361905Z"
    },
    "tags": []
   },
   "outputs": [
    {
     "name": "stdout",
     "output_type": "stream",
     "text": [
      "<class 'pandas.core.frame.DataFrame'>\n",
      "Int64Index: 609 entries, 602 to 751939\n",
      "Data columns (total 10 columns):\n",
      " #   Column                     Non-Null Count  Dtype  \n",
      "---  ------                     --------------  -----  \n",
      " 0   waferMap                   609 non-null    object \n",
      " 1   dieSize                    609 non-null    float64\n",
      " 2   lotName                    609 non-null    object \n",
      " 3   trianTestLabel             609 non-null    object \n",
      " 4   failureType                609 non-null    object \n",
      " 5   waferMapDim                609 non-null    object \n",
      " 6   failureNum                 609 non-null    object \n",
      " 7   trainTestNum               609 non-null    object \n",
      " 8   waferMap_augmentation      609 non-null    object \n",
      " 9   waferMap_augmentation_Dim  609 non-null    object \n",
      "dtypes: float64(1), object(9)\n",
      "memory usage: 52.3+ KB\n",
      "<class 'pandas.core.frame.DataFrame'>\n",
      "Int64Index: 1827 entries, 602 to 751939\n",
      "Data columns (total 10 columns):\n",
      " #   Column                     Non-Null Count  Dtype  \n",
      "---  ------                     --------------  -----  \n",
      " 0   waferMap                   1827 non-null   object \n",
      " 1   dieSize                    1827 non-null   float64\n",
      " 2   lotName                    1827 non-null   object \n",
      " 3   trianTestLabel             1827 non-null   object \n",
      " 4   failureType                1827 non-null   object \n",
      " 5   waferMapDim                1827 non-null   object \n",
      " 6   failureNum                 1827 non-null   object \n",
      " 7   trainTestNum               1827 non-null   object \n",
      " 8   waferMap_augmentation      1827 non-null   object \n",
      " 9   waferMap_augmentation_Dim  1827 non-null   object \n",
      "dtypes: float64(1), object(9)\n",
      "memory usage: 157.0+ KB\n"
     ]
    },
    {
     "name": "stderr",
     "output_type": "stream",
     "text": [
      "C:\\Users\\kjt\\Anaconda3\\envs\\dlit\\lib\\site-packages\\ipykernel_launcher.py:3: SettingWithCopyWarning: \n",
      "A value is trying to be set on a copy of a slice from a DataFrame.\n",
      "Try using .loc[row_indexer,col_indexer] = value instead\n",
      "\n",
      "See the caveats in the documentation: https://pandas.pydata.org/pandas-docs/stable/user_guide/indexing.html#returning-a-view-versus-a-copy\n",
      "  This is separate from the ipykernel package so we can avoid doing imports until\n",
      "C:\\Users\\kjt\\Anaconda3\\envs\\dlit\\lib\\site-packages\\ipykernel_launcher.py:4: SettingWithCopyWarning: \n",
      "A value is trying to be set on a copy of a slice from a DataFrame.\n",
      "Try using .loc[row_indexer,col_indexer] = value instead\n",
      "\n",
      "See the caveats in the documentation: https://pandas.pydata.org/pandas-docs/stable/user_guide/indexing.html#returning-a-view-versus-a-copy\n",
      "  after removing the cwd from sys.path.\n"
     ]
    },
    {
     "name": "stdout",
     "output_type": "stream",
     "text": [
      "<class 'pandas.core.frame.DataFrame'>\n",
      "Int64Index: 3654 entries, 602 to 751939\n",
      "Data columns (total 10 columns):\n",
      " #   Column                     Non-Null Count  Dtype  \n",
      "---  ------                     --------------  -----  \n",
      " 0   waferMap                   3654 non-null   object \n",
      " 1   dieSize                    3654 non-null   float64\n",
      " 2   lotName                    3654 non-null   object \n",
      " 3   trianTestLabel             3654 non-null   object \n",
      " 4   failureType                3654 non-null   object \n",
      " 5   waferMapDim                3654 non-null   object \n",
      " 6   failureNum                 3654 non-null   object \n",
      " 7   trainTestNum               3654 non-null   object \n",
      " 8   waferMap_augmentation      3654 non-null   object \n",
      " 9   waferMap_augmentation_Dim  3654 non-null   object \n",
      "dtypes: float64(1), object(9)\n",
      "memory usage: 314.0+ KB\n",
      "<class 'pandas.core.frame.DataFrame'>\n",
      "Int64Index: 10000 entries, 602 to 124703\n",
      "Data columns (total 10 columns):\n",
      " #   Column                     Non-Null Count  Dtype  \n",
      "---  ------                     --------------  -----  \n",
      " 0   waferMap                   10000 non-null  object \n",
      " 1   dieSize                    10000 non-null  float64\n",
      " 2   lotName                    10000 non-null  object \n",
      " 3   trianTestLabel             10000 non-null  object \n",
      " 4   failureType                10000 non-null  object \n",
      " 5   waferMapDim                10000 non-null  object \n",
      " 6   failureNum                 10000 non-null  object \n",
      " 7   trainTestNum               10000 non-null  object \n",
      " 8   waferMap_augmentation      10000 non-null  object \n",
      " 9   waferMap_augmentation_Dim  10000 non-null  object \n",
      "dtypes: float64(1), object(9)\n",
      "memory usage: 859.4+ KB\n"
     ]
    }
   ],
   "source": [
    "# Random(5) 현 보유 609개 / 9,391개 augmentation 필요\n",
    "wm811k_new_train_class_Random = wm811k_train.query(\"failureNum == 5\")\n",
    "wm811k_new_train_class_Random[\"waferMap_augmentation\"] = wm811k_new_train_class_Random['waferMap'].apply(lambda x: zero_padding(x,224))\n",
    "wm811k_new_train_class_Random['waferMap_augmentation_Dim']=wm811k_new_train_class_Random['waferMap_augmentation'].apply(find_dim)\n",
    "wm811k_new_train_class_Random.info()\n",
    "\n",
    "# +10도 회전 : 609개\n",
    "wm811k_new_train_class_Random_10 = wm811k_new_train_class_Random.copy()\n",
    "wm811k_new_train_class_Random_10[\"waferMap_augmentation\"] = wm811k_new_train_class_Random_10[\"waferMap\"].apply(lambda x: rotation_10_degree(x))\n",
    "wm811k_new_train_class_Random_10['waferMap_augmentation_Dim']=wm811k_new_train_class_Random_10['waferMap_augmentation'].apply(find_dim)\n",
    "\n",
    "# -10도 회전 : 609개\n",
    "wm811k_new_train_class_Random_minus_10 = wm811k_new_train_class_Random.copy()\n",
    "wm811k_new_train_class_Random_minus_10[\"waferMap_augmentation\"] = wm811k_new_train_class_Random_minus_10[\"waferMap\"].apply(lambda x: rotation_minus_10_degree(x))\n",
    "wm811k_new_train_class_Random_minus_10['waferMap_augmentation_Dim']=wm811k_new_train_class_Random_minus_10['waferMap_augmentation'].apply(find_dim)\n",
    "\n",
    "# 중간 concat : 1827개\n",
    "wm811k_new_train_class_Random_patial_concat1 = pd.concat([wm811k_new_train_class_Random,\n",
    "                                                          wm811k_new_train_class_Random_10,\n",
    "                                                          wm811k_new_train_class_Random_minus_10\n",
    "                                                         ])\n",
    "wm811k_new_train_class_Random_patial_concat1.info()\n",
    "\n",
    "# 좌우 대칭 : 1827개\n",
    "wm811k_new_train_class_Random_flip = wm811k_new_train_class_Random_patial_concat1.copy()\n",
    "wm811k_new_train_class_Random_flip[\"waferMap_augmentation\"] = wm811k_new_train_class_Random_flip[\"waferMap\"].apply(lambda x: filping(x))\n",
    "wm811k_new_train_class_Random_flip['waferMap_augmentation_Dim']=wm811k_new_train_class_Random_flip['waferMap_augmentation'].apply(find_dim)\n",
    "\n",
    "# 중간 concat : 3654개\n",
    "wm811k_new_train_class_Random_patial_concat2 = pd.concat([wm811k_new_train_class_Random,\n",
    "                                                          wm811k_new_train_class_Random_10,\n",
    "                                                          wm811k_new_train_class_Random_minus_10,\n",
    "                                                          wm811k_new_train_class_Random_flip\n",
    "                                                         ])\n",
    "wm811k_new_train_class_Random_patial_concat2.info()\n",
    "\n",
    "# 평행 이동 : 2115개\n",
    "wm811k_new_train_class_Random_translate = wm811k_new_train_class_Random_patial_concat2.sample(n=2115, random_state=2022)\n",
    "wm811k_new_train_class_Random_translate[\"waferMap_augmentation\"] = wm811k_new_train_class_Random_translate[\"waferMap\"].apply(lambda x: translate(x))\n",
    "wm811k_new_train_class_Random_translate['waferMap_augmentation_Dim']=wm811k_new_train_class_Random_translate['waferMap_augmentation'].apply(find_dim)\n",
    "\n",
    "# 전단 범위(shearing range) : 2115개\n",
    "wm811k_new_train_class_Random_shearing = wm811k_new_train_class_Random_patial_concat2.sample(n=2115, random_state=2022)\n",
    "wm811k_new_train_class_Random_shearing[\"waferMap_augmentation\"] = wm811k_new_train_class_Random_shearing[\"waferMap\"].apply(lambda x: shearing(x))\n",
    "wm811k_new_train_class_Random_shearing['waferMap_augmentation_Dim']=wm811k_new_train_class_Random_shearing['waferMap_augmentation'].apply(find_dim)\n",
    "\n",
    "# 확대 : 2116개\n",
    "wm811k_new_train_class_Random_resize = wm811k_new_train_class_Random_patial_concat2.sample(n=2116, random_state=2022)\n",
    "wm811k_new_train_class_Random_resize[\"waferMap_augmentation\"] = wm811k_new_train_class_Random_resize[\"waferMap\"].apply(lambda x: resizing(x))\n",
    "wm811k_new_train_class_Random_resize['waferMap_augmentation_Dim']=wm811k_new_train_class_Random_resize['waferMap_augmentation'].apply(find_dim)\n",
    "\n",
    "# concat\n",
    "wm811k_new_train_class_Random_augmentation = pd.concat([wm811k_new_train_class_Random,\n",
    "                                                        wm811k_new_train_class_Random_10,\n",
    "                                                        wm811k_new_train_class_Random_minus_10,\n",
    "                                                        wm811k_new_train_class_Random_flip,\n",
    "                                                        wm811k_new_train_class_Random_translate,\n",
    "                                                        wm811k_new_train_class_Random_shearing,\n",
    "                                                        wm811k_new_train_class_Random_resize\n",
    "                                                       ])\n",
    "wm811k_new_train_class_Random_augmentation.info()"
   ]
  },
  {
   "cell_type": "code",
   "execution_count": 53,
   "id": "973a4a4b",
   "metadata": {
    "execution": {
     "iopub.execute_input": "2022-04-11T14:52:42.239487Z",
     "iopub.status.busy": "2022-04-11T14:52:42.239487Z",
     "iopub.status.idle": "2022-04-11T14:52:45.624433Z",
     "shell.execute_reply": "2022-04-11T14:52:45.623933Z",
     "shell.execute_reply.started": "2022-04-11T14:52:42.239487Z"
    },
    "tags": []
   },
   "outputs": [
    {
     "name": "stdout",
     "output_type": "stream",
     "text": [
      "<class 'pandas.core.frame.DataFrame'>\n",
      "Int64Index: 500 entries, 134 to 791228\n",
      "Data columns (total 10 columns):\n",
      " #   Column                     Non-Null Count  Dtype  \n",
      "---  ------                     --------------  -----  \n",
      " 0   waferMap                   500 non-null    object \n",
      " 1   dieSize                    500 non-null    float64\n",
      " 2   lotName                    500 non-null    object \n",
      " 3   trianTestLabel             500 non-null    object \n",
      " 4   failureType                500 non-null    object \n",
      " 5   waferMapDim                500 non-null    object \n",
      " 6   failureNum                 500 non-null    object \n",
      " 7   trainTestNum               500 non-null    object \n",
      " 8   waferMap_augmentation      500 non-null    object \n",
      " 9   waferMap_augmentation_Dim  500 non-null    object \n",
      "dtypes: float64(1), object(9)\n",
      "memory usage: 43.0+ KB\n",
      "<class 'pandas.core.frame.DataFrame'>\n",
      "Int64Index: 1500 entries, 134 to 791228\n",
      "Data columns (total 10 columns):\n",
      " #   Column                     Non-Null Count  Dtype  \n",
      "---  ------                     --------------  -----  \n",
      " 0   waferMap                   1500 non-null   object \n",
      " 1   dieSize                    1500 non-null   float64\n",
      " 2   lotName                    1500 non-null   object \n",
      " 3   trianTestLabel             1500 non-null   object \n",
      " 4   failureType                1500 non-null   object \n",
      " 5   waferMapDim                1500 non-null   object \n",
      " 6   failureNum                 1500 non-null   object \n",
      " 7   trainTestNum               1500 non-null   object \n",
      " 8   waferMap_augmentation      1500 non-null   object \n",
      " 9   waferMap_augmentation_Dim  1500 non-null   object \n",
      "dtypes: float64(1), object(9)\n",
      "memory usage: 128.9+ KB\n"
     ]
    },
    {
     "name": "stderr",
     "output_type": "stream",
     "text": [
      "C:\\Users\\kjt\\Anaconda3\\envs\\dlit\\lib\\site-packages\\ipykernel_launcher.py:3: SettingWithCopyWarning: \n",
      "A value is trying to be set on a copy of a slice from a DataFrame.\n",
      "Try using .loc[row_indexer,col_indexer] = value instead\n",
      "\n",
      "See the caveats in the documentation: https://pandas.pydata.org/pandas-docs/stable/user_guide/indexing.html#returning-a-view-versus-a-copy\n",
      "  This is separate from the ipykernel package so we can avoid doing imports until\n",
      "C:\\Users\\kjt\\Anaconda3\\envs\\dlit\\lib\\site-packages\\ipykernel_launcher.py:4: SettingWithCopyWarning: \n",
      "A value is trying to be set on a copy of a slice from a DataFrame.\n",
      "Try using .loc[row_indexer,col_indexer] = value instead\n",
      "\n",
      "See the caveats in the documentation: https://pandas.pydata.org/pandas-docs/stable/user_guide/indexing.html#returning-a-view-versus-a-copy\n",
      "  after removing the cwd from sys.path.\n"
     ]
    },
    {
     "name": "stdout",
     "output_type": "stream",
     "text": [
      "<class 'pandas.core.frame.DataFrame'>\n",
      "Int64Index: 3000 entries, 134 to 791228\n",
      "Data columns (total 10 columns):\n",
      " #   Column                     Non-Null Count  Dtype  \n",
      "---  ------                     --------------  -----  \n",
      " 0   waferMap                   3000 non-null   object \n",
      " 1   dieSize                    3000 non-null   float64\n",
      " 2   lotName                    3000 non-null   object \n",
      " 3   trianTestLabel             3000 non-null   object \n",
      " 4   failureType                3000 non-null   object \n",
      " 5   waferMapDim                3000 non-null   object \n",
      " 6   failureNum                 3000 non-null   object \n",
      " 7   trainTestNum               3000 non-null   object \n",
      " 8   waferMap_augmentation      3000 non-null   object \n",
      " 9   waferMap_augmentation_Dim  3000 non-null   object \n",
      "dtypes: float64(1), object(9)\n",
      "memory usage: 257.8+ KB\n",
      "<class 'pandas.core.frame.DataFrame'>\n",
      "Int64Index: 6000 entries, 134 to 791228\n",
      "Data columns (total 10 columns):\n",
      " #   Column                     Non-Null Count  Dtype  \n",
      "---  ------                     --------------  -----  \n",
      " 0   waferMap                   6000 non-null   object \n",
      " 1   dieSize                    6000 non-null   float64\n",
      " 2   lotName                    6000 non-null   object \n",
      " 3   trianTestLabel             6000 non-null   object \n",
      " 4   failureType                6000 non-null   object \n",
      " 5   waferMapDim                6000 non-null   object \n",
      " 6   failureNum                 6000 non-null   object \n",
      " 7   trainTestNum               6000 non-null   object \n",
      " 8   waferMap_augmentation      6000 non-null   object \n",
      " 9   waferMap_augmentation_Dim  6000 non-null   object \n",
      "dtypes: float64(1), object(9)\n",
      "memory usage: 515.6+ KB\n",
      "<class 'pandas.core.frame.DataFrame'>\n",
      "Int64Index: 10000 entries, 134 to 358222\n",
      "Data columns (total 10 columns):\n",
      " #   Column                     Non-Null Count  Dtype  \n",
      "---  ------                     --------------  -----  \n",
      " 0   waferMap                   10000 non-null  object \n",
      " 1   dieSize                    10000 non-null  float64\n",
      " 2   lotName                    10000 non-null  object \n",
      " 3   trianTestLabel             10000 non-null  object \n",
      " 4   failureType                10000 non-null  object \n",
      " 5   waferMapDim                10000 non-null  object \n",
      " 6   failureNum                 10000 non-null  object \n",
      " 7   trainTestNum               10000 non-null  object \n",
      " 8   waferMap_augmentation      10000 non-null  object \n",
      " 9   waferMap_augmentation_Dim  10000 non-null  object \n",
      "dtypes: float64(1), object(9)\n",
      "memory usage: 859.4+ KB\n"
     ]
    }
   ],
   "source": [
    "# Scratch(6) 현 보유 500개 / 9,500개 augmentation 필요\n",
    "wm811k_new_train_class_Scratch = wm811k_train.query(\"failureNum == 6\")\n",
    "wm811k_new_train_class_Scratch[\"waferMap_augmentation\"] = wm811k_new_train_class_Scratch['waferMap'].apply(lambda x: zero_padding(x,224))\n",
    "wm811k_new_train_class_Scratch['waferMap_augmentation_Dim']=wm811k_new_train_class_Scratch['waferMap_augmentation'].apply(find_dim)\n",
    "wm811k_new_train_class_Scratch.info()\n",
    "\n",
    "# +10도 회전 : 500개\n",
    "wm811k_new_train_class_Scratch_10 = wm811k_new_train_class_Scratch.copy()\n",
    "wm811k_new_train_class_Scratch_10[\"waferMap_augmentation\"] = wm811k_new_train_class_Scratch_10[\"waferMap\"].apply(lambda x: rotation_10_degree(x))\n",
    "wm811k_new_train_class_Scratch_10['waferMap_augmentation_Dim']=wm811k_new_train_class_Scratch_10['waferMap_augmentation'].apply(find_dim)\n",
    "\n",
    "# -10도 회전 : 500개\n",
    "wm811k_new_train_class_Scratch_minus_10 = wm811k_new_train_class_Scratch.copy()\n",
    "wm811k_new_train_class_Scratch_minus_10[\"waferMap_augmentation\"] = wm811k_new_train_class_Scratch_minus_10[\"waferMap\"].apply(lambda x: rotation_minus_10_degree(x))\n",
    "wm811k_new_train_class_Scratch_minus_10['waferMap_augmentation_Dim']=wm811k_new_train_class_Scratch_minus_10['waferMap_augmentation'].apply(find_dim)\n",
    "\n",
    "# 중간 concat1 : 1500개\n",
    "wm811k_new_train_class_Scratch_patial_concat1 = pd.concat([wm811k_new_train_class_Scratch,\n",
    "                                                           wm811k_new_train_class_Scratch_10,\n",
    "                                                           wm811k_new_train_class_Scratch_minus_10\n",
    "                                                          ])\n",
    "wm811k_new_train_class_Scratch_patial_concat1.info()\n",
    "\n",
    "# 좌우 대칭 : 1500개\n",
    "wm811k_new_train_class_Scratch_flip = wm811k_new_train_class_Scratch_patial_concat1.copy()\n",
    "wm811k_new_train_class_Scratch_flip[\"waferMap_augmentation\"] = wm811k_new_train_class_Scratch_flip[\"waferMap\"].apply(lambda x: filping(x))\n",
    "wm811k_new_train_class_Scratch_flip['waferMap_augmentation_Dim']=wm811k_new_train_class_Scratch_flip['waferMap_augmentation'].apply(find_dim)\n",
    "\n",
    "# 중간 concat2 : 3000개\n",
    "wm811k_new_train_class_Scratch_patial_concat2 = pd.concat([wm811k_new_train_class_Scratch,\n",
    "                                                           wm811k_new_train_class_Scratch_10,\n",
    "                                                           wm811k_new_train_class_Scratch_minus_10,\n",
    "                                                           wm811k_new_train_class_Scratch_flip\n",
    "                                                          ])\n",
    "wm811k_new_train_class_Scratch_patial_concat2.info()\n",
    "\n",
    "# 평행 이동 : 3000개\n",
    "wm811k_new_train_class_Scratch_translate = wm811k_new_train_class_Scratch_patial_concat2.copy()\n",
    "wm811k_new_train_class_Scratch_translate[\"waferMap_augmentation\"] = wm811k_new_train_class_Scratch_translate[\"waferMap\"].apply(lambda x: translate(x))\n",
    "wm811k_new_train_class_Scratch_translate['waferMap_augmentation_Dim']=wm811k_new_train_class_Scratch_translate['waferMap_augmentation'].apply(find_dim)\n",
    "\n",
    "# 중간 concat3 : 6000개\n",
    "wm811k_new_train_class_Scratch_patial_concat3 = pd.concat([wm811k_new_train_class_Scratch,\n",
    "                                                           wm811k_new_train_class_Scratch_10,\n",
    "                                                           wm811k_new_train_class_Scratch_minus_10,\n",
    "                                                           wm811k_new_train_class_Scratch_flip,\n",
    "                                                           wm811k_new_train_class_Scratch_translate\n",
    "                                                          ])\n",
    "wm811k_new_train_class_Scratch_patial_concat3.info()\n",
    "\n",
    "# 전단 범위(shearing range) : 2000개\n",
    "wm811k_new_train_class_Scratch_shearing = wm811k_new_train_class_Scratch_patial_concat3.sample(n=2000, random_state=2022)\n",
    "wm811k_new_train_class_Scratch_shearing[\"waferMap_augmentation\"] = wm811k_new_train_class_Scratch_shearing[\"waferMap\"].apply(lambda x: shearing(x))\n",
    "wm811k_new_train_class_Scratch_shearing['waferMap_augmentation_Dim']=wm811k_new_train_class_Scratch_shearing['waferMap_augmentation'].apply(find_dim)\n",
    "\n",
    "# 확대 : 2000개\n",
    "wm811k_new_train_class_Scratch_resize = wm811k_new_train_class_Scratch_patial_concat3.sample(n=2000, random_state=2022)\n",
    "wm811k_new_train_class_Scratch_resize[\"waferMap_augmentation\"] = wm811k_new_train_class_Scratch_resize[\"waferMap\"].apply(lambda x: resizing(x))\n",
    "wm811k_new_train_class_Scratch_resize['waferMap_augmentation_Dim']=wm811k_new_train_class_Scratch_resize['waferMap_augmentation'].apply(find_dim)\n",
    "\n",
    "# concat\n",
    "wm811k_new_train_class_Scratch_augmentation = pd.concat([wm811k_new_train_class_Scratch,\n",
    "                                                         wm811k_new_train_class_Scratch_10,\n",
    "                                                         wm811k_new_train_class_Scratch_minus_10,\n",
    "                                                         wm811k_new_train_class_Scratch_flip,\n",
    "                                                         wm811k_new_train_class_Scratch_translate,\n",
    "                                                         wm811k_new_train_class_Scratch_shearing,\n",
    "                                                         wm811k_new_train_class_Scratch_resize\n",
    "                                                        ])\n",
    "wm811k_new_train_class_Scratch_augmentation.info()"
   ]
  },
  {
   "cell_type": "code",
   "execution_count": 54,
   "id": "709094fb",
   "metadata": {
    "execution": {
     "iopub.execute_input": "2022-04-11T14:52:45.625572Z",
     "iopub.status.busy": "2022-04-11T14:52:45.625572Z",
     "iopub.status.idle": "2022-04-11T14:52:50.729883Z",
     "shell.execute_reply": "2022-04-11T14:52:50.729107Z",
     "shell.execute_reply.started": "2022-04-11T14:52:45.625572Z"
    },
    "tags": []
   },
   "outputs": [
    {
     "name": "stdout",
     "output_type": "stream",
     "text": [
      "<class 'pandas.core.frame.DataFrame'>\n",
      "Int64Index: 409 entries, 7316 to 747563\n",
      "Data columns (total 10 columns):\n",
      " #   Column                     Non-Null Count  Dtype  \n",
      "---  ------                     --------------  -----  \n",
      " 0   waferMap                   409 non-null    object \n",
      " 1   dieSize                    409 non-null    float64\n",
      " 2   lotName                    409 non-null    object \n",
      " 3   trianTestLabel             409 non-null    object \n",
      " 4   failureType                409 non-null    object \n",
      " 5   waferMapDim                409 non-null    object \n",
      " 6   failureNum                 409 non-null    object \n",
      " 7   trainTestNum               409 non-null    object \n",
      " 8   waferMap_augmentation      409 non-null    object \n",
      " 9   waferMap_augmentation_Dim  409 non-null    object \n",
      "dtypes: float64(1), object(9)\n",
      "memory usage: 35.1+ KB\n",
      "<class 'pandas.core.frame.DataFrame'>\n",
      "Int64Index: 1227 entries, 7316 to 747563\n",
      "Data columns (total 10 columns):\n",
      " #   Column                     Non-Null Count  Dtype  \n",
      "---  ------                     --------------  -----  \n",
      " 0   waferMap                   1227 non-null   object \n",
      " 1   dieSize                    1227 non-null   float64\n",
      " 2   lotName                    1227 non-null   object \n",
      " 3   trianTestLabel             1227 non-null   object \n",
      " 4   failureType                1227 non-null   object \n",
      " 5   waferMapDim                1227 non-null   object \n",
      " 6   failureNum                 1227 non-null   object \n",
      " 7   trainTestNum               1227 non-null   object \n",
      " 8   waferMap_augmentation      1227 non-null   object \n",
      " 9   waferMap_augmentation_Dim  1227 non-null   object \n",
      "dtypes: float64(1), object(9)\n",
      "memory usage: 105.4+ KB\n",
      "<class 'pandas.core.frame.DataFrame'>\n",
      "Int64Index: 2454 entries, 7316 to 747563\n",
      "Data columns (total 10 columns):\n",
      " #   Column                     Non-Null Count  Dtype  \n",
      "---  ------                     --------------  -----  \n",
      " 0   waferMap                   2454 non-null   object \n",
      " 1   dieSize                    2454 non-null   float64\n",
      " 2   lotName                    2454 non-null   object \n",
      " 3   trianTestLabel             2454 non-null   object \n",
      " 4   failureType                2454 non-null   object \n",
      " 5   waferMapDim                2454 non-null   object \n",
      " 6   failureNum                 2454 non-null   object \n",
      " 7   trainTestNum               2454 non-null   object \n",
      " 8   waferMap_augmentation      2454 non-null   object \n",
      " 9   waferMap_augmentation_Dim  2454 non-null   object \n",
      "dtypes: float64(1), object(9)\n",
      "memory usage: 210.9+ KB\n"
     ]
    },
    {
     "name": "stderr",
     "output_type": "stream",
     "text": [
      "C:\\Users\\kjt\\Anaconda3\\envs\\dlit\\lib\\site-packages\\ipykernel_launcher.py:3: SettingWithCopyWarning: \n",
      "A value is trying to be set on a copy of a slice from a DataFrame.\n",
      "Try using .loc[row_indexer,col_indexer] = value instead\n",
      "\n",
      "See the caveats in the documentation: https://pandas.pydata.org/pandas-docs/stable/user_guide/indexing.html#returning-a-view-versus-a-copy\n",
      "  This is separate from the ipykernel package so we can avoid doing imports until\n",
      "C:\\Users\\kjt\\Anaconda3\\envs\\dlit\\lib\\site-packages\\ipykernel_launcher.py:4: SettingWithCopyWarning: \n",
      "A value is trying to be set on a copy of a slice from a DataFrame.\n",
      "Try using .loc[row_indexer,col_indexer] = value instead\n",
      "\n",
      "See the caveats in the documentation: https://pandas.pydata.org/pandas-docs/stable/user_guide/indexing.html#returning-a-view-versus-a-copy\n",
      "  after removing the cwd from sys.path.\n"
     ]
    },
    {
     "name": "stdout",
     "output_type": "stream",
     "text": [
      "<class 'pandas.core.frame.DataFrame'>\n",
      "Int64Index: 4908 entries, 7316 to 747563\n",
      "Data columns (total 10 columns):\n",
      " #   Column                     Non-Null Count  Dtype  \n",
      "---  ------                     --------------  -----  \n",
      " 0   waferMap                   4908 non-null   object \n",
      " 1   dieSize                    4908 non-null   float64\n",
      " 2   lotName                    4908 non-null   object \n",
      " 3   trianTestLabel             4908 non-null   object \n",
      " 4   failureType                4908 non-null   object \n",
      " 5   waferMapDim                4908 non-null   object \n",
      " 6   failureNum                 4908 non-null   object \n",
      " 7   trainTestNum               4908 non-null   object \n",
      " 8   waferMap_augmentation      4908 non-null   object \n",
      " 9   waferMap_augmentation_Dim  4908 non-null   object \n",
      "dtypes: float64(1), object(9)\n",
      "memory usage: 421.8+ KB\n",
      "<class 'pandas.core.frame.DataFrame'>\n",
      "Int64Index: 9816 entries, 7316 to 747563\n",
      "Data columns (total 10 columns):\n",
      " #   Column                     Non-Null Count  Dtype  \n",
      "---  ------                     --------------  -----  \n",
      " 0   waferMap                   9816 non-null   object \n",
      " 1   dieSize                    9816 non-null   float64\n",
      " 2   lotName                    9816 non-null   object \n",
      " 3   trianTestLabel             9816 non-null   object \n",
      " 4   failureType                9816 non-null   object \n",
      " 5   waferMapDim                9816 non-null   object \n",
      " 6   failureNum                 9816 non-null   object \n",
      " 7   trainTestNum               9816 non-null   object \n",
      " 8   waferMap_augmentation      9816 non-null   object \n",
      " 9   waferMap_augmentation_Dim  9816 non-null   object \n",
      "dtypes: float64(1), object(9)\n",
      "memory usage: 843.6+ KB\n",
      "<class 'pandas.core.frame.DataFrame'>\n",
      "Int64Index: 10000 entries, 7316 to 279392\n",
      "Data columns (total 10 columns):\n",
      " #   Column                     Non-Null Count  Dtype  \n",
      "---  ------                     --------------  -----  \n",
      " 0   waferMap                   10000 non-null  object \n",
      " 1   dieSize                    10000 non-null  float64\n",
      " 2   lotName                    10000 non-null  object \n",
      " 3   trianTestLabel             10000 non-null  object \n",
      " 4   failureType                10000 non-null  object \n",
      " 5   waferMapDim                10000 non-null  object \n",
      " 6   failureNum                 10000 non-null  object \n",
      " 7   trainTestNum               10000 non-null  object \n",
      " 8   waferMap_augmentation      10000 non-null  object \n",
      " 9   waferMap_augmentation_Dim  10000 non-null  object \n",
      "dtypes: float64(1), object(9)\n",
      "memory usage: 859.4+ KB\n"
     ]
    }
   ],
   "source": [
    "# Donut(1) 현 보유 409개 / 9,591개 augmentation 필요\n",
    "wm811k_new_train_class_Donut = wm811k_train.query(\"failureNum == 1\")\n",
    "wm811k_new_train_class_Donut[\"waferMap_augmentation\"] = wm811k_new_train_class_Donut['waferMap'].apply(lambda x: zero_padding(x,224))\n",
    "wm811k_new_train_class_Donut['waferMap_augmentation_Dim']=wm811k_new_train_class_Donut['waferMap_augmentation'].apply(find_dim)\n",
    "wm811k_new_train_class_Donut.info()\n",
    "\n",
    "# +10도 회전 : 409개\n",
    "wm811k_new_train_class_Donut_10 = wm811k_new_train_class_Donut.copy()\n",
    "wm811k_new_train_class_Donut_10[\"waferMap_augmentation\"] = wm811k_new_train_class_Donut_10[\"waferMap\"].apply(lambda x: rotation_10_degree(x))\n",
    "wm811k_new_train_class_Donut_10['waferMap_augmentation_Dim']=wm811k_new_train_class_Donut_10['waferMap_augmentation'].apply(find_dim)\n",
    "\n",
    "# -10도 회전 : 409개\n",
    "wm811k_new_train_class_Donut_minus_10 = wm811k_new_train_class_Donut.copy()\n",
    "wm811k_new_train_class_Donut_minus_10[\"waferMap_augmentation\"] = wm811k_new_train_class_Donut_minus_10[\"waferMap\"].apply(lambda x: rotation_minus_10_degree(x))\n",
    "wm811k_new_train_class_Donut_minus_10['waferMap_augmentation_Dim']=wm811k_new_train_class_Donut_minus_10['waferMap_augmentation'].apply(find_dim)\n",
    "\n",
    "# 중간 concat1 : 1227개\n",
    "wm811k_new_train_class_Donut_patial_concat1 = pd.concat([wm811k_new_train_class_Donut,\n",
    "                                                         wm811k_new_train_class_Donut_10,\n",
    "                                                         wm811k_new_train_class_Donut_minus_10\n",
    "                                                        ])\n",
    "wm811k_new_train_class_Donut_patial_concat1.info()\n",
    "\n",
    "# 좌우 대칭 : 1227개\n",
    "wm811k_new_train_class_Donut_flip = wm811k_new_train_class_Donut_patial_concat1.copy()\n",
    "wm811k_new_train_class_Donut_flip[\"waferMap_augmentation\"] = wm811k_new_train_class_Donut_flip[\"waferMap\"].apply(lambda x: filping(x))\n",
    "wm811k_new_train_class_Donut_flip['waferMap_augmentation_Dim']=wm811k_new_train_class_Donut_flip['waferMap_augmentation'].apply(find_dim)\n",
    "\n",
    "# 중간 concat2 : 2454개\n",
    "wm811k_new_train_class_Donut_patial_concat2 = pd.concat([wm811k_new_train_class_Donut,\n",
    "                                                         wm811k_new_train_class_Donut_10,\n",
    "                                                         wm811k_new_train_class_Donut_minus_10,\n",
    "                                                         wm811k_new_train_class_Donut_flip\n",
    "                                                        ])\n",
    "wm811k_new_train_class_Donut_patial_concat2.info()\n",
    "\n",
    "# 평행 이동 : 2454개\n",
    "wm811k_new_train_class_Donut_translate = wm811k_new_train_class_Donut_patial_concat2.copy()\n",
    "wm811k_new_train_class_Donut_translate[\"waferMap_augmentation\"] = wm811k_new_train_class_Donut_translate[\"waferMap\"].apply(lambda x: translate(x))\n",
    "wm811k_new_train_class_Donut_translate['waferMap_augmentation_Dim']=wm811k_new_train_class_Donut_translate['waferMap_augmentation'].apply(find_dim)\n",
    "\n",
    "# 중간 concat3 : 4908개\n",
    "wm811k_new_train_class_Donut_patial_concat3 = pd.concat([wm811k_new_train_class_Donut,\n",
    "                                                         wm811k_new_train_class_Donut_10,\n",
    "                                                         wm811k_new_train_class_Donut_minus_10,\n",
    "                                                         wm811k_new_train_class_Donut_flip,\n",
    "                                                         wm811k_new_train_class_Donut_translate\n",
    "                                                        ])\n",
    "wm811k_new_train_class_Donut_patial_concat3.info()\n",
    "\n",
    "# 전단 범위(shearing range) : 4908개\n",
    "wm811k_new_train_class_Donut_shearing = wm811k_new_train_class_Donut_patial_concat3.copy()\n",
    "wm811k_new_train_class_Donut_shearing[\"waferMap_augmentation\"] = wm811k_new_train_class_Donut_shearing[\"waferMap\"].apply(lambda x: shearing(x))\n",
    "wm811k_new_train_class_Donut_shearing['waferMap_augmentation_Dim']=wm811k_new_train_class_Donut_shearing['waferMap_augmentation'].apply(find_dim)\n",
    "\n",
    "# 중간 concat4 : 9816개\n",
    "wm811k_new_train_class_Donut_patial_concat4 = pd.concat([wm811k_new_train_class_Donut,\n",
    "                                                         wm811k_new_train_class_Donut_10,\n",
    "                                                         wm811k_new_train_class_Donut_minus_10,\n",
    "                                                         wm811k_new_train_class_Donut_flip,\n",
    "                                                         wm811k_new_train_class_Donut_translate,\n",
    "                                                         wm811k_new_train_class_Donut_shearing\n",
    "                                                        ])\n",
    "wm811k_new_train_class_Donut_patial_concat4.info()\n",
    "\n",
    "# 확대 : 184개\n",
    "wm811k_new_train_class_Donut_resize = wm811k_new_train_class_Donut_patial_concat4.sample(n=184, random_state=2022)\n",
    "wm811k_new_train_class_Donut_resize[\"waferMap_augmentation\"] = wm811k_new_train_class_Donut_resize[\"waferMap\"].apply(lambda x: resizing(x))\n",
    "wm811k_new_train_class_Donut_resize['waferMap_augmentation_Dim']=wm811k_new_train_class_Donut_resize['waferMap_augmentation'].apply(find_dim)\n",
    "\n",
    "# concat\n",
    "wm811k_new_train_class_Donut_augmentation = pd.concat([wm811k_new_train_class_Donut,\n",
    "                                                       wm811k_new_train_class_Donut_10,\n",
    "                                                       wm811k_new_train_class_Donut_minus_10,\n",
    "                                                       wm811k_new_train_class_Donut_flip,\n",
    "                                                       wm811k_new_train_class_Donut_translate,\n",
    "                                                       wm811k_new_train_class_Donut_shearing,\n",
    "                                                       wm811k_new_train_class_Donut_resize\n",
    "                                                      ])\n",
    "wm811k_new_train_class_Donut_augmentation.info()"
   ]
  },
  {
   "cell_type": "code",
   "execution_count": 55,
   "id": "dec07991",
   "metadata": {
    "execution": {
     "iopub.execute_input": "2022-04-11T14:52:50.731989Z",
     "iopub.status.busy": "2022-04-11T14:52:50.730893Z",
     "iopub.status.idle": "2022-04-11T14:52:52.773285Z",
     "shell.execute_reply": "2022-04-11T14:52:52.772781Z",
     "shell.execute_reply.started": "2022-04-11T14:52:50.731989Z"
    },
    "tags": []
   },
   "outputs": [
    {
     "name": "stdout",
     "output_type": "stream",
     "text": [
      "<class 'pandas.core.frame.DataFrame'>\n",
      "Int64Index: 54 entries, 929 to 785955\n",
      "Data columns (total 10 columns):\n",
      " #   Column                     Non-Null Count  Dtype  \n",
      "---  ------                     --------------  -----  \n",
      " 0   waferMap                   54 non-null     object \n",
      " 1   dieSize                    54 non-null     float64\n",
      " 2   lotName                    54 non-null     object \n",
      " 3   trianTestLabel             54 non-null     object \n",
      " 4   failureType                54 non-null     object \n",
      " 5   waferMapDim                54 non-null     object \n",
      " 6   failureNum                 54 non-null     object \n",
      " 7   trainTestNum               54 non-null     object \n",
      " 8   waferMap_augmentation      54 non-null     object \n",
      " 9   waferMap_augmentation_Dim  54 non-null     object \n",
      "dtypes: float64(1), object(9)\n",
      "memory usage: 4.6+ KB\n",
      "<class 'pandas.core.frame.DataFrame'>\n",
      "Int64Index: 162 entries, 929 to 785955\n",
      "Data columns (total 10 columns):\n",
      " #   Column                     Non-Null Count  Dtype  \n",
      "---  ------                     --------------  -----  \n",
      " 0   waferMap                   162 non-null    object \n",
      " 1   dieSize                    162 non-null    float64\n",
      " 2   lotName                    162 non-null    object \n",
      " 3   trianTestLabel             162 non-null    object \n",
      " 4   failureType                162 non-null    object \n",
      " 5   waferMapDim                162 non-null    object \n",
      " 6   failureNum                 162 non-null    object \n",
      " 7   trainTestNum               162 non-null    object \n",
      " 8   waferMap_augmentation      162 non-null    object \n",
      " 9   waferMap_augmentation_Dim  162 non-null    object \n",
      "dtypes: float64(1), object(9)\n",
      "memory usage: 13.9+ KB\n",
      "<class 'pandas.core.frame.DataFrame'>\n",
      "Int64Index: 324 entries, 929 to 785955\n",
      "Data columns (total 10 columns):\n",
      " #   Column                     Non-Null Count  Dtype  \n",
      "---  ------                     --------------  -----  \n",
      " 0   waferMap                   324 non-null    object \n",
      " 1   dieSize                    324 non-null    float64\n",
      " 2   lotName                    324 non-null    object \n",
      " 3   trianTestLabel             324 non-null    object \n",
      " 4   failureType                324 non-null    object \n",
      " 5   waferMapDim                324 non-null    object \n",
      " 6   failureNum                 324 non-null    object \n",
      " 7   trainTestNum               324 non-null    object \n",
      " 8   waferMap_augmentation      324 non-null    object \n",
      " 9   waferMap_augmentation_Dim  324 non-null    object \n",
      "dtypes: float64(1), object(9)\n",
      "memory usage: 27.8+ KB\n"
     ]
    },
    {
     "name": "stderr",
     "output_type": "stream",
     "text": [
      "C:\\Users\\kjt\\Anaconda3\\envs\\dlit\\lib\\site-packages\\ipykernel_launcher.py:3: SettingWithCopyWarning: \n",
      "A value is trying to be set on a copy of a slice from a DataFrame.\n",
      "Try using .loc[row_indexer,col_indexer] = value instead\n",
      "\n",
      "See the caveats in the documentation: https://pandas.pydata.org/pandas-docs/stable/user_guide/indexing.html#returning-a-view-versus-a-copy\n",
      "  This is separate from the ipykernel package so we can avoid doing imports until\n",
      "C:\\Users\\kjt\\Anaconda3\\envs\\dlit\\lib\\site-packages\\ipykernel_launcher.py:4: SettingWithCopyWarning: \n",
      "A value is trying to be set on a copy of a slice from a DataFrame.\n",
      "Try using .loc[row_indexer,col_indexer] = value instead\n",
      "\n",
      "See the caveats in the documentation: https://pandas.pydata.org/pandas-docs/stable/user_guide/indexing.html#returning-a-view-versus-a-copy\n",
      "  after removing the cwd from sys.path.\n"
     ]
    },
    {
     "name": "stdout",
     "output_type": "stream",
     "text": [
      "<class 'pandas.core.frame.DataFrame'>\n",
      "Int64Index: 648 entries, 929 to 785955\n",
      "Data columns (total 10 columns):\n",
      " #   Column                     Non-Null Count  Dtype  \n",
      "---  ------                     --------------  -----  \n",
      " 0   waferMap                   648 non-null    object \n",
      " 1   dieSize                    648 non-null    float64\n",
      " 2   lotName                    648 non-null    object \n",
      " 3   trianTestLabel             648 non-null    object \n",
      " 4   failureType                648 non-null    object \n",
      " 5   waferMapDim                648 non-null    object \n",
      " 6   failureNum                 648 non-null    object \n",
      " 7   trainTestNum               648 non-null    object \n",
      " 8   waferMap_augmentation      648 non-null    object \n",
      " 9   waferMap_augmentation_Dim  648 non-null    object \n",
      "dtypes: float64(1), object(9)\n",
      "memory usage: 55.7+ KB\n",
      "<class 'pandas.core.frame.DataFrame'>\n",
      "Int64Index: 1296 entries, 929 to 785955\n",
      "Data columns (total 10 columns):\n",
      " #   Column                     Non-Null Count  Dtype  \n",
      "---  ------                     --------------  -----  \n",
      " 0   waferMap                   1296 non-null   object \n",
      " 1   dieSize                    1296 non-null   float64\n",
      " 2   lotName                    1296 non-null   object \n",
      " 3   trianTestLabel             1296 non-null   object \n",
      " 4   failureType                1296 non-null   object \n",
      " 5   waferMapDim                1296 non-null   object \n",
      " 6   failureNum                 1296 non-null   object \n",
      " 7   trainTestNum               1296 non-null   object \n",
      " 8   waferMap_augmentation      1296 non-null   object \n",
      " 9   waferMap_augmentation_Dim  1296 non-null   object \n",
      "dtypes: float64(1), object(9)\n",
      "memory usage: 111.4+ KB\n",
      "<class 'pandas.core.frame.DataFrame'>\n",
      "Int64Index: 2592 entries, 929 to 785955\n",
      "Data columns (total 10 columns):\n",
      " #   Column                     Non-Null Count  Dtype  \n",
      "---  ------                     --------------  -----  \n",
      " 0   waferMap                   2592 non-null   object \n",
      " 1   dieSize                    2592 non-null   float64\n",
      " 2   lotName                    2592 non-null   object \n",
      " 3   trianTestLabel             2592 non-null   object \n",
      " 4   failureType                2592 non-null   object \n",
      " 5   waferMapDim                2592 non-null   object \n",
      " 6   failureNum                 2592 non-null   object \n",
      " 7   trainTestNum               2592 non-null   object \n",
      " 8   waferMap_augmentation      2592 non-null   object \n",
      " 9   waferMap_augmentation_Dim  2592 non-null   object \n",
      "dtypes: float64(1), object(9)\n",
      "memory usage: 222.8+ KB\n",
      "<class 'pandas.core.frame.DataFrame'>\n",
      "Int64Index: 10000 entries, 929 to 699791\n",
      "Data columns (total 10 columns):\n",
      " #   Column                     Non-Null Count  Dtype  \n",
      "---  ------                     --------------  -----  \n",
      " 0   waferMap                   10000 non-null  object \n",
      " 1   dieSize                    10000 non-null  float64\n",
      " 2   lotName                    10000 non-null  object \n",
      " 3   trianTestLabel             10000 non-null  object \n",
      " 4   failureType                10000 non-null  object \n",
      " 5   waferMapDim                10000 non-null  object \n",
      " 6   failureNum                 10000 non-null  object \n",
      " 7   trainTestNum               10000 non-null  object \n",
      " 8   waferMap_augmentation      10000 non-null  object \n",
      " 9   waferMap_augmentation_Dim  10000 non-null  object \n",
      "dtypes: float64(1), object(9)\n",
      "memory usage: 859.4+ KB\n"
     ]
    }
   ],
   "source": [
    "# Near-full(7) 현 보유 54개 / 9,946개 augmentation 필요\n",
    "wm811k_new_train_class_Near_Full = wm811k_train.query(\"failureNum == 7\")\n",
    "wm811k_new_train_class_Near_Full[\"waferMap_augmentation\"] = wm811k_new_train_class_Near_Full['waferMap'].apply(lambda x: zero_padding(x,224))\n",
    "wm811k_new_train_class_Near_Full['waferMap_augmentation_Dim']=wm811k_new_train_class_Near_Full['waferMap_augmentation'].apply(find_dim)\n",
    "wm811k_new_train_class_Near_Full.info()\n",
    "\n",
    "# +10도 회전 : 54개\n",
    "wm811k_new_train_class_Near_Full_10 = wm811k_new_train_class_Near_Full.copy()\n",
    "wm811k_new_train_class_Near_Full_10[\"waferMap_augmentation\"] = wm811k_new_train_class_Near_Full_10[\"waferMap\"].apply(lambda x: rotation_10_degree(x))\n",
    "wm811k_new_train_class_Near_Full_10['waferMap_augmentation_Dim']=wm811k_new_train_class_Near_Full_10['waferMap_augmentation'].apply(find_dim)\n",
    "\n",
    "# -10도 회전 : 54개\n",
    "wm811k_new_train_class_Near_Full_minus_10 = wm811k_new_train_class_Near_Full.copy()\n",
    "wm811k_new_train_class_Near_Full_minus_10[\"waferMap_augmentation\"] = wm811k_new_train_class_Near_Full_minus_10[\"waferMap\"].apply(lambda x: rotation_minus_10_degree(x))\n",
    "wm811k_new_train_class_Near_Full_minus_10['waferMap_augmentation_Dim']= wm811k_new_train_class_Near_Full_minus_10['waferMap_augmentation'].apply(find_dim)\n",
    "\n",
    "# 중간 concat1 : 162개\n",
    "wm811k_new_train_class_Near_Full_patial_concat1 = pd.concat([wm811k_new_train_class_Near_Full,\n",
    "                                                             wm811k_new_train_class_Near_Full_10,\n",
    "                                                             wm811k_new_train_class_Near_Full_minus_10\n",
    "                                                            ])\n",
    "wm811k_new_train_class_Near_Full_patial_concat1.info()\n",
    "\n",
    "# 좌우 대칭 : 162개\n",
    "wm811k_new_train_class_Near_Full_flip = wm811k_new_train_class_Near_Full_patial_concat1.copy()\n",
    "wm811k_new_train_class_Near_Full_flip[\"waferMap_augmentation\"] = wm811k_new_train_class_Near_Full_flip[\"waferMap\"].apply(lambda x: filping(x))\n",
    "wm811k_new_train_class_Near_Full_flip['waferMap_augmentation_Dim']=wm811k_new_train_class_Near_Full_flip['waferMap_augmentation'].apply(find_dim)\n",
    "\n",
    "# 중간 concat2 : 324개\n",
    "wm811k_new_train_class_Near_Full_patial_concat2 = pd.concat([wm811k_new_train_class_Near_Full,\n",
    "                                                             wm811k_new_train_class_Near_Full_10,\n",
    "                                                             wm811k_new_train_class_Near_Full_minus_10,\n",
    "                                                             wm811k_new_train_class_Near_Full_flip\n",
    "                                                            ])\n",
    "wm811k_new_train_class_Near_Full_patial_concat2.info()\n",
    "\n",
    "# 평행 이동 : 324개\n",
    "wm811k_new_train_class_Near_Full_translate = wm811k_new_train_class_Near_Full_patial_concat2.copy()\n",
    "wm811k_new_train_class_Near_Full_translate[\"waferMap_augmentation\"] = wm811k_new_train_class_Near_Full_translate[\"waferMap\"].apply(lambda x: translate(x))\n",
    "wm811k_new_train_class_Near_Full_translate['waferMap_augmentation_Dim']= wm811k_new_train_class_Near_Full_translate['waferMap_augmentation'].apply(find_dim)\n",
    "\n",
    "# 중간 concat3 : 648개\n",
    "wm811k_new_train_class_Near_Full_patial_concat3 = pd.concat([wm811k_new_train_class_Near_Full,\n",
    "                                                             wm811k_new_train_class_Near_Full_10,\n",
    "                                                             wm811k_new_train_class_Near_Full_minus_10,\n",
    "                                                             wm811k_new_train_class_Near_Full_flip,\n",
    "                                                             wm811k_new_train_class_Near_Full_translate\n",
    "                                                            ])\n",
    "wm811k_new_train_class_Near_Full_patial_concat3.info()\n",
    "\n",
    "# 전단 범위(shearing range) : 648개\n",
    "wm811k_new_train_class_Near_Full_shearing = wm811k_new_train_class_Near_Full_patial_concat3.copy()\n",
    "wm811k_new_train_class_Near_Full_shearing[\"waferMap_augmentation\"] = wm811k_new_train_class_Near_Full_shearing[\"waferMap\"].apply(lambda x: shearing(x))\n",
    "wm811k_new_train_class_Near_Full_shearing['waferMap_augmentation_Dim']=wm811k_new_train_class_Near_Full_shearing['waferMap_augmentation'].apply(find_dim)\n",
    "\n",
    "# 중간 concat4 : 1296개\n",
    "wm811k_new_train_class_Near_Full_patial_concat4 = pd.concat([wm811k_new_train_class_Near_Full,\n",
    "                                                             wm811k_new_train_class_Near_Full_10,\n",
    "                                                             wm811k_new_train_class_Near_Full_minus_10,\n",
    "                                                             wm811k_new_train_class_Near_Full_flip,\n",
    "                                                             wm811k_new_train_class_Near_Full_translate,\n",
    "                                                             wm811k_new_train_class_Near_Full_shearing\n",
    "                                                            ])\n",
    "wm811k_new_train_class_Near_Full_patial_concat4.info()\n",
    "\n",
    "# 확대 : 1296개\n",
    "wm811k_new_train_class_Near_Full_resize = wm811k_new_train_class_Near_Full_patial_concat4.copy()\n",
    "wm811k_new_train_class_Near_Full_resize[\"waferMap_augmentation\"] = wm811k_new_train_class_Near_Full_resize[\"waferMap\"].apply(lambda x: resizing(x))\n",
    "wm811k_new_train_class_Near_Full_resize['waferMap_augmentation_Dim'] = wm811k_new_train_class_Near_Full_resize['waferMap_augmentation'].apply(find_dim)\n",
    "\n",
    "# 중간 concat5 : 2592개\n",
    "wm811k_new_train_class_Near_Full_patial_concat5 = pd.concat([wm811k_new_train_class_Near_Full,\n",
    "                                                             wm811k_new_train_class_Near_Full_10,\n",
    "                                                             wm811k_new_train_class_Near_Full_minus_10,\n",
    "                                                             wm811k_new_train_class_Near_Full_flip,\n",
    "                                                             wm811k_new_train_class_Near_Full_translate,\n",
    "                                                             wm811k_new_train_class_Near_Full_shearing,\n",
    "                                                             wm811k_new_train_class_Near_Full_resize\n",
    "                                                            ])\n",
    "wm811k_new_train_class_Near_Full_patial_concat5.info()\n",
    "\n",
    "\n",
    "# 남은 데이터 7408개 : size 변동의 위험이 있는 shearing과 resize를 제외한 rotation, flip, translate로 나머지 부족한 데이터 증강\n",
    "# 10도 회전 추가\n",
    "wm811k_new_train_class_Near_Full_10_2 = wm811k_new_train_class_Near_Full_patial_concat5.sample(n=1852, random_state=2022)\n",
    "wm811k_new_train_class_Near_Full_10_2[\"waferMap_augmentation\"] = wm811k_new_train_class_Near_Full_10_2[\"waferMap\"].apply(lambda x: rotation_10_degree(x))\n",
    "wm811k_new_train_class_Near_Full_10_2['waferMap_augmentation_Dim']=wm811k_new_train_class_Near_Full_10_2['waferMap_augmentation'].apply(find_dim)\n",
    "\n",
    "# -10도 회전 추가\n",
    "wm811k_new_train_class_Near_Full_minus_10_2 = wm811k_new_train_class_Near_Full_patial_concat5.sample(n=1852, random_state=2022)\n",
    "wm811k_new_train_class_Near_Full_minus_10_2[\"waferMap_augmentation\"] = wm811k_new_train_class_Near_Full_minus_10_2[\"waferMap\"].apply(lambda x: rotation_minus_10_degree(x))\n",
    "wm811k_new_train_class_Near_Full_minus_10_2['waferMap_augmentation_Dim']=wm811k_new_train_class_Near_Full_minus_10_2['waferMap_augmentation'].apply(find_dim)\n",
    "\n",
    "# flip 추가\n",
    "wm811k_new_train_class_Near_Full_flip_2 = wm811k_new_train_class_Near_Full_patial_concat5.sample(n=1852, random_state=2022)\n",
    "wm811k_new_train_class_Near_Full_flip_2[\"waferMap_augmentation\"] = wm811k_new_train_class_Near_Full_flip_2[\"waferMap\"].apply(lambda x: filping(x))\n",
    "wm811k_new_train_class_Near_Full_flip_2['waferMap_augmentation_Dim']=wm811k_new_train_class_Near_Full_flip_2['waferMap_augmentation'].apply(find_dim)\n",
    "\n",
    "\n",
    "# 평행이동 추가\n",
    "wm811k_new_train_class_Near_Full_translate_2 = wm811k_new_train_class_Near_Full_patial_concat5.sample(n=1852, random_state=2022)\n",
    "wm811k_new_train_class_Near_Full_translate_2[\"waferMap_augmentation\"] = wm811k_new_train_class_Near_Full_translate_2[\"waferMap\"].apply(lambda x: translate(x))\n",
    "wm811k_new_train_class_Near_Full_translate_2['waferMap_augmentation_Dim']=wm811k_new_train_class_Near_Full_translate_2['waferMap_augmentation'].apply(find_dim)\n",
    "\n",
    "# concat\n",
    "wm811k_new_train_class_Near_Full_augmentation = pd.concat([wm811k_new_train_class_Near_Full,\n",
    "                                                           wm811k_new_train_class_Near_Full_10,\n",
    "                                                           wm811k_new_train_class_Near_Full_minus_10,\n",
    "                                                           wm811k_new_train_class_Near_Full_flip,\n",
    "                                                           wm811k_new_train_class_Near_Full_translate,\n",
    "                                                           wm811k_new_train_class_Near_Full_shearing,\n",
    "                                                           wm811k_new_train_class_Near_Full_resize,\n",
    "                                                           wm811k_new_train_class_Near_Full_10_2,\n",
    "                                                           wm811k_new_train_class_Near_Full_minus_10_2,\n",
    "                                                           wm811k_new_train_class_Near_Full_flip_2,\n",
    "                                                           wm811k_new_train_class_Near_Full_translate_2,\n",
    "                                                          ])\n",
    "wm811k_new_train_class_Near_Full_augmentation.info()"
   ]
  },
  {
   "cell_type": "code",
   "execution_count": 56,
   "id": "a674f19b",
   "metadata": {
    "execution": {
     "iopub.execute_input": "2022-04-11T14:52:52.774815Z",
     "iopub.status.busy": "2022-04-11T14:52:52.774815Z",
     "iopub.status.idle": "2022-04-11T14:52:52.911126Z",
     "shell.execute_reply": "2022-04-11T14:52:52.910625Z",
     "shell.execute_reply.started": "2022-04-11T14:52:52.774815Z"
    },
    "tags": []
   },
   "outputs": [
    {
     "name": "stdout",
     "output_type": "stream",
     "text": [
      "<class 'pandas.core.frame.DataFrame'>\n",
      "Int64Index: 90000 entries, 749336 to 699791\n",
      "Data columns (total 10 columns):\n",
      " #   Column                     Non-Null Count  Dtype  \n",
      "---  ------                     --------------  -----  \n",
      " 0   waferMap                   90000 non-null  object \n",
      " 1   dieSize                    90000 non-null  float64\n",
      " 2   lotName                    90000 non-null  object \n",
      " 3   trianTestLabel             90000 non-null  object \n",
      " 4   failureType                90000 non-null  object \n",
      " 5   waferMapDim                90000 non-null  object \n",
      " 6   failureNum                 90000 non-null  object \n",
      " 7   trainTestNum               90000 non-null  object \n",
      " 8   waferMap_augmentation      90000 non-null  object \n",
      " 9   waferMap_augmentation_Dim  90000 non-null  object \n",
      "dtypes: float64(1), object(9)\n",
      "memory usage: 7.6+ MB\n"
     ]
    }
   ],
   "source": [
    "# 데이터 size 확인 및 New train data concat\n",
    "wm811k_new_train = pd.concat([wm811k_new_train_class_None,\n",
    "                              wm811k_new_train_class_Edge_Ring_augmentation,\n",
    "                              wm811k_new_train_class_Center_augmentation,\n",
    "                              wm811k_new_train_class_Edge_Loc_augmentation,\n",
    "                              wm811k_new_train_class_Loc_augmentation,\n",
    "                              wm811k_new_train_class_Random_augmentation,\n",
    "                              wm811k_new_train_class_Scratch_augmentation,\n",
    "                              wm811k_new_train_class_Donut_augmentation,\n",
    "                              wm811k_new_train_class_Near_Full_augmentation\n",
    "                             ])\n",
    "\n",
    "wm811k_new_train.info()"
   ]
  },
  {
   "cell_type": "code",
   "execution_count": 57,
   "id": "564825f3",
   "metadata": {
    "execution": {
     "iopub.execute_input": "2022-04-11T14:52:52.913398Z",
     "iopub.status.busy": "2022-04-11T14:52:52.912398Z",
     "iopub.status.idle": "2022-04-11T14:52:53.033059Z",
     "shell.execute_reply": "2022-04-11T14:52:53.032560Z",
     "shell.execute_reply.started": "2022-04-11T14:52:52.913398Z"
    },
    "tags": []
   },
   "outputs": [
    {
     "data": {
      "text/plain": [
       "(224, 224)    90000\n",
       "Name: waferMap_augmentation_Dim, dtype: int64"
      ]
     },
     "execution_count": 57,
     "metadata": {},
     "output_type": "execute_result"
    }
   ],
   "source": [
    "# size check\n",
    "wm811k_new_train['waferMap_augmentation_Dim'].apply(lambda x: str(x)).value_counts()"
   ]
  },
  {
   "cell_type": "code",
   "execution_count": 58,
   "id": "dd5f4777",
   "metadata": {
    "execution": {
     "iopub.execute_input": "2022-04-11T14:52:53.034264Z",
     "iopub.status.busy": "2022-04-11T14:52:53.033762Z",
     "iopub.status.idle": "2022-04-11T14:52:53.092937Z",
     "shell.execute_reply": "2022-04-11T14:52:53.092811Z",
     "shell.execute_reply.started": "2022-04-11T14:52:53.034264Z"
    },
    "tags": []
   },
   "outputs": [
    {
     "data": {
      "text/plain": [
       "6    10000\n",
       "4    10000\n",
       "7    10000\n",
       "1    10000\n",
       "2    10000\n",
       "5    10000\n",
       "3    10000\n",
       "8    10000\n",
       "0    10000\n",
       "Name: failureNum, dtype: int64"
      ]
     },
     "execution_count": 58,
     "metadata": {},
     "output_type": "execute_result"
    }
   ],
   "source": [
    "wm811k_new_train['failureNum'].apply(lambda x: str(x)).value_counts()"
   ]
  },
  {
   "cell_type": "code",
   "execution_count": 60,
   "id": "97e6252e",
   "metadata": {
    "execution": {
     "iopub.execute_input": "2022-04-11T14:53:30.002810Z",
     "iopub.status.busy": "2022-04-11T14:53:30.001791Z",
     "iopub.status.idle": "2022-04-11T14:57:39.348680Z",
     "shell.execute_reply": "2022-04-11T14:57:39.333232Z",
     "shell.execute_reply.started": "2022-04-11T14:53:30.002810Z"
    },
    "tags": []
   },
   "outputs": [
    {
     "name": "stdout",
     "output_type": "stream",
     "text": [
      "0\n",
      "1000\n",
      "2000\n",
      "3000\n",
      "4000\n",
      "5000\n",
      "6000\n",
      "7000\n",
      "8000\n",
      "9000\n",
      "10000\n",
      "11000\n",
      "12000\n",
      "13000\n",
      "14000\n",
      "15000\n",
      "16000\n",
      "17000\n",
      "18000\n",
      "19000\n",
      "20000\n",
      "21000\n",
      "22000\n",
      "23000\n",
      "24000\n",
      "25000\n",
      "26000\n",
      "27000\n",
      "28000\n",
      "29000\n",
      "30000\n",
      "31000\n",
      "32000\n",
      "33000\n",
      "34000\n",
      "35000\n",
      "36000\n",
      "37000\n",
      "38000\n",
      "39000\n",
      "40000\n",
      "41000\n",
      "42000\n",
      "43000\n",
      "44000\n",
      "45000\n",
      "46000\n",
      "47000\n",
      "48000\n",
      "49000\n",
      "50000\n",
      "51000\n",
      "52000\n",
      "53000\n",
      "54000\n",
      "55000\n",
      "56000\n",
      "57000\n",
      "58000\n",
      "59000\n",
      "60000\n",
      "61000\n",
      "62000\n",
      "63000\n",
      "64000\n",
      "65000\n",
      "66000\n",
      "67000\n",
      "68000\n",
      "69000\n",
      "70000\n",
      "71000\n",
      "72000\n",
      "73000\n",
      "74000\n",
      "75000\n",
      "76000\n",
      "77000\n",
      "78000\n",
      "79000\n",
      "80000\n",
      "81000\n",
      "82000\n",
      "83000\n",
      "84000\n",
      "85000\n",
      "86000\n",
      "87000\n",
      "88000\n",
      "89000\n"
     ]
    }
   ],
   "source": [
    "wm811k_new_train_reshape = np.ones((90000, 224, 224))\n",
    "\n",
    "for i in range(len(wm811k_new_train['waferMap_augmentation'])):\n",
    "    if i % 1000 == 0:\n",
    "        print(i)\n",
    "    wm811k_new_train_reshape[i] = wm811k_new_train['waferMap_augmentation'].iloc[i]"
   ]
  },
  {
   "cell_type": "code",
   "execution_count": 61,
   "id": "c894bf76",
   "metadata": {
    "execution": {
     "iopub.execute_input": "2022-04-11T14:57:39.436810Z",
     "iopub.status.busy": "2022-04-11T14:57:39.434810Z",
     "iopub.status.idle": "2022-04-11T14:57:39.526913Z",
     "shell.execute_reply": "2022-04-11T14:57:39.500748Z",
     "shell.execute_reply.started": "2022-04-11T14:57:39.436810Z"
    },
    "tags": []
   },
   "outputs": [
    {
     "data": {
      "text/plain": [
       "(90000, 224, 224)"
      ]
     },
     "execution_count": 61,
     "metadata": {},
     "output_type": "execute_result"
    }
   ],
   "source": [
    "wm811k_new_train_reshape.shape"
   ]
  },
  {
   "cell_type": "code",
   "execution_count": null,
   "id": "d3386085",
   "metadata": {
    "execution": {
     "iopub.status.busy": "2022-04-11T14:52:55.295454Z",
     "iopub.status.idle": "2022-04-11T14:52:55.296454Z",
     "shell.execute_reply": "2022-04-11T14:52:55.296454Z",
     "shell.execute_reply.started": "2022-04-11T14:52:55.296454Z"
    },
    "tags": []
   },
   "outputs": [],
   "source": [
    "# ndarray data save\n",
    "# np.save('D:/capstone_data/wm811k_train_augmentation_reshape', wm811k_new_train_reshape)"
   ]
  },
  {
   "cell_type": "code",
   "execution_count": 62,
   "id": "30463f3f",
   "metadata": {
    "execution": {
     "iopub.execute_input": "2022-04-11T14:57:39.531687Z",
     "iopub.status.busy": "2022-04-11T14:57:39.530941Z",
     "iopub.status.idle": "2022-04-11T14:57:39.576741Z",
     "shell.execute_reply": "2022-04-11T14:57:39.576241Z",
     "shell.execute_reply.started": "2022-04-11T14:57:39.531687Z"
    },
    "tags": []
   },
   "outputs": [],
   "source": [
    "save_test_none = wm811k_new_train_reshape[500] # wm811k_new_train_class_None,\n",
    "save_test_edge_ring = wm811k_new_train_reshape[10500] # wm811k_new_train_class_Edge_Ring_augmentation,\n",
    "save_test_center = wm811k_new_train_reshape[20500] # wm811k_new_train_class_Center_augmentation,\n",
    "save_test_edge_loc = wm811k_new_train_reshape[30500] # wm811k_new_train_class_Edge_Loc_augmentation,\n",
    "save_test_loc = wm811k_new_train_reshape[40500] # wm811k_new_train_class_Loc_augmentation,\n",
    "save_test_random = wm811k_new_train_reshape[50500] # wm811k_new_train_class_Random_augmentation,\n",
    "save_test_scratch = wm811k_new_train_reshape[60500] # wm811k_new_train_class_Scratch_augmentation,\n",
    "save_test_donut = wm811k_new_train_reshape[70500] # wm811k_new_train_class_Donut_augmentation,\n",
    "save_test_near_full = wm811k_new_train_reshape[80500] # wm811k_new_train_class_Near_Full_augmentation"
   ]
  },
  {
   "cell_type": "code",
   "execution_count": 68,
   "id": "bddb2475",
   "metadata": {
    "execution": {
     "iopub.execute_input": "2022-04-11T14:58:47.007341Z",
     "iopub.status.busy": "2022-04-11T14:58:47.007072Z",
     "iopub.status.idle": "2022-04-11T14:58:49.332696Z",
     "shell.execute_reply": "2022-04-11T14:58:49.332191Z",
     "shell.execute_reply.started": "2022-04-11T14:58:47.007341Z"
    },
    "tags": []
   },
   "outputs": [
    {
     "data": {
      "image/png": "[encoded data removed]",
      "text/plain": [
       "<Figure size 432x288 with 1 Axes>"
      ]
     },
     "metadata": {
      "needs_background": "light"
     },
     "output_type": "display_data"
    },
    {
     "data": {
      "image/png": "[encoded data removed]",
      "text/plain": [
       "<Figure size 432x288 with 1 Axes>"
      ]
     },
     "metadata": {
      "needs_background": "light"
     },
     "output_type": "display_data"
    },
    {
     "data": {
      "image/png": "[encoded data removed]",
      "text/plain": [
       "<Figure size 432x288 with 1 Axes>"
      ]
     },
     "metadata": {
      "needs_background": "light"
     },
     "output_type": "display_data"
    },
    {
     "data": {
      "image/png": "[encoded data removed]",
      "text/plain": [
       "<Figure size 432x288 with 1 Axes>"
      ]
     },
     "metadata": {
      "needs_background": "light"
     },
     "output_type": "display_data"
    },
    {
     "data": {
      "image/png": "[encoded data removed]",
      "text/plain": [
       "<Figure size 432x288 with 1 Axes>"
      ]
     },
     "metadata": {
      "needs_background": "light"
     },
     "output_type": "display_data"
    },
    {
     "data": {
      "image/png": "[encoded data removed]",
      "text/plain": [
       "<Figure size 432x288 with 1 Axes>"
      ]
     },
     "metadata": {
      "needs_background": "light"
     },
     "output_type": "display_data"
    },
    {
     "data": {
      "image/png": "[encoded data removed]",
      "text/plain": [
       "<Figure size 432x288 with 1 Axes>"
      ]
     },
     "metadata": {
      "needs_background": "light"
     },
     "output_type": "display_data"
    },
    {
     "data": {
      "image/png": "[encoded data removed]",
      "text/plain": [
       "<Figure size 432x288 with 1 Axes>"
      ]
     },
     "metadata": {
      "needs_background": "light"
     },
     "output_type": "display_data"
    },
    {
     "data": {
      "image/png": "[encoded data removed]",
      "text/plain": [
       "<Figure size 432x288 with 1 Axes>"
      ]
     },
     "metadata": {
      "needs_background": "light"
     },
     "output_type": "display_data"
    }
   ],
   "source": [
    "plt.imshow(save_test_none)\n",
    "plt.show()\n",
    "\n",
    "plt.imshow(save_test_edge_ring)\n",
    "plt.show()\n",
    "\n",
    "plt.imshow(save_test_center)\n",
    "plt.show()\n",
    "\n",
    "plt.imshow(save_test_edge_loc)\n",
    "plt.show()\n",
    "\n",
    "plt.imshow(save_test_loc)\n",
    "plt.show()\n",
    "\n",
    "plt.imshow(save_test_random)\n",
    "plt.show()\n",
    "\n",
    "plt.imshow(save_test_scratch)\n",
    "plt.show()\n",
    "\n",
    "plt.imshow(save_test_donut)\n",
    "plt.show()\n",
    "\n",
    "plt.imshow(save_test_near_full)\n",
    "plt.show()"
   ]
  },
  {
   "cell_type": "markdown",
   "id": "fcfa605f",
   "metadata": {},
   "source": [
    "- 모델 구성\n",
    "    - Batch Normalization\n",
    "    - Spatical Dropout\n",
    "    - Regularization"
   ]
  },
  {
   "cell_type": "code",
   "execution_count": 64,
   "id": "94d2dcbb",
   "metadata": {
    "execution": {
     "iopub.execute_input": "2022-04-11T14:57:40.883860Z",
     "iopub.status.busy": "2022-04-11T14:57:40.883860Z",
     "iopub.status.idle": "2022-04-11T14:57:51.941596Z",
     "shell.execute_reply": "2022-04-11T14:57:51.940446Z",
     "shell.execute_reply.started": "2022-04-11T14:57:40.883860Z"
    },
    "tags": []
   },
   "outputs": [],
   "source": [
    "from sklearn.model_selection import train_test_split\n",
    "from tensorflow.keras import layers\n",
    "from tensorflow.keras import optimizers\n",
    "from tensorflow.keras.models import Model\n",
    "from tensorflow.keras.callbacks import ModelCheckpoint"
   ]
  },
  {
   "cell_type": "markdown",
   "id": "7baa4ffc",
   "metadata": {},
   "source": [
    "## CNN-WDI Modeling"
   ]
  },
  {
   "cell_type": "code",
   "execution_count": 65,
   "id": "7c7d9762",
   "metadata": {
    "execution": {
     "iopub.execute_input": "2022-04-11T14:57:51.943597Z",
     "iopub.status.busy": "2022-04-11T14:57:51.943102Z",
     "iopub.status.idle": "2022-04-11T14:57:52.576310Z",
     "shell.execute_reply": "2022-04-11T14:57:52.575410Z",
     "shell.execute_reply.started": "2022-04-11T14:57:51.943597Z"
    },
    "tags": []
   },
   "outputs": [],
   "source": [
    "# CNN-WDI model\n",
    "# layer별 padding option check ~ valid, same\n",
    "input_shape = (224,224,1) # 학습 data shape 확인\n",
    "class_num = 9\n",
    "KERNEL_SIZE = 3\n",
    "\n",
    "input_layer = layers.Input(shape=input_shape) # Input 224x224\n",
    "x = layers.Conv2D(16, kernel_size=KERNEL_SIZE, padding='valid')(input_layer) # 16, 3x3\n",
    "x = layers.Activation(activation='relu')(x) # ReLU\n",
    "x = layers.BatchNormalization()(x) # BatchNormalization\n",
    "x = layers.MaxPool2D(pool_size=(2,2))(x) # Max-pooling\n",
    "x = layers.Conv2D(16, kernel_size=KERNEL_SIZE, padding='same')(x) # 16, 3x3\n",
    "x = layers.Activation(activation='relu')(x) # ReLU\n",
    "x = layers.BatchNormalization()(x) # BatchNormalization\n",
    "\n",
    "x = layers.Conv2D(32, kernel_size=KERNEL_SIZE, padding='same')(x) # 32, 3x3\n",
    "x = layers.Activation(activation='relu')(x) # ReLU\n",
    "x = layers.BatchNormalization()(x) # BatchNormalization\n",
    "x = layers.MaxPool2D(pool_size=(2,2))(x) # Max-pooling\n",
    "x = layers.Conv2D(32, kernel_size=KERNEL_SIZE, padding='same')(x) # 32, 3x3\n",
    "x = layers.Activation(activation='relu')(x) # ReLU\n",
    "x = layers.BatchNormalization()(x) # BatchNormalization\n",
    "\n",
    "x = layers.Conv2D(64, kernel_size=KERNEL_SIZE, padding='same')(x) # 64, 3x3\n",
    "x = layers.Activation(activation='relu')(x) # ReLU\n",
    "x = layers.BatchNormalization()(x) # BatchNormalization\n",
    "x = layers.MaxPool2D(pool_size=(2,2))(x) # Max-pooling\n",
    "x = layers.Conv2D(64, kernel_size=KERNEL_SIZE, padding='same')(x) # 64, 3x3\n",
    "x = layers.Activation(activation='relu')(x) # ReLU\n",
    "x = layers.BatchNormalization()(x) # BatchNormalization\n",
    "\n",
    "x = layers.Conv2D(128, kernel_size=KERNEL_SIZE, padding='same')(x) # 128, 3x3\n",
    "x = layers.Activation(activation='relu')(x) # ReLU\n",
    "x = layers.BatchNormalization()(x) # BatchNormalization\n",
    "x = layers.MaxPool2D(pool_size=(2,2))(x) # Max-pooling\n",
    "x = layers.Conv2D(128, kernel_size=KERNEL_SIZE, padding='same')(x) # 128, 3x3\n",
    "x = layers.Activation(activation='relu')(x) # ReLU\n",
    "x = layers.BatchNormalization()(x) # BatchNormalization\n",
    "\n",
    "x = layers.SpatialDropout2D(0.2)(x) # Spartial Dropout 0.2\n",
    "x = layers.MaxPool2D(pool_size=(2,2))(x) # Max-pooling\n",
    "x = layers.Flatten()(x) # 4608 확인\n",
    "x = layers.Dense(512, activation='relu')(x)\n",
    "output_layer = layers.Dense(class_num, activation='softmax')(x)\n",
    "\n",
    "CNN_WDI = Model(input_layer, output_layer)"
   ]
  },
  {
   "cell_type": "code",
   "execution_count": 66,
   "id": "2bf520ee",
   "metadata": {
    "execution": {
     "iopub.execute_input": "2022-04-11T14:57:52.577448Z",
     "iopub.status.busy": "2022-04-11T14:57:52.577448Z",
     "iopub.status.idle": "2022-04-11T14:57:52.620661Z",
     "shell.execute_reply": "2022-04-11T14:57:52.620159Z",
     "shell.execute_reply.started": "2022-04-11T14:57:52.577448Z"
    },
    "tags": []
   },
   "outputs": [
    {
     "name": "stdout",
     "output_type": "stream",
     "text": [
      "Model: \"model\"\n",
      "_________________________________________________________________\n",
      "Layer (type)                 Output Shape              Param #   \n",
      "=================================================================\n",
      "input_1 (InputLayer)         [(None, 224, 224, 1)]     0         \n",
      "_________________________________________________________________\n",
      "conv2d (Conv2D)              (None, 222, 222, 16)      160       \n",
      "_________________________________________________________________\n",
      "activation (Activation)      (None, 222, 222, 16)      0         \n",
      "_________________________________________________________________\n",
      "batch_normalization (BatchNo (None, 222, 222, 16)      64        \n",
      "_________________________________________________________________\n",
      "max_pooling2d (MaxPooling2D) (None, 111, 111, 16)      0         \n",
      "_________________________________________________________________\n",
      "conv2d_1 (Conv2D)            (None, 111, 111, 16)      2320      \n",
      "_________________________________________________________________\n",
      "activation_1 (Activation)    (None, 111, 111, 16)      0         \n",
      "_________________________________________________________________\n",
      "batch_normalization_1 (Batch (None, 111, 111, 16)      64        \n",
      "_________________________________________________________________\n",
      "conv2d_2 (Conv2D)            (None, 111, 111, 32)      4640      \n",
      "_________________________________________________________________\n",
      "activation_2 (Activation)    (None, 111, 111, 32)      0         \n",
      "_________________________________________________________________\n",
      "batch_normalization_2 (Batch (None, 111, 111, 32)      128       \n",
      "_________________________________________________________________\n",
      "max_pooling2d_1 (MaxPooling2 (None, 55, 55, 32)        0         \n",
      "_________________________________________________________________\n",
      "conv2d_3 (Conv2D)            (None, 55, 55, 32)        9248      \n",
      "_________________________________________________________________\n",
      "activation_3 (Activation)    (None, 55, 55, 32)        0         \n",
      "_________________________________________________________________\n",
      "batch_normalization_3 (Batch (None, 55, 55, 32)        128       \n",
      "_________________________________________________________________\n",
      "conv2d_4 (Conv2D)            (None, 55, 55, 64)        18496     \n",
      "_________________________________________________________________\n",
      "activation_4 (Activation)    (None, 55, 55, 64)        0         \n",
      "_________________________________________________________________\n",
      "batch_normalization_4 (Batch (None, 55, 55, 64)        256       \n",
      "_________________________________________________________________\n",
      "max_pooling2d_2 (MaxPooling2 (None, 27, 27, 64)        0         \n",
      "_________________________________________________________________\n",
      "conv2d_5 (Conv2D)            (None, 27, 27, 64)        36928     \n",
      "_________________________________________________________________\n",
      "activation_5 (Activation)    (None, 27, 27, 64)        0         \n",
      "_________________________________________________________________\n",
      "batch_normalization_5 (Batch (None, 27, 27, 64)        256       \n",
      "_________________________________________________________________\n",
      "conv2d_6 (Conv2D)            (None, 27, 27, 128)       73856     \n",
      "_________________________________________________________________\n",
      "activation_6 (Activation)    (None, 27, 27, 128)       0         \n",
      "_________________________________________________________________\n",
      "batch_normalization_6 (Batch (None, 27, 27, 128)       512       \n",
      "_________________________________________________________________\n",
      "max_pooling2d_3 (MaxPooling2 (None, 13, 13, 128)       0         \n",
      "_________________________________________________________________\n",
      "conv2d_7 (Conv2D)            (None, 13, 13, 128)       147584    \n",
      "_________________________________________________________________\n",
      "activation_7 (Activation)    (None, 13, 13, 128)       0         \n",
      "_________________________________________________________________\n",
      "batch_normalization_7 (Batch (None, 13, 13, 128)       512       \n",
      "_________________________________________________________________\n",
      "spatial_dropout2d (SpatialDr (None, 13, 13, 128)       0         \n",
      "_________________________________________________________________\n",
      "max_pooling2d_4 (MaxPooling2 (None, 6, 6, 128)         0         \n",
      "_________________________________________________________________\n",
      "flatten (Flatten)            (None, 4608)              0         \n",
      "_________________________________________________________________\n",
      "dense (Dense)                (None, 512)               2359808   \n",
      "_________________________________________________________________\n",
      "dense_1 (Dense)              (None, 9)                 4617      \n",
      "=================================================================\n",
      "Total params: 2,659,577\n",
      "Trainable params: 2,658,617\n",
      "Non-trainable params: 960\n",
      "_________________________________________________________________\n"
     ]
    }
   ],
   "source": [
    "CNN_WDI.summary()"
   ]
  },
  {
   "cell_type": "code",
   "execution_count": 72,
   "id": "eda3d4c7",
   "metadata": {
    "execution": {
     "iopub.execute_input": "2022-04-11T15:03:16.728638Z",
     "iopub.status.busy": "2022-04-11T15:03:16.728638Z",
     "iopub.status.idle": "2022-04-11T15:03:17.073276Z",
     "shell.execute_reply": "2022-04-11T15:03:17.073276Z",
     "shell.execute_reply.started": "2022-04-11T15:03:16.728638Z"
    },
    "tags": []
   },
   "outputs": [],
   "source": [
    "del wm811k\n",
    "del wm811k_train\n",
    "del wm811k_new_train_class_None\n",
    "del wm811k_new_train_class_Edge_Ring_augmentation\n",
    "del wm811k_new_train_class_Center_augmentation\n",
    "del wm811k_new_train_class_Edge_Loc_augmentation\n",
    "del wm811k_new_train_class_Loc_augmentation\n",
    "del wm811k_new_train_class_Random_augmentation\n",
    "del wm811k_new_train_class_Scratch_augmentation\n",
    "del wm811k_new_train_class_Donut_augmentation,\n",
    "del wm811k_new_train_class_Near_Full_augmentation\n",
    "del wm811k_new_train_class_Edge_Ring\n",
    "del wm811k_new_train_class_Edge_Ring_10\n",
    "del wm811k_new_train_class_Edge_Ring_minus_10\n",
    "del wm811k_new_train_class_Edge_Ring_flip\n",
    "del wm811k_new_train_class_Edge_Ring_translate\n",
    "del wm811k_new_train_class_Edge_Ring_shearing\n",
    "del wm811k_new_train_class_Edge_Ring_resize\n",
    "del wm811k_new_train_class_Center\n",
    "del wm811k_new_train_class_Center_10\n",
    "del wm811k_new_train_class_Center_minus_10\n",
    "del wm811k_new_train_class_Center_flip\n",
    "del wm811k_new_train_class_Center_translate\n",
    "del wm811k_new_train_class_Center_shearing\n",
    "del wm811k_new_train_class_Center_resize\n",
    "del wm811k_new_train_class_Edge_Loc\n",
    "del wm811k_new_train_class_Edge_Loc_10\n",
    "del wm811k_new_train_class_Edge_Loc_minus_10\n",
    "del wm811k_new_train_class_Edge_Loc_flip\n",
    "del wm811k_new_train_class_Edge_Loc_translate\n",
    "del wm811k_new_train_class_Edge_Loc_shearing\n",
    "del wm811k_new_train_class_Edge_Loc_resize\n",
    "del wm811k_new_train_class_Loc\n",
    "del wm811k_new_train_class_Loc_10\n",
    "del wm811k_new_train_class_Loc_minus_10\n",
    "del wm811k_new_train_class_Loc_flip\n",
    "del wm811k_new_train_class_Loc_translate\n",
    "del wm811k_new_train_class_Loc_shearing\n",
    "del wm811k_new_train_class_Loc_resize\n",
    "del wm811k_new_train_class_Random\n",
    "del wm811k_new_train_class_Random_10\n",
    "del wm811k_new_train_class_Random_minus_10\n",
    "del wm811k_new_train_class_Random_flip\n",
    "del wm811k_new_train_class_Random_translate\n",
    "del wm811k_new_train_class_Random_shearing\n",
    "del wm811k_new_train_class_Random_resize\n",
    "del wm811k_new_train_class_Scratch\n",
    "del wm811k_new_train_class_Scratch_10\n",
    "del wm811k_new_train_class_Scratch_minus_10\n",
    "del wm811k_new_train_class_Scratch_flip\n",
    "del wm811k_new_train_class_Scratch_translate\n",
    "del wm811k_new_train_class_Scratch_shearing\n",
    "del wm811k_new_train_class_Scratch_resize"
   ]
  },
  {
   "cell_type": "code",
   "execution_count": 77,
   "id": "97d00484",
   "metadata": {
    "execution": {
     "iopub.execute_input": "2022-04-11T15:06:47.318618Z",
     "iopub.status.busy": "2022-04-11T15:06:47.317178Z",
     "iopub.status.idle": "2022-04-11T15:09:21.533327Z",
     "shell.execute_reply": "2022-04-11T15:09:21.518773Z",
     "shell.execute_reply.started": "2022-04-11T15:06:47.318618Z"
    },
    "tags": []
   },
   "outputs": [],
   "source": [
    "wm811k_new_train_reshape = wm811k_new_train_reshape.astype(np.int16)"
   ]
  },
  {
   "cell_type": "code",
   "execution_count": 83,
   "id": "34ca6b6e",
   "metadata": {
    "execution": {
     "iopub.execute_input": "2022-04-11T15:11:44.049653Z",
     "iopub.status.busy": "2022-04-11T15:11:44.049072Z",
     "iopub.status.idle": "2022-04-11T15:12:08.179081Z",
     "shell.execute_reply": "2022-04-11T15:12:08.172270Z",
     "shell.execute_reply.started": "2022-04-11T15:11:44.049653Z"
    },
    "tags": []
   },
   "outputs": [
    {
     "ename": "MemoryError",
     "evalue": "Unable to allocate 1.68 GiB for an array with shape (18000, 224, 224) and data type int16",
     "output_type": "error",
     "traceback": [
      "\u001b[1;31m---------------------------------------------------------------------------\u001b[0m",
      "\u001b[1;31mMemoryError\u001b[0m                               Traceback (most recent call last)",
      "\u001b[1;32mC:\\Users\\Public\\Documents\\ESTsoft\\CreatorTemp/ipykernel_25596/684287623.py\u001b[0m in \u001b[0;36m<module>\u001b[1;34m\u001b[0m\n\u001b[0;32m      3\u001b[0m \u001b[1;31m# train / validation / test set 설정\u001b[0m\u001b[1;33m\u001b[0m\u001b[1;33m\u001b[0m\u001b[1;33m\u001b[0m\u001b[0m\n\u001b[0;32m      4\u001b[0m \u001b[1;31m# 60 / 20 / 20\u001b[0m\u001b[1;33m\u001b[0m\u001b[1;33m\u001b[0m\u001b[1;33m\u001b[0m\u001b[0m\n\u001b[1;32m----> 5\u001b[1;33m \u001b[0mX_train\u001b[0m\u001b[1;33m,\u001b[0m \u001b[0mX_test\u001b[0m\u001b[1;33m,\u001b[0m \u001b[0my_train\u001b[0m\u001b[1;33m,\u001b[0m \u001b[0my_test\u001b[0m \u001b[1;33m=\u001b[0m \u001b[0mtrain_test_split\u001b[0m\u001b[1;33m(\u001b[0m\u001b[0mwm811k_new_train_reshape\u001b[0m\u001b[1;33m,\u001b[0m \u001b[0mwm811k_y_train_set\u001b[0m\u001b[1;33m,\u001b[0m \u001b[0mtest_size\u001b[0m\u001b[1;33m=\u001b[0m\u001b[1;36m0.2\u001b[0m\u001b[1;33m,\u001b[0m \u001b[0mrandom_state\u001b[0m\u001b[1;33m=\u001b[0m\u001b[1;36m2022\u001b[0m\u001b[1;33m)\u001b[0m\u001b[1;33m\u001b[0m\u001b[1;33m\u001b[0m\u001b[0m\n\u001b[0m\u001b[0;32m      6\u001b[0m \u001b[0mX_train\u001b[0m\u001b[1;33m,\u001b[0m \u001b[0mX_val\u001b[0m\u001b[1;33m,\u001b[0m \u001b[0my_train\u001b[0m\u001b[1;33m,\u001b[0m \u001b[0my_val\u001b[0m \u001b[1;33m=\u001b[0m \u001b[0mtrain_test_split\u001b[0m\u001b[1;33m(\u001b[0m\u001b[0mX_train\u001b[0m\u001b[1;33m,\u001b[0m \u001b[0my_train\u001b[0m\u001b[1;33m,\u001b[0m \u001b[0mtest_size\u001b[0m\u001b[1;33m=\u001b[0m\u001b[1;36m0.25\u001b[0m\u001b[1;33m,\u001b[0m \u001b[0mrandom_state\u001b[0m\u001b[1;33m=\u001b[0m\u001b[1;36m2022\u001b[0m\u001b[1;33m)\u001b[0m  \u001b[1;31m# 20/80 = 0.25\u001b[0m\u001b[1;33m\u001b[0m\u001b[1;33m\u001b[0m\u001b[0m\n",
      "\u001b[1;32m~\\Anaconda3\\envs\\dlit\\lib\\site-packages\\sklearn\\model_selection\\_split.py\u001b[0m in \u001b[0;36mtrain_test_split\u001b[1;34m(*arrays, **options)\u001b[0m\n\u001b[0;32m   2144\u001b[0m \u001b[1;33m\u001b[0m\u001b[0m\n\u001b[0;32m   2145\u001b[0m     return list(chain.from_iterable((_safe_indexing(a, train),\n\u001b[1;32m-> 2146\u001b[1;33m                                      _safe_indexing(a, test)) for a in arrays))\n\u001b[0m\u001b[0;32m   2147\u001b[0m \u001b[1;33m\u001b[0m\u001b[0m\n\u001b[0;32m   2148\u001b[0m \u001b[1;33m\u001b[0m\u001b[0m\n",
      "\u001b[1;32m~\\Anaconda3\\envs\\dlit\\lib\\site-packages\\sklearn\\model_selection\\_split.py\u001b[0m in \u001b[0;36m<genexpr>\u001b[1;34m(.0)\u001b[0m\n\u001b[0;32m   2144\u001b[0m \u001b[1;33m\u001b[0m\u001b[0m\n\u001b[0;32m   2145\u001b[0m     return list(chain.from_iterable((_safe_indexing(a, train),\n\u001b[1;32m-> 2146\u001b[1;33m                                      _safe_indexing(a, test)) for a in arrays))\n\u001b[0m\u001b[0;32m   2147\u001b[0m \u001b[1;33m\u001b[0m\u001b[0m\n\u001b[0;32m   2148\u001b[0m \u001b[1;33m\u001b[0m\u001b[0m\n",
      "\u001b[1;32m~\\Anaconda3\\envs\\dlit\\lib\\site-packages\\sklearn\\utils\\__init__.py\u001b[0m in \u001b[0;36m_safe_indexing\u001b[1;34m(X, indices, axis)\u001b[0m\n\u001b[0;32m    411\u001b[0m         \u001b[1;32mreturn\u001b[0m \u001b[0m_pandas_indexing\u001b[0m\u001b[1;33m(\u001b[0m\u001b[0mX\u001b[0m\u001b[1;33m,\u001b[0m \u001b[0mindices\u001b[0m\u001b[1;33m,\u001b[0m \u001b[0mindices_dtype\u001b[0m\u001b[1;33m,\u001b[0m \u001b[0maxis\u001b[0m\u001b[1;33m=\u001b[0m\u001b[0maxis\u001b[0m\u001b[1;33m)\u001b[0m\u001b[1;33m\u001b[0m\u001b[1;33m\u001b[0m\u001b[0m\n\u001b[0;32m    412\u001b[0m     \u001b[1;32melif\u001b[0m \u001b[0mhasattr\u001b[0m\u001b[1;33m(\u001b[0m\u001b[0mX\u001b[0m\u001b[1;33m,\u001b[0m \u001b[1;34m\"shape\"\u001b[0m\u001b[1;33m)\u001b[0m\u001b[1;33m:\u001b[0m\u001b[1;33m\u001b[0m\u001b[1;33m\u001b[0m\u001b[0m\n\u001b[1;32m--> 413\u001b[1;33m         \u001b[1;32mreturn\u001b[0m \u001b[0m_array_indexing\u001b[0m\u001b[1;33m(\u001b[0m\u001b[0mX\u001b[0m\u001b[1;33m,\u001b[0m \u001b[0mindices\u001b[0m\u001b[1;33m,\u001b[0m \u001b[0mindices_dtype\u001b[0m\u001b[1;33m,\u001b[0m \u001b[0maxis\u001b[0m\u001b[1;33m=\u001b[0m\u001b[0maxis\u001b[0m\u001b[1;33m)\u001b[0m\u001b[1;33m\u001b[0m\u001b[1;33m\u001b[0m\u001b[0m\n\u001b[0m\u001b[0;32m    414\u001b[0m     \u001b[1;32melse\u001b[0m\u001b[1;33m:\u001b[0m\u001b[1;33m\u001b[0m\u001b[1;33m\u001b[0m\u001b[0m\n\u001b[0;32m    415\u001b[0m         \u001b[1;32mreturn\u001b[0m \u001b[0m_list_indexing\u001b[0m\u001b[1;33m(\u001b[0m\u001b[0mX\u001b[0m\u001b[1;33m,\u001b[0m \u001b[0mindices\u001b[0m\u001b[1;33m,\u001b[0m \u001b[0mindices_dtype\u001b[0m\u001b[1;33m)\u001b[0m\u001b[1;33m\u001b[0m\u001b[1;33m\u001b[0m\u001b[0m\n",
      "\u001b[1;32m~\\Anaconda3\\envs\\dlit\\lib\\site-packages\\sklearn\\utils\\__init__.py\u001b[0m in \u001b[0;36m_array_indexing\u001b[1;34m(array, key, key_dtype, axis)\u001b[0m\n\u001b[0;32m    197\u001b[0m     \u001b[1;32mif\u001b[0m \u001b[0misinstance\u001b[0m\u001b[1;33m(\u001b[0m\u001b[0mkey\u001b[0m\u001b[1;33m,\u001b[0m \u001b[0mtuple\u001b[0m\u001b[1;33m)\u001b[0m\u001b[1;33m:\u001b[0m\u001b[1;33m\u001b[0m\u001b[1;33m\u001b[0m\u001b[0m\n\u001b[0;32m    198\u001b[0m         \u001b[0mkey\u001b[0m \u001b[1;33m=\u001b[0m \u001b[0mlist\u001b[0m\u001b[1;33m(\u001b[0m\u001b[0mkey\u001b[0m\u001b[1;33m)\u001b[0m\u001b[1;33m\u001b[0m\u001b[1;33m\u001b[0m\u001b[0m\n\u001b[1;32m--> 199\u001b[1;33m     \u001b[1;32mreturn\u001b[0m \u001b[0marray\u001b[0m\u001b[1;33m[\u001b[0m\u001b[0mkey\u001b[0m\u001b[1;33m]\u001b[0m \u001b[1;32mif\u001b[0m \u001b[0maxis\u001b[0m \u001b[1;33m==\u001b[0m \u001b[1;36m0\u001b[0m \u001b[1;32melse\u001b[0m \u001b[0marray\u001b[0m\u001b[1;33m[\u001b[0m\u001b[1;33m:\u001b[0m\u001b[1;33m,\u001b[0m \u001b[0mkey\u001b[0m\u001b[1;33m]\u001b[0m\u001b[1;33m\u001b[0m\u001b[1;33m\u001b[0m\u001b[0m\n\u001b[0m\u001b[0;32m    200\u001b[0m \u001b[1;33m\u001b[0m\u001b[0m\n\u001b[0;32m    201\u001b[0m \u001b[1;33m\u001b[0m\u001b[0m\n",
      "\u001b[1;31mMemoryError\u001b[0m: Unable to allocate 1.68 GiB for an array with shape (18000, 224, 224) and data type int16"
     ]
    }
   ],
   "source": [
    "wm811k_y_train_set = wm811k_new_train['failureNum']\n",
    "\n",
    "# train / validation / test set 설정\n",
    "# 60 / 20 / 20\n",
    "X_train, X_test, y_train, y_test = train_test_split(wm811k_new_train_reshape, wm811k_y_train_set, test_size=0.2, random_state=2022)\n",
    "X_train, X_val, y_train, y_val = train_test_split(X_train, y_train, test_size=0.25, random_state=2022)  # 20/80 = 0.25"
   ]
  },
  {
   "cell_type": "code",
   "execution_count": null,
   "id": "d1422d82",
   "metadata": {
    "execution": {
     "iopub.status.busy": "2022-04-11T15:10:11.948500Z",
     "iopub.status.idle": "2022-04-11T15:10:11.949499Z",
     "shell.execute_reply": "2022-04-11T15:10:11.949499Z",
     "shell.execute_reply.started": "2022-04-11T15:10:11.949499Z"
    },
    "tags": []
   },
   "outputs": [],
   "source": [
    "# model_id\n",
    "model_id = 'cnn_wdi_{0}'.format(datetime.datetime.now())\n",
    "\n",
    "# model 설정\n",
    "LEARNING_RATE = 0.001\n",
    "BATCH_SIZE = 100\n",
    "EPOCH = 20  # 논문 그래프에 20 epoch 까지 있음\n",
    "\n",
    "CNN_WDI.compile(loss='categorical_crossentropy', optimizer=optimizers.Adam(lr=LEARNING_RATE), metrics=['categorical_crossentropy'])\n",
    "checkpointer = ModelCheckpoint(filepath=\"{0}.h5\".format(model_id), verbose=1, save_best_only=True)\n",
    "\n",
    "# 학습 실행\n",
    "hist = CNN_WDI.fit(X_train, y_train, epochs=EPOCH, batch_size=BATCH_SIZE, shuffle=True,\n",
    "                   validation_data=(X_val, y_val), callbacks=[checkpointer])\n"
   ]
  },
  {
   "cell_type": "code",
   "execution_count": null,
   "id": "c7840cff",
   "metadata": {
    "execution": {
     "iopub.status.busy": "2022-04-11T15:10:11.951621Z",
     "iopub.status.idle": "2022-04-11T15:10:11.952120Z",
     "shell.execute_reply": "2022-04-11T15:10:11.952120Z",
     "shell.execute_reply.started": "2022-04-11T15:10:11.952120Z"
    },
    "tags": []
   },
   "outputs": [],
   "source": [
    "score = CNN_WDI.evaluate(X_test, y_test, verbose=0)\n",
    "print('Test Loss : ', score[0])\n",
    "print('Test Accuracy : ', score[1])"
   ]
  }
 ],
 "metadata": {
  "kernelspec": {
   "display_name": "Python 3 (ipykernel)",
   "language": "python",
   "name": "python3"
  },
  "language_info": {
   "codemirror_mode": {
    "name": "ipython",
    "version": 3
   },
   "file_extension": ".py",
   "mimetype": "text/x-python",
   "name": "python",
   "nbconvert_exporter": "python",
   "pygments_lexer": "ipython3",
   "version": "3.7.9"
  }
 },
 "nbformat": 4,
 "nbformat_minor": 5
}
