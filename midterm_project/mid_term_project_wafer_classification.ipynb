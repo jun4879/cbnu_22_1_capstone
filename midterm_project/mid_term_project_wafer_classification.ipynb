{
 "cells": [
  {
   "cell_type": "markdown",
   "id": "fd202759",
   "metadata": {},
   "source": [
    "## 불균형 데이터셋에 대한 웨이퍼 불량식별을 위한 CNN\n",
    "### 키워드\n",
    "- 데이터 전처리\n",
    "    - Data Augmentaion\n",
    "    - 불량 클래스\n",
    "        - Center\n",
    "        - Donut\n",
    "        - Local\n",
    "        - Edge-Loc\n",
    "        - Edge-Ring\n",
    "        - Scratch\n",
    "        - Random\n",
    "        - Near-Full\n",
    "        - None\n",
    "- 모델 구성\n",
    "    - Batch Normalization\n",
    "    - Spatical Dropout\n",
    "    - Regularization"
   ]
  },
  {
   "cell_type": "markdown",
   "id": "a213560a",
   "metadata": {},
   "source": [
    "### 데이터 확인사항\n",
    "- waferMap 사이즈를 확인하여 추후 개발할 신경망 모델의 224x224 사이즈에 맞게 resizing 작업이 필요할 것으로 예상됨\n",
    "- augmentaion 작업과 resizing 작업이 한 번에 해결될 수 있도록 전처리하는 것이 좋을 듯"
   ]
  },
  {
   "cell_type": "code",
   "execution_count": 1,
   "id": "512766fc",
   "metadata": {
    "execution": {
     "iopub.execute_input": "2022-04-06T06:23:08.795678Z",
     "iopub.status.busy": "2022-04-06T06:23:08.795175Z",
     "iopub.status.idle": "2022-04-06T06:23:11.799424Z",
     "shell.execute_reply": "2022-04-06T06:23:11.798920Z",
     "shell.execute_reply.started": "2022-04-06T06:23:08.795678Z"
    },
    "tags": []
   },
   "outputs": [],
   "source": [
    "import numpy as np\n",
    "import pandas as pd\n",
    "import cv2\n",
    "import matplotlib.pyplot as plt"
   ]
  },
  {
   "cell_type": "code",
   "execution_count": 2,
   "id": "ae9f734d",
   "metadata": {
    "execution": {
     "iopub.execute_input": "2022-04-06T06:23:11.800442Z",
     "iopub.status.busy": "2022-04-06T06:23:11.800442Z",
     "iopub.status.idle": "2022-04-06T06:23:57.591901Z",
     "shell.execute_reply": "2022-04-06T06:23:57.591901Z",
     "shell.execute_reply.started": "2022-04-06T06:23:11.800442Z"
    },
    "tags": []
   },
   "outputs": [],
   "source": [
    "wm811k = pd.read_pickle('./data/LSWMD.pkl')"
   ]
  },
  {
   "cell_type": "code",
   "execution_count": 3,
   "id": "a3c1114d",
   "metadata": {
    "execution": {
     "iopub.execute_input": "2022-04-06T06:23:57.593960Z",
     "iopub.status.busy": "2022-04-06T06:23:57.593960Z",
     "iopub.status.idle": "2022-04-06T06:23:57.776193Z",
     "shell.execute_reply": "2022-04-06T06:23:57.775689Z",
     "shell.execute_reply.started": "2022-04-06T06:23:57.593960Z"
    },
    "tags": []
   },
   "outputs": [
    {
     "data": {
      "text/html": [
       "<div>\n",
       "<style scoped>\n",
       "    .dataframe tbody tr th:only-of-type {\n",
       "        vertical-align: middle;\n",
       "    }\n",
       "\n",
       "    .dataframe tbody tr th {\n",
       "        vertical-align: top;\n",
       "    }\n",
       "\n",
       "    .dataframe thead th {\n",
       "        text-align: right;\n",
       "    }\n",
       "</style>\n",
       "<table border=\"1\" class=\"dataframe\">\n",
       "  <thead>\n",
       "    <tr style=\"text-align: right;\">\n",
       "      <th></th>\n",
       "      <th>waferMap</th>\n",
       "      <th>dieSize</th>\n",
       "      <th>lotName</th>\n",
       "      <th>waferIndex</th>\n",
       "      <th>trianTestLabel</th>\n",
       "      <th>failureType</th>\n",
       "    </tr>\n",
       "  </thead>\n",
       "  <tbody>\n",
       "    <tr>\n",
       "      <th>0</th>\n",
       "      <td>[[0, 0, 0, 0, 0, 0, 0, 0, 0, 0, 0, 0, 0, 0, 0,...</td>\n",
       "      <td>1683.0</td>\n",
       "      <td>lot1</td>\n",
       "      <td>1.0</td>\n",
       "      <td>[[Training]]</td>\n",
       "      <td>[[none]]</td>\n",
       "    </tr>\n",
       "    <tr>\n",
       "      <th>1</th>\n",
       "      <td>[[0, 0, 0, 0, 0, 0, 0, 0, 0, 0, 0, 0, 0, 0, 0,...</td>\n",
       "      <td>1683.0</td>\n",
       "      <td>lot1</td>\n",
       "      <td>2.0</td>\n",
       "      <td>[[Training]]</td>\n",
       "      <td>[[none]]</td>\n",
       "    </tr>\n",
       "    <tr>\n",
       "      <th>2</th>\n",
       "      <td>[[0, 0, 0, 0, 0, 0, 0, 0, 0, 0, 0, 0, 0, 0, 0,...</td>\n",
       "      <td>1683.0</td>\n",
       "      <td>lot1</td>\n",
       "      <td>3.0</td>\n",
       "      <td>[[Training]]</td>\n",
       "      <td>[[none]]</td>\n",
       "    </tr>\n",
       "    <tr>\n",
       "      <th>3</th>\n",
       "      <td>[[0, 0, 0, 0, 0, 0, 0, 0, 0, 0, 0, 0, 0, 0, 0,...</td>\n",
       "      <td>1683.0</td>\n",
       "      <td>lot1</td>\n",
       "      <td>4.0</td>\n",
       "      <td>[[Training]]</td>\n",
       "      <td>[[none]]</td>\n",
       "    </tr>\n",
       "    <tr>\n",
       "      <th>4</th>\n",
       "      <td>[[0, 0, 0, 0, 0, 0, 0, 0, 0, 0, 0, 0, 0, 0, 0,...</td>\n",
       "      <td>1683.0</td>\n",
       "      <td>lot1</td>\n",
       "      <td>5.0</td>\n",
       "      <td>[[Training]]</td>\n",
       "      <td>[[none]]</td>\n",
       "    </tr>\n",
       "  </tbody>\n",
       "</table>\n",
       "</div>"
      ],
      "text/plain": [
       "                                            waferMap  dieSize lotName  \\\n",
       "0  [[0, 0, 0, 0, 0, 0, 0, 0, 0, 0, 0, 0, 0, 0, 0,...   1683.0    lot1   \n",
       "1  [[0, 0, 0, 0, 0, 0, 0, 0, 0, 0, 0, 0, 0, 0, 0,...   1683.0    lot1   \n",
       "2  [[0, 0, 0, 0, 0, 0, 0, 0, 0, 0, 0, 0, 0, 0, 0,...   1683.0    lot1   \n",
       "3  [[0, 0, 0, 0, 0, 0, 0, 0, 0, 0, 0, 0, 0, 0, 0,...   1683.0    lot1   \n",
       "4  [[0, 0, 0, 0, 0, 0, 0, 0, 0, 0, 0, 0, 0, 0, 0,...   1683.0    lot1   \n",
       "\n",
       "   waferIndex trianTestLabel failureType  \n",
       "0         1.0   [[Training]]    [[none]]  \n",
       "1         2.0   [[Training]]    [[none]]  \n",
       "2         3.0   [[Training]]    [[none]]  \n",
       "3         4.0   [[Training]]    [[none]]  \n",
       "4         5.0   [[Training]]    [[none]]  "
      ]
     },
     "execution_count": 3,
     "metadata": {},
     "output_type": "execute_result"
    }
   ],
   "source": [
    "wm811k.head()"
   ]
  },
  {
   "cell_type": "code",
   "execution_count": 4,
   "id": "88a91514",
   "metadata": {
    "execution": {
     "iopub.execute_input": "2022-04-06T06:23:57.777090Z",
     "iopub.status.busy": "2022-04-06T06:23:57.777090Z",
     "iopub.status.idle": "2022-04-06T06:23:57.926010Z",
     "shell.execute_reply": "2022-04-06T06:23:57.926010Z",
     "shell.execute_reply.started": "2022-04-06T06:23:57.777090Z"
    },
    "tags": []
   },
   "outputs": [
    {
     "name": "stdout",
     "output_type": "stream",
     "text": [
      "<class 'pandas.core.frame.DataFrame'>\n",
      "RangeIndex: 811457 entries, 0 to 811456\n",
      "Data columns (total 6 columns):\n",
      " #   Column          Non-Null Count   Dtype  \n",
      "---  ------          --------------   -----  \n",
      " 0   waferMap        811457 non-null  object \n",
      " 1   dieSize         811457 non-null  float64\n",
      " 2   lotName         811457 non-null  object \n",
      " 3   waferIndex      811457 non-null  float64\n",
      " 4   trianTestLabel  811457 non-null  object \n",
      " 5   failureType     811457 non-null  object \n",
      "dtypes: float64(2), object(4)\n",
      "memory usage: 37.1+ MB\n"
     ]
    }
   ],
   "source": [
    "wm811k.info()"
   ]
  },
  {
   "cell_type": "code",
   "execution_count": 5,
   "id": "899335c9",
   "metadata": {
    "execution": {
     "iopub.execute_input": "2022-04-06T06:23:57.927341Z",
     "iopub.status.busy": "2022-04-06T06:23:57.927341Z",
     "iopub.status.idle": "2022-04-06T06:23:58.111579Z",
     "shell.execute_reply": "2022-04-06T06:23:58.111078Z",
     "shell.execute_reply.started": "2022-04-06T06:23:57.927341Z"
    },
    "tags": []
   },
   "outputs": [
    {
     "data": {
      "text/html": [
       "<div>\n",
       "<style scoped>\n",
       "    .dataframe tbody tr th:only-of-type {\n",
       "        vertical-align: middle;\n",
       "    }\n",
       "\n",
       "    .dataframe tbody tr th {\n",
       "        vertical-align: top;\n",
       "    }\n",
       "\n",
       "    .dataframe thead th {\n",
       "        text-align: right;\n",
       "    }\n",
       "</style>\n",
       "<table border=\"1\" class=\"dataframe\">\n",
       "  <thead>\n",
       "    <tr style=\"text-align: right;\">\n",
       "      <th></th>\n",
       "      <th>waferMap</th>\n",
       "      <th>dieSize</th>\n",
       "      <th>lotName</th>\n",
       "      <th>trianTestLabel</th>\n",
       "      <th>failureType</th>\n",
       "    </tr>\n",
       "  </thead>\n",
       "  <tbody>\n",
       "    <tr>\n",
       "      <th>0</th>\n",
       "      <td>[[0, 0, 0, 0, 0, 0, 0, 0, 0, 0, 0, 0, 0, 0, 0,...</td>\n",
       "      <td>1683.0</td>\n",
       "      <td>lot1</td>\n",
       "      <td>[[Training]]</td>\n",
       "      <td>[[none]]</td>\n",
       "    </tr>\n",
       "    <tr>\n",
       "      <th>1</th>\n",
       "      <td>[[0, 0, 0, 0, 0, 0, 0, 0, 0, 0, 0, 0, 0, 0, 0,...</td>\n",
       "      <td>1683.0</td>\n",
       "      <td>lot1</td>\n",
       "      <td>[[Training]]</td>\n",
       "      <td>[[none]]</td>\n",
       "    </tr>\n",
       "    <tr>\n",
       "      <th>2</th>\n",
       "      <td>[[0, 0, 0, 0, 0, 0, 0, 0, 0, 0, 0, 0, 0, 0, 0,...</td>\n",
       "      <td>1683.0</td>\n",
       "      <td>lot1</td>\n",
       "      <td>[[Training]]</td>\n",
       "      <td>[[none]]</td>\n",
       "    </tr>\n",
       "    <tr>\n",
       "      <th>3</th>\n",
       "      <td>[[0, 0, 0, 0, 0, 0, 0, 0, 0, 0, 0, 0, 0, 0, 0,...</td>\n",
       "      <td>1683.0</td>\n",
       "      <td>lot1</td>\n",
       "      <td>[[Training]]</td>\n",
       "      <td>[[none]]</td>\n",
       "    </tr>\n",
       "    <tr>\n",
       "      <th>4</th>\n",
       "      <td>[[0, 0, 0, 0, 0, 0, 0, 0, 0, 0, 0, 0, 0, 0, 0,...</td>\n",
       "      <td>1683.0</td>\n",
       "      <td>lot1</td>\n",
       "      <td>[[Training]]</td>\n",
       "      <td>[[none]]</td>\n",
       "    </tr>\n",
       "  </tbody>\n",
       "</table>\n",
       "</div>"
      ],
      "text/plain": [
       "                                            waferMap  dieSize lotName  \\\n",
       "0  [[0, 0, 0, 0, 0, 0, 0, 0, 0, 0, 0, 0, 0, 0, 0,...   1683.0    lot1   \n",
       "1  [[0, 0, 0, 0, 0, 0, 0, 0, 0, 0, 0, 0, 0, 0, 0,...   1683.0    lot1   \n",
       "2  [[0, 0, 0, 0, 0, 0, 0, 0, 0, 0, 0, 0, 0, 0, 0,...   1683.0    lot1   \n",
       "3  [[0, 0, 0, 0, 0, 0, 0, 0, 0, 0, 0, 0, 0, 0, 0,...   1683.0    lot1   \n",
       "4  [[0, 0, 0, 0, 0, 0, 0, 0, 0, 0, 0, 0, 0, 0, 0,...   1683.0    lot1   \n",
       "\n",
       "  trianTestLabel failureType  \n",
       "0   [[Training]]    [[none]]  \n",
       "1   [[Training]]    [[none]]  \n",
       "2   [[Training]]    [[none]]  \n",
       "3   [[Training]]    [[none]]  \n",
       "4   [[Training]]    [[none]]  "
      ]
     },
     "execution_count": 5,
     "metadata": {},
     "output_type": "execute_result"
    }
   ],
   "source": [
    "# 불필요 컬럼 제거\n",
    "wm811k = wm811k.drop(['waferIndex'], axis = 1)\n",
    "wm811k.head()"
   ]
  },
  {
   "cell_type": "code",
   "execution_count": 6,
   "id": "9ef1e658",
   "metadata": {
    "execution": {
     "iopub.execute_input": "2022-04-06T06:23:58.112597Z",
     "iopub.status.busy": "2022-04-06T06:23:58.112597Z",
     "iopub.status.idle": "2022-04-06T06:23:59.282643Z",
     "shell.execute_reply": "2022-04-06T06:23:59.282643Z",
     "shell.execute_reply.started": "2022-04-06T06:23:58.112597Z"
    },
    "tags": []
   },
   "outputs": [
    {
     "data": {
      "text/html": [
       "<div>\n",
       "<style scoped>\n",
       "    .dataframe tbody tr th:only-of-type {\n",
       "        vertical-align: middle;\n",
       "    }\n",
       "\n",
       "    .dataframe tbody tr th {\n",
       "        vertical-align: top;\n",
       "    }\n",
       "\n",
       "    .dataframe thead th {\n",
       "        text-align: right;\n",
       "    }\n",
       "</style>\n",
       "<table border=\"1\" class=\"dataframe\">\n",
       "  <thead>\n",
       "    <tr style=\"text-align: right;\">\n",
       "      <th></th>\n",
       "      <th>waferMap</th>\n",
       "      <th>dieSize</th>\n",
       "      <th>lotName</th>\n",
       "      <th>trianTestLabel</th>\n",
       "      <th>failureType</th>\n",
       "      <th>waferMapDim</th>\n",
       "    </tr>\n",
       "  </thead>\n",
       "  <tbody>\n",
       "    <tr>\n",
       "      <th>0</th>\n",
       "      <td>[[0, 0, 0, 0, 0, 0, 0, 0, 0, 0, 0, 0, 0, 0, 0,...</td>\n",
       "      <td>1683.0</td>\n",
       "      <td>lot1</td>\n",
       "      <td>[[Training]]</td>\n",
       "      <td>[[none]]</td>\n",
       "      <td>(45, 48)</td>\n",
       "    </tr>\n",
       "    <tr>\n",
       "      <th>1</th>\n",
       "      <td>[[0, 0, 0, 0, 0, 0, 0, 0, 0, 0, 0, 0, 0, 0, 0,...</td>\n",
       "      <td>1683.0</td>\n",
       "      <td>lot1</td>\n",
       "      <td>[[Training]]</td>\n",
       "      <td>[[none]]</td>\n",
       "      <td>(45, 48)</td>\n",
       "    </tr>\n",
       "    <tr>\n",
       "      <th>2</th>\n",
       "      <td>[[0, 0, 0, 0, 0, 0, 0, 0, 0, 0, 0, 0, 0, 0, 0,...</td>\n",
       "      <td>1683.0</td>\n",
       "      <td>lot1</td>\n",
       "      <td>[[Training]]</td>\n",
       "      <td>[[none]]</td>\n",
       "      <td>(45, 48)</td>\n",
       "    </tr>\n",
       "    <tr>\n",
       "      <th>3</th>\n",
       "      <td>[[0, 0, 0, 0, 0, 0, 0, 0, 0, 0, 0, 0, 0, 0, 0,...</td>\n",
       "      <td>1683.0</td>\n",
       "      <td>lot1</td>\n",
       "      <td>[[Training]]</td>\n",
       "      <td>[[none]]</td>\n",
       "      <td>(45, 48)</td>\n",
       "    </tr>\n",
       "    <tr>\n",
       "      <th>4</th>\n",
       "      <td>[[0, 0, 0, 0, 0, 0, 0, 0, 0, 0, 0, 0, 0, 0, 0,...</td>\n",
       "      <td>1683.0</td>\n",
       "      <td>lot1</td>\n",
       "      <td>[[Training]]</td>\n",
       "      <td>[[none]]</td>\n",
       "      <td>(45, 48)</td>\n",
       "    </tr>\n",
       "  </tbody>\n",
       "</table>\n",
       "</div>"
      ],
      "text/plain": [
       "                                            waferMap  dieSize lotName  \\\n",
       "0  [[0, 0, 0, 0, 0, 0, 0, 0, 0, 0, 0, 0, 0, 0, 0,...   1683.0    lot1   \n",
       "1  [[0, 0, 0, 0, 0, 0, 0, 0, 0, 0, 0, 0, 0, 0, 0,...   1683.0    lot1   \n",
       "2  [[0, 0, 0, 0, 0, 0, 0, 0, 0, 0, 0, 0, 0, 0, 0,...   1683.0    lot1   \n",
       "3  [[0, 0, 0, 0, 0, 0, 0, 0, 0, 0, 0, 0, 0, 0, 0,...   1683.0    lot1   \n",
       "4  [[0, 0, 0, 0, 0, 0, 0, 0, 0, 0, 0, 0, 0, 0, 0,...   1683.0    lot1   \n",
       "\n",
       "  trianTestLabel failureType waferMapDim  \n",
       "0   [[Training]]    [[none]]    (45, 48)  \n",
       "1   [[Training]]    [[none]]    (45, 48)  \n",
       "2   [[Training]]    [[none]]    (45, 48)  \n",
       "3   [[Training]]    [[none]]    (45, 48)  \n",
       "4   [[Training]]    [[none]]    (45, 48)  "
      ]
     },
     "execution_count": 6,
     "metadata": {},
     "output_type": "execute_result"
    }
   ],
   "source": [
    "# wafermap size 확인 및 컬럼 추가\n",
    "def find_dim(x):\n",
    "    dim0=np.size(x,axis=0)\n",
    "    dim1=np.size(x,axis=1)\n",
    "    return dim0,dim1\n",
    "wm811k['waferMapDim']=wm811k['waferMap'].apply(find_dim)\n",
    "wm811k.head()"
   ]
  },
  {
   "cell_type": "code",
   "execution_count": 7,
   "id": "1c9d55df",
   "metadata": {
    "execution": {
     "iopub.execute_input": "2022-04-06T06:23:59.284011Z",
     "iopub.status.busy": "2022-04-06T06:23:59.284011Z",
     "iopub.status.idle": "2022-04-06T06:24:11.924498Z",
     "shell.execute_reply": "2022-04-06T06:24:11.923992Z",
     "shell.execute_reply.started": "2022-04-06T06:23:59.284011Z"
    },
    "tags": []
   },
   "outputs": [
    {
     "name": "stderr",
     "output_type": "stream",
     "text": [
      "C:\\Users\\kjt\\Anaconda3\\envs\\dlit\\lib\\site-packages\\pandas\\core\\array_algos\\replace.py:60: FutureWarning: elementwise comparison failed; returning scalar instead, but in the future will perform elementwise comparison\n",
      "  op = lambda x: operator.eq(x, b)\n"
     ]
    },
    {
     "data": {
      "text/html": [
       "<div>\n",
       "<style scoped>\n",
       "    .dataframe tbody tr th:only-of-type {\n",
       "        vertical-align: middle;\n",
       "    }\n",
       "\n",
       "    .dataframe tbody tr th {\n",
       "        vertical-align: top;\n",
       "    }\n",
       "\n",
       "    .dataframe thead th {\n",
       "        text-align: right;\n",
       "    }\n",
       "</style>\n",
       "<table border=\"1\" class=\"dataframe\">\n",
       "  <thead>\n",
       "    <tr style=\"text-align: right;\">\n",
       "      <th></th>\n",
       "      <th>waferMap</th>\n",
       "      <th>dieSize</th>\n",
       "      <th>lotName</th>\n",
       "      <th>trianTestLabel</th>\n",
       "      <th>failureType</th>\n",
       "      <th>waferMapDim</th>\n",
       "      <th>failureNum</th>\n",
       "      <th>trainTestNum</th>\n",
       "    </tr>\n",
       "  </thead>\n",
       "  <tbody>\n",
       "    <tr>\n",
       "      <th>0</th>\n",
       "      <td>[[0, 0, 0, 0, 0, 0, 0, 0, 0, 0, 0, 0, 0, 0, 0,...</td>\n",
       "      <td>1683.0</td>\n",
       "      <td>lot1</td>\n",
       "      <td>[[Training]]</td>\n",
       "      <td>[[none]]</td>\n",
       "      <td>(45, 48)</td>\n",
       "      <td>8</td>\n",
       "      <td>0</td>\n",
       "    </tr>\n",
       "    <tr>\n",
       "      <th>1</th>\n",
       "      <td>[[0, 0, 0, 0, 0, 0, 0, 0, 0, 0, 0, 0, 0, 0, 0,...</td>\n",
       "      <td>1683.0</td>\n",
       "      <td>lot1</td>\n",
       "      <td>[[Training]]</td>\n",
       "      <td>[[none]]</td>\n",
       "      <td>(45, 48)</td>\n",
       "      <td>8</td>\n",
       "      <td>0</td>\n",
       "    </tr>\n",
       "    <tr>\n",
       "      <th>2</th>\n",
       "      <td>[[0, 0, 0, 0, 0, 0, 0, 0, 0, 0, 0, 0, 0, 0, 0,...</td>\n",
       "      <td>1683.0</td>\n",
       "      <td>lot1</td>\n",
       "      <td>[[Training]]</td>\n",
       "      <td>[[none]]</td>\n",
       "      <td>(45, 48)</td>\n",
       "      <td>8</td>\n",
       "      <td>0</td>\n",
       "    </tr>\n",
       "    <tr>\n",
       "      <th>3</th>\n",
       "      <td>[[0, 0, 0, 0, 0, 0, 0, 0, 0, 0, 0, 0, 0, 0, 0,...</td>\n",
       "      <td>1683.0</td>\n",
       "      <td>lot1</td>\n",
       "      <td>[[Training]]</td>\n",
       "      <td>[[none]]</td>\n",
       "      <td>(45, 48)</td>\n",
       "      <td>8</td>\n",
       "      <td>0</td>\n",
       "    </tr>\n",
       "    <tr>\n",
       "      <th>4</th>\n",
       "      <td>[[0, 0, 0, 0, 0, 0, 0, 0, 0, 0, 0, 0, 0, 0, 0,...</td>\n",
       "      <td>1683.0</td>\n",
       "      <td>lot1</td>\n",
       "      <td>[[Training]]</td>\n",
       "      <td>[[none]]</td>\n",
       "      <td>(45, 48)</td>\n",
       "      <td>8</td>\n",
       "      <td>0</td>\n",
       "    </tr>\n",
       "  </tbody>\n",
       "</table>\n",
       "</div>"
      ],
      "text/plain": [
       "                                            waferMap  dieSize lotName  \\\n",
       "0  [[0, 0, 0, 0, 0, 0, 0, 0, 0, 0, 0, 0, 0, 0, 0,...   1683.0    lot1   \n",
       "1  [[0, 0, 0, 0, 0, 0, 0, 0, 0, 0, 0, 0, 0, 0, 0,...   1683.0    lot1   \n",
       "2  [[0, 0, 0, 0, 0, 0, 0, 0, 0, 0, 0, 0, 0, 0, 0,...   1683.0    lot1   \n",
       "3  [[0, 0, 0, 0, 0, 0, 0, 0, 0, 0, 0, 0, 0, 0, 0,...   1683.0    lot1   \n",
       "4  [[0, 0, 0, 0, 0, 0, 0, 0, 0, 0, 0, 0, 0, 0, 0,...   1683.0    lot1   \n",
       "\n",
       "  trianTestLabel failureType waferMapDim failureNum trainTestNum  \n",
       "0   [[Training]]    [[none]]    (45, 48)          8            0  \n",
       "1   [[Training]]    [[none]]    (45, 48)          8            0  \n",
       "2   [[Training]]    [[none]]    (45, 48)          8            0  \n",
       "3   [[Training]]    [[none]]    (45, 48)          8            0  \n",
       "4   [[Training]]    [[none]]    (45, 48)          8            0  "
      ]
     },
     "execution_count": 7,
     "metadata": {},
     "output_type": "execute_result"
    }
   ],
   "source": [
    "# 불량 클래스 확인 및 학습/검증/테스트 데이터 셋 확인\n",
    "wm811k['failureNum']=wm811k['failureType']\n",
    "wm811k['trainTestNum']=wm811k['trianTestLabel']\n",
    "mapping_type={'Center':0,'Donut':1,'Edge-Loc':2,'Edge-Ring':3,'Loc':4,'Random':5,'Scratch':6,'Near-full':7,'none':8}\n",
    "mapping_traintest={'Training':0,'Test':1}\n",
    "wm811k=wm811k.replace({'failureNum':mapping_type, 'trainTestNum':mapping_traintest})\n",
    "wm811k.head()"
   ]
  },
  {
   "cell_type": "code",
   "execution_count": 8,
   "id": "12882722",
   "metadata": {
    "execution": {
     "iopub.execute_input": "2022-04-06T06:24:11.925512Z",
     "iopub.status.busy": "2022-04-06T06:24:11.925512Z",
     "iopub.status.idle": "2022-04-06T06:24:15.696446Z",
     "shell.execute_reply": "2022-04-06T06:24:15.696003Z",
     "shell.execute_reply.started": "2022-04-06T06:24:11.925512Z"
    },
    "tags": []
   },
   "outputs": [
    {
     "data": {
      "text/plain": [
       "[]                638507\n",
       "[['Test']]        118595\n",
       "[['Training']]     54355\n",
       "Name: trianTestLabel, dtype: int64"
      ]
     },
     "execution_count": 8,
     "metadata": {},
     "output_type": "execute_result"
    }
   ],
   "source": [
    "wm811k['trianTestLabel'].apply(lambda x: str(x)).value_counts()"
   ]
  },
  {
   "cell_type": "code",
   "execution_count": 9,
   "id": "851ed0a9",
   "metadata": {
    "execution": {
     "iopub.execute_input": "2022-04-06T06:24:15.697498Z",
     "iopub.status.busy": "2022-04-06T06:24:15.697498Z",
     "iopub.status.idle": "2022-04-06T06:24:17.582223Z",
     "shell.execute_reply": "2022-04-06T06:24:17.580211Z",
     "shell.execute_reply.started": "2022-04-06T06:24:15.697498Z"
    },
    "tags": []
   },
   "outputs": [
    {
     "data": {
      "text/plain": [
       "[]    638507\n",
       "1     118595\n",
       "0      54355\n",
       "Name: trainTestNum, dtype: int64"
      ]
     },
     "execution_count": 9,
     "metadata": {},
     "output_type": "execute_result"
    }
   ],
   "source": [
    "wm811k['trainTestNum'].apply(lambda x: str(x)).value_counts()"
   ]
  },
  {
   "cell_type": "code",
   "execution_count": 10,
   "id": "bda2133b",
   "metadata": {
    "execution": {
     "iopub.execute_input": "2022-04-06T06:24:17.583217Z",
     "iopub.status.busy": "2022-04-06T06:24:17.583217Z",
     "iopub.status.idle": "2022-04-06T06:24:19.205696Z",
     "shell.execute_reply": "2022-04-06T06:24:19.205027Z",
     "shell.execute_reply.started": "2022-04-06T06:24:17.583217Z"
    },
    "tags": []
   },
   "outputs": [],
   "source": [
    "wm811k_train = wm811k.query(\"trainTestNum == 0\")"
   ]
  },
  {
   "cell_type": "code",
   "execution_count": 11,
   "id": "8bedc9b7",
   "metadata": {
    "execution": {
     "iopub.execute_input": "2022-04-06T06:24:19.207724Z",
     "iopub.status.busy": "2022-04-06T06:24:19.207724Z",
     "iopub.status.idle": "2022-04-06T06:24:19.251725Z",
     "shell.execute_reply": "2022-04-06T06:24:19.251224Z",
     "shell.execute_reply.started": "2022-04-06T06:24:19.207724Z"
    },
    "tags": []
   },
   "outputs": [
    {
     "name": "stdout",
     "output_type": "stream",
     "text": [
      "<class 'pandas.core.frame.DataFrame'>\n",
      "Int64Index: 54355 entries, 0 to 791476\n",
      "Data columns (total 8 columns):\n",
      " #   Column          Non-Null Count  Dtype  \n",
      "---  ------          --------------  -----  \n",
      " 0   waferMap        54355 non-null  object \n",
      " 1   dieSize         54355 non-null  float64\n",
      " 2   lotName         54355 non-null  object \n",
      " 3   trianTestLabel  54355 non-null  object \n",
      " 4   failureType     54355 non-null  object \n",
      " 5   waferMapDim     54355 non-null  object \n",
      " 6   failureNum      54355 non-null  object \n",
      " 7   trainTestNum    54355 non-null  object \n",
      "dtypes: float64(1), object(7)\n",
      "memory usage: 3.7+ MB\n"
     ]
    }
   ],
   "source": [
    "wm811k_train.info()"
   ]
  },
  {
   "cell_type": "markdown",
   "id": "5c9c767c",
   "metadata": {},
   "source": [
    "### wm811k_test set\n",
    "- 10,000개 augmentation된 데이터 train: validation : test = 65: 20: 15\n",
    "- 최종 모델 확인 이후 wm811k_test 데이터 활용 모델 성능 확인하는 것이 좋을 듯"
   ]
  },
  {
   "cell_type": "code",
   "execution_count": 12,
   "id": "c4250fc7",
   "metadata": {
    "execution": {
     "iopub.execute_input": "2022-04-06T06:24:19.254307Z",
     "iopub.status.busy": "2022-04-06T06:24:19.254307Z",
     "iopub.status.idle": "2022-04-06T06:24:20.826769Z",
     "shell.execute_reply": "2022-04-06T06:24:20.826769Z",
     "shell.execute_reply.started": "2022-04-06T06:24:19.254307Z"
    },
    "tags": []
   },
   "outputs": [],
   "source": [
    "wm811k_test = wm811k.query(\"trainTestNum == 1\")"
   ]
  },
  {
   "cell_type": "code",
   "execution_count": 13,
   "id": "05d9541c",
   "metadata": {
    "execution": {
     "iopub.execute_input": "2022-04-06T06:24:20.828831Z",
     "iopub.status.busy": "2022-04-06T06:24:20.827824Z",
     "iopub.status.idle": "2022-04-06T06:24:20.888211Z",
     "shell.execute_reply": "2022-04-06T06:24:20.887713Z",
     "shell.execute_reply.started": "2022-04-06T06:24:20.828831Z"
    },
    "tags": []
   },
   "outputs": [
    {
     "name": "stdout",
     "output_type": "stream",
     "text": [
      "<class 'pandas.core.frame.DataFrame'>\n",
      "Int64Index: 118595 entries, 639663 to 811454\n",
      "Data columns (total 8 columns):\n",
      " #   Column          Non-Null Count   Dtype  \n",
      "---  ------          --------------   -----  \n",
      " 0   waferMap        118595 non-null  object \n",
      " 1   dieSize         118595 non-null  float64\n",
      " 2   lotName         118595 non-null  object \n",
      " 3   trianTestLabel  118595 non-null  object \n",
      " 4   failureType     118595 non-null  object \n",
      " 5   waferMapDim     118595 non-null  object \n",
      " 6   failureNum      118595 non-null  object \n",
      " 7   trainTestNum    118595 non-null  object \n",
      "dtypes: float64(1), object(7)\n",
      "memory usage: 8.1+ MB\n"
     ]
    }
   ],
   "source": [
    "wm811k_test.info()"
   ]
  },
  {
   "cell_type": "code",
   "execution_count": 14,
   "id": "38c4f57d",
   "metadata": {
    "execution": {
     "iopub.execute_input": "2022-04-06T06:24:20.891257Z",
     "iopub.status.busy": "2022-04-06T06:24:20.891257Z",
     "iopub.status.idle": "2022-04-06T06:24:20.951075Z",
     "shell.execute_reply": "2022-04-06T06:24:20.949526Z",
     "shell.execute_reply.started": "2022-04-06T06:24:20.891257Z"
    },
    "tags": []
   },
   "outputs": [
    {
     "data": {
      "text/plain": [
       "8    110701\n",
       "2      2772\n",
       "4      1973\n",
       "3      1126\n",
       "0       832\n",
       "6       693\n",
       "5       257\n",
       "1       146\n",
       "7        95\n",
       "Name: failureNum, dtype: int64"
      ]
     },
     "execution_count": 14,
     "metadata": {},
     "output_type": "execute_result"
    }
   ],
   "source": [
    "wm811k_test['failureNum'].apply(lambda x: str(x)).value_counts()"
   ]
  },
  {
   "cell_type": "markdown",
   "id": "908732d9",
   "metadata": {},
   "source": [
    "### waferMap size 확인\n",
    "- data print 결과 빈 부분은 0, 정상 pixel은 1, 불량 pixel은 2로 표현되어있는 듯\n",
    "    - input shape 맞출 때 0으로 padding 주듯이 채우면 될 듯\n",
    "- 예상 전처리 과정 : 기존 데이터에 data augmentaion 적용 $ \\rightarrow $ 변형 데이터에 224x224 size zero_padding $ \\rightarrow $ input data"
   ]
  },
  {
   "cell_type": "code",
   "execution_count": 15,
   "id": "8d2d50b1",
   "metadata": {
    "execution": {
     "iopub.execute_input": "2022-04-06T06:24:20.953099Z",
     "iopub.status.busy": "2022-04-06T06:24:20.952069Z",
     "iopub.status.idle": "2022-04-06T06:24:20.965171Z",
     "shell.execute_reply": "2022-04-06T06:24:20.964509Z",
     "shell.execute_reply.started": "2022-04-06T06:24:20.953099Z"
    },
    "tags": []
   },
   "outputs": [],
   "source": [
    "# pd.set_option('display.max_columns', None)\n",
    "# pd.set_option('display.max_rows', None)"
   ]
  },
  {
   "cell_type": "code",
   "execution_count": 16,
   "id": "7afa5903",
   "metadata": {
    "execution": {
     "iopub.execute_input": "2022-04-06T06:24:20.965684Z",
     "iopub.status.busy": "2022-04-06T06:24:20.965684Z",
     "iopub.status.idle": "2022-04-06T06:24:21.041626Z",
     "shell.execute_reply": "2022-04-06T06:24:21.041124Z",
     "shell.execute_reply.started": "2022-04-06T06:24:20.965684Z"
    },
    "tags": []
   },
   "outputs": [
    {
     "data": {
      "text/plain": [
       "(32, 29)    108687\n",
       "(25, 27)     64083\n",
       "(49, 39)     39323\n",
       "(26, 26)     30078\n",
       "(30, 34)     29513\n",
       "             ...  \n",
       "(24, 71)         1\n",
       "(61, 55)         1\n",
       "(54, 69)         1\n",
       "(18, 4)          1\n",
       "(32, 71)         1\n",
       "Name: waferMapDim, Length: 632, dtype: int64"
      ]
     },
     "execution_count": 16,
     "metadata": {},
     "output_type": "execute_result"
    }
   ],
   "source": [
    "# waferMap size 확인\n",
    "wm811k['waferMapDim'].value_counts()"
   ]
  },
  {
   "cell_type": "code",
   "execution_count": 17,
   "id": "76089ad8",
   "metadata": {
    "collapsed": true,
    "execution": {
     "iopub.execute_input": "2022-04-06T06:24:21.042655Z",
     "iopub.status.busy": "2022-04-06T06:24:21.042655Z",
     "iopub.status.idle": "2022-04-06T06:24:21.073367Z",
     "shell.execute_reply": "2022-04-06T06:24:21.072367Z",
     "shell.execute_reply.started": "2022-04-06T06:24:21.042655Z"
    },
    "jupyter": {
     "outputs_hidden": true
    },
    "tags": []
   },
   "outputs": [
    {
     "name": "stdout",
     "output_type": "stream",
     "text": [
      "[0 0 0 0 0 0 0 0 0 0 0 0 0 0 0 0 0 0 0 0 0 2 1 1 1 1 1 0 0 0 0 0 0 0 0 0 0\n",
      " 0 0 0 0 0 0 0 0 0 0 0]\n",
      "[0 0 0 0 0 0 0 0 0 0 0 0 0 0 0 0 2 1 1 1 1 1 1 1 1 1 1 1 1 1 1 0 0 0 0 0 0\n",
      " 0 0 0 0 0 0 0 0 0 0 0]\n",
      "[0 0 0 0 0 0 0 0 0 0 0 0 0 0 1 1 1 1 1 1 1 1 1 1 1 1 1 1 1 1 2 1 1 1 0 0 0\n",
      " 0 0 0 0 0 0 0 0 0 0 0]\n",
      "[0 0 0 0 0 0 0 0 0 0 0 0 1 2 1 1 1 1 2 1 1 1 1 1 1 1 1 1 1 1 1 1 1 1 1 1 0\n",
      " 0 0 0 0 0 0 0 0 0 0 0]\n",
      "[0 0 0 0 0 0 0 0 0 0 1 1 1 1 1 1 1 1 1 1 1 1 1 1 1 1 1 1 1 1 1 1 1 1 1 1 1\n",
      " 2 0 0 0 0 0 0 0 0 0 0]\n",
      "[0 0 0 0 0 0 0 0 0 1 1 1 1 1 1 1 1 1 1 1 1 1 1 1 1 1 1 1 1 1 1 1 1 1 1 1 1\n",
      " 1 1 0 0 0 0 0 0 0 0 0]\n",
      "[0 0 0 0 0 0 0 2 1 1 1 1 1 1 1 1 1 1 1 1 1 1 1 1 1 1 1 2 1 1 1 1 1 1 1 1 1\n",
      " 1 1 1 0 0 0 0 0 0 0 0]\n",
      "[0 0 0 0 0 0 1 2 1 1 1 1 1 1 1 1 1 1 1 1 1 1 1 1 1 1 1 1 1 1 1 1 2 1 1 2 1\n",
      " 1 1 2 1 0 0 0 0 0 0 0]\n",
      "[0 0 0 0 0 2 1 1 1 1 1 1 1 1 2 1 1 1 1 2 1 1 1 1 1 1 1 2 1 1 1 1 1 1 1 1 1\n",
      " 1 1 1 1 1 0 0 0 0 0 0]\n",
      "[0 0 0 0 0 1 1 1 1 1 1 1 1 1 1 1 1 1 1 1 1 1 1 1 1 1 1 1 1 1 1 1 1 1 1 1 1\n",
      " 1 1 1 1 1 1 0 0 0 0 0]\n",
      "[0 0 0 0 1 2 1 1 1 1 1 1 1 1 2 1 1 1 1 1 1 1 1 1 1 1 1 1 1 1 1 2 1 1 1 1 1\n",
      " 1 1 1 2 1 1 1 0 0 0 0]\n",
      "[0 0 0 2 1 1 1 2 1 1 1 1 1 1 1 1 1 1 1 1 1 2 2 1 1 1 1 1 1 1 1 1 1 1 1 1 1\n",
      " 1 2 1 1 1 1 1 0 0 0 0]\n",
      "[0 0 0 1 1 1 1 1 1 1 1 1 1 1 1 1 1 1 1 1 1 1 1 1 1 1 1 1 1 1 1 1 1 1 1 1 1\n",
      " 1 1 1 1 1 1 1 1 0 0 0]\n",
      "[0 0 1 1 1 1 1 1 1 1 1 1 1 1 2 1 1 1 1 1 1 1 1 1 1 1 1 1 1 1 1 1 1 1 1 1 1\n",
      " 1 1 1 1 1 1 2 1 2 0 0]\n",
      "[0 0 1 1 1 1 1 1 1 1 1 1 1 1 1 1 1 1 2 1 1 1 1 1 1 1 1 1 1 1 1 1 1 1 1 1 1\n",
      " 1 1 1 1 1 1 1 1 1 0 0]\n",
      "[0 1 1 1 1 1 1 1 1 1 1 1 1 1 1 1 1 1 1 1 1 1 1 1 1 1 1 1 1 1 1 1 1 1 1 1 1\n",
      " 1 2 1 1 1 1 1 1 1 0 0]\n",
      "[0 1 1 1 1 1 1 1 1 1 1 1 1 1 1 1 1 1 1 1 1 1 1 1 2 1 1 1 1 1 1 1 1 1 1 1 1\n",
      " 1 1 1 1 1 1 1 2 1 1 0]\n",
      "[0 1 1 1 1 1 1 1 1 1 1 1 1 1 1 1 1 1 1 1 1 1 1 1 1 1 1 1 1 1 1 1 1 1 1 1 1\n",
      " 1 1 1 2 1 1 1 2 1 1 0]\n",
      "[1 1 1 1 1 1 1 1 1 1 1 1 1 1 2 1 1 1 1 1 2 1 1 1 1 1 1 1 1 1 1 1 1 1 1 1 1\n",
      " 1 1 1 1 1 1 1 2 1 1 0]\n",
      "[1 1 1 1 1 1 1 1 1 1 1 1 1 1 1 1 1 1 1 1 1 2 1 1 1 1 1 1 1 1 1 1 2 1 1 1 1\n",
      " 1 1 1 1 1 1 1 1 1 1 2]\n",
      "[1 1 1 1 1 1 1 1 1 1 1 1 1 2 1 1 1 1 1 1 1 1 1 1 1 1 1 1 1 2 1 1 1 1 1 2 1\n",
      " 1 1 1 1 1 1 1 1 1 1 1]\n",
      "[1 1 1 1 2 1 1 1 1 1 1 1 1 1 1 1 1 1 1 1 1 1 1 1 1 1 2 1 1 1 1 1 1 1 1 1 1\n",
      " 1 1 1 1 1 1 1 1 1 1 2]\n",
      "[1 1 1 1 1 1 1 1 1 1 1 1 1 1 1 1 1 1 1 1 1 1 1 1 1 1 1 1 1 1 1 1 1 1 1 1 1\n",
      " 1 1 1 1 1 2 1 1 1 1 2]\n",
      "[1 1 1 1 1 1 1 1 1 1 1 1 2 1 1 1 1 1 1 1 1 1 1 1 1 1 1 1 1 1 1 1 1 1 2 1 1\n",
      " 1 1 1 1 1 1 1 1 2 1 1]\n",
      "[1 1 1 1 1 1 1 1 1 1 1 1 1 1 1 1 1 1 1 1 1 1 1 1 1 1 1 1 1 1 1 1 1 1 1 1 1\n",
      " 1 1 1 1 1 1 1 1 1 1 1]\n",
      "[1 1 2 1 1 1 1 1 1 1 1 1 1 1 1 1 1 1 1 1 1 1 1 1 1 1 1 1 1 1 1 1 1 1 1 1 1\n",
      " 1 1 1 1 1 1 1 1 1 1 1]\n",
      "[1 1 1 1 1 2 1 1 1 1 1 1 2 1 1 2 1 1 1 1 1 1 2 1 1 1 1 1 1 1 1 1 1 1 1 1 1\n",
      " 1 1 1 1 1 2 1 1 1 1 0]\n",
      "[1 1 1 1 1 1 1 1 2 1 1 1 1 1 1 1 1 1 1 1 1 1 1 1 1 1 1 1 1 2 1 1 1 1 2 1 1\n",
      " 1 1 1 1 1 1 1 1 1 1 0]\n",
      "[0 1 1 1 1 1 1 1 1 1 1 1 1 1 1 1 1 1 1 1 1 1 1 1 1 1 1 1 1 1 1 1 1 1 1 1 1\n",
      " 1 1 1 1 1 1 1 1 1 1 0]\n",
      "[0 1 1 1 1 1 1 1 1 1 1 1 1 1 1 1 1 1 1 1 1 1 1 1 1 1 1 1 1 1 1 1 1 1 1 1 1\n",
      " 1 1 1 1 1 1 1 1 1 1 0]\n",
      "[0 2 1 1 1 1 1 1 1 1 1 1 1 1 1 1 1 1 1 1 1 1 1 1 1 1 1 1 1 1 1 2 1 1 1 1 1\n",
      " 1 1 1 1 1 1 1 1 1 0 0]\n",
      "[0 0 1 1 1 1 1 1 1 1 1 1 1 1 1 1 1 1 1 1 1 1 1 1 1 1 1 1 1 1 1 1 1 1 1 1 1\n",
      " 1 1 1 1 1 1 1 1 1 0 0]\n",
      "[0 0 1 1 1 1 1 1 1 1 1 1 1 1 1 1 1 2 1 2 1 1 1 1 1 1 1 1 1 1 1 1 1 1 1 2 1\n",
      " 1 1 1 1 1 1 1 2 0 0 0]\n",
      "[0 0 0 1 1 1 2 1 2 1 1 1 1 2 1 1 1 1 1 1 1 2 1 1 1 1 1 1 1 1 1 1 1 1 1 1 1\n",
      " 1 1 1 1 1 1 1 1 0 0 0]\n",
      "[0 0 0 0 1 1 1 1 1 2 1 1 1 1 1 1 1 1 1 1 1 1 1 1 1 1 1 1 1 1 1 1 2 1 1 1 1\n",
      " 1 1 1 1 1 1 1 0 0 0 0]\n",
      "[0 0 0 0 1 2 1 1 1 1 1 1 1 1 1 1 1 1 1 1 1 1 1 2 1 1 1 1 1 1 1 1 1 1 1 1 1\n",
      " 1 1 1 1 1 1 0 0 0 0 0]\n",
      "[0 0 0 0 0 2 2 1 1 1 1 1 1 1 1 2 1 1 1 1 1 1 1 1 1 1 1 1 1 1 1 1 1 1 1 1 1\n",
      " 1 1 1 1 1 1 0 0 0 0 0]\n",
      "[0 0 0 0 0 0 1 1 1 1 1 1 1 1 1 1 1 1 1 1 1 1 1 1 1 1 1 1 1 1 1 1 1 1 1 1 1\n",
      " 1 1 1 1 1 0 0 0 0 0 0]\n",
      "[0 0 0 0 0 0 0 1 1 1 1 1 1 1 1 1 1 1 1 1 1 1 2 1 1 1 1 1 1 1 1 1 1 1 1 1 1\n",
      " 1 1 1 2 0 0 0 0 0 0 0]\n",
      "[0 0 0 0 0 0 0 0 1 1 1 1 1 1 1 1 1 1 1 1 1 1 1 1 1 1 1 1 1 1 1 1 1 2 1 1 1\n",
      " 1 1 2 0 0 0 0 0 0 0 0]\n",
      "[0 0 0 0 0 0 0 0 0 1 1 1 1 1 1 1 1 1 1 1 1 1 1 1 1 1 1 1 1 1 2 1 1 1 1 1 1\n",
      " 1 0 0 0 0 0 0 0 0 0 0]\n",
      "[0 0 0 0 0 0 0 0 0 0 0 1 1 1 1 1 1 1 1 1 1 1 1 1 1 1 1 1 1 1 1 1 2 1 1 1 1\n",
      " 0 0 0 0 0 0 0 0 0 0 0]\n",
      "[0 0 0 0 0 0 0 0 0 0 0 0 0 2 1 1 1 1 1 1 1 1 1 1 2 1 1 1 1 1 1 1 1 1 1 0 0\n",
      " 0 0 0 0 0 0 0 0 0 0 0]\n",
      "[0 0 0 0 0 0 0 0 0 0 0 0 0 0 0 1 1 1 2 1 1 1 1 1 1 1 1 1 1 1 1 1 1 0 0 0 0\n",
      " 0 0 0 0 0 0 0 0 0 0 0]\n",
      "[0 0 0 0 0 0 0 0 0 0 0 0 0 0 0 0 0 0 1 2 1 1 1 1 1 1 1 1 1 2 0 0 0 0 0 0 0\n",
      " 0 0 0 0 0 0 0 0 0 0 0]\n"
     ]
    }
   ],
   "source": [
    "# waferMap 데이터 모양 예시 확인\n",
    "for i in range(len(wm811k.iloc[0]['waferMap'])):\n",
    "    print(wm811k.iloc[0]['waferMap'][i]) "
   ]
  },
  {
   "cell_type": "code",
   "execution_count": 18,
   "id": "2ac2e7d8",
   "metadata": {
    "execution": {
     "iopub.execute_input": "2022-04-06T06:24:21.075270Z",
     "iopub.status.busy": "2022-04-06T06:24:21.074891Z",
     "iopub.status.idle": "2022-04-06T06:24:21.088333Z",
     "shell.execute_reply": "2022-04-06T06:24:21.087713Z",
     "shell.execute_reply.started": "2022-04-06T06:24:21.075270Z"
    },
    "tags": []
   },
   "outputs": [
    {
     "data": {
      "text/plain": [
       "8    36730\n",
       "3     8554\n",
       "0     3462\n",
       "2     2417\n",
       "4     1620\n",
       "5      609\n",
       "6      500\n",
       "1      409\n",
       "7       54\n",
       "Name: failureNum, dtype: int64"
      ]
     },
     "execution_count": 18,
     "metadata": {},
     "output_type": "execute_result"
    }
   ],
   "source": [
    "# 학습 데이터 내 불량 클래스 개수 확인\n",
    "wm811k_train['failureNum'].value_counts()"
   ]
  },
  {
   "cell_type": "markdown",
   "id": "7516ba57",
   "metadata": {},
   "source": [
    "### Data-Augmentaion - 클래스별로 10,000개\n",
    "- None(8): 36,730 중 10,000 개 Sampling\n",
    "- Edge-Ring(3): 8554\n",
    "    - 1446개 모자름\n",
    "- Center(0)     : 3462\n",
    "    - 6,538개 모자름\n",
    "- Edge-Loc(2)   : 2417\n",
    "    - 7,583개 모자름\n",
    "- Loc(4)        : 1620\n",
    "    - 8,380개 모자름\n",
    "- Random(5)     : 609\n",
    "    - 9,391개 모자름\n",
    "- Scratch(6)    : 500\n",
    "    - 9,500개 모자름\n",
    "- Donut(1)      : 409\n",
    "    - 9,591개 모자름\n",
    "- Near-full(7)  : 54\n",
    "    - 9,946개 모자름"
   ]
  },
  {
   "cell_type": "markdown",
   "id": "e3d57374",
   "metadata": {},
   "source": [
    "### Augmentation 기법 적용\n",
    "- 10도 회전 : 20%\n",
    "- 좌우 대칭 및 너비 이동(horizontal flipping and width shift) : 20%\n",
    "- 높이 이동(height shfit) : 15%\n",
    "- 전단 범위(shearing range) : 10%\n",
    "- 채널이동 및 확대 축소(channel shift and zooming) : 10%\n",
    "- 75%밖에 안 되는 듯"
   ]
  },
  {
   "cell_type": "markdown",
   "id": "e0f44ef5",
   "metadata": {},
   "source": [
    "- 수정 증량 비율\n",
    "    - +10도 회전 : 10%\n",
    "    - -10도 회전 : 10%\n",
    "    - 좌우 대칭 : 20% \n",
    "    - 너비 이동 : 20%\n",
    "    - 높이 이동: 20%\n",
    "    - 전단 범위(shearing range) : 10%\n",
    "    - 확대 : 10%"
   ]
  },
  {
   "cell_type": "code",
   "execution_count": 19,
   "id": "3cef0043",
   "metadata": {
    "execution": {
     "iopub.execute_input": "2022-04-06T06:24:21.089353Z",
     "iopub.status.busy": "2022-04-06T06:24:21.089353Z",
     "iopub.status.idle": "2022-04-06T06:24:21.242630Z",
     "shell.execute_reply": "2022-04-06T06:24:21.242128Z",
     "shell.execute_reply.started": "2022-04-06T06:24:21.089353Z"
    },
    "tags": []
   },
   "outputs": [
    {
     "data": {
      "text/html": [
       "<div>\n",
       "<style scoped>\n",
       "    .dataframe tbody tr th:only-of-type {\n",
       "        vertical-align: middle;\n",
       "    }\n",
       "\n",
       "    .dataframe tbody tr th {\n",
       "        vertical-align: top;\n",
       "    }\n",
       "\n",
       "    .dataframe thead th {\n",
       "        text-align: right;\n",
       "    }\n",
       "</style>\n",
       "<table border=\"1\" class=\"dataframe\">\n",
       "  <thead>\n",
       "    <tr style=\"text-align: right;\">\n",
       "      <th></th>\n",
       "      <th>waferMap</th>\n",
       "      <th>dieSize</th>\n",
       "      <th>lotName</th>\n",
       "      <th>trianTestLabel</th>\n",
       "      <th>failureType</th>\n",
       "      <th>waferMapDim</th>\n",
       "      <th>failureNum</th>\n",
       "      <th>trainTestNum</th>\n",
       "    </tr>\n",
       "  </thead>\n",
       "  <tbody>\n",
       "    <tr>\n",
       "      <th>0</th>\n",
       "      <td>[[0, 0, 0, 0, 0, 0, 0, 0, 0, 0, 0, 0, 0, 0, 0,...</td>\n",
       "      <td>1683.0</td>\n",
       "      <td>lot1</td>\n",
       "      <td>[[Training]]</td>\n",
       "      <td>[[none]]</td>\n",
       "      <td>(45, 48)</td>\n",
       "      <td>8</td>\n",
       "      <td>0</td>\n",
       "    </tr>\n",
       "    <tr>\n",
       "      <th>1</th>\n",
       "      <td>[[0, 0, 0, 0, 0, 0, 0, 0, 0, 0, 0, 0, 0, 0, 0,...</td>\n",
       "      <td>1683.0</td>\n",
       "      <td>lot1</td>\n",
       "      <td>[[Training]]</td>\n",
       "      <td>[[none]]</td>\n",
       "      <td>(45, 48)</td>\n",
       "      <td>8</td>\n",
       "      <td>0</td>\n",
       "    </tr>\n",
       "    <tr>\n",
       "      <th>2</th>\n",
       "      <td>[[0, 0, 0, 0, 0, 0, 0, 0, 0, 0, 0, 0, 0, 0, 0,...</td>\n",
       "      <td>1683.0</td>\n",
       "      <td>lot1</td>\n",
       "      <td>[[Training]]</td>\n",
       "      <td>[[none]]</td>\n",
       "      <td>(45, 48)</td>\n",
       "      <td>8</td>\n",
       "      <td>0</td>\n",
       "    </tr>\n",
       "    <tr>\n",
       "      <th>3</th>\n",
       "      <td>[[0, 0, 0, 0, 0, 0, 0, 0, 0, 0, 0, 0, 0, 0, 0,...</td>\n",
       "      <td>1683.0</td>\n",
       "      <td>lot1</td>\n",
       "      <td>[[Training]]</td>\n",
       "      <td>[[none]]</td>\n",
       "      <td>(45, 48)</td>\n",
       "      <td>8</td>\n",
       "      <td>0</td>\n",
       "    </tr>\n",
       "    <tr>\n",
       "      <th>4</th>\n",
       "      <td>[[0, 0, 0, 0, 0, 0, 0, 0, 0, 0, 0, 0, 0, 0, 0,...</td>\n",
       "      <td>1683.0</td>\n",
       "      <td>lot1</td>\n",
       "      <td>[[Training]]</td>\n",
       "      <td>[[none]]</td>\n",
       "      <td>(45, 48)</td>\n",
       "      <td>8</td>\n",
       "      <td>0</td>\n",
       "    </tr>\n",
       "  </tbody>\n",
       "</table>\n",
       "</div>"
      ],
      "text/plain": [
       "                                            waferMap  dieSize lotName  \\\n",
       "0  [[0, 0, 0, 0, 0, 0, 0, 0, 0, 0, 0, 0, 0, 0, 0,...   1683.0    lot1   \n",
       "1  [[0, 0, 0, 0, 0, 0, 0, 0, 0, 0, 0, 0, 0, 0, 0,...   1683.0    lot1   \n",
       "2  [[0, 0, 0, 0, 0, 0, 0, 0, 0, 0, 0, 0, 0, 0, 0,...   1683.0    lot1   \n",
       "3  [[0, 0, 0, 0, 0, 0, 0, 0, 0, 0, 0, 0, 0, 0, 0,...   1683.0    lot1   \n",
       "4  [[0, 0, 0, 0, 0, 0, 0, 0, 0, 0, 0, 0, 0, 0, 0,...   1683.0    lot1   \n",
       "\n",
       "  trianTestLabel failureType waferMapDim failureNum trainTestNum  \n",
       "0   [[Training]]    [[none]]    (45, 48)          8            0  \n",
       "1   [[Training]]    [[none]]    (45, 48)          8            0  \n",
       "2   [[Training]]    [[none]]    (45, 48)          8            0  \n",
       "3   [[Training]]    [[none]]    (45, 48)          8            0  \n",
       "4   [[Training]]    [[none]]    (45, 48)          8            0  "
      ]
     },
     "execution_count": 19,
     "metadata": {},
     "output_type": "execute_result"
    }
   ],
   "source": [
    "wm811k_train.head()"
   ]
  },
  {
   "cell_type": "markdown",
   "id": "34247e83",
   "metadata": {},
   "source": [
    "### Augmentation 구현\n",
    "- 기법 별로 함수 작성\n",
    "- 비율 개수만큼 sampling\n",
    "- sampling 데이터에 작성한 기법별 함수 적용\n",
    "- waferMapDim 확인 / waferMap 이미지 부분 잘리거나 한 부분 없게끔 적용되게 확인 : 미리 padding 주기?\n",
    "- data concat"
   ]
  },
  {
   "cell_type": "markdown",
   "id": "dacf3fa0",
   "metadata": {},
   "source": [
    "- 10도 회전\n",
    "    - 참고 : https://076923.github.io/posts/Python-opencv-6/"
   ]
  },
  {
   "cell_type": "code",
   "execution_count": 20,
   "id": "b331c191",
   "metadata": {
    "execution": {
     "iopub.execute_input": "2022-04-06T06:24:21.244176Z",
     "iopub.status.busy": "2022-04-06T06:24:21.244176Z",
     "iopub.status.idle": "2022-04-06T06:24:21.257921Z",
     "shell.execute_reply": "2022-04-06T06:24:21.257410Z",
     "shell.execute_reply.started": "2022-04-06T06:24:21.244176Z"
    },
    "tags": []
   },
   "outputs": [],
   "source": [
    "def rotation_10_degree(data_img):\n",
    "    height, width = data_img.shape\n",
    "    # positive for anti-clockwise and negative for clockwise\n",
    "    # 양수 음수 random으로 주기 코드 추가\n",
    "    rotation_10_degree_img = cv2.getRotationMatrix2D((width/2, height/2), 10, 1) # 중심점, 각도, 배율\n",
    "    dst = cv2.warpAffine(data_img, rotation_10_degree_img, (width,height))\n",
    "    return dst"
   ]
  },
  {
   "cell_type": "code",
   "execution_count": 42,
   "id": "9679a1f8",
   "metadata": {
    "execution": {
     "iopub.execute_input": "2022-04-06T06:25:15.097543Z",
     "iopub.status.busy": "2022-04-06T06:25:15.096318Z",
     "iopub.status.idle": "2022-04-06T06:25:15.101270Z",
     "shell.execute_reply": "2022-04-06T06:25:15.100768Z",
     "shell.execute_reply.started": "2022-04-06T06:25:15.097315Z"
    },
    "tags": []
   },
   "outputs": [],
   "source": [
    "def rotation_minus_10_degree(data_img):\n",
    "    height, width = data_img.shape\n",
    "    # positive for anti-clockwise and negative for clockwise\n",
    "    # 양수 음수 random으로 주기 코드 추가\n",
    "    rotation_10_degree_img = cv2.getRotationMatrix2D((width/2, height/2), -10, 1) # 중심점, 각도, 배율\n",
    "    dst = cv2.warpAffine(data_img, rotation_10_degree_img, (width,height))\n",
    "    return dst"
   ]
  },
  {
   "cell_type": "code",
   "execution_count": 21,
   "id": "f6d2bd24",
   "metadata": {
    "execution": {
     "iopub.execute_input": "2022-04-06T06:24:21.258933Z",
     "iopub.status.busy": "2022-04-06T06:24:21.258933Z",
     "iopub.status.idle": "2022-04-06T06:24:21.272538Z",
     "shell.execute_reply": "2022-04-06T06:24:21.272538Z",
     "shell.execute_reply.started": "2022-04-06T06:24:21.258933Z"
    },
    "tags": []
   },
   "outputs": [],
   "source": [
    "# 회전 변환 다른 라이브러리 활용하는 방법 참고\n",
    "# from scipy.ndimage.interpolation import rotate\n",
    "# rotated = rotate(test_wafermap.iloc[3][\"waferMap\"], angle=10,reshape=False)\n",
    "# plt.imshow(rotated)\n",
    "# plt.show()"
   ]
  },
  {
   "cell_type": "markdown",
   "id": "173278fd",
   "metadata": {},
   "source": [
    "- 좌우 대칭 및 너비 이동(horizontal flipping and width shift)\n",
    "    - cv2.flip : https://crmn.tistory.com/54\n",
    "        - flip_img = cv2.flip(data_img, 1) # 1:좌우반전, 0:상하반전 \n",
    "    - translate : https://m.blog.naver.com/PostView.naver?isHttpsRedirect=true&blogId=vps32&logNo=221762189533\n",
    "        - width shift\n",
    "        - height shift"
   ]
  },
  {
   "cell_type": "code",
   "execution_count": 22,
   "id": "6260d087",
   "metadata": {
    "execution": {
     "iopub.execute_input": "2022-04-06T06:24:21.273929Z",
     "iopub.status.busy": "2022-04-06T06:24:21.273929Z",
     "iopub.status.idle": "2022-04-06T06:24:21.288769Z",
     "shell.execute_reply": "2022-04-06T06:24:21.288270Z",
     "shell.execute_reply.started": "2022-04-06T06:24:21.273929Z"
    },
    "tags": []
   },
   "outputs": [],
   "source": [
    "def translate(data_img):\n",
    "    height, width = data_img.shape\n",
    "    # random ~ 범위 지정하여 함수 실행 시 마다 무작위로 평행이동 정도 부여하게끔 수정 필요\n",
    "    # 224x224 size 안에서 이동하도록 코딩 필요\n",
    "    translate_matrix = np.float32([[1,0,10], [0,1,5]]) # 세로 10, 가로 5 만큼 평행 이동 \n",
    "    dst = cv2.warpAffine(data_img, translate_matrix, (width,height))\n",
    "    return dst"
   ]
  },
  {
   "cell_type": "markdown",
   "id": "881a2950",
   "metadata": {},
   "source": [
    "- 전단 범위(shearing range)\n",
    "    - https://www.thepythoncode.com/article/image-transformations-using-opencv-in-python\n",
    "    - https://stackoverflow.com/questions/57881430/how-could-i-implement-a-centered-shear-an-image-with-opencv"
   ]
  },
  {
   "cell_type": "code",
   "execution_count": 23,
   "id": "a7310dd8",
   "metadata": {
    "execution": {
     "iopub.execute_input": "2022-04-06T06:24:21.289793Z",
     "iopub.status.busy": "2022-04-06T06:24:21.289793Z",
     "iopub.status.idle": "2022-04-06T06:24:21.304903Z",
     "shell.execute_reply": "2022-04-06T06:24:21.304407Z",
     "shell.execute_reply.started": "2022-04-06T06:24:21.289793Z"
    },
    "tags": []
   },
   "outputs": [],
   "source": [
    "def shearing(data_img):\n",
    "    height, width = data_img.shape\n",
    "    # random ~ 범위 지정하여 함수 실행 시 마다 x축, y축 shearing 정도 부여하게끔 수정 필요\n",
    "    shearing_matrix = np.float32([[1, 0.5, 0],    # shearing applied to y-axis\n",
    "             \t                  [0, 1  , 0],    # M = np.float32([[1,   0, 0],\n",
    "            \t                  [0, 0  , 1]])   #             \t[0.5, 1, 0],\n",
    "                                                  #             \t[0,   0, 1]])  \n",
    "    # apply a perspective transformation to the image                \n",
    "    dst = cv2.warpPerspective(data_img, shearing_matrix, (int(width*1.5),int(height*1.5)))                      \n",
    "    # 변형 이미지 중심 보정?\n",
    "    return dst"
   ]
  },
  {
   "cell_type": "markdown",
   "id": "24f93835",
   "metadata": {},
   "source": [
    "- 채널이동 및 확대 축소(channel shift and zooming)\n",
    "    - 단일 채널 이미지라 channel shift는 적용 안 될 것 같음\n",
    "    - zoom : https://076923.github.io/posts/Python-opencv-7/"
   ]
  },
  {
   "cell_type": "code",
   "execution_count": 24,
   "id": "7a37d2e1",
   "metadata": {
    "execution": {
     "iopub.execute_input": "2022-04-06T06:24:21.305923Z",
     "iopub.status.busy": "2022-04-06T06:24:21.305923Z",
     "iopub.status.idle": "2022-04-06T06:24:21.319842Z",
     "shell.execute_reply": "2022-04-06T06:24:21.319335Z",
     "shell.execute_reply.started": "2022-04-06T06:24:21.305923Z"
    },
    "tags": []
   },
   "outputs": [],
   "source": [
    "def zoom(data_img):\n",
    "    height, width = data_img.shape\n",
    "    # 2배 확대 이미지 / 가로 세로 값이 조건에 맞으면 dstsize로 값 부여하여 세밀 조정 가능\n",
    "    # 224x224 size 안에서 2배 확대 가능하도록 코딩 필요\n",
    "    dst = cv2.pyrUp(data_img, dstsize=(width * 2, height * 2), borderType=cv2.BORDER_DEFAULT)\n",
    "    return dst"
   ]
  },
  {
   "cell_type": "markdown",
   "id": "5e494d61",
   "metadata": {},
   "source": [
    "- test"
   ]
  },
  {
   "cell_type": "code",
   "execution_count": 25,
   "id": "65b6785c",
   "metadata": {
    "execution": {
     "iopub.execute_input": "2022-04-06T06:24:21.321980Z",
     "iopub.status.busy": "2022-04-06T06:24:21.321980Z",
     "iopub.status.idle": "2022-04-06T06:24:21.334754Z",
     "shell.execute_reply": "2022-04-06T06:24:21.334471Z",
     "shell.execute_reply.started": "2022-04-06T06:24:21.321980Z"
    },
    "tags": []
   },
   "outputs": [],
   "source": [
    "test_wafermap = wm811k_train.query(\"failureNum == 6\").sample(n=5)"
   ]
  },
  {
   "cell_type": "code",
   "execution_count": 26,
   "id": "8383f6ec",
   "metadata": {
    "execution": {
     "iopub.execute_input": "2022-04-06T06:24:21.335769Z",
     "iopub.status.busy": "2022-04-06T06:24:21.335769Z",
     "iopub.status.idle": "2022-04-06T06:24:21.625772Z",
     "shell.execute_reply": "2022-04-06T06:24:21.625290Z",
     "shell.execute_reply.started": "2022-04-06T06:24:21.335769Z"
    },
    "tags": []
   },
   "outputs": [
    {
     "data": {
      "text/html": [
       "<div>\n",
       "<style scoped>\n",
       "    .dataframe tbody tr th:only-of-type {\n",
       "        vertical-align: middle;\n",
       "    }\n",
       "\n",
       "    .dataframe tbody tr th {\n",
       "        vertical-align: top;\n",
       "    }\n",
       "\n",
       "    .dataframe thead th {\n",
       "        text-align: right;\n",
       "    }\n",
       "</style>\n",
       "<table border=\"1\" class=\"dataframe\">\n",
       "  <thead>\n",
       "    <tr style=\"text-align: right;\">\n",
       "      <th></th>\n",
       "      <th>waferMap</th>\n",
       "      <th>dieSize</th>\n",
       "      <th>lotName</th>\n",
       "      <th>trianTestLabel</th>\n",
       "      <th>failureType</th>\n",
       "      <th>waferMapDim</th>\n",
       "      <th>failureNum</th>\n",
       "      <th>trainTestNum</th>\n",
       "    </tr>\n",
       "  </thead>\n",
       "  <tbody>\n",
       "    <tr>\n",
       "      <th>432643</th>\n",
       "      <td>[[0, 0, 0, 0, 0, 0, 0, 0, 0, 0, 2, 2, 2, 1, 1,...</td>\n",
       "      <td>566.0</td>\n",
       "      <td>lot26187</td>\n",
       "      <td>[[Training]]</td>\n",
       "      <td>[[Scratch]]</td>\n",
       "      <td>(26, 28)</td>\n",
       "      <td>6</td>\n",
       "      <td>0</td>\n",
       "    </tr>\n",
       "    <tr>\n",
       "      <th>380526</th>\n",
       "      <td>[[0, 0, 0, 0, 0, 0, 0, 0, 0, 0, 0, 0, 0, 0, 0,...</td>\n",
       "      <td>2393.0</td>\n",
       "      <td>lot22700</td>\n",
       "      <td>[[Training]]</td>\n",
       "      <td>[[Scratch]]</td>\n",
       "      <td>(52, 59)</td>\n",
       "      <td>6</td>\n",
       "      <td>0</td>\n",
       "    </tr>\n",
       "    <tr>\n",
       "      <th>266902</th>\n",
       "      <td>[[0, 0, 0, 0, 0, 0, 0, 0, 0, 0, 0, 0, 0, 0, 0,...</td>\n",
       "      <td>4618.0</td>\n",
       "      <td>lot16514</td>\n",
       "      <td>[[Training]]</td>\n",
       "      <td>[[Scratch]]</td>\n",
       "      <td>(77, 76)</td>\n",
       "      <td>6</td>\n",
       "      <td>0</td>\n",
       "    </tr>\n",
       "    <tr>\n",
       "      <th>226587</th>\n",
       "      <td>[[0, 0, 0, 0, 0, 0, 0, 0, 0, 0, 0, 0, 0, 0, 0,...</td>\n",
       "      <td>7810.0</td>\n",
       "      <td>lot14247</td>\n",
       "      <td>[[Training]]</td>\n",
       "      <td>[[Scratch]]</td>\n",
       "      <td>(89, 112)</td>\n",
       "      <td>6</td>\n",
       "      <td>0</td>\n",
       "    </tr>\n",
       "    <tr>\n",
       "      <th>249651</th>\n",
       "      <td>[[0, 0, 0, 0, 0, 0, 0, 0, 0, 0, 0, 0, 0, 0, 0,...</td>\n",
       "      <td>1724.0</td>\n",
       "      <td>lot15537</td>\n",
       "      <td>[[Training]]</td>\n",
       "      <td>[[Scratch]]</td>\n",
       "      <td>(50, 43)</td>\n",
       "      <td>6</td>\n",
       "      <td>0</td>\n",
       "    </tr>\n",
       "  </tbody>\n",
       "</table>\n",
       "</div>"
      ],
      "text/plain": [
       "                                                 waferMap  dieSize   lotName  \\\n",
       "432643  [[0, 0, 0, 0, 0, 0, 0, 0, 0, 0, 2, 2, 2, 1, 1,...    566.0  lot26187   \n",
       "380526  [[0, 0, 0, 0, 0, 0, 0, 0, 0, 0, 0, 0, 0, 0, 0,...   2393.0  lot22700   \n",
       "266902  [[0, 0, 0, 0, 0, 0, 0, 0, 0, 0, 0, 0, 0, 0, 0,...   4618.0  lot16514   \n",
       "226587  [[0, 0, 0, 0, 0, 0, 0, 0, 0, 0, 0, 0, 0, 0, 0,...   7810.0  lot14247   \n",
       "249651  [[0, 0, 0, 0, 0, 0, 0, 0, 0, 0, 0, 0, 0, 0, 0,...   1724.0  lot15537   \n",
       "\n",
       "       trianTestLabel  failureType waferMapDim failureNum trainTestNum  \n",
       "432643   [[Training]]  [[Scratch]]    (26, 28)          6            0  \n",
       "380526   [[Training]]  [[Scratch]]    (52, 59)          6            0  \n",
       "266902   [[Training]]  [[Scratch]]    (77, 76)          6            0  \n",
       "226587   [[Training]]  [[Scratch]]   (89, 112)          6            0  \n",
       "249651   [[Training]]  [[Scratch]]    (50, 43)          6            0  "
      ]
     },
     "execution_count": 26,
     "metadata": {},
     "output_type": "execute_result"
    }
   ],
   "source": [
    "test_wafermap.head()"
   ]
  },
  {
   "cell_type": "code",
   "execution_count": 27,
   "id": "8e715117",
   "metadata": {
    "execution": {
     "iopub.execute_input": "2022-04-06T06:24:21.626855Z",
     "iopub.status.busy": "2022-04-06T06:24:21.626855Z",
     "iopub.status.idle": "2022-04-06T06:24:21.656107Z",
     "shell.execute_reply": "2022-04-06T06:24:21.656107Z",
     "shell.execute_reply.started": "2022-04-06T06:24:21.626855Z"
    },
    "tags": []
   },
   "outputs": [],
   "source": [
    "test_wafermap[\"waferMap_augmentation\"] = test_wafermap[\"waferMap\"].apply(lambda x: rotation_10_degree(x))\n",
    "# test_wafermap[\"waferMap_augmentation\"] = test_wafermap[\"waferMap\"].apply(lambda x: translate(x))\n",
    "# test_wafermap[\"waferMap_augmentation\"] = test_wafermap[\"waferMap\"].apply(lambda x: shearing(x))\n",
    "# test_wafermap[\"waferMap_augmentation\"] = test_wafermap[\"waferMap\"].apply(lambda x: zoom(x))"
   ]
  },
  {
   "cell_type": "code",
   "execution_count": 28,
   "id": "885c9da1",
   "metadata": {
    "execution": {
     "iopub.execute_input": "2022-04-06T06:24:21.658508Z",
     "iopub.status.busy": "2022-04-06T06:24:21.657508Z",
     "iopub.status.idle": "2022-04-06T06:24:22.098780Z",
     "shell.execute_reply": "2022-04-06T06:24:22.098780Z",
     "shell.execute_reply.started": "2022-04-06T06:24:21.658508Z"
    },
    "tags": []
   },
   "outputs": [
    {
     "data": {
      "text/html": [
       "<div>\n",
       "<style scoped>\n",
       "    .dataframe tbody tr th:only-of-type {\n",
       "        vertical-align: middle;\n",
       "    }\n",
       "\n",
       "    .dataframe tbody tr th {\n",
       "        vertical-align: top;\n",
       "    }\n",
       "\n",
       "    .dataframe thead th {\n",
       "        text-align: right;\n",
       "    }\n",
       "</style>\n",
       "<table border=\"1\" class=\"dataframe\">\n",
       "  <thead>\n",
       "    <tr style=\"text-align: right;\">\n",
       "      <th></th>\n",
       "      <th>waferMap</th>\n",
       "      <th>dieSize</th>\n",
       "      <th>lotName</th>\n",
       "      <th>trianTestLabel</th>\n",
       "      <th>failureType</th>\n",
       "      <th>waferMapDim</th>\n",
       "      <th>failureNum</th>\n",
       "      <th>trainTestNum</th>\n",
       "      <th>waferMap_augmentation</th>\n",
       "    </tr>\n",
       "  </thead>\n",
       "  <tbody>\n",
       "    <tr>\n",
       "      <th>432643</th>\n",
       "      <td>[[0, 0, 0, 0, 0, 0, 0, 0, 0, 0, 2, 2, 2, 1, 1,...</td>\n",
       "      <td>566.0</td>\n",
       "      <td>lot26187</td>\n",
       "      <td>[[Training]]</td>\n",
       "      <td>[[Scratch]]</td>\n",
       "      <td>(26, 28)</td>\n",
       "      <td>6</td>\n",
       "      <td>0</td>\n",
       "      <td>[[0, 0, 0, 0, 0, 0, 0, 0, 0, 1, 1, 1, 1, 1, 1,...</td>\n",
       "    </tr>\n",
       "    <tr>\n",
       "      <th>380526</th>\n",
       "      <td>[[0, 0, 0, 0, 0, 0, 0, 0, 0, 0, 0, 0, 0, 0, 0,...</td>\n",
       "      <td>2393.0</td>\n",
       "      <td>lot22700</td>\n",
       "      <td>[[Training]]</td>\n",
       "      <td>[[Scratch]]</td>\n",
       "      <td>(52, 59)</td>\n",
       "      <td>6</td>\n",
       "      <td>0</td>\n",
       "      <td>[[0, 0, 0, 0, 0, 0, 0, 0, 0, 0, 0, 0, 0, 0, 0,...</td>\n",
       "    </tr>\n",
       "    <tr>\n",
       "      <th>266902</th>\n",
       "      <td>[[0, 0, 0, 0, 0, 0, 0, 0, 0, 0, 0, 0, 0, 0, 0,...</td>\n",
       "      <td>4618.0</td>\n",
       "      <td>lot16514</td>\n",
       "      <td>[[Training]]</td>\n",
       "      <td>[[Scratch]]</td>\n",
       "      <td>(77, 76)</td>\n",
       "      <td>6</td>\n",
       "      <td>0</td>\n",
       "      <td>[[0, 0, 0, 0, 0, 0, 0, 0, 0, 0, 0, 0, 0, 0, 0,...</td>\n",
       "    </tr>\n",
       "    <tr>\n",
       "      <th>226587</th>\n",
       "      <td>[[0, 0, 0, 0, 0, 0, 0, 0, 0, 0, 0, 0, 0, 0, 0,...</td>\n",
       "      <td>7810.0</td>\n",
       "      <td>lot14247</td>\n",
       "      <td>[[Training]]</td>\n",
       "      <td>[[Scratch]]</td>\n",
       "      <td>(89, 112)</td>\n",
       "      <td>6</td>\n",
       "      <td>0</td>\n",
       "      <td>[[0, 0, 0, 0, 0, 0, 0, 0, 0, 0, 0, 0, 0, 0, 0,...</td>\n",
       "    </tr>\n",
       "    <tr>\n",
       "      <th>249651</th>\n",
       "      <td>[[0, 0, 0, 0, 0, 0, 0, 0, 0, 0, 0, 0, 0, 0, 0,...</td>\n",
       "      <td>1724.0</td>\n",
       "      <td>lot15537</td>\n",
       "      <td>[[Training]]</td>\n",
       "      <td>[[Scratch]]</td>\n",
       "      <td>(50, 43)</td>\n",
       "      <td>6</td>\n",
       "      <td>0</td>\n",
       "      <td>[[0, 0, 0, 0, 0, 0, 0, 0, 0, 0, 0, 0, 0, 0, 0,...</td>\n",
       "    </tr>\n",
       "  </tbody>\n",
       "</table>\n",
       "</div>"
      ],
      "text/plain": [
       "                                                 waferMap  dieSize   lotName  \\\n",
       "432643  [[0, 0, 0, 0, 0, 0, 0, 0, 0, 0, 2, 2, 2, 1, 1,...    566.0  lot26187   \n",
       "380526  [[0, 0, 0, 0, 0, 0, 0, 0, 0, 0, 0, 0, 0, 0, 0,...   2393.0  lot22700   \n",
       "266902  [[0, 0, 0, 0, 0, 0, 0, 0, 0, 0, 0, 0, 0, 0, 0,...   4618.0  lot16514   \n",
       "226587  [[0, 0, 0, 0, 0, 0, 0, 0, 0, 0, 0, 0, 0, 0, 0,...   7810.0  lot14247   \n",
       "249651  [[0, 0, 0, 0, 0, 0, 0, 0, 0, 0, 0, 0, 0, 0, 0,...   1724.0  lot15537   \n",
       "\n",
       "       trianTestLabel  failureType waferMapDim failureNum trainTestNum  \\\n",
       "432643   [[Training]]  [[Scratch]]    (26, 28)          6            0   \n",
       "380526   [[Training]]  [[Scratch]]    (52, 59)          6            0   \n",
       "266902   [[Training]]  [[Scratch]]    (77, 76)          6            0   \n",
       "226587   [[Training]]  [[Scratch]]   (89, 112)          6            0   \n",
       "249651   [[Training]]  [[Scratch]]    (50, 43)          6            0   \n",
       "\n",
       "                                    waferMap_augmentation  \n",
       "432643  [[0, 0, 0, 0, 0, 0, 0, 0, 0, 1, 1, 1, 1, 1, 1,...  \n",
       "380526  [[0, 0, 0, 0, 0, 0, 0, 0, 0, 0, 0, 0, 0, 0, 0,...  \n",
       "266902  [[0, 0, 0, 0, 0, 0, 0, 0, 0, 0, 0, 0, 0, 0, 0,...  \n",
       "226587  [[0, 0, 0, 0, 0, 0, 0, 0, 0, 0, 0, 0, 0, 0, 0,...  \n",
       "249651  [[0, 0, 0, 0, 0, 0, 0, 0, 0, 0, 0, 0, 0, 0, 0,...  "
      ]
     },
     "execution_count": 28,
     "metadata": {},
     "output_type": "execute_result"
    }
   ],
   "source": [
    "test_wafermap.head()"
   ]
  },
  {
   "cell_type": "code",
   "execution_count": 29,
   "id": "97cc777e",
   "metadata": {
    "execution": {
     "iopub.execute_input": "2022-04-06T06:24:22.100107Z",
     "iopub.status.busy": "2022-04-06T06:24:22.100107Z",
     "iopub.status.idle": "2022-04-06T06:24:22.299452Z",
     "shell.execute_reply": "2022-04-06T06:24:22.298340Z",
     "shell.execute_reply.started": "2022-04-06T06:24:22.100107Z"
    },
    "tags": []
   },
   "outputs": [
    {
     "data": {
      "image/png": "[encoded data removed]",
      "text/plain": [
       "<Figure size 432x288 with 1 Axes>"
      ]
     },
     "metadata": {
      "needs_background": "light"
     },
     "output_type": "display_data"
    }
   ],
   "source": [
    "plt.imshow(test_wafermap.iloc[3][\"waferMap\"])\n",
    "plt.show()"
   ]
  },
  {
   "cell_type": "code",
   "execution_count": 30,
   "id": "9cfd9969",
   "metadata": {
    "execution": {
     "iopub.execute_input": "2022-04-06T06:24:22.300466Z",
     "iopub.status.busy": "2022-04-06T06:24:22.300466Z",
     "iopub.status.idle": "2022-04-06T06:24:22.390536Z",
     "shell.execute_reply": "2022-04-06T06:24:22.390056Z",
     "shell.execute_reply.started": "2022-04-06T06:24:22.300466Z"
    },
    "tags": []
   },
   "outputs": [
    {
     "data": {
      "image/png": "[encoded data removed]",
      "text/plain": [
       "<Figure size 432x288 with 1 Axes>"
      ]
     },
     "metadata": {
      "needs_background": "light"
     },
     "output_type": "display_data"
    }
   ],
   "source": [
    "plt.imshow(test_wafermap.iloc[3][\"waferMap_augmentation\"])\n",
    "plt.show()"
   ]
  },
  {
   "cell_type": "code",
   "execution_count": 31,
   "id": "92479af2",
   "metadata": {
    "execution": {
     "iopub.execute_input": "2022-04-06T06:24:22.391655Z",
     "iopub.status.busy": "2022-04-06T06:24:22.391655Z",
     "iopub.status.idle": "2022-04-06T06:24:22.847216Z",
     "shell.execute_reply": "2022-04-06T06:24:22.847216Z",
     "shell.execute_reply.started": "2022-04-06T06:24:22.391655Z"
    },
    "tags": []
   },
   "outputs": [
    {
     "data": {
      "text/html": [
       "<div>\n",
       "<style scoped>\n",
       "    .dataframe tbody tr th:only-of-type {\n",
       "        vertical-align: middle;\n",
       "    }\n",
       "\n",
       "    .dataframe tbody tr th {\n",
       "        vertical-align: top;\n",
       "    }\n",
       "\n",
       "    .dataframe thead th {\n",
       "        text-align: right;\n",
       "    }\n",
       "</style>\n",
       "<table border=\"1\" class=\"dataframe\">\n",
       "  <thead>\n",
       "    <tr style=\"text-align: right;\">\n",
       "      <th></th>\n",
       "      <th>waferMap</th>\n",
       "      <th>dieSize</th>\n",
       "      <th>lotName</th>\n",
       "      <th>trianTestLabel</th>\n",
       "      <th>failureType</th>\n",
       "      <th>waferMapDim</th>\n",
       "      <th>failureNum</th>\n",
       "      <th>trainTestNum</th>\n",
       "      <th>waferMap_augmentation</th>\n",
       "      <th>waferMap_augmentation_Dim</th>\n",
       "    </tr>\n",
       "  </thead>\n",
       "  <tbody>\n",
       "    <tr>\n",
       "      <th>432643</th>\n",
       "      <td>[[0, 0, 0, 0, 0, 0, 0, 0, 0, 0, 2, 2, 2, 1, 1,...</td>\n",
       "      <td>566.0</td>\n",
       "      <td>lot26187</td>\n",
       "      <td>[[Training]]</td>\n",
       "      <td>[[Scratch]]</td>\n",
       "      <td>(26, 28)</td>\n",
       "      <td>6</td>\n",
       "      <td>0</td>\n",
       "      <td>[[0, 0, 0, 0, 0, 0, 0, 0, 0, 1, 1, 1, 1, 1, 1,...</td>\n",
       "      <td>(26, 28)</td>\n",
       "    </tr>\n",
       "    <tr>\n",
       "      <th>380526</th>\n",
       "      <td>[[0, 0, 0, 0, 0, 0, 0, 0, 0, 0, 0, 0, 0, 0, 0,...</td>\n",
       "      <td>2393.0</td>\n",
       "      <td>lot22700</td>\n",
       "      <td>[[Training]]</td>\n",
       "      <td>[[Scratch]]</td>\n",
       "      <td>(52, 59)</td>\n",
       "      <td>6</td>\n",
       "      <td>0</td>\n",
       "      <td>[[0, 0, 0, 0, 0, 0, 0, 0, 0, 0, 0, 0, 0, 0, 0,...</td>\n",
       "      <td>(52, 59)</td>\n",
       "    </tr>\n",
       "    <tr>\n",
       "      <th>266902</th>\n",
       "      <td>[[0, 0, 0, 0, 0, 0, 0, 0, 0, 0, 0, 0, 0, 0, 0,...</td>\n",
       "      <td>4618.0</td>\n",
       "      <td>lot16514</td>\n",
       "      <td>[[Training]]</td>\n",
       "      <td>[[Scratch]]</td>\n",
       "      <td>(77, 76)</td>\n",
       "      <td>6</td>\n",
       "      <td>0</td>\n",
       "      <td>[[0, 0, 0, 0, 0, 0, 0, 0, 0, 0, 0, 0, 0, 0, 0,...</td>\n",
       "      <td>(77, 76)</td>\n",
       "    </tr>\n",
       "    <tr>\n",
       "      <th>226587</th>\n",
       "      <td>[[0, 0, 0, 0, 0, 0, 0, 0, 0, 0, 0, 0, 0, 0, 0,...</td>\n",
       "      <td>7810.0</td>\n",
       "      <td>lot14247</td>\n",
       "      <td>[[Training]]</td>\n",
       "      <td>[[Scratch]]</td>\n",
       "      <td>(89, 112)</td>\n",
       "      <td>6</td>\n",
       "      <td>0</td>\n",
       "      <td>[[0, 0, 0, 0, 0, 0, 0, 0, 0, 0, 0, 0, 0, 0, 0,...</td>\n",
       "      <td>(89, 112)</td>\n",
       "    </tr>\n",
       "    <tr>\n",
       "      <th>249651</th>\n",
       "      <td>[[0, 0, 0, 0, 0, 0, 0, 0, 0, 0, 0, 0, 0, 0, 0,...</td>\n",
       "      <td>1724.0</td>\n",
       "      <td>lot15537</td>\n",
       "      <td>[[Training]]</td>\n",
       "      <td>[[Scratch]]</td>\n",
       "      <td>(50, 43)</td>\n",
       "      <td>6</td>\n",
       "      <td>0</td>\n",
       "      <td>[[0, 0, 0, 0, 0, 0, 0, 0, 0, 0, 0, 0, 0, 0, 0,...</td>\n",
       "      <td>(50, 43)</td>\n",
       "    </tr>\n",
       "  </tbody>\n",
       "</table>\n",
       "</div>"
      ],
      "text/plain": [
       "                                                 waferMap  dieSize   lotName  \\\n",
       "432643  [[0, 0, 0, 0, 0, 0, 0, 0, 0, 0, 2, 2, 2, 1, 1,...    566.0  lot26187   \n",
       "380526  [[0, 0, 0, 0, 0, 0, 0, 0, 0, 0, 0, 0, 0, 0, 0,...   2393.0  lot22700   \n",
       "266902  [[0, 0, 0, 0, 0, 0, 0, 0, 0, 0, 0, 0, 0, 0, 0,...   4618.0  lot16514   \n",
       "226587  [[0, 0, 0, 0, 0, 0, 0, 0, 0, 0, 0, 0, 0, 0, 0,...   7810.0  lot14247   \n",
       "249651  [[0, 0, 0, 0, 0, 0, 0, 0, 0, 0, 0, 0, 0, 0, 0,...   1724.0  lot15537   \n",
       "\n",
       "       trianTestLabel  failureType waferMapDim failureNum trainTestNum  \\\n",
       "432643   [[Training]]  [[Scratch]]    (26, 28)          6            0   \n",
       "380526   [[Training]]  [[Scratch]]    (52, 59)          6            0   \n",
       "266902   [[Training]]  [[Scratch]]    (77, 76)          6            0   \n",
       "226587   [[Training]]  [[Scratch]]   (89, 112)          6            0   \n",
       "249651   [[Training]]  [[Scratch]]    (50, 43)          6            0   \n",
       "\n",
       "                                    waferMap_augmentation  \\\n",
       "432643  [[0, 0, 0, 0, 0, 0, 0, 0, 0, 1, 1, 1, 1, 1, 1,...   \n",
       "380526  [[0, 0, 0, 0, 0, 0, 0, 0, 0, 0, 0, 0, 0, 0, 0,...   \n",
       "266902  [[0, 0, 0, 0, 0, 0, 0, 0, 0, 0, 0, 0, 0, 0, 0,...   \n",
       "226587  [[0, 0, 0, 0, 0, 0, 0, 0, 0, 0, 0, 0, 0, 0, 0,...   \n",
       "249651  [[0, 0, 0, 0, 0, 0, 0, 0, 0, 0, 0, 0, 0, 0, 0,...   \n",
       "\n",
       "       waferMap_augmentation_Dim  \n",
       "432643                  (26, 28)  \n",
       "380526                  (52, 59)  \n",
       "266902                  (77, 76)  \n",
       "226587                 (89, 112)  \n",
       "249651                  (50, 43)  "
      ]
     },
     "execution_count": 31,
     "metadata": {},
     "output_type": "execute_result"
    }
   ],
   "source": [
    "# augmentated data dim\n",
    "test_wafermap['waferMap_augmentation_Dim']=test_wafermap['waferMap_augmentation'].apply(find_dim)\n",
    "test_wafermap.head()"
   ]
  },
  {
   "cell_type": "markdown",
   "id": "1adb1157",
   "metadata": {},
   "source": [
    "### Input size에 맞게 zero-padding\n",
    "- 참고 : https://webnautes.tistory.com/1652"
   ]
  },
  {
   "cell_type": "code",
   "execution_count": 43,
   "id": "8e9c31d7",
   "metadata": {
    "execution": {
     "iopub.execute_input": "2022-04-06T06:39:26.864229Z",
     "iopub.status.busy": "2022-04-06T06:39:26.863632Z",
     "iopub.status.idle": "2022-04-06T06:39:26.877261Z",
     "shell.execute_reply": "2022-04-06T06:39:26.876269Z",
     "shell.execute_reply.started": "2022-04-06T06:39:26.864229Z"
    },
    "tags": []
   },
   "outputs": [],
   "source": [
    "def zero_padding(data_img, set_size):\n",
    "    height, width = data_img.shape\n",
    "    \n",
    "    if max(height, width) > set_size:\n",
    "        return data_img\n",
    "    \n",
    "    delta_width = set_size - width\n",
    "    delta_height = set_size - height\n",
    "    top, bottom = delta_height//2, delta_height-(delta_height//2)\n",
    "    left, right = delta_width//2, delta_width-(delta_width//2)\n",
    "    \n",
    "    padded_img = cv2.copyMakeBorder(data_img, top, bottom, left, right, cv2.BORDER_CONSTANT, value=[0,0,0])\n",
    "    return padded_img"
   ]
  },
  {
   "cell_type": "code",
   "execution_count": 45,
   "id": "acbc69be",
   "metadata": {
    "execution": {
     "iopub.execute_input": "2022-04-06T06:40:29.130064Z",
     "iopub.status.busy": "2022-04-06T06:40:29.130064Z",
     "iopub.status.idle": "2022-04-06T06:40:29.247450Z",
     "shell.execute_reply": "2022-04-06T06:40:29.246950Z",
     "shell.execute_reply.started": "2022-04-06T06:40:29.130064Z"
    },
    "tags": []
   },
   "outputs": [
    {
     "data": {
      "image/png": "[encoded data removed]",
      "text/plain": [
       "<Figure size 432x288 with 1 Axes>"
      ]
     },
     "metadata": {
      "needs_background": "light"
     },
     "output_type": "display_data"
    }
   ],
   "source": [
    "plt.imshow(test_wafermap.iloc[3][\"waferMap\"])\n",
    "plt.show()"
   ]
  },
  {
   "cell_type": "code",
   "execution_count": 44,
   "id": "b13a5a4e",
   "metadata": {
    "execution": {
     "iopub.execute_input": "2022-04-06T06:40:25.531572Z",
     "iopub.status.busy": "2022-04-06T06:40:25.530647Z",
     "iopub.status.idle": "2022-04-06T06:40:25.553954Z",
     "shell.execute_reply": "2022-04-06T06:40:25.553292Z",
     "shell.execute_reply.started": "2022-04-06T06:40:25.531572Z"
    },
    "tags": []
   },
   "outputs": [
    {
     "data": {
      "text/plain": [
       "(224, 224)"
      ]
     },
     "execution_count": 44,
     "metadata": {},
     "output_type": "execute_result"
    }
   ],
   "source": [
    "pad_test = zero_padding(test_wafermap.iloc[3][\"waferMap\"], 224)\n",
    "pad_test.shape"
   ]
  },
  {
   "cell_type": "code",
   "execution_count": 46,
   "id": "eaaaac6b",
   "metadata": {
    "execution": {
     "iopub.execute_input": "2022-04-06T06:40:45.184087Z",
     "iopub.status.busy": "2022-04-06T06:40:45.184087Z",
     "iopub.status.idle": "2022-04-06T06:40:45.294032Z",
     "shell.execute_reply": "2022-04-06T06:40:45.293240Z",
     "shell.execute_reply.started": "2022-04-06T06:40:45.184087Z"
    },
    "tags": []
   },
   "outputs": [
    {
     "data": {
      "image/png": "[encoded data removed]",
      "text/plain": [
       "<Figure size 432x288 with 1 Axes>"
      ]
     },
     "metadata": {
      "needs_background": "light"
     },
     "output_type": "display_data"
    }
   ],
   "source": [
    "plt.imshow(pad_test)\n",
    "plt.show()"
   ]
  },
  {
   "cell_type": "code",
   "execution_count": null,
   "id": "40e51883",
   "metadata": {},
   "outputs": [],
   "source": [
    "# padding 먼저가 나은지 augmentation 먼저가 나은지 테스트"
   ]
  },
  {
   "cell_type": "markdown",
   "id": "a8f560e7",
   "metadata": {},
   "source": [
    "### wm811k_new_train_class_XXX 만들어서 concat하기\n",
    "- CNN-WDI input shape 244x244에 맞게 zero-padding 줘야함"
   ]
  },
  {
   "cell_type": "code",
   "execution_count": 32,
   "id": "703fd816",
   "metadata": {
    "execution": {
     "iopub.execute_input": "2022-04-06T06:24:22.848536Z",
     "iopub.status.busy": "2022-04-06T06:24:22.848536Z",
     "iopub.status.idle": "2022-04-06T06:24:22.878271Z",
     "shell.execute_reply": "2022-04-06T06:24:22.877271Z",
     "shell.execute_reply.started": "2022-04-06T06:24:22.848536Z"
    },
    "tags": []
   },
   "outputs": [],
   "source": [
    "# None type class 10,000개 sampling\n",
    "# 참고 : https://rfriend.tistory.com/602\n",
    "wm811k_new_train_class_none = wm811k_train.query(\"failureNum == 8\").sample(n=10000, random_state=2022)"
   ]
  },
  {
   "cell_type": "code",
   "execution_count": 33,
   "id": "10180de6",
   "metadata": {
    "execution": {
     "iopub.execute_input": "2022-04-06T06:24:22.879155Z",
     "iopub.status.busy": "2022-04-06T06:24:22.879155Z",
     "iopub.status.idle": "2022-04-06T06:24:22.909457Z",
     "shell.execute_reply": "2022-04-06T06:24:22.908494Z",
     "shell.execute_reply.started": "2022-04-06T06:24:22.879155Z"
    },
    "tags": []
   },
   "outputs": [
    {
     "name": "stdout",
     "output_type": "stream",
     "text": [
      "<class 'pandas.core.frame.DataFrame'>\n",
      "Int64Index: 10000 entries, 749336 to 244652\n",
      "Data columns (total 8 columns):\n",
      " #   Column          Non-Null Count  Dtype  \n",
      "---  ------          --------------  -----  \n",
      " 0   waferMap        10000 non-null  object \n",
      " 1   dieSize         10000 non-null  float64\n",
      " 2   lotName         10000 non-null  object \n",
      " 3   trianTestLabel  10000 non-null  object \n",
      " 4   failureType     10000 non-null  object \n",
      " 5   waferMapDim     10000 non-null  object \n",
      " 6   failureNum      10000 non-null  object \n",
      " 7   trainTestNum    10000 non-null  object \n",
      "dtypes: float64(1), object(7)\n",
      "memory usage: 703.1+ KB\n"
     ]
    }
   ],
   "source": [
    "wm811k_new_train_class_none.info()"
   ]
  },
  {
   "cell_type": "code",
   "execution_count": 34,
   "id": "ea43d09f",
   "metadata": {
    "execution": {
     "iopub.execute_input": "2022-04-06T06:24:22.909672Z",
     "iopub.status.busy": "2022-04-06T06:24:22.909672Z",
     "iopub.status.idle": "2022-04-06T06:24:22.924790Z",
     "shell.execute_reply": "2022-04-06T06:24:22.923789Z",
     "shell.execute_reply.started": "2022-04-06T06:24:22.909672Z"
    },
    "tags": []
   },
   "outputs": [],
   "source": [
    "# Edge-Ring(3) 현 보유 8,554개 / 1,446개 augmentation 필요\n",
    "# +10도 회전 : 10% - 144개\n",
    "# -10도 회전 : 10% - 144개\n",
    "# 좌우 대칭 : 20%  - 288개\n",
    "# 너비 이동 : 20% - 288개\n",
    "# 높이 이동: 20% - 288개\n",
    "# 전단 범위(shearing range) : 10% - 144개\n",
    "# 확대 : 10% - 150개"
   ]
  },
  {
   "cell_type": "code",
   "execution_count": null,
   "id": "37e65357",
   "metadata": {},
   "outputs": [],
   "source": []
  },
  {
   "cell_type": "code",
   "execution_count": 35,
   "id": "5e660ed7",
   "metadata": {
    "execution": {
     "iopub.execute_input": "2022-04-06T06:24:22.925990Z",
     "iopub.status.busy": "2022-04-06T06:24:22.925990Z",
     "iopub.status.idle": "2022-04-06T06:24:22.939799Z",
     "shell.execute_reply": "2022-04-06T06:24:22.939299Z",
     "shell.execute_reply.started": "2022-04-06T06:24:22.925990Z"
    }
   },
   "outputs": [],
   "source": [
    "# Center(0) 현 보유 3,462개 / 6,538개 augmentation 필요\n",
    "# +10도 회전 : 10% - 654개\n",
    "# -10도 회전 : 10% - 654개\n",
    "# 좌우 대칭 : 20%  - 1308개\n",
    "# 너비 이동 : 20%  - 1308개\n",
    "# 높이 이동: 20%   - 1308개\n",
    "# 전단 범위(shearing range) : 10% - 652개\n",
    "# 확대 : 10% - 654개"
   ]
  },
  {
   "cell_type": "code",
   "execution_count": null,
   "id": "bc56e0b3",
   "metadata": {},
   "outputs": [],
   "source": []
  },
  {
   "cell_type": "code",
   "execution_count": 36,
   "id": "169f67f9",
   "metadata": {
    "execution": {
     "iopub.execute_input": "2022-04-06T06:24:22.940810Z",
     "iopub.status.busy": "2022-04-06T06:24:22.940810Z",
     "iopub.status.idle": "2022-04-06T06:24:22.955151Z",
     "shell.execute_reply": "2022-04-06T06:24:22.954624Z",
     "shell.execute_reply.started": "2022-04-06T06:24:22.940810Z"
    }
   },
   "outputs": [],
   "source": [
    "# Edge-Loc(2) 현 보유 2,417개 / 7,583개 augmentation 필요\n",
    "# +10도 회전 : 10% - 758개\n",
    "# -10도 회전 : 10% - 758개\n",
    "# 좌우 대칭 : 20% - 1517개\n",
    "# 너비 이동 : 20% - 1517개\n",
    "# 높이 이동: 20%  - 1517개\n",
    "# 전단 범위(shearing range) : 10% - 758개\n",
    "# 확대 : 10% - 758개"
   ]
  },
  {
   "cell_type": "code",
   "execution_count": null,
   "id": "e062aaa5",
   "metadata": {},
   "outputs": [],
   "source": []
  },
  {
   "cell_type": "code",
   "execution_count": 37,
   "id": "c8bcb06e",
   "metadata": {
    "execution": {
     "iopub.execute_input": "2022-04-06T06:24:22.955653Z",
     "iopub.status.busy": "2022-04-06T06:24:22.955653Z",
     "iopub.status.idle": "2022-04-06T06:24:22.971961Z",
     "shell.execute_reply": "2022-04-06T06:24:22.970431Z",
     "shell.execute_reply.started": "2022-04-06T06:24:22.955653Z"
    }
   },
   "outputs": [],
   "source": [
    "# Loc(4) 현 보유 1,620개 / 8,380개 augmentation 필요\n",
    "# +10도 회전 : 10% - 838개\n",
    "# -10도 회전 : 10% - 838개\n",
    "# 좌우 대칭 : 20%  - \"1676개\"\n",
    "# 너비 이동 : 20%  - \"1676개\"\n",
    "# 높이 이동: 20%   - \"1676개\"\n",
    "# 전단 범위(shearing range) : 10% - 838개\n",
    "# 확대 : 10% - 838개"
   ]
  },
  {
   "cell_type": "code",
   "execution_count": null,
   "id": "96fae36d",
   "metadata": {},
   "outputs": [],
   "source": []
  },
  {
   "cell_type": "code",
   "execution_count": 38,
   "id": "39cd321d",
   "metadata": {
    "execution": {
     "iopub.execute_input": "2022-04-06T06:24:22.972961Z",
     "iopub.status.busy": "2022-04-06T06:24:22.972961Z",
     "iopub.status.idle": "2022-04-06T06:24:22.987305Z",
     "shell.execute_reply": "2022-04-06T06:24:22.986627Z",
     "shell.execute_reply.started": "2022-04-06T06:24:22.972961Z"
    }
   },
   "outputs": [],
   "source": [
    "# Random(5) 현 보유 609개 / 9,391개 augmentation 필요\n",
    "# +10도 회전 : 10%\n",
    "# -10도 회전 : 10%\n",
    "# 좌우 대칭 : 20% \n",
    "# 너비 이동 : 20%\n",
    "# 높이 이동: 20%\n",
    "# 전단 범위(shearing range) : 10%\n",
    "# 확대 : 10%"
   ]
  },
  {
   "cell_type": "code",
   "execution_count": null,
   "id": "81a8e7fe",
   "metadata": {},
   "outputs": [],
   "source": []
  },
  {
   "cell_type": "code",
   "execution_count": 39,
   "id": "e82c2cd8",
   "metadata": {
    "execution": {
     "iopub.execute_input": "2022-04-06T06:24:22.991358Z",
     "iopub.status.busy": "2022-04-06T06:24:22.991358Z",
     "iopub.status.idle": "2022-04-06T06:24:23.001923Z",
     "shell.execute_reply": "2022-04-06T06:24:23.001420Z",
     "shell.execute_reply.started": "2022-04-06T06:24:22.991358Z"
    }
   },
   "outputs": [],
   "source": [
    "# Scratch(6) 현 보유 500개 / 9,500개 augmentation 필요\n",
    "# +10도 회전 : 10%\n",
    "# -10도 회전 : 10%\n",
    "# 좌우 대칭 : 20% \n",
    "# 너비 이동 : 20%\n",
    "# 높이 이동: 20%\n",
    "# 전단 범위(shearing range) : 10%\n",
    "# 확대 : 10%"
   ]
  },
  {
   "cell_type": "code",
   "execution_count": null,
   "id": "3e856966",
   "metadata": {},
   "outputs": [],
   "source": []
  },
  {
   "cell_type": "code",
   "execution_count": 40,
   "id": "8cdbbb19",
   "metadata": {
    "execution": {
     "iopub.execute_input": "2022-04-06T06:24:23.004343Z",
     "iopub.status.busy": "2022-04-06T06:24:23.004343Z",
     "iopub.status.idle": "2022-04-06T06:24:23.017143Z",
     "shell.execute_reply": "2022-04-06T06:24:23.016642Z",
     "shell.execute_reply.started": "2022-04-06T06:24:23.004343Z"
    }
   },
   "outputs": [],
   "source": [
    "# Donut(1) 현 보유 409개 / 9,591개 augmentation 필요\n",
    "# +10도 회전 : 10%\n",
    "# -10도 회전 : 10%\n",
    "# 좌우 대칭 : 20% \n",
    "# 너비 이동 : 20%\n",
    "# 높이 이동: 20%\n",
    "# 전단 범위(shearing range) : 10%\n",
    "# 확대 : 10%"
   ]
  },
  {
   "cell_type": "code",
   "execution_count": null,
   "id": "70e62ebe",
   "metadata": {},
   "outputs": [],
   "source": []
  },
  {
   "cell_type": "code",
   "execution_count": 41,
   "id": "9f84710f",
   "metadata": {
    "execution": {
     "iopub.execute_input": "2022-04-06T06:24:23.018824Z",
     "iopub.status.busy": "2022-04-06T06:24:23.018324Z",
     "iopub.status.idle": "2022-04-06T06:24:23.056144Z",
     "shell.execute_reply": "2022-04-06T06:24:23.055144Z",
     "shell.execute_reply.started": "2022-04-06T06:24:23.018824Z"
    }
   },
   "outputs": [],
   "source": [
    "# Near-full(7) 현 보유 54개 / 9,946개 augmentation 필요\n",
    "# +10도 회전 : 10%\n",
    "# -10도 회전 : 10%\n",
    "# 좌우 대칭 : 20% \n",
    "# 너비 이동 : 20%\n",
    "# 높이 이동: 20%\n",
    "# 전단 범위(shearing range) : 10%\n",
    "# 확대 : 10%"
   ]
  },
  {
   "cell_type": "code",
   "execution_count": null,
   "id": "55d10df4",
   "metadata": {},
   "outputs": [],
   "source": []
  },
  {
   "cell_type": "markdown",
   "id": "e934d424",
   "metadata": {},
   "source": [
    "- augmentation 데이터 파일 저장\n",
    "    - pkl 파일 저장 참고 : https://seing.tistory.com/95"
   ]
  },
  {
   "cell_type": "markdown",
   "id": "eeb02b26",
   "metadata": {},
   "source": [
    "## CNN-WDI Modeling"
   ]
  },
  {
   "cell_type": "code",
   "execution_count": 63,
   "id": "db73bef0",
   "metadata": {
    "execution": {
     "iopub.execute_input": "2022-04-06T07:50:18.673336Z",
     "iopub.status.busy": "2022-04-06T07:50:18.673094Z",
     "iopub.status.idle": "2022-04-06T07:50:18.681434Z",
     "shell.execute_reply": "2022-04-06T07:50:18.680936Z",
     "shell.execute_reply.started": "2022-04-06T07:50:18.673336Z"
    },
    "tags": []
   },
   "outputs": [],
   "source": [
    "from tensorflow.keras import layers\n",
    "from tensorflow.keras import optimizers\n",
    "from tensorflow.keras.models import Model\n",
    "from tensorflow.keras.callbacks import ModelCheckpoint"
   ]
  },
  {
   "cell_type": "code",
   "execution_count": 61,
   "id": "63740bfa",
   "metadata": {
    "execution": {
     "iopub.execute_input": "2022-04-06T07:20:10.936736Z",
     "iopub.status.busy": "2022-04-06T07:20:10.936736Z",
     "iopub.status.idle": "2022-04-06T07:20:11.107125Z",
     "shell.execute_reply": "2022-04-06T07:20:11.107125Z",
     "shell.execute_reply.started": "2022-04-06T07:20:10.936736Z"
    },
    "tags": []
   },
   "outputs": [],
   "source": [
    "# CNN-WDI model\n",
    "# layer별 padding option check ~ valid, same\n",
    "input_shape = (224,224,1) # 학습 data shape 확인\n",
    "class_num = 9\n",
    "KERNEL_SIZE = 3\n",
    "\n",
    "input_layer = layers.Input(shape=input_shape) # Input 224x224\n",
    "x = layers.Conv2D(16, kernel_size=KERNEL_SIZE, padding='valid')(input_layer) # 16, 3x3\n",
    "x = layers.Activation(activation='relu')(x) # ReLU\n",
    "x = layers.BatchNormalization()(x) # BatchNormalization\n",
    "x = layers.MaxPool2D(pool_size=(2,2))(x) # Max-pooling\n",
    "x = layers.Conv2D(16, kernel_size=KERNEL_SIZE, padding='same')(x) # 16, 3x3\n",
    "x = layers.Activation(activation='relu')(x) # ReLU\n",
    "x = layers.BatchNormalization()(x) # BatchNormalization\n",
    "\n",
    "x = layers.Conv2D(32, kernel_size=KERNEL_SIZE, padding='same')(x) # 32, 3x3\n",
    "x = layers.Activation(activation='relu')(x) # ReLU\n",
    "x = layers.BatchNormalization()(x) # BatchNormalization\n",
    "x = layers.MaxPool2D(pool_size=(2,2))(x) # Max-pooling\n",
    "x = layers.Conv2D(32, kernel_size=KERNEL_SIZE, padding='same')(x) # 32, 3x3\n",
    "x = layers.Activation(activation='relu')(x) # ReLU\n",
    "x = layers.BatchNormalization()(x) # BatchNormalization\n",
    "\n",
    "x = layers.Conv2D(64, kernel_size=KERNEL_SIZE, padding='same')(x) # 64, 3x3\n",
    "x = layers.Activation(activation='relu')(x) # ReLU\n",
    "x = layers.BatchNormalization()(x) # BatchNormalization\n",
    "x = layers.MaxPool2D(pool_size=(2,2))(x) # Max-pooling\n",
    "x = layers.Conv2D(64, kernel_size=KERNEL_SIZE, padding='same')(x) # 64, 3x3\n",
    "x = layers.Activation(activation='relu')(x) # ReLU\n",
    "x = layers.BatchNormalization()(x) # BatchNormalization\n",
    "\n",
    "x = layers.Conv2D(128, kernel_size=KERNEL_SIZE, padding='same')(x) # 128, 3x3\n",
    "x = layers.Activation(activation='relu')(x) # ReLU\n",
    "x = layers.BatchNormalization()(x) # BatchNormalization\n",
    "x = layers.MaxPool2D(pool_size=(2,2))(x) # Max-pooling\n",
    "x = layers.Conv2D(128, kernel_size=KERNEL_SIZE, padding='same')(x) # 128, 3x3\n",
    "x = layers.Activation(activation='relu')(x) # ReLU\n",
    "x = layers.BatchNormalization()(x) # BatchNormalization\n",
    "\n",
    "x = layers.SpatialDropout2D(0.2)(x) # Spartial Dropout 0.2\n",
    "x = layers.MaxPool2D(pool_size=(2,2))(x) # Max-pooling\n",
    "x = layers.Flatten()(x) # 4608 확인\n",
    "x = layers.Dense(512, activation='relu')(x)\n",
    "output_layer = layers.Dense(class_num, activation='softmax')(x)\n",
    "\n",
    "CNN_WDI = Model(input_layer, output_layer)"
   ]
  },
  {
   "cell_type": "code",
   "execution_count": 62,
   "id": "d45d0a5f",
   "metadata": {
    "execution": {
     "iopub.execute_input": "2022-04-06T07:20:11.890255Z",
     "iopub.status.busy": "2022-04-06T07:20:11.890255Z",
     "iopub.status.idle": "2022-04-06T07:20:11.904792Z",
     "shell.execute_reply": "2022-04-06T07:20:11.904292Z",
     "shell.execute_reply.started": "2022-04-06T07:20:11.890255Z"
    },
    "tags": []
   },
   "outputs": [
    {
     "name": "stdout",
     "output_type": "stream",
     "text": [
      "Model: \"model_5\"\n",
      "_________________________________________________________________\n",
      "Layer (type)                 Output Shape              Param #   \n",
      "=================================================================\n",
      "input_9 (InputLayer)         [(None, 224, 224, 1)]     0         \n",
      "_________________________________________________________________\n",
      "conv2d_45 (Conv2D)           (None, 222, 222, 16)      160       \n",
      "_________________________________________________________________\n",
      "activation_42 (Activation)   (None, 222, 222, 16)      0         \n",
      "_________________________________________________________________\n",
      "batch_normalization_42 (Batc (None, 222, 222, 16)      64        \n",
      "_________________________________________________________________\n",
      "max_pooling2d_27 (MaxPooling (None, 111, 111, 16)      0         \n",
      "_________________________________________________________________\n",
      "conv2d_46 (Conv2D)           (None, 111, 111, 16)      2320      \n",
      "_________________________________________________________________\n",
      "activation_43 (Activation)   (None, 111, 111, 16)      0         \n",
      "_________________________________________________________________\n",
      "batch_normalization_43 (Batc (None, 111, 111, 16)      64        \n",
      "_________________________________________________________________\n",
      "conv2d_47 (Conv2D)           (None, 111, 111, 32)      4640      \n",
      "_________________________________________________________________\n",
      "activation_44 (Activation)   (None, 111, 111, 32)      0         \n",
      "_________________________________________________________________\n",
      "batch_normalization_44 (Batc (None, 111, 111, 32)      128       \n",
      "_________________________________________________________________\n",
      "max_pooling2d_28 (MaxPooling (None, 55, 55, 32)        0         \n",
      "_________________________________________________________________\n",
      "conv2d_48 (Conv2D)           (None, 55, 55, 32)        9248      \n",
      "_________________________________________________________________\n",
      "activation_45 (Activation)   (None, 55, 55, 32)        0         \n",
      "_________________________________________________________________\n",
      "batch_normalization_45 (Batc (None, 55, 55, 32)        128       \n",
      "_________________________________________________________________\n",
      "conv2d_49 (Conv2D)           (None, 55, 55, 64)        18496     \n",
      "_________________________________________________________________\n",
      "activation_46 (Activation)   (None, 55, 55, 64)        0         \n",
      "_________________________________________________________________\n",
      "batch_normalization_46 (Batc (None, 55, 55, 64)        256       \n",
      "_________________________________________________________________\n",
      "max_pooling2d_29 (MaxPooling (None, 27, 27, 64)        0         \n",
      "_________________________________________________________________\n",
      "conv2d_50 (Conv2D)           (None, 27, 27, 64)        36928     \n",
      "_________________________________________________________________\n",
      "activation_47 (Activation)   (None, 27, 27, 64)        0         \n",
      "_________________________________________________________________\n",
      "batch_normalization_47 (Batc (None, 27, 27, 64)        256       \n",
      "_________________________________________________________________\n",
      "conv2d_51 (Conv2D)           (None, 27, 27, 128)       73856     \n",
      "_________________________________________________________________\n",
      "activation_48 (Activation)   (None, 27, 27, 128)       0         \n",
      "_________________________________________________________________\n",
      "batch_normalization_48 (Batc (None, 27, 27, 128)       512       \n",
      "_________________________________________________________________\n",
      "max_pooling2d_30 (MaxPooling (None, 13, 13, 128)       0         \n",
      "_________________________________________________________________\n",
      "conv2d_52 (Conv2D)           (None, 13, 13, 128)       147584    \n",
      "_________________________________________________________________\n",
      "activation_49 (Activation)   (None, 13, 13, 128)       0         \n",
      "_________________________________________________________________\n",
      "batch_normalization_49 (Batc (None, 13, 13, 128)       512       \n",
      "_________________________________________________________________\n",
      "spatial_dropout2d_5 (Spatial (None, 13, 13, 128)       0         \n",
      "_________________________________________________________________\n",
      "max_pooling2d_31 (MaxPooling (None, 6, 6, 128)         0         \n",
      "_________________________________________________________________\n",
      "flatten_5 (Flatten)          (None, 4608)              0         \n",
      "_________________________________________________________________\n",
      "dense_10 (Dense)             (None, 512)               2359808   \n",
      "_________________________________________________________________\n",
      "dense_11 (Dense)             (None, 9)                 4617      \n",
      "=================================================================\n",
      "Total params: 2,659,577\n",
      "Trainable params: 2,658,617\n",
      "Non-trainable params: 960\n",
      "_________________________________________________________________\n"
     ]
    }
   ],
   "source": [
    "CNN_WDI.summary()"
   ]
  },
  {
   "cell_type": "code",
   "execution_count": null,
   "id": "168e45ac",
   "metadata": {},
   "outputs": [],
   "source": [
    "# learning_rate 설정 ~ compile? fit?\n",
    "# X, y 설정\n",
    "# loss_function, metrics 설정 확인\n",
    "# checkpointer patience 값 확인\n",
    "\n",
    "# train / validation / test set 설정\n",
    "# X_train, X_valid = train_test_split(df, test_size=TEST_SIZE, random_state=2021)\n",
    "\n",
    "# model 설정\n",
    "LEARNING_RATE = 0.001\n",
    "BATCH_SIZE = 100\n",
    "EPOCH = 20  # 논문 그래프에 20 epoch 까지 있음\n",
    "\n",
    "CNN_WDI.compile(loss='categorical_crossentropy', optimizer=optimizers.Adam(LEARNING_RATE), metrics=['categorical_crossentropy'], learning_rate = LEARNING_RATE)\n",
    "checkpointer = ModelCheckpoint(filepath=\"{0}.h5\".format(model_id), verbose=1, save_best_only=True)\n",
    "\n",
    "# 학습 실행\n",
    "hist = CNN_WDI.fit(X_train, X_test, epochs=EPOCH, batch_size=BATCH_SIZE, shuffle=True,\n",
    "                   validation_data=(X_valid, X_valid), callbacks=[checkpointer])"
   ]
  }
 ],
 "metadata": {
  "kernelspec": {
   "display_name": "Python 3 (ipykernel)",
   "language": "python",
   "name": "python3"
  },
  "language_info": {
   "codemirror_mode": {
    "name": "ipython",
    "version": 3
   },
   "file_extension": ".py",
   "mimetype": "text/x-python",
   "name": "python",
   "nbconvert_exporter": "python",
   "pygments_lexer": "ipython3",
   "version": "3.7.9"
  }
 },
 "nbformat": 4,
 "nbformat_minor": 5
}
