{
 "cells": [
  {
   "cell_type": "markdown",
   "id": "03613083",
   "metadata": {},
   "source": [
    "## 불균형 데이터셋에 대한 웨이퍼 불량식별을 위한 CNN\n",
    "### 키워드\n",
    "- 데이터 전처리\n",
    "    - Data Augmentaion\n",
    "    - 불량 클래스\n",
    "        - Center\n",
    "        - Donut\n",
    "        - Local\n",
    "        - Edge-Loc\n",
    "        - Edge-Ring\n",
    "        - Scratch\n",
    "        - Random\n",
    "        - Near-Full\n",
    "        - None\n",
    "- 모델 구성\n",
    "    - Batch Normalization\n",
    "    - Spatical Dropout\n",
    "    - Regularization"
   ]
  },
  {
   "cell_type": "markdown",
   "id": "1183df65",
   "metadata": {},
   "source": [
    "### 데이터 확인사항\n",
    "- waferMap 사이즈를 확인하여 추후 개발할 신경망 모델의 224x224 사이즈에 맞게 resizing 작업이 필요할 것으로 예상됨\n",
    "- augmentaion 작업과 resizing 작업이 한 번에 해결될 수 있도록 전처리하는 것이 좋을 듯"
   ]
  },
  {
   "cell_type": "code",
   "execution_count": 1,
   "id": "9dc2995e",
   "metadata": {
    "execution": {
     "iopub.execute_input": "2022-04-06T23:43:28.883294Z",
     "iopub.status.busy": "2022-04-06T23:43:28.882792Z",
     "iopub.status.idle": "2022-04-06T23:43:30.017895Z",
     "shell.execute_reply": "2022-04-06T23:43:30.017394Z",
     "shell.execute_reply.started": "2022-04-06T23:43:28.883294Z"
    },
    "tags": []
   },
   "outputs": [],
   "source": [
    "import numpy as np\n",
    "import pandas as pd\n",
    "import cv2\n",
    "import matplotlib.pyplot as plt"
   ]
  },
  {
   "cell_type": "code",
   "execution_count": 2,
   "id": "8ed6a465",
   "metadata": {
    "execution": {
     "iopub.execute_input": "2022-04-06T23:43:30.018924Z",
     "iopub.status.busy": "2022-04-06T23:43:30.018924Z",
     "iopub.status.idle": "2022-04-06T23:44:20.040337Z",
     "shell.execute_reply": "2022-04-06T23:44:20.039944Z",
     "shell.execute_reply.started": "2022-04-06T23:43:30.018924Z"
    },
    "tags": []
   },
   "outputs": [],
   "source": [
    "wm811k = pd.read_pickle('./data/LSWMD.pkl')"
   ]
  },
  {
   "cell_type": "code",
   "execution_count": 3,
   "id": "04834333",
   "metadata": {
    "execution": {
     "iopub.execute_input": "2022-04-06T23:44:20.043785Z",
     "iopub.status.busy": "2022-04-06T23:44:20.043387Z",
     "iopub.status.idle": "2022-04-06T23:44:20.253371Z",
     "shell.execute_reply": "2022-04-06T23:44:20.252372Z",
     "shell.execute_reply.started": "2022-04-06T23:44:20.043785Z"
    },
    "tags": []
   },
   "outputs": [
    {
     "data": {
      "text/html": [
       "<div>\n",
       "<style scoped>\n",
       "    .dataframe tbody tr th:only-of-type {\n",
       "        vertical-align: middle;\n",
       "    }\n",
       "\n",
       "    .dataframe tbody tr th {\n",
       "        vertical-align: top;\n",
       "    }\n",
       "\n",
       "    .dataframe thead th {\n",
       "        text-align: right;\n",
       "    }\n",
       "</style>\n",
       "<table border=\"1\" class=\"dataframe\">\n",
       "  <thead>\n",
       "    <tr style=\"text-align: right;\">\n",
       "      <th></th>\n",
       "      <th>waferMap</th>\n",
       "      <th>dieSize</th>\n",
       "      <th>lotName</th>\n",
       "      <th>waferIndex</th>\n",
       "      <th>trianTestLabel</th>\n",
       "      <th>failureType</th>\n",
       "    </tr>\n",
       "  </thead>\n",
       "  <tbody>\n",
       "    <tr>\n",
       "      <th>0</th>\n",
       "      <td>[[0, 0, 0, 0, 0, 0, 0, 0, 0, 0, 0, 0, 0, 0, 0,...</td>\n",
       "      <td>1683.0</td>\n",
       "      <td>lot1</td>\n",
       "      <td>1.0</td>\n",
       "      <td>[[Training]]</td>\n",
       "      <td>[[none]]</td>\n",
       "    </tr>\n",
       "    <tr>\n",
       "      <th>1</th>\n",
       "      <td>[[0, 0, 0, 0, 0, 0, 0, 0, 0, 0, 0, 0, 0, 0, 0,...</td>\n",
       "      <td>1683.0</td>\n",
       "      <td>lot1</td>\n",
       "      <td>2.0</td>\n",
       "      <td>[[Training]]</td>\n",
       "      <td>[[none]]</td>\n",
       "    </tr>\n",
       "    <tr>\n",
       "      <th>2</th>\n",
       "      <td>[[0, 0, 0, 0, 0, 0, 0, 0, 0, 0, 0, 0, 0, 0, 0,...</td>\n",
       "      <td>1683.0</td>\n",
       "      <td>lot1</td>\n",
       "      <td>3.0</td>\n",
       "      <td>[[Training]]</td>\n",
       "      <td>[[none]]</td>\n",
       "    </tr>\n",
       "    <tr>\n",
       "      <th>3</th>\n",
       "      <td>[[0, 0, 0, 0, 0, 0, 0, 0, 0, 0, 0, 0, 0, 0, 0,...</td>\n",
       "      <td>1683.0</td>\n",
       "      <td>lot1</td>\n",
       "      <td>4.0</td>\n",
       "      <td>[[Training]]</td>\n",
       "      <td>[[none]]</td>\n",
       "    </tr>\n",
       "    <tr>\n",
       "      <th>4</th>\n",
       "      <td>[[0, 0, 0, 0, 0, 0, 0, 0, 0, 0, 0, 0, 0, 0, 0,...</td>\n",
       "      <td>1683.0</td>\n",
       "      <td>lot1</td>\n",
       "      <td>5.0</td>\n",
       "      <td>[[Training]]</td>\n",
       "      <td>[[none]]</td>\n",
       "    </tr>\n",
       "  </tbody>\n",
       "</table>\n",
       "</div>"
      ],
      "text/plain": [
       "                                            waferMap  dieSize lotName  \\\n",
       "0  [[0, 0, 0, 0, 0, 0, 0, 0, 0, 0, 0, 0, 0, 0, 0,...   1683.0    lot1   \n",
       "1  [[0, 0, 0, 0, 0, 0, 0, 0, 0, 0, 0, 0, 0, 0, 0,...   1683.0    lot1   \n",
       "2  [[0, 0, 0, 0, 0, 0, 0, 0, 0, 0, 0, 0, 0, 0, 0,...   1683.0    lot1   \n",
       "3  [[0, 0, 0, 0, 0, 0, 0, 0, 0, 0, 0, 0, 0, 0, 0,...   1683.0    lot1   \n",
       "4  [[0, 0, 0, 0, 0, 0, 0, 0, 0, 0, 0, 0, 0, 0, 0,...   1683.0    lot1   \n",
       "\n",
       "   waferIndex trianTestLabel failureType  \n",
       "0         1.0   [[Training]]    [[none]]  \n",
       "1         2.0   [[Training]]    [[none]]  \n",
       "2         3.0   [[Training]]    [[none]]  \n",
       "3         4.0   [[Training]]    [[none]]  \n",
       "4         5.0   [[Training]]    [[none]]  "
      ]
     },
     "execution_count": 3,
     "metadata": {},
     "output_type": "execute_result"
    }
   ],
   "source": [
    "wm811k.head()"
   ]
  },
  {
   "cell_type": "code",
   "execution_count": 4,
   "id": "ab667c22",
   "metadata": {
    "execution": {
     "iopub.execute_input": "2022-04-06T23:44:20.254921Z",
     "iopub.status.busy": "2022-04-06T23:44:20.254371Z",
     "iopub.status.idle": "2022-04-06T23:44:20.419404Z",
     "shell.execute_reply": "2022-04-06T23:44:20.419404Z",
     "shell.execute_reply.started": "2022-04-06T23:44:20.254921Z"
    },
    "tags": []
   },
   "outputs": [
    {
     "name": "stdout",
     "output_type": "stream",
     "text": [
      "<class 'pandas.core.frame.DataFrame'>\n",
      "RangeIndex: 811457 entries, 0 to 811456\n",
      "Data columns (total 6 columns):\n",
      " #   Column          Non-Null Count   Dtype  \n",
      "---  ------          --------------   -----  \n",
      " 0   waferMap        811457 non-null  object \n",
      " 1   dieSize         811457 non-null  float64\n",
      " 2   lotName         811457 non-null  object \n",
      " 3   waferIndex      811457 non-null  float64\n",
      " 4   trianTestLabel  811457 non-null  object \n",
      " 5   failureType     811457 non-null  object \n",
      "dtypes: float64(2), object(4)\n",
      "memory usage: 37.1+ MB\n"
     ]
    }
   ],
   "source": [
    "wm811k.info()"
   ]
  },
  {
   "cell_type": "code",
   "execution_count": 5,
   "id": "194bd133",
   "metadata": {
    "execution": {
     "iopub.execute_input": "2022-04-06T23:44:20.420473Z",
     "iopub.status.busy": "2022-04-06T23:44:20.420473Z",
     "iopub.status.idle": "2022-04-06T23:44:20.663383Z",
     "shell.execute_reply": "2022-04-06T23:44:20.662883Z",
     "shell.execute_reply.started": "2022-04-06T23:44:20.420473Z"
    },
    "tags": []
   },
   "outputs": [
    {
     "data": {
      "text/html": [
       "<div>\n",
       "<style scoped>\n",
       "    .dataframe tbody tr th:only-of-type {\n",
       "        vertical-align: middle;\n",
       "    }\n",
       "\n",
       "    .dataframe tbody tr th {\n",
       "        vertical-align: top;\n",
       "    }\n",
       "\n",
       "    .dataframe thead th {\n",
       "        text-align: right;\n",
       "    }\n",
       "</style>\n",
       "<table border=\"1\" class=\"dataframe\">\n",
       "  <thead>\n",
       "    <tr style=\"text-align: right;\">\n",
       "      <th></th>\n",
       "      <th>waferMap</th>\n",
       "      <th>dieSize</th>\n",
       "      <th>lotName</th>\n",
       "      <th>trianTestLabel</th>\n",
       "      <th>failureType</th>\n",
       "    </tr>\n",
       "  </thead>\n",
       "  <tbody>\n",
       "    <tr>\n",
       "      <th>0</th>\n",
       "      <td>[[0, 0, 0, 0, 0, 0, 0, 0, 0, 0, 0, 0, 0, 0, 0,...</td>\n",
       "      <td>1683.0</td>\n",
       "      <td>lot1</td>\n",
       "      <td>[[Training]]</td>\n",
       "      <td>[[none]]</td>\n",
       "    </tr>\n",
       "    <tr>\n",
       "      <th>1</th>\n",
       "      <td>[[0, 0, 0, 0, 0, 0, 0, 0, 0, 0, 0, 0, 0, 0, 0,...</td>\n",
       "      <td>1683.0</td>\n",
       "      <td>lot1</td>\n",
       "      <td>[[Training]]</td>\n",
       "      <td>[[none]]</td>\n",
       "    </tr>\n",
       "    <tr>\n",
       "      <th>2</th>\n",
       "      <td>[[0, 0, 0, 0, 0, 0, 0, 0, 0, 0, 0, 0, 0, 0, 0,...</td>\n",
       "      <td>1683.0</td>\n",
       "      <td>lot1</td>\n",
       "      <td>[[Training]]</td>\n",
       "      <td>[[none]]</td>\n",
       "    </tr>\n",
       "    <tr>\n",
       "      <th>3</th>\n",
       "      <td>[[0, 0, 0, 0, 0, 0, 0, 0, 0, 0, 0, 0, 0, 0, 0,...</td>\n",
       "      <td>1683.0</td>\n",
       "      <td>lot1</td>\n",
       "      <td>[[Training]]</td>\n",
       "      <td>[[none]]</td>\n",
       "    </tr>\n",
       "    <tr>\n",
       "      <th>4</th>\n",
       "      <td>[[0, 0, 0, 0, 0, 0, 0, 0, 0, 0, 0, 0, 0, 0, 0,...</td>\n",
       "      <td>1683.0</td>\n",
       "      <td>lot1</td>\n",
       "      <td>[[Training]]</td>\n",
       "      <td>[[none]]</td>\n",
       "    </tr>\n",
       "  </tbody>\n",
       "</table>\n",
       "</div>"
      ],
      "text/plain": [
       "                                            waferMap  dieSize lotName  \\\n",
       "0  [[0, 0, 0, 0, 0, 0, 0, 0, 0, 0, 0, 0, 0, 0, 0,...   1683.0    lot1   \n",
       "1  [[0, 0, 0, 0, 0, 0, 0, 0, 0, 0, 0, 0, 0, 0, 0,...   1683.0    lot1   \n",
       "2  [[0, 0, 0, 0, 0, 0, 0, 0, 0, 0, 0, 0, 0, 0, 0,...   1683.0    lot1   \n",
       "3  [[0, 0, 0, 0, 0, 0, 0, 0, 0, 0, 0, 0, 0, 0, 0,...   1683.0    lot1   \n",
       "4  [[0, 0, 0, 0, 0, 0, 0, 0, 0, 0, 0, 0, 0, 0, 0,...   1683.0    lot1   \n",
       "\n",
       "  trianTestLabel failureType  \n",
       "0   [[Training]]    [[none]]  \n",
       "1   [[Training]]    [[none]]  \n",
       "2   [[Training]]    [[none]]  \n",
       "3   [[Training]]    [[none]]  \n",
       "4   [[Training]]    [[none]]  "
      ]
     },
     "execution_count": 5,
     "metadata": {},
     "output_type": "execute_result"
    }
   ],
   "source": [
    "# 불필요 컬럼 제거\n",
    "wm811k = wm811k.drop(['waferIndex'], axis = 1)\n",
    "wm811k.head()"
   ]
  },
  {
   "cell_type": "code",
   "execution_count": 6,
   "id": "78395000",
   "metadata": {
    "execution": {
     "iopub.execute_input": "2022-04-06T23:44:20.664400Z",
     "iopub.status.busy": "2022-04-06T23:44:20.663383Z",
     "iopub.status.idle": "2022-04-06T23:44:22.032807Z",
     "shell.execute_reply": "2022-04-06T23:44:22.032307Z",
     "shell.execute_reply.started": "2022-04-06T23:44:20.664400Z"
    },
    "tags": []
   },
   "outputs": [
    {
     "data": {
      "text/html": [
       "<div>\n",
       "<style scoped>\n",
       "    .dataframe tbody tr th:only-of-type {\n",
       "        vertical-align: middle;\n",
       "    }\n",
       "\n",
       "    .dataframe tbody tr th {\n",
       "        vertical-align: top;\n",
       "    }\n",
       "\n",
       "    .dataframe thead th {\n",
       "        text-align: right;\n",
       "    }\n",
       "</style>\n",
       "<table border=\"1\" class=\"dataframe\">\n",
       "  <thead>\n",
       "    <tr style=\"text-align: right;\">\n",
       "      <th></th>\n",
       "      <th>waferMap</th>\n",
       "      <th>dieSize</th>\n",
       "      <th>lotName</th>\n",
       "      <th>trianTestLabel</th>\n",
       "      <th>failureType</th>\n",
       "      <th>waferMapDim</th>\n",
       "    </tr>\n",
       "  </thead>\n",
       "  <tbody>\n",
       "    <tr>\n",
       "      <th>0</th>\n",
       "      <td>[[0, 0, 0, 0, 0, 0, 0, 0, 0, 0, 0, 0, 0, 0, 0,...</td>\n",
       "      <td>1683.0</td>\n",
       "      <td>lot1</td>\n",
       "      <td>[[Training]]</td>\n",
       "      <td>[[none]]</td>\n",
       "      <td>(45, 48)</td>\n",
       "    </tr>\n",
       "    <tr>\n",
       "      <th>1</th>\n",
       "      <td>[[0, 0, 0, 0, 0, 0, 0, 0, 0, 0, 0, 0, 0, 0, 0,...</td>\n",
       "      <td>1683.0</td>\n",
       "      <td>lot1</td>\n",
       "      <td>[[Training]]</td>\n",
       "      <td>[[none]]</td>\n",
       "      <td>(45, 48)</td>\n",
       "    </tr>\n",
       "    <tr>\n",
       "      <th>2</th>\n",
       "      <td>[[0, 0, 0, 0, 0, 0, 0, 0, 0, 0, 0, 0, 0, 0, 0,...</td>\n",
       "      <td>1683.0</td>\n",
       "      <td>lot1</td>\n",
       "      <td>[[Training]]</td>\n",
       "      <td>[[none]]</td>\n",
       "      <td>(45, 48)</td>\n",
       "    </tr>\n",
       "    <tr>\n",
       "      <th>3</th>\n",
       "      <td>[[0, 0, 0, 0, 0, 0, 0, 0, 0, 0, 0, 0, 0, 0, 0,...</td>\n",
       "      <td>1683.0</td>\n",
       "      <td>lot1</td>\n",
       "      <td>[[Training]]</td>\n",
       "      <td>[[none]]</td>\n",
       "      <td>(45, 48)</td>\n",
       "    </tr>\n",
       "    <tr>\n",
       "      <th>4</th>\n",
       "      <td>[[0, 0, 0, 0, 0, 0, 0, 0, 0, 0, 0, 0, 0, 0, 0,...</td>\n",
       "      <td>1683.0</td>\n",
       "      <td>lot1</td>\n",
       "      <td>[[Training]]</td>\n",
       "      <td>[[none]]</td>\n",
       "      <td>(45, 48)</td>\n",
       "    </tr>\n",
       "  </tbody>\n",
       "</table>\n",
       "</div>"
      ],
      "text/plain": [
       "                                            waferMap  dieSize lotName  \\\n",
       "0  [[0, 0, 0, 0, 0, 0, 0, 0, 0, 0, 0, 0, 0, 0, 0,...   1683.0    lot1   \n",
       "1  [[0, 0, 0, 0, 0, 0, 0, 0, 0, 0, 0, 0, 0, 0, 0,...   1683.0    lot1   \n",
       "2  [[0, 0, 0, 0, 0, 0, 0, 0, 0, 0, 0, 0, 0, 0, 0,...   1683.0    lot1   \n",
       "3  [[0, 0, 0, 0, 0, 0, 0, 0, 0, 0, 0, 0, 0, 0, 0,...   1683.0    lot1   \n",
       "4  [[0, 0, 0, 0, 0, 0, 0, 0, 0, 0, 0, 0, 0, 0, 0,...   1683.0    lot1   \n",
       "\n",
       "  trianTestLabel failureType waferMapDim  \n",
       "0   [[Training]]    [[none]]    (45, 48)  \n",
       "1   [[Training]]    [[none]]    (45, 48)  \n",
       "2   [[Training]]    [[none]]    (45, 48)  \n",
       "3   [[Training]]    [[none]]    (45, 48)  \n",
       "4   [[Training]]    [[none]]    (45, 48)  "
      ]
     },
     "execution_count": 6,
     "metadata": {},
     "output_type": "execute_result"
    }
   ],
   "source": [
    "# wafermap size 확인 및 컬럼 추가\n",
    "def find_dim(x):\n",
    "    dim0=np.size(x,axis=0)\n",
    "    dim1=np.size(x,axis=1)\n",
    "    return dim0,dim1\n",
    "wm811k['waferMapDim']=wm811k['waferMap'].apply(find_dim)\n",
    "wm811k.head()"
   ]
  },
  {
   "cell_type": "code",
   "execution_count": 7,
   "id": "916efbcb",
   "metadata": {
    "execution": {
     "iopub.execute_input": "2022-04-06T23:44:22.034319Z",
     "iopub.status.busy": "2022-04-06T23:44:22.033307Z",
     "iopub.status.idle": "2022-04-06T23:44:35.333863Z",
     "shell.execute_reply": "2022-04-06T23:44:35.333363Z",
     "shell.execute_reply.started": "2022-04-06T23:44:22.033307Z"
    },
    "tags": []
   },
   "outputs": [
    {
     "name": "stderr",
     "output_type": "stream",
     "text": [
      "C:\\Users\\kjt\\Anaconda3\\envs\\dlit\\lib\\site-packages\\pandas\\core\\array_algos\\replace.py:60: FutureWarning: elementwise comparison failed; returning scalar instead, but in the future will perform elementwise comparison\n",
      "  op = lambda x: operator.eq(x, b)\n"
     ]
    },
    {
     "data": {
      "text/html": [
       "<div>\n",
       "<style scoped>\n",
       "    .dataframe tbody tr th:only-of-type {\n",
       "        vertical-align: middle;\n",
       "    }\n",
       "\n",
       "    .dataframe tbody tr th {\n",
       "        vertical-align: top;\n",
       "    }\n",
       "\n",
       "    .dataframe thead th {\n",
       "        text-align: right;\n",
       "    }\n",
       "</style>\n",
       "<table border=\"1\" class=\"dataframe\">\n",
       "  <thead>\n",
       "    <tr style=\"text-align: right;\">\n",
       "      <th></th>\n",
       "      <th>waferMap</th>\n",
       "      <th>dieSize</th>\n",
       "      <th>lotName</th>\n",
       "      <th>trianTestLabel</th>\n",
       "      <th>failureType</th>\n",
       "      <th>waferMapDim</th>\n",
       "      <th>failureNum</th>\n",
       "      <th>trainTestNum</th>\n",
       "    </tr>\n",
       "  </thead>\n",
       "  <tbody>\n",
       "    <tr>\n",
       "      <th>0</th>\n",
       "      <td>[[0, 0, 0, 0, 0, 0, 0, 0, 0, 0, 0, 0, 0, 0, 0,...</td>\n",
       "      <td>1683.0</td>\n",
       "      <td>lot1</td>\n",
       "      <td>[[Training]]</td>\n",
       "      <td>[[none]]</td>\n",
       "      <td>(45, 48)</td>\n",
       "      <td>8</td>\n",
       "      <td>0</td>\n",
       "    </tr>\n",
       "    <tr>\n",
       "      <th>1</th>\n",
       "      <td>[[0, 0, 0, 0, 0, 0, 0, 0, 0, 0, 0, 0, 0, 0, 0,...</td>\n",
       "      <td>1683.0</td>\n",
       "      <td>lot1</td>\n",
       "      <td>[[Training]]</td>\n",
       "      <td>[[none]]</td>\n",
       "      <td>(45, 48)</td>\n",
       "      <td>8</td>\n",
       "      <td>0</td>\n",
       "    </tr>\n",
       "    <tr>\n",
       "      <th>2</th>\n",
       "      <td>[[0, 0, 0, 0, 0, 0, 0, 0, 0, 0, 0, 0, 0, 0, 0,...</td>\n",
       "      <td>1683.0</td>\n",
       "      <td>lot1</td>\n",
       "      <td>[[Training]]</td>\n",
       "      <td>[[none]]</td>\n",
       "      <td>(45, 48)</td>\n",
       "      <td>8</td>\n",
       "      <td>0</td>\n",
       "    </tr>\n",
       "    <tr>\n",
       "      <th>3</th>\n",
       "      <td>[[0, 0, 0, 0, 0, 0, 0, 0, 0, 0, 0, 0, 0, 0, 0,...</td>\n",
       "      <td>1683.0</td>\n",
       "      <td>lot1</td>\n",
       "      <td>[[Training]]</td>\n",
       "      <td>[[none]]</td>\n",
       "      <td>(45, 48)</td>\n",
       "      <td>8</td>\n",
       "      <td>0</td>\n",
       "    </tr>\n",
       "    <tr>\n",
       "      <th>4</th>\n",
       "      <td>[[0, 0, 0, 0, 0, 0, 0, 0, 0, 0, 0, 0, 0, 0, 0,...</td>\n",
       "      <td>1683.0</td>\n",
       "      <td>lot1</td>\n",
       "      <td>[[Training]]</td>\n",
       "      <td>[[none]]</td>\n",
       "      <td>(45, 48)</td>\n",
       "      <td>8</td>\n",
       "      <td>0</td>\n",
       "    </tr>\n",
       "  </tbody>\n",
       "</table>\n",
       "</div>"
      ],
      "text/plain": [
       "                                            waferMap  dieSize lotName  \\\n",
       "0  [[0, 0, 0, 0, 0, 0, 0, 0, 0, 0, 0, 0, 0, 0, 0,...   1683.0    lot1   \n",
       "1  [[0, 0, 0, 0, 0, 0, 0, 0, 0, 0, 0, 0, 0, 0, 0,...   1683.0    lot1   \n",
       "2  [[0, 0, 0, 0, 0, 0, 0, 0, 0, 0, 0, 0, 0, 0, 0,...   1683.0    lot1   \n",
       "3  [[0, 0, 0, 0, 0, 0, 0, 0, 0, 0, 0, 0, 0, 0, 0,...   1683.0    lot1   \n",
       "4  [[0, 0, 0, 0, 0, 0, 0, 0, 0, 0, 0, 0, 0, 0, 0,...   1683.0    lot1   \n",
       "\n",
       "  trianTestLabel failureType waferMapDim failureNum trainTestNum  \n",
       "0   [[Training]]    [[none]]    (45, 48)          8            0  \n",
       "1   [[Training]]    [[none]]    (45, 48)          8            0  \n",
       "2   [[Training]]    [[none]]    (45, 48)          8            0  \n",
       "3   [[Training]]    [[none]]    (45, 48)          8            0  \n",
       "4   [[Training]]    [[none]]    (45, 48)          8            0  "
      ]
     },
     "execution_count": 7,
     "metadata": {},
     "output_type": "execute_result"
    }
   ],
   "source": [
    "# 불량 클래스 확인 및 학습/검증/테스트 데이터 셋 확인\n",
    "wm811k['failureNum']=wm811k['failureType']\n",
    "wm811k['trainTestNum']=wm811k['trianTestLabel']\n",
    "mapping_type={'Center':0,'Donut':1,'Edge-Loc':2,'Edge-Ring':3,'Loc':4,'Random':5,'Scratch':6,'Near-full':7,'none':8}\n",
    "mapping_traintest={'Training':0,'Test':1}\n",
    "wm811k=wm811k.replace({'failureNum':mapping_type, 'trainTestNum':mapping_traintest})\n",
    "wm811k.head()"
   ]
  },
  {
   "cell_type": "code",
   "execution_count": 8,
   "id": "6b3816c8",
   "metadata": {
    "execution": {
     "iopub.execute_input": "2022-04-06T23:44:35.334880Z",
     "iopub.status.busy": "2022-04-06T23:44:35.334880Z",
     "iopub.status.idle": "2022-04-06T23:44:39.340261Z",
     "shell.execute_reply": "2022-04-06T23:44:39.339719Z",
     "shell.execute_reply.started": "2022-04-06T23:44:35.334880Z"
    },
    "tags": []
   },
   "outputs": [
    {
     "data": {
      "text/plain": [
       "[]                638507\n",
       "[['Test']]        118595\n",
       "[['Training']]     54355\n",
       "Name: trianTestLabel, dtype: int64"
      ]
     },
     "execution_count": 8,
     "metadata": {},
     "output_type": "execute_result"
    }
   ],
   "source": [
    "wm811k['trianTestLabel'].apply(lambda x: str(x)).value_counts()"
   ]
  },
  {
   "cell_type": "code",
   "execution_count": 9,
   "id": "64d1f35a",
   "metadata": {
    "execution": {
     "iopub.execute_input": "2022-04-06T23:44:39.341278Z",
     "iopub.status.busy": "2022-04-06T23:44:39.341278Z",
     "iopub.status.idle": "2022-04-06T23:44:41.295684Z",
     "shell.execute_reply": "2022-04-06T23:44:41.295684Z",
     "shell.execute_reply.started": "2022-04-06T23:44:39.341278Z"
    },
    "tags": []
   },
   "outputs": [
    {
     "data": {
      "text/plain": [
       "[]    638507\n",
       "1     118595\n",
       "0      54355\n",
       "Name: trainTestNum, dtype: int64"
      ]
     },
     "execution_count": 9,
     "metadata": {},
     "output_type": "execute_result"
    }
   ],
   "source": [
    "wm811k['trainTestNum'].apply(lambda x: str(x)).value_counts()"
   ]
  },
  {
   "cell_type": "code",
   "execution_count": 10,
   "id": "95565f72",
   "metadata": {
    "execution": {
     "iopub.execute_input": "2022-04-06T23:44:41.296926Z",
     "iopub.status.busy": "2022-04-06T23:44:41.296926Z",
     "iopub.status.idle": "2022-04-06T23:44:42.987085Z",
     "shell.execute_reply": "2022-04-06T23:44:42.986581Z",
     "shell.execute_reply.started": "2022-04-06T23:44:41.296926Z"
    },
    "tags": []
   },
   "outputs": [],
   "source": [
    "wm811k_train = wm811k.query(\"trainTestNum == 0\")"
   ]
  },
  {
   "cell_type": "code",
   "execution_count": 11,
   "id": "45ac8f3b",
   "metadata": {
    "execution": {
     "iopub.execute_input": "2022-04-06T23:44:42.988801Z",
     "iopub.status.busy": "2022-04-06T23:44:42.988111Z",
     "iopub.status.idle": "2022-04-06T23:44:43.033194Z",
     "shell.execute_reply": "2022-04-06T23:44:43.032140Z",
     "shell.execute_reply.started": "2022-04-06T23:44:42.988801Z"
    },
    "tags": []
   },
   "outputs": [
    {
     "name": "stdout",
     "output_type": "stream",
     "text": [
      "<class 'pandas.core.frame.DataFrame'>\n",
      "Int64Index: 54355 entries, 0 to 791476\n",
      "Data columns (total 8 columns):\n",
      " #   Column          Non-Null Count  Dtype  \n",
      "---  ------          --------------  -----  \n",
      " 0   waferMap        54355 non-null  object \n",
      " 1   dieSize         54355 non-null  float64\n",
      " 2   lotName         54355 non-null  object \n",
      " 3   trianTestLabel  54355 non-null  object \n",
      " 4   failureType     54355 non-null  object \n",
      " 5   waferMapDim     54355 non-null  object \n",
      " 6   failureNum      54355 non-null  object \n",
      " 7   trainTestNum    54355 non-null  object \n",
      "dtypes: float64(1), object(7)\n",
      "memory usage: 3.7+ MB\n"
     ]
    }
   ],
   "source": [
    "wm811k_train.info()"
   ]
  },
  {
   "cell_type": "markdown",
   "id": "be4cba4d",
   "metadata": {},
   "source": [
    "### wm811k_test set\n",
    "- 10,000개 augmentation된 데이터 train: validation : test = 65: 20: 15\n",
    "- 최종 모델 확인 이후 wm811k_test 데이터 활용 모델 성능 확인하는 것이 좋을 듯"
   ]
  },
  {
   "cell_type": "code",
   "execution_count": 12,
   "id": "de31eac7",
   "metadata": {
    "execution": {
     "iopub.execute_input": "2022-04-06T23:44:43.036384Z",
     "iopub.status.busy": "2022-04-06T23:44:43.035885Z",
     "iopub.status.idle": "2022-04-06T23:44:44.714992Z",
     "shell.execute_reply": "2022-04-06T23:44:44.714992Z",
     "shell.execute_reply.started": "2022-04-06T23:44:43.036384Z"
    },
    "tags": []
   },
   "outputs": [],
   "source": [
    "wm811k_test = wm811k.query(\"trainTestNum == 1\")"
   ]
  },
  {
   "cell_type": "code",
   "execution_count": 13,
   "id": "2fd3f8dd",
   "metadata": {
    "execution": {
     "iopub.execute_input": "2022-04-06T23:44:44.715883Z",
     "iopub.status.busy": "2022-04-06T23:44:44.715883Z",
     "iopub.status.idle": "2022-04-06T23:44:44.761173Z",
     "shell.execute_reply": "2022-04-06T23:44:44.760663Z",
     "shell.execute_reply.started": "2022-04-06T23:44:44.715883Z"
    },
    "tags": []
   },
   "outputs": [
    {
     "name": "stdout",
     "output_type": "stream",
     "text": [
      "<class 'pandas.core.frame.DataFrame'>\n",
      "Int64Index: 118595 entries, 639663 to 811454\n",
      "Data columns (total 8 columns):\n",
      " #   Column          Non-Null Count   Dtype  \n",
      "---  ------          --------------   -----  \n",
      " 0   waferMap        118595 non-null  object \n",
      " 1   dieSize         118595 non-null  float64\n",
      " 2   lotName         118595 non-null  object \n",
      " 3   trianTestLabel  118595 non-null  object \n",
      " 4   failureType     118595 non-null  object \n",
      " 5   waferMapDim     118595 non-null  object \n",
      " 6   failureNum      118595 non-null  object \n",
      " 7   trainTestNum    118595 non-null  object \n",
      "dtypes: float64(1), object(7)\n",
      "memory usage: 8.1+ MB\n"
     ]
    }
   ],
   "source": [
    "wm811k_test.info()"
   ]
  },
  {
   "cell_type": "code",
   "execution_count": 14,
   "id": "6c8f0e02",
   "metadata": {
    "execution": {
     "iopub.execute_input": "2022-04-06T23:44:44.762313Z",
     "iopub.status.busy": "2022-04-06T23:44:44.762313Z",
     "iopub.status.idle": "2022-04-06T23:44:44.807506Z",
     "shell.execute_reply": "2022-04-06T23:44:44.807004Z",
     "shell.execute_reply.started": "2022-04-06T23:44:44.762313Z"
    },
    "tags": []
   },
   "outputs": [
    {
     "data": {
      "text/plain": [
       "8    110701\n",
       "2      2772\n",
       "4      1973\n",
       "3      1126\n",
       "0       832\n",
       "6       693\n",
       "5       257\n",
       "1       146\n",
       "7        95\n",
       "Name: failureNum, dtype: int64"
      ]
     },
     "execution_count": 14,
     "metadata": {},
     "output_type": "execute_result"
    }
   ],
   "source": [
    "wm811k_test['failureNum'].apply(lambda x: str(x)).value_counts()"
   ]
  },
  {
   "cell_type": "markdown",
   "id": "69057b6e",
   "metadata": {},
   "source": [
    "### waferMap size 확인\n",
    "- data print 결과 빈 부분은 0, 정상 pixel은 1, 불량 pixel은 2로 표현되어있는 듯\n",
    "    - input shape 맞출 때 0으로 padding 주듯이 채우면 될 듯\n",
    "- 예상 전처리 과정 : 기존 데이터에 data augmentaion 적용 $ \\rightarrow $ 변형 데이터에 224x224 size zero_padding $ \\rightarrow $ input data"
   ]
  },
  {
   "cell_type": "code",
   "execution_count": 15,
   "id": "f07d2c96",
   "metadata": {
    "execution": {
     "iopub.execute_input": "2022-04-06T23:44:44.808530Z",
     "iopub.status.busy": "2022-04-06T23:44:44.808530Z",
     "iopub.status.idle": "2022-04-06T23:44:44.823077Z",
     "shell.execute_reply": "2022-04-06T23:44:44.822576Z",
     "shell.execute_reply.started": "2022-04-06T23:44:44.808530Z"
    },
    "tags": []
   },
   "outputs": [],
   "source": [
    "# pd.set_option('display.max_columns', None)\n",
    "# pd.set_option('display.max_rows', None)"
   ]
  },
  {
   "cell_type": "code",
   "execution_count": 16,
   "id": "76a7291d",
   "metadata": {
    "execution": {
     "iopub.execute_input": "2022-04-06T23:44:44.824391Z",
     "iopub.status.busy": "2022-04-06T23:44:44.823762Z",
     "iopub.status.idle": "2022-04-06T23:44:44.914148Z",
     "shell.execute_reply": "2022-04-06T23:44:44.913617Z",
     "shell.execute_reply.started": "2022-04-06T23:44:44.824391Z"
    },
    "tags": []
   },
   "outputs": [
    {
     "data": {
      "text/plain": [
       "(32, 29)    108687\n",
       "(25, 27)     64083\n",
       "(49, 39)     39323\n",
       "(26, 26)     30078\n",
       "(30, 34)     29513\n",
       "             ...  \n",
       "(24, 71)         1\n",
       "(61, 55)         1\n",
       "(54, 69)         1\n",
       "(18, 4)          1\n",
       "(32, 71)         1\n",
       "Name: waferMapDim, Length: 632, dtype: int64"
      ]
     },
     "execution_count": 16,
     "metadata": {},
     "output_type": "execute_result"
    }
   ],
   "source": [
    "# waferMap size 확인\n",
    "wm811k['waferMapDim'].value_counts()"
   ]
  },
  {
   "cell_type": "code",
   "execution_count": 17,
   "id": "ffc8cfad",
   "metadata": {
    "execution": {
     "iopub.execute_input": "2022-04-06T23:44:44.915236Z",
     "iopub.status.busy": "2022-04-06T23:44:44.915236Z",
     "iopub.status.idle": "2022-04-06T23:44:44.929817Z",
     "shell.execute_reply": "2022-04-06T23:44:44.928812Z",
     "shell.execute_reply.started": "2022-04-06T23:44:44.915236Z"
    },
    "tags": []
   },
   "outputs": [
    {
     "data": {
      "text/plain": [
       "8    36730\n",
       "3     8554\n",
       "0     3462\n",
       "2     2417\n",
       "4     1620\n",
       "5      609\n",
       "6      500\n",
       "1      409\n",
       "7       54\n",
       "Name: failureNum, dtype: int64"
      ]
     },
     "execution_count": 17,
     "metadata": {},
     "output_type": "execute_result"
    }
   ],
   "source": [
    "# 학습 데이터 내 불량 클래스 개수 확인\n",
    "wm811k_train['failureNum'].value_counts()"
   ]
  },
  {
   "cell_type": "markdown",
   "id": "d2be2dfb",
   "metadata": {},
   "source": [
    "### Data-Augmentaion - 클래스별로 10,000개\n",
    "- None(8): 36,730 중 10,000 개 Sampling\n",
    "- Edge-Ring(3): 8554\n",
    "    - 1446개 모자름\n",
    "- Center(0)     : 3462\n",
    "    - 6,538개 모자름\n",
    "- Edge-Loc(2)   : 2417\n",
    "    - 7,583개 모자름\n",
    "- Loc(4)        : 1620\n",
    "    - 8,380개 모자름\n",
    "- Random(5)     : 609\n",
    "    - 9,391개 모자름\n",
    "- Scratch(6)    : 500\n",
    "    - 9,500개 모자름\n",
    "- Donut(1)      : 409\n",
    "    - 9,591개 모자름\n",
    "- Near-full(7)  : 54\n",
    "    - 9,946개 모자름"
   ]
  },
  {
   "cell_type": "markdown",
   "id": "a3c0fad2",
   "metadata": {},
   "source": [
    "### Augmentation 기법 적용\n",
    "- 10도 회전 : 20%\n",
    "- 좌우 대칭 및 너비 이동(horizontal flipping and width shift) : 20%\n",
    "- 높이 이동(height shfit) : 15%\n",
    "- 전단 범위(shearing range) : 10%\n",
    "- 채널이동 및 확대 축소(channel shift and zooming) : 10%\n",
    "- 75%밖에 안 되는 듯"
   ]
  },
  {
   "cell_type": "markdown",
   "id": "ce88f15b",
   "metadata": {},
   "source": [
    "- 수정 증량 비율\n",
    "    - +10도 회전 : 10%\n",
    "    - -10도 회전 : 10%\n",
    "    - 좌우 대칭 : 20% \n",
    "    - 너비 이동 : 20%\n",
    "    - 높이 이동: 20%\n",
    "    - 전단 범위(shearing range) : 10%\n",
    "    - 확대 : 10%"
   ]
  },
  {
   "cell_type": "code",
   "execution_count": 18,
   "id": "2ae76a62",
   "metadata": {
    "execution": {
     "iopub.execute_input": "2022-04-06T23:44:44.931429Z",
     "iopub.status.busy": "2022-04-06T23:44:44.930424Z",
     "iopub.status.idle": "2022-04-06T23:44:45.082388Z",
     "shell.execute_reply": "2022-04-06T23:44:45.081876Z",
     "shell.execute_reply.started": "2022-04-06T23:44:44.931429Z"
    },
    "tags": []
   },
   "outputs": [
    {
     "data": {
      "text/html": [
       "<div>\n",
       "<style scoped>\n",
       "    .dataframe tbody tr th:only-of-type {\n",
       "        vertical-align: middle;\n",
       "    }\n",
       "\n",
       "    .dataframe tbody tr th {\n",
       "        vertical-align: top;\n",
       "    }\n",
       "\n",
       "    .dataframe thead th {\n",
       "        text-align: right;\n",
       "    }\n",
       "</style>\n",
       "<table border=\"1\" class=\"dataframe\">\n",
       "  <thead>\n",
       "    <tr style=\"text-align: right;\">\n",
       "      <th></th>\n",
       "      <th>waferMap</th>\n",
       "      <th>dieSize</th>\n",
       "      <th>lotName</th>\n",
       "      <th>trianTestLabel</th>\n",
       "      <th>failureType</th>\n",
       "      <th>waferMapDim</th>\n",
       "      <th>failureNum</th>\n",
       "      <th>trainTestNum</th>\n",
       "    </tr>\n",
       "  </thead>\n",
       "  <tbody>\n",
       "    <tr>\n",
       "      <th>0</th>\n",
       "      <td>[[0, 0, 0, 0, 0, 0, 0, 0, 0, 0, 0, 0, 0, 0, 0,...</td>\n",
       "      <td>1683.0</td>\n",
       "      <td>lot1</td>\n",
       "      <td>[[Training]]</td>\n",
       "      <td>[[none]]</td>\n",
       "      <td>(45, 48)</td>\n",
       "      <td>8</td>\n",
       "      <td>0</td>\n",
       "    </tr>\n",
       "    <tr>\n",
       "      <th>1</th>\n",
       "      <td>[[0, 0, 0, 0, 0, 0, 0, 0, 0, 0, 0, 0, 0, 0, 0,...</td>\n",
       "      <td>1683.0</td>\n",
       "      <td>lot1</td>\n",
       "      <td>[[Training]]</td>\n",
       "      <td>[[none]]</td>\n",
       "      <td>(45, 48)</td>\n",
       "      <td>8</td>\n",
       "      <td>0</td>\n",
       "    </tr>\n",
       "    <tr>\n",
       "      <th>2</th>\n",
       "      <td>[[0, 0, 0, 0, 0, 0, 0, 0, 0, 0, 0, 0, 0, 0, 0,...</td>\n",
       "      <td>1683.0</td>\n",
       "      <td>lot1</td>\n",
       "      <td>[[Training]]</td>\n",
       "      <td>[[none]]</td>\n",
       "      <td>(45, 48)</td>\n",
       "      <td>8</td>\n",
       "      <td>0</td>\n",
       "    </tr>\n",
       "    <tr>\n",
       "      <th>3</th>\n",
       "      <td>[[0, 0, 0, 0, 0, 0, 0, 0, 0, 0, 0, 0, 0, 0, 0,...</td>\n",
       "      <td>1683.0</td>\n",
       "      <td>lot1</td>\n",
       "      <td>[[Training]]</td>\n",
       "      <td>[[none]]</td>\n",
       "      <td>(45, 48)</td>\n",
       "      <td>8</td>\n",
       "      <td>0</td>\n",
       "    </tr>\n",
       "    <tr>\n",
       "      <th>4</th>\n",
       "      <td>[[0, 0, 0, 0, 0, 0, 0, 0, 0, 0, 0, 0, 0, 0, 0,...</td>\n",
       "      <td>1683.0</td>\n",
       "      <td>lot1</td>\n",
       "      <td>[[Training]]</td>\n",
       "      <td>[[none]]</td>\n",
       "      <td>(45, 48)</td>\n",
       "      <td>8</td>\n",
       "      <td>0</td>\n",
       "    </tr>\n",
       "  </tbody>\n",
       "</table>\n",
       "</div>"
      ],
      "text/plain": [
       "                                            waferMap  dieSize lotName  \\\n",
       "0  [[0, 0, 0, 0, 0, 0, 0, 0, 0, 0, 0, 0, 0, 0, 0,...   1683.0    lot1   \n",
       "1  [[0, 0, 0, 0, 0, 0, 0, 0, 0, 0, 0, 0, 0, 0, 0,...   1683.0    lot1   \n",
       "2  [[0, 0, 0, 0, 0, 0, 0, 0, 0, 0, 0, 0, 0, 0, 0,...   1683.0    lot1   \n",
       "3  [[0, 0, 0, 0, 0, 0, 0, 0, 0, 0, 0, 0, 0, 0, 0,...   1683.0    lot1   \n",
       "4  [[0, 0, 0, 0, 0, 0, 0, 0, 0, 0, 0, 0, 0, 0, 0,...   1683.0    lot1   \n",
       "\n",
       "  trianTestLabel failureType waferMapDim failureNum trainTestNum  \n",
       "0   [[Training]]    [[none]]    (45, 48)          8            0  \n",
       "1   [[Training]]    [[none]]    (45, 48)          8            0  \n",
       "2   [[Training]]    [[none]]    (45, 48)          8            0  \n",
       "3   [[Training]]    [[none]]    (45, 48)          8            0  \n",
       "4   [[Training]]    [[none]]    (45, 48)          8            0  "
      ]
     },
     "execution_count": 18,
     "metadata": {},
     "output_type": "execute_result"
    }
   ],
   "source": [
    "wm811k_train.head()"
   ]
  },
  {
   "cell_type": "markdown",
   "id": "bdd7ade1",
   "metadata": {},
   "source": [
    "### Augmentation 구현\n",
    "- 기법 별로 함수 작성\n",
    "- 비율 개수만큼 sampling\n",
    "- sampling 데이터에 작성한 기법별 함수 적용\n",
    "- waferMapDim 확인 / waferMap 이미지 부분 잘리거나 한 부분 없게끔 적용되게 확인 : 미리 padding 주기?\n",
    "- data concat"
   ]
  },
  {
   "cell_type": "markdown",
   "id": "181db79f",
   "metadata": {},
   "source": [
    "- 10도 회전\n",
    "    - 참고 : https://076923.github.io/posts/Python-opencv-6/"
   ]
  },
  {
   "cell_type": "code",
   "execution_count": 19,
   "id": "430d39c1",
   "metadata": {
    "execution": {
     "iopub.execute_input": "2022-04-06T23:44:45.083417Z",
     "iopub.status.busy": "2022-04-06T23:44:45.083417Z",
     "iopub.status.idle": "2022-04-06T23:44:45.096993Z",
     "shell.execute_reply": "2022-04-06T23:44:45.096491Z",
     "shell.execute_reply.started": "2022-04-06T23:44:45.083417Z"
    },
    "tags": []
   },
   "outputs": [],
   "source": [
    "def rotation_10_degree(data_img):\n",
    "    height, width = data_img.shape\n",
    "    # positive for anti-clockwise and negative for clockwise\n",
    "    rotation_10_degree_img = cv2.getRotationMatrix2D((width/2, height/2), 10, 1) # 중심점, 각도, 배율\n",
    "    dst = cv2.warpAffine(data_img, rotation_10_degree_img, (width,height))\n",
    "    return dst"
   ]
  },
  {
   "cell_type": "code",
   "execution_count": 20,
   "id": "45e412cf",
   "metadata": {
    "execution": {
     "iopub.execute_input": "2022-04-06T23:44:45.098009Z",
     "iopub.status.busy": "2022-04-06T23:44:45.098009Z",
     "iopub.status.idle": "2022-04-06T23:44:45.112674Z",
     "shell.execute_reply": "2022-04-06T23:44:45.111674Z",
     "shell.execute_reply.started": "2022-04-06T23:44:45.098009Z"
    },
    "tags": []
   },
   "outputs": [],
   "source": [
    "def rotation_minus_10_degree(data_img):\n",
    "    height, width = data_img.shape\n",
    "    # positive for anti-clockwise and negative for clockwise\n",
    "    rotation_10_degree_img = cv2.getRotationMatrix2D((width/2, height/2), -10, 1) # 중심점, 각도, 배율\n",
    "    dst = cv2.warpAffine(data_img, rotation_10_degree_img, (width,height))\n",
    "    return dst"
   ]
  },
  {
   "cell_type": "code",
   "execution_count": 21,
   "id": "214a67e1",
   "metadata": {
    "execution": {
     "iopub.execute_input": "2022-04-06T23:44:45.113173Z",
     "iopub.status.busy": "2022-04-06T23:44:45.113173Z",
     "iopub.status.idle": "2022-04-06T23:44:45.127509Z",
     "shell.execute_reply": "2022-04-06T23:44:45.126508Z",
     "shell.execute_reply.started": "2022-04-06T23:44:45.113173Z"
    },
    "tags": []
   },
   "outputs": [],
   "source": [
    "# 회전 변환 다른 라이브러리 활용하는 방법 참고\n",
    "# from scipy.ndimage.interpolation import rotate\n",
    "# rotated = rotate(test_wafermap.iloc[3][\"waferMap\"], angle=10,reshape=False)\n",
    "# plt.imshow(rotated)\n",
    "# plt.show()"
   ]
  },
  {
   "cell_type": "markdown",
   "id": "60234ec5",
   "metadata": {},
   "source": [
    "- 좌우 대칭 및 너비 이동(horizontal flipping and width shift)\n",
    "    - cv2.flip : https://crmn.tistory.com/54\n",
    "        - flip_img = cv2.flip(data_img, 1) # 1:좌우반전, 0:상하반전 \n",
    "    - translate : https://m.blog.naver.com/PostView.naver?isHttpsRedirect=true&blogId=vps32&logNo=221762189533\n",
    "        - width shift\n",
    "        - height shift"
   ]
  },
  {
   "cell_type": "code",
   "execution_count": 22,
   "id": "fee822a8",
   "metadata": {
    "execution": {
     "iopub.execute_input": "2022-04-06T23:44:45.128809Z",
     "iopub.status.busy": "2022-04-06T23:44:45.128261Z",
     "iopub.status.idle": "2022-04-06T23:44:45.142425Z",
     "shell.execute_reply": "2022-04-06T23:44:45.141925Z",
     "shell.execute_reply.started": "2022-04-06T23:44:45.128809Z"
    },
    "tags": []
   },
   "outputs": [],
   "source": [
    "def translate(data_img):\n",
    "    height, width = data_img.shape\n",
    "    # random ~ 범위 지정하여 함수 실행 시 마다 무작위로 평행이동 정도 부여하게끔 수정 필요\n",
    "    # 224x224 size 안에서 이동하도록 코딩 필요\n",
    "    translate_matrix = np.float32([[1,0,10], [0,1,5]]) # 세로 10, 가로 5 만큼 평행 이동 \n",
    "    dst = cv2.warpAffine(data_img, translate_matrix, (width,height))\n",
    "    return dst"
   ]
  },
  {
   "cell_type": "markdown",
   "id": "5c24b474",
   "metadata": {},
   "source": [
    "- 전단 범위(shearing range)\n",
    "    - https://www.thepythoncode.com/article/image-transformations-using-opencv-in-python\n",
    "    - https://stackoverflow.com/questions/57881430/how-could-i-implement-a-centered-shear-an-image-with-opencv"
   ]
  },
  {
   "cell_type": "code",
   "execution_count": 23,
   "id": "b849805b",
   "metadata": {
    "execution": {
     "iopub.execute_input": "2022-04-06T23:44:45.143447Z",
     "iopub.status.busy": "2022-04-06T23:44:45.143447Z",
     "iopub.status.idle": "2022-04-06T23:44:45.158786Z",
     "shell.execute_reply": "2022-04-06T23:44:45.157552Z",
     "shell.execute_reply.started": "2022-04-06T23:44:45.143447Z"
    },
    "tags": []
   },
   "outputs": [],
   "source": [
    "def shearing(data_img):\n",
    "    height, width = data_img.shape\n",
    "    # random ~ 범위 지정하여 함수 실행 시 마다 x축, y축 shearing 정도 부여하게끔 수정 필요\n",
    "    shearing_matrix = np.float32([[1, 0.5, 0],    # shearing applied to y-axis\n",
    "             \t                  [0, 1  , 0],    # M = np.float32([[1,   0, 0],\n",
    "            \t                  [0, 0  , 1]])   #             \t[0.5, 1, 0],\n",
    "                                                  #             \t[0,   0, 1]])  \n",
    "    # apply a perspective transformation to the image                \n",
    "    dst = cv2.warpPerspective(data_img, shearing_matrix, (int(width*1.5),int(height*1.5)))                      \n",
    "    # 변형 이미지 중심 보정?\n",
    "    return dst"
   ]
  },
  {
   "cell_type": "markdown",
   "id": "517f8df4",
   "metadata": {},
   "source": [
    "- 채널이동 및 확대 축소(channel shift and zooming)\n",
    "    - 단일 채널 이미지라 channel shift는 적용 안 될 것 같음\n",
    "    - zoom : https://076923.github.io/posts/Python-opencv-7/"
   ]
  },
  {
   "cell_type": "code",
   "execution_count": 24,
   "id": "bd799ef5",
   "metadata": {
    "execution": {
     "iopub.execute_input": "2022-04-06T23:44:45.160278Z",
     "iopub.status.busy": "2022-04-06T23:44:45.159780Z",
     "iopub.status.idle": "2022-04-06T23:44:45.173675Z",
     "shell.execute_reply": "2022-04-06T23:44:45.172554Z",
     "shell.execute_reply.started": "2022-04-06T23:44:45.160278Z"
    },
    "tags": []
   },
   "outputs": [],
   "source": [
    "def zoom(data_img):\n",
    "    height, width = data_img.shape\n",
    "    # 2배 확대 이미지 / 가로 세로 값이 조건에 맞으면 dstsize로 값 부여하여 세밀 조정 가능\n",
    "    # 224x224 size 안에서 2배 확대 가능하도록 코딩 필요\n",
    "    dst = cv2.pyrUp(data_img, dstsize=(width * 2, height * 2), borderType=cv2.BORDER_DEFAULT)\n",
    "    return dst"
   ]
  },
  {
   "cell_type": "markdown",
   "id": "5e006630",
   "metadata": {},
   "source": [
    "- test"
   ]
  },
  {
   "cell_type": "code",
   "execution_count": 25,
   "id": "70376911",
   "metadata": {
    "execution": {
     "iopub.execute_input": "2022-04-06T23:44:45.174632Z",
     "iopub.status.busy": "2022-04-06T23:44:45.174129Z",
     "iopub.status.idle": "2022-04-06T23:44:45.188456Z",
     "shell.execute_reply": "2022-04-06T23:44:45.187458Z",
     "shell.execute_reply.started": "2022-04-06T23:44:45.174632Z"
    },
    "tags": []
   },
   "outputs": [],
   "source": [
    "test_wafermap = wm811k_train.query(\"failureNum == 6\").sample(n=5)"
   ]
  },
  {
   "cell_type": "code",
   "execution_count": 26,
   "id": "a1dcfa6c",
   "metadata": {
    "execution": {
     "iopub.execute_input": "2022-04-06T23:44:45.189455Z",
     "iopub.status.busy": "2022-04-06T23:44:45.188955Z",
     "iopub.status.idle": "2022-04-06T23:44:45.508462Z",
     "shell.execute_reply": "2022-04-06T23:44:45.507955Z",
     "shell.execute_reply.started": "2022-04-06T23:44:45.189455Z"
    },
    "tags": []
   },
   "outputs": [
    {
     "data": {
      "text/html": [
       "<div>\n",
       "<style scoped>\n",
       "    .dataframe tbody tr th:only-of-type {\n",
       "        vertical-align: middle;\n",
       "    }\n",
       "\n",
       "    .dataframe tbody tr th {\n",
       "        vertical-align: top;\n",
       "    }\n",
       "\n",
       "    .dataframe thead th {\n",
       "        text-align: right;\n",
       "    }\n",
       "</style>\n",
       "<table border=\"1\" class=\"dataframe\">\n",
       "  <thead>\n",
       "    <tr style=\"text-align: right;\">\n",
       "      <th></th>\n",
       "      <th>waferMap</th>\n",
       "      <th>dieSize</th>\n",
       "      <th>lotName</th>\n",
       "      <th>trianTestLabel</th>\n",
       "      <th>failureType</th>\n",
       "      <th>waferMapDim</th>\n",
       "      <th>failureNum</th>\n",
       "      <th>trainTestNum</th>\n",
       "    </tr>\n",
       "  </thead>\n",
       "  <tbody>\n",
       "    <tr>\n",
       "      <th>242060</th>\n",
       "      <td>[[0, 0, 0, 0, 0, 0, 0, 0, 0, 0, 0, 0, 0, 0, 0,...</td>\n",
       "      <td>1532.0</td>\n",
       "      <td>lot15072</td>\n",
       "      <td>[[Training]]</td>\n",
       "      <td>[[Scratch]]</td>\n",
       "      <td>(44, 45)</td>\n",
       "      <td>6</td>\n",
       "      <td>0</td>\n",
       "    </tr>\n",
       "    <tr>\n",
       "      <th>412421</th>\n",
       "      <td>[[0, 0, 0, 0, 0, 0, 0, 0, 0, 0, 0, 0, 0, 0, 0,...</td>\n",
       "      <td>2404.0</td>\n",
       "      <td>lot24552</td>\n",
       "      <td>[[Training]]</td>\n",
       "      <td>[[Scratch]]</td>\n",
       "      <td>(58, 53)</td>\n",
       "      <td>6</td>\n",
       "      <td>0</td>\n",
       "    </tr>\n",
       "    <tr>\n",
       "      <th>338572</th>\n",
       "      <td>[[0, 0, 0, 0, 0, 0, 0, 0, 0, 0, 0, 0, 0, 0, 0,...</td>\n",
       "      <td>3642.0</td>\n",
       "      <td>lot20362</td>\n",
       "      <td>[[Training]]</td>\n",
       "      <td>[[Scratch]]</td>\n",
       "      <td>(64, 72)</td>\n",
       "      <td>6</td>\n",
       "      <td>0</td>\n",
       "    </tr>\n",
       "    <tr>\n",
       "      <th>282600</th>\n",
       "      <td>[[0, 0, 0, 0, 0, 0, 0, 0, 0, 0, 0, 0, 0, 0, 0,...</td>\n",
       "      <td>13301.0</td>\n",
       "      <td>lot17292</td>\n",
       "      <td>[[Training]]</td>\n",
       "      <td>[[Scratch]]</td>\n",
       "      <td>(116, 146)</td>\n",
       "      <td>6</td>\n",
       "      <td>0</td>\n",
       "    </tr>\n",
       "    <tr>\n",
       "      <th>283505</th>\n",
       "      <td>[[0, 0, 0, 0, 0, 0, 0, 0, 0, 0, 0, 0, 0, 0, 0,...</td>\n",
       "      <td>2361.0</td>\n",
       "      <td>lot17331</td>\n",
       "      <td>[[Training]]</td>\n",
       "      <td>[[Scratch]]</td>\n",
       "      <td>(55, 55)</td>\n",
       "      <td>6</td>\n",
       "      <td>0</td>\n",
       "    </tr>\n",
       "  </tbody>\n",
       "</table>\n",
       "</div>"
      ],
      "text/plain": [
       "                                                 waferMap  dieSize   lotName  \\\n",
       "242060  [[0, 0, 0, 0, 0, 0, 0, 0, 0, 0, 0, 0, 0, 0, 0,...   1532.0  lot15072   \n",
       "412421  [[0, 0, 0, 0, 0, 0, 0, 0, 0, 0, 0, 0, 0, 0, 0,...   2404.0  lot24552   \n",
       "338572  [[0, 0, 0, 0, 0, 0, 0, 0, 0, 0, 0, 0, 0, 0, 0,...   3642.0  lot20362   \n",
       "282600  [[0, 0, 0, 0, 0, 0, 0, 0, 0, 0, 0, 0, 0, 0, 0,...  13301.0  lot17292   \n",
       "283505  [[0, 0, 0, 0, 0, 0, 0, 0, 0, 0, 0, 0, 0, 0, 0,...   2361.0  lot17331   \n",
       "\n",
       "       trianTestLabel  failureType waferMapDim failureNum trainTestNum  \n",
       "242060   [[Training]]  [[Scratch]]    (44, 45)          6            0  \n",
       "412421   [[Training]]  [[Scratch]]    (58, 53)          6            0  \n",
       "338572   [[Training]]  [[Scratch]]    (64, 72)          6            0  \n",
       "282600   [[Training]]  [[Scratch]]  (116, 146)          6            0  \n",
       "283505   [[Training]]  [[Scratch]]    (55, 55)          6            0  "
      ]
     },
     "execution_count": 26,
     "metadata": {},
     "output_type": "execute_result"
    }
   ],
   "source": [
    "test_wafermap.head()"
   ]
  },
  {
   "cell_type": "code",
   "execution_count": 27,
   "id": "4dafb444",
   "metadata": {
    "execution": {
     "iopub.execute_input": "2022-04-06T23:44:45.509470Z",
     "iopub.status.busy": "2022-04-06T23:44:45.509470Z",
     "iopub.status.idle": "2022-04-06T23:44:45.523744Z",
     "shell.execute_reply": "2022-04-06T23:44:45.523184Z",
     "shell.execute_reply.started": "2022-04-06T23:44:45.509470Z"
    },
    "tags": []
   },
   "outputs": [],
   "source": [
    "test_wafermap[\"waferMap_augmentation\"] = test_wafermap[\"waferMap\"].apply(lambda x: rotation_10_degree(x))\n",
    "# test_wafermap[\"waferMap_augmentation\"] = test_wafermap[\"waferMap\"].apply(lambda x: translate(x))\n",
    "# test_wafermap[\"waferMap_augmentation\"] = test_wafermap[\"waferMap\"].apply(lambda x: shearing(x))\n",
    "# test_wafermap[\"waferMap_augmentation\"] = test_wafermap[\"waferMap\"].apply(lambda x: zoom(x))"
   ]
  },
  {
   "cell_type": "code",
   "execution_count": 28,
   "id": "b7f0e523",
   "metadata": {
    "execution": {
     "iopub.execute_input": "2022-04-06T23:44:45.524245Z",
     "iopub.status.busy": "2022-04-06T23:44:45.524245Z",
     "iopub.status.idle": "2022-04-06T23:44:46.055773Z",
     "shell.execute_reply": "2022-04-06T23:44:46.054773Z",
     "shell.execute_reply.started": "2022-04-06T23:44:45.524245Z"
    },
    "tags": []
   },
   "outputs": [
    {
     "data": {
      "text/html": [
       "<div>\n",
       "<style scoped>\n",
       "    .dataframe tbody tr th:only-of-type {\n",
       "        vertical-align: middle;\n",
       "    }\n",
       "\n",
       "    .dataframe tbody tr th {\n",
       "        vertical-align: top;\n",
       "    }\n",
       "\n",
       "    .dataframe thead th {\n",
       "        text-align: right;\n",
       "    }\n",
       "</style>\n",
       "<table border=\"1\" class=\"dataframe\">\n",
       "  <thead>\n",
       "    <tr style=\"text-align: right;\">\n",
       "      <th></th>\n",
       "      <th>waferMap</th>\n",
       "      <th>dieSize</th>\n",
       "      <th>lotName</th>\n",
       "      <th>trianTestLabel</th>\n",
       "      <th>failureType</th>\n",
       "      <th>waferMapDim</th>\n",
       "      <th>failureNum</th>\n",
       "      <th>trainTestNum</th>\n",
       "      <th>waferMap_augmentation</th>\n",
       "    </tr>\n",
       "  </thead>\n",
       "  <tbody>\n",
       "    <tr>\n",
       "      <th>242060</th>\n",
       "      <td>[[0, 0, 0, 0, 0, 0, 0, 0, 0, 0, 0, 0, 0, 0, 0,...</td>\n",
       "      <td>1532.0</td>\n",
       "      <td>lot15072</td>\n",
       "      <td>[[Training]]</td>\n",
       "      <td>[[Scratch]]</td>\n",
       "      <td>(44, 45)</td>\n",
       "      <td>6</td>\n",
       "      <td>0</td>\n",
       "      <td>[[0, 0, 0, 0, 0, 0, 0, 0, 0, 0, 0, 0, 0, 0, 0,...</td>\n",
       "    </tr>\n",
       "    <tr>\n",
       "      <th>412421</th>\n",
       "      <td>[[0, 0, 0, 0, 0, 0, 0, 0, 0, 0, 0, 0, 0, 0, 0,...</td>\n",
       "      <td>2404.0</td>\n",
       "      <td>lot24552</td>\n",
       "      <td>[[Training]]</td>\n",
       "      <td>[[Scratch]]</td>\n",
       "      <td>(58, 53)</td>\n",
       "      <td>6</td>\n",
       "      <td>0</td>\n",
       "      <td>[[0, 0, 0, 0, 0, 0, 0, 0, 0, 0, 0, 0, 0, 0, 0,...</td>\n",
       "    </tr>\n",
       "    <tr>\n",
       "      <th>338572</th>\n",
       "      <td>[[0, 0, 0, 0, 0, 0, 0, 0, 0, 0, 0, 0, 0, 0, 0,...</td>\n",
       "      <td>3642.0</td>\n",
       "      <td>lot20362</td>\n",
       "      <td>[[Training]]</td>\n",
       "      <td>[[Scratch]]</td>\n",
       "      <td>(64, 72)</td>\n",
       "      <td>6</td>\n",
       "      <td>0</td>\n",
       "      <td>[[0, 0, 0, 0, 0, 0, 0, 0, 0, 0, 0, 0, 0, 0, 0,...</td>\n",
       "    </tr>\n",
       "    <tr>\n",
       "      <th>282600</th>\n",
       "      <td>[[0, 0, 0, 0, 0, 0, 0, 0, 0, 0, 0, 0, 0, 0, 0,...</td>\n",
       "      <td>13301.0</td>\n",
       "      <td>lot17292</td>\n",
       "      <td>[[Training]]</td>\n",
       "      <td>[[Scratch]]</td>\n",
       "      <td>(116, 146)</td>\n",
       "      <td>6</td>\n",
       "      <td>0</td>\n",
       "      <td>[[0, 0, 0, 0, 0, 0, 0, 0, 0, 0, 0, 0, 0, 0, 0,...</td>\n",
       "    </tr>\n",
       "    <tr>\n",
       "      <th>283505</th>\n",
       "      <td>[[0, 0, 0, 0, 0, 0, 0, 0, 0, 0, 0, 0, 0, 0, 0,...</td>\n",
       "      <td>2361.0</td>\n",
       "      <td>lot17331</td>\n",
       "      <td>[[Training]]</td>\n",
       "      <td>[[Scratch]]</td>\n",
       "      <td>(55, 55)</td>\n",
       "      <td>6</td>\n",
       "      <td>0</td>\n",
       "      <td>[[0, 0, 0, 0, 0, 0, 0, 0, 0, 0, 0, 0, 0, 0, 0,...</td>\n",
       "    </tr>\n",
       "  </tbody>\n",
       "</table>\n",
       "</div>"
      ],
      "text/plain": [
       "                                                 waferMap  dieSize   lotName  \\\n",
       "242060  [[0, 0, 0, 0, 0, 0, 0, 0, 0, 0, 0, 0, 0, 0, 0,...   1532.0  lot15072   \n",
       "412421  [[0, 0, 0, 0, 0, 0, 0, 0, 0, 0, 0, 0, 0, 0, 0,...   2404.0  lot24552   \n",
       "338572  [[0, 0, 0, 0, 0, 0, 0, 0, 0, 0, 0, 0, 0, 0, 0,...   3642.0  lot20362   \n",
       "282600  [[0, 0, 0, 0, 0, 0, 0, 0, 0, 0, 0, 0, 0, 0, 0,...  13301.0  lot17292   \n",
       "283505  [[0, 0, 0, 0, 0, 0, 0, 0, 0, 0, 0, 0, 0, 0, 0,...   2361.0  lot17331   \n",
       "\n",
       "       trianTestLabel  failureType waferMapDim failureNum trainTestNum  \\\n",
       "242060   [[Training]]  [[Scratch]]    (44, 45)          6            0   \n",
       "412421   [[Training]]  [[Scratch]]    (58, 53)          6            0   \n",
       "338572   [[Training]]  [[Scratch]]    (64, 72)          6            0   \n",
       "282600   [[Training]]  [[Scratch]]  (116, 146)          6            0   \n",
       "283505   [[Training]]  [[Scratch]]    (55, 55)          6            0   \n",
       "\n",
       "                                    waferMap_augmentation  \n",
       "242060  [[0, 0, 0, 0, 0, 0, 0, 0, 0, 0, 0, 0, 0, 0, 0,...  \n",
       "412421  [[0, 0, 0, 0, 0, 0, 0, 0, 0, 0, 0, 0, 0, 0, 0,...  \n",
       "338572  [[0, 0, 0, 0, 0, 0, 0, 0, 0, 0, 0, 0, 0, 0, 0,...  \n",
       "282600  [[0, 0, 0, 0, 0, 0, 0, 0, 0, 0, 0, 0, 0, 0, 0,...  \n",
       "283505  [[0, 0, 0, 0, 0, 0, 0, 0, 0, 0, 0, 0, 0, 0, 0,...  "
      ]
     },
     "execution_count": 28,
     "metadata": {},
     "output_type": "execute_result"
    }
   ],
   "source": [
    "test_wafermap.head()"
   ]
  },
  {
   "cell_type": "code",
   "execution_count": 29,
   "id": "6d90f958",
   "metadata": {
    "execution": {
     "iopub.execute_input": "2022-04-06T23:44:46.057009Z",
     "iopub.status.busy": "2022-04-06T23:44:46.056510Z",
     "iopub.status.idle": "2022-04-06T23:44:46.192769Z",
     "shell.execute_reply": "2022-04-06T23:44:46.192269Z",
     "shell.execute_reply.started": "2022-04-06T23:44:46.057009Z"
    },
    "tags": []
   },
   "outputs": [
    {
     "data": {
      "image/png": "[encoded data removed]",
      "text/plain": [
       "<Figure size 432x288 with 1 Axes>"
      ]
     },
     "metadata": {
      "needs_background": "light"
     },
     "output_type": "display_data"
    }
   ],
   "source": [
    "plt.imshow(test_wafermap.iloc[3][\"waferMap\"])\n",
    "plt.show()"
   ]
  },
  {
   "cell_type": "code",
   "execution_count": 30,
   "id": "e0b9e160",
   "metadata": {
    "execution": {
     "iopub.execute_input": "2022-04-06T23:44:46.193798Z",
     "iopub.status.busy": "2022-04-06T23:44:46.193798Z",
     "iopub.status.idle": "2022-04-06T23:44:46.284536Z",
     "shell.execute_reply": "2022-04-06T23:44:46.283538Z",
     "shell.execute_reply.started": "2022-04-06T23:44:46.193798Z"
    },
    "tags": []
   },
   "outputs": [
    {
     "data": {
      "image/png": "[encoded data removed]",
      "text/plain": [
       "<Figure size 432x288 with 1 Axes>"
      ]
     },
     "metadata": {
      "needs_background": "light"
     },
     "output_type": "display_data"
    }
   ],
   "source": [
    "plt.imshow(test_wafermap.iloc[3][\"waferMap_augmentation\"])\n",
    "plt.show()"
   ]
  },
  {
   "cell_type": "code",
   "execution_count": 31,
   "id": "a972ea7d",
   "metadata": {
    "execution": {
     "iopub.execute_input": "2022-04-06T23:44:46.285568Z",
     "iopub.status.busy": "2022-04-06T23:44:46.284536Z",
     "iopub.status.idle": "2022-04-06T23:44:46.818427Z",
     "shell.execute_reply": "2022-04-06T23:44:46.817924Z",
     "shell.execute_reply.started": "2022-04-06T23:44:46.285568Z"
    },
    "tags": []
   },
   "outputs": [
    {
     "data": {
      "text/html": [
       "<div>\n",
       "<style scoped>\n",
       "    .dataframe tbody tr th:only-of-type {\n",
       "        vertical-align: middle;\n",
       "    }\n",
       "\n",
       "    .dataframe tbody tr th {\n",
       "        vertical-align: top;\n",
       "    }\n",
       "\n",
       "    .dataframe thead th {\n",
       "        text-align: right;\n",
       "    }\n",
       "</style>\n",
       "<table border=\"1\" class=\"dataframe\">\n",
       "  <thead>\n",
       "    <tr style=\"text-align: right;\">\n",
       "      <th></th>\n",
       "      <th>waferMap</th>\n",
       "      <th>dieSize</th>\n",
       "      <th>lotName</th>\n",
       "      <th>trianTestLabel</th>\n",
       "      <th>failureType</th>\n",
       "      <th>waferMapDim</th>\n",
       "      <th>failureNum</th>\n",
       "      <th>trainTestNum</th>\n",
       "      <th>waferMap_augmentation</th>\n",
       "      <th>waferMap_augmentation_Dim</th>\n",
       "    </tr>\n",
       "  </thead>\n",
       "  <tbody>\n",
       "    <tr>\n",
       "      <th>242060</th>\n",
       "      <td>[[0, 0, 0, 0, 0, 0, 0, 0, 0, 0, 0, 0, 0, 0, 0,...</td>\n",
       "      <td>1532.0</td>\n",
       "      <td>lot15072</td>\n",
       "      <td>[[Training]]</td>\n",
       "      <td>[[Scratch]]</td>\n",
       "      <td>(44, 45)</td>\n",
       "      <td>6</td>\n",
       "      <td>0</td>\n",
       "      <td>[[0, 0, 0, 0, 0, 0, 0, 0, 0, 0, 0, 0, 0, 0, 0,...</td>\n",
       "      <td>(44, 45)</td>\n",
       "    </tr>\n",
       "    <tr>\n",
       "      <th>412421</th>\n",
       "      <td>[[0, 0, 0, 0, 0, 0, 0, 0, 0, 0, 0, 0, 0, 0, 0,...</td>\n",
       "      <td>2404.0</td>\n",
       "      <td>lot24552</td>\n",
       "      <td>[[Training]]</td>\n",
       "      <td>[[Scratch]]</td>\n",
       "      <td>(58, 53)</td>\n",
       "      <td>6</td>\n",
       "      <td>0</td>\n",
       "      <td>[[0, 0, 0, 0, 0, 0, 0, 0, 0, 0, 0, 0, 0, 0, 0,...</td>\n",
       "      <td>(58, 53)</td>\n",
       "    </tr>\n",
       "    <tr>\n",
       "      <th>338572</th>\n",
       "      <td>[[0, 0, 0, 0, 0, 0, 0, 0, 0, 0, 0, 0, 0, 0, 0,...</td>\n",
       "      <td>3642.0</td>\n",
       "      <td>lot20362</td>\n",
       "      <td>[[Training]]</td>\n",
       "      <td>[[Scratch]]</td>\n",
       "      <td>(64, 72)</td>\n",
       "      <td>6</td>\n",
       "      <td>0</td>\n",
       "      <td>[[0, 0, 0, 0, 0, 0, 0, 0, 0, 0, 0, 0, 0, 0, 0,...</td>\n",
       "      <td>(64, 72)</td>\n",
       "    </tr>\n",
       "    <tr>\n",
       "      <th>282600</th>\n",
       "      <td>[[0, 0, 0, 0, 0, 0, 0, 0, 0, 0, 0, 0, 0, 0, 0,...</td>\n",
       "      <td>13301.0</td>\n",
       "      <td>lot17292</td>\n",
       "      <td>[[Training]]</td>\n",
       "      <td>[[Scratch]]</td>\n",
       "      <td>(116, 146)</td>\n",
       "      <td>6</td>\n",
       "      <td>0</td>\n",
       "      <td>[[0, 0, 0, 0, 0, 0, 0, 0, 0, 0, 0, 0, 0, 0, 0,...</td>\n",
       "      <td>(116, 146)</td>\n",
       "    </tr>\n",
       "    <tr>\n",
       "      <th>283505</th>\n",
       "      <td>[[0, 0, 0, 0, 0, 0, 0, 0, 0, 0, 0, 0, 0, 0, 0,...</td>\n",
       "      <td>2361.0</td>\n",
       "      <td>lot17331</td>\n",
       "      <td>[[Training]]</td>\n",
       "      <td>[[Scratch]]</td>\n",
       "      <td>(55, 55)</td>\n",
       "      <td>6</td>\n",
       "      <td>0</td>\n",
       "      <td>[[0, 0, 0, 0, 0, 0, 0, 0, 0, 0, 0, 0, 0, 0, 0,...</td>\n",
       "      <td>(55, 55)</td>\n",
       "    </tr>\n",
       "  </tbody>\n",
       "</table>\n",
       "</div>"
      ],
      "text/plain": [
       "                                                 waferMap  dieSize   lotName  \\\n",
       "242060  [[0, 0, 0, 0, 0, 0, 0, 0, 0, 0, 0, 0, 0, 0, 0,...   1532.0  lot15072   \n",
       "412421  [[0, 0, 0, 0, 0, 0, 0, 0, 0, 0, 0, 0, 0, 0, 0,...   2404.0  lot24552   \n",
       "338572  [[0, 0, 0, 0, 0, 0, 0, 0, 0, 0, 0, 0, 0, 0, 0,...   3642.0  lot20362   \n",
       "282600  [[0, 0, 0, 0, 0, 0, 0, 0, 0, 0, 0, 0, 0, 0, 0,...  13301.0  lot17292   \n",
       "283505  [[0, 0, 0, 0, 0, 0, 0, 0, 0, 0, 0, 0, 0, 0, 0,...   2361.0  lot17331   \n",
       "\n",
       "       trianTestLabel  failureType waferMapDim failureNum trainTestNum  \\\n",
       "242060   [[Training]]  [[Scratch]]    (44, 45)          6            0   \n",
       "412421   [[Training]]  [[Scratch]]    (58, 53)          6            0   \n",
       "338572   [[Training]]  [[Scratch]]    (64, 72)          6            0   \n",
       "282600   [[Training]]  [[Scratch]]  (116, 146)          6            0   \n",
       "283505   [[Training]]  [[Scratch]]    (55, 55)          6            0   \n",
       "\n",
       "                                    waferMap_augmentation  \\\n",
       "242060  [[0, 0, 0, 0, 0, 0, 0, 0, 0, 0, 0, 0, 0, 0, 0,...   \n",
       "412421  [[0, 0, 0, 0, 0, 0, 0, 0, 0, 0, 0, 0, 0, 0, 0,...   \n",
       "338572  [[0, 0, 0, 0, 0, 0, 0, 0, 0, 0, 0, 0, 0, 0, 0,...   \n",
       "282600  [[0, 0, 0, 0, 0, 0, 0, 0, 0, 0, 0, 0, 0, 0, 0,...   \n",
       "283505  [[0, 0, 0, 0, 0, 0, 0, 0, 0, 0, 0, 0, 0, 0, 0,...   \n",
       "\n",
       "       waferMap_augmentation_Dim  \n",
       "242060                  (44, 45)  \n",
       "412421                  (58, 53)  \n",
       "338572                  (64, 72)  \n",
       "282600                (116, 146)  \n",
       "283505                  (55, 55)  "
      ]
     },
     "execution_count": 31,
     "metadata": {},
     "output_type": "execute_result"
    }
   ],
   "source": [
    "# augmentated data dim\n",
    "test_wafermap['waferMap_augmentation_Dim']=test_wafermap['waferMap_augmentation'].apply(find_dim)\n",
    "test_wafermap.head()"
   ]
  },
  {
   "cell_type": "markdown",
   "id": "f5c93b04",
   "metadata": {},
   "source": [
    "### Input size에 맞게 zero-padding\n",
    "- 참고 : https://webnautes.tistory.com/1652"
   ]
  },
  {
   "cell_type": "code",
   "execution_count": 32,
   "id": "27698d3b",
   "metadata": {
    "execution": {
     "iopub.execute_input": "2022-04-06T23:44:46.819447Z",
     "iopub.status.busy": "2022-04-06T23:44:46.819447Z",
     "iopub.status.idle": "2022-04-06T23:44:46.834950Z",
     "shell.execute_reply": "2022-04-06T23:44:46.833348Z",
     "shell.execute_reply.started": "2022-04-06T23:44:46.819447Z"
    },
    "tags": []
   },
   "outputs": [],
   "source": [
    "def zero_padding(data_img, set_size):\n",
    "    height, width = data_img.shape\n",
    "    \n",
    "    if max(height, width) > set_size:\n",
    "        return data_img\n",
    "    \n",
    "    delta_width = set_size - width\n",
    "    delta_height = set_size - height\n",
    "    top, bottom = delta_height//2, delta_height-(delta_height//2)\n",
    "    left, right = delta_width//2, delta_width-(delta_width//2)\n",
    "    \n",
    "    padded_img = cv2.copyMakeBorder(data_img, top, bottom, left, right, cv2.BORDER_CONSTANT, value=[0,0,0])\n",
    "    return padded_img"
   ]
  },
  {
   "cell_type": "code",
   "execution_count": 33,
   "id": "4308743b",
   "metadata": {
    "execution": {
     "iopub.execute_input": "2022-04-06T23:44:46.836194Z",
     "iopub.status.busy": "2022-04-06T23:44:46.835695Z",
     "iopub.status.idle": "2022-04-06T23:44:46.926882Z",
     "shell.execute_reply": "2022-04-06T23:44:46.926382Z",
     "shell.execute_reply.started": "2022-04-06T23:44:46.836194Z"
    },
    "tags": []
   },
   "outputs": [
    {
     "data": {
      "image/png": "[encoded data removed]",
      "text/plain": [
       "<Figure size 432x288 with 1 Axes>"
      ]
     },
     "metadata": {
      "needs_background": "light"
     },
     "output_type": "display_data"
    }
   ],
   "source": [
    "plt.imshow(test_wafermap.iloc[3][\"waferMap\"])\n",
    "plt.show()"
   ]
  },
  {
   "cell_type": "code",
   "execution_count": 34,
   "id": "5d717bae",
   "metadata": {
    "execution": {
     "iopub.execute_input": "2022-04-06T23:44:46.928158Z",
     "iopub.status.busy": "2022-04-06T23:44:46.927658Z",
     "iopub.status.idle": "2022-04-06T23:44:46.941926Z",
     "shell.execute_reply": "2022-04-06T23:44:46.941193Z",
     "shell.execute_reply.started": "2022-04-06T23:44:46.928158Z"
    },
    "tags": []
   },
   "outputs": [
    {
     "data": {
      "text/plain": [
       "(224, 224)"
      ]
     },
     "execution_count": 34,
     "metadata": {},
     "output_type": "execute_result"
    }
   ],
   "source": [
    "pad_test = zero_padding(test_wafermap.iloc[3][\"waferMap\"], 224)\n",
    "pad_test.shape"
   ]
  },
  {
   "cell_type": "code",
   "execution_count": 35,
   "id": "b5c837db",
   "metadata": {
    "execution": {
     "iopub.execute_input": "2022-04-06T23:44:46.943060Z",
     "iopub.status.busy": "2022-04-06T23:44:46.943060Z",
     "iopub.status.idle": "2022-04-06T23:44:47.063467Z",
     "shell.execute_reply": "2022-04-06T23:44:47.062984Z",
     "shell.execute_reply.started": "2022-04-06T23:44:46.943060Z"
    },
    "tags": []
   },
   "outputs": [
    {
     "data": {
      "image/png": "[encoded data removed]",
      "text/plain": [
       "<Figure size 432x288 with 1 Axes>"
      ]
     },
     "metadata": {
      "needs_background": "light"
     },
     "output_type": "display_data"
    }
   ],
   "source": [
    "plt.imshow(pad_test)\n",
    "plt.show()"
   ]
  },
  {
   "cell_type": "markdown",
   "id": "b0a3ba91",
   "metadata": {},
   "source": [
    "### pad 이후 전처리 / 전처리 이후 pad 비교"
   ]
  },
  {
   "cell_type": "code",
   "execution_count": 66,
   "id": "634473b5",
   "metadata": {
    "execution": {
     "iopub.execute_input": "2022-04-07T01:24:43.576810Z",
     "iopub.status.busy": "2022-04-07T01:24:43.576810Z",
     "iopub.status.idle": "2022-04-07T01:24:43.676924Z",
     "shell.execute_reply": "2022-04-07T01:24:43.676424Z",
     "shell.execute_reply.started": "2022-04-07T01:24:43.576810Z"
    },
    "tags": []
   },
   "outputs": [
    {
     "data": {
      "image/png": "[encoded data removed]",
      "text/plain": [
       "<Figure size 432x288 with 1 Axes>"
      ]
     },
     "metadata": {
      "needs_background": "light"
     },
     "output_type": "display_data"
    }
   ],
   "source": [
    "# 원본\n",
    "test_origin = test_wafermap.iloc[2][\"waferMap\"]\n",
    "plt.imshow(test_origin)\n",
    "plt.show()"
   ]
  },
  {
   "cell_type": "code",
   "execution_count": 67,
   "id": "04c40b57",
   "metadata": {
    "execution": {
     "iopub.execute_input": "2022-04-07T01:24:55.834613Z",
     "iopub.status.busy": "2022-04-07T01:24:55.834358Z",
     "iopub.status.idle": "2022-04-07T01:24:55.933629Z",
     "shell.execute_reply": "2022-04-07T01:24:55.933219Z",
     "shell.execute_reply.started": "2022-04-07T01:24:55.834613Z"
    },
    "tags": []
   },
   "outputs": [
    {
     "data": {
      "image/png": "[encoded data removed]",
      "text/plain": [
       "<Figure size 432x288 with 1 Axes>"
      ]
     },
     "metadata": {
      "needs_background": "light"
     },
     "output_type": "display_data"
    }
   ],
   "source": [
    "pad_origin = zero_padding(test_origin, 224)\n",
    "plt.imshow(pad_origin)\n",
    "plt.show()"
   ]
  },
  {
   "cell_type": "markdown",
   "id": "974e8b9c",
   "metadata": {},
   "source": [
    "- 회전의 경우 pad 이후 회전과 회전 이후 pad 가 비슷해보밍"
   ]
  },
  {
   "cell_type": "code",
   "execution_count": 76,
   "id": "4103c457",
   "metadata": {
    "execution": {
     "iopub.execute_input": "2022-04-07T01:35:33.432746Z",
     "iopub.status.busy": "2022-04-07T01:35:33.432746Z",
     "iopub.status.idle": "2022-04-07T01:35:33.715257Z",
     "shell.execute_reply": "2022-04-07T01:35:33.714758Z",
     "shell.execute_reply.started": "2022-04-07T01:35:33.432746Z"
    },
    "tags": []
   },
   "outputs": [
    {
     "data": {
      "image/png": "[encoded data removed]",
      "text/plain": [
       "<Figure size 432x288 with 1 Axes>"
      ]
     },
     "metadata": {
      "needs_background": "light"
     },
     "output_type": "display_data"
    },
    {
     "data": {
      "image/png": "[encoded data removed]",
      "text/plain": [
       "<Figure size 432x288 with 1 Axes>"
      ]
     },
     "metadata": {
      "needs_background": "light"
     },
     "output_type": "display_data"
    },
    {
     "data": {
      "image/png": "[encoded data removed]",
      "text/plain": [
       "<Figure size 432x288 with 1 Axes>"
      ]
     },
     "metadata": {
      "needs_background": "light"
     },
     "output_type": "display_data"
    }
   ],
   "source": [
    "# 10도 회전\n",
    "degree_10 = test_wafermap.iloc[2][\"waferMap_augmentation\"]\n",
    "plt.imshow(degree_10)\n",
    "plt.show()\n",
    "\n",
    "pad_10_degree = zero_padding(degree_10, 224)\n",
    "plt.imshow(pad_10_degree)\n",
    "plt.show()\n",
    "\n",
    "degree_10_pad_origin = rotation_10_degree(pad_origin)\n",
    "plt.imshow(degree_10_pad_origin)\n",
    "plt.show()"
   ]
  },
  {
   "cell_type": "markdown",
   "id": "999656d2",
   "metadata": {},
   "source": [
    "- 평행이동 : 이동 이후 wafer 모양이 잘리는 경우를 감안하면 pad 이후 이동하는 것이 나아보임"
   ]
  },
  {
   "cell_type": "code",
   "execution_count": 77,
   "id": "46321140",
   "metadata": {
    "execution": {
     "iopub.execute_input": "2022-04-07T01:35:52.942300Z",
     "iopub.status.busy": "2022-04-07T01:35:52.942300Z",
     "iopub.status.idle": "2022-04-07T01:35:53.282743Z",
     "shell.execute_reply": "2022-04-07T01:35:53.282242Z",
     "shell.execute_reply.started": "2022-04-07T01:35:52.942300Z"
    },
    "tags": []
   },
   "outputs": [
    {
     "data": {
      "image/png": "[encoded data removed]",
      "text/plain": [
       "<Figure size 432x288 with 1 Axes>"
      ]
     },
     "metadata": {
      "needs_background": "light"
     },
     "output_type": "display_data"
    },
    {
     "data": {
      "image/png": "[encoded data removed]",
      "text/plain": [
       "<Figure size 432x288 with 1 Axes>"
      ]
     },
     "metadata": {
      "needs_background": "light"
     },
     "output_type": "display_data"
    },
    {
     "data": {
      "image/png": "[encoded data removed]",
      "text/plain": [
       "<Figure size 432x288 with 1 Axes>"
      ]
     },
     "metadata": {
      "needs_background": "light"
     },
     "output_type": "display_data"
    }
   ],
   "source": [
    "translated =  translate(test_origin)\n",
    "plt.imshow(translated)\n",
    "plt.show()\n",
    "\n",
    "pad_translated = zero_padding(translated, 224)\n",
    "plt.imshow(pad_translated)\n",
    "plt.show()\n",
    "\n",
    "translate_pad_origin = translate(pad_origin)\n",
    "plt.imshow(translate_pad_origin)\n",
    "plt.show()"
   ]
  },
  {
   "cell_type": "code",
   "execution_count": 73,
   "id": "5503b845",
   "metadata": {
    "execution": {
     "iopub.execute_input": "2022-04-07T01:29:18.477893Z",
     "iopub.status.busy": "2022-04-07T01:29:18.477557Z",
     "iopub.status.idle": "2022-04-07T01:29:18.488950Z",
     "shell.execute_reply": "2022-04-07T01:29:18.488398Z",
     "shell.execute_reply.started": "2022-04-07T01:29:18.477893Z"
    },
    "tags": []
   },
   "outputs": [
    {
     "data": {
      "text/plain": [
       "(224, 224)"
      ]
     },
     "execution_count": 73,
     "metadata": {},
     "output_type": "execute_result"
    }
   ],
   "source": [
    "translate_pad_origin.shape"
   ]
  },
  {
   "cell_type": "markdown",
   "id": "217a8e4d",
   "metadata": {},
   "source": [
    "- shearing : 잘리지 않을 범위 내에서 shearing 이후 pad 하는 것이 나을 듯\n",
    "    - shearing 정도에 따라 translate와 마찬가지로 wafer 모양이 잘릴 가능성이 있음\n",
    "    - pad 이후 shearing 시 shape이 변함"
   ]
  },
  {
   "cell_type": "code",
   "execution_count": 74,
   "id": "7afdfde8",
   "metadata": {
    "execution": {
     "iopub.execute_input": "2022-04-07T01:31:53.447618Z",
     "iopub.status.busy": "2022-04-07T01:31:53.447086Z",
     "iopub.status.idle": "2022-04-07T01:31:53.722795Z",
     "shell.execute_reply": "2022-04-07T01:31:53.722265Z",
     "shell.execute_reply.started": "2022-04-07T01:31:53.447618Z"
    },
    "tags": []
   },
   "outputs": [
    {
     "data": {
      "image/png": "[encoded data removed]",
      "text/plain": [
       "<Figure size 432x288 with 1 Axes>"
      ]
     },
     "metadata": {
      "needs_background": "light"
     },
     "output_type": "display_data"
    },
    {
     "data": {
      "image/png": "[encoded data removed]",
      "text/plain": [
       "<Figure size 432x288 with 1 Axes>"
      ]
     },
     "metadata": {
      "needs_background": "light"
     },
     "output_type": "display_data"
    },
    {
     "data": {
      "image/png": "[encoded data removed]",
      "text/plain": [
       "<Figure size 432x288 with 1 Axes>"
      ]
     },
     "metadata": {
      "needs_background": "light"
     },
     "output_type": "display_data"
    }
   ],
   "source": [
    "sheared = shearing(test_origin)\n",
    "plt.imshow(sheared)\n",
    "plt.show()\n",
    "\n",
    "pad_sheared = zero_padding(sheared, 224)\n",
    "plt.imshow(pad_sheared)\n",
    "plt.show()\n",
    "\n",
    "sheared_pad_origin = shearing(pad_origin)\n",
    "plt.imshow(sheared_pad_origin)\n",
    "plt.show()"
   ]
  },
  {
   "cell_type": "code",
   "execution_count": 78,
   "id": "b0087231",
   "metadata": {
    "execution": {
     "iopub.execute_input": "2022-04-07T01:36:23.987939Z",
     "iopub.status.busy": "2022-04-07T01:36:23.987939Z",
     "iopub.status.idle": "2022-04-07T01:36:24.006005Z",
     "shell.execute_reply": "2022-04-07T01:36:24.004998Z",
     "shell.execute_reply.started": "2022-04-07T01:36:23.987939Z"
    },
    "tags": []
   },
   "outputs": [
    {
     "data": {
      "text/plain": [
       "(336, 336)"
      ]
     },
     "execution_count": 78,
     "metadata": {},
     "output_type": "execute_result"
    }
   ],
   "source": [
    "sheared_pad_origin.shape"
   ]
  },
  {
   "cell_type": "markdown",
   "id": "093b545d",
   "metadata": {},
   "source": [
    "- zooming : pad 이후 zoom할 경우 448x448 사이즈 이미지가 생성되므로 zoom 이후 pad 적용"
   ]
  },
  {
   "cell_type": "code",
   "execution_count": 75,
   "id": "aeb2ed9d",
   "metadata": {
    "execution": {
     "iopub.execute_input": "2022-04-07T01:33:48.623062Z",
     "iopub.status.busy": "2022-04-07T01:33:48.623062Z",
     "iopub.status.idle": "2022-04-07T01:33:48.909157Z",
     "shell.execute_reply": "2022-04-07T01:33:48.908654Z",
     "shell.execute_reply.started": "2022-04-07T01:33:48.623062Z"
    },
    "tags": []
   },
   "outputs": [
    {
     "data": {
      "image/png": "[encoded data removed]",
      "text/plain": [
       "<Figure size 432x288 with 1 Axes>"
      ]
     },
     "metadata": {
      "needs_background": "light"
     },
     "output_type": "display_data"
    },
    {
     "data": {
      "image/png": "[encoded data removed]",
      "text/plain": [
       "<Figure size 432x288 with 1 Axes>"
      ]
     },
     "metadata": {
      "needs_background": "light"
     },
     "output_type": "display_data"
    },
    {
     "data": {
      "image/png": "[encoded data removed]",
      "text/plain": [
       "<Figure size 432x288 with 1 Axes>"
      ]
     },
     "metadata": {
      "needs_background": "light"
     },
     "output_type": "display_data"
    }
   ],
   "source": [
    "zoomed = zoom(test_origin)\n",
    "plt.imshow(zoomed)\n",
    "plt.show()\n",
    "\n",
    "pad_zoomed = zero_padding(zoomed, 224)\n",
    "plt.imshow(pad_zoomed)\n",
    "plt.show()\n",
    "\n",
    "zoom_pad_origin = zoom(pad_origin)\n",
    "plt.imshow(zoom_pad_origin)\n",
    "plt.show()"
   ]
  },
  {
   "cell_type": "markdown",
   "id": "7cac3e23",
   "metadata": {},
   "source": [
    "### augmentaion 함수별 random 요소 테스트\n",
    "- random 요소 적용 시 augmentaion 함수에 조건 넣어서 224x224 사이즈 넘어가면 원본 데이터에 padding만 적용하도록 코딩\n",
    "- padding만 적용하되 동일 데이터가 중복으로 들어가지 않도록 체크"
   ]
  },
  {
   "cell_type": "code",
   "execution_count": null,
   "id": "c7c9124f",
   "metadata": {},
   "outputs": [],
   "source": [
    "def rotation_10_degree(data_img):\n",
    "    height, width = data_img.shape\n",
    "    # positive for anti-clockwise and negative for clockwise\n",
    "    rotation_10_degree_img = cv2.getRotationMatrix2D((width/2, height/2), 10, 1) # 중심점, 각도, 배율\n",
    "    dst = cv2.warpAffine(data_img, rotation_10_degree_img, (width,height))\n",
    "    return dst"
   ]
  },
  {
   "cell_type": "code",
   "execution_count": null,
   "id": "5b264a22",
   "metadata": {},
   "outputs": [],
   "source": [
    "def rotation_minus_10_degree(data_img):\n",
    "    height, width = data_img.shape\n",
    "    # positive for anti-clockwise and negative for clockwise\n",
    "    rotation_10_degree_img = cv2.getRotationMatrix2D((width/2, height/2), -10, 1) # 중심점, 각도, 배율\n",
    "    dst = cv2.warpAffine(data_img, rotation_10_degree_img, (width,height))\n",
    "    return dst"
   ]
  },
  {
   "cell_type": "code",
   "execution_count": null,
   "id": "b04586b9",
   "metadata": {},
   "outputs": [],
   "source": [
    "def translate(data_img):\n",
    "    height, width = data_img.shape\n",
    "    # random ~ 범위 지정하여 함수 실행 시 마다 무작위로 평행이동 정도 부여하게끔 수정 필요\n",
    "    # 224x224 size 안에서 이동하도록 코딩 필요\n",
    "    translate_matrix = np.float32([[1,0,10], [0,1,5]]) # 세로 10, 가로 5 만큼 평행 이동 \n",
    "    dst = cv2.warpAffine(data_img, translate_matrix, (width,height))\n",
    "    return dst"
   ]
  },
  {
   "cell_type": "code",
   "execution_count": null,
   "id": "3dc735e5",
   "metadata": {},
   "outputs": [],
   "source": [
    "def shearing(data_img):\n",
    "    height, width = data_img.shape\n",
    "    # random ~ 범위 지정하여 함수 실행 시 마다 x축, y축 shearing 정도 부여하게끔 수정 필요\n",
    "    shearing_matrix = np.float32([[1, 0.5, 0],    # shearing applied to y-axis\n",
    "             \t                  [0, 1  , 0],    # M = np.float32([[1,   0, 0],\n",
    "            \t                  [0, 0  , 1]])   #             \t[0.5, 1, 0],\n",
    "                                                  #             \t[0,   0, 1]])  \n",
    "    # apply a perspective transformation to the image                \n",
    "    dst = cv2.warpPerspective(data_img, shearing_matrix, (int(width*1.5),int(height*1.5)))                      \n",
    "    # 변형 이미지 중심 보정?\n",
    "    return dst"
   ]
  },
  {
   "cell_type": "code",
   "execution_count": null,
   "id": "49491fbc",
   "metadata": {},
   "outputs": [],
   "source": [
    "# cv2.resize 함수 도입 체크\n",
    "def zoom(data_img):\n",
    "    height, width = data_img.shape\n",
    "    # 2배 확대 이미지 / 가로 세로 값이 조건에 맞으면 dstsize로 값 부여하여 세밀 조정 가능\n",
    "    # 224x224 size 안에서 2배 확대 가능하도록 코딩 필요\n",
    "    dst = cv2.pyrUp(data_img, dstsize=(width * 2, height * 2), borderType=cv2.BORDER_DEFAULT)\n",
    "    return dst"
   ]
  },
  {
   "cell_type": "markdown",
   "id": "14e66b77",
   "metadata": {},
   "source": [
    "### wm811k_new_train_class_XXX 만들어서 concat하기\n",
    "- CNN-WDI input shape 244x244에 맞게 zero-padding 줘야함"
   ]
  },
  {
   "cell_type": "code",
   "execution_count": 37,
   "id": "d16269b5",
   "metadata": {
    "execution": {
     "iopub.execute_input": "2022-04-06T23:44:47.079771Z",
     "iopub.status.busy": "2022-04-06T23:44:47.079771Z",
     "iopub.status.idle": "2022-04-06T23:44:47.124889Z",
     "shell.execute_reply": "2022-04-06T23:44:47.123887Z",
     "shell.execute_reply.started": "2022-04-06T23:44:47.079771Z"
    },
    "tags": []
   },
   "outputs": [
    {
     "name": "stdout",
     "output_type": "stream",
     "text": [
      "<class 'pandas.core.frame.DataFrame'>\n",
      "Int64Index: 10000 entries, 749336 to 244652\n",
      "Data columns (total 8 columns):\n",
      " #   Column          Non-Null Count  Dtype  \n",
      "---  ------          --------------  -----  \n",
      " 0   waferMap        10000 non-null  object \n",
      " 1   dieSize         10000 non-null  float64\n",
      " 2   lotName         10000 non-null  object \n",
      " 3   trianTestLabel  10000 non-null  object \n",
      " 4   failureType     10000 non-null  object \n",
      " 5   waferMapDim     10000 non-null  object \n",
      " 6   failureNum      10000 non-null  object \n",
      " 7   trainTestNum    10000 non-null  object \n",
      "dtypes: float64(1), object(7)\n",
      "memory usage: 703.1+ KB\n"
     ]
    }
   ],
   "source": [
    "# None type class 10,000개 sampling\n",
    "# 참고 : https://rfriend.tistory.com/602\n",
    "wm811k_new_train_class_None = wm811k_train.query(\"failureNum == 8\").sample(n=10000, random_state=2022)\n",
    "wm811k_new_train_class_None.info()"
   ]
  },
  {
   "cell_type": "code",
   "execution_count": 38,
   "id": "2e6745cd",
   "metadata": {
    "execution": {
     "iopub.execute_input": "2022-04-06T23:44:47.125910Z",
     "iopub.status.busy": "2022-04-06T23:44:47.125910Z",
     "iopub.status.idle": "2022-04-06T23:44:47.140188Z",
     "shell.execute_reply": "2022-04-06T23:44:47.139189Z",
     "shell.execute_reply.started": "2022-04-06T23:44:47.125910Z"
    },
    "tags": []
   },
   "outputs": [],
   "source": [
    "# Edge-Ring(3) 현 보유 8,554개 / 1,446개 augmentation 필요\n",
    "# +10도 회전 : 10% - 144개\n",
    "# -10도 회전 : 10% - 144개\n",
    "# 좌우 대칭 : 20%  - 288개\n",
    "# 너비 이동 : 20% - 288개\n",
    "# 높이 이동: 20% - 288개\n",
    "# 전단 범위(shearing range) : 10% - 144개\n",
    "# 확대 : 10% - 150개"
   ]
  },
  {
   "cell_type": "code",
   "execution_count": 39,
   "id": "889ce131",
   "metadata": {
    "execution": {
     "iopub.execute_input": "2022-04-06T23:44:47.143442Z",
     "iopub.status.busy": "2022-04-06T23:44:47.143442Z",
     "iopub.status.idle": "2022-04-06T23:44:47.170173Z",
     "shell.execute_reply": "2022-04-06T23:44:47.169594Z",
     "shell.execute_reply.started": "2022-04-06T23:44:47.143442Z"
    }
   },
   "outputs": [
    {
     "name": "stdout",
     "output_type": "stream",
     "text": [
      "<class 'pandas.core.frame.DataFrame'>\n",
      "Int64Index: 8554 entries, 100 to 786313\n",
      "Data columns (total 8 columns):\n",
      " #   Column          Non-Null Count  Dtype  \n",
      "---  ------          --------------  -----  \n",
      " 0   waferMap        8554 non-null   object \n",
      " 1   dieSize         8554 non-null   float64\n",
      " 2   lotName         8554 non-null   object \n",
      " 3   trianTestLabel  8554 non-null   object \n",
      " 4   failureType     8554 non-null   object \n",
      " 5   waferMapDim     8554 non-null   object \n",
      " 6   failureNum      8554 non-null   object \n",
      " 7   trainTestNum    8554 non-null   object \n",
      "dtypes: float64(1), object(7)\n",
      "memory usage: 601.5+ KB\n"
     ]
    }
   ],
   "source": [
    "wm811k_new_train_class_Edge_Ring = wm811k_train.query(\"failureNum == 3\")\n",
    "wm811k_new_train_class_Edge_Ring.info()"
   ]
  },
  {
   "cell_type": "code",
   "execution_count": 40,
   "id": "433a4093",
   "metadata": {
    "execution": {
     "iopub.execute_input": "2022-04-06T23:44:47.171787Z",
     "iopub.status.busy": "2022-04-06T23:44:47.171488Z",
     "iopub.status.idle": "2022-04-06T23:44:47.184676Z",
     "shell.execute_reply": "2022-04-06T23:44:47.184676Z",
     "shell.execute_reply.started": "2022-04-06T23:44:47.171787Z"
    }
   },
   "outputs": [],
   "source": [
    "# Center(0) 현 보유 3,462개 / 6,538개 augmentation 필요\n",
    "# +10도 회전 : 10% - 654개\n",
    "# -10도 회전 : 10% - 654개\n",
    "# 좌우 대칭 : 20%  - 1308개\n",
    "# 너비 이동 : 20%  - 1308개\n",
    "# 높이 이동: 20%   - 1308개\n",
    "# 전단 범위(shearing range) : 10% - 652개\n",
    "# 확대 : 10% - 654개"
   ]
  },
  {
   "cell_type": "code",
   "execution_count": 41,
   "id": "376e5bb3",
   "metadata": {
    "execution": {
     "iopub.execute_input": "2022-04-06T23:44:47.187134Z",
     "iopub.status.busy": "2022-04-06T23:44:47.186136Z",
     "iopub.status.idle": "2022-04-06T23:44:47.215913Z",
     "shell.execute_reply": "2022-04-06T23:44:47.214914Z",
     "shell.execute_reply.started": "2022-04-06T23:44:47.187134Z"
    }
   },
   "outputs": [
    {
     "name": "stdout",
     "output_type": "stream",
     "text": [
      "<class 'pandas.core.frame.DataFrame'>\n",
      "Int64Index: 3462 entries, 44 to 785245\n",
      "Data columns (total 8 columns):\n",
      " #   Column          Non-Null Count  Dtype  \n",
      "---  ------          --------------  -----  \n",
      " 0   waferMap        3462 non-null   object \n",
      " 1   dieSize         3462 non-null   float64\n",
      " 2   lotName         3462 non-null   object \n",
      " 3   trianTestLabel  3462 non-null   object \n",
      " 4   failureType     3462 non-null   object \n",
      " 5   waferMapDim     3462 non-null   object \n",
      " 6   failureNum      3462 non-null   object \n",
      " 7   trainTestNum    3462 non-null   object \n",
      "dtypes: float64(1), object(7)\n",
      "memory usage: 243.4+ KB\n"
     ]
    }
   ],
   "source": [
    "wm811k_new_train_class_Center = wm811k_train.query(\"failureNum == 0\")\n",
    "wm811k_new_train_class_Center.info()"
   ]
  },
  {
   "cell_type": "code",
   "execution_count": 42,
   "id": "fb67b066",
   "metadata": {
    "execution": {
     "iopub.execute_input": "2022-04-06T23:44:47.217335Z",
     "iopub.status.busy": "2022-04-06T23:44:47.216913Z",
     "iopub.status.idle": "2022-04-06T23:44:47.233782Z",
     "shell.execute_reply": "2022-04-06T23:44:47.230111Z",
     "shell.execute_reply.started": "2022-04-06T23:44:47.217335Z"
    }
   },
   "outputs": [],
   "source": [
    "# Edge-Loc(2) 현 보유 2,417개 / 7,583개 augmentation 필요\n",
    "# +10도 회전 : 10% - 758개\n",
    "# -10도 회전 : 10% - 758개\n",
    "# 좌우 대칭 : 20% - 1517개\n",
    "# 너비 이동 : 20% - 1517개\n",
    "# 높이 이동: 20%  - 1517개\n",
    "# 전단 범위(shearing range) : 10% - 758개\n",
    "# 확대 : 10% - 758개"
   ]
  },
  {
   "cell_type": "code",
   "execution_count": 43,
   "id": "4d0b9d7c",
   "metadata": {
    "execution": {
     "iopub.execute_input": "2022-04-06T23:44:47.235350Z",
     "iopub.status.busy": "2022-04-06T23:44:47.234781Z",
     "iopub.status.idle": "2022-04-06T23:44:47.275628Z",
     "shell.execute_reply": "2022-04-06T23:44:47.274944Z",
     "shell.execute_reply.started": "2022-04-06T23:44:47.235350Z"
    }
   },
   "outputs": [
    {
     "name": "stdout",
     "output_type": "stream",
     "text": [
      "<class 'pandas.core.frame.DataFrame'>\n",
      "Int64Index: 2417 entries, 36 to 791230\n",
      "Data columns (total 8 columns):\n",
      " #   Column          Non-Null Count  Dtype  \n",
      "---  ------          --------------  -----  \n",
      " 0   waferMap        2417 non-null   object \n",
      " 1   dieSize         2417 non-null   float64\n",
      " 2   lotName         2417 non-null   object \n",
      " 3   trianTestLabel  2417 non-null   object \n",
      " 4   failureType     2417 non-null   object \n",
      " 5   waferMapDim     2417 non-null   object \n",
      " 6   failureNum      2417 non-null   object \n",
      " 7   trainTestNum    2417 non-null   object \n",
      "dtypes: float64(1), object(7)\n",
      "memory usage: 169.9+ KB\n"
     ]
    }
   ],
   "source": [
    "wm811k_new_train_class_Edge_Loc = wm811k_train.query(\"failureNum == 2\")\n",
    "wm811k_new_train_class_Edge_Loc.info()"
   ]
  },
  {
   "cell_type": "code",
   "execution_count": 44,
   "id": "2ac61af3",
   "metadata": {
    "execution": {
     "iopub.execute_input": "2022-04-06T23:44:47.277173Z",
     "iopub.status.busy": "2022-04-06T23:44:47.276668Z",
     "iopub.status.idle": "2022-04-06T23:44:47.291392Z",
     "shell.execute_reply": "2022-04-06T23:44:47.289891Z",
     "shell.execute_reply.started": "2022-04-06T23:44:47.277173Z"
    }
   },
   "outputs": [],
   "source": [
    "# Loc(4) 현 보유 1,620개 / 8,380개 augmentation 필요\n",
    "# +10도 회전 : 10% - 838개\n",
    "# -10도 회전 : 10% - 838개\n",
    "# 좌우 대칭 : 20%  - \"1676개\"\n",
    "# 너비 이동 : 20%  - \"1676개\"\n",
    "# 높이 이동: 20%   - \"1676개\"\n",
    "# 전단 범위(shearing range) : 10% - 838개\n",
    "# 확대 : 10% - 838개"
   ]
  },
  {
   "cell_type": "code",
   "execution_count": 45,
   "id": "68a9cbcc",
   "metadata": {
    "execution": {
     "iopub.execute_input": "2022-04-06T23:44:47.292865Z",
     "iopub.status.busy": "2022-04-06T23:44:47.292395Z",
     "iopub.status.idle": "2022-04-06T23:44:47.320794Z",
     "shell.execute_reply": "2022-04-06T23:44:47.320296Z",
     "shell.execute_reply.started": "2022-04-06T23:44:47.292865Z"
    }
   },
   "outputs": [
    {
     "name": "stdout",
     "output_type": "stream",
     "text": [
      "<class 'pandas.core.frame.DataFrame'>\n",
      "Int64Index: 1620 entries, 19 to 791433\n",
      "Data columns (total 8 columns):\n",
      " #   Column          Non-Null Count  Dtype  \n",
      "---  ------          --------------  -----  \n",
      " 0   waferMap        1620 non-null   object \n",
      " 1   dieSize         1620 non-null   float64\n",
      " 2   lotName         1620 non-null   object \n",
      " 3   trianTestLabel  1620 non-null   object \n",
      " 4   failureType     1620 non-null   object \n",
      " 5   waferMapDim     1620 non-null   object \n",
      " 6   failureNum      1620 non-null   object \n",
      " 7   trainTestNum    1620 non-null   object \n",
      "dtypes: float64(1), object(7)\n",
      "memory usage: 113.9+ KB\n"
     ]
    }
   ],
   "source": [
    "wm811k_new_train_class_Loc = wm811k_train.query(\"failureNum == 4\")\n",
    "wm811k_new_train_class_Loc.info()"
   ]
  },
  {
   "cell_type": "code",
   "execution_count": 46,
   "id": "91086e12",
   "metadata": {
    "execution": {
     "iopub.execute_input": "2022-04-06T23:44:47.322275Z",
     "iopub.status.busy": "2022-04-06T23:44:47.321294Z",
     "iopub.status.idle": "2022-04-06T23:44:47.335943Z",
     "shell.execute_reply": "2022-04-06T23:44:47.335943Z",
     "shell.execute_reply.started": "2022-04-06T23:44:47.321294Z"
    }
   },
   "outputs": [],
   "source": [
    "# Random(5) 현 보유 609개 / 9,391개 augmentation 필요\n",
    "# +10도 회전 : 10%\n",
    "# -10도 회전 : 10%\n",
    "# 좌우 대칭 : 20% \n",
    "# 너비 이동 : 20%\n",
    "# 높이 이동: 20%\n",
    "# 전단 범위(shearing range) : 10%\n",
    "# 확대 : 10%"
   ]
  },
  {
   "cell_type": "code",
   "execution_count": 47,
   "id": "a761440d",
   "metadata": {
    "execution": {
     "iopub.execute_input": "2022-04-06T23:44:47.336958Z",
     "iopub.status.busy": "2022-04-06T23:44:47.336958Z",
     "iopub.status.idle": "2022-04-06T23:44:47.367800Z",
     "shell.execute_reply": "2022-04-06T23:44:47.367018Z",
     "shell.execute_reply.started": "2022-04-06T23:44:47.336958Z"
    }
   },
   "outputs": [
    {
     "name": "stdout",
     "output_type": "stream",
     "text": [
      "<class 'pandas.core.frame.DataFrame'>\n",
      "Int64Index: 609 entries, 602 to 751939\n",
      "Data columns (total 8 columns):\n",
      " #   Column          Non-Null Count  Dtype  \n",
      "---  ------          --------------  -----  \n",
      " 0   waferMap        609 non-null    object \n",
      " 1   dieSize         609 non-null    float64\n",
      " 2   lotName         609 non-null    object \n",
      " 3   trianTestLabel  609 non-null    object \n",
      " 4   failureType     609 non-null    object \n",
      " 5   waferMapDim     609 non-null    object \n",
      " 6   failureNum      609 non-null    object \n",
      " 7   trainTestNum    609 non-null    object \n",
      "dtypes: float64(1), object(7)\n",
      "memory usage: 42.8+ KB\n"
     ]
    }
   ],
   "source": [
    "wm811k_new_train_class_Random = wm811k_train.query(\"failureNum == 5\")\n",
    "wm811k_new_train_class_Random.info()"
   ]
  },
  {
   "cell_type": "code",
   "execution_count": 48,
   "id": "c724e9cb",
   "metadata": {
    "execution": {
     "iopub.execute_input": "2022-04-06T23:44:47.368816Z",
     "iopub.status.busy": "2022-04-06T23:44:47.368816Z",
     "iopub.status.idle": "2022-04-06T23:44:47.382581Z",
     "shell.execute_reply": "2022-04-06T23:44:47.382083Z",
     "shell.execute_reply.started": "2022-04-06T23:44:47.368816Z"
    }
   },
   "outputs": [],
   "source": [
    "# Scratch(6) 현 보유 500개 / 9,500개 augmentation 필요\n",
    "# +10도 회전 : 10%\n",
    "# -10도 회전 : 10%\n",
    "# 좌우 대칭 : 20% \n",
    "# 너비 이동 : 20%\n",
    "# 높이 이동: 20%\n",
    "# 전단 범위(shearing range) : 10%\n",
    "# 확대 : 10%"
   ]
  },
  {
   "cell_type": "code",
   "execution_count": 49,
   "id": "84205dda",
   "metadata": {
    "execution": {
     "iopub.execute_input": "2022-04-06T23:44:47.384578Z",
     "iopub.status.busy": "2022-04-06T23:44:47.384085Z",
     "iopub.status.idle": "2022-04-06T23:44:47.413327Z",
     "shell.execute_reply": "2022-04-06T23:44:47.412830Z",
     "shell.execute_reply.started": "2022-04-06T23:44:47.384578Z"
    }
   },
   "outputs": [
    {
     "name": "stdout",
     "output_type": "stream",
     "text": [
      "<class 'pandas.core.frame.DataFrame'>\n",
      "Int64Index: 500 entries, 134 to 791228\n",
      "Data columns (total 8 columns):\n",
      " #   Column          Non-Null Count  Dtype  \n",
      "---  ------          --------------  -----  \n",
      " 0   waferMap        500 non-null    object \n",
      " 1   dieSize         500 non-null    float64\n",
      " 2   lotName         500 non-null    object \n",
      " 3   trianTestLabel  500 non-null    object \n",
      " 4   failureType     500 non-null    object \n",
      " 5   waferMapDim     500 non-null    object \n",
      " 6   failureNum      500 non-null    object \n",
      " 7   trainTestNum    500 non-null    object \n",
      "dtypes: float64(1), object(7)\n",
      "memory usage: 35.2+ KB\n"
     ]
    }
   ],
   "source": [
    "wm811k_new_train_class_Scratch = wm811k_train.query(\"failureNum == 6\")\n",
    "wm811k_new_train_class_Scratch.info()"
   ]
  },
  {
   "cell_type": "code",
   "execution_count": 50,
   "id": "1782f0aa",
   "metadata": {
    "execution": {
     "iopub.execute_input": "2022-04-06T23:44:47.415259Z",
     "iopub.status.busy": "2022-04-06T23:44:47.414694Z",
     "iopub.status.idle": "2022-04-06T23:44:47.429327Z",
     "shell.execute_reply": "2022-04-06T23:44:47.428329Z",
     "shell.execute_reply.started": "2022-04-06T23:44:47.415259Z"
    }
   },
   "outputs": [],
   "source": [
    "# Donut(1) 현 보유 409개 / 9,591개 augmentation 필요\n",
    "# +10도 회전 : 10%\n",
    "# -10도 회전 : 10%\n",
    "# 좌우 대칭 : 20% \n",
    "# 너비 이동 : 20%\n",
    "# 높이 이동: 20%\n",
    "# 전단 범위(shearing range) : 10%\n",
    "# 확대 : 10%"
   ]
  },
  {
   "cell_type": "code",
   "execution_count": 51,
   "id": "a2e24a7c",
   "metadata": {
    "execution": {
     "iopub.execute_input": "2022-04-06T23:44:47.430325Z",
     "iopub.status.busy": "2022-04-06T23:44:47.430325Z",
     "iopub.status.idle": "2022-04-06T23:44:47.459464Z",
     "shell.execute_reply": "2022-04-06T23:44:47.458972Z",
     "shell.execute_reply.started": "2022-04-06T23:44:47.430325Z"
    }
   },
   "outputs": [
    {
     "name": "stdout",
     "output_type": "stream",
     "text": [
      "<class 'pandas.core.frame.DataFrame'>\n",
      "Int64Index: 409 entries, 7316 to 747563\n",
      "Data columns (total 8 columns):\n",
      " #   Column          Non-Null Count  Dtype  \n",
      "---  ------          --------------  -----  \n",
      " 0   waferMap        409 non-null    object \n",
      " 1   dieSize         409 non-null    float64\n",
      " 2   lotName         409 non-null    object \n",
      " 3   trianTestLabel  409 non-null    object \n",
      " 4   failureType     409 non-null    object \n",
      " 5   waferMapDim     409 non-null    object \n",
      " 6   failureNum      409 non-null    object \n",
      " 7   trainTestNum    409 non-null    object \n",
      "dtypes: float64(1), object(7)\n",
      "memory usage: 28.8+ KB\n"
     ]
    }
   ],
   "source": [
    "wm811k_new_train_class_Donut = wm811k_train.query(\"failureNum == 1\")\n",
    "wm811k_new_train_class_Donut.info()"
   ]
  },
  {
   "cell_type": "code",
   "execution_count": 52,
   "id": "480db3b5",
   "metadata": {
    "execution": {
     "iopub.execute_input": "2022-04-06T23:44:47.461027Z",
     "iopub.status.busy": "2022-04-06T23:44:47.460526Z",
     "iopub.status.idle": "2022-04-06T23:44:47.475338Z",
     "shell.execute_reply": "2022-04-06T23:44:47.474336Z",
     "shell.execute_reply.started": "2022-04-06T23:44:47.461027Z"
    }
   },
   "outputs": [],
   "source": [
    "# Near-full(7) 현 보유 54개 / 9,946개 augmentation 필요\n",
    "# +10도 회전 : 10%\n",
    "# -10도 회전 : 10%\n",
    "# 좌우 대칭 : 20% \n",
    "# 너비 이동 : 20%\n",
    "# 높이 이동: 20%\n",
    "# 전단 범위(shearing range) : 10%\n",
    "# 확대 : 10%"
   ]
  },
  {
   "cell_type": "code",
   "execution_count": 53,
   "id": "3953d7a3",
   "metadata": {
    "execution": {
     "iopub.execute_input": "2022-04-06T23:44:47.477921Z",
     "iopub.status.busy": "2022-04-06T23:44:47.477422Z",
     "iopub.status.idle": "2022-04-06T23:44:47.505521Z",
     "shell.execute_reply": "2022-04-06T23:44:47.504522Z",
     "shell.execute_reply.started": "2022-04-06T23:44:47.477921Z"
    }
   },
   "outputs": [
    {
     "name": "stdout",
     "output_type": "stream",
     "text": [
      "<class 'pandas.core.frame.DataFrame'>\n",
      "Int64Index: 54 entries, 929 to 785955\n",
      "Data columns (total 8 columns):\n",
      " #   Column          Non-Null Count  Dtype  \n",
      "---  ------          --------------  -----  \n",
      " 0   waferMap        54 non-null     object \n",
      " 1   dieSize         54 non-null     float64\n",
      " 2   lotName         54 non-null     object \n",
      " 3   trianTestLabel  54 non-null     object \n",
      " 4   failureType     54 non-null     object \n",
      " 5   waferMapDim     54 non-null     object \n",
      " 6   failureNum      54 non-null     object \n",
      " 7   trainTestNum    54 non-null     object \n",
      "dtypes: float64(1), object(7)\n",
      "memory usage: 3.8+ KB\n"
     ]
    }
   ],
   "source": [
    "wm811k_new_train_class_Near_Full = wm811k_train.query(\"failureNum == 7\")\n",
    "wm811k_new_train_class_Near_Full.info()"
   ]
  },
  {
   "cell_type": "markdown",
   "id": "699604bb",
   "metadata": {},
   "source": [
    "- augmentation 데이터 파일 저장\n",
    "    - pkl 파일 저장 참고 : https://seing.tistory.com/95"
   ]
  },
  {
   "cell_type": "markdown",
   "id": "029ef12d",
   "metadata": {},
   "source": [
    "## CNN-WDI Modeling"
   ]
  },
  {
   "cell_type": "code",
   "execution_count": 54,
   "id": "d45836c4",
   "metadata": {
    "execution": {
     "iopub.execute_input": "2022-04-06T23:44:47.507547Z",
     "iopub.status.busy": "2022-04-06T23:44:47.507020Z",
     "iopub.status.idle": "2022-04-06T23:44:52.006037Z",
     "shell.execute_reply": "2022-04-06T23:44:52.005532Z",
     "shell.execute_reply.started": "2022-04-06T23:44:47.507547Z"
    },
    "tags": []
   },
   "outputs": [],
   "source": [
    "from tensorflow.keras import layers\n",
    "from tensorflow.keras import optimizers\n",
    "from tensorflow.keras.models import Model\n",
    "from tensorflow.keras.callbacks import ModelCheckpoint"
   ]
  },
  {
   "cell_type": "code",
   "execution_count": 55,
   "id": "41609a4d",
   "metadata": {
    "execution": {
     "iopub.execute_input": "2022-04-06T23:44:52.006532Z",
     "iopub.status.busy": "2022-04-06T23:44:52.006532Z",
     "iopub.status.idle": "2022-04-06T23:44:52.220396Z",
     "shell.execute_reply": "2022-04-06T23:44:52.219893Z",
     "shell.execute_reply.started": "2022-04-06T23:44:52.006532Z"
    },
    "tags": []
   },
   "outputs": [],
   "source": [
    "# CNN-WDI model\n",
    "# layer별 padding option check ~ valid, same\n",
    "input_shape = (224,224,1) # 학습 data shape 확인\n",
    "class_num = 9\n",
    "KERNEL_SIZE = 3\n",
    "\n",
    "input_layer = layers.Input(shape=input_shape) # Input 224x224\n",
    "x = layers.Conv2D(16, kernel_size=KERNEL_SIZE, padding='valid')(input_layer) # 16, 3x3\n",
    "x = layers.Activation(activation='relu')(x) # ReLU\n",
    "x = layers.BatchNormalization()(x) # BatchNormalization\n",
    "x = layers.MaxPool2D(pool_size=(2,2))(x) # Max-pooling\n",
    "x = layers.Conv2D(16, kernel_size=KERNEL_SIZE, padding='same')(x) # 16, 3x3\n",
    "x = layers.Activation(activation='relu')(x) # ReLU\n",
    "x = layers.BatchNormalization()(x) # BatchNormalization\n",
    "\n",
    "x = layers.Conv2D(32, kernel_size=KERNEL_SIZE, padding='same')(x) # 32, 3x3\n",
    "x = layers.Activation(activation='relu')(x) # ReLU\n",
    "x = layers.BatchNormalization()(x) # BatchNormalization\n",
    "x = layers.MaxPool2D(pool_size=(2,2))(x) # Max-pooling\n",
    "x = layers.Conv2D(32, kernel_size=KERNEL_SIZE, padding='same')(x) # 32, 3x3\n",
    "x = layers.Activation(activation='relu')(x) # ReLU\n",
    "x = layers.BatchNormalization()(x) # BatchNormalization\n",
    "\n",
    "x = layers.Conv2D(64, kernel_size=KERNEL_SIZE, padding='same')(x) # 64, 3x3\n",
    "x = layers.Activation(activation='relu')(x) # ReLU\n",
    "x = layers.BatchNormalization()(x) # BatchNormalization\n",
    "x = layers.MaxPool2D(pool_size=(2,2))(x) # Max-pooling\n",
    "x = layers.Conv2D(64, kernel_size=KERNEL_SIZE, padding='same')(x) # 64, 3x3\n",
    "x = layers.Activation(activation='relu')(x) # ReLU\n",
    "x = layers.BatchNormalization()(x) # BatchNormalization\n",
    "\n",
    "x = layers.Conv2D(128, kernel_size=KERNEL_SIZE, padding='same')(x) # 128, 3x3\n",
    "x = layers.Activation(activation='relu')(x) # ReLU\n",
    "x = layers.BatchNormalization()(x) # BatchNormalization\n",
    "x = layers.MaxPool2D(pool_size=(2,2))(x) # Max-pooling\n",
    "x = layers.Conv2D(128, kernel_size=KERNEL_SIZE, padding='same')(x) # 128, 3x3\n",
    "x = layers.Activation(activation='relu')(x) # ReLU\n",
    "x = layers.BatchNormalization()(x) # BatchNormalization\n",
    "\n",
    "x = layers.SpatialDropout2D(0.2)(x) # Spartial Dropout 0.2\n",
    "x = layers.MaxPool2D(pool_size=(2,2))(x) # Max-pooling\n",
    "x = layers.Flatten()(x) # 4608 확인\n",
    "x = layers.Dense(512, activation='relu')(x)\n",
    "output_layer = layers.Dense(class_num, activation='softmax')(x)\n",
    "\n",
    "CNN_WDI = Model(input_layer, output_layer)"
   ]
  },
  {
   "cell_type": "code",
   "execution_count": 56,
   "id": "941da629",
   "metadata": {
    "execution": {
     "iopub.execute_input": "2022-04-06T23:44:52.221422Z",
     "iopub.status.busy": "2022-04-06T23:44:52.221422Z",
     "iopub.status.idle": "2022-04-06T23:44:52.235806Z",
     "shell.execute_reply": "2022-04-06T23:44:52.235258Z",
     "shell.execute_reply.started": "2022-04-06T23:44:52.221422Z"
    },
    "tags": []
   },
   "outputs": [
    {
     "name": "stdout",
     "output_type": "stream",
     "text": [
      "Model: \"model\"\n",
      "_________________________________________________________________\n",
      "Layer (type)                 Output Shape              Param #   \n",
      "=================================================================\n",
      "input_1 (InputLayer)         [(None, 224, 224, 1)]     0         \n",
      "_________________________________________________________________\n",
      "conv2d (Conv2D)              (None, 222, 222, 16)      160       \n",
      "_________________________________________________________________\n",
      "activation (Activation)      (None, 222, 222, 16)      0         \n",
      "_________________________________________________________________\n",
      "batch_normalization (BatchNo (None, 222, 222, 16)      64        \n",
      "_________________________________________________________________\n",
      "max_pooling2d (MaxPooling2D) (None, 111, 111, 16)      0         \n",
      "_________________________________________________________________\n",
      "conv2d_1 (Conv2D)            (None, 111, 111, 16)      2320      \n",
      "_________________________________________________________________\n",
      "activation_1 (Activation)    (None, 111, 111, 16)      0         \n",
      "_________________________________________________________________\n",
      "batch_normalization_1 (Batch (None, 111, 111, 16)      64        \n",
      "_________________________________________________________________\n",
      "conv2d_2 (Conv2D)            (None, 111, 111, 32)      4640      \n",
      "_________________________________________________________________\n",
      "activation_2 (Activation)    (None, 111, 111, 32)      0         \n",
      "_________________________________________________________________\n",
      "batch_normalization_2 (Batch (None, 111, 111, 32)      128       \n",
      "_________________________________________________________________\n",
      "max_pooling2d_1 (MaxPooling2 (None, 55, 55, 32)        0         \n",
      "_________________________________________________________________\n",
      "conv2d_3 (Conv2D)            (None, 55, 55, 32)        9248      \n",
      "_________________________________________________________________\n",
      "activation_3 (Activation)    (None, 55, 55, 32)        0         \n",
      "_________________________________________________________________\n",
      "batch_normalization_3 (Batch (None, 55, 55, 32)        128       \n",
      "_________________________________________________________________\n",
      "conv2d_4 (Conv2D)            (None, 55, 55, 64)        18496     \n",
      "_________________________________________________________________\n",
      "activation_4 (Activation)    (None, 55, 55, 64)        0         \n",
      "_________________________________________________________________\n",
      "batch_normalization_4 (Batch (None, 55, 55, 64)        256       \n",
      "_________________________________________________________________\n",
      "max_pooling2d_2 (MaxPooling2 (None, 27, 27, 64)        0         \n",
      "_________________________________________________________________\n",
      "conv2d_5 (Conv2D)            (None, 27, 27, 64)        36928     \n",
      "_________________________________________________________________\n",
      "activation_5 (Activation)    (None, 27, 27, 64)        0         \n",
      "_________________________________________________________________\n",
      "batch_normalization_5 (Batch (None, 27, 27, 64)        256       \n",
      "_________________________________________________________________\n",
      "conv2d_6 (Conv2D)            (None, 27, 27, 128)       73856     \n",
      "_________________________________________________________________\n",
      "activation_6 (Activation)    (None, 27, 27, 128)       0         \n",
      "_________________________________________________________________\n",
      "batch_normalization_6 (Batch (None, 27, 27, 128)       512       \n",
      "_________________________________________________________________\n",
      "max_pooling2d_3 (MaxPooling2 (None, 13, 13, 128)       0         \n",
      "_________________________________________________________________\n",
      "conv2d_7 (Conv2D)            (None, 13, 13, 128)       147584    \n",
      "_________________________________________________________________\n",
      "activation_7 (Activation)    (None, 13, 13, 128)       0         \n",
      "_________________________________________________________________\n",
      "batch_normalization_7 (Batch (None, 13, 13, 128)       512       \n",
      "_________________________________________________________________\n",
      "spatial_dropout2d (SpatialDr (None, 13, 13, 128)       0         \n",
      "_________________________________________________________________\n",
      "max_pooling2d_4 (MaxPooling2 (None, 6, 6, 128)         0         \n",
      "_________________________________________________________________\n",
      "flatten (Flatten)            (None, 4608)              0         \n",
      "_________________________________________________________________\n",
      "dense (Dense)                (None, 512)               2359808   \n",
      "_________________________________________________________________\n",
      "dense_1 (Dense)              (None, 9)                 4617      \n",
      "=================================================================\n",
      "Total params: 2,659,577\n",
      "Trainable params: 2,658,617\n",
      "Non-trainable params: 960\n",
      "_________________________________________________________________\n"
     ]
    }
   ],
   "source": [
    "CNN_WDI.summary()"
   ]
  },
  {
   "cell_type": "code",
   "execution_count": null,
   "id": "2bd65341",
   "metadata": {
    "tags": []
   },
   "outputs": [],
   "source": [
    "# learning_rate 설정 ~ compile? fit?\n",
    "# X, y 설정\n",
    "# loss_function, metrics 설정 확인\n",
    "# checkpointer patience 값 확인\n",
    "\n",
    "# train / validation / test set 설정\n",
    "# X_train, X_valid = train_test_split(df, test_size=TEST_SIZE, random_state=2021)\n",
    "\n",
    "# model 설정\n",
    "LEARNING_RATE = 0.001\n",
    "BATCH_SIZE = 100\n",
    "EPOCH = 20  # 논문 그래프에 20 epoch 까지 있음\n",
    "\n",
    "CNN_WDI.compile(loss='categorical_crossentropy', optimizer=optimizers.Adam(LEARNING_RATE), metrics=['categorical_crossentropy'], learning_rate = LEARNING_RATE)\n",
    "checkpointer = ModelCheckpoint(filepath=\"{0}.h5\".format(model_id), verbose=1, save_best_only=True)\n",
    "\n",
    "# 학습 실행\n",
    "hist = CNN_WDI.fit(X_train, X_test, epochs=EPOCH, batch_size=BATCH_SIZE, shuffle=True,\n",
    "                   validation_data=(X_valid, X_valid), callbacks=[checkpointer])"
   ]
  },
  {
   "cell_type": "code",
   "execution_count": null,
   "id": "7bbdcb36",
   "metadata": {},
   "outputs": [],
   "source": [
    "# predict 시에도 test 데이터 padding 하는 과정 필요"
   ]
  }
 ],
 "metadata": {
  "kernelspec": {
   "display_name": "Python 3 (ipykernel)",
   "language": "python",
   "name": "python3"
  },
  "language_info": {
   "codemirror_mode": {
    "name": "ipython",
    "version": 3
   },
   "file_extension": ".py",
   "mimetype": "text/x-python",
   "name": "python",
   "nbconvert_exporter": "python",
   "pygments_lexer": "ipython3",
   "version": "3.7.9"
  }
 },
 "nbformat": 4,
 "nbformat_minor": 5
}
