{
 "cells": [
  {
   "cell_type": "markdown",
   "id": "ae46407f",
   "metadata": {},
   "source": [
    "## 불균형 데이터셋에 대한 웨이퍼 불량식별을 위한 CNN\n",
    "### 키워드\n",
    "- 데이터 전처리\n",
    "    - Data Augmentaion\n",
    "    - 불량 클래스\n",
    "        - Center\n",
    "        - Donut\n",
    "        - Local\n",
    "        - Edge-Loc\n",
    "        - Edge-Ring\n",
    "        - Scratch\n",
    "        - Random\n",
    "        - Near-Full\n",
    "        - None\n",
    "- 모델 구성\n",
    "    - Batch Normalization\n",
    "    - Spatical Dropout\n",
    "    - Regularization"
   ]
  },
  {
   "cell_type": "markdown",
   "id": "eddd3c6e",
   "metadata": {},
   "source": [
    "### 데이터 확인사항\n",
    "- waferMap 사이즈를 확인하여 추후 개발할 신경망 모델의 224x224 사이즈에 맞게 resizing 작업이 필요할 것으로 예상됨\n",
    "- augmentaion 작업과 resizing 작업이 한 번에 해결될 수 있도록 전처리하는 것이 좋을 듯"
   ]
  },
  {
   "cell_type": "code",
   "execution_count": 1,
   "id": "e21ea755",
   "metadata": {
    "execution": {
     "iopub.execute_input": "2022-04-05T04:25:15.392041Z",
     "iopub.status.busy": "2022-04-05T04:25:15.391043Z",
     "iopub.status.idle": "2022-04-05T04:25:16.047362Z",
     "shell.execute_reply": "2022-04-05T04:25:16.046862Z",
     "shell.execute_reply.started": "2022-04-05T04:25:15.391043Z"
    },
    "tags": []
   },
   "outputs": [],
   "source": [
    "import numpy as np\n",
    "import pandas as pd\n",
    "import cv2\n",
    "import matplotlib.pyplot as plt"
   ]
  },
  {
   "cell_type": "code",
   "execution_count": 2,
   "id": "0e764a28",
   "metadata": {
    "execution": {
     "iopub.execute_input": "2022-04-05T04:25:16.064071Z",
     "iopub.status.busy": "2022-04-05T04:25:16.062972Z",
     "iopub.status.idle": "2022-04-05T04:26:04.670809Z",
     "shell.execute_reply": "2022-04-05T04:26:04.669612Z",
     "shell.execute_reply.started": "2022-04-05T04:25:16.064071Z"
    },
    "tags": []
   },
   "outputs": [],
   "source": [
    "wm811k = pd.read_pickle('./data/LSWMD.pkl')"
   ]
  },
  {
   "cell_type": "code",
   "execution_count": 3,
   "id": "c46afc23",
   "metadata": {
    "execution": {
     "iopub.execute_input": "2022-04-05T04:26:04.671799Z",
     "iopub.status.busy": "2022-04-05T04:26:04.671799Z",
     "iopub.status.idle": "2022-04-05T04:26:04.840023Z",
     "shell.execute_reply": "2022-04-05T04:26:04.840023Z",
     "shell.execute_reply.started": "2022-04-05T04:26:04.671799Z"
    },
    "tags": []
   },
   "outputs": [
    {
     "data": {
      "text/html": [
       "<div>\n",
       "<style scoped>\n",
       "    .dataframe tbody tr th:only-of-type {\n",
       "        vertical-align: middle;\n",
       "    }\n",
       "\n",
       "    .dataframe tbody tr th {\n",
       "        vertical-align: top;\n",
       "    }\n",
       "\n",
       "    .dataframe thead th {\n",
       "        text-align: right;\n",
       "    }\n",
       "</style>\n",
       "<table border=\"1\" class=\"dataframe\">\n",
       "  <thead>\n",
       "    <tr style=\"text-align: right;\">\n",
       "      <th></th>\n",
       "      <th>waferMap</th>\n",
       "      <th>dieSize</th>\n",
       "      <th>lotName</th>\n",
       "      <th>waferIndex</th>\n",
       "      <th>trianTestLabel</th>\n",
       "      <th>failureType</th>\n",
       "    </tr>\n",
       "  </thead>\n",
       "  <tbody>\n",
       "    <tr>\n",
       "      <th>0</th>\n",
       "      <td>[[0, 0, 0, 0, 0, 0, 0, 0, 0, 0, 0, 0, 0, 0, 0,...</td>\n",
       "      <td>1683.0</td>\n",
       "      <td>lot1</td>\n",
       "      <td>1.0</td>\n",
       "      <td>[[Training]]</td>\n",
       "      <td>[[none]]</td>\n",
       "    </tr>\n",
       "    <tr>\n",
       "      <th>1</th>\n",
       "      <td>[[0, 0, 0, 0, 0, 0, 0, 0, 0, 0, 0, 0, 0, 0, 0,...</td>\n",
       "      <td>1683.0</td>\n",
       "      <td>lot1</td>\n",
       "      <td>2.0</td>\n",
       "      <td>[[Training]]</td>\n",
       "      <td>[[none]]</td>\n",
       "    </tr>\n",
       "    <tr>\n",
       "      <th>2</th>\n",
       "      <td>[[0, 0, 0, 0, 0, 0, 0, 0, 0, 0, 0, 0, 0, 0, 0,...</td>\n",
       "      <td>1683.0</td>\n",
       "      <td>lot1</td>\n",
       "      <td>3.0</td>\n",
       "      <td>[[Training]]</td>\n",
       "      <td>[[none]]</td>\n",
       "    </tr>\n",
       "    <tr>\n",
       "      <th>3</th>\n",
       "      <td>[[0, 0, 0, 0, 0, 0, 0, 0, 0, 0, 0, 0, 0, 0, 0,...</td>\n",
       "      <td>1683.0</td>\n",
       "      <td>lot1</td>\n",
       "      <td>4.0</td>\n",
       "      <td>[[Training]]</td>\n",
       "      <td>[[none]]</td>\n",
       "    </tr>\n",
       "    <tr>\n",
       "      <th>4</th>\n",
       "      <td>[[0, 0, 0, 0, 0, 0, 0, 0, 0, 0, 0, 0, 0, 0, 0,...</td>\n",
       "      <td>1683.0</td>\n",
       "      <td>lot1</td>\n",
       "      <td>5.0</td>\n",
       "      <td>[[Training]]</td>\n",
       "      <td>[[none]]</td>\n",
       "    </tr>\n",
       "  </tbody>\n",
       "</table>\n",
       "</div>"
      ],
      "text/plain": [
       "                                            waferMap  dieSize lotName  \\\n",
       "0  [[0, 0, 0, 0, 0, 0, 0, 0, 0, 0, 0, 0, 0, 0, 0,...   1683.0    lot1   \n",
       "1  [[0, 0, 0, 0, 0, 0, 0, 0, 0, 0, 0, 0, 0, 0, 0,...   1683.0    lot1   \n",
       "2  [[0, 0, 0, 0, 0, 0, 0, 0, 0, 0, 0, 0, 0, 0, 0,...   1683.0    lot1   \n",
       "3  [[0, 0, 0, 0, 0, 0, 0, 0, 0, 0, 0, 0, 0, 0, 0,...   1683.0    lot1   \n",
       "4  [[0, 0, 0, 0, 0, 0, 0, 0, 0, 0, 0, 0, 0, 0, 0,...   1683.0    lot1   \n",
       "\n",
       "   waferIndex trianTestLabel failureType  \n",
       "0         1.0   [[Training]]    [[none]]  \n",
       "1         2.0   [[Training]]    [[none]]  \n",
       "2         3.0   [[Training]]    [[none]]  \n",
       "3         4.0   [[Training]]    [[none]]  \n",
       "4         5.0   [[Training]]    [[none]]  "
      ]
     },
     "execution_count": 3,
     "metadata": {},
     "output_type": "execute_result"
    }
   ],
   "source": [
    "wm811k.head()"
   ]
  },
  {
   "cell_type": "code",
   "execution_count": 4,
   "id": "741cbcab",
   "metadata": {
    "execution": {
     "iopub.execute_input": "2022-04-05T04:26:04.841082Z",
     "iopub.status.busy": "2022-04-05T04:26:04.841082Z",
     "iopub.status.idle": "2022-04-05T04:26:04.995292Z",
     "shell.execute_reply": "2022-04-05T04:26:04.994792Z",
     "shell.execute_reply.started": "2022-04-05T04:26:04.841082Z"
    },
    "tags": []
   },
   "outputs": [
    {
     "name": "stdout",
     "output_type": "stream",
     "text": [
      "<class 'pandas.core.frame.DataFrame'>\n",
      "RangeIndex: 811457 entries, 0 to 811456\n",
      "Data columns (total 6 columns):\n",
      " #   Column          Non-Null Count   Dtype  \n",
      "---  ------          --------------   -----  \n",
      " 0   waferMap        811457 non-null  object \n",
      " 1   dieSize         811457 non-null  float64\n",
      " 2   lotName         811457 non-null  object \n",
      " 3   waferIndex      811457 non-null  float64\n",
      " 4   trianTestLabel  811457 non-null  object \n",
      " 5   failureType     811457 non-null  object \n",
      "dtypes: float64(2), object(4)\n",
      "memory usage: 37.1+ MB\n"
     ]
    }
   ],
   "source": [
    "wm811k.info()"
   ]
  },
  {
   "cell_type": "code",
   "execution_count": 5,
   "id": "33d7f2cd",
   "metadata": {
    "execution": {
     "iopub.execute_input": "2022-04-05T04:26:04.996845Z",
     "iopub.status.busy": "2022-04-05T04:26:04.996845Z",
     "iopub.status.idle": "2022-04-05T04:26:05.194084Z",
     "shell.execute_reply": "2022-04-05T04:26:05.194084Z",
     "shell.execute_reply.started": "2022-04-05T04:26:04.996845Z"
    },
    "tags": []
   },
   "outputs": [
    {
     "data": {
      "text/html": [
       "<div>\n",
       "<style scoped>\n",
       "    .dataframe tbody tr th:only-of-type {\n",
       "        vertical-align: middle;\n",
       "    }\n",
       "\n",
       "    .dataframe tbody tr th {\n",
       "        vertical-align: top;\n",
       "    }\n",
       "\n",
       "    .dataframe thead th {\n",
       "        text-align: right;\n",
       "    }\n",
       "</style>\n",
       "<table border=\"1\" class=\"dataframe\">\n",
       "  <thead>\n",
       "    <tr style=\"text-align: right;\">\n",
       "      <th></th>\n",
       "      <th>waferMap</th>\n",
       "      <th>dieSize</th>\n",
       "      <th>lotName</th>\n",
       "      <th>trianTestLabel</th>\n",
       "      <th>failureType</th>\n",
       "    </tr>\n",
       "  </thead>\n",
       "  <tbody>\n",
       "    <tr>\n",
       "      <th>0</th>\n",
       "      <td>[[0, 0, 0, 0, 0, 0, 0, 0, 0, 0, 0, 0, 0, 0, 0,...</td>\n",
       "      <td>1683.0</td>\n",
       "      <td>lot1</td>\n",
       "      <td>[[Training]]</td>\n",
       "      <td>[[none]]</td>\n",
       "    </tr>\n",
       "    <tr>\n",
       "      <th>1</th>\n",
       "      <td>[[0, 0, 0, 0, 0, 0, 0, 0, 0, 0, 0, 0, 0, 0, 0,...</td>\n",
       "      <td>1683.0</td>\n",
       "      <td>lot1</td>\n",
       "      <td>[[Training]]</td>\n",
       "      <td>[[none]]</td>\n",
       "    </tr>\n",
       "    <tr>\n",
       "      <th>2</th>\n",
       "      <td>[[0, 0, 0, 0, 0, 0, 0, 0, 0, 0, 0, 0, 0, 0, 0,...</td>\n",
       "      <td>1683.0</td>\n",
       "      <td>lot1</td>\n",
       "      <td>[[Training]]</td>\n",
       "      <td>[[none]]</td>\n",
       "    </tr>\n",
       "    <tr>\n",
       "      <th>3</th>\n",
       "      <td>[[0, 0, 0, 0, 0, 0, 0, 0, 0, 0, 0, 0, 0, 0, 0,...</td>\n",
       "      <td>1683.0</td>\n",
       "      <td>lot1</td>\n",
       "      <td>[[Training]]</td>\n",
       "      <td>[[none]]</td>\n",
       "    </tr>\n",
       "    <tr>\n",
       "      <th>4</th>\n",
       "      <td>[[0, 0, 0, 0, 0, 0, 0, 0, 0, 0, 0, 0, 0, 0, 0,...</td>\n",
       "      <td>1683.0</td>\n",
       "      <td>lot1</td>\n",
       "      <td>[[Training]]</td>\n",
       "      <td>[[none]]</td>\n",
       "    </tr>\n",
       "  </tbody>\n",
       "</table>\n",
       "</div>"
      ],
      "text/plain": [
       "                                            waferMap  dieSize lotName  \\\n",
       "0  [[0, 0, 0, 0, 0, 0, 0, 0, 0, 0, 0, 0, 0, 0, 0,...   1683.0    lot1   \n",
       "1  [[0, 0, 0, 0, 0, 0, 0, 0, 0, 0, 0, 0, 0, 0, 0,...   1683.0    lot1   \n",
       "2  [[0, 0, 0, 0, 0, 0, 0, 0, 0, 0, 0, 0, 0, 0, 0,...   1683.0    lot1   \n",
       "3  [[0, 0, 0, 0, 0, 0, 0, 0, 0, 0, 0, 0, 0, 0, 0,...   1683.0    lot1   \n",
       "4  [[0, 0, 0, 0, 0, 0, 0, 0, 0, 0, 0, 0, 0, 0, 0,...   1683.0    lot1   \n",
       "\n",
       "  trianTestLabel failureType  \n",
       "0   [[Training]]    [[none]]  \n",
       "1   [[Training]]    [[none]]  \n",
       "2   [[Training]]    [[none]]  \n",
       "3   [[Training]]    [[none]]  \n",
       "4   [[Training]]    [[none]]  "
      ]
     },
     "execution_count": 5,
     "metadata": {},
     "output_type": "execute_result"
    }
   ],
   "source": [
    "# 불필요 컬럼 제거\n",
    "wm811k = wm811k.drop(['waferIndex'], axis = 1)\n",
    "wm811k.head()"
   ]
  },
  {
   "cell_type": "code",
   "execution_count": 6,
   "id": "15efe8f0",
   "metadata": {
    "execution": {
     "iopub.execute_input": "2022-04-05T04:26:05.196204Z",
     "iopub.status.busy": "2022-04-05T04:26:05.195202Z",
     "iopub.status.idle": "2022-04-05T04:26:06.392117Z",
     "shell.execute_reply": "2022-04-05T04:26:06.391114Z",
     "shell.execute_reply.started": "2022-04-05T04:26:05.196204Z"
    },
    "tags": []
   },
   "outputs": [
    {
     "data": {
      "text/html": [
       "<div>\n",
       "<style scoped>\n",
       "    .dataframe tbody tr th:only-of-type {\n",
       "        vertical-align: middle;\n",
       "    }\n",
       "\n",
       "    .dataframe tbody tr th {\n",
       "        vertical-align: top;\n",
       "    }\n",
       "\n",
       "    .dataframe thead th {\n",
       "        text-align: right;\n",
       "    }\n",
       "</style>\n",
       "<table border=\"1\" class=\"dataframe\">\n",
       "  <thead>\n",
       "    <tr style=\"text-align: right;\">\n",
       "      <th></th>\n",
       "      <th>waferMap</th>\n",
       "      <th>dieSize</th>\n",
       "      <th>lotName</th>\n",
       "      <th>trianTestLabel</th>\n",
       "      <th>failureType</th>\n",
       "      <th>waferMapDim</th>\n",
       "    </tr>\n",
       "  </thead>\n",
       "  <tbody>\n",
       "    <tr>\n",
       "      <th>0</th>\n",
       "      <td>[[0, 0, 0, 0, 0, 0, 0, 0, 0, 0, 0, 0, 0, 0, 0,...</td>\n",
       "      <td>1683.0</td>\n",
       "      <td>lot1</td>\n",
       "      <td>[[Training]]</td>\n",
       "      <td>[[none]]</td>\n",
       "      <td>(45, 48)</td>\n",
       "    </tr>\n",
       "    <tr>\n",
       "      <th>1</th>\n",
       "      <td>[[0, 0, 0, 0, 0, 0, 0, 0, 0, 0, 0, 0, 0, 0, 0,...</td>\n",
       "      <td>1683.0</td>\n",
       "      <td>lot1</td>\n",
       "      <td>[[Training]]</td>\n",
       "      <td>[[none]]</td>\n",
       "      <td>(45, 48)</td>\n",
       "    </tr>\n",
       "    <tr>\n",
       "      <th>2</th>\n",
       "      <td>[[0, 0, 0, 0, 0, 0, 0, 0, 0, 0, 0, 0, 0, 0, 0,...</td>\n",
       "      <td>1683.0</td>\n",
       "      <td>lot1</td>\n",
       "      <td>[[Training]]</td>\n",
       "      <td>[[none]]</td>\n",
       "      <td>(45, 48)</td>\n",
       "    </tr>\n",
       "    <tr>\n",
       "      <th>3</th>\n",
       "      <td>[[0, 0, 0, 0, 0, 0, 0, 0, 0, 0, 0, 0, 0, 0, 0,...</td>\n",
       "      <td>1683.0</td>\n",
       "      <td>lot1</td>\n",
       "      <td>[[Training]]</td>\n",
       "      <td>[[none]]</td>\n",
       "      <td>(45, 48)</td>\n",
       "    </tr>\n",
       "    <tr>\n",
       "      <th>4</th>\n",
       "      <td>[[0, 0, 0, 0, 0, 0, 0, 0, 0, 0, 0, 0, 0, 0, 0,...</td>\n",
       "      <td>1683.0</td>\n",
       "      <td>lot1</td>\n",
       "      <td>[[Training]]</td>\n",
       "      <td>[[none]]</td>\n",
       "      <td>(45, 48)</td>\n",
       "    </tr>\n",
       "  </tbody>\n",
       "</table>\n",
       "</div>"
      ],
      "text/plain": [
       "                                            waferMap  dieSize lotName  \\\n",
       "0  [[0, 0, 0, 0, 0, 0, 0, 0, 0, 0, 0, 0, 0, 0, 0,...   1683.0    lot1   \n",
       "1  [[0, 0, 0, 0, 0, 0, 0, 0, 0, 0, 0, 0, 0, 0, 0,...   1683.0    lot1   \n",
       "2  [[0, 0, 0, 0, 0, 0, 0, 0, 0, 0, 0, 0, 0, 0, 0,...   1683.0    lot1   \n",
       "3  [[0, 0, 0, 0, 0, 0, 0, 0, 0, 0, 0, 0, 0, 0, 0,...   1683.0    lot1   \n",
       "4  [[0, 0, 0, 0, 0, 0, 0, 0, 0, 0, 0, 0, 0, 0, 0,...   1683.0    lot1   \n",
       "\n",
       "  trianTestLabel failureType waferMapDim  \n",
       "0   [[Training]]    [[none]]    (45, 48)  \n",
       "1   [[Training]]    [[none]]    (45, 48)  \n",
       "2   [[Training]]    [[none]]    (45, 48)  \n",
       "3   [[Training]]    [[none]]    (45, 48)  \n",
       "4   [[Training]]    [[none]]    (45, 48)  "
      ]
     },
     "execution_count": 6,
     "metadata": {},
     "output_type": "execute_result"
    }
   ],
   "source": [
    "# wafermap size 확인 및 컬럼 추가\n",
    "def find_dim(x):\n",
    "    dim0=np.size(x,axis=0)\n",
    "    dim1=np.size(x,axis=1)\n",
    "    return dim0,dim1\n",
    "wm811k['waferMapDim']=wm811k['waferMap'].apply(find_dim)\n",
    "wm811k.head()"
   ]
  },
  {
   "cell_type": "code",
   "execution_count": 7,
   "id": "e36ae932",
   "metadata": {
    "execution": {
     "iopub.execute_input": "2022-04-05T04:26:06.393117Z",
     "iopub.status.busy": "2022-04-05T04:26:06.392117Z",
     "iopub.status.idle": "2022-04-05T04:26:19.549563Z",
     "shell.execute_reply": "2022-04-05T04:26:19.549563Z",
     "shell.execute_reply.started": "2022-04-05T04:26:06.393117Z"
    },
    "tags": []
   },
   "outputs": [
    {
     "name": "stderr",
     "output_type": "stream",
     "text": [
      "C:\\Users\\kjt\\Anaconda3\\envs\\dlit\\lib\\site-packages\\pandas\\core\\array_algos\\replace.py:60: FutureWarning: elementwise comparison failed; returning scalar instead, but in the future will perform elementwise comparison\n",
      "  op = lambda x: operator.eq(x, b)\n"
     ]
    },
    {
     "data": {
      "text/html": [
       "<div>\n",
       "<style scoped>\n",
       "    .dataframe tbody tr th:only-of-type {\n",
       "        vertical-align: middle;\n",
       "    }\n",
       "\n",
       "    .dataframe tbody tr th {\n",
       "        vertical-align: top;\n",
       "    }\n",
       "\n",
       "    .dataframe thead th {\n",
       "        text-align: right;\n",
       "    }\n",
       "</style>\n",
       "<table border=\"1\" class=\"dataframe\">\n",
       "  <thead>\n",
       "    <tr style=\"text-align: right;\">\n",
       "      <th></th>\n",
       "      <th>waferMap</th>\n",
       "      <th>dieSize</th>\n",
       "      <th>lotName</th>\n",
       "      <th>trianTestLabel</th>\n",
       "      <th>failureType</th>\n",
       "      <th>waferMapDim</th>\n",
       "      <th>failureNum</th>\n",
       "      <th>trainTestNum</th>\n",
       "    </tr>\n",
       "  </thead>\n",
       "  <tbody>\n",
       "    <tr>\n",
       "      <th>0</th>\n",
       "      <td>[[0, 0, 0, 0, 0, 0, 0, 0, 0, 0, 0, 0, 0, 0, 0,...</td>\n",
       "      <td>1683.0</td>\n",
       "      <td>lot1</td>\n",
       "      <td>[[Training]]</td>\n",
       "      <td>[[none]]</td>\n",
       "      <td>(45, 48)</td>\n",
       "      <td>8</td>\n",
       "      <td>0</td>\n",
       "    </tr>\n",
       "    <tr>\n",
       "      <th>1</th>\n",
       "      <td>[[0, 0, 0, 0, 0, 0, 0, 0, 0, 0, 0, 0, 0, 0, 0,...</td>\n",
       "      <td>1683.0</td>\n",
       "      <td>lot1</td>\n",
       "      <td>[[Training]]</td>\n",
       "      <td>[[none]]</td>\n",
       "      <td>(45, 48)</td>\n",
       "      <td>8</td>\n",
       "      <td>0</td>\n",
       "    </tr>\n",
       "    <tr>\n",
       "      <th>2</th>\n",
       "      <td>[[0, 0, 0, 0, 0, 0, 0, 0, 0, 0, 0, 0, 0, 0, 0,...</td>\n",
       "      <td>1683.0</td>\n",
       "      <td>lot1</td>\n",
       "      <td>[[Training]]</td>\n",
       "      <td>[[none]]</td>\n",
       "      <td>(45, 48)</td>\n",
       "      <td>8</td>\n",
       "      <td>0</td>\n",
       "    </tr>\n",
       "    <tr>\n",
       "      <th>3</th>\n",
       "      <td>[[0, 0, 0, 0, 0, 0, 0, 0, 0, 0, 0, 0, 0, 0, 0,...</td>\n",
       "      <td>1683.0</td>\n",
       "      <td>lot1</td>\n",
       "      <td>[[Training]]</td>\n",
       "      <td>[[none]]</td>\n",
       "      <td>(45, 48)</td>\n",
       "      <td>8</td>\n",
       "      <td>0</td>\n",
       "    </tr>\n",
       "    <tr>\n",
       "      <th>4</th>\n",
       "      <td>[[0, 0, 0, 0, 0, 0, 0, 0, 0, 0, 0, 0, 0, 0, 0,...</td>\n",
       "      <td>1683.0</td>\n",
       "      <td>lot1</td>\n",
       "      <td>[[Training]]</td>\n",
       "      <td>[[none]]</td>\n",
       "      <td>(45, 48)</td>\n",
       "      <td>8</td>\n",
       "      <td>0</td>\n",
       "    </tr>\n",
       "  </tbody>\n",
       "</table>\n",
       "</div>"
      ],
      "text/plain": [
       "                                            waferMap  dieSize lotName  \\\n",
       "0  [[0, 0, 0, 0, 0, 0, 0, 0, 0, 0, 0, 0, 0, 0, 0,...   1683.0    lot1   \n",
       "1  [[0, 0, 0, 0, 0, 0, 0, 0, 0, 0, 0, 0, 0, 0, 0,...   1683.0    lot1   \n",
       "2  [[0, 0, 0, 0, 0, 0, 0, 0, 0, 0, 0, 0, 0, 0, 0,...   1683.0    lot1   \n",
       "3  [[0, 0, 0, 0, 0, 0, 0, 0, 0, 0, 0, 0, 0, 0, 0,...   1683.0    lot1   \n",
       "4  [[0, 0, 0, 0, 0, 0, 0, 0, 0, 0, 0, 0, 0, 0, 0,...   1683.0    lot1   \n",
       "\n",
       "  trianTestLabel failureType waferMapDim failureNum trainTestNum  \n",
       "0   [[Training]]    [[none]]    (45, 48)          8            0  \n",
       "1   [[Training]]    [[none]]    (45, 48)          8            0  \n",
       "2   [[Training]]    [[none]]    (45, 48)          8            0  \n",
       "3   [[Training]]    [[none]]    (45, 48)          8            0  \n",
       "4   [[Training]]    [[none]]    (45, 48)          8            0  "
      ]
     },
     "execution_count": 7,
     "metadata": {},
     "output_type": "execute_result"
    }
   ],
   "source": [
    "# 불량 클래스 확인 및 학습/검증/테스트 데이터 셋 확인\n",
    "wm811k['failureNum']=wm811k['failureType']\n",
    "wm811k['trainTestNum']=wm811k['trianTestLabel']\n",
    "mapping_type={'Center':0,'Donut':1,'Edge-Loc':2,'Edge-Ring':3,'Loc':4,'Random':5,'Scratch':6,'Near-full':7,'none':8}\n",
    "mapping_traintest={'Training':0,'Test':1}\n",
    "wm811k=wm811k.replace({'failureNum':mapping_type, 'trainTestNum':mapping_traintest})\n",
    "wm811k.head()"
   ]
  },
  {
   "cell_type": "code",
   "execution_count": 8,
   "id": "470e844e",
   "metadata": {
    "execution": {
     "iopub.execute_input": "2022-04-05T04:26:19.550428Z",
     "iopub.status.busy": "2022-04-05T04:26:19.550428Z",
     "iopub.status.idle": "2022-04-05T04:26:23.182329Z",
     "shell.execute_reply": "2022-04-05T04:26:23.182172Z",
     "shell.execute_reply.started": "2022-04-05T04:26:19.550428Z"
    },
    "tags": []
   },
   "outputs": [
    {
     "data": {
      "text/plain": [
       "[]                638507\n",
       "[['Test']]        118595\n",
       "[['Training']]     54355\n",
       "Name: trianTestLabel, dtype: int64"
      ]
     },
     "execution_count": 8,
     "metadata": {},
     "output_type": "execute_result"
    }
   ],
   "source": [
    "wm811k['trianTestLabel'].apply(lambda x: str(x)).value_counts()"
   ]
  },
  {
   "cell_type": "code",
   "execution_count": 9,
   "id": "c7497043",
   "metadata": {
    "execution": {
     "iopub.execute_input": "2022-04-05T04:26:23.183604Z",
     "iopub.status.busy": "2022-04-05T04:26:23.183604Z",
     "iopub.status.idle": "2022-04-05T04:26:24.894487Z",
     "shell.execute_reply": "2022-04-05T04:26:24.893913Z",
     "shell.execute_reply.started": "2022-04-05T04:26:23.183604Z"
    },
    "tags": []
   },
   "outputs": [
    {
     "data": {
      "text/plain": [
       "[]    638507\n",
       "1     118595\n",
       "0      54355\n",
       "Name: trainTestNum, dtype: int64"
      ]
     },
     "execution_count": 9,
     "metadata": {},
     "output_type": "execute_result"
    }
   ],
   "source": [
    "wm811k['trainTestNum'].apply(lambda x: str(x)).value_counts()"
   ]
  },
  {
   "cell_type": "code",
   "execution_count": 10,
   "id": "0fd15781",
   "metadata": {
    "execution": {
     "iopub.execute_input": "2022-04-05T04:26:24.895557Z",
     "iopub.status.busy": "2022-04-05T04:26:24.895557Z",
     "iopub.status.idle": "2022-04-05T04:26:26.463026Z",
     "shell.execute_reply": "2022-04-05T04:26:26.462670Z",
     "shell.execute_reply.started": "2022-04-05T04:26:24.895557Z"
    },
    "tags": []
   },
   "outputs": [],
   "source": [
    "wm811k_train = wm811k.query(\"trainTestNum == 0\")"
   ]
  },
  {
   "cell_type": "code",
   "execution_count": 11,
   "id": "759a2ce3",
   "metadata": {
    "execution": {
     "iopub.execute_input": "2022-04-05T04:26:26.465051Z",
     "iopub.status.busy": "2022-04-05T04:26:26.464051Z",
     "iopub.status.idle": "2022-04-05T04:26:26.493066Z",
     "shell.execute_reply": "2022-04-05T04:26:26.492566Z",
     "shell.execute_reply.started": "2022-04-05T04:26:26.464051Z"
    },
    "tags": []
   },
   "outputs": [
    {
     "name": "stdout",
     "output_type": "stream",
     "text": [
      "<class 'pandas.core.frame.DataFrame'>\n",
      "Int64Index: 54355 entries, 0 to 791476\n",
      "Data columns (total 8 columns):\n",
      " #   Column          Non-Null Count  Dtype  \n",
      "---  ------          --------------  -----  \n",
      " 0   waferMap        54355 non-null  object \n",
      " 1   dieSize         54355 non-null  float64\n",
      " 2   lotName         54355 non-null  object \n",
      " 3   trianTestLabel  54355 non-null  object \n",
      " 4   failureType     54355 non-null  object \n",
      " 5   waferMapDim     54355 non-null  object \n",
      " 6   failureNum      54355 non-null  object \n",
      " 7   trainTestNum    54355 non-null  object \n",
      "dtypes: float64(1), object(7)\n",
      "memory usage: 3.7+ MB\n"
     ]
    }
   ],
   "source": [
    "wm811k_train.info()"
   ]
  },
  {
   "cell_type": "markdown",
   "id": "8476a2a1",
   "metadata": {},
   "source": [
    "### wm811k_test set\n",
    "- 10,000개 augmentation된 데이터 train: validation : test = 65: 20: 15\n",
    "- 최종 모델 확인 이후 wm811k_test 데이터 활용 모델 성능 확인하는 것이 좋을 듯"
   ]
  },
  {
   "cell_type": "code",
   "execution_count": 12,
   "id": "9b2cf4bd",
   "metadata": {
    "execution": {
     "iopub.execute_input": "2022-04-05T04:26:26.494127Z",
     "iopub.status.busy": "2022-04-05T04:26:26.494127Z",
     "iopub.status.idle": "2022-04-05T04:26:28.061480Z",
     "shell.execute_reply": "2022-04-05T04:26:28.061375Z",
     "shell.execute_reply.started": "2022-04-05T04:26:26.494127Z"
    },
    "tags": []
   },
   "outputs": [],
   "source": [
    "wm811k_test = wm811k.query(\"trainTestNum == 1\")"
   ]
  },
  {
   "cell_type": "code",
   "execution_count": 13,
   "id": "f99d0bf5",
   "metadata": {
    "execution": {
     "iopub.execute_input": "2022-04-05T04:26:28.063255Z",
     "iopub.status.busy": "2022-04-05T04:26:28.062754Z",
     "iopub.status.idle": "2022-04-05T04:26:28.107426Z",
     "shell.execute_reply": "2022-04-05T04:26:28.106924Z",
     "shell.execute_reply.started": "2022-04-05T04:26:28.063255Z"
    },
    "tags": []
   },
   "outputs": [
    {
     "name": "stdout",
     "output_type": "stream",
     "text": [
      "<class 'pandas.core.frame.DataFrame'>\n",
      "Int64Index: 118595 entries, 639663 to 811454\n",
      "Data columns (total 8 columns):\n",
      " #   Column          Non-Null Count   Dtype  \n",
      "---  ------          --------------   -----  \n",
      " 0   waferMap        118595 non-null  object \n",
      " 1   dieSize         118595 non-null  float64\n",
      " 2   lotName         118595 non-null  object \n",
      " 3   trianTestLabel  118595 non-null  object \n",
      " 4   failureType     118595 non-null  object \n",
      " 5   waferMapDim     118595 non-null  object \n",
      " 6   failureNum      118595 non-null  object \n",
      " 7   trainTestNum    118595 non-null  object \n",
      "dtypes: float64(1), object(7)\n",
      "memory usage: 8.1+ MB\n"
     ]
    }
   ],
   "source": [
    "wm811k_test.info()"
   ]
  },
  {
   "cell_type": "code",
   "execution_count": 14,
   "id": "45596e76",
   "metadata": {
    "execution": {
     "iopub.execute_input": "2022-04-05T04:26:28.108533Z",
     "iopub.status.busy": "2022-04-05T04:26:28.108533Z",
     "iopub.status.idle": "2022-04-05T04:26:28.153028Z",
     "shell.execute_reply": "2022-04-05T04:26:28.152707Z",
     "shell.execute_reply.started": "2022-04-05T04:26:28.108533Z"
    },
    "tags": []
   },
   "outputs": [
    {
     "data": {
      "text/plain": [
       "8    110701\n",
       "2      2772\n",
       "4      1973\n",
       "3      1126\n",
       "0       832\n",
       "6       693\n",
       "5       257\n",
       "1       146\n",
       "7        95\n",
       "Name: failureNum, dtype: int64"
      ]
     },
     "execution_count": 14,
     "metadata": {},
     "output_type": "execute_result"
    }
   ],
   "source": [
    "wm811k_test['failureNum'].apply(lambda x: str(x)).value_counts()"
   ]
  },
  {
   "cell_type": "markdown",
   "id": "d7b93355",
   "metadata": {},
   "source": [
    "### waferMap size 확인\n",
    "- data print 결과 빈 부분은 0, 정상 pixel은 1, 불량 pixel은 2로 표현되어있는 듯\n",
    "    - input shape 맞출 때 0으로 padding 주듯이 채우면 될 듯\n",
    "- 예상 전처리 과정 : 기존 데이터에 data augmentaion 적용 $ \\rightarrow $ 변형 데이터에 224x224 size zero_padding $ \\rightarrow $ input data"
   ]
  },
  {
   "cell_type": "code",
   "execution_count": 15,
   "id": "c27abdf8",
   "metadata": {
    "execution": {
     "iopub.execute_input": "2022-04-05T04:26:28.154159Z",
     "iopub.status.busy": "2022-04-05T04:26:28.154159Z",
     "iopub.status.idle": "2022-04-05T04:26:28.167592Z",
     "shell.execute_reply": "2022-04-05T04:26:28.167592Z",
     "shell.execute_reply.started": "2022-04-05T04:26:28.154159Z"
    },
    "tags": []
   },
   "outputs": [],
   "source": [
    "# pd.set_option('display.max_columns', None)\n",
    "# pd.set_option('display.max_rows', None)"
   ]
  },
  {
   "cell_type": "code",
   "execution_count": 16,
   "id": "a3edfa8c",
   "metadata": {
    "execution": {
     "iopub.execute_input": "2022-04-05T04:26:28.169728Z",
     "iopub.status.busy": "2022-04-05T04:26:28.168639Z",
     "iopub.status.idle": "2022-04-05T04:26:28.244898Z",
     "shell.execute_reply": "2022-04-05T04:26:28.244391Z",
     "shell.execute_reply.started": "2022-04-05T04:26:28.169728Z"
    },
    "tags": []
   },
   "outputs": [
    {
     "data": {
      "text/plain": [
       "(32, 29)    108687\n",
       "(25, 27)     64083\n",
       "(49, 39)     39323\n",
       "(26, 26)     30078\n",
       "(30, 34)     29513\n",
       "             ...  \n",
       "(24, 71)         1\n",
       "(61, 55)         1\n",
       "(54, 69)         1\n",
       "(18, 4)          1\n",
       "(32, 71)         1\n",
       "Name: waferMapDim, Length: 632, dtype: int64"
      ]
     },
     "execution_count": 16,
     "metadata": {},
     "output_type": "execute_result"
    }
   ],
   "source": [
    "# waferMap size 확인\n",
    "wm811k['waferMapDim'].value_counts()"
   ]
  },
  {
   "cell_type": "code",
   "execution_count": 17,
   "id": "336e9c4c",
   "metadata": {
    "collapsed": true,
    "execution": {
     "iopub.execute_input": "2022-04-05T04:26:28.246915Z",
     "iopub.status.busy": "2022-04-05T04:26:28.245918Z",
     "iopub.status.idle": "2022-04-05T04:26:28.275012Z",
     "shell.execute_reply": "2022-04-05T04:26:28.274602Z",
     "shell.execute_reply.started": "2022-04-05T04:26:28.246915Z"
    },
    "jupyter": {
     "outputs_hidden": true
    },
    "tags": []
   },
   "outputs": [
    {
     "name": "stdout",
     "output_type": "stream",
     "text": [
      "[0 0 0 0 0 0 0 0 0 0 0 0 0 0 0 0 0 0 0 0 0 2 1 1 1 1 1 0 0 0 0 0 0 0 0 0 0\n",
      " 0 0 0 0 0 0 0 0 0 0 0]\n",
      "[0 0 0 0 0 0 0 0 0 0 0 0 0 0 0 0 2 1 1 1 1 1 1 1 1 1 1 1 1 1 1 0 0 0 0 0 0\n",
      " 0 0 0 0 0 0 0 0 0 0 0]\n",
      "[0 0 0 0 0 0 0 0 0 0 0 0 0 0 1 1 1 1 1 1 1 1 1 1 1 1 1 1 1 1 2 1 1 1 0 0 0\n",
      " 0 0 0 0 0 0 0 0 0 0 0]\n",
      "[0 0 0 0 0 0 0 0 0 0 0 0 1 2 1 1 1 1 2 1 1 1 1 1 1 1 1 1 1 1 1 1 1 1 1 1 0\n",
      " 0 0 0 0 0 0 0 0 0 0 0]\n",
      "[0 0 0 0 0 0 0 0 0 0 1 1 1 1 1 1 1 1 1 1 1 1 1 1 1 1 1 1 1 1 1 1 1 1 1 1 1\n",
      " 2 0 0 0 0 0 0 0 0 0 0]\n",
      "[0 0 0 0 0 0 0 0 0 1 1 1 1 1 1 1 1 1 1 1 1 1 1 1 1 1 1 1 1 1 1 1 1 1 1 1 1\n",
      " 1 1 0 0 0 0 0 0 0 0 0]\n",
      "[0 0 0 0 0 0 0 2 1 1 1 1 1 1 1 1 1 1 1 1 1 1 1 1 1 1 1 2 1 1 1 1 1 1 1 1 1\n",
      " 1 1 1 0 0 0 0 0 0 0 0]\n",
      "[0 0 0 0 0 0 1 2 1 1 1 1 1 1 1 1 1 1 1 1 1 1 1 1 1 1 1 1 1 1 1 1 2 1 1 2 1\n",
      " 1 1 2 1 0 0 0 0 0 0 0]\n",
      "[0 0 0 0 0 2 1 1 1 1 1 1 1 1 2 1 1 1 1 2 1 1 1 1 1 1 1 2 1 1 1 1 1 1 1 1 1\n",
      " 1 1 1 1 1 0 0 0 0 0 0]\n",
      "[0 0 0 0 0 1 1 1 1 1 1 1 1 1 1 1 1 1 1 1 1 1 1 1 1 1 1 1 1 1 1 1 1 1 1 1 1\n",
      " 1 1 1 1 1 1 0 0 0 0 0]\n",
      "[0 0 0 0 1 2 1 1 1 1 1 1 1 1 2 1 1 1 1 1 1 1 1 1 1 1 1 1 1 1 1 2 1 1 1 1 1\n",
      " 1 1 1 2 1 1 1 0 0 0 0]\n",
      "[0 0 0 2 1 1 1 2 1 1 1 1 1 1 1 1 1 1 1 1 1 2 2 1 1 1 1 1 1 1 1 1 1 1 1 1 1\n",
      " 1 2 1 1 1 1 1 0 0 0 0]\n",
      "[0 0 0 1 1 1 1 1 1 1 1 1 1 1 1 1 1 1 1 1 1 1 1 1 1 1 1 1 1 1 1 1 1 1 1 1 1\n",
      " 1 1 1 1 1 1 1 1 0 0 0]\n",
      "[0 0 1 1 1 1 1 1 1 1 1 1 1 1 2 1 1 1 1 1 1 1 1 1 1 1 1 1 1 1 1 1 1 1 1 1 1\n",
      " 1 1 1 1 1 1 2 1 2 0 0]\n",
      "[0 0 1 1 1 1 1 1 1 1 1 1 1 1 1 1 1 1 2 1 1 1 1 1 1 1 1 1 1 1 1 1 1 1 1 1 1\n",
      " 1 1 1 1 1 1 1 1 1 0 0]\n",
      "[0 1 1 1 1 1 1 1 1 1 1 1 1 1 1 1 1 1 1 1 1 1 1 1 1 1 1 1 1 1 1 1 1 1 1 1 1\n",
      " 1 2 1 1 1 1 1 1 1 0 0]\n",
      "[0 1 1 1 1 1 1 1 1 1 1 1 1 1 1 1 1 1 1 1 1 1 1 1 2 1 1 1 1 1 1 1 1 1 1 1 1\n",
      " 1 1 1 1 1 1 1 2 1 1 0]\n",
      "[0 1 1 1 1 1 1 1 1 1 1 1 1 1 1 1 1 1 1 1 1 1 1 1 1 1 1 1 1 1 1 1 1 1 1 1 1\n",
      " 1 1 1 2 1 1 1 2 1 1 0]\n",
      "[1 1 1 1 1 1 1 1 1 1 1 1 1 1 2 1 1 1 1 1 2 1 1 1 1 1 1 1 1 1 1 1 1 1 1 1 1\n",
      " 1 1 1 1 1 1 1 2 1 1 0]\n",
      "[1 1 1 1 1 1 1 1 1 1 1 1 1 1 1 1 1 1 1 1 1 2 1 1 1 1 1 1 1 1 1 1 2 1 1 1 1\n",
      " 1 1 1 1 1 1 1 1 1 1 2]\n",
      "[1 1 1 1 1 1 1 1 1 1 1 1 1 2 1 1 1 1 1 1 1 1 1 1 1 1 1 1 1 2 1 1 1 1 1 2 1\n",
      " 1 1 1 1 1 1 1 1 1 1 1]\n",
      "[1 1 1 1 2 1 1 1 1 1 1 1 1 1 1 1 1 1 1 1 1 1 1 1 1 1 2 1 1 1 1 1 1 1 1 1 1\n",
      " 1 1 1 1 1 1 1 1 1 1 2]\n",
      "[1 1 1 1 1 1 1 1 1 1 1 1 1 1 1 1 1 1 1 1 1 1 1 1 1 1 1 1 1 1 1 1 1 1 1 1 1\n",
      " 1 1 1 1 1 2 1 1 1 1 2]\n",
      "[1 1 1 1 1 1 1 1 1 1 1 1 2 1 1 1 1 1 1 1 1 1 1 1 1 1 1 1 1 1 1 1 1 1 2 1 1\n",
      " 1 1 1 1 1 1 1 1 2 1 1]\n",
      "[1 1 1 1 1 1 1 1 1 1 1 1 1 1 1 1 1 1 1 1 1 1 1 1 1 1 1 1 1 1 1 1 1 1 1 1 1\n",
      " 1 1 1 1 1 1 1 1 1 1 1]\n",
      "[1 1 2 1 1 1 1 1 1 1 1 1 1 1 1 1 1 1 1 1 1 1 1 1 1 1 1 1 1 1 1 1 1 1 1 1 1\n",
      " 1 1 1 1 1 1 1 1 1 1 1]\n",
      "[1 1 1 1 1 2 1 1 1 1 1 1 2 1 1 2 1 1 1 1 1 1 2 1 1 1 1 1 1 1 1 1 1 1 1 1 1\n",
      " 1 1 1 1 1 2 1 1 1 1 0]\n",
      "[1 1 1 1 1 1 1 1 2 1 1 1 1 1 1 1 1 1 1 1 1 1 1 1 1 1 1 1 1 2 1 1 1 1 2 1 1\n",
      " 1 1 1 1 1 1 1 1 1 1 0]\n",
      "[0 1 1 1 1 1 1 1 1 1 1 1 1 1 1 1 1 1 1 1 1 1 1 1 1 1 1 1 1 1 1 1 1 1 1 1 1\n",
      " 1 1 1 1 1 1 1 1 1 1 0]\n",
      "[0 1 1 1 1 1 1 1 1 1 1 1 1 1 1 1 1 1 1 1 1 1 1 1 1 1 1 1 1 1 1 1 1 1 1 1 1\n",
      " 1 1 1 1 1 1 1 1 1 1 0]\n",
      "[0 2 1 1 1 1 1 1 1 1 1 1 1 1 1 1 1 1 1 1 1 1 1 1 1 1 1 1 1 1 1 2 1 1 1 1 1\n",
      " 1 1 1 1 1 1 1 1 1 0 0]\n",
      "[0 0 1 1 1 1 1 1 1 1 1 1 1 1 1 1 1 1 1 1 1 1 1 1 1 1 1 1 1 1 1 1 1 1 1 1 1\n",
      " 1 1 1 1 1 1 1 1 1 0 0]\n",
      "[0 0 1 1 1 1 1 1 1 1 1 1 1 1 1 1 1 2 1 2 1 1 1 1 1 1 1 1 1 1 1 1 1 1 1 2 1\n",
      " 1 1 1 1 1 1 1 2 0 0 0]\n",
      "[0 0 0 1 1 1 2 1 2 1 1 1 1 2 1 1 1 1 1 1 1 2 1 1 1 1 1 1 1 1 1 1 1 1 1 1 1\n",
      " 1 1 1 1 1 1 1 1 0 0 0]\n",
      "[0 0 0 0 1 1 1 1 1 2 1 1 1 1 1 1 1 1 1 1 1 1 1 1 1 1 1 1 1 1 1 1 2 1 1 1 1\n",
      " 1 1 1 1 1 1 1 0 0 0 0]\n",
      "[0 0 0 0 1 2 1 1 1 1 1 1 1 1 1 1 1 1 1 1 1 1 1 2 1 1 1 1 1 1 1 1 1 1 1 1 1\n",
      " 1 1 1 1 1 1 0 0 0 0 0]\n",
      "[0 0 0 0 0 2 2 1 1 1 1 1 1 1 1 2 1 1 1 1 1 1 1 1 1 1 1 1 1 1 1 1 1 1 1 1 1\n",
      " 1 1 1 1 1 1 0 0 0 0 0]\n",
      "[0 0 0 0 0 0 1 1 1 1 1 1 1 1 1 1 1 1 1 1 1 1 1 1 1 1 1 1 1 1 1 1 1 1 1 1 1\n",
      " 1 1 1 1 1 0 0 0 0 0 0]\n",
      "[0 0 0 0 0 0 0 1 1 1 1 1 1 1 1 1 1 1 1 1 1 1 2 1 1 1 1 1 1 1 1 1 1 1 1 1 1\n",
      " 1 1 1 2 0 0 0 0 0 0 0]\n",
      "[0 0 0 0 0 0 0 0 1 1 1 1 1 1 1 1 1 1 1 1 1 1 1 1 1 1 1 1 1 1 1 1 1 2 1 1 1\n",
      " 1 1 2 0 0 0 0 0 0 0 0]\n",
      "[0 0 0 0 0 0 0 0 0 1 1 1 1 1 1 1 1 1 1 1 1 1 1 1 1 1 1 1 1 1 2 1 1 1 1 1 1\n",
      " 1 0 0 0 0 0 0 0 0 0 0]\n",
      "[0 0 0 0 0 0 0 0 0 0 0 1 1 1 1 1 1 1 1 1 1 1 1 1 1 1 1 1 1 1 1 1 2 1 1 1 1\n",
      " 0 0 0 0 0 0 0 0 0 0 0]\n",
      "[0 0 0 0 0 0 0 0 0 0 0 0 0 2 1 1 1 1 1 1 1 1 1 1 2 1 1 1 1 1 1 1 1 1 1 0 0\n",
      " 0 0 0 0 0 0 0 0 0 0 0]\n",
      "[0 0 0 0 0 0 0 0 0 0 0 0 0 0 0 1 1 1 2 1 1 1 1 1 1 1 1 1 1 1 1 1 1 0 0 0 0\n",
      " 0 0 0 0 0 0 0 0 0 0 0]\n",
      "[0 0 0 0 0 0 0 0 0 0 0 0 0 0 0 0 0 0 1 2 1 1 1 1 1 1 1 1 1 2 0 0 0 0 0 0 0\n",
      " 0 0 0 0 0 0 0 0 0 0 0]\n"
     ]
    }
   ],
   "source": [
    "# waferMap 데이터 모양 예시 확인\n",
    "for i in range(len(wm811k.iloc[0]['waferMap'])):\n",
    "    print(wm811k.iloc[0]['waferMap'][i]) "
   ]
  },
  {
   "cell_type": "code",
   "execution_count": 18,
   "id": "414a195f",
   "metadata": {
    "execution": {
     "iopub.execute_input": "2022-04-05T04:26:28.276115Z",
     "iopub.status.busy": "2022-04-05T04:26:28.276115Z",
     "iopub.status.idle": "2022-04-05T04:26:28.291136Z",
     "shell.execute_reply": "2022-04-05T04:26:28.290100Z",
     "shell.execute_reply.started": "2022-04-05T04:26:28.276115Z"
    },
    "tags": []
   },
   "outputs": [
    {
     "data": {
      "text/plain": [
       "8    36730\n",
       "3     8554\n",
       "0     3462\n",
       "2     2417\n",
       "4     1620\n",
       "5      609\n",
       "6      500\n",
       "1      409\n",
       "7       54\n",
       "Name: failureNum, dtype: int64"
      ]
     },
     "execution_count": 18,
     "metadata": {},
     "output_type": "execute_result"
    }
   ],
   "source": [
    "# 학습 데이터 내 불량 클래스 개수 확인\n",
    "wm811k_train['failureNum'].value_counts()"
   ]
  },
  {
   "cell_type": "markdown",
   "id": "4dffbee9",
   "metadata": {},
   "source": [
    "### Data-Augmentaion - 클래스별로 10,000개\n",
    "- None(8): 36,730 중 10,000 개 Sampling\n",
    "- Edge-Ring(3): 8554\n",
    "    - 1446개 모자름\n",
    "- Center(0)     : 3462\n",
    "    - 6,538개 모자름\n",
    "- Edge-Loc(2)   : 2417\n",
    "    - 7,583개 모자름\n",
    "- Loc(4)        : 1620\n",
    "    - 8,380개 모자름\n",
    "- Random(5)     : 609\n",
    "    - 9,391개 모자름\n",
    "- Scratch(6)    : 500\n",
    "    - 9,500개 모자름\n",
    "- Donut(1)      : 409\n",
    "    - 9,591개 모자름\n",
    "- Near-full(7)  : 54\n",
    "    - 9,946개 모자름"
   ]
  },
  {
   "cell_type": "markdown",
   "id": "524dd19e",
   "metadata": {},
   "source": [
    "### Augmentation 기법 적용\n",
    "- 10도 회전 : 20%\n",
    "- 좌우 대칭 및 너비 이동(horizontal flipping and width shift) : 20%\n",
    "- 높이 이동(height shfit) : 15%\n",
    "- 전단 범위(shearing range) : 10%\n",
    "- 채널이동 및 확대 축소(channel shift and zooming) : 10%"
   ]
  },
  {
   "cell_type": "code",
   "execution_count": 19,
   "id": "524c2c3a",
   "metadata": {
    "execution": {
     "iopub.execute_input": "2022-04-05T04:26:28.292197Z",
     "iopub.status.busy": "2022-04-05T04:26:28.291999Z",
     "iopub.status.idle": "2022-04-05T04:26:28.426485Z",
     "shell.execute_reply": "2022-04-05T04:26:28.426142Z",
     "shell.execute_reply.started": "2022-04-05T04:26:28.292197Z"
    },
    "tags": []
   },
   "outputs": [
    {
     "data": {
      "text/html": [
       "<div>\n",
       "<style scoped>\n",
       "    .dataframe tbody tr th:only-of-type {\n",
       "        vertical-align: middle;\n",
       "    }\n",
       "\n",
       "    .dataframe tbody tr th {\n",
       "        vertical-align: top;\n",
       "    }\n",
       "\n",
       "    .dataframe thead th {\n",
       "        text-align: right;\n",
       "    }\n",
       "</style>\n",
       "<table border=\"1\" class=\"dataframe\">\n",
       "  <thead>\n",
       "    <tr style=\"text-align: right;\">\n",
       "      <th></th>\n",
       "      <th>waferMap</th>\n",
       "      <th>dieSize</th>\n",
       "      <th>lotName</th>\n",
       "      <th>trianTestLabel</th>\n",
       "      <th>failureType</th>\n",
       "      <th>waferMapDim</th>\n",
       "      <th>failureNum</th>\n",
       "      <th>trainTestNum</th>\n",
       "    </tr>\n",
       "  </thead>\n",
       "  <tbody>\n",
       "    <tr>\n",
       "      <th>0</th>\n",
       "      <td>[[0, 0, 0, 0, 0, 0, 0, 0, 0, 0, 0, 0, 0, 0, 0,...</td>\n",
       "      <td>1683.0</td>\n",
       "      <td>lot1</td>\n",
       "      <td>[[Training]]</td>\n",
       "      <td>[[none]]</td>\n",
       "      <td>(45, 48)</td>\n",
       "      <td>8</td>\n",
       "      <td>0</td>\n",
       "    </tr>\n",
       "    <tr>\n",
       "      <th>1</th>\n",
       "      <td>[[0, 0, 0, 0, 0, 0, 0, 0, 0, 0, 0, 0, 0, 0, 0,...</td>\n",
       "      <td>1683.0</td>\n",
       "      <td>lot1</td>\n",
       "      <td>[[Training]]</td>\n",
       "      <td>[[none]]</td>\n",
       "      <td>(45, 48)</td>\n",
       "      <td>8</td>\n",
       "      <td>0</td>\n",
       "    </tr>\n",
       "    <tr>\n",
       "      <th>2</th>\n",
       "      <td>[[0, 0, 0, 0, 0, 0, 0, 0, 0, 0, 0, 0, 0, 0, 0,...</td>\n",
       "      <td>1683.0</td>\n",
       "      <td>lot1</td>\n",
       "      <td>[[Training]]</td>\n",
       "      <td>[[none]]</td>\n",
       "      <td>(45, 48)</td>\n",
       "      <td>8</td>\n",
       "      <td>0</td>\n",
       "    </tr>\n",
       "    <tr>\n",
       "      <th>3</th>\n",
       "      <td>[[0, 0, 0, 0, 0, 0, 0, 0, 0, 0, 0, 0, 0, 0, 0,...</td>\n",
       "      <td>1683.0</td>\n",
       "      <td>lot1</td>\n",
       "      <td>[[Training]]</td>\n",
       "      <td>[[none]]</td>\n",
       "      <td>(45, 48)</td>\n",
       "      <td>8</td>\n",
       "      <td>0</td>\n",
       "    </tr>\n",
       "    <tr>\n",
       "      <th>4</th>\n",
       "      <td>[[0, 0, 0, 0, 0, 0, 0, 0, 0, 0, 0, 0, 0, 0, 0,...</td>\n",
       "      <td>1683.0</td>\n",
       "      <td>lot1</td>\n",
       "      <td>[[Training]]</td>\n",
       "      <td>[[none]]</td>\n",
       "      <td>(45, 48)</td>\n",
       "      <td>8</td>\n",
       "      <td>0</td>\n",
       "    </tr>\n",
       "  </tbody>\n",
       "</table>\n",
       "</div>"
      ],
      "text/plain": [
       "                                            waferMap  dieSize lotName  \\\n",
       "0  [[0, 0, 0, 0, 0, 0, 0, 0, 0, 0, 0, 0, 0, 0, 0,...   1683.0    lot1   \n",
       "1  [[0, 0, 0, 0, 0, 0, 0, 0, 0, 0, 0, 0, 0, 0, 0,...   1683.0    lot1   \n",
       "2  [[0, 0, 0, 0, 0, 0, 0, 0, 0, 0, 0, 0, 0, 0, 0,...   1683.0    lot1   \n",
       "3  [[0, 0, 0, 0, 0, 0, 0, 0, 0, 0, 0, 0, 0, 0, 0,...   1683.0    lot1   \n",
       "4  [[0, 0, 0, 0, 0, 0, 0, 0, 0, 0, 0, 0, 0, 0, 0,...   1683.0    lot1   \n",
       "\n",
       "  trianTestLabel failureType waferMapDim failureNum trainTestNum  \n",
       "0   [[Training]]    [[none]]    (45, 48)          8            0  \n",
       "1   [[Training]]    [[none]]    (45, 48)          8            0  \n",
       "2   [[Training]]    [[none]]    (45, 48)          8            0  \n",
       "3   [[Training]]    [[none]]    (45, 48)          8            0  \n",
       "4   [[Training]]    [[none]]    (45, 48)          8            0  "
      ]
     },
     "execution_count": 19,
     "metadata": {},
     "output_type": "execute_result"
    }
   ],
   "source": [
    "wm811k_train.head()"
   ]
  },
  {
   "cell_type": "markdown",
   "id": "2bebd086",
   "metadata": {},
   "source": [
    "### Augmentation 구현\n",
    "- 기법 별로 함수 작성\n",
    "- 비율 개수만큼 sampling\n",
    "- sampling 데이터에 작성한 기법별 함수 적용\n",
    "- waferMapDim 확인\n",
    "- data concat"
   ]
  },
  {
   "cell_type": "markdown",
   "id": "c7a8199b",
   "metadata": {},
   "source": [
    "- 10도 회전"
   ]
  },
  {
   "cell_type": "code",
   "execution_count": 20,
   "id": "04f059ed",
   "metadata": {
    "execution": {
     "iopub.execute_input": "2022-04-05T04:26:28.427552Z",
     "iopub.status.busy": "2022-04-05T04:26:28.427552Z",
     "iopub.status.idle": "2022-04-05T04:26:28.441626Z",
     "shell.execute_reply": "2022-04-05T04:26:28.440958Z",
     "shell.execute_reply.started": "2022-04-05T04:26:28.427552Z"
    },
    "tags": []
   },
   "outputs": [],
   "source": [
    "# 참고 : https://076923.github.io/posts/Python-opencv-6/\n",
    "def rotation_10_degree(data_img):\n",
    "    height, width = data_img.shape\n",
    "    rotation_10_degree_img = cv2.getRotationMatrix2D((width/2, height/2), 10, 1) # 중심점, 각도, 배율\n",
    "    dst = cv2.warpAffine(data_img, rotation_10_degree_img, (width,height))\n",
    "    return dst"
   ]
  },
  {
   "cell_type": "code",
   "execution_count": 55,
   "id": "6749cb17",
   "metadata": {
    "execution": {
     "iopub.execute_input": "2022-04-05T05:32:34.344468Z",
     "iopub.status.busy": "2022-04-05T05:32:34.343469Z",
     "iopub.status.idle": "2022-04-05T05:32:34.354431Z",
     "shell.execute_reply": "2022-04-05T05:32:34.352981Z",
     "shell.execute_reply.started": "2022-04-05T05:32:34.344468Z"
    },
    "tags": []
   },
   "outputs": [],
   "source": [
    "# 회전 변환 다른 라이브러리 활용하는 방법 참고\n",
    "# from scipy.ndimage.interpolation import rotate\n",
    "# rotated = rotate(test_wafermap.iloc[3][\"waferMap\"], angle=10,reshape=False)\n",
    "# plt.imshow(rotated)\n",
    "# plt.show()"
   ]
  },
  {
   "cell_type": "markdown",
   "id": "14e80245",
   "metadata": {},
   "source": [
    "- 좌우 대칭 및 너비 이동(horizontal flipping and width shift)\n",
    "    - cv2.flip : https://crmn.tistory.com/54\n",
    "        - flip_img = cv2.flip(data_img, 1) # 1:좌우반전, 0:상하반전 \n",
    "    - translate : https://m.blog.naver.com/PostView.naver?isHttpsRedirect=true&blogId=vps32&logNo=221762189533\n",
    "        - width shift\n",
    "        - height shift"
   ]
  },
  {
   "cell_type": "code",
   "execution_count": 41,
   "id": "4a8fbc21",
   "metadata": {
    "execution": {
     "iopub.execute_input": "2022-04-05T05:20:02.026824Z",
     "iopub.status.busy": "2022-04-05T05:20:02.026824Z",
     "iopub.status.idle": "2022-04-05T05:20:02.032621Z",
     "shell.execute_reply": "2022-04-05T05:20:02.032116Z",
     "shell.execute_reply.started": "2022-04-05T05:20:02.026824Z"
    },
    "tags": []
   },
   "outputs": [],
   "source": [
    "def translate(data_img):\n",
    "    height, width = data_img.shape\n",
    "    # random ~ 범위 지정하여 함수 실행 시 마다 무작위로 평행이동 정도 부여하게끔 수정 필요\n",
    "    # 224x224 size 안에서 이동하도록 코딩 필요\n",
    "    translate_matrix = np.float32([[1,0,10], [0,1,5]]) # 세로 50, 가로 100 만큼 평행 이동 \n",
    "    dst = cv2.warpAffine(data_img, translate_matrix, (width,height))\n",
    "    return dst"
   ]
  },
  {
   "cell_type": "markdown",
   "id": "2dd6fd74",
   "metadata": {},
   "source": [
    "- 전단 범위(shearing range)\n",
    "    - https://www.thepythoncode.com/article/image-transformations-using-opencv-in-python\n",
    "    - https://stackoverflow.com/questions/57881430/how-could-i-implement-a-centered-shear-an-image-with-opencv"
   ]
  },
  {
   "cell_type": "code",
   "execution_count": 61,
   "id": "0f087728",
   "metadata": {
    "execution": {
     "iopub.execute_input": "2022-04-05T05:33:39.521808Z",
     "iopub.status.busy": "2022-04-05T05:33:39.521808Z",
     "iopub.status.idle": "2022-04-05T05:33:39.538995Z",
     "shell.execute_reply": "2022-04-05T05:33:39.538496Z",
     "shell.execute_reply.started": "2022-04-05T05:33:39.521808Z"
    },
    "tags": []
   },
   "outputs": [],
   "source": [
    "def shearing(data_img):\n",
    "    height, width = data_img.shape\n",
    "    # random ~ 범위 지정하여 함수 실행 시 마다 x축, y축 shearing 정도 부여하게끔 수정 필요\n",
    "    shearing_matrix = np.float32([[1, 0.5, 0],    # shearing applied to y-axis\n",
    "             \t                  [0, 1  , 0],    # M = np.float32([[1,   0, 0],\n",
    "            \t                  [0, 0  , 1]])   #             \t[0.5, 1, 0],\n",
    "                                                  #             \t[0,   0, 1]])  \n",
    "    # apply a perspective transformation to the image                \n",
    "    dst = cv2.warpPerspective(data_img, shearing_matrix, (int(width*1.5),int(height*1.5)))                      \n",
    "    # 변형 이미지 중심 보정?\n",
    "    return dst"
   ]
  },
  {
   "cell_type": "markdown",
   "id": "bed9c6b0",
   "metadata": {},
   "source": [
    "- 채널이동 및 확대 축소(channel shift and zooming)\n",
    "    - 단일 채널 이미지라 channel shift는 적용 안 될 것 같음\n",
    "    - zoom : https://076923.github.io/posts/Python-opencv-7/"
   ]
  },
  {
   "cell_type": "code",
   "execution_count": 33,
   "id": "80ed8f9d",
   "metadata": {
    "execution": {
     "iopub.execute_input": "2022-04-05T05:03:01.782517Z",
     "iopub.status.busy": "2022-04-05T05:03:01.782517Z",
     "iopub.status.idle": "2022-04-05T05:03:01.786937Z",
     "shell.execute_reply": "2022-04-05T05:03:01.786436Z",
     "shell.execute_reply.started": "2022-04-05T05:03:01.782517Z"
    },
    "tags": []
   },
   "outputs": [],
   "source": [
    "def zoom(data_img):\n",
    "    height, width = data_img.shape\n",
    "    # 2배 확대 이미지 / 가로 세로 값이 조건에 맞으면 dstsize로 값 부여하여 세밀 조정 가능\n",
    "    # 224x224 size 안에서 2배 확대 가능하도록 코딩 필요\n",
    "    dst = cv2.pyrUp(data_img, dstsize=(width * 2, height * 2), borderType=cv2.BORDER_DEFAULT)\n",
    "    return dst"
   ]
  },
  {
   "cell_type": "markdown",
   "id": "960ca8fb",
   "metadata": {},
   "source": [
    "- test"
   ]
  },
  {
   "cell_type": "code",
   "execution_count": 21,
   "id": "6b94dbdd",
   "metadata": {
    "execution": {
     "iopub.execute_input": "2022-04-05T04:47:24.383149Z",
     "iopub.status.busy": "2022-04-05T04:47:24.383149Z",
     "iopub.status.idle": "2022-04-05T04:47:24.406596Z",
     "shell.execute_reply": "2022-04-05T04:47:24.406007Z",
     "shell.execute_reply.started": "2022-04-05T04:47:24.383149Z"
    },
    "tags": []
   },
   "outputs": [],
   "source": [
    "test_wafermap = wm811k_train.query(\"failureNum == 6\").sample(n=5)"
   ]
  },
  {
   "cell_type": "code",
   "execution_count": 22,
   "id": "9cd5c39b",
   "metadata": {
    "execution": {
     "iopub.execute_input": "2022-04-05T04:47:24.950965Z",
     "iopub.status.busy": "2022-04-05T04:47:24.949965Z",
     "iopub.status.idle": "2022-04-05T04:47:25.216770Z",
     "shell.execute_reply": "2022-04-05T04:47:25.216270Z",
     "shell.execute_reply.started": "2022-04-05T04:47:24.950965Z"
    },
    "tags": []
   },
   "outputs": [
    {
     "data": {
      "text/html": [
       "<div>\n",
       "<style scoped>\n",
       "    .dataframe tbody tr th:only-of-type {\n",
       "        vertical-align: middle;\n",
       "    }\n",
       "\n",
       "    .dataframe tbody tr th {\n",
       "        vertical-align: top;\n",
       "    }\n",
       "\n",
       "    .dataframe thead th {\n",
       "        text-align: right;\n",
       "    }\n",
       "</style>\n",
       "<table border=\"1\" class=\"dataframe\">\n",
       "  <thead>\n",
       "    <tr style=\"text-align: right;\">\n",
       "      <th></th>\n",
       "      <th>waferMap</th>\n",
       "      <th>dieSize</th>\n",
       "      <th>lotName</th>\n",
       "      <th>trianTestLabel</th>\n",
       "      <th>failureType</th>\n",
       "      <th>waferMapDim</th>\n",
       "      <th>failureNum</th>\n",
       "      <th>trainTestNum</th>\n",
       "    </tr>\n",
       "  </thead>\n",
       "  <tbody>\n",
       "    <tr>\n",
       "      <th>357971</th>\n",
       "      <td>[[0, 0, 0, 0, 0, 0, 0, 0, 0, 0, 0, 0, 0, 0, 0,...</td>\n",
       "      <td>2393.0</td>\n",
       "      <td>lot21423</td>\n",
       "      <td>[[Training]]</td>\n",
       "      <td>[[Scratch]]</td>\n",
       "      <td>(52, 59)</td>\n",
       "      <td>6</td>\n",
       "      <td>0</td>\n",
       "    </tr>\n",
       "    <tr>\n",
       "      <th>176685</th>\n",
       "      <td>[[0, 0, 0, 0, 0, 0, 0, 0, 0, 0, 0, 0, 0, 0, 0,...</td>\n",
       "      <td>2393.0</td>\n",
       "      <td>lot11293</td>\n",
       "      <td>[[Training]]</td>\n",
       "      <td>[[Scratch]]</td>\n",
       "      <td>(52, 59)</td>\n",
       "      <td>6</td>\n",
       "      <td>0</td>\n",
       "    </tr>\n",
       "    <tr>\n",
       "      <th>387951</th>\n",
       "      <td>[[0, 0, 0, 0, 0, 0, 0, 0, 0, 0, 0, 0, 0, 0, 0,...</td>\n",
       "      <td>3878.0</td>\n",
       "      <td>lot23237</td>\n",
       "      <td>[[Training]]</td>\n",
       "      <td>[[Scratch]]</td>\n",
       "      <td>(88, 56)</td>\n",
       "      <td>6</td>\n",
       "      <td>0</td>\n",
       "    </tr>\n",
       "    <tr>\n",
       "      <th>229433</th>\n",
       "      <td>[[0, 0, 0, 0, 0, 0, 0, 0, 0, 0, 0, 0, 0, 0, 0,...</td>\n",
       "      <td>5633.0</td>\n",
       "      <td>lot14376</td>\n",
       "      <td>[[Training]]</td>\n",
       "      <td>[[Scratch]]</td>\n",
       "      <td>(88, 81)</td>\n",
       "      <td>6</td>\n",
       "      <td>0</td>\n",
       "    </tr>\n",
       "    <tr>\n",
       "      <th>412421</th>\n",
       "      <td>[[0, 0, 0, 0, 0, 0, 0, 0, 0, 0, 0, 0, 0, 0, 0,...</td>\n",
       "      <td>2404.0</td>\n",
       "      <td>lot24552</td>\n",
       "      <td>[[Training]]</td>\n",
       "      <td>[[Scratch]]</td>\n",
       "      <td>(58, 53)</td>\n",
       "      <td>6</td>\n",
       "      <td>0</td>\n",
       "    </tr>\n",
       "  </tbody>\n",
       "</table>\n",
       "</div>"
      ],
      "text/plain": [
       "                                                 waferMap  dieSize   lotName  \\\n",
       "357971  [[0, 0, 0, 0, 0, 0, 0, 0, 0, 0, 0, 0, 0, 0, 0,...   2393.0  lot21423   \n",
       "176685  [[0, 0, 0, 0, 0, 0, 0, 0, 0, 0, 0, 0, 0, 0, 0,...   2393.0  lot11293   \n",
       "387951  [[0, 0, 0, 0, 0, 0, 0, 0, 0, 0, 0, 0, 0, 0, 0,...   3878.0  lot23237   \n",
       "229433  [[0, 0, 0, 0, 0, 0, 0, 0, 0, 0, 0, 0, 0, 0, 0,...   5633.0  lot14376   \n",
       "412421  [[0, 0, 0, 0, 0, 0, 0, 0, 0, 0, 0, 0, 0, 0, 0,...   2404.0  lot24552   \n",
       "\n",
       "       trianTestLabel  failureType waferMapDim failureNum trainTestNum  \n",
       "357971   [[Training]]  [[Scratch]]    (52, 59)          6            0  \n",
       "176685   [[Training]]  [[Scratch]]    (52, 59)          6            0  \n",
       "387951   [[Training]]  [[Scratch]]    (88, 56)          6            0  \n",
       "229433   [[Training]]  [[Scratch]]    (88, 81)          6            0  \n",
       "412421   [[Training]]  [[Scratch]]    (58, 53)          6            0  "
      ]
     },
     "execution_count": 22,
     "metadata": {},
     "output_type": "execute_result"
    }
   ],
   "source": [
    "test_wafermap.head()"
   ]
  },
  {
   "cell_type": "code",
   "execution_count": 66,
   "id": "d0266abb",
   "metadata": {
    "execution": {
     "iopub.execute_input": "2022-04-05T05:34:25.081988Z",
     "iopub.status.busy": "2022-04-05T05:34:25.081988Z",
     "iopub.status.idle": "2022-04-05T05:34:25.105018Z",
     "shell.execute_reply": "2022-04-05T05:34:25.104518Z",
     "shell.execute_reply.started": "2022-04-05T05:34:25.081988Z"
    },
    "tags": []
   },
   "outputs": [],
   "source": [
    "# test_wafermap[\"waferMap_augmentation\"] = test_wafermap[\"waferMap\"].apply(lambda x: rotation_10_degree(x))\n",
    "# test_wafermap[\"waferMap_augmentation\"] = test_wafermap[\"waferMap\"].apply(lambda x: translate(x))\n",
    "# test_wafermap[\"waferMap_augmentation\"] = test_wafermap[\"waferMap\"].apply(lambda x: shearing(x))\n",
    "test_wafermap[\"waferMap_augmentation\"] = test_wafermap[\"waferMap\"].apply(lambda x: zoom(x))"
   ]
  },
  {
   "cell_type": "code",
   "execution_count": 67,
   "id": "3903a87e",
   "metadata": {
    "execution": {
     "iopub.execute_input": "2022-04-05T05:34:25.995203Z",
     "iopub.status.busy": "2022-04-05T05:34:25.995203Z",
     "iopub.status.idle": "2022-04-05T05:34:26.749154Z",
     "shell.execute_reply": "2022-04-05T05:34:26.748654Z",
     "shell.execute_reply.started": "2022-04-05T05:34:25.995203Z"
    },
    "tags": []
   },
   "outputs": [
    {
     "data": {
      "text/html": [
       "<div>\n",
       "<style scoped>\n",
       "    .dataframe tbody tr th:only-of-type {\n",
       "        vertical-align: middle;\n",
       "    }\n",
       "\n",
       "    .dataframe tbody tr th {\n",
       "        vertical-align: top;\n",
       "    }\n",
       "\n",
       "    .dataframe thead th {\n",
       "        text-align: right;\n",
       "    }\n",
       "</style>\n",
       "<table border=\"1\" class=\"dataframe\">\n",
       "  <thead>\n",
       "    <tr style=\"text-align: right;\">\n",
       "      <th></th>\n",
       "      <th>waferMap</th>\n",
       "      <th>dieSize</th>\n",
       "      <th>lotName</th>\n",
       "      <th>trianTestLabel</th>\n",
       "      <th>failureType</th>\n",
       "      <th>waferMapDim</th>\n",
       "      <th>failureNum</th>\n",
       "      <th>trainTestNum</th>\n",
       "      <th>waferMap_augmentation</th>\n",
       "      <th>waferMap_augmentation_Dim</th>\n",
       "    </tr>\n",
       "  </thead>\n",
       "  <tbody>\n",
       "    <tr>\n",
       "      <th>357971</th>\n",
       "      <td>[[0, 0, 0, 0, 0, 0, 0, 0, 0, 0, 0, 0, 0, 0, 0,...</td>\n",
       "      <td>2393.0</td>\n",
       "      <td>lot21423</td>\n",
       "      <td>[[Training]]</td>\n",
       "      <td>[[Scratch]]</td>\n",
       "      <td>(52, 59)</td>\n",
       "      <td>6</td>\n",
       "      <td>0</td>\n",
       "      <td>[[0, 0, 0, 0, 0, 0, 0, 0, 0, 0, 0, 0, 0, 0, 0,...</td>\n",
       "      <td>(52, 59)</td>\n",
       "    </tr>\n",
       "    <tr>\n",
       "      <th>176685</th>\n",
       "      <td>[[0, 0, 0, 0, 0, 0, 0, 0, 0, 0, 0, 0, 0, 0, 0,...</td>\n",
       "      <td>2393.0</td>\n",
       "      <td>lot11293</td>\n",
       "      <td>[[Training]]</td>\n",
       "      <td>[[Scratch]]</td>\n",
       "      <td>(52, 59)</td>\n",
       "      <td>6</td>\n",
       "      <td>0</td>\n",
       "      <td>[[0, 0, 0, 0, 0, 0, 0, 0, 0, 0, 0, 0, 0, 0, 0,...</td>\n",
       "      <td>(52, 59)</td>\n",
       "    </tr>\n",
       "    <tr>\n",
       "      <th>387951</th>\n",
       "      <td>[[0, 0, 0, 0, 0, 0, 0, 0, 0, 0, 0, 0, 0, 0, 0,...</td>\n",
       "      <td>3878.0</td>\n",
       "      <td>lot23237</td>\n",
       "      <td>[[Training]]</td>\n",
       "      <td>[[Scratch]]</td>\n",
       "      <td>(88, 56)</td>\n",
       "      <td>6</td>\n",
       "      <td>0</td>\n",
       "      <td>[[0, 0, 0, 0, 0, 0, 0, 0, 0, 0, 0, 0, 0, 0, 0,...</td>\n",
       "      <td>(88, 56)</td>\n",
       "    </tr>\n",
       "    <tr>\n",
       "      <th>229433</th>\n",
       "      <td>[[0, 0, 0, 0, 0, 0, 0, 0, 0, 0, 0, 0, 0, 0, 0,...</td>\n",
       "      <td>5633.0</td>\n",
       "      <td>lot14376</td>\n",
       "      <td>[[Training]]</td>\n",
       "      <td>[[Scratch]]</td>\n",
       "      <td>(88, 81)</td>\n",
       "      <td>6</td>\n",
       "      <td>0</td>\n",
       "      <td>[[0, 0, 0, 0, 0, 0, 0, 0, 0, 0, 0, 0, 0, 0, 0,...</td>\n",
       "      <td>(88, 81)</td>\n",
       "    </tr>\n",
       "    <tr>\n",
       "      <th>412421</th>\n",
       "      <td>[[0, 0, 0, 0, 0, 0, 0, 0, 0, 0, 0, 0, 0, 0, 0,...</td>\n",
       "      <td>2404.0</td>\n",
       "      <td>lot24552</td>\n",
       "      <td>[[Training]]</td>\n",
       "      <td>[[Scratch]]</td>\n",
       "      <td>(58, 53)</td>\n",
       "      <td>6</td>\n",
       "      <td>0</td>\n",
       "      <td>[[0, 0, 0, 0, 0, 0, 0, 0, 0, 0, 0, 0, 0, 0, 0,...</td>\n",
       "      <td>(58, 53)</td>\n",
       "    </tr>\n",
       "  </tbody>\n",
       "</table>\n",
       "</div>"
      ],
      "text/plain": [
       "                                                 waferMap  dieSize   lotName  \\\n",
       "357971  [[0, 0, 0, 0, 0, 0, 0, 0, 0, 0, 0, 0, 0, 0, 0,...   2393.0  lot21423   \n",
       "176685  [[0, 0, 0, 0, 0, 0, 0, 0, 0, 0, 0, 0, 0, 0, 0,...   2393.0  lot11293   \n",
       "387951  [[0, 0, 0, 0, 0, 0, 0, 0, 0, 0, 0, 0, 0, 0, 0,...   3878.0  lot23237   \n",
       "229433  [[0, 0, 0, 0, 0, 0, 0, 0, 0, 0, 0, 0, 0, 0, 0,...   5633.0  lot14376   \n",
       "412421  [[0, 0, 0, 0, 0, 0, 0, 0, 0, 0, 0, 0, 0, 0, 0,...   2404.0  lot24552   \n",
       "\n",
       "       trianTestLabel  failureType waferMapDim failureNum trainTestNum  \\\n",
       "357971   [[Training]]  [[Scratch]]    (52, 59)          6            0   \n",
       "176685   [[Training]]  [[Scratch]]    (52, 59)          6            0   \n",
       "387951   [[Training]]  [[Scratch]]    (88, 56)          6            0   \n",
       "229433   [[Training]]  [[Scratch]]    (88, 81)          6            0   \n",
       "412421   [[Training]]  [[Scratch]]    (58, 53)          6            0   \n",
       "\n",
       "                                    waferMap_augmentation  \\\n",
       "357971  [[0, 0, 0, 0, 0, 0, 0, 0, 0, 0, 0, 0, 0, 0, 0,...   \n",
       "176685  [[0, 0, 0, 0, 0, 0, 0, 0, 0, 0, 0, 0, 0, 0, 0,...   \n",
       "387951  [[0, 0, 0, 0, 0, 0, 0, 0, 0, 0, 0, 0, 0, 0, 0,...   \n",
       "229433  [[0, 0, 0, 0, 0, 0, 0, 0, 0, 0, 0, 0, 0, 0, 0,...   \n",
       "412421  [[0, 0, 0, 0, 0, 0, 0, 0, 0, 0, 0, 0, 0, 0, 0,...   \n",
       "\n",
       "       waferMap_augmentation_Dim  \n",
       "357971                  (52, 59)  \n",
       "176685                  (52, 59)  \n",
       "387951                  (88, 56)  \n",
       "229433                  (88, 81)  \n",
       "412421                  (58, 53)  "
      ]
     },
     "execution_count": 67,
     "metadata": {},
     "output_type": "execute_result"
    }
   ],
   "source": [
    "test_wafermap.head()"
   ]
  },
  {
   "cell_type": "code",
   "execution_count": 68,
   "id": "aabeb267",
   "metadata": {
    "execution": {
     "iopub.execute_input": "2022-04-05T05:34:27.375469Z",
     "iopub.status.busy": "2022-04-05T05:34:27.375469Z",
     "iopub.status.idle": "2022-04-05T05:34:27.468998Z",
     "shell.execute_reply": "2022-04-05T05:34:27.468497Z",
     "shell.execute_reply.started": "2022-04-05T05:34:27.375469Z"
    },
    "tags": []
   },
   "outputs": [
    {
     "data": {
      "image/png": "[encoded data removed]",
      "text/plain": [
       "<Figure size 432x288 with 1 Axes>"
      ]
     },
     "metadata": {
      "needs_background": "light"
     },
     "output_type": "display_data"
    }
   ],
   "source": [
    "plt.imshow(test_wafermap.iloc[3][\"waferMap\"])\n",
    "plt.show()"
   ]
  },
  {
   "cell_type": "code",
   "execution_count": 69,
   "id": "2703646e",
   "metadata": {
    "execution": {
     "iopub.execute_input": "2022-04-05T05:34:29.000896Z",
     "iopub.status.busy": "2022-04-05T05:34:29.000896Z",
     "iopub.status.idle": "2022-04-05T05:34:29.100921Z",
     "shell.execute_reply": "2022-04-05T05:34:29.100921Z",
     "shell.execute_reply.started": "2022-04-05T05:34:29.000896Z"
    },
    "tags": []
   },
   "outputs": [
    {
     "data": {
      "image/png": "[encoded data removed]",
      "text/plain": [
       "<Figure size 432x288 with 1 Axes>"
      ]
     },
     "metadata": {
      "needs_background": "light"
     },
     "output_type": "display_data"
    }
   ],
   "source": [
    "plt.imshow(test_wafermap.iloc[3][\"waferMap_augmentation\"])\n",
    "plt.show()"
   ]
  },
  {
   "cell_type": "code",
   "execution_count": 70,
   "id": "a2eb7453",
   "metadata": {
    "execution": {
     "iopub.execute_input": "2022-04-05T05:34:35.582844Z",
     "iopub.status.busy": "2022-04-05T05:34:35.581842Z",
     "iopub.status.idle": "2022-04-05T05:34:36.293048Z",
     "shell.execute_reply": "2022-04-05T05:34:36.292548Z",
     "shell.execute_reply.started": "2022-04-05T05:34:35.582844Z"
    },
    "tags": []
   },
   "outputs": [
    {
     "data": {
      "text/html": [
       "<div>\n",
       "<style scoped>\n",
       "    .dataframe tbody tr th:only-of-type {\n",
       "        vertical-align: middle;\n",
       "    }\n",
       "\n",
       "    .dataframe tbody tr th {\n",
       "        vertical-align: top;\n",
       "    }\n",
       "\n",
       "    .dataframe thead th {\n",
       "        text-align: right;\n",
       "    }\n",
       "</style>\n",
       "<table border=\"1\" class=\"dataframe\">\n",
       "  <thead>\n",
       "    <tr style=\"text-align: right;\">\n",
       "      <th></th>\n",
       "      <th>waferMap</th>\n",
       "      <th>dieSize</th>\n",
       "      <th>lotName</th>\n",
       "      <th>trianTestLabel</th>\n",
       "      <th>failureType</th>\n",
       "      <th>waferMapDim</th>\n",
       "      <th>failureNum</th>\n",
       "      <th>trainTestNum</th>\n",
       "      <th>waferMap_augmentation</th>\n",
       "      <th>waferMap_augmentation_Dim</th>\n",
       "    </tr>\n",
       "  </thead>\n",
       "  <tbody>\n",
       "    <tr>\n",
       "      <th>357971</th>\n",
       "      <td>[[0, 0, 0, 0, 0, 0, 0, 0, 0, 0, 0, 0, 0, 0, 0,...</td>\n",
       "      <td>2393.0</td>\n",
       "      <td>lot21423</td>\n",
       "      <td>[[Training]]</td>\n",
       "      <td>[[Scratch]]</td>\n",
       "      <td>(52, 59)</td>\n",
       "      <td>6</td>\n",
       "      <td>0</td>\n",
       "      <td>[[0, 0, 0, 0, 0, 0, 0, 0, 0, 0, 0, 0, 0, 0, 0,...</td>\n",
       "      <td>(104, 118)</td>\n",
       "    </tr>\n",
       "    <tr>\n",
       "      <th>176685</th>\n",
       "      <td>[[0, 0, 0, 0, 0, 0, 0, 0, 0, 0, 0, 0, 0, 0, 0,...</td>\n",
       "      <td>2393.0</td>\n",
       "      <td>lot11293</td>\n",
       "      <td>[[Training]]</td>\n",
       "      <td>[[Scratch]]</td>\n",
       "      <td>(52, 59)</td>\n",
       "      <td>6</td>\n",
       "      <td>0</td>\n",
       "      <td>[[0, 0, 0, 0, 0, 0, 0, 0, 0, 0, 0, 0, 0, 0, 0,...</td>\n",
       "      <td>(104, 118)</td>\n",
       "    </tr>\n",
       "    <tr>\n",
       "      <th>387951</th>\n",
       "      <td>[[0, 0, 0, 0, 0, 0, 0, 0, 0, 0, 0, 0, 0, 0, 0,...</td>\n",
       "      <td>3878.0</td>\n",
       "      <td>lot23237</td>\n",
       "      <td>[[Training]]</td>\n",
       "      <td>[[Scratch]]</td>\n",
       "      <td>(88, 56)</td>\n",
       "      <td>6</td>\n",
       "      <td>0</td>\n",
       "      <td>[[0, 0, 0, 0, 0, 0, 0, 0, 0, 0, 0, 0, 0, 0, 0,...</td>\n",
       "      <td>(176, 112)</td>\n",
       "    </tr>\n",
       "    <tr>\n",
       "      <th>229433</th>\n",
       "      <td>[[0, 0, 0, 0, 0, 0, 0, 0, 0, 0, 0, 0, 0, 0, 0,...</td>\n",
       "      <td>5633.0</td>\n",
       "      <td>lot14376</td>\n",
       "      <td>[[Training]]</td>\n",
       "      <td>[[Scratch]]</td>\n",
       "      <td>(88, 81)</td>\n",
       "      <td>6</td>\n",
       "      <td>0</td>\n",
       "      <td>[[0, 0, 0, 0, 0, 0, 0, 0, 0, 0, 0, 0, 0, 0, 0,...</td>\n",
       "      <td>(176, 162)</td>\n",
       "    </tr>\n",
       "    <tr>\n",
       "      <th>412421</th>\n",
       "      <td>[[0, 0, 0, 0, 0, 0, 0, 0, 0, 0, 0, 0, 0, 0, 0,...</td>\n",
       "      <td>2404.0</td>\n",
       "      <td>lot24552</td>\n",
       "      <td>[[Training]]</td>\n",
       "      <td>[[Scratch]]</td>\n",
       "      <td>(58, 53)</td>\n",
       "      <td>6</td>\n",
       "      <td>0</td>\n",
       "      <td>[[0, 0, 0, 0, 0, 0, 0, 0, 0, 0, 0, 0, 0, 0, 0,...</td>\n",
       "      <td>(116, 106)</td>\n",
       "    </tr>\n",
       "  </tbody>\n",
       "</table>\n",
       "</div>"
      ],
      "text/plain": [
       "                                                 waferMap  dieSize   lotName  \\\n",
       "357971  [[0, 0, 0, 0, 0, 0, 0, 0, 0, 0, 0, 0, 0, 0, 0,...   2393.0  lot21423   \n",
       "176685  [[0, 0, 0, 0, 0, 0, 0, 0, 0, 0, 0, 0, 0, 0, 0,...   2393.0  lot11293   \n",
       "387951  [[0, 0, 0, 0, 0, 0, 0, 0, 0, 0, 0, 0, 0, 0, 0,...   3878.0  lot23237   \n",
       "229433  [[0, 0, 0, 0, 0, 0, 0, 0, 0, 0, 0, 0, 0, 0, 0,...   5633.0  lot14376   \n",
       "412421  [[0, 0, 0, 0, 0, 0, 0, 0, 0, 0, 0, 0, 0, 0, 0,...   2404.0  lot24552   \n",
       "\n",
       "       trianTestLabel  failureType waferMapDim failureNum trainTestNum  \\\n",
       "357971   [[Training]]  [[Scratch]]    (52, 59)          6            0   \n",
       "176685   [[Training]]  [[Scratch]]    (52, 59)          6            0   \n",
       "387951   [[Training]]  [[Scratch]]    (88, 56)          6            0   \n",
       "229433   [[Training]]  [[Scratch]]    (88, 81)          6            0   \n",
       "412421   [[Training]]  [[Scratch]]    (58, 53)          6            0   \n",
       "\n",
       "                                    waferMap_augmentation  \\\n",
       "357971  [[0, 0, 0, 0, 0, 0, 0, 0, 0, 0, 0, 0, 0, 0, 0,...   \n",
       "176685  [[0, 0, 0, 0, 0, 0, 0, 0, 0, 0, 0, 0, 0, 0, 0,...   \n",
       "387951  [[0, 0, 0, 0, 0, 0, 0, 0, 0, 0, 0, 0, 0, 0, 0,...   \n",
       "229433  [[0, 0, 0, 0, 0, 0, 0, 0, 0, 0, 0, 0, 0, 0, 0,...   \n",
       "412421  [[0, 0, 0, 0, 0, 0, 0, 0, 0, 0, 0, 0, 0, 0, 0,...   \n",
       "\n",
       "       waferMap_augmentation_Dim  \n",
       "357971                (104, 118)  \n",
       "176685                (104, 118)  \n",
       "387951                (176, 112)  \n",
       "229433                (176, 162)  \n",
       "412421                (116, 106)  "
      ]
     },
     "execution_count": 70,
     "metadata": {},
     "output_type": "execute_result"
    }
   ],
   "source": [
    "# augmentated data dim\n",
    "test_wafermap['waferMap_augmentation_Dim']=test_wafermap['waferMap_augmentation'].apply(find_dim)\n",
    "test_wafermap.head()"
   ]
  },
  {
   "cell_type": "markdown",
   "id": "42cf530c",
   "metadata": {},
   "source": [
    "### wm811k_new_train_class_XXX 만들어서 concat하기\n",
    "- CNN-WDI input shape 244x244에 맞게 zero-padding 줘야함"
   ]
  },
  {
   "cell_type": "code",
   "execution_count": 29,
   "id": "af68eadd",
   "metadata": {
    "execution": {
     "iopub.execute_input": "2022-04-05T04:57:46.469354Z",
     "iopub.status.busy": "2022-04-05T04:57:46.469354Z",
     "iopub.status.idle": "2022-04-05T04:57:46.512545Z",
     "shell.execute_reply": "2022-04-05T04:57:46.512044Z",
     "shell.execute_reply.started": "2022-04-05T04:57:46.469354Z"
    },
    "tags": []
   },
   "outputs": [],
   "source": [
    "# None type class 10,000개 sampling\n",
    "# 참고 : https://rfriend.tistory.com/602\n",
    "wm811k_new_train_class_none = wm811k_train.query(\"failureNum == 8\").sample(n=10000, random_state=2022)"
   ]
  },
  {
   "cell_type": "code",
   "execution_count": 30,
   "id": "20b1c18b",
   "metadata": {
    "execution": {
     "iopub.execute_input": "2022-04-05T04:57:47.349692Z",
     "iopub.status.busy": "2022-04-05T04:57:47.349692Z",
     "iopub.status.idle": "2022-04-05T04:57:47.378615Z",
     "shell.execute_reply": "2022-04-05T04:57:47.378113Z",
     "shell.execute_reply.started": "2022-04-05T04:57:47.349692Z"
    },
    "tags": []
   },
   "outputs": [
    {
     "name": "stdout",
     "output_type": "stream",
     "text": [
      "<class 'pandas.core.frame.DataFrame'>\n",
      "Int64Index: 10000 entries, 749336 to 244652\n",
      "Data columns (total 8 columns):\n",
      " #   Column          Non-Null Count  Dtype  \n",
      "---  ------          --------------  -----  \n",
      " 0   waferMap        10000 non-null  object \n",
      " 1   dieSize         10000 non-null  float64\n",
      " 2   lotName         10000 non-null  object \n",
      " 3   trianTestLabel  10000 non-null  object \n",
      " 4   failureType     10000 non-null  object \n",
      " 5   waferMapDim     10000 non-null  object \n",
      " 6   failureNum      10000 non-null  object \n",
      " 7   trainTestNum    10000 non-null  object \n",
      "dtypes: float64(1), object(7)\n",
      "memory usage: 703.1+ KB\n"
     ]
    }
   ],
   "source": [
    "wm811k_new_train_class_none.info()"
   ]
  },
  {
   "cell_type": "code",
   "execution_count": null,
   "id": "4833f56b",
   "metadata": {
    "tags": []
   },
   "outputs": [],
   "source": [
    "# Edge-Ring 1446개\n",
    "# 10도 회전 : 20%\n",
    "# 좌우 대칭 및 너비 이동 : 20%\n",
    "# 높이 이동: 15%\n",
    "# 전단 범위(shearing range) : 10%\n",
    "# 채널이동 및 확대 축소 : 10%\n",
    "## 1채널인 것 같은데 channel shift?"
   ]
  },
  {
   "cell_type": "code",
   "execution_count": null,
   "id": "d162acca",
   "metadata": {},
   "outputs": [],
   "source": []
  },
  {
   "cell_type": "code",
   "execution_count": null,
   "id": "d22a9b8a",
   "metadata": {},
   "outputs": [],
   "source": []
  },
  {
   "cell_type": "code",
   "execution_count": null,
   "id": "9af2aeee",
   "metadata": {},
   "outputs": [],
   "source": []
  },
  {
   "cell_type": "markdown",
   "id": "4f3fc5e5",
   "metadata": {},
   "source": [
    "## CNN-WDI Modeling"
   ]
  },
  {
   "cell_type": "code",
   "execution_count": null,
   "id": "0307da96",
   "metadata": {},
   "outputs": [],
   "source": []
  },
  {
   "cell_type": "code",
   "execution_count": null,
   "id": "389cc78e",
   "metadata": {},
   "outputs": [],
   "source": []
  },
  {
   "cell_type": "code",
   "execution_count": null,
   "id": "cd6b3e58",
   "metadata": {},
   "outputs": [],
   "source": []
  },
  {
   "cell_type": "code",
   "execution_count": null,
   "id": "2dd485a1",
   "metadata": {},
   "outputs": [],
   "source": []
  },
  {
   "cell_type": "code",
   "execution_count": null,
   "id": "6fc24b52",
   "metadata": {},
   "outputs": [],
   "source": []
  },
  {
   "cell_type": "markdown",
   "id": "0425290a",
   "metadata": {},
   "source": [
    "- pkl 파일 저장 : https://seing.tistory.com/95"
   ]
  }
 ],
 "metadata": {
  "kernelspec": {
   "display_name": "Python 3 (ipykernel)",
   "language": "python",
   "name": "python3"
  },
  "language_info": {
   "codemirror_mode": {
    "name": "ipython",
    "version": 3
   },
   "file_extension": ".py",
   "mimetype": "text/x-python",
   "name": "python",
   "nbconvert_exporter": "python",
   "pygments_lexer": "ipython3",
   "version": "3.7.9"
  }
 },
 "nbformat": 4,
 "nbformat_minor": 5
}
