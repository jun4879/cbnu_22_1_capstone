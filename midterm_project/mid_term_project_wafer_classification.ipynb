{
 "cells": [
  {
   "cell_type": "markdown",
   "id": "0e8401a9",
   "metadata": {},
   "source": [
    "## 불균형 데이터셋에 대한 웨이퍼 불량식별을 위한 CNN\n",
    "### 키워드\n",
    "- 데이터 전처리\n",
    "    - Data Augmentaion\n",
    "    - 불량 클래스\n",
    "        - Center\n",
    "        - Donut\n",
    "        - Local\n",
    "        - Edge-Loc\n",
    "        - Edge-Ring\n",
    "        - Scratch\n",
    "        - Random\n",
    "        - Near-Full\n",
    "        - None\n",
    "- 모델 구성\n",
    "    - Batch Normalization\n",
    "    - Spatical Dropout\n",
    "    - Regularization"
   ]
  },
  {
   "cell_type": "markdown",
   "id": "72151ad2",
   "metadata": {},
   "source": [
    "### 데이터 확인사항\n",
    "- trainTestLabel의 경우 train 데이터 54355개, test 데이터 118595개로  \n",
    "논문에서의 학습:검증:테스트 데이터셋 비율 개수 확인하여 augmentation 작업 필요\n",
    "- waferMap 사이즈를 확인하여 추후 개발할 신경망 모델의 224x224 사이즈에 맞게 resizing 작업이 필요할 것으로 예상됨\n",
    "- augmentaion 작업과 resizing 작업이 한 번에 해결될 수 있도록 전처리하는 것이 좋을 듯"
   ]
  },
  {
   "cell_type": "code",
   "execution_count": 1,
   "id": "5bba38fc",
   "metadata": {
    "execution": {
     "iopub.execute_input": "2022-04-04T04:06:08.336318Z",
     "iopub.status.busy": "2022-04-04T04:06:08.335298Z",
     "iopub.status.idle": "2022-04-04T04:06:08.963916Z",
     "shell.execute_reply": "2022-04-04T04:06:08.963242Z",
     "shell.execute_reply.started": "2022-04-04T04:06:08.335298Z"
    },
    "tags": []
   },
   "outputs": [],
   "source": [
    "import numpy as np\n",
    "import pandas as pd\n",
    "import cv2\n",
    "import matplotlib.pyplot as plt"
   ]
  },
  {
   "cell_type": "code",
   "execution_count": 2,
   "id": "4ce379c9",
   "metadata": {
    "execution": {
     "iopub.execute_input": "2022-04-04T04:06:08.963916Z",
     "iopub.status.busy": "2022-04-04T04:06:08.963916Z",
     "iopub.status.idle": "2022-04-04T04:06:50.767372Z",
     "shell.execute_reply": "2022-04-04T04:06:50.766078Z",
     "shell.execute_reply.started": "2022-04-04T04:06:08.963916Z"
    },
    "tags": []
   },
   "outputs": [],
   "source": [
    "wm811k = pd.read_pickle('./data/LSWMD.pkl')"
   ]
  },
  {
   "cell_type": "code",
   "execution_count": 3,
   "id": "472d3a5c",
   "metadata": {
    "execution": {
     "iopub.execute_input": "2022-04-04T04:06:50.767892Z",
     "iopub.status.busy": "2022-04-04T04:06:50.767892Z",
     "iopub.status.idle": "2022-04-04T04:06:50.905471Z",
     "shell.execute_reply": "2022-04-04T04:06:50.904944Z",
     "shell.execute_reply.started": "2022-04-04T04:06:50.767892Z"
    },
    "tags": []
   },
   "outputs": [
    {
     "data": {
      "text/html": [
       "<div>\n",
       "<style scoped>\n",
       "    .dataframe tbody tr th:only-of-type {\n",
       "        vertical-align: middle;\n",
       "    }\n",
       "\n",
       "    .dataframe tbody tr th {\n",
       "        vertical-align: top;\n",
       "    }\n",
       "\n",
       "    .dataframe thead th {\n",
       "        text-align: right;\n",
       "    }\n",
       "</style>\n",
       "<table border=\"1\" class=\"dataframe\">\n",
       "  <thead>\n",
       "    <tr style=\"text-align: right;\">\n",
       "      <th></th>\n",
       "      <th>waferMap</th>\n",
       "      <th>dieSize</th>\n",
       "      <th>lotName</th>\n",
       "      <th>waferIndex</th>\n",
       "      <th>trianTestLabel</th>\n",
       "      <th>failureType</th>\n",
       "    </tr>\n",
       "  </thead>\n",
       "  <tbody>\n",
       "    <tr>\n",
       "      <th>0</th>\n",
       "      <td>[[0, 0, 0, 0, 0, 0, 0, 0, 0, 0, 0, 0, 0, 0, 0,...</td>\n",
       "      <td>1683.0</td>\n",
       "      <td>lot1</td>\n",
       "      <td>1.0</td>\n",
       "      <td>[[Training]]</td>\n",
       "      <td>[[none]]</td>\n",
       "    </tr>\n",
       "    <tr>\n",
       "      <th>1</th>\n",
       "      <td>[[0, 0, 0, 0, 0, 0, 0, 0, 0, 0, 0, 0, 0, 0, 0,...</td>\n",
       "      <td>1683.0</td>\n",
       "      <td>lot1</td>\n",
       "      <td>2.0</td>\n",
       "      <td>[[Training]]</td>\n",
       "      <td>[[none]]</td>\n",
       "    </tr>\n",
       "    <tr>\n",
       "      <th>2</th>\n",
       "      <td>[[0, 0, 0, 0, 0, 0, 0, 0, 0, 0, 0, 0, 0, 0, 0,...</td>\n",
       "      <td>1683.0</td>\n",
       "      <td>lot1</td>\n",
       "      <td>3.0</td>\n",
       "      <td>[[Training]]</td>\n",
       "      <td>[[none]]</td>\n",
       "    </tr>\n",
       "    <tr>\n",
       "      <th>3</th>\n",
       "      <td>[[0, 0, 0, 0, 0, 0, 0, 0, 0, 0, 0, 0, 0, 0, 0,...</td>\n",
       "      <td>1683.0</td>\n",
       "      <td>lot1</td>\n",
       "      <td>4.0</td>\n",
       "      <td>[[Training]]</td>\n",
       "      <td>[[none]]</td>\n",
       "    </tr>\n",
       "    <tr>\n",
       "      <th>4</th>\n",
       "      <td>[[0, 0, 0, 0, 0, 0, 0, 0, 0, 0, 0, 0, 0, 0, 0,...</td>\n",
       "      <td>1683.0</td>\n",
       "      <td>lot1</td>\n",
       "      <td>5.0</td>\n",
       "      <td>[[Training]]</td>\n",
       "      <td>[[none]]</td>\n",
       "    </tr>\n",
       "  </tbody>\n",
       "</table>\n",
       "</div>"
      ],
      "text/plain": [
       "                                            waferMap  dieSize lotName  \\\n",
       "0  [[0, 0, 0, 0, 0, 0, 0, 0, 0, 0, 0, 0, 0, 0, 0,...   1683.0    lot1   \n",
       "1  [[0, 0, 0, 0, 0, 0, 0, 0, 0, 0, 0, 0, 0, 0, 0,...   1683.0    lot1   \n",
       "2  [[0, 0, 0, 0, 0, 0, 0, 0, 0, 0, 0, 0, 0, 0, 0,...   1683.0    lot1   \n",
       "3  [[0, 0, 0, 0, 0, 0, 0, 0, 0, 0, 0, 0, 0, 0, 0,...   1683.0    lot1   \n",
       "4  [[0, 0, 0, 0, 0, 0, 0, 0, 0, 0, 0, 0, 0, 0, 0,...   1683.0    lot1   \n",
       "\n",
       "   waferIndex trianTestLabel failureType  \n",
       "0         1.0   [[Training]]    [[none]]  \n",
       "1         2.0   [[Training]]    [[none]]  \n",
       "2         3.0   [[Training]]    [[none]]  \n",
       "3         4.0   [[Training]]    [[none]]  \n",
       "4         5.0   [[Training]]    [[none]]  "
      ]
     },
     "execution_count": 3,
     "metadata": {},
     "output_type": "execute_result"
    }
   ],
   "source": [
    "wm811k.head()"
   ]
  },
  {
   "cell_type": "code",
   "execution_count": 4,
   "id": "1b384820",
   "metadata": {
    "execution": {
     "iopub.execute_input": "2022-04-04T04:06:50.906490Z",
     "iopub.status.busy": "2022-04-04T04:06:50.906490Z",
     "iopub.status.idle": "2022-04-04T04:06:51.027744Z",
     "shell.execute_reply": "2022-04-04T04:06:51.027265Z",
     "shell.execute_reply.started": "2022-04-04T04:06:50.906490Z"
    },
    "tags": []
   },
   "outputs": [
    {
     "name": "stdout",
     "output_type": "stream",
     "text": [
      "<class 'pandas.core.frame.DataFrame'>\n",
      "RangeIndex: 811457 entries, 0 to 811456\n",
      "Data columns (total 6 columns):\n",
      " #   Column          Non-Null Count   Dtype  \n",
      "---  ------          --------------   -----  \n",
      " 0   waferMap        811457 non-null  object \n",
      " 1   dieSize         811457 non-null  float64\n",
      " 2   lotName         811457 non-null  object \n",
      " 3   waferIndex      811457 non-null  float64\n",
      " 4   trianTestLabel  811457 non-null  object \n",
      " 5   failureType     811457 non-null  object \n",
      "dtypes: float64(2), object(4)\n",
      "memory usage: 37.1+ MB\n"
     ]
    }
   ],
   "source": [
    "wm811k.info()"
   ]
  },
  {
   "cell_type": "code",
   "execution_count": 5,
   "id": "cb149503",
   "metadata": {
    "execution": {
     "iopub.execute_input": "2022-04-04T04:06:51.028841Z",
     "iopub.status.busy": "2022-04-04T04:06:51.028841Z",
     "iopub.status.idle": "2022-04-04T04:06:51.228311Z",
     "shell.execute_reply": "2022-04-04T04:06:51.227927Z",
     "shell.execute_reply.started": "2022-04-04T04:06:51.028841Z"
    },
    "tags": []
   },
   "outputs": [
    {
     "data": {
      "text/html": [
       "<div>\n",
       "<style scoped>\n",
       "    .dataframe tbody tr th:only-of-type {\n",
       "        vertical-align: middle;\n",
       "    }\n",
       "\n",
       "    .dataframe tbody tr th {\n",
       "        vertical-align: top;\n",
       "    }\n",
       "\n",
       "    .dataframe thead th {\n",
       "        text-align: right;\n",
       "    }\n",
       "</style>\n",
       "<table border=\"1\" class=\"dataframe\">\n",
       "  <thead>\n",
       "    <tr style=\"text-align: right;\">\n",
       "      <th></th>\n",
       "      <th>waferMap</th>\n",
       "      <th>dieSize</th>\n",
       "      <th>lotName</th>\n",
       "      <th>trianTestLabel</th>\n",
       "      <th>failureType</th>\n",
       "    </tr>\n",
       "  </thead>\n",
       "  <tbody>\n",
       "    <tr>\n",
       "      <th>0</th>\n",
       "      <td>[[0, 0, 0, 0, 0, 0, 0, 0, 0, 0, 0, 0, 0, 0, 0,...</td>\n",
       "      <td>1683.0</td>\n",
       "      <td>lot1</td>\n",
       "      <td>[[Training]]</td>\n",
       "      <td>[[none]]</td>\n",
       "    </tr>\n",
       "    <tr>\n",
       "      <th>1</th>\n",
       "      <td>[[0, 0, 0, 0, 0, 0, 0, 0, 0, 0, 0, 0, 0, 0, 0,...</td>\n",
       "      <td>1683.0</td>\n",
       "      <td>lot1</td>\n",
       "      <td>[[Training]]</td>\n",
       "      <td>[[none]]</td>\n",
       "    </tr>\n",
       "    <tr>\n",
       "      <th>2</th>\n",
       "      <td>[[0, 0, 0, 0, 0, 0, 0, 0, 0, 0, 0, 0, 0, 0, 0,...</td>\n",
       "      <td>1683.0</td>\n",
       "      <td>lot1</td>\n",
       "      <td>[[Training]]</td>\n",
       "      <td>[[none]]</td>\n",
       "    </tr>\n",
       "    <tr>\n",
       "      <th>3</th>\n",
       "      <td>[[0, 0, 0, 0, 0, 0, 0, 0, 0, 0, 0, 0, 0, 0, 0,...</td>\n",
       "      <td>1683.0</td>\n",
       "      <td>lot1</td>\n",
       "      <td>[[Training]]</td>\n",
       "      <td>[[none]]</td>\n",
       "    </tr>\n",
       "    <tr>\n",
       "      <th>4</th>\n",
       "      <td>[[0, 0, 0, 0, 0, 0, 0, 0, 0, 0, 0, 0, 0, 0, 0,...</td>\n",
       "      <td>1683.0</td>\n",
       "      <td>lot1</td>\n",
       "      <td>[[Training]]</td>\n",
       "      <td>[[none]]</td>\n",
       "    </tr>\n",
       "  </tbody>\n",
       "</table>\n",
       "</div>"
      ],
      "text/plain": [
       "                                            waferMap  dieSize lotName  \\\n",
       "0  [[0, 0, 0, 0, 0, 0, 0, 0, 0, 0, 0, 0, 0, 0, 0,...   1683.0    lot1   \n",
       "1  [[0, 0, 0, 0, 0, 0, 0, 0, 0, 0, 0, 0, 0, 0, 0,...   1683.0    lot1   \n",
       "2  [[0, 0, 0, 0, 0, 0, 0, 0, 0, 0, 0, 0, 0, 0, 0,...   1683.0    lot1   \n",
       "3  [[0, 0, 0, 0, 0, 0, 0, 0, 0, 0, 0, 0, 0, 0, 0,...   1683.0    lot1   \n",
       "4  [[0, 0, 0, 0, 0, 0, 0, 0, 0, 0, 0, 0, 0, 0, 0,...   1683.0    lot1   \n",
       "\n",
       "  trianTestLabel failureType  \n",
       "0   [[Training]]    [[none]]  \n",
       "1   [[Training]]    [[none]]  \n",
       "2   [[Training]]    [[none]]  \n",
       "3   [[Training]]    [[none]]  \n",
       "4   [[Training]]    [[none]]  "
      ]
     },
     "execution_count": 5,
     "metadata": {},
     "output_type": "execute_result"
    }
   ],
   "source": [
    "# 불필요 컬럼 제거\n",
    "wm811k = wm811k.drop(['waferIndex'], axis = 1)\n",
    "wm811k.head()"
   ]
  },
  {
   "cell_type": "code",
   "execution_count": 6,
   "id": "087a024b",
   "metadata": {
    "execution": {
     "iopub.execute_input": "2022-04-04T04:06:51.229443Z",
     "iopub.status.busy": "2022-04-04T04:06:51.229443Z",
     "iopub.status.idle": "2022-04-04T04:06:52.319949Z",
     "shell.execute_reply": "2022-04-04T04:06:52.319449Z",
     "shell.execute_reply.started": "2022-04-04T04:06:51.229443Z"
    },
    "tags": []
   },
   "outputs": [
    {
     "data": {
      "text/html": [
       "<div>\n",
       "<style scoped>\n",
       "    .dataframe tbody tr th:only-of-type {\n",
       "        vertical-align: middle;\n",
       "    }\n",
       "\n",
       "    .dataframe tbody tr th {\n",
       "        vertical-align: top;\n",
       "    }\n",
       "\n",
       "    .dataframe thead th {\n",
       "        text-align: right;\n",
       "    }\n",
       "</style>\n",
       "<table border=\"1\" class=\"dataframe\">\n",
       "  <thead>\n",
       "    <tr style=\"text-align: right;\">\n",
       "      <th></th>\n",
       "      <th>waferMap</th>\n",
       "      <th>dieSize</th>\n",
       "      <th>lotName</th>\n",
       "      <th>trianTestLabel</th>\n",
       "      <th>failureType</th>\n",
       "      <th>waferMapDim</th>\n",
       "    </tr>\n",
       "  </thead>\n",
       "  <tbody>\n",
       "    <tr>\n",
       "      <th>0</th>\n",
       "      <td>[[0, 0, 0, 0, 0, 0, 0, 0, 0, 0, 0, 0, 0, 0, 0,...</td>\n",
       "      <td>1683.0</td>\n",
       "      <td>lot1</td>\n",
       "      <td>[[Training]]</td>\n",
       "      <td>[[none]]</td>\n",
       "      <td>(45, 48)</td>\n",
       "    </tr>\n",
       "    <tr>\n",
       "      <th>1</th>\n",
       "      <td>[[0, 0, 0, 0, 0, 0, 0, 0, 0, 0, 0, 0, 0, 0, 0,...</td>\n",
       "      <td>1683.0</td>\n",
       "      <td>lot1</td>\n",
       "      <td>[[Training]]</td>\n",
       "      <td>[[none]]</td>\n",
       "      <td>(45, 48)</td>\n",
       "    </tr>\n",
       "    <tr>\n",
       "      <th>2</th>\n",
       "      <td>[[0, 0, 0, 0, 0, 0, 0, 0, 0, 0, 0, 0, 0, 0, 0,...</td>\n",
       "      <td>1683.0</td>\n",
       "      <td>lot1</td>\n",
       "      <td>[[Training]]</td>\n",
       "      <td>[[none]]</td>\n",
       "      <td>(45, 48)</td>\n",
       "    </tr>\n",
       "    <tr>\n",
       "      <th>3</th>\n",
       "      <td>[[0, 0, 0, 0, 0, 0, 0, 0, 0, 0, 0, 0, 0, 0, 0,...</td>\n",
       "      <td>1683.0</td>\n",
       "      <td>lot1</td>\n",
       "      <td>[[Training]]</td>\n",
       "      <td>[[none]]</td>\n",
       "      <td>(45, 48)</td>\n",
       "    </tr>\n",
       "    <tr>\n",
       "      <th>4</th>\n",
       "      <td>[[0, 0, 0, 0, 0, 0, 0, 0, 0, 0, 0, 0, 0, 0, 0,...</td>\n",
       "      <td>1683.0</td>\n",
       "      <td>lot1</td>\n",
       "      <td>[[Training]]</td>\n",
       "      <td>[[none]]</td>\n",
       "      <td>(45, 48)</td>\n",
       "    </tr>\n",
       "  </tbody>\n",
       "</table>\n",
       "</div>"
      ],
      "text/plain": [
       "                                            waferMap  dieSize lotName  \\\n",
       "0  [[0, 0, 0, 0, 0, 0, 0, 0, 0, 0, 0, 0, 0, 0, 0,...   1683.0    lot1   \n",
       "1  [[0, 0, 0, 0, 0, 0, 0, 0, 0, 0, 0, 0, 0, 0, 0,...   1683.0    lot1   \n",
       "2  [[0, 0, 0, 0, 0, 0, 0, 0, 0, 0, 0, 0, 0, 0, 0,...   1683.0    lot1   \n",
       "3  [[0, 0, 0, 0, 0, 0, 0, 0, 0, 0, 0, 0, 0, 0, 0,...   1683.0    lot1   \n",
       "4  [[0, 0, 0, 0, 0, 0, 0, 0, 0, 0, 0, 0, 0, 0, 0,...   1683.0    lot1   \n",
       "\n",
       "  trianTestLabel failureType waferMapDim  \n",
       "0   [[Training]]    [[none]]    (45, 48)  \n",
       "1   [[Training]]    [[none]]    (45, 48)  \n",
       "2   [[Training]]    [[none]]    (45, 48)  \n",
       "3   [[Training]]    [[none]]    (45, 48)  \n",
       "4   [[Training]]    [[none]]    (45, 48)  "
      ]
     },
     "execution_count": 6,
     "metadata": {},
     "output_type": "execute_result"
    }
   ],
   "source": [
    "# wafermap size 확인 및 컬럼 추가\n",
    "def find_dim(x):\n",
    "    dim0=np.size(x,axis=0)\n",
    "    dim1=np.size(x,axis=1)\n",
    "    return dim0,dim1\n",
    "wm811k['waferMapDim']=wm811k['waferMap'].apply(find_dim)\n",
    "wm811k.head()"
   ]
  },
  {
   "cell_type": "code",
   "execution_count": 7,
   "id": "a2f1d055",
   "metadata": {
    "execution": {
     "iopub.execute_input": "2022-04-04T04:06:52.320956Z",
     "iopub.status.busy": "2022-04-04T04:06:52.320956Z",
     "iopub.status.idle": "2022-04-04T04:07:04.508946Z",
     "shell.execute_reply": "2022-04-04T04:07:04.508336Z",
     "shell.execute_reply.started": "2022-04-04T04:06:52.320956Z"
    },
    "tags": []
   },
   "outputs": [
    {
     "name": "stderr",
     "output_type": "stream",
     "text": [
      "C:\\Users\\kjt\\Anaconda3\\envs\\dlit\\lib\\site-packages\\pandas\\core\\array_algos\\replace.py:60: FutureWarning: elementwise comparison failed; returning scalar instead, but in the future will perform elementwise comparison\n",
      "  op = lambda x: operator.eq(x, b)\n"
     ]
    },
    {
     "data": {
      "text/html": [
       "<div>\n",
       "<style scoped>\n",
       "    .dataframe tbody tr th:only-of-type {\n",
       "        vertical-align: middle;\n",
       "    }\n",
       "\n",
       "    .dataframe tbody tr th {\n",
       "        vertical-align: top;\n",
       "    }\n",
       "\n",
       "    .dataframe thead th {\n",
       "        text-align: right;\n",
       "    }\n",
       "</style>\n",
       "<table border=\"1\" class=\"dataframe\">\n",
       "  <thead>\n",
       "    <tr style=\"text-align: right;\">\n",
       "      <th></th>\n",
       "      <th>waferMap</th>\n",
       "      <th>dieSize</th>\n",
       "      <th>lotName</th>\n",
       "      <th>trianTestLabel</th>\n",
       "      <th>failureType</th>\n",
       "      <th>waferMapDim</th>\n",
       "      <th>failureNum</th>\n",
       "      <th>trainTestNum</th>\n",
       "    </tr>\n",
       "  </thead>\n",
       "  <tbody>\n",
       "    <tr>\n",
       "      <th>0</th>\n",
       "      <td>[[0, 0, 0, 0, 0, 0, 0, 0, 0, 0, 0, 0, 0, 0, 0,...</td>\n",
       "      <td>1683.0</td>\n",
       "      <td>lot1</td>\n",
       "      <td>[[Training]]</td>\n",
       "      <td>[[none]]</td>\n",
       "      <td>(45, 48)</td>\n",
       "      <td>8</td>\n",
       "      <td>0</td>\n",
       "    </tr>\n",
       "    <tr>\n",
       "      <th>1</th>\n",
       "      <td>[[0, 0, 0, 0, 0, 0, 0, 0, 0, 0, 0, 0, 0, 0, 0,...</td>\n",
       "      <td>1683.0</td>\n",
       "      <td>lot1</td>\n",
       "      <td>[[Training]]</td>\n",
       "      <td>[[none]]</td>\n",
       "      <td>(45, 48)</td>\n",
       "      <td>8</td>\n",
       "      <td>0</td>\n",
       "    </tr>\n",
       "    <tr>\n",
       "      <th>2</th>\n",
       "      <td>[[0, 0, 0, 0, 0, 0, 0, 0, 0, 0, 0, 0, 0, 0, 0,...</td>\n",
       "      <td>1683.0</td>\n",
       "      <td>lot1</td>\n",
       "      <td>[[Training]]</td>\n",
       "      <td>[[none]]</td>\n",
       "      <td>(45, 48)</td>\n",
       "      <td>8</td>\n",
       "      <td>0</td>\n",
       "    </tr>\n",
       "    <tr>\n",
       "      <th>3</th>\n",
       "      <td>[[0, 0, 0, 0, 0, 0, 0, 0, 0, 0, 0, 0, 0, 0, 0,...</td>\n",
       "      <td>1683.0</td>\n",
       "      <td>lot1</td>\n",
       "      <td>[[Training]]</td>\n",
       "      <td>[[none]]</td>\n",
       "      <td>(45, 48)</td>\n",
       "      <td>8</td>\n",
       "      <td>0</td>\n",
       "    </tr>\n",
       "    <tr>\n",
       "      <th>4</th>\n",
       "      <td>[[0, 0, 0, 0, 0, 0, 0, 0, 0, 0, 0, 0, 0, 0, 0,...</td>\n",
       "      <td>1683.0</td>\n",
       "      <td>lot1</td>\n",
       "      <td>[[Training]]</td>\n",
       "      <td>[[none]]</td>\n",
       "      <td>(45, 48)</td>\n",
       "      <td>8</td>\n",
       "      <td>0</td>\n",
       "    </tr>\n",
       "  </tbody>\n",
       "</table>\n",
       "</div>"
      ],
      "text/plain": [
       "                                            waferMap  dieSize lotName  \\\n",
       "0  [[0, 0, 0, 0, 0, 0, 0, 0, 0, 0, 0, 0, 0, 0, 0,...   1683.0    lot1   \n",
       "1  [[0, 0, 0, 0, 0, 0, 0, 0, 0, 0, 0, 0, 0, 0, 0,...   1683.0    lot1   \n",
       "2  [[0, 0, 0, 0, 0, 0, 0, 0, 0, 0, 0, 0, 0, 0, 0,...   1683.0    lot1   \n",
       "3  [[0, 0, 0, 0, 0, 0, 0, 0, 0, 0, 0, 0, 0, 0, 0,...   1683.0    lot1   \n",
       "4  [[0, 0, 0, 0, 0, 0, 0, 0, 0, 0, 0, 0, 0, 0, 0,...   1683.0    lot1   \n",
       "\n",
       "  trianTestLabel failureType waferMapDim failureNum trainTestNum  \n",
       "0   [[Training]]    [[none]]    (45, 48)          8            0  \n",
       "1   [[Training]]    [[none]]    (45, 48)          8            0  \n",
       "2   [[Training]]    [[none]]    (45, 48)          8            0  \n",
       "3   [[Training]]    [[none]]    (45, 48)          8            0  \n",
       "4   [[Training]]    [[none]]    (45, 48)          8            0  "
      ]
     },
     "execution_count": 7,
     "metadata": {},
     "output_type": "execute_result"
    }
   ],
   "source": [
    "# 불량 클래스 확인 및 학습/검증/테스트 데이터 셋 확인\n",
    "wm811k['failureNum']=wm811k['failureType']\n",
    "wm811k['trainTestNum']=wm811k['trianTestLabel']\n",
    "mapping_type={'Center':0,'Donut':1,'Edge-Loc':2,'Edge-Ring':3,'Loc':4,'Random':5,'Scratch':6,'Near-full':7,'none':8}\n",
    "mapping_traintest={'Training':0,'Test':1}\n",
    "wm811k=wm811k.replace({'failureNum':mapping_type, 'trainTestNum':mapping_traintest})\n",
    "wm811k.head()"
   ]
  },
  {
   "cell_type": "code",
   "execution_count": 8,
   "id": "ec8de3e4",
   "metadata": {
    "execution": {
     "iopub.execute_input": "2022-04-04T04:07:04.509986Z",
     "iopub.status.busy": "2022-04-04T04:07:04.509986Z",
     "iopub.status.idle": "2022-04-04T04:07:08.104214Z",
     "shell.execute_reply": "2022-04-04T04:07:08.103084Z",
     "shell.execute_reply.started": "2022-04-04T04:07:04.509986Z"
    },
    "tags": []
   },
   "outputs": [
    {
     "data": {
      "text/plain": [
       "[]                638507\n",
       "[['Test']]        118595\n",
       "[['Training']]     54355\n",
       "Name: trianTestLabel, dtype: int64"
      ]
     },
     "execution_count": 8,
     "metadata": {},
     "output_type": "execute_result"
    }
   ],
   "source": [
    "wm811k['trianTestLabel'].apply(lambda x: str(x)).value_counts()"
   ]
  },
  {
   "cell_type": "code",
   "execution_count": 9,
   "id": "535ad28d",
   "metadata": {
    "execution": {
     "iopub.execute_input": "2022-04-04T04:07:08.105270Z",
     "iopub.status.busy": "2022-04-04T04:07:08.105270Z",
     "iopub.status.idle": "2022-04-04T04:07:09.825263Z",
     "shell.execute_reply": "2022-04-04T04:07:09.824764Z",
     "shell.execute_reply.started": "2022-04-04T04:07:08.105270Z"
    },
    "tags": []
   },
   "outputs": [
    {
     "data": {
      "text/plain": [
       "[]    638507\n",
       "1     118595\n",
       "0      54355\n",
       "Name: trainTestNum, dtype: int64"
      ]
     },
     "execution_count": 9,
     "metadata": {},
     "output_type": "execute_result"
    }
   ],
   "source": [
    "wm811k['trainTestNum'].apply(lambda x: str(x)).value_counts()"
   ]
  },
  {
   "cell_type": "code",
   "execution_count": 10,
   "id": "693ed90e",
   "metadata": {
    "execution": {
     "iopub.execute_input": "2022-04-04T04:07:09.825768Z",
     "iopub.status.busy": "2022-04-04T04:07:09.825768Z",
     "iopub.status.idle": "2022-04-04T04:07:11.406400Z",
     "shell.execute_reply": "2022-04-04T04:07:11.405660Z",
     "shell.execute_reply.started": "2022-04-04T04:07:09.825768Z"
    },
    "tags": []
   },
   "outputs": [],
   "source": [
    "wm811k_train = wm811k.query(\"trainTestNum == 0\")"
   ]
  },
  {
   "cell_type": "code",
   "execution_count": 11,
   "id": "c0af089a",
   "metadata": {
    "execution": {
     "iopub.execute_input": "2022-04-04T04:07:11.407485Z",
     "iopub.status.busy": "2022-04-04T04:07:11.406400Z",
     "iopub.status.idle": "2022-04-04T04:07:11.436720Z",
     "shell.execute_reply": "2022-04-04T04:07:11.436211Z",
     "shell.execute_reply.started": "2022-04-04T04:07:11.407485Z"
    },
    "tags": []
   },
   "outputs": [
    {
     "name": "stdout",
     "output_type": "stream",
     "text": [
      "<class 'pandas.core.frame.DataFrame'>\n",
      "Int64Index: 54355 entries, 0 to 791476\n",
      "Data columns (total 8 columns):\n",
      " #   Column          Non-Null Count  Dtype  \n",
      "---  ------          --------------  -----  \n",
      " 0   waferMap        54355 non-null  object \n",
      " 1   dieSize         54355 non-null  float64\n",
      " 2   lotName         54355 non-null  object \n",
      " 3   trianTestLabel  54355 non-null  object \n",
      " 4   failureType     54355 non-null  object \n",
      " 5   waferMapDim     54355 non-null  object \n",
      " 6   failureNum      54355 non-null  object \n",
      " 7   trainTestNum    54355 non-null  object \n",
      "dtypes: float64(1), object(7)\n",
      "memory usage: 3.7+ MB\n"
     ]
    }
   ],
   "source": [
    "wm811k_train.info()"
   ]
  },
  {
   "cell_type": "markdown",
   "id": "6ec9b929",
   "metadata": {},
   "source": [
    "### wm811k_test set\n",
    "- 10,000개 augmentation된 데이터 train: validation : test = 65: 20: 15\n",
    "- 최종 모델 확인 이후 wm811k_test 데이터 활용 모델 성능 확인하는 것이 좋을 듯"
   ]
  },
  {
   "cell_type": "code",
   "execution_count": 12,
   "id": "3671f939",
   "metadata": {
    "execution": {
     "iopub.execute_input": "2022-04-04T04:07:11.437731Z",
     "iopub.status.busy": "2022-04-04T04:07:11.437731Z",
     "iopub.status.idle": "2022-04-04T04:07:12.982344Z",
     "shell.execute_reply": "2022-04-04T04:07:12.981840Z",
     "shell.execute_reply.started": "2022-04-04T04:07:11.437731Z"
    },
    "tags": []
   },
   "outputs": [],
   "source": [
    "wm811k_test = wm811k.query(\"trainTestNum == 1\")"
   ]
  },
  {
   "cell_type": "code",
   "execution_count": 13,
   "id": "3156e9e5",
   "metadata": {
    "execution": {
     "iopub.execute_input": "2022-04-04T04:07:12.983486Z",
     "iopub.status.busy": "2022-04-04T04:07:12.983486Z",
     "iopub.status.idle": "2022-04-04T04:07:13.028096Z",
     "shell.execute_reply": "2022-04-04T04:07:13.027092Z",
     "shell.execute_reply.started": "2022-04-04T04:07:12.983486Z"
    },
    "tags": []
   },
   "outputs": [
    {
     "name": "stdout",
     "output_type": "stream",
     "text": [
      "<class 'pandas.core.frame.DataFrame'>\n",
      "Int64Index: 118595 entries, 639663 to 811454\n",
      "Data columns (total 8 columns):\n",
      " #   Column          Non-Null Count   Dtype  \n",
      "---  ------          --------------   -----  \n",
      " 0   waferMap        118595 non-null  object \n",
      " 1   dieSize         118595 non-null  float64\n",
      " 2   lotName         118595 non-null  object \n",
      " 3   trianTestLabel  118595 non-null  object \n",
      " 4   failureType     118595 non-null  object \n",
      " 5   waferMapDim     118595 non-null  object \n",
      " 6   failureNum      118595 non-null  object \n",
      " 7   trainTestNum    118595 non-null  object \n",
      "dtypes: float64(1), object(7)\n",
      "memory usage: 8.1+ MB\n"
     ]
    }
   ],
   "source": [
    "wm811k_test.info()"
   ]
  },
  {
   "cell_type": "code",
   "execution_count": 14,
   "id": "c5c2d0e8",
   "metadata": {
    "execution": {
     "iopub.execute_input": "2022-04-04T04:07:13.029108Z",
     "iopub.status.busy": "2022-04-04T04:07:13.028096Z",
     "iopub.status.idle": "2022-04-04T04:07:13.089269Z",
     "shell.execute_reply": "2022-04-04T04:07:13.088769Z",
     "shell.execute_reply.started": "2022-04-04T04:07:13.028096Z"
    },
    "tags": []
   },
   "outputs": [
    {
     "data": {
      "text/plain": [
       "8    110701\n",
       "2      2772\n",
       "4      1973\n",
       "3      1126\n",
       "0       832\n",
       "6       693\n",
       "5       257\n",
       "1       146\n",
       "7        95\n",
       "Name: failureNum, dtype: int64"
      ]
     },
     "execution_count": 14,
     "metadata": {},
     "output_type": "execute_result"
    }
   ],
   "source": [
    "wm811k_test['failureNum'].apply(lambda x: str(x)).value_counts()"
   ]
  },
  {
   "cell_type": "markdown",
   "id": "fd714415",
   "metadata": {},
   "source": [
    "### waferMap size 확인\n",
    "- data print 결과 빈 부분은 0, 정상 pixel은 1, 불량 pixel은 2로 표현되어있는 듯\n",
    "    - input shape 맞출 때 0으로 padding 주듯이 채우면 될 듯\n",
    "- 예상 전처리 과정 : 기존 데이터에 data augmentaion 적용 $ \\rightarrow $ 변형 데이터에 224x224 size zero_padding $ \\rightarrow $ input data"
   ]
  },
  {
   "cell_type": "code",
   "execution_count": 15,
   "id": "d61444ad",
   "metadata": {
    "execution": {
     "iopub.execute_input": "2022-04-04T04:07:13.090282Z",
     "iopub.status.busy": "2022-04-04T04:07:13.090282Z",
     "iopub.status.idle": "2022-04-04T04:07:13.104566Z",
     "shell.execute_reply": "2022-04-04T04:07:13.104566Z",
     "shell.execute_reply.started": "2022-04-04T04:07:13.090282Z"
    },
    "tags": []
   },
   "outputs": [],
   "source": [
    "# pd.set_option('display.max_columns', None)\n",
    "# pd.set_option('display.max_rows', None)"
   ]
  },
  {
   "cell_type": "code",
   "execution_count": 16,
   "id": "217416b4",
   "metadata": {
    "collapsed": true,
    "execution": {
     "iopub.execute_input": "2022-04-04T04:07:13.106046Z",
     "iopub.status.busy": "2022-04-04T04:07:13.106046Z",
     "iopub.status.idle": "2022-04-04T04:07:13.182631Z",
     "shell.execute_reply": "2022-04-04T04:07:13.181636Z",
     "shell.execute_reply.started": "2022-04-04T04:07:13.106046Z"
    },
    "jupyter": {
     "outputs_hidden": true
    },
    "tags": []
   },
   "outputs": [
    {
     "data": {
      "text/plain": [
       "(32, 29)    108687\n",
       "(25, 27)     64083\n",
       "(49, 39)     39323\n",
       "(26, 26)     30078\n",
       "(30, 34)     29513\n",
       "             ...  \n",
       "(24, 71)         1\n",
       "(61, 55)         1\n",
       "(54, 69)         1\n",
       "(18, 4)          1\n",
       "(32, 71)         1\n",
       "Name: waferMapDim, Length: 632, dtype: int64"
      ]
     },
     "execution_count": 16,
     "metadata": {},
     "output_type": "execute_result"
    }
   ],
   "source": [
    "# waferMap size 확인\n",
    "wm811k['waferMapDim'].value_counts()"
   ]
  },
  {
   "cell_type": "code",
   "execution_count": 17,
   "id": "09421a54",
   "metadata": {
    "collapsed": true,
    "execution": {
     "iopub.execute_input": "2022-04-04T04:07:13.183643Z",
     "iopub.status.busy": "2022-04-04T04:07:13.183643Z",
     "iopub.status.idle": "2022-04-04T04:07:13.212233Z",
     "shell.execute_reply": "2022-04-04T04:07:13.211520Z",
     "shell.execute_reply.started": "2022-04-04T04:07:13.183643Z"
    },
    "jupyter": {
     "outputs_hidden": true
    },
    "tags": []
   },
   "outputs": [
    {
     "name": "stdout",
     "output_type": "stream",
     "text": [
      "[0 0 0 0 0 0 0 0 0 0 0 0 0 0 0 0 0 0 0 0 0 2 1 1 1 1 1 0 0 0 0 0 0 0 0 0 0\n",
      " 0 0 0 0 0 0 0 0 0 0 0]\n",
      "[0 0 0 0 0 0 0 0 0 0 0 0 0 0 0 0 2 1 1 1 1 1 1 1 1 1 1 1 1 1 1 0 0 0 0 0 0\n",
      " 0 0 0 0 0 0 0 0 0 0 0]\n",
      "[0 0 0 0 0 0 0 0 0 0 0 0 0 0 1 1 1 1 1 1 1 1 1 1 1 1 1 1 1 1 2 1 1 1 0 0 0\n",
      " 0 0 0 0 0 0 0 0 0 0 0]\n",
      "[0 0 0 0 0 0 0 0 0 0 0 0 1 2 1 1 1 1 2 1 1 1 1 1 1 1 1 1 1 1 1 1 1 1 1 1 0\n",
      " 0 0 0 0 0 0 0 0 0 0 0]\n",
      "[0 0 0 0 0 0 0 0 0 0 1 1 1 1 1 1 1 1 1 1 1 1 1 1 1 1 1 1 1 1 1 1 1 1 1 1 1\n",
      " 2 0 0 0 0 0 0 0 0 0 0]\n",
      "[0 0 0 0 0 0 0 0 0 1 1 1 1 1 1 1 1 1 1 1 1 1 1 1 1 1 1 1 1 1 1 1 1 1 1 1 1\n",
      " 1 1 0 0 0 0 0 0 0 0 0]\n",
      "[0 0 0 0 0 0 0 2 1 1 1 1 1 1 1 1 1 1 1 1 1 1 1 1 1 1 1 2 1 1 1 1 1 1 1 1 1\n",
      " 1 1 1 0 0 0 0 0 0 0 0]\n",
      "[0 0 0 0 0 0 1 2 1 1 1 1 1 1 1 1 1 1 1 1 1 1 1 1 1 1 1 1 1 1 1 1 2 1 1 2 1\n",
      " 1 1 2 1 0 0 0 0 0 0 0]\n",
      "[0 0 0 0 0 2 1 1 1 1 1 1 1 1 2 1 1 1 1 2 1 1 1 1 1 1 1 2 1 1 1 1 1 1 1 1 1\n",
      " 1 1 1 1 1 0 0 0 0 0 0]\n",
      "[0 0 0 0 0 1 1 1 1 1 1 1 1 1 1 1 1 1 1 1 1 1 1 1 1 1 1 1 1 1 1 1 1 1 1 1 1\n",
      " 1 1 1 1 1 1 0 0 0 0 0]\n",
      "[0 0 0 0 1 2 1 1 1 1 1 1 1 1 2 1 1 1 1 1 1 1 1 1 1 1 1 1 1 1 1 2 1 1 1 1 1\n",
      " 1 1 1 2 1 1 1 0 0 0 0]\n",
      "[0 0 0 2 1 1 1 2 1 1 1 1 1 1 1 1 1 1 1 1 1 2 2 1 1 1 1 1 1 1 1 1 1 1 1 1 1\n",
      " 1 2 1 1 1 1 1 0 0 0 0]\n",
      "[0 0 0 1 1 1 1 1 1 1 1 1 1 1 1 1 1 1 1 1 1 1 1 1 1 1 1 1 1 1 1 1 1 1 1 1 1\n",
      " 1 1 1 1 1 1 1 1 0 0 0]\n",
      "[0 0 1 1 1 1 1 1 1 1 1 1 1 1 2 1 1 1 1 1 1 1 1 1 1 1 1 1 1 1 1 1 1 1 1 1 1\n",
      " 1 1 1 1 1 1 2 1 2 0 0]\n",
      "[0 0 1 1 1 1 1 1 1 1 1 1 1 1 1 1 1 1 2 1 1 1 1 1 1 1 1 1 1 1 1 1 1 1 1 1 1\n",
      " 1 1 1 1 1 1 1 1 1 0 0]\n",
      "[0 1 1 1 1 1 1 1 1 1 1 1 1 1 1 1 1 1 1 1 1 1 1 1 1 1 1 1 1 1 1 1 1 1 1 1 1\n",
      " 1 2 1 1 1 1 1 1 1 0 0]\n",
      "[0 1 1 1 1 1 1 1 1 1 1 1 1 1 1 1 1 1 1 1 1 1 1 1 2 1 1 1 1 1 1 1 1 1 1 1 1\n",
      " 1 1 1 1 1 1 1 2 1 1 0]\n",
      "[0 1 1 1 1 1 1 1 1 1 1 1 1 1 1 1 1 1 1 1 1 1 1 1 1 1 1 1 1 1 1 1 1 1 1 1 1\n",
      " 1 1 1 2 1 1 1 2 1 1 0]\n",
      "[1 1 1 1 1 1 1 1 1 1 1 1 1 1 2 1 1 1 1 1 2 1 1 1 1 1 1 1 1 1 1 1 1 1 1 1 1\n",
      " 1 1 1 1 1 1 1 2 1 1 0]\n",
      "[1 1 1 1 1 1 1 1 1 1 1 1 1 1 1 1 1 1 1 1 1 2 1 1 1 1 1 1 1 1 1 1 2 1 1 1 1\n",
      " 1 1 1 1 1 1 1 1 1 1 2]\n",
      "[1 1 1 1 1 1 1 1 1 1 1 1 1 2 1 1 1 1 1 1 1 1 1 1 1 1 1 1 1 2 1 1 1 1 1 2 1\n",
      " 1 1 1 1 1 1 1 1 1 1 1]\n",
      "[1 1 1 1 2 1 1 1 1 1 1 1 1 1 1 1 1 1 1 1 1 1 1 1 1 1 2 1 1 1 1 1 1 1 1 1 1\n",
      " 1 1 1 1 1 1 1 1 1 1 2]\n",
      "[1 1 1 1 1 1 1 1 1 1 1 1 1 1 1 1 1 1 1 1 1 1 1 1 1 1 1 1 1 1 1 1 1 1 1 1 1\n",
      " 1 1 1 1 1 2 1 1 1 1 2]\n",
      "[1 1 1 1 1 1 1 1 1 1 1 1 2 1 1 1 1 1 1 1 1 1 1 1 1 1 1 1 1 1 1 1 1 1 2 1 1\n",
      " 1 1 1 1 1 1 1 1 2 1 1]\n",
      "[1 1 1 1 1 1 1 1 1 1 1 1 1 1 1 1 1 1 1 1 1 1 1 1 1 1 1 1 1 1 1 1 1 1 1 1 1\n",
      " 1 1 1 1 1 1 1 1 1 1 1]\n",
      "[1 1 2 1 1 1 1 1 1 1 1 1 1 1 1 1 1 1 1 1 1 1 1 1 1 1 1 1 1 1 1 1 1 1 1 1 1\n",
      " 1 1 1 1 1 1 1 1 1 1 1]\n",
      "[1 1 1 1 1 2 1 1 1 1 1 1 2 1 1 2 1 1 1 1 1 1 2 1 1 1 1 1 1 1 1 1 1 1 1 1 1\n",
      " 1 1 1 1 1 2 1 1 1 1 0]\n",
      "[1 1 1 1 1 1 1 1 2 1 1 1 1 1 1 1 1 1 1 1 1 1 1 1 1 1 1 1 1 2 1 1 1 1 2 1 1\n",
      " 1 1 1 1 1 1 1 1 1 1 0]\n",
      "[0 1 1 1 1 1 1 1 1 1 1 1 1 1 1 1 1 1 1 1 1 1 1 1 1 1 1 1 1 1 1 1 1 1 1 1 1\n",
      " 1 1 1 1 1 1 1 1 1 1 0]\n",
      "[0 1 1 1 1 1 1 1 1 1 1 1 1 1 1 1 1 1 1 1 1 1 1 1 1 1 1 1 1 1 1 1 1 1 1 1 1\n",
      " 1 1 1 1 1 1 1 1 1 1 0]\n",
      "[0 2 1 1 1 1 1 1 1 1 1 1 1 1 1 1 1 1 1 1 1 1 1 1 1 1 1 1 1 1 1 2 1 1 1 1 1\n",
      " 1 1 1 1 1 1 1 1 1 0 0]\n",
      "[0 0 1 1 1 1 1 1 1 1 1 1 1 1 1 1 1 1 1 1 1 1 1 1 1 1 1 1 1 1 1 1 1 1 1 1 1\n",
      " 1 1 1 1 1 1 1 1 1 0 0]\n",
      "[0 0 1 1 1 1 1 1 1 1 1 1 1 1 1 1 1 2 1 2 1 1 1 1 1 1 1 1 1 1 1 1 1 1 1 2 1\n",
      " 1 1 1 1 1 1 1 2 0 0 0]\n",
      "[0 0 0 1 1 1 2 1 2 1 1 1 1 2 1 1 1 1 1 1 1 2 1 1 1 1 1 1 1 1 1 1 1 1 1 1 1\n",
      " 1 1 1 1 1 1 1 1 0 0 0]\n",
      "[0 0 0 0 1 1 1 1 1 2 1 1 1 1 1 1 1 1 1 1 1 1 1 1 1 1 1 1 1 1 1 1 2 1 1 1 1\n",
      " 1 1 1 1 1 1 1 0 0 0 0]\n",
      "[0 0 0 0 1 2 1 1 1 1 1 1 1 1 1 1 1 1 1 1 1 1 1 2 1 1 1 1 1 1 1 1 1 1 1 1 1\n",
      " 1 1 1 1 1 1 0 0 0 0 0]\n",
      "[0 0 0 0 0 2 2 1 1 1 1 1 1 1 1 2 1 1 1 1 1 1 1 1 1 1 1 1 1 1 1 1 1 1 1 1 1\n",
      " 1 1 1 1 1 1 0 0 0 0 0]\n",
      "[0 0 0 0 0 0 1 1 1 1 1 1 1 1 1 1 1 1 1 1 1 1 1 1 1 1 1 1 1 1 1 1 1 1 1 1 1\n",
      " 1 1 1 1 1 0 0 0 0 0 0]\n",
      "[0 0 0 0 0 0 0 1 1 1 1 1 1 1 1 1 1 1 1 1 1 1 2 1 1 1 1 1 1 1 1 1 1 1 1 1 1\n",
      " 1 1 1 2 0 0 0 0 0 0 0]\n",
      "[0 0 0 0 0 0 0 0 1 1 1 1 1 1 1 1 1 1 1 1 1 1 1 1 1 1 1 1 1 1 1 1 1 2 1 1 1\n",
      " 1 1 2 0 0 0 0 0 0 0 0]\n",
      "[0 0 0 0 0 0 0 0 0 1 1 1 1 1 1 1 1 1 1 1 1 1 1 1 1 1 1 1 1 1 2 1 1 1 1 1 1\n",
      " 1 0 0 0 0 0 0 0 0 0 0]\n",
      "[0 0 0 0 0 0 0 0 0 0 0 1 1 1 1 1 1 1 1 1 1 1 1 1 1 1 1 1 1 1 1 1 2 1 1 1 1\n",
      " 0 0 0 0 0 0 0 0 0 0 0]\n",
      "[0 0 0 0 0 0 0 0 0 0 0 0 0 2 1 1 1 1 1 1 1 1 1 1 2 1 1 1 1 1 1 1 1 1 1 0 0\n",
      " 0 0 0 0 0 0 0 0 0 0 0]\n",
      "[0 0 0 0 0 0 0 0 0 0 0 0 0 0 0 1 1 1 2 1 1 1 1 1 1 1 1 1 1 1 1 1 1 0 0 0 0\n",
      " 0 0 0 0 0 0 0 0 0 0 0]\n",
      "[0 0 0 0 0 0 0 0 0 0 0 0 0 0 0 0 0 0 1 2 1 1 1 1 1 1 1 1 1 2 0 0 0 0 0 0 0\n",
      " 0 0 0 0 0 0 0 0 0 0 0]\n"
     ]
    }
   ],
   "source": [
    "# waferMap 데이터 모양 예시 확인\n",
    "for i in range(len(wm811k.iloc[0]['waferMap'])):\n",
    "    print(wm811k.iloc[0]['waferMap'][i]) "
   ]
  },
  {
   "cell_type": "code",
   "execution_count": 18,
   "id": "40cedac7",
   "metadata": {
    "execution": {
     "iopub.execute_input": "2022-04-04T04:07:13.214240Z",
     "iopub.status.busy": "2022-04-04T04:07:13.213238Z",
     "iopub.status.idle": "2022-04-04T04:07:13.227156Z",
     "shell.execute_reply": "2022-04-04T04:07:13.226312Z",
     "shell.execute_reply.started": "2022-04-04T04:07:13.214240Z"
    },
    "tags": []
   },
   "outputs": [
    {
     "data": {
      "text/plain": [
       "8    36730\n",
       "3     8554\n",
       "0     3462\n",
       "2     2417\n",
       "4     1620\n",
       "5      609\n",
       "6      500\n",
       "1      409\n",
       "7       54\n",
       "Name: failureNum, dtype: int64"
      ]
     },
     "execution_count": 18,
     "metadata": {},
     "output_type": "execute_result"
    }
   ],
   "source": [
    "# 학습 데이터 내 불량 클래스 개수 확인\n",
    "wm811k_train['failureNum'].value_counts()"
   ]
  },
  {
   "cell_type": "markdown",
   "id": "73531c67",
   "metadata": {},
   "source": [
    "### Data-Augmentaion - 클래스별로 10,000개\n",
    "- None(8): 36,730 중 10,000 개 Sampling\n",
    "- Edge-Ring(3): 8554\n",
    "    - 1446개 모자름\n",
    "- Center(0)     : 3462\n",
    "    - 6,538개 모자름\n",
    "- Edge-Loc(2)   : 2417\n",
    "    - 7,583개 모자름\n",
    "- Loc(4)        : 1620\n",
    "    - 8,380개 모자름\n",
    "- Random(5)     : 609\n",
    "    - 9,391개 모자름\n",
    "- Scratch(6)    : 500\n",
    "    - 9,500개 모자름\n",
    "- Donut(1)      : 409\n",
    "    - 9,591개 모자름\n",
    "- Near-full(7)  : 54\n",
    "    - 9,946개 모자름"
   ]
  },
  {
   "cell_type": "markdown",
   "id": "31a0e9fb",
   "metadata": {},
   "source": [
    "### Augmentation 기법 적용\n",
    "- 10도 회전 : 20%\n",
    "- 좌우 대칭 및 너비 이동(horizontal flipping and width shift) : 20%\n",
    "- 높이 이동(height shfit) : 15%\n",
    "- 전단 범위(shearing range) : 10%\n",
    "- 채널이동 및 확대 축소(channel shift and zooming) : 10%"
   ]
  },
  {
   "cell_type": "code",
   "execution_count": 19,
   "id": "93da2f4f",
   "metadata": {
    "execution": {
     "iopub.execute_input": "2022-04-04T04:07:13.228167Z",
     "iopub.status.busy": "2022-04-04T04:07:13.227156Z",
     "iopub.status.idle": "2022-04-04T04:07:13.378355Z",
     "shell.execute_reply": "2022-04-04T04:07:13.377315Z",
     "shell.execute_reply.started": "2022-04-04T04:07:13.228167Z"
    },
    "tags": []
   },
   "outputs": [
    {
     "data": {
      "text/html": [
       "<div>\n",
       "<style scoped>\n",
       "    .dataframe tbody tr th:only-of-type {\n",
       "        vertical-align: middle;\n",
       "    }\n",
       "\n",
       "    .dataframe tbody tr th {\n",
       "        vertical-align: top;\n",
       "    }\n",
       "\n",
       "    .dataframe thead th {\n",
       "        text-align: right;\n",
       "    }\n",
       "</style>\n",
       "<table border=\"1\" class=\"dataframe\">\n",
       "  <thead>\n",
       "    <tr style=\"text-align: right;\">\n",
       "      <th></th>\n",
       "      <th>waferMap</th>\n",
       "      <th>dieSize</th>\n",
       "      <th>lotName</th>\n",
       "      <th>trianTestLabel</th>\n",
       "      <th>failureType</th>\n",
       "      <th>waferMapDim</th>\n",
       "      <th>failureNum</th>\n",
       "      <th>trainTestNum</th>\n",
       "    </tr>\n",
       "  </thead>\n",
       "  <tbody>\n",
       "    <tr>\n",
       "      <th>0</th>\n",
       "      <td>[[0, 0, 0, 0, 0, 0, 0, 0, 0, 0, 0, 0, 0, 0, 0,...</td>\n",
       "      <td>1683.0</td>\n",
       "      <td>lot1</td>\n",
       "      <td>[[Training]]</td>\n",
       "      <td>[[none]]</td>\n",
       "      <td>(45, 48)</td>\n",
       "      <td>8</td>\n",
       "      <td>0</td>\n",
       "    </tr>\n",
       "    <tr>\n",
       "      <th>1</th>\n",
       "      <td>[[0, 0, 0, 0, 0, 0, 0, 0, 0, 0, 0, 0, 0, 0, 0,...</td>\n",
       "      <td>1683.0</td>\n",
       "      <td>lot1</td>\n",
       "      <td>[[Training]]</td>\n",
       "      <td>[[none]]</td>\n",
       "      <td>(45, 48)</td>\n",
       "      <td>8</td>\n",
       "      <td>0</td>\n",
       "    </tr>\n",
       "    <tr>\n",
       "      <th>2</th>\n",
       "      <td>[[0, 0, 0, 0, 0, 0, 0, 0, 0, 0, 0, 0, 0, 0, 0,...</td>\n",
       "      <td>1683.0</td>\n",
       "      <td>lot1</td>\n",
       "      <td>[[Training]]</td>\n",
       "      <td>[[none]]</td>\n",
       "      <td>(45, 48)</td>\n",
       "      <td>8</td>\n",
       "      <td>0</td>\n",
       "    </tr>\n",
       "    <tr>\n",
       "      <th>3</th>\n",
       "      <td>[[0, 0, 0, 0, 0, 0, 0, 0, 0, 0, 0, 0, 0, 0, 0,...</td>\n",
       "      <td>1683.0</td>\n",
       "      <td>lot1</td>\n",
       "      <td>[[Training]]</td>\n",
       "      <td>[[none]]</td>\n",
       "      <td>(45, 48)</td>\n",
       "      <td>8</td>\n",
       "      <td>0</td>\n",
       "    </tr>\n",
       "    <tr>\n",
       "      <th>4</th>\n",
       "      <td>[[0, 0, 0, 0, 0, 0, 0, 0, 0, 0, 0, 0, 0, 0, 0,...</td>\n",
       "      <td>1683.0</td>\n",
       "      <td>lot1</td>\n",
       "      <td>[[Training]]</td>\n",
       "      <td>[[none]]</td>\n",
       "      <td>(45, 48)</td>\n",
       "      <td>8</td>\n",
       "      <td>0</td>\n",
       "    </tr>\n",
       "  </tbody>\n",
       "</table>\n",
       "</div>"
      ],
      "text/plain": [
       "                                            waferMap  dieSize lotName  \\\n",
       "0  [[0, 0, 0, 0, 0, 0, 0, 0, 0, 0, 0, 0, 0, 0, 0,...   1683.0    lot1   \n",
       "1  [[0, 0, 0, 0, 0, 0, 0, 0, 0, 0, 0, 0, 0, 0, 0,...   1683.0    lot1   \n",
       "2  [[0, 0, 0, 0, 0, 0, 0, 0, 0, 0, 0, 0, 0, 0, 0,...   1683.0    lot1   \n",
       "3  [[0, 0, 0, 0, 0, 0, 0, 0, 0, 0, 0, 0, 0, 0, 0,...   1683.0    lot1   \n",
       "4  [[0, 0, 0, 0, 0, 0, 0, 0, 0, 0, 0, 0, 0, 0, 0,...   1683.0    lot1   \n",
       "\n",
       "  trianTestLabel failureType waferMapDim failureNum trainTestNum  \n",
       "0   [[Training]]    [[none]]    (45, 48)          8            0  \n",
       "1   [[Training]]    [[none]]    (45, 48)          8            0  \n",
       "2   [[Training]]    [[none]]    (45, 48)          8            0  \n",
       "3   [[Training]]    [[none]]    (45, 48)          8            0  \n",
       "4   [[Training]]    [[none]]    (45, 48)          8            0  "
      ]
     },
     "execution_count": 19,
     "metadata": {},
     "output_type": "execute_result"
    }
   ],
   "source": [
    "wm811k_train.head()"
   ]
  },
  {
   "cell_type": "markdown",
   "id": "e44b1ca0",
   "metadata": {},
   "source": [
    "### Augmentation 구현\n",
    "- 기법 별로 함수 작성\n",
    "- 비율 개수만큼 sampling\n",
    "- sampling 데이터에 작성한 기법별 함수 적용\n",
    "- waferMapDim 확인\n",
    "- data concat"
   ]
  },
  {
   "cell_type": "markdown",
   "id": "13492161",
   "metadata": {},
   "source": [
    "- 10도 회전"
   ]
  },
  {
   "cell_type": "code",
   "execution_count": 57,
   "id": "a237e791",
   "metadata": {
    "execution": {
     "iopub.execute_input": "2022-04-04T04:14:04.645840Z",
     "iopub.status.busy": "2022-04-04T04:14:04.644840Z",
     "iopub.status.idle": "2022-04-04T04:14:04.653703Z",
     "shell.execute_reply": "2022-04-04T04:14:04.653311Z",
     "shell.execute_reply.started": "2022-04-04T04:14:04.645840Z"
    },
    "tags": []
   },
   "outputs": [],
   "source": [
    "# 참고 : https://076923.github.io/posts/Python-opencv-6/\n",
    "def rotation_10_degree(data_img):\n",
    "    height, width = data_img.shape\n",
    "    rotation_10_degree_img = cv2.getRotationMatrix2D((width/2, height/2), 10, 1) # 중심점, 각도, 배율\n",
    "    dst = cv2.warpAffine(data_img, rotation_10_degree_img, (width,height))\n",
    "    return dst"
   ]
  },
  {
   "cell_type": "code",
   "execution_count": 58,
   "id": "83c24d04",
   "metadata": {
    "execution": {
     "iopub.execute_input": "2022-04-04T04:14:05.310821Z",
     "iopub.status.busy": "2022-04-04T04:14:05.310821Z",
     "iopub.status.idle": "2022-04-04T04:14:05.324702Z",
     "shell.execute_reply": "2022-04-04T04:14:05.323902Z",
     "shell.execute_reply.started": "2022-04-04T04:14:05.310821Z"
    },
    "tags": []
   },
   "outputs": [],
   "source": [
    "test_wafermap = wm811k_train.query(\"failureNum == 6\").sample(n=5)"
   ]
  },
  {
   "cell_type": "code",
   "execution_count": 59,
   "id": "8109815e",
   "metadata": {
    "execution": {
     "iopub.execute_input": "2022-04-04T04:14:07.118885Z",
     "iopub.status.busy": "2022-04-04T04:14:07.118885Z",
     "iopub.status.idle": "2022-04-04T04:14:07.329124Z",
     "shell.execute_reply": "2022-04-04T04:14:07.329124Z",
     "shell.execute_reply.started": "2022-04-04T04:14:07.118885Z"
    },
    "tags": []
   },
   "outputs": [
    {
     "data": {
      "text/html": [
       "<div>\n",
       "<style scoped>\n",
       "    .dataframe tbody tr th:only-of-type {\n",
       "        vertical-align: middle;\n",
       "    }\n",
       "\n",
       "    .dataframe tbody tr th {\n",
       "        vertical-align: top;\n",
       "    }\n",
       "\n",
       "    .dataframe thead th {\n",
       "        text-align: right;\n",
       "    }\n",
       "</style>\n",
       "<table border=\"1\" class=\"dataframe\">\n",
       "  <thead>\n",
       "    <tr style=\"text-align: right;\">\n",
       "      <th></th>\n",
       "      <th>waferMap</th>\n",
       "      <th>dieSize</th>\n",
       "      <th>lotName</th>\n",
       "      <th>trianTestLabel</th>\n",
       "      <th>failureType</th>\n",
       "      <th>waferMapDim</th>\n",
       "      <th>failureNum</th>\n",
       "      <th>trainTestNum</th>\n",
       "    </tr>\n",
       "  </thead>\n",
       "  <tbody>\n",
       "    <tr>\n",
       "      <th>366023</th>\n",
       "      <td>[[0, 0, 0, 0, 0, 0, 0, 0, 0, 0, 0, 0, 0, 0, 0,...</td>\n",
       "      <td>15545.0</td>\n",
       "      <td>lot21895</td>\n",
       "      <td>[[Training]]</td>\n",
       "      <td>[[Scratch]]</td>\n",
       "      <td>(135, 146)</td>\n",
       "      <td>6</td>\n",
       "      <td>0</td>\n",
       "    </tr>\n",
       "    <tr>\n",
       "      <th>332225</th>\n",
       "      <td>[[0, 0, 0, 0, 0, 0, 0, 0, 0, 0, 0, 0, 0, 0, 0,...</td>\n",
       "      <td>2489.0</td>\n",
       "      <td>lot20049</td>\n",
       "      <td>[[Training]]</td>\n",
       "      <td>[[Scratch]]</td>\n",
       "      <td>(59, 54)</td>\n",
       "      <td>6</td>\n",
       "      <td>0</td>\n",
       "    </tr>\n",
       "    <tr>\n",
       "      <th>293437</th>\n",
       "      <td>[[0, 0, 0, 0, 0, 0, 0, 0, 0, 0, 0, 0, 0, 0, 0,...</td>\n",
       "      <td>1724.0</td>\n",
       "      <td>lot17976</td>\n",
       "      <td>[[Training]]</td>\n",
       "      <td>[[Scratch]]</td>\n",
       "      <td>(50, 43)</td>\n",
       "      <td>6</td>\n",
       "      <td>0</td>\n",
       "    </tr>\n",
       "    <tr>\n",
       "      <th>185977</th>\n",
       "      <td>[[0, 0, 0, 0, 0, 0, 0, 0, 0, 0, 0, 0, 0, 0, 0,...</td>\n",
       "      <td>2772.0</td>\n",
       "      <td>lot11824</td>\n",
       "      <td>[[Training]]</td>\n",
       "      <td>[[Scratch]]</td>\n",
       "      <td>(56, 63)</td>\n",
       "      <td>6</td>\n",
       "      <td>0</td>\n",
       "    </tr>\n",
       "    <tr>\n",
       "      <th>176447</th>\n",
       "      <td>[[0, 0, 0, 0, 0, 0, 0, 0, 0, 0, 0, 0, 0, 0, 0,...</td>\n",
       "      <td>1233.0</td>\n",
       "      <td>lot11273</td>\n",
       "      <td>[[Training]]</td>\n",
       "      <td>[[Scratch]]</td>\n",
       "      <td>(41, 38)</td>\n",
       "      <td>6</td>\n",
       "      <td>0</td>\n",
       "    </tr>\n",
       "  </tbody>\n",
       "</table>\n",
       "</div>"
      ],
      "text/plain": [
       "                                                 waferMap  dieSize   lotName  \\\n",
       "366023  [[0, 0, 0, 0, 0, 0, 0, 0, 0, 0, 0, 0, 0, 0, 0,...  15545.0  lot21895   \n",
       "332225  [[0, 0, 0, 0, 0, 0, 0, 0, 0, 0, 0, 0, 0, 0, 0,...   2489.0  lot20049   \n",
       "293437  [[0, 0, 0, 0, 0, 0, 0, 0, 0, 0, 0, 0, 0, 0, 0,...   1724.0  lot17976   \n",
       "185977  [[0, 0, 0, 0, 0, 0, 0, 0, 0, 0, 0, 0, 0, 0, 0,...   2772.0  lot11824   \n",
       "176447  [[0, 0, 0, 0, 0, 0, 0, 0, 0, 0, 0, 0, 0, 0, 0,...   1233.0  lot11273   \n",
       "\n",
       "       trianTestLabel  failureType waferMapDim failureNum trainTestNum  \n",
       "366023   [[Training]]  [[Scratch]]  (135, 146)          6            0  \n",
       "332225   [[Training]]  [[Scratch]]    (59, 54)          6            0  \n",
       "293437   [[Training]]  [[Scratch]]    (50, 43)          6            0  \n",
       "185977   [[Training]]  [[Scratch]]    (56, 63)          6            0  \n",
       "176447   [[Training]]  [[Scratch]]    (41, 38)          6            0  "
      ]
     },
     "execution_count": 59,
     "metadata": {},
     "output_type": "execute_result"
    }
   ],
   "source": [
    "test_wafermap.head()"
   ]
  },
  {
   "cell_type": "code",
   "execution_count": 60,
   "id": "1c838322",
   "metadata": {
    "execution": {
     "iopub.execute_input": "2022-04-04T04:14:08.088459Z",
     "iopub.status.busy": "2022-04-04T04:14:08.088459Z",
     "iopub.status.idle": "2022-04-04T04:14:08.096308Z",
     "shell.execute_reply": "2022-04-04T04:14:08.095807Z",
     "shell.execute_reply.started": "2022-04-04T04:14:08.088459Z"
    },
    "tags": []
   },
   "outputs": [],
   "source": [
    "test_wafermap[\"waferMap_augmentation\"] = test_wafermap[\"waferMap\"].apply(lambda x: rotation_10_degree(x))"
   ]
  },
  {
   "cell_type": "code",
   "execution_count": 61,
   "id": "a53519b0",
   "metadata": {
    "execution": {
     "iopub.execute_input": "2022-04-04T04:14:08.901092Z",
     "iopub.status.busy": "2022-04-04T04:14:08.901092Z",
     "iopub.status.idle": "2022-04-04T04:14:09.292886Z",
     "shell.execute_reply": "2022-04-04T04:14:09.292387Z",
     "shell.execute_reply.started": "2022-04-04T04:14:08.901092Z"
    },
    "tags": []
   },
   "outputs": [
    {
     "data": {
      "text/html": [
       "<div>\n",
       "<style scoped>\n",
       "    .dataframe tbody tr th:only-of-type {\n",
       "        vertical-align: middle;\n",
       "    }\n",
       "\n",
       "    .dataframe tbody tr th {\n",
       "        vertical-align: top;\n",
       "    }\n",
       "\n",
       "    .dataframe thead th {\n",
       "        text-align: right;\n",
       "    }\n",
       "</style>\n",
       "<table border=\"1\" class=\"dataframe\">\n",
       "  <thead>\n",
       "    <tr style=\"text-align: right;\">\n",
       "      <th></th>\n",
       "      <th>waferMap</th>\n",
       "      <th>dieSize</th>\n",
       "      <th>lotName</th>\n",
       "      <th>trianTestLabel</th>\n",
       "      <th>failureType</th>\n",
       "      <th>waferMapDim</th>\n",
       "      <th>failureNum</th>\n",
       "      <th>trainTestNum</th>\n",
       "      <th>waferMap_augmentation</th>\n",
       "    </tr>\n",
       "  </thead>\n",
       "  <tbody>\n",
       "    <tr>\n",
       "      <th>366023</th>\n",
       "      <td>[[0, 0, 0, 0, 0, 0, 0, 0, 0, 0, 0, 0, 0, 0, 0,...</td>\n",
       "      <td>15545.0</td>\n",
       "      <td>lot21895</td>\n",
       "      <td>[[Training]]</td>\n",
       "      <td>[[Scratch]]</td>\n",
       "      <td>(135, 146)</td>\n",
       "      <td>6</td>\n",
       "      <td>0</td>\n",
       "      <td>[[0, 0, 0, 0, 0, 0, 0, 0, 0, 0, 0, 0, 0, 0, 0,...</td>\n",
       "    </tr>\n",
       "    <tr>\n",
       "      <th>332225</th>\n",
       "      <td>[[0, 0, 0, 0, 0, 0, 0, 0, 0, 0, 0, 0, 0, 0, 0,...</td>\n",
       "      <td>2489.0</td>\n",
       "      <td>lot20049</td>\n",
       "      <td>[[Training]]</td>\n",
       "      <td>[[Scratch]]</td>\n",
       "      <td>(59, 54)</td>\n",
       "      <td>6</td>\n",
       "      <td>0</td>\n",
       "      <td>[[0, 0, 0, 0, 0, 0, 0, 0, 0, 0, 0, 0, 0, 0, 0,...</td>\n",
       "    </tr>\n",
       "    <tr>\n",
       "      <th>293437</th>\n",
       "      <td>[[0, 0, 0, 0, 0, 0, 0, 0, 0, 0, 0, 0, 0, 0, 0,...</td>\n",
       "      <td>1724.0</td>\n",
       "      <td>lot17976</td>\n",
       "      <td>[[Training]]</td>\n",
       "      <td>[[Scratch]]</td>\n",
       "      <td>(50, 43)</td>\n",
       "      <td>6</td>\n",
       "      <td>0</td>\n",
       "      <td>[[0, 0, 0, 0, 0, 0, 0, 0, 0, 0, 0, 0, 0, 0, 0,...</td>\n",
       "    </tr>\n",
       "    <tr>\n",
       "      <th>185977</th>\n",
       "      <td>[[0, 0, 0, 0, 0, 0, 0, 0, 0, 0, 0, 0, 0, 0, 0,...</td>\n",
       "      <td>2772.0</td>\n",
       "      <td>lot11824</td>\n",
       "      <td>[[Training]]</td>\n",
       "      <td>[[Scratch]]</td>\n",
       "      <td>(56, 63)</td>\n",
       "      <td>6</td>\n",
       "      <td>0</td>\n",
       "      <td>[[0, 0, 0, 0, 0, 0, 0, 0, 0, 0, 0, 0, 0, 0, 0,...</td>\n",
       "    </tr>\n",
       "    <tr>\n",
       "      <th>176447</th>\n",
       "      <td>[[0, 0, 0, 0, 0, 0, 0, 0, 0, 0, 0, 0, 0, 0, 0,...</td>\n",
       "      <td>1233.0</td>\n",
       "      <td>lot11273</td>\n",
       "      <td>[[Training]]</td>\n",
       "      <td>[[Scratch]]</td>\n",
       "      <td>(41, 38)</td>\n",
       "      <td>6</td>\n",
       "      <td>0</td>\n",
       "      <td>[[0, 0, 0, 0, 0, 0, 0, 0, 0, 0, 0, 0, 0, 0, 0,...</td>\n",
       "    </tr>\n",
       "  </tbody>\n",
       "</table>\n",
       "</div>"
      ],
      "text/plain": [
       "                                                 waferMap  dieSize   lotName  \\\n",
       "366023  [[0, 0, 0, 0, 0, 0, 0, 0, 0, 0, 0, 0, 0, 0, 0,...  15545.0  lot21895   \n",
       "332225  [[0, 0, 0, 0, 0, 0, 0, 0, 0, 0, 0, 0, 0, 0, 0,...   2489.0  lot20049   \n",
       "293437  [[0, 0, 0, 0, 0, 0, 0, 0, 0, 0, 0, 0, 0, 0, 0,...   1724.0  lot17976   \n",
       "185977  [[0, 0, 0, 0, 0, 0, 0, 0, 0, 0, 0, 0, 0, 0, 0,...   2772.0  lot11824   \n",
       "176447  [[0, 0, 0, 0, 0, 0, 0, 0, 0, 0, 0, 0, 0, 0, 0,...   1233.0  lot11273   \n",
       "\n",
       "       trianTestLabel  failureType waferMapDim failureNum trainTestNum  \\\n",
       "366023   [[Training]]  [[Scratch]]  (135, 146)          6            0   \n",
       "332225   [[Training]]  [[Scratch]]    (59, 54)          6            0   \n",
       "293437   [[Training]]  [[Scratch]]    (50, 43)          6            0   \n",
       "185977   [[Training]]  [[Scratch]]    (56, 63)          6            0   \n",
       "176447   [[Training]]  [[Scratch]]    (41, 38)          6            0   \n",
       "\n",
       "                                    waferMap_augmentation  \n",
       "366023  [[0, 0, 0, 0, 0, 0, 0, 0, 0, 0, 0, 0, 0, 0, 0,...  \n",
       "332225  [[0, 0, 0, 0, 0, 0, 0, 0, 0, 0, 0, 0, 0, 0, 0,...  \n",
       "293437  [[0, 0, 0, 0, 0, 0, 0, 0, 0, 0, 0, 0, 0, 0, 0,...  \n",
       "185977  [[0, 0, 0, 0, 0, 0, 0, 0, 0, 0, 0, 0, 0, 0, 0,...  \n",
       "176447  [[0, 0, 0, 0, 0, 0, 0, 0, 0, 0, 0, 0, 0, 0, 0,...  "
      ]
     },
     "execution_count": 61,
     "metadata": {},
     "output_type": "execute_result"
    }
   ],
   "source": [
    "test_wafermap.head()"
   ]
  },
  {
   "cell_type": "code",
   "execution_count": 66,
   "id": "c1871dd1",
   "metadata": {
    "execution": {
     "iopub.execute_input": "2022-04-04T04:19:26.839769Z",
     "iopub.status.busy": "2022-04-04T04:19:26.839769Z",
     "iopub.status.idle": "2022-04-04T04:19:26.928448Z",
     "shell.execute_reply": "2022-04-04T04:19:26.927622Z",
     "shell.execute_reply.started": "2022-04-04T04:19:26.839769Z"
    },
    "tags": []
   },
   "outputs": [
    {
     "data": {
      "image/png": "[encoded data removed]",
      "text/plain": [
       "<Figure size 432x288 with 1 Axes>"
      ]
     },
     "metadata": {
      "needs_background": "light"
     },
     "output_type": "display_data"
    }
   ],
   "source": [
    "plt.imshow(test_wafermap.iloc[3][\"waferMap\"])\n",
    "plt.show()"
   ]
  },
  {
   "cell_type": "code",
   "execution_count": 67,
   "id": "23ea3a1e",
   "metadata": {
    "execution": {
     "iopub.execute_input": "2022-04-04T04:19:30.160051Z",
     "iopub.status.busy": "2022-04-04T04:19:30.160051Z",
     "iopub.status.idle": "2022-04-04T04:19:30.241395Z",
     "shell.execute_reply": "2022-04-04T04:19:30.240896Z",
     "shell.execute_reply.started": "2022-04-04T04:19:30.160051Z"
    },
    "tags": []
   },
   "outputs": [
    {
     "data": {
      "image/png": "[encoded data removed]",
      "text/plain": [
       "<Figure size 432x288 with 1 Axes>"
      ]
     },
     "metadata": {
      "needs_background": "light"
     },
     "output_type": "display_data"
    }
   ],
   "source": [
    "from scipy.ndimage.interpolation import rotate\n",
    "rotated = rotate(test_wafermap.iloc[3][\"waferMap\"], angle=10,reshape=False)\n",
    "plt.imshow(rotated)\n",
    "plt.show()"
   ]
  },
  {
   "cell_type": "code",
   "execution_count": 68,
   "id": "eb5c3399",
   "metadata": {
    "execution": {
     "iopub.execute_input": "2022-04-04T04:19:33.977816Z",
     "iopub.status.busy": "2022-04-04T04:19:33.977816Z",
     "iopub.status.idle": "2022-04-04T04:19:34.061906Z",
     "shell.execute_reply": "2022-04-04T04:19:34.061906Z",
     "shell.execute_reply.started": "2022-04-04T04:19:33.977816Z"
    },
    "tags": []
   },
   "outputs": [
    {
     "data": {
      "image/png": "[encoded data removed]",
      "text/plain": [
       "<Figure size 432x288 with 1 Axes>"
      ]
     },
     "metadata": {
      "needs_background": "light"
     },
     "output_type": "display_data"
    }
   ],
   "source": [
    "plt.imshow(test_wafermap.iloc[3][\"waferMap_augmentation\"])\n",
    "plt.show()"
   ]
  },
  {
   "cell_type": "code",
   "execution_count": 65,
   "id": "0ef4f463",
   "metadata": {
    "execution": {
     "iopub.execute_input": "2022-04-04T04:18:46.070464Z",
     "iopub.status.busy": "2022-04-04T04:18:46.069461Z",
     "iopub.status.idle": "2022-04-04T04:18:46.504760Z",
     "shell.execute_reply": "2022-04-04T04:18:46.504018Z",
     "shell.execute_reply.started": "2022-04-04T04:18:46.070464Z"
    },
    "tags": []
   },
   "outputs": [
    {
     "data": {
      "text/html": [
       "<div>\n",
       "<style scoped>\n",
       "    .dataframe tbody tr th:only-of-type {\n",
       "        vertical-align: middle;\n",
       "    }\n",
       "\n",
       "    .dataframe tbody tr th {\n",
       "        vertical-align: top;\n",
       "    }\n",
       "\n",
       "    .dataframe thead th {\n",
       "        text-align: right;\n",
       "    }\n",
       "</style>\n",
       "<table border=\"1\" class=\"dataframe\">\n",
       "  <thead>\n",
       "    <tr style=\"text-align: right;\">\n",
       "      <th></th>\n",
       "      <th>waferMap</th>\n",
       "      <th>dieSize</th>\n",
       "      <th>lotName</th>\n",
       "      <th>trianTestLabel</th>\n",
       "      <th>failureType</th>\n",
       "      <th>waferMapDim</th>\n",
       "      <th>failureNum</th>\n",
       "      <th>trainTestNum</th>\n",
       "      <th>waferMap_augmentation</th>\n",
       "      <th>waferMap_augmentation_Dim</th>\n",
       "    </tr>\n",
       "  </thead>\n",
       "  <tbody>\n",
       "    <tr>\n",
       "      <th>366023</th>\n",
       "      <td>[[0, 0, 0, 0, 0, 0, 0, 0, 0, 0, 0, 0, 0, 0, 0,...</td>\n",
       "      <td>15545.0</td>\n",
       "      <td>lot21895</td>\n",
       "      <td>[[Training]]</td>\n",
       "      <td>[[Scratch]]</td>\n",
       "      <td>(135, 146)</td>\n",
       "      <td>6</td>\n",
       "      <td>0</td>\n",
       "      <td>[[0, 0, 0, 0, 0, 0, 0, 0, 0, 0, 0, 0, 0, 0, 0,...</td>\n",
       "      <td>(135, 146)</td>\n",
       "    </tr>\n",
       "    <tr>\n",
       "      <th>332225</th>\n",
       "      <td>[[0, 0, 0, 0, 0, 0, 0, 0, 0, 0, 0, 0, 0, 0, 0,...</td>\n",
       "      <td>2489.0</td>\n",
       "      <td>lot20049</td>\n",
       "      <td>[[Training]]</td>\n",
       "      <td>[[Scratch]]</td>\n",
       "      <td>(59, 54)</td>\n",
       "      <td>6</td>\n",
       "      <td>0</td>\n",
       "      <td>[[0, 0, 0, 0, 0, 0, 0, 0, 0, 0, 0, 0, 0, 0, 0,...</td>\n",
       "      <td>(59, 54)</td>\n",
       "    </tr>\n",
       "    <tr>\n",
       "      <th>293437</th>\n",
       "      <td>[[0, 0, 0, 0, 0, 0, 0, 0, 0, 0, 0, 0, 0, 0, 0,...</td>\n",
       "      <td>1724.0</td>\n",
       "      <td>lot17976</td>\n",
       "      <td>[[Training]]</td>\n",
       "      <td>[[Scratch]]</td>\n",
       "      <td>(50, 43)</td>\n",
       "      <td>6</td>\n",
       "      <td>0</td>\n",
       "      <td>[[0, 0, 0, 0, 0, 0, 0, 0, 0, 0, 0, 0, 0, 0, 0,...</td>\n",
       "      <td>(50, 43)</td>\n",
       "    </tr>\n",
       "    <tr>\n",
       "      <th>185977</th>\n",
       "      <td>[[0, 0, 0, 0, 0, 0, 0, 0, 0, 0, 0, 0, 0, 0, 0,...</td>\n",
       "      <td>2772.0</td>\n",
       "      <td>lot11824</td>\n",
       "      <td>[[Training]]</td>\n",
       "      <td>[[Scratch]]</td>\n",
       "      <td>(56, 63)</td>\n",
       "      <td>6</td>\n",
       "      <td>0</td>\n",
       "      <td>[[0, 0, 0, 0, 0, 0, 0, 0, 0, 0, 0, 0, 0, 0, 0,...</td>\n",
       "      <td>(56, 63)</td>\n",
       "    </tr>\n",
       "    <tr>\n",
       "      <th>176447</th>\n",
       "      <td>[[0, 0, 0, 0, 0, 0, 0, 0, 0, 0, 0, 0, 0, 0, 0,...</td>\n",
       "      <td>1233.0</td>\n",
       "      <td>lot11273</td>\n",
       "      <td>[[Training]]</td>\n",
       "      <td>[[Scratch]]</td>\n",
       "      <td>(41, 38)</td>\n",
       "      <td>6</td>\n",
       "      <td>0</td>\n",
       "      <td>[[0, 0, 0, 0, 0, 0, 0, 0, 0, 0, 0, 0, 0, 0, 0,...</td>\n",
       "      <td>(41, 38)</td>\n",
       "    </tr>\n",
       "  </tbody>\n",
       "</table>\n",
       "</div>"
      ],
      "text/plain": [
       "                                                 waferMap  dieSize   lotName  \\\n",
       "366023  [[0, 0, 0, 0, 0, 0, 0, 0, 0, 0, 0, 0, 0, 0, 0,...  15545.0  lot21895   \n",
       "332225  [[0, 0, 0, 0, 0, 0, 0, 0, 0, 0, 0, 0, 0, 0, 0,...   2489.0  lot20049   \n",
       "293437  [[0, 0, 0, 0, 0, 0, 0, 0, 0, 0, 0, 0, 0, 0, 0,...   1724.0  lot17976   \n",
       "185977  [[0, 0, 0, 0, 0, 0, 0, 0, 0, 0, 0, 0, 0, 0, 0,...   2772.0  lot11824   \n",
       "176447  [[0, 0, 0, 0, 0, 0, 0, 0, 0, 0, 0, 0, 0, 0, 0,...   1233.0  lot11273   \n",
       "\n",
       "       trianTestLabel  failureType waferMapDim failureNum trainTestNum  \\\n",
       "366023   [[Training]]  [[Scratch]]  (135, 146)          6            0   \n",
       "332225   [[Training]]  [[Scratch]]    (59, 54)          6            0   \n",
       "293437   [[Training]]  [[Scratch]]    (50, 43)          6            0   \n",
       "185977   [[Training]]  [[Scratch]]    (56, 63)          6            0   \n",
       "176447   [[Training]]  [[Scratch]]    (41, 38)          6            0   \n",
       "\n",
       "                                    waferMap_augmentation  \\\n",
       "366023  [[0, 0, 0, 0, 0, 0, 0, 0, 0, 0, 0, 0, 0, 0, 0,...   \n",
       "332225  [[0, 0, 0, 0, 0, 0, 0, 0, 0, 0, 0, 0, 0, 0, 0,...   \n",
       "293437  [[0, 0, 0, 0, 0, 0, 0, 0, 0, 0, 0, 0, 0, 0, 0,...   \n",
       "185977  [[0, 0, 0, 0, 0, 0, 0, 0, 0, 0, 0, 0, 0, 0, 0,...   \n",
       "176447  [[0, 0, 0, 0, 0, 0, 0, 0, 0, 0, 0, 0, 0, 0, 0,...   \n",
       "\n",
       "       waferMap_augmentation_Dim  \n",
       "366023                (135, 146)  \n",
       "332225                  (59, 54)  \n",
       "293437                  (50, 43)  \n",
       "185977                  (56, 63)  \n",
       "176447                  (41, 38)  "
      ]
     },
     "execution_count": 65,
     "metadata": {},
     "output_type": "execute_result"
    }
   ],
   "source": [
    "# augmentated data dim\n",
    "test_wafermap['waferMap_augmentation_Dim']=test_wafermap['waferMap_augmentation'].apply(find_dim)\n",
    "test_wafermap.head()"
   ]
  },
  {
   "cell_type": "markdown",
   "id": "dfcfe68a",
   "metadata": {},
   "source": [
    "- 좌우 대칭 및 너비 이동(horizontal flipping and width shift)\n",
    "    - cv2.flip"
   ]
  },
  {
   "cell_type": "code",
   "execution_count": null,
   "id": "6d3ea097",
   "metadata": {},
   "outputs": [],
   "source": []
  },
  {
   "cell_type": "markdown",
   "id": "9e0f197a",
   "metadata": {},
   "source": [
    "- 높이 이동(height shfit)"
   ]
  },
  {
   "cell_type": "code",
   "execution_count": null,
   "id": "25751189",
   "metadata": {},
   "outputs": [],
   "source": []
  },
  {
   "cell_type": "markdown",
   "id": "d03429be",
   "metadata": {},
   "source": [
    "- 전단 범위(shearing range)"
   ]
  },
  {
   "cell_type": "code",
   "execution_count": null,
   "id": "1afcb14d",
   "metadata": {},
   "outputs": [],
   "source": []
  },
  {
   "cell_type": "markdown",
   "id": "a68c4fce",
   "metadata": {},
   "source": [
    "- 채널이동 및 확대 축소(channel shift and zooming)"
   ]
  },
  {
   "cell_type": "code",
   "execution_count": null,
   "id": "27e3bdf7",
   "metadata": {},
   "outputs": [],
   "source": []
  },
  {
   "cell_type": "markdown",
   "id": "e171d40f",
   "metadata": {},
   "source": [
    "### wm811k_new_train_class_XXX 만들어서 concat하기 "
   ]
  },
  {
   "cell_type": "code",
   "execution_count": 25,
   "id": "53a6162d",
   "metadata": {
    "execution": {
     "iopub.execute_input": "2022-04-04T04:07:13.746481Z",
     "iopub.status.busy": "2022-04-04T04:07:13.746481Z",
     "iopub.status.idle": "2022-04-04T04:07:13.776459Z",
     "shell.execute_reply": "2022-04-04T04:07:13.776123Z",
     "shell.execute_reply.started": "2022-04-04T04:07:13.746481Z"
    },
    "tags": []
   },
   "outputs": [],
   "source": [
    "# None type class 10,000개 sampling\n",
    "# 참고 : https://rfriend.tistory.com/602\n",
    "wm811k_new_train_class_none = wm811k_train.query(\"failureNum == 8\").sample(n=10000, random_state=2022)"
   ]
  },
  {
   "cell_type": "code",
   "execution_count": 26,
   "id": "b44349a2",
   "metadata": {
    "execution": {
     "iopub.execute_input": "2022-04-04T04:07:13.777772Z",
     "iopub.status.busy": "2022-04-04T04:07:13.777772Z",
     "iopub.status.idle": "2022-04-04T04:07:13.807275Z",
     "shell.execute_reply": "2022-04-04T04:07:13.806774Z",
     "shell.execute_reply.started": "2022-04-04T04:07:13.777772Z"
    },
    "tags": []
   },
   "outputs": [
    {
     "name": "stdout",
     "output_type": "stream",
     "text": [
      "<class 'pandas.core.frame.DataFrame'>\n",
      "Int64Index: 10000 entries, 749336 to 244652\n",
      "Data columns (total 8 columns):\n",
      " #   Column          Non-Null Count  Dtype  \n",
      "---  ------          --------------  -----  \n",
      " 0   waferMap        10000 non-null  object \n",
      " 1   dieSize         10000 non-null  float64\n",
      " 2   lotName         10000 non-null  object \n",
      " 3   trianTestLabel  10000 non-null  object \n",
      " 4   failureType     10000 non-null  object \n",
      " 5   waferMapDim     10000 non-null  object \n",
      " 6   failureNum      10000 non-null  object \n",
      " 7   trainTestNum    10000 non-null  object \n",
      "dtypes: float64(1), object(7)\n",
      "memory usage: 703.1+ KB\n"
     ]
    }
   ],
   "source": [
    "wm811k_new_train_class_none.info()"
   ]
  },
  {
   "cell_type": "code",
   "execution_count": 27,
   "id": "98289165",
   "metadata": {
    "execution": {
     "iopub.execute_input": "2022-04-04T04:07:13.808399Z",
     "iopub.status.busy": "2022-04-04T04:07:13.808399Z",
     "iopub.status.idle": "2022-04-04T04:07:13.823573Z",
     "shell.execute_reply": "2022-04-04T04:07:13.822548Z",
     "shell.execute_reply.started": "2022-04-04T04:07:13.808399Z"
    },
    "tags": []
   },
   "outputs": [],
   "source": [
    "# Edge-Ring 1446개\n",
    "# 10도 회전 : 20%\n",
    "# 좌우 대칭 및 너비 이동 : 20%\n",
    "# 높이 이동: 15%\n",
    "# 전단 범위(shearing range) : 10%\n",
    "# 채널이동 및 확대 축소 : 10%\n",
    "## 1채널인 것 같은데 channel shift?"
   ]
  },
  {
   "cell_type": "code",
   "execution_count": null,
   "id": "ebdc275b",
   "metadata": {},
   "outputs": [],
   "source": []
  },
  {
   "cell_type": "code",
   "execution_count": null,
   "id": "694bdc31",
   "metadata": {},
   "outputs": [],
   "source": []
  },
  {
   "cell_type": "code",
   "execution_count": null,
   "id": "51b7dfd8",
   "metadata": {},
   "outputs": [],
   "source": []
  },
  {
   "cell_type": "code",
   "execution_count": null,
   "id": "40c9c653",
   "metadata": {},
   "outputs": [],
   "source": []
  },
  {
   "cell_type": "code",
   "execution_count": null,
   "id": "1742eccb",
   "metadata": {},
   "outputs": [],
   "source": []
  },
  {
   "cell_type": "code",
   "execution_count": null,
   "id": "51a720ac",
   "metadata": {},
   "outputs": [],
   "source": []
  },
  {
   "cell_type": "code",
   "execution_count": null,
   "id": "38e9b41e",
   "metadata": {},
   "outputs": [],
   "source": []
  },
  {
   "cell_type": "code",
   "execution_count": null,
   "id": "12af7c66",
   "metadata": {},
   "outputs": [],
   "source": []
  },
  {
   "cell_type": "code",
   "execution_count": null,
   "id": "79acdc65",
   "metadata": {},
   "outputs": [],
   "source": []
  },
  {
   "cell_type": "markdown",
   "id": "8c86b8a6",
   "metadata": {},
   "source": [
    "- pkl 파일 저장 : https://seing.tistory.com/95"
   ]
  }
 ],
 "metadata": {
  "kernelspec": {
   "display_name": "Python 3 (ipykernel)",
   "language": "python",
   "name": "python3"
  },
  "language_info": {
   "codemirror_mode": {
    "name": "ipython",
    "version": 3
   },
   "file_extension": ".py",
   "mimetype": "text/x-python",
   "name": "python",
   "nbconvert_exporter": "python",
   "pygments_lexer": "ipython3",
   "version": "3.7.9"
  }
 },
 "nbformat": 4,
 "nbformat_minor": 5
}
