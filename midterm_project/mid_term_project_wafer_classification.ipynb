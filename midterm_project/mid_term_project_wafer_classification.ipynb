{
 "cells": [
  {
   "cell_type": "markdown",
   "id": "bce1ba42",
   "metadata": {},
   "source": [
    "## 불균형 데이터셋에 대한 웨이퍼 불량식별을 위한 CNN\n",
    "### 키워드\n",
    "- 데이터 전처리\n",
    "    - Data Augmentaion\n",
    "    - 불량 클래스\n",
    "        - Center\n",
    "        - Donut\n",
    "        - Local\n",
    "        - Edge-Loc\n",
    "        - Edge-Ring\n",
    "        - Scratch\n",
    "        - Random\n",
    "        - Near-Full\n",
    "        - None\n",
    "- 모델 구성\n",
    "    - Batch Normalization\n",
    "    - Spatical Dropout\n",
    "    - Regularization"
   ]
  },
  {
   "cell_type": "markdown",
   "id": "4e3edb89",
   "metadata": {},
   "source": [
    "### 데이터 확인사항\n",
    "- waferMap 사이즈를 확인하여 추후 개발할 신경망 모델의 224x224 사이즈에 맞게 resizing 작업이 필요할 것으로 예상됨\n",
    "- augmentaion 작업과 resizing 작업이 한 번에 해결될 수 있도록 전처리하는 것이 좋을 듯"
   ]
  },
  {
   "cell_type": "code",
   "execution_count": 1,
   "id": "79364f9d",
   "metadata": {
    "execution": {
     "iopub.execute_input": "2022-04-08T05:11:43.564826Z",
     "iopub.status.busy": "2022-04-08T05:11:43.563802Z",
     "iopub.status.idle": "2022-04-08T05:11:55.166839Z",
     "shell.execute_reply": "2022-04-08T05:11:55.166432Z",
     "shell.execute_reply.started": "2022-04-08T05:11:43.564826Z"
    },
    "tags": []
   },
   "outputs": [],
   "source": [
    "import numpy as np\n",
    "import pandas as pd\n",
    "import cv2\n",
    "import matplotlib.pyplot as plt\n",
    "import random\n",
    "from tensorflow.keras import layers\n",
    "from tensorflow.keras import optimizers\n",
    "from tensorflow.keras.models import Model\n",
    "from tensorflow.keras.callbacks import ModelCheckpoint"
   ]
  },
  {
   "cell_type": "code",
   "execution_count": 2,
   "id": "67756576",
   "metadata": {
    "execution": {
     "iopub.execute_input": "2022-04-08T05:11:55.167851Z",
     "iopub.status.busy": "2022-04-08T05:11:55.167851Z",
     "iopub.status.idle": "2022-04-08T05:12:43.007723Z",
     "shell.execute_reply": "2022-04-08T05:12:43.007223Z",
     "shell.execute_reply.started": "2022-04-08T05:11:55.167851Z"
    },
    "tags": []
   },
   "outputs": [],
   "source": [
    "wm811k = pd.read_pickle('./data/LSWMD.pkl')"
   ]
  },
  {
   "cell_type": "code",
   "execution_count": 3,
   "id": "d8f0f6cb",
   "metadata": {
    "execution": {
     "iopub.execute_input": "2022-04-08T05:12:43.008748Z",
     "iopub.status.busy": "2022-04-08T05:12:43.008748Z",
     "iopub.status.idle": "2022-04-08T05:12:43.207841Z",
     "shell.execute_reply": "2022-04-08T05:12:43.207338Z",
     "shell.execute_reply.started": "2022-04-08T05:12:43.008748Z"
    },
    "tags": []
   },
   "outputs": [
    {
     "data": {
      "text/html": [
       "<div>\n",
       "<style scoped>\n",
       "    .dataframe tbody tr th:only-of-type {\n",
       "        vertical-align: middle;\n",
       "    }\n",
       "\n",
       "    .dataframe tbody tr th {\n",
       "        vertical-align: top;\n",
       "    }\n",
       "\n",
       "    .dataframe thead th {\n",
       "        text-align: right;\n",
       "    }\n",
       "</style>\n",
       "<table border=\"1\" class=\"dataframe\">\n",
       "  <thead>\n",
       "    <tr style=\"text-align: right;\">\n",
       "      <th></th>\n",
       "      <th>waferMap</th>\n",
       "      <th>dieSize</th>\n",
       "      <th>lotName</th>\n",
       "      <th>waferIndex</th>\n",
       "      <th>trianTestLabel</th>\n",
       "      <th>failureType</th>\n",
       "    </tr>\n",
       "  </thead>\n",
       "  <tbody>\n",
       "    <tr>\n",
       "      <th>0</th>\n",
       "      <td>[[0, 0, 0, 0, 0, 0, 0, 0, 0, 0, 0, 0, 0, 0, 0,...</td>\n",
       "      <td>1683.0</td>\n",
       "      <td>lot1</td>\n",
       "      <td>1.0</td>\n",
       "      <td>[[Training]]</td>\n",
       "      <td>[[none]]</td>\n",
       "    </tr>\n",
       "    <tr>\n",
       "      <th>1</th>\n",
       "      <td>[[0, 0, 0, 0, 0, 0, 0, 0, 0, 0, 0, 0, 0, 0, 0,...</td>\n",
       "      <td>1683.0</td>\n",
       "      <td>lot1</td>\n",
       "      <td>2.0</td>\n",
       "      <td>[[Training]]</td>\n",
       "      <td>[[none]]</td>\n",
       "    </tr>\n",
       "    <tr>\n",
       "      <th>2</th>\n",
       "      <td>[[0, 0, 0, 0, 0, 0, 0, 0, 0, 0, 0, 0, 0, 0, 0,...</td>\n",
       "      <td>1683.0</td>\n",
       "      <td>lot1</td>\n",
       "      <td>3.0</td>\n",
       "      <td>[[Training]]</td>\n",
       "      <td>[[none]]</td>\n",
       "    </tr>\n",
       "    <tr>\n",
       "      <th>3</th>\n",
       "      <td>[[0, 0, 0, 0, 0, 0, 0, 0, 0, 0, 0, 0, 0, 0, 0,...</td>\n",
       "      <td>1683.0</td>\n",
       "      <td>lot1</td>\n",
       "      <td>4.0</td>\n",
       "      <td>[[Training]]</td>\n",
       "      <td>[[none]]</td>\n",
       "    </tr>\n",
       "    <tr>\n",
       "      <th>4</th>\n",
       "      <td>[[0, 0, 0, 0, 0, 0, 0, 0, 0, 0, 0, 0, 0, 0, 0,...</td>\n",
       "      <td>1683.0</td>\n",
       "      <td>lot1</td>\n",
       "      <td>5.0</td>\n",
       "      <td>[[Training]]</td>\n",
       "      <td>[[none]]</td>\n",
       "    </tr>\n",
       "  </tbody>\n",
       "</table>\n",
       "</div>"
      ],
      "text/plain": [
       "                                            waferMap  dieSize lotName  \\\n",
       "0  [[0, 0, 0, 0, 0, 0, 0, 0, 0, 0, 0, 0, 0, 0, 0,...   1683.0    lot1   \n",
       "1  [[0, 0, 0, 0, 0, 0, 0, 0, 0, 0, 0, 0, 0, 0, 0,...   1683.0    lot1   \n",
       "2  [[0, 0, 0, 0, 0, 0, 0, 0, 0, 0, 0, 0, 0, 0, 0,...   1683.0    lot1   \n",
       "3  [[0, 0, 0, 0, 0, 0, 0, 0, 0, 0, 0, 0, 0, 0, 0,...   1683.0    lot1   \n",
       "4  [[0, 0, 0, 0, 0, 0, 0, 0, 0, 0, 0, 0, 0, 0, 0,...   1683.0    lot1   \n",
       "\n",
       "   waferIndex trianTestLabel failureType  \n",
       "0         1.0   [[Training]]    [[none]]  \n",
       "1         2.0   [[Training]]    [[none]]  \n",
       "2         3.0   [[Training]]    [[none]]  \n",
       "3         4.0   [[Training]]    [[none]]  \n",
       "4         5.0   [[Training]]    [[none]]  "
      ]
     },
     "execution_count": 3,
     "metadata": {},
     "output_type": "execute_result"
    }
   ],
   "source": [
    "wm811k.head()"
   ]
  },
  {
   "cell_type": "code",
   "execution_count": 4,
   "id": "c1051674",
   "metadata": {
    "execution": {
     "iopub.execute_input": "2022-04-08T05:12:43.208853Z",
     "iopub.status.busy": "2022-04-08T05:12:43.208853Z",
     "iopub.status.idle": "2022-04-08T05:12:43.390432Z",
     "shell.execute_reply": "2022-04-08T05:12:43.390432Z",
     "shell.execute_reply.started": "2022-04-08T05:12:43.208853Z"
    },
    "tags": []
   },
   "outputs": [
    {
     "name": "stdout",
     "output_type": "stream",
     "text": [
      "<class 'pandas.core.frame.DataFrame'>\n",
      "RangeIndex: 811457 entries, 0 to 811456\n",
      "Data columns (total 6 columns):\n",
      " #   Column          Non-Null Count   Dtype  \n",
      "---  ------          --------------   -----  \n",
      " 0   waferMap        811457 non-null  object \n",
      " 1   dieSize         811457 non-null  float64\n",
      " 2   lotName         811457 non-null  object \n",
      " 3   waferIndex      811457 non-null  float64\n",
      " 4   trianTestLabel  811457 non-null  object \n",
      " 5   failureType     811457 non-null  object \n",
      "dtypes: float64(2), object(4)\n",
      "memory usage: 37.1+ MB\n"
     ]
    }
   ],
   "source": [
    "wm811k.info()"
   ]
  },
  {
   "cell_type": "code",
   "execution_count": 5,
   "id": "9803e756",
   "metadata": {
    "execution": {
     "iopub.execute_input": "2022-04-08T05:12:43.392545Z",
     "iopub.status.busy": "2022-04-08T05:12:43.391544Z",
     "iopub.status.idle": "2022-04-08T05:12:43.620911Z",
     "shell.execute_reply": "2022-04-08T05:12:43.620411Z",
     "shell.execute_reply.started": "2022-04-08T05:12:43.392545Z"
    },
    "tags": []
   },
   "outputs": [
    {
     "data": {
      "text/html": [
       "<div>\n",
       "<style scoped>\n",
       "    .dataframe tbody tr th:only-of-type {\n",
       "        vertical-align: middle;\n",
       "    }\n",
       "\n",
       "    .dataframe tbody tr th {\n",
       "        vertical-align: top;\n",
       "    }\n",
       "\n",
       "    .dataframe thead th {\n",
       "        text-align: right;\n",
       "    }\n",
       "</style>\n",
       "<table border=\"1\" class=\"dataframe\">\n",
       "  <thead>\n",
       "    <tr style=\"text-align: right;\">\n",
       "      <th></th>\n",
       "      <th>waferMap</th>\n",
       "      <th>dieSize</th>\n",
       "      <th>lotName</th>\n",
       "      <th>trianTestLabel</th>\n",
       "      <th>failureType</th>\n",
       "    </tr>\n",
       "  </thead>\n",
       "  <tbody>\n",
       "    <tr>\n",
       "      <th>0</th>\n",
       "      <td>[[0, 0, 0, 0, 0, 0, 0, 0, 0, 0, 0, 0, 0, 0, 0,...</td>\n",
       "      <td>1683.0</td>\n",
       "      <td>lot1</td>\n",
       "      <td>[[Training]]</td>\n",
       "      <td>[[none]]</td>\n",
       "    </tr>\n",
       "    <tr>\n",
       "      <th>1</th>\n",
       "      <td>[[0, 0, 0, 0, 0, 0, 0, 0, 0, 0, 0, 0, 0, 0, 0,...</td>\n",
       "      <td>1683.0</td>\n",
       "      <td>lot1</td>\n",
       "      <td>[[Training]]</td>\n",
       "      <td>[[none]]</td>\n",
       "    </tr>\n",
       "    <tr>\n",
       "      <th>2</th>\n",
       "      <td>[[0, 0, 0, 0, 0, 0, 0, 0, 0, 0, 0, 0, 0, 0, 0,...</td>\n",
       "      <td>1683.0</td>\n",
       "      <td>lot1</td>\n",
       "      <td>[[Training]]</td>\n",
       "      <td>[[none]]</td>\n",
       "    </tr>\n",
       "    <tr>\n",
       "      <th>3</th>\n",
       "      <td>[[0, 0, 0, 0, 0, 0, 0, 0, 0, 0, 0, 0, 0, 0, 0,...</td>\n",
       "      <td>1683.0</td>\n",
       "      <td>lot1</td>\n",
       "      <td>[[Training]]</td>\n",
       "      <td>[[none]]</td>\n",
       "    </tr>\n",
       "    <tr>\n",
       "      <th>4</th>\n",
       "      <td>[[0, 0, 0, 0, 0, 0, 0, 0, 0, 0, 0, 0, 0, 0, 0,...</td>\n",
       "      <td>1683.0</td>\n",
       "      <td>lot1</td>\n",
       "      <td>[[Training]]</td>\n",
       "      <td>[[none]]</td>\n",
       "    </tr>\n",
       "  </tbody>\n",
       "</table>\n",
       "</div>"
      ],
      "text/plain": [
       "                                            waferMap  dieSize lotName  \\\n",
       "0  [[0, 0, 0, 0, 0, 0, 0, 0, 0, 0, 0, 0, 0, 0, 0,...   1683.0    lot1   \n",
       "1  [[0, 0, 0, 0, 0, 0, 0, 0, 0, 0, 0, 0, 0, 0, 0,...   1683.0    lot1   \n",
       "2  [[0, 0, 0, 0, 0, 0, 0, 0, 0, 0, 0, 0, 0, 0, 0,...   1683.0    lot1   \n",
       "3  [[0, 0, 0, 0, 0, 0, 0, 0, 0, 0, 0, 0, 0, 0, 0,...   1683.0    lot1   \n",
       "4  [[0, 0, 0, 0, 0, 0, 0, 0, 0, 0, 0, 0, 0, 0, 0,...   1683.0    lot1   \n",
       "\n",
       "  trianTestLabel failureType  \n",
       "0   [[Training]]    [[none]]  \n",
       "1   [[Training]]    [[none]]  \n",
       "2   [[Training]]    [[none]]  \n",
       "3   [[Training]]    [[none]]  \n",
       "4   [[Training]]    [[none]]  "
      ]
     },
     "execution_count": 5,
     "metadata": {},
     "output_type": "execute_result"
    }
   ],
   "source": [
    "# 불필요 컬럼 제거\n",
    "wm811k = wm811k.drop(['waferIndex'], axis = 1)\n",
    "wm811k.head()"
   ]
  },
  {
   "cell_type": "code",
   "execution_count": 6,
   "id": "c395a9fb",
   "metadata": {
    "execution": {
     "iopub.execute_input": "2022-04-08T05:12:43.621928Z",
     "iopub.status.busy": "2022-04-08T05:12:43.621928Z",
     "iopub.status.idle": "2022-04-08T05:12:44.955336Z",
     "shell.execute_reply": "2022-04-08T05:12:44.955336Z",
     "shell.execute_reply.started": "2022-04-08T05:12:43.621928Z"
    },
    "tags": []
   },
   "outputs": [
    {
     "data": {
      "text/html": [
       "<div>\n",
       "<style scoped>\n",
       "    .dataframe tbody tr th:only-of-type {\n",
       "        vertical-align: middle;\n",
       "    }\n",
       "\n",
       "    .dataframe tbody tr th {\n",
       "        vertical-align: top;\n",
       "    }\n",
       "\n",
       "    .dataframe thead th {\n",
       "        text-align: right;\n",
       "    }\n",
       "</style>\n",
       "<table border=\"1\" class=\"dataframe\">\n",
       "  <thead>\n",
       "    <tr style=\"text-align: right;\">\n",
       "      <th></th>\n",
       "      <th>waferMap</th>\n",
       "      <th>dieSize</th>\n",
       "      <th>lotName</th>\n",
       "      <th>trianTestLabel</th>\n",
       "      <th>failureType</th>\n",
       "      <th>waferMapDim</th>\n",
       "    </tr>\n",
       "  </thead>\n",
       "  <tbody>\n",
       "    <tr>\n",
       "      <th>0</th>\n",
       "      <td>[[0, 0, 0, 0, 0, 0, 0, 0, 0, 0, 0, 0, 0, 0, 0,...</td>\n",
       "      <td>1683.0</td>\n",
       "      <td>lot1</td>\n",
       "      <td>[[Training]]</td>\n",
       "      <td>[[none]]</td>\n",
       "      <td>(45, 48)</td>\n",
       "    </tr>\n",
       "    <tr>\n",
       "      <th>1</th>\n",
       "      <td>[[0, 0, 0, 0, 0, 0, 0, 0, 0, 0, 0, 0, 0, 0, 0,...</td>\n",
       "      <td>1683.0</td>\n",
       "      <td>lot1</td>\n",
       "      <td>[[Training]]</td>\n",
       "      <td>[[none]]</td>\n",
       "      <td>(45, 48)</td>\n",
       "    </tr>\n",
       "    <tr>\n",
       "      <th>2</th>\n",
       "      <td>[[0, 0, 0, 0, 0, 0, 0, 0, 0, 0, 0, 0, 0, 0, 0,...</td>\n",
       "      <td>1683.0</td>\n",
       "      <td>lot1</td>\n",
       "      <td>[[Training]]</td>\n",
       "      <td>[[none]]</td>\n",
       "      <td>(45, 48)</td>\n",
       "    </tr>\n",
       "    <tr>\n",
       "      <th>3</th>\n",
       "      <td>[[0, 0, 0, 0, 0, 0, 0, 0, 0, 0, 0, 0, 0, 0, 0,...</td>\n",
       "      <td>1683.0</td>\n",
       "      <td>lot1</td>\n",
       "      <td>[[Training]]</td>\n",
       "      <td>[[none]]</td>\n",
       "      <td>(45, 48)</td>\n",
       "    </tr>\n",
       "    <tr>\n",
       "      <th>4</th>\n",
       "      <td>[[0, 0, 0, 0, 0, 0, 0, 0, 0, 0, 0, 0, 0, 0, 0,...</td>\n",
       "      <td>1683.0</td>\n",
       "      <td>lot1</td>\n",
       "      <td>[[Training]]</td>\n",
       "      <td>[[none]]</td>\n",
       "      <td>(45, 48)</td>\n",
       "    </tr>\n",
       "  </tbody>\n",
       "</table>\n",
       "</div>"
      ],
      "text/plain": [
       "                                            waferMap  dieSize lotName  \\\n",
       "0  [[0, 0, 0, 0, 0, 0, 0, 0, 0, 0, 0, 0, 0, 0, 0,...   1683.0    lot1   \n",
       "1  [[0, 0, 0, 0, 0, 0, 0, 0, 0, 0, 0, 0, 0, 0, 0,...   1683.0    lot1   \n",
       "2  [[0, 0, 0, 0, 0, 0, 0, 0, 0, 0, 0, 0, 0, 0, 0,...   1683.0    lot1   \n",
       "3  [[0, 0, 0, 0, 0, 0, 0, 0, 0, 0, 0, 0, 0, 0, 0,...   1683.0    lot1   \n",
       "4  [[0, 0, 0, 0, 0, 0, 0, 0, 0, 0, 0, 0, 0, 0, 0,...   1683.0    lot1   \n",
       "\n",
       "  trianTestLabel failureType waferMapDim  \n",
       "0   [[Training]]    [[none]]    (45, 48)  \n",
       "1   [[Training]]    [[none]]    (45, 48)  \n",
       "2   [[Training]]    [[none]]    (45, 48)  \n",
       "3   [[Training]]    [[none]]    (45, 48)  \n",
       "4   [[Training]]    [[none]]    (45, 48)  "
      ]
     },
     "execution_count": 6,
     "metadata": {},
     "output_type": "execute_result"
    }
   ],
   "source": [
    "# wafermap size 확인 및 컬럼 추가\n",
    "def find_dim(x):\n",
    "    dim0=np.size(x,axis=0)\n",
    "    dim1=np.size(x,axis=1)\n",
    "    return dim0,dim1\n",
    "wm811k['waferMapDim']=wm811k['waferMap'].apply(find_dim)\n",
    "wm811k.head()"
   ]
  },
  {
   "cell_type": "code",
   "execution_count": 7,
   "id": "0b77a0ab",
   "metadata": {
    "execution": {
     "iopub.execute_input": "2022-04-08T05:12:44.957709Z",
     "iopub.status.busy": "2022-04-08T05:12:44.956723Z",
     "iopub.status.idle": "2022-04-08T05:12:57.721415Z",
     "shell.execute_reply": "2022-04-08T05:12:57.720903Z",
     "shell.execute_reply.started": "2022-04-08T05:12:44.957709Z"
    },
    "tags": []
   },
   "outputs": [
    {
     "name": "stderr",
     "output_type": "stream",
     "text": [
      "C:\\Users\\kjt\\Anaconda3\\envs\\dlit\\lib\\site-packages\\pandas\\core\\array_algos\\replace.py:60: FutureWarning: elementwise comparison failed; returning scalar instead, but in the future will perform elementwise comparison\n",
      "  op = lambda x: operator.eq(x, b)\n"
     ]
    },
    {
     "data": {
      "text/html": [
       "<div>\n",
       "<style scoped>\n",
       "    .dataframe tbody tr th:only-of-type {\n",
       "        vertical-align: middle;\n",
       "    }\n",
       "\n",
       "    .dataframe tbody tr th {\n",
       "        vertical-align: top;\n",
       "    }\n",
       "\n",
       "    .dataframe thead th {\n",
       "        text-align: right;\n",
       "    }\n",
       "</style>\n",
       "<table border=\"1\" class=\"dataframe\">\n",
       "  <thead>\n",
       "    <tr style=\"text-align: right;\">\n",
       "      <th></th>\n",
       "      <th>waferMap</th>\n",
       "      <th>dieSize</th>\n",
       "      <th>lotName</th>\n",
       "      <th>trianTestLabel</th>\n",
       "      <th>failureType</th>\n",
       "      <th>waferMapDim</th>\n",
       "      <th>failureNum</th>\n",
       "      <th>trainTestNum</th>\n",
       "    </tr>\n",
       "  </thead>\n",
       "  <tbody>\n",
       "    <tr>\n",
       "      <th>0</th>\n",
       "      <td>[[0, 0, 0, 0, 0, 0, 0, 0, 0, 0, 0, 0, 0, 0, 0,...</td>\n",
       "      <td>1683.0</td>\n",
       "      <td>lot1</td>\n",
       "      <td>[[Training]]</td>\n",
       "      <td>[[none]]</td>\n",
       "      <td>(45, 48)</td>\n",
       "      <td>8</td>\n",
       "      <td>0</td>\n",
       "    </tr>\n",
       "    <tr>\n",
       "      <th>1</th>\n",
       "      <td>[[0, 0, 0, 0, 0, 0, 0, 0, 0, 0, 0, 0, 0, 0, 0,...</td>\n",
       "      <td>1683.0</td>\n",
       "      <td>lot1</td>\n",
       "      <td>[[Training]]</td>\n",
       "      <td>[[none]]</td>\n",
       "      <td>(45, 48)</td>\n",
       "      <td>8</td>\n",
       "      <td>0</td>\n",
       "    </tr>\n",
       "    <tr>\n",
       "      <th>2</th>\n",
       "      <td>[[0, 0, 0, 0, 0, 0, 0, 0, 0, 0, 0, 0, 0, 0, 0,...</td>\n",
       "      <td>1683.0</td>\n",
       "      <td>lot1</td>\n",
       "      <td>[[Training]]</td>\n",
       "      <td>[[none]]</td>\n",
       "      <td>(45, 48)</td>\n",
       "      <td>8</td>\n",
       "      <td>0</td>\n",
       "    </tr>\n",
       "    <tr>\n",
       "      <th>3</th>\n",
       "      <td>[[0, 0, 0, 0, 0, 0, 0, 0, 0, 0, 0, 0, 0, 0, 0,...</td>\n",
       "      <td>1683.0</td>\n",
       "      <td>lot1</td>\n",
       "      <td>[[Training]]</td>\n",
       "      <td>[[none]]</td>\n",
       "      <td>(45, 48)</td>\n",
       "      <td>8</td>\n",
       "      <td>0</td>\n",
       "    </tr>\n",
       "    <tr>\n",
       "      <th>4</th>\n",
       "      <td>[[0, 0, 0, 0, 0, 0, 0, 0, 0, 0, 0, 0, 0, 0, 0,...</td>\n",
       "      <td>1683.0</td>\n",
       "      <td>lot1</td>\n",
       "      <td>[[Training]]</td>\n",
       "      <td>[[none]]</td>\n",
       "      <td>(45, 48)</td>\n",
       "      <td>8</td>\n",
       "      <td>0</td>\n",
       "    </tr>\n",
       "  </tbody>\n",
       "</table>\n",
       "</div>"
      ],
      "text/plain": [
       "                                            waferMap  dieSize lotName  \\\n",
       "0  [[0, 0, 0, 0, 0, 0, 0, 0, 0, 0, 0, 0, 0, 0, 0,...   1683.0    lot1   \n",
       "1  [[0, 0, 0, 0, 0, 0, 0, 0, 0, 0, 0, 0, 0, 0, 0,...   1683.0    lot1   \n",
       "2  [[0, 0, 0, 0, 0, 0, 0, 0, 0, 0, 0, 0, 0, 0, 0,...   1683.0    lot1   \n",
       "3  [[0, 0, 0, 0, 0, 0, 0, 0, 0, 0, 0, 0, 0, 0, 0,...   1683.0    lot1   \n",
       "4  [[0, 0, 0, 0, 0, 0, 0, 0, 0, 0, 0, 0, 0, 0, 0,...   1683.0    lot1   \n",
       "\n",
       "  trianTestLabel failureType waferMapDim failureNum trainTestNum  \n",
       "0   [[Training]]    [[none]]    (45, 48)          8            0  \n",
       "1   [[Training]]    [[none]]    (45, 48)          8            0  \n",
       "2   [[Training]]    [[none]]    (45, 48)          8            0  \n",
       "3   [[Training]]    [[none]]    (45, 48)          8            0  \n",
       "4   [[Training]]    [[none]]    (45, 48)          8            0  "
      ]
     },
     "execution_count": 7,
     "metadata": {},
     "output_type": "execute_result"
    }
   ],
   "source": [
    "# 불량 클래스 확인 및 학습/검증/테스트 데이터 셋 확인\n",
    "wm811k['failureNum']=wm811k['failureType']\n",
    "wm811k['trainTestNum']=wm811k['trianTestLabel']\n",
    "mapping_type={'Center':0,'Donut':1,'Edge-Loc':2,'Edge-Ring':3,'Loc':4,'Random':5,'Scratch':6,'Near-full':7,'none':8}\n",
    "mapping_traintest={'Training':0,'Test':1}\n",
    "wm811k=wm811k.replace({'failureNum':mapping_type, 'trainTestNum':mapping_traintest})\n",
    "wm811k.head()"
   ]
  },
  {
   "cell_type": "code",
   "execution_count": 8,
   "id": "2c445836",
   "metadata": {
    "execution": {
     "iopub.execute_input": "2022-04-08T05:12:57.722444Z",
     "iopub.status.busy": "2022-04-08T05:12:57.721415Z",
     "iopub.status.idle": "2022-04-08T05:13:01.557363Z",
     "shell.execute_reply": "2022-04-08T05:13:01.557043Z",
     "shell.execute_reply.started": "2022-04-08T05:12:57.721415Z"
    },
    "tags": []
   },
   "outputs": [
    {
     "data": {
      "text/plain": [
       "[]                638507\n",
       "[['Test']]        118595\n",
       "[['Training']]     54355\n",
       "Name: trianTestLabel, dtype: int64"
      ]
     },
     "execution_count": 8,
     "metadata": {},
     "output_type": "execute_result"
    }
   ],
   "source": [
    "wm811k['trianTestLabel'].apply(lambda x: str(x)).value_counts()"
   ]
  },
  {
   "cell_type": "code",
   "execution_count": 9,
   "id": "dfa7caf2",
   "metadata": {
    "execution": {
     "iopub.execute_input": "2022-04-08T05:13:01.558057Z",
     "iopub.status.busy": "2022-04-08T05:13:01.558057Z",
     "iopub.status.idle": "2022-04-08T05:13:03.312695Z",
     "shell.execute_reply": "2022-04-08T05:13:03.312194Z",
     "shell.execute_reply.started": "2022-04-08T05:13:01.558057Z"
    },
    "tags": []
   },
   "outputs": [
    {
     "data": {
      "text/plain": [
       "[]    638507\n",
       "1     118595\n",
       "0      54355\n",
       "Name: trainTestNum, dtype: int64"
      ]
     },
     "execution_count": 9,
     "metadata": {},
     "output_type": "execute_result"
    }
   ],
   "source": [
    "wm811k['trainTestNum'].apply(lambda x: str(x)).value_counts()"
   ]
  },
  {
   "cell_type": "code",
   "execution_count": 10,
   "id": "38f576c2",
   "metadata": {
    "execution": {
     "iopub.execute_input": "2022-04-08T05:13:03.314212Z",
     "iopub.status.busy": "2022-04-08T05:13:03.314212Z",
     "iopub.status.idle": "2022-04-08T05:13:04.961073Z",
     "shell.execute_reply": "2022-04-08T05:13:04.960554Z",
     "shell.execute_reply.started": "2022-04-08T05:13:03.314212Z"
    },
    "tags": []
   },
   "outputs": [],
   "source": [
    "wm811k_train = wm811k.query(\"trainTestNum == 0\")"
   ]
  },
  {
   "cell_type": "code",
   "execution_count": 11,
   "id": "604632a0",
   "metadata": {
    "execution": {
     "iopub.execute_input": "2022-04-08T05:13:04.962142Z",
     "iopub.status.busy": "2022-04-08T05:13:04.961073Z",
     "iopub.status.idle": "2022-04-08T05:13:04.991836Z",
     "shell.execute_reply": "2022-04-08T05:13:04.991114Z",
     "shell.execute_reply.started": "2022-04-08T05:13:04.962142Z"
    },
    "tags": []
   },
   "outputs": [
    {
     "name": "stdout",
     "output_type": "stream",
     "text": [
      "<class 'pandas.core.frame.DataFrame'>\n",
      "Int64Index: 54355 entries, 0 to 791476\n",
      "Data columns (total 8 columns):\n",
      " #   Column          Non-Null Count  Dtype  \n",
      "---  ------          --------------  -----  \n",
      " 0   waferMap        54355 non-null  object \n",
      " 1   dieSize         54355 non-null  float64\n",
      " 2   lotName         54355 non-null  object \n",
      " 3   trianTestLabel  54355 non-null  object \n",
      " 4   failureType     54355 non-null  object \n",
      " 5   waferMapDim     54355 non-null  object \n",
      " 6   failureNum      54355 non-null  object \n",
      " 7   trainTestNum    54355 non-null  object \n",
      "dtypes: float64(1), object(7)\n",
      "memory usage: 3.7+ MB\n"
     ]
    }
   ],
   "source": [
    "wm811k_train.info()"
   ]
  },
  {
   "cell_type": "markdown",
   "id": "9308570c",
   "metadata": {},
   "source": [
    "### wm811k_test set\n",
    "- 10,000개 augmentation된 데이터 train: validation : test = 65: 20: 15\n",
    "- 최종 모델 확인 이후 wm811k_test 데이터 활용 모델 성능 확인하는 것이 좋을 듯"
   ]
  },
  {
   "cell_type": "code",
   "execution_count": 12,
   "id": "d3e8bfff",
   "metadata": {
    "execution": {
     "iopub.execute_input": "2022-04-08T05:13:04.993871Z",
     "iopub.status.busy": "2022-04-08T05:13:04.993871Z",
     "iopub.status.idle": "2022-04-08T05:13:06.691223Z",
     "shell.execute_reply": "2022-04-08T05:13:06.691223Z",
     "shell.execute_reply.started": "2022-04-08T05:13:04.993871Z"
    },
    "tags": []
   },
   "outputs": [],
   "source": [
    "wm811k_test = wm811k.query(\"trainTestNum == 1\")"
   ]
  },
  {
   "cell_type": "code",
   "execution_count": 13,
   "id": "05d20940",
   "metadata": {
    "execution": {
     "iopub.execute_input": "2022-04-08T05:13:06.692507Z",
     "iopub.status.busy": "2022-04-08T05:13:06.692507Z",
     "iopub.status.idle": "2022-04-08T05:13:06.736807Z",
     "shell.execute_reply": "2022-04-08T05:13:06.736303Z",
     "shell.execute_reply.started": "2022-04-08T05:13:06.692507Z"
    },
    "tags": []
   },
   "outputs": [
    {
     "name": "stdout",
     "output_type": "stream",
     "text": [
      "<class 'pandas.core.frame.DataFrame'>\n",
      "Int64Index: 118595 entries, 639663 to 811454\n",
      "Data columns (total 8 columns):\n",
      " #   Column          Non-Null Count   Dtype  \n",
      "---  ------          --------------   -----  \n",
      " 0   waferMap        118595 non-null  object \n",
      " 1   dieSize         118595 non-null  float64\n",
      " 2   lotName         118595 non-null  object \n",
      " 3   trianTestLabel  118595 non-null  object \n",
      " 4   failureType     118595 non-null  object \n",
      " 5   waferMapDim     118595 non-null  object \n",
      " 6   failureNum      118595 non-null  object \n",
      " 7   trainTestNum    118595 non-null  object \n",
      "dtypes: float64(1), object(7)\n",
      "memory usage: 8.1+ MB\n"
     ]
    }
   ],
   "source": [
    "wm811k_test.info()"
   ]
  },
  {
   "cell_type": "code",
   "execution_count": 14,
   "id": "e21c1dc2",
   "metadata": {
    "execution": {
     "iopub.execute_input": "2022-04-08T05:13:06.737828Z",
     "iopub.status.busy": "2022-04-08T05:13:06.737828Z",
     "iopub.status.idle": "2022-04-08T05:13:06.797521Z",
     "shell.execute_reply": "2022-04-08T05:13:06.797521Z",
     "shell.execute_reply.started": "2022-04-08T05:13:06.737828Z"
    },
    "tags": []
   },
   "outputs": [
    {
     "data": {
      "text/plain": [
       "8    110701\n",
       "2      2772\n",
       "4      1973\n",
       "3      1126\n",
       "0       832\n",
       "6       693\n",
       "5       257\n",
       "1       146\n",
       "7        95\n",
       "Name: failureNum, dtype: int64"
      ]
     },
     "execution_count": 14,
     "metadata": {},
     "output_type": "execute_result"
    }
   ],
   "source": [
    "wm811k_test['failureNum'].apply(lambda x: str(x)).value_counts()"
   ]
  },
  {
   "cell_type": "markdown",
   "id": "7c450de4",
   "metadata": {},
   "source": [
    "### waferMap size 확인\n",
    "- data print 결과 빈 부분은 0, 정상 pixel은 1, 불량 pixel은 2로 표현되어있는 듯\n",
    "    - input shape 맞출 때 0으로 padding 주듯이 채우면 될 듯\n",
    "- 예상 전처리 과정 : 기존 데이터에 data augmentaion 적용 $ \\rightarrow $ 변형 데이터에 224x224 size zero_padding $ \\rightarrow $ input data"
   ]
  },
  {
   "cell_type": "code",
   "execution_count": null,
   "id": "77420457",
   "metadata": {
    "tags": []
   },
   "outputs": [],
   "source": [
    "# pd.set_option('display.max_columns', None)\n",
    "# pd.set_option('display.max_rows', None)"
   ]
  },
  {
   "cell_type": "code",
   "execution_count": null,
   "id": "eb093b9c",
   "metadata": {
    "tags": []
   },
   "outputs": [],
   "source": [
    "# 데이터 형태 출력\n",
    "# for i in range(len(wm811k.iloc[0]['waferMap'])):\n",
    "#     print(wm811k.iloc[0]['waferMap'][i])"
   ]
  },
  {
   "cell_type": "code",
   "execution_count": 15,
   "id": "3b72caf6",
   "metadata": {
    "execution": {
     "iopub.execute_input": "2022-04-08T05:13:06.799861Z",
     "iopub.status.busy": "2022-04-08T05:13:06.798858Z",
     "iopub.status.idle": "2022-04-08T05:13:06.889771Z",
     "shell.execute_reply": "2022-04-08T05:13:06.889269Z",
     "shell.execute_reply.started": "2022-04-08T05:13:06.798858Z"
    },
    "tags": []
   },
   "outputs": [
    {
     "data": {
      "text/plain": [
       "(32, 29)    108687\n",
       "(25, 27)     64083\n",
       "(49, 39)     39323\n",
       "(26, 26)     30078\n",
       "(30, 34)     29513\n",
       "             ...  \n",
       "(24, 71)         1\n",
       "(61, 55)         1\n",
       "(54, 69)         1\n",
       "(18, 4)          1\n",
       "(32, 71)         1\n",
       "Name: waferMapDim, Length: 632, dtype: int64"
      ]
     },
     "execution_count": 15,
     "metadata": {},
     "output_type": "execute_result"
    }
   ],
   "source": [
    "# waferMap size 확인\n",
    "wm811k['waferMapDim'].value_counts()"
   ]
  },
  {
   "cell_type": "code",
   "execution_count": 16,
   "id": "e2d0fe2a",
   "metadata": {
    "execution": {
     "iopub.execute_input": "2022-04-08T05:13:06.891457Z",
     "iopub.status.busy": "2022-04-08T05:13:06.891457Z",
     "iopub.status.idle": "2022-04-08T05:13:06.904843Z",
     "shell.execute_reply": "2022-04-08T05:13:06.904342Z",
     "shell.execute_reply.started": "2022-04-08T05:13:06.891457Z"
    },
    "tags": []
   },
   "outputs": [
    {
     "data": {
      "text/plain": [
       "8    36730\n",
       "3     8554\n",
       "0     3462\n",
       "2     2417\n",
       "4     1620\n",
       "5      609\n",
       "6      500\n",
       "1      409\n",
       "7       54\n",
       "Name: failureNum, dtype: int64"
      ]
     },
     "execution_count": 16,
     "metadata": {},
     "output_type": "execute_result"
    }
   ],
   "source": [
    "# 학습 데이터 내 불량 클래스 개수 확인\n",
    "wm811k_train['failureNum'].value_counts()"
   ]
  },
  {
   "cell_type": "code",
   "execution_count": 17,
   "id": "e3582664",
   "metadata": {
    "execution": {
     "iopub.execute_input": "2022-04-08T05:13:06.906362Z",
     "iopub.status.busy": "2022-04-08T05:13:06.905345Z",
     "iopub.status.idle": "2022-04-08T05:13:07.072308Z",
     "shell.execute_reply": "2022-04-08T05:13:07.071804Z",
     "shell.execute_reply.started": "2022-04-08T05:13:06.906362Z"
    },
    "tags": []
   },
   "outputs": [
    {
     "data": {
      "text/html": [
       "<div>\n",
       "<style scoped>\n",
       "    .dataframe tbody tr th:only-of-type {\n",
       "        vertical-align: middle;\n",
       "    }\n",
       "\n",
       "    .dataframe tbody tr th {\n",
       "        vertical-align: top;\n",
       "    }\n",
       "\n",
       "    .dataframe thead th {\n",
       "        text-align: right;\n",
       "    }\n",
       "</style>\n",
       "<table border=\"1\" class=\"dataframe\">\n",
       "  <thead>\n",
       "    <tr style=\"text-align: right;\">\n",
       "      <th></th>\n",
       "      <th>waferMap</th>\n",
       "      <th>dieSize</th>\n",
       "      <th>lotName</th>\n",
       "      <th>trianTestLabel</th>\n",
       "      <th>failureType</th>\n",
       "      <th>waferMapDim</th>\n",
       "      <th>failureNum</th>\n",
       "      <th>trainTestNum</th>\n",
       "    </tr>\n",
       "  </thead>\n",
       "  <tbody>\n",
       "    <tr>\n",
       "      <th>0</th>\n",
       "      <td>[[0, 0, 0, 0, 0, 0, 0, 0, 0, 0, 0, 0, 0, 0, 0,...</td>\n",
       "      <td>1683.0</td>\n",
       "      <td>lot1</td>\n",
       "      <td>[[Training]]</td>\n",
       "      <td>[[none]]</td>\n",
       "      <td>(45, 48)</td>\n",
       "      <td>8</td>\n",
       "      <td>0</td>\n",
       "    </tr>\n",
       "    <tr>\n",
       "      <th>1</th>\n",
       "      <td>[[0, 0, 0, 0, 0, 0, 0, 0, 0, 0, 0, 0, 0, 0, 0,...</td>\n",
       "      <td>1683.0</td>\n",
       "      <td>lot1</td>\n",
       "      <td>[[Training]]</td>\n",
       "      <td>[[none]]</td>\n",
       "      <td>(45, 48)</td>\n",
       "      <td>8</td>\n",
       "      <td>0</td>\n",
       "    </tr>\n",
       "    <tr>\n",
       "      <th>2</th>\n",
       "      <td>[[0, 0, 0, 0, 0, 0, 0, 0, 0, 0, 0, 0, 0, 0, 0,...</td>\n",
       "      <td>1683.0</td>\n",
       "      <td>lot1</td>\n",
       "      <td>[[Training]]</td>\n",
       "      <td>[[none]]</td>\n",
       "      <td>(45, 48)</td>\n",
       "      <td>8</td>\n",
       "      <td>0</td>\n",
       "    </tr>\n",
       "    <tr>\n",
       "      <th>3</th>\n",
       "      <td>[[0, 0, 0, 0, 0, 0, 0, 0, 0, 0, 0, 0, 0, 0, 0,...</td>\n",
       "      <td>1683.0</td>\n",
       "      <td>lot1</td>\n",
       "      <td>[[Training]]</td>\n",
       "      <td>[[none]]</td>\n",
       "      <td>(45, 48)</td>\n",
       "      <td>8</td>\n",
       "      <td>0</td>\n",
       "    </tr>\n",
       "    <tr>\n",
       "      <th>4</th>\n",
       "      <td>[[0, 0, 0, 0, 0, 0, 0, 0, 0, 0, 0, 0, 0, 0, 0,...</td>\n",
       "      <td>1683.0</td>\n",
       "      <td>lot1</td>\n",
       "      <td>[[Training]]</td>\n",
       "      <td>[[none]]</td>\n",
       "      <td>(45, 48)</td>\n",
       "      <td>8</td>\n",
       "      <td>0</td>\n",
       "    </tr>\n",
       "  </tbody>\n",
       "</table>\n",
       "</div>"
      ],
      "text/plain": [
       "                                            waferMap  dieSize lotName  \\\n",
       "0  [[0, 0, 0, 0, 0, 0, 0, 0, 0, 0, 0, 0, 0, 0, 0,...   1683.0    lot1   \n",
       "1  [[0, 0, 0, 0, 0, 0, 0, 0, 0, 0, 0, 0, 0, 0, 0,...   1683.0    lot1   \n",
       "2  [[0, 0, 0, 0, 0, 0, 0, 0, 0, 0, 0, 0, 0, 0, 0,...   1683.0    lot1   \n",
       "3  [[0, 0, 0, 0, 0, 0, 0, 0, 0, 0, 0, 0, 0, 0, 0,...   1683.0    lot1   \n",
       "4  [[0, 0, 0, 0, 0, 0, 0, 0, 0, 0, 0, 0, 0, 0, 0,...   1683.0    lot1   \n",
       "\n",
       "  trianTestLabel failureType waferMapDim failureNum trainTestNum  \n",
       "0   [[Training]]    [[none]]    (45, 48)          8            0  \n",
       "1   [[Training]]    [[none]]    (45, 48)          8            0  \n",
       "2   [[Training]]    [[none]]    (45, 48)          8            0  \n",
       "3   [[Training]]    [[none]]    (45, 48)          8            0  \n",
       "4   [[Training]]    [[none]]    (45, 48)          8            0  "
      ]
     },
     "execution_count": 17,
     "metadata": {},
     "output_type": "execute_result"
    }
   ],
   "source": [
    "wm811k_train.head()"
   ]
  },
  {
   "cell_type": "markdown",
   "id": "b0dea75b",
   "metadata": {},
   "source": [
    "### Augmentation 구현\n",
    "- 기법 별로 함수 작성\n",
    "- 비율 개수만큼 sampling\n",
    "- sampling 데이터에 작성한 기법별 함수 적용\n",
    "- waferMapDim 확인 / waferMap 이미지 부분 잘리거나 한 부분 없게끔 적용되게 확인 : 미리 padding 주기?\n",
    "- data concat"
   ]
  },
  {
   "cell_type": "markdown",
   "id": "0ffcf88f",
   "metadata": {},
   "source": [
    "- 10도 회전\n",
    "    - 참고 : https://076923.github.io/posts/Python-opencv-6/"
   ]
  },
  {
   "cell_type": "code",
   "execution_count": null,
   "id": "999cb70b",
   "metadata": {
    "tags": []
   },
   "outputs": [],
   "source": [
    "def test_rotation_10_degree(data_img):\n",
    "    height, width = data_img.shape\n",
    "    # positive for anti-clockwise and negative for clockwise\n",
    "    rotation_10_degree_img = cv2.getRotationMatrix2D((width/2, height/2), 10, 1) # 중심점, 각도, 배율\n",
    "    dst = cv2.warpAffine(data_img, rotation_10_degree_img, (width,height))\n",
    "    return dst"
   ]
  },
  {
   "cell_type": "code",
   "execution_count": null,
   "id": "683d4865",
   "metadata": {
    "tags": []
   },
   "outputs": [],
   "source": [
    "def test_rotation_minus_10_degree(data_img):\n",
    "    height, width = data_img.shape\n",
    "    # positive for anti-clockwise and negative for clockwise\n",
    "    rotation_10_degree_img = cv2.getRotationMatrix2D((width/2, height/2), -10, 1) # 중심점, 각도, 배율\n",
    "    dst = cv2.warpAffine(data_img, rotation_10_degree_img, (width,height))\n",
    "    return dst"
   ]
  },
  {
   "cell_type": "code",
   "execution_count": null,
   "id": "fee7d052",
   "metadata": {
    "tags": []
   },
   "outputs": [],
   "source": [
    "# 회전 변환 다른 라이브러리 활용하는 방법 참고\n",
    "# from scipy.ndimage.interpolation import rotate\n",
    "# rotated = rotate(test_wafermap.iloc[3][\"waferMap\"], angle=10,reshape=False)\n",
    "# plt.imshow(rotated)\n",
    "# plt.show()"
   ]
  },
  {
   "cell_type": "markdown",
   "id": "44f13271",
   "metadata": {},
   "source": [
    "- 좌우 대칭 및 너비 이동(horizontal flipping and width shift)\n",
    "    - cv2.flip : https://crmn.tistory.com/54\n",
    "        - flip_img = cv2.flip(data_img, 1) # 1:좌우반전, 0:상하반전 \n",
    "    - translate : https://m.blog.naver.com/PostView.naver?isHttpsRedirect=true&blogId=vps32&logNo=221762189533\n",
    "        - width shift\n",
    "        - height shift"
   ]
  },
  {
   "cell_type": "code",
   "execution_count": null,
   "id": "8499fff1",
   "metadata": {
    "tags": []
   },
   "outputs": [],
   "source": [
    "def test_translate(data_img):\n",
    "    height, width = data_img.shape\n",
    "    # random ~ 범위 지정하여 함수 실행 시 마다 무작위로 평행이동 정도 부여하게끔 수정 필요\n",
    "    # 224x224 size 안에서 이동하도록 코딩 필요\n",
    "    translate_matrix = np.float32([[1,0,10], [0,1,5]]) # 세로 10, 가로 5 만큼 평행 이동 \n",
    "    dst = cv2.warpAffine(data_img, translate_matrix, (width,height))\n",
    "    return dst"
   ]
  },
  {
   "cell_type": "markdown",
   "id": "666b4a19",
   "metadata": {},
   "source": [
    "- 전단 범위(shearing range)\n",
    "    - https://www.thepythoncode.com/article/image-transformations-using-opencv-in-python\n",
    "    - https://stackoverflow.com/questions/57881430/how-could-i-implement-a-centered-shear-an-image-with-opencv"
   ]
  },
  {
   "cell_type": "code",
   "execution_count": null,
   "id": "d6a994b2",
   "metadata": {
    "tags": []
   },
   "outputs": [],
   "source": [
    "def test_shearing(data_img):\n",
    "    height, width = data_img.shape\n",
    "    # random ~ 범위 지정하여 함수 실행 시 마다 x축, y축 shearing 정도 부여하게끔 수정 필요\n",
    "    shearing_matrix = np.float32([[1, 0.5, 0],    # shearing applied to y-axis\n",
    "             \t                  [0, 1  , 0],    # M = np.float32([[1,   0, 0],\n",
    "            \t                  [0, 0  , 1]])   #             \t[0.5, 1, 0],\n",
    "                                                  #             \t[0,   0, 1]])  \n",
    "    # apply a perspective transformation to the image                \n",
    "    dst = cv2.warpPerspective(data_img, shearing_matrix, (int(width*1.5),int(height*1.5)))                      \n",
    "    # 변형 이미지 중심 보정?\n",
    "    return dst"
   ]
  },
  {
   "cell_type": "markdown",
   "id": "4d1037a5",
   "metadata": {},
   "source": [
    "- 채널이동 및 확대 축소(channel shift and zooming)\n",
    "    - 단일 채널 이미지라 channel shift는 적용 안 될 것 같음\n",
    "    - zoom : https://076923.github.io/posts/Python-opencv-7/\n",
    "    - cv2.resize 함수 참고\n",
    "        - 참고 : https://seokii.tistory.com/14"
   ]
  },
  {
   "cell_type": "code",
   "execution_count": null,
   "id": "d3da7c0f",
   "metadata": {
    "tags": []
   },
   "outputs": [],
   "source": [
    "def test_zoom(data_img):\n",
    "    height, width = data_img.shape\n",
    "    # 2배 확대 이미지 / 가로 세로 값이 조건에 맞으면 dstsize로 값 부여하여 세밀 조정 가능\n",
    "    # 224x224 size 안에서 2배 확대 가능하도록 코딩 필요\n",
    "    dst = cv2.pyrUp(data_img, dstsize=(width * 2, height * 2), borderType=cv2.BORDER_DEFAULT)\n",
    "    return dst"
   ]
  },
  {
   "cell_type": "markdown",
   "id": "4bd8793a",
   "metadata": {},
   "source": [
    "- test"
   ]
  },
  {
   "cell_type": "code",
   "execution_count": null,
   "id": "3d0fa0e2",
   "metadata": {
    "tags": []
   },
   "outputs": [],
   "source": [
    "test_wafermap = wm811k_train.query(\"failureNum == 6\").sample(n=5)"
   ]
  },
  {
   "cell_type": "code",
   "execution_count": null,
   "id": "e089aa44",
   "metadata": {
    "tags": []
   },
   "outputs": [],
   "source": [
    "test_wafermap.head()"
   ]
  },
  {
   "cell_type": "code",
   "execution_count": null,
   "id": "0b7ac971",
   "metadata": {
    "tags": []
   },
   "outputs": [],
   "source": [
    "test_wafermap[\"waferMap_augmentation\"] = test_wafermap[\"waferMap\"].apply(lambda x: test_rotation_10_degree(x))\n",
    "# test_wafermap[\"waferMap_augmentation\"] = test_wafermap[\"waferMap\"].apply(lambda x: test_translate(x))\n",
    "# test_wafermap[\"waferMap_augmentation\"] = test_wafermap[\"waferMap\"].apply(lambda x: test_shearing(x))\n",
    "# test_wafermap[\"waferMap_augmentation\"] = test_wafermap[\"waferMap\"].apply(lambda x: test_zoom(x))"
   ]
  },
  {
   "cell_type": "code",
   "execution_count": null,
   "id": "7df1e2ea",
   "metadata": {
    "tags": []
   },
   "outputs": [],
   "source": [
    "test_wafermap.head()"
   ]
  },
  {
   "cell_type": "code",
   "execution_count": null,
   "id": "ddada592",
   "metadata": {
    "tags": []
   },
   "outputs": [],
   "source": [
    "plt.imshow(test_wafermap.iloc[3][\"waferMap\"])\n",
    "plt.show()"
   ]
  },
  {
   "cell_type": "code",
   "execution_count": null,
   "id": "590992a9",
   "metadata": {
    "tags": []
   },
   "outputs": [],
   "source": [
    "plt.imshow(test_wafermap.iloc[3][\"waferMap_augmentation\"])\n",
    "plt.show()"
   ]
  },
  {
   "cell_type": "code",
   "execution_count": null,
   "id": "941747ab",
   "metadata": {
    "tags": []
   },
   "outputs": [],
   "source": [
    "# augmentated data dim\n",
    "test_wafermap['waferMap_augmentation_Dim']=test_wafermap['waferMap_augmentation'].apply(find_dim)\n",
    "test_wafermap.head()"
   ]
  },
  {
   "cell_type": "markdown",
   "id": "6b225dcd",
   "metadata": {},
   "source": [
    "### Input size에 맞게 zero-padding\n",
    "- 참고 : https://webnautes.tistory.com/1652"
   ]
  },
  {
   "cell_type": "code",
   "execution_count": 18,
   "id": "108b8944",
   "metadata": {
    "execution": {
     "iopub.execute_input": "2022-04-08T05:13:07.073322Z",
     "iopub.status.busy": "2022-04-08T05:13:07.073322Z",
     "iopub.status.idle": "2022-04-08T05:13:07.087498Z",
     "shell.execute_reply": "2022-04-08T05:13:07.086501Z",
     "shell.execute_reply.started": "2022-04-08T05:13:07.073322Z"
    },
    "tags": []
   },
   "outputs": [],
   "source": [
    "def zero_padding(data_img, set_size):\n",
    "    height, width = data_img.shape\n",
    "    \n",
    "    if max(height, width) > set_size:\n",
    "        return data_img\n",
    "    \n",
    "    delta_width = set_size - width\n",
    "    delta_height = set_size - height\n",
    "    top, bottom = delta_height//2, delta_height-(delta_height//2)\n",
    "    left, right = delta_width//2, delta_width-(delta_width//2)\n",
    "    \n",
    "    padded_img = cv2.copyMakeBorder(data_img, top, bottom, left, right, cv2.BORDER_CONSTANT, value=[0,0,0])\n",
    "    return padded_img"
   ]
  },
  {
   "cell_type": "markdown",
   "id": "1f5f413b",
   "metadata": {},
   "source": [
    "### pad 이후 전처리 / 전처리 이후 pad 비교"
   ]
  },
  {
   "cell_type": "code",
   "execution_count": null,
   "id": "38720e6c",
   "metadata": {
    "tags": []
   },
   "outputs": [],
   "source": [
    "# 원본\n",
    "test_origin = test_wafermap.iloc[2][\"waferMap\"]\n",
    "plt.imshow(test_origin)\n",
    "plt.show()"
   ]
  },
  {
   "cell_type": "code",
   "execution_count": null,
   "id": "eecc6dec",
   "metadata": {
    "tags": []
   },
   "outputs": [],
   "source": [
    "pad_origin = zero_padding(test_origin, 224)\n",
    "plt.imshow(pad_origin)\n",
    "plt.show()"
   ]
  },
  {
   "cell_type": "markdown",
   "id": "a172623e",
   "metadata": {},
   "source": [
    "- 회전의 경우 pad 이후 회전과 회전 이후 pad 가 비슷해보임"
   ]
  },
  {
   "cell_type": "code",
   "execution_count": null,
   "id": "99f09244",
   "metadata": {
    "tags": []
   },
   "outputs": [],
   "source": [
    "# 10도 회전\n",
    "degree_10 = test_wafermap.iloc[2][\"waferMap_augmentation\"]\n",
    "plt.imshow(degree_10)\n",
    "plt.show()\n",
    "\n",
    "pad_10_degree = zero_padding(degree_10, 224)\n",
    "plt.imshow(pad_10_degree)\n",
    "plt.show()\n",
    "\n",
    "degree_10_pad_origin = test_rotation_10_degree(pad_origin)\n",
    "plt.imshow(degree_10_pad_origin)\n",
    "plt.show()"
   ]
  },
  {
   "cell_type": "markdown",
   "id": "0fc61cb1",
   "metadata": {},
   "source": [
    "- 평행이동 : 이동 이후 wafer 모양이 잘리는 경우를 감안하면 pad 이후 이동하는 것이 나아보임"
   ]
  },
  {
   "cell_type": "code",
   "execution_count": null,
   "id": "e7e78c2d",
   "metadata": {
    "tags": []
   },
   "outputs": [],
   "source": [
    "translated =  test_translate(test_origin)\n",
    "plt.imshow(translated)\n",
    "plt.show()\n",
    "\n",
    "pad_translated = zero_padding(translated, 224)\n",
    "plt.imshow(pad_translated)\n",
    "plt.show()\n",
    "\n",
    "translate_pad_origin = test_translate(pad_origin)\n",
    "plt.imshow(translate_pad_origin)\n",
    "plt.show()"
   ]
  },
  {
   "cell_type": "code",
   "execution_count": null,
   "id": "a98737b0",
   "metadata": {
    "tags": []
   },
   "outputs": [],
   "source": [
    "translate_pad_origin.shape"
   ]
  },
  {
   "cell_type": "markdown",
   "id": "8d21cd99",
   "metadata": {},
   "source": [
    "- shearing : 잘리지 않을 범위 내에서 shearing 이후 pad 하는 것이 나을 듯\n",
    "    - shearing 정도에 따라 translate와 마찬가지로 wafer 모양이 잘릴 가능성이 있음\n",
    "    - pad 이후 shearing 시 shape이 변함"
   ]
  },
  {
   "cell_type": "code",
   "execution_count": null,
   "id": "06ff8365",
   "metadata": {
    "tags": []
   },
   "outputs": [],
   "source": [
    "sheared = test_shearing(test_origin)\n",
    "plt.imshow(sheared)\n",
    "plt.show()\n",
    "\n",
    "pad_sheared = zero_padding(sheared, 224)\n",
    "plt.imshow(pad_sheared)\n",
    "plt.show()\n",
    "\n",
    "sheared_pad_origin = test_shearing(pad_origin)\n",
    "plt.imshow(sheared_pad_origin)\n",
    "plt.show()"
   ]
  },
  {
   "cell_type": "code",
   "execution_count": null,
   "id": "4cd4019b",
   "metadata": {
    "tags": []
   },
   "outputs": [],
   "source": [
    "sheared_pad_origin.shape"
   ]
  },
  {
   "cell_type": "markdown",
   "id": "4c74376b",
   "metadata": {},
   "source": [
    "- zooming : pad 이후 zoom할 경우 448x448 사이즈 이미지가 생성되므로 zoom 이후 pad 적용"
   ]
  },
  {
   "cell_type": "code",
   "execution_count": null,
   "id": "fde6ede0",
   "metadata": {
    "tags": []
   },
   "outputs": [],
   "source": [
    "zoomed = zoom(test_origin)\n",
    "plt.imshow(zoomed)\n",
    "plt.show()\n",
    "\n",
    "pad_zoomed = zero_padding(zoomed, 224)\n",
    "plt.imshow(pad_zoomed)\n",
    "plt.show()\n",
    "\n",
    "zoom_pad_origin = test_zoom(pad_origin)\n",
    "plt.imshow(zoom_pad_origin)\n",
    "plt.show()"
   ]
  },
  {
   "cell_type": "markdown",
   "id": "17511d35",
   "metadata": {},
   "source": [
    "### augmentaion 함수별 random 요소 추가 및 padding 함수 추가\n",
    "- rotation : 회전 변환 이후 padding\n",
    "- translate : padding 이후 평행이동, dsize ~ 224로 출력\n",
    "- shearing : shearing 정도에 random 요소 추가, dsize ~ 224로 출력 "
   ]
  },
  {
   "cell_type": "code",
   "execution_count": 19,
   "id": "2445f946",
   "metadata": {
    "execution": {
     "iopub.execute_input": "2022-04-08T05:13:07.090516Z",
     "iopub.status.busy": "2022-04-08T05:13:07.090516Z",
     "iopub.status.idle": "2022-04-08T05:13:07.102639Z",
     "shell.execute_reply": "2022-04-08T05:13:07.102232Z",
     "shell.execute_reply.started": "2022-04-08T05:13:07.090516Z"
    },
    "tags": []
   },
   "outputs": [],
   "source": [
    "def rotation_10_degree(data_img):\n",
    "    height, width = data_img.shape\n",
    "    # positive for anti-clockwise and negative for clockwise\n",
    "    rotation_10_degree_img = cv2.getRotationMatrix2D((width/2, height/2), 10, 1) # 중심점, 각도, 배율\n",
    "    dst = cv2.warpAffine(data_img, rotation_10_degree_img, (width,height))\n",
    "    padded_dst = zero_padding(dst, 224)\n",
    "    return padded_dst"
   ]
  },
  {
   "cell_type": "code",
   "execution_count": 20,
   "id": "43154969",
   "metadata": {
    "execution": {
     "iopub.execute_input": "2022-04-08T05:13:11.922063Z",
     "iopub.status.busy": "2022-04-08T05:13:11.922063Z",
     "iopub.status.idle": "2022-04-08T05:13:11.941084Z",
     "shell.execute_reply": "2022-04-08T05:13:11.940722Z",
     "shell.execute_reply.started": "2022-04-08T05:13:11.922063Z"
    },
    "tags": []
   },
   "outputs": [],
   "source": [
    "def rotation_minus_10_degree(data_img):\n",
    "    height, width = data_img.shape\n",
    "    # positive for anti-clockwise and negative for clockwise\n",
    "    rotation_10_degree_img = cv2.getRotationMatrix2D((width/2, height/2), -10, 1) # 중심점, 각도, 배율\n",
    "    dst = cv2.warpAffine(data_img, rotation_10_degree_img, (width,height))\n",
    "    padded_dst = zero_padding(dst, 224)\n",
    "    return dst"
   ]
  },
  {
   "cell_type": "code",
   "execution_count": 21,
   "id": "0a2b5bc9",
   "metadata": {
    "execution": {
     "iopub.execute_input": "2022-04-08T05:13:23.572742Z",
     "iopub.status.busy": "2022-04-08T05:13:23.571743Z",
     "iopub.status.idle": "2022-04-08T05:13:23.579900Z",
     "shell.execute_reply": "2022-04-08T05:13:23.579405Z",
     "shell.execute_reply.started": "2022-04-08T05:13:23.572742Z"
    },
    "tags": []
   },
   "outputs": [],
   "source": [
    "def translate(data_img):\n",
    "    padded_img = zero_padding(data_img, 224)\n",
    "    x_translate = random.randrange(-20, 21)\n",
    "    y_translate = random.randrange(-20, 21)\n",
    "    translate_matrix = np.float32([[1, 0, y_translate],  # 세로 평행이동\n",
    "                                   [0, 1, x_translate]]) # 가로 평행이동 \n",
    "    dst = cv2.warpAffine(padded_img, translate_matrix, (224,224))  # (src, matrix, dsize)\n",
    "    return dst"
   ]
  },
  {
   "cell_type": "code",
   "execution_count": 31,
   "id": "0f1f3d28",
   "metadata": {
    "execution": {
     "iopub.execute_input": "2022-04-08T05:38:36.153310Z",
     "iopub.status.busy": "2022-04-08T05:38:36.153310Z",
     "iopub.status.idle": "2022-04-08T05:38:36.161782Z",
     "shell.execute_reply": "2022-04-08T05:38:36.161307Z",
     "shell.execute_reply.started": "2022-04-08T05:38:36.153310Z"
    },
    "tags": []
   },
   "outputs": [],
   "source": [
    "def filping(data_img):\n",
    "    padded_img = zero_padding(data_img, 224)\n",
    "    dst = cv2.flip(padded_img, random.choice([0, 1])) # 0:상하 반전, 1:좌우 반전 \n",
    "    return dst"
   ]
  },
  {
   "cell_type": "code",
   "execution_count": 22,
   "id": "a093d698",
   "metadata": {
    "execution": {
     "iopub.execute_input": "2022-04-08T05:14:05.717529Z",
     "iopub.status.busy": "2022-04-08T05:14:05.717529Z",
     "iopub.status.idle": "2022-04-08T05:14:05.729539Z",
     "shell.execute_reply": "2022-04-08T05:14:05.729133Z",
     "shell.execute_reply.started": "2022-04-08T05:14:05.717529Z"
    },
    "tags": []
   },
   "outputs": [],
   "source": [
    "def shearing(data_img):    \n",
    "    x_shearing = random.random()\n",
    "    y_shearing = random.random()\n",
    "    shearing_matrix = np.float32([[1,          x_shearing, 0],\n",
    "             \t                  [y_shearing, 1,          0],\n",
    "            \t                  [0,          0  ,        1]])           \n",
    "    dst = cv2.warpPerspective(data_img, shearing_matrix, (224, 224)) # warpPerspective(src, matrix, dsize~(width, height))\n",
    "    return dst"
   ]
  },
  {
   "cell_type": "code",
   "execution_count": 59,
   "id": "2299e3ed",
   "metadata": {
    "execution": {
     "iopub.execute_input": "2022-04-08T05:59:27.983625Z",
     "iopub.status.busy": "2022-04-08T05:59:27.983625Z",
     "iopub.status.idle": "2022-04-08T05:59:27.989284Z",
     "shell.execute_reply": "2022-04-08T05:59:27.988640Z",
     "shell.execute_reply.started": "2022-04-08T05:59:27.983625Z"
    },
    "tags": []
   },
   "outputs": [],
   "source": [
    "def resizing(data_img):\n",
    "    scale_list = [0.2, 0.5, 0.7, 1.2, 1.3, 1.5]\n",
    "    dst = cv2.resize(data_img, dsize=(0,0), fx=random.choice(scale_list), fy=random.choice(scale_list), interpolation=cv2.INTER_LINEAR)    \n",
    "    padded_img = zero_padding(dst, 224)\n",
    "    return padded_img"
   ]
  },
  {
   "cell_type": "markdown",
   "id": "dfa7ff6b",
   "metadata": {},
   "source": [
    "### Data-Augmentaion - 클래스별로 10,000개 / 논문 Augmentation 기법 적용\n",
    "- 10도 회전 : 20%\n",
    "- 좌우 대칭 및 너비 이동(horizontal flipping and width shift) : 20%\n",
    "- 높이 이동(height shfit) : 15%\n",
    "- 전단 범위(shearing range) : 10%\n",
    "- 채널이동 및 확대 축소(channel shift and zooming) : 10%\n",
    "- 75%밖에 안 되는 듯 : 증량 비율 수정"
   ]
  },
  {
   "cell_type": "markdown",
   "id": "3586638d",
   "metadata": {},
   "source": [
    "### wm811k_new_train_class_XXX 만들어서 concat하기\n",
    "- CNN-WDI input shape 244x244에 맞게 zero-padding 줘야함"
   ]
  },
  {
   "cell_type": "code",
   "execution_count": 24,
   "id": "eea3015c",
   "metadata": {
    "execution": {
     "iopub.execute_input": "2022-04-08T05:26:14.292959Z",
     "iopub.status.busy": "2022-04-08T05:26:14.292959Z",
     "iopub.status.idle": "2022-04-08T05:26:14.340601Z",
     "shell.execute_reply": "2022-04-08T05:26:14.340101Z",
     "shell.execute_reply.started": "2022-04-08T05:26:14.292959Z"
    },
    "tags": []
   },
   "outputs": [
    {
     "name": "stdout",
     "output_type": "stream",
     "text": [
      "<class 'pandas.core.frame.DataFrame'>\n",
      "Int64Index: 10000 entries, 749336 to 244652\n",
      "Data columns (total 8 columns):\n",
      " #   Column          Non-Null Count  Dtype  \n",
      "---  ------          --------------  -----  \n",
      " 0   waferMap        10000 non-null  object \n",
      " 1   dieSize         10000 non-null  float64\n",
      " 2   lotName         10000 non-null  object \n",
      " 3   trianTestLabel  10000 non-null  object \n",
      " 4   failureType     10000 non-null  object \n",
      " 5   waferMapDim     10000 non-null  object \n",
      " 6   failureNum      10000 non-null  object \n",
      " 7   trainTestNum    10000 non-null  object \n",
      "dtypes: float64(1), object(7)\n",
      "memory usage: 703.1+ KB\n"
     ]
    }
   ],
   "source": [
    "# None(8): 36,730 중 10,000 개 Sampling\n",
    "# 참고 : https://rfriend.tistory.com/602\n",
    "wm811k_new_train_class_None = wm811k_train.query(\"failureNum == 8\").sample(n=10000, random_state=2022)\n",
    "wm811k_new_train_class_None.info()"
   ]
  },
  {
   "cell_type": "code",
   "execution_count": 25,
   "id": "9f008c60",
   "metadata": {
    "execution": {
     "iopub.execute_input": "2022-04-08T05:26:23.958773Z",
     "iopub.status.busy": "2022-04-08T05:26:23.958773Z",
     "iopub.status.idle": "2022-04-08T05:26:23.983957Z",
     "shell.execute_reply": "2022-04-08T05:26:23.983457Z",
     "shell.execute_reply.started": "2022-04-08T05:26:23.958773Z"
    },
    "tags": []
   },
   "outputs": [
    {
     "name": "stdout",
     "output_type": "stream",
     "text": [
      "<class 'pandas.core.frame.DataFrame'>\n",
      "Int64Index: 8554 entries, 100 to 786313\n",
      "Data columns (total 8 columns):\n",
      " #   Column          Non-Null Count  Dtype  \n",
      "---  ------          --------------  -----  \n",
      " 0   waferMap        8554 non-null   object \n",
      " 1   dieSize         8554 non-null   float64\n",
      " 2   lotName         8554 non-null   object \n",
      " 3   trianTestLabel  8554 non-null   object \n",
      " 4   failureType     8554 non-null   object \n",
      " 5   waferMapDim     8554 non-null   object \n",
      " 6   failureNum      8554 non-null   object \n",
      " 7   trainTestNum    8554 non-null   object \n",
      "dtypes: float64(1), object(7)\n",
      "memory usage: 601.5+ KB\n"
     ]
    }
   ],
   "source": [
    "# Edge-Ring(3) 현 보유 8,554개 / 1,446개 augmentation 필요\n",
    "wm811k_new_train_class_Edge_Ring = wm811k_train.query(\"failureNum == 3\")\n",
    "wm811k_new_train_class_Edge_Ring[\"waferMap_augmentation\"] = wm811k_new_train_class_Edge_Ring['waferMap']\n",
    "wm811k_new_train_class_Edge_Ring_10['waferMap_augmentation_Dim']=wm811k_new_train_class_Edge_Ring_10['waferMap_augmentation'].apply(find_dim)\n",
    "wm811k_new_train_class_Edge_Ring.info()"
   ]
  },
  {
   "cell_type": "code",
   "execution_count": 27,
   "id": "0b9fd436",
   "metadata": {
    "execution": {
     "iopub.execute_input": "2022-04-08T05:33:41.963568Z",
     "iopub.status.busy": "2022-04-08T05:33:41.963568Z",
     "iopub.status.idle": "2022-04-08T05:33:42.687467Z",
     "shell.execute_reply": "2022-04-08T05:33:42.686967Z",
     "shell.execute_reply.started": "2022-04-08T05:33:41.963568Z"
    },
    "tags": []
   },
   "outputs": [
    {
     "data": {
      "text/html": [
       "<div>\n",
       "<style scoped>\n",
       "    .dataframe tbody tr th:only-of-type {\n",
       "        vertical-align: middle;\n",
       "    }\n",
       "\n",
       "    .dataframe tbody tr th {\n",
       "        vertical-align: top;\n",
       "    }\n",
       "\n",
       "    .dataframe thead th {\n",
       "        text-align: right;\n",
       "    }\n",
       "</style>\n",
       "<table border=\"1\" class=\"dataframe\">\n",
       "  <thead>\n",
       "    <tr style=\"text-align: right;\">\n",
       "      <th></th>\n",
       "      <th>waferMap</th>\n",
       "      <th>dieSize</th>\n",
       "      <th>lotName</th>\n",
       "      <th>trianTestLabel</th>\n",
       "      <th>failureType</th>\n",
       "      <th>waferMapDim</th>\n",
       "      <th>failureNum</th>\n",
       "      <th>trainTestNum</th>\n",
       "      <th>waferMap_augmentation</th>\n",
       "      <th>waferMap_augmentation_Dim</th>\n",
       "    </tr>\n",
       "  </thead>\n",
       "  <tbody>\n",
       "    <tr>\n",
       "      <th>359915</th>\n",
       "      <td>[[0, 0, 0, 0, 0, 0, 0, 0, 0, 0, 0, 0, 0, 0, 0,...</td>\n",
       "      <td>2126.0</td>\n",
       "      <td>lot21560</td>\n",
       "      <td>[[Training]]</td>\n",
       "      <td>[[Edge-Ring]]</td>\n",
       "      <td>(53, 52)</td>\n",
       "      <td>3</td>\n",
       "      <td>0</td>\n",
       "      <td>[[0, 0, 0, 0, 0, 0, 0, 0, 0, 0, 0, 0, 0, 0, 0,...</td>\n",
       "      <td>(224, 224)</td>\n",
       "    </tr>\n",
       "    <tr>\n",
       "      <th>216064</th>\n",
       "      <td>[[0, 0, 0, 0, 0, 0, 0, 0, 0, 0, 0, 0, 0, 0, 0,...</td>\n",
       "      <td>1291.0</td>\n",
       "      <td>lot13709</td>\n",
       "      <td>[[Training]]</td>\n",
       "      <td>[[Edge-Ring]]</td>\n",
       "      <td>(41, 41)</td>\n",
       "      <td>3</td>\n",
       "      <td>0</td>\n",
       "      <td>[[0, 0, 0, 0, 0, 0, 0, 0, 0, 0, 0, 0, 0, 0, 0,...</td>\n",
       "      <td>(224, 224)</td>\n",
       "    </tr>\n",
       "    <tr>\n",
       "      <th>186650</th>\n",
       "      <td>[[0, 0, 0, 0, 0, 0, 0, 0, 0, 0, 0, 0, 0, 0, 0,...</td>\n",
       "      <td>3036.0</td>\n",
       "      <td>lot11856</td>\n",
       "      <td>[[Training]]</td>\n",
       "      <td>[[Edge-Ring]]</td>\n",
       "      <td>(63, 62)</td>\n",
       "      <td>3</td>\n",
       "      <td>0</td>\n",
       "      <td>[[0, 0, 0, 0, 0, 0, 0, 0, 0, 0, 0, 0, 0, 0, 0,...</td>\n",
       "      <td>(224, 224)</td>\n",
       "    </tr>\n",
       "    <tr>\n",
       "      <th>228243</th>\n",
       "      <td>[[0, 0, 0, 0, 0, 0, 0, 0, 0, 0, 0, 0, 0, 0, 0,...</td>\n",
       "      <td>2085.0</td>\n",
       "      <td>lot14325</td>\n",
       "      <td>[[Training]]</td>\n",
       "      <td>[[Edge-Ring]]</td>\n",
       "      <td>(55, 48)</td>\n",
       "      <td>3</td>\n",
       "      <td>0</td>\n",
       "      <td>[[0, 0, 0, 0, 0, 0, 0, 0, 0, 0, 0, 0, 0, 0, 0,...</td>\n",
       "      <td>(224, 224)</td>\n",
       "    </tr>\n",
       "    <tr>\n",
       "      <th>228321</th>\n",
       "      <td>[[0, 0, 0, 0, 0, 0, 0, 0, 0, 0, 0, 0, 0, 0, 0,...</td>\n",
       "      <td>2072.0</td>\n",
       "      <td>lot14328</td>\n",
       "      <td>[[Training]]</td>\n",
       "      <td>[[Edge-Ring]]</td>\n",
       "      <td>(56, 48)</td>\n",
       "      <td>3</td>\n",
       "      <td>0</td>\n",
       "      <td>[[0, 0, 0, 0, 0, 0, 0, 0, 0, 0, 0, 0, 0, 0, 0,...</td>\n",
       "      <td>(224, 224)</td>\n",
       "    </tr>\n",
       "  </tbody>\n",
       "</table>\n",
       "</div>"
      ],
      "text/plain": [
       "                                                 waferMap  dieSize   lotName  \\\n",
       "359915  [[0, 0, 0, 0, 0, 0, 0, 0, 0, 0, 0, 0, 0, 0, 0,...   2126.0  lot21560   \n",
       "216064  [[0, 0, 0, 0, 0, 0, 0, 0, 0, 0, 0, 0, 0, 0, 0,...   1291.0  lot13709   \n",
       "186650  [[0, 0, 0, 0, 0, 0, 0, 0, 0, 0, 0, 0, 0, 0, 0,...   3036.0  lot11856   \n",
       "228243  [[0, 0, 0, 0, 0, 0, 0, 0, 0, 0, 0, 0, 0, 0, 0,...   2085.0  lot14325   \n",
       "228321  [[0, 0, 0, 0, 0, 0, 0, 0, 0, 0, 0, 0, 0, 0, 0,...   2072.0  lot14328   \n",
       "\n",
       "       trianTestLabel    failureType waferMapDim failureNum trainTestNum  \\\n",
       "359915   [[Training]]  [[Edge-Ring]]    (53, 52)          3            0   \n",
       "216064   [[Training]]  [[Edge-Ring]]    (41, 41)          3            0   \n",
       "186650   [[Training]]  [[Edge-Ring]]    (63, 62)          3            0   \n",
       "228243   [[Training]]  [[Edge-Ring]]    (55, 48)          3            0   \n",
       "228321   [[Training]]  [[Edge-Ring]]    (56, 48)          3            0   \n",
       "\n",
       "                                    waferMap_augmentation  \\\n",
       "359915  [[0, 0, 0, 0, 0, 0, 0, 0, 0, 0, 0, 0, 0, 0, 0,...   \n",
       "216064  [[0, 0, 0, 0, 0, 0, 0, 0, 0, 0, 0, 0, 0, 0, 0,...   \n",
       "186650  [[0, 0, 0, 0, 0, 0, 0, 0, 0, 0, 0, 0, 0, 0, 0,...   \n",
       "228243  [[0, 0, 0, 0, 0, 0, 0, 0, 0, 0, 0, 0, 0, 0, 0,...   \n",
       "228321  [[0, 0, 0, 0, 0, 0, 0, 0, 0, 0, 0, 0, 0, 0, 0,...   \n",
       "\n",
       "       waferMap_augmentation_Dim  \n",
       "359915                (224, 224)  \n",
       "216064                (224, 224)  \n",
       "186650                (224, 224)  \n",
       "228243                (224, 224)  \n",
       "228321                (224, 224)  "
      ]
     },
     "execution_count": 27,
     "metadata": {},
     "output_type": "execute_result"
    }
   ],
   "source": [
    "# +10도 회전 : 10% - 144개\n",
    "wm811k_new_train_class_Edge_Ring_10 = wm811k_new_train_class_Edge_Ring.sample(n=144, random_state=2022)\n",
    "wm811k_new_train_class_Edge_Ring_10[\"waferMap_augmentation\"] = wm811k_new_train_class_Edge_Ring_10[\"waferMap\"].apply(lambda x: rotation_10_degree(x))\n",
    "wm811k_new_train_class_Edge_Ring_10['waferMap_augmentation_Dim']=wm811k_new_train_class_Edge_Ring_10['waferMap_augmentation'].apply(find_dim)\n",
    "wm811k_new_train_class_Edge_Ring_10.head()"
   ]
  },
  {
   "cell_type": "code",
   "execution_count": 28,
   "id": "9f0a6e6f",
   "metadata": {
    "execution": {
     "iopub.execute_input": "2022-04-08T05:34:20.013430Z",
     "iopub.status.busy": "2022-04-08T05:34:20.012428Z",
     "iopub.status.idle": "2022-04-08T05:34:20.370322Z",
     "shell.execute_reply": "2022-04-08T05:34:20.369820Z",
     "shell.execute_reply.started": "2022-04-08T05:34:20.013430Z"
    },
    "tags": []
   },
   "outputs": [
    {
     "data": {
      "text/html": [
       "<div>\n",
       "<style scoped>\n",
       "    .dataframe tbody tr th:only-of-type {\n",
       "        vertical-align: middle;\n",
       "    }\n",
       "\n",
       "    .dataframe tbody tr th {\n",
       "        vertical-align: top;\n",
       "    }\n",
       "\n",
       "    .dataframe thead th {\n",
       "        text-align: right;\n",
       "    }\n",
       "</style>\n",
       "<table border=\"1\" class=\"dataframe\">\n",
       "  <thead>\n",
       "    <tr style=\"text-align: right;\">\n",
       "      <th></th>\n",
       "      <th>waferMap</th>\n",
       "      <th>dieSize</th>\n",
       "      <th>lotName</th>\n",
       "      <th>trianTestLabel</th>\n",
       "      <th>failureType</th>\n",
       "      <th>waferMapDim</th>\n",
       "      <th>failureNum</th>\n",
       "      <th>trainTestNum</th>\n",
       "      <th>waferMap_augmentation</th>\n",
       "      <th>waferMap_augmentation_Dim</th>\n",
       "    </tr>\n",
       "  </thead>\n",
       "  <tbody>\n",
       "    <tr>\n",
       "      <th>359915</th>\n",
       "      <td>[[0, 0, 0, 0, 0, 0, 0, 0, 0, 0, 0, 0, 0, 0, 0,...</td>\n",
       "      <td>2126.0</td>\n",
       "      <td>lot21560</td>\n",
       "      <td>[[Training]]</td>\n",
       "      <td>[[Edge-Ring]]</td>\n",
       "      <td>(53, 52)</td>\n",
       "      <td>3</td>\n",
       "      <td>0</td>\n",
       "      <td>[[0, 0, 0, 0, 0, 0, 0, 0, 0, 0, 0, 0, 0, 0, 0,...</td>\n",
       "      <td>(53, 52)</td>\n",
       "    </tr>\n",
       "    <tr>\n",
       "      <th>216064</th>\n",
       "      <td>[[0, 0, 0, 0, 0, 0, 0, 0, 0, 0, 0, 0, 0, 0, 0,...</td>\n",
       "      <td>1291.0</td>\n",
       "      <td>lot13709</td>\n",
       "      <td>[[Training]]</td>\n",
       "      <td>[[Edge-Ring]]</td>\n",
       "      <td>(41, 41)</td>\n",
       "      <td>3</td>\n",
       "      <td>0</td>\n",
       "      <td>[[0, 0, 0, 0, 0, 0, 0, 0, 0, 0, 0, 0, 0, 0, 0,...</td>\n",
       "      <td>(41, 41)</td>\n",
       "    </tr>\n",
       "    <tr>\n",
       "      <th>186650</th>\n",
       "      <td>[[0, 0, 0, 0, 0, 0, 0, 0, 0, 0, 0, 0, 0, 0, 0,...</td>\n",
       "      <td>3036.0</td>\n",
       "      <td>lot11856</td>\n",
       "      <td>[[Training]]</td>\n",
       "      <td>[[Edge-Ring]]</td>\n",
       "      <td>(63, 62)</td>\n",
       "      <td>3</td>\n",
       "      <td>0</td>\n",
       "      <td>[[0, 0, 0, 0, 0, 0, 0, 0, 0, 0, 0, 0, 0, 0, 0,...</td>\n",
       "      <td>(63, 62)</td>\n",
       "    </tr>\n",
       "    <tr>\n",
       "      <th>228243</th>\n",
       "      <td>[[0, 0, 0, 0, 0, 0, 0, 0, 0, 0, 0, 0, 0, 0, 0,...</td>\n",
       "      <td>2085.0</td>\n",
       "      <td>lot14325</td>\n",
       "      <td>[[Training]]</td>\n",
       "      <td>[[Edge-Ring]]</td>\n",
       "      <td>(55, 48)</td>\n",
       "      <td>3</td>\n",
       "      <td>0</td>\n",
       "      <td>[[0, 0, 0, 0, 0, 0, 0, 0, 0, 0, 0, 0, 0, 0, 0,...</td>\n",
       "      <td>(55, 48)</td>\n",
       "    </tr>\n",
       "    <tr>\n",
       "      <th>228321</th>\n",
       "      <td>[[0, 0, 0, 0, 0, 0, 0, 0, 0, 0, 0, 0, 0, 0, 0,...</td>\n",
       "      <td>2072.0</td>\n",
       "      <td>lot14328</td>\n",
       "      <td>[[Training]]</td>\n",
       "      <td>[[Edge-Ring]]</td>\n",
       "      <td>(56, 48)</td>\n",
       "      <td>3</td>\n",
       "      <td>0</td>\n",
       "      <td>[[0, 0, 0, 0, 0, 0, 0, 0, 0, 0, 0, 0, 0, 0, 0,...</td>\n",
       "      <td>(56, 48)</td>\n",
       "    </tr>\n",
       "  </tbody>\n",
       "</table>\n",
       "</div>"
      ],
      "text/plain": [
       "                                                 waferMap  dieSize   lotName  \\\n",
       "359915  [[0, 0, 0, 0, 0, 0, 0, 0, 0, 0, 0, 0, 0, 0, 0,...   2126.0  lot21560   \n",
       "216064  [[0, 0, 0, 0, 0, 0, 0, 0, 0, 0, 0, 0, 0, 0, 0,...   1291.0  lot13709   \n",
       "186650  [[0, 0, 0, 0, 0, 0, 0, 0, 0, 0, 0, 0, 0, 0, 0,...   3036.0  lot11856   \n",
       "228243  [[0, 0, 0, 0, 0, 0, 0, 0, 0, 0, 0, 0, 0, 0, 0,...   2085.0  lot14325   \n",
       "228321  [[0, 0, 0, 0, 0, 0, 0, 0, 0, 0, 0, 0, 0, 0, 0,...   2072.0  lot14328   \n",
       "\n",
       "       trianTestLabel    failureType waferMapDim failureNum trainTestNum  \\\n",
       "359915   [[Training]]  [[Edge-Ring]]    (53, 52)          3            0   \n",
       "216064   [[Training]]  [[Edge-Ring]]    (41, 41)          3            0   \n",
       "186650   [[Training]]  [[Edge-Ring]]    (63, 62)          3            0   \n",
       "228243   [[Training]]  [[Edge-Ring]]    (55, 48)          3            0   \n",
       "228321   [[Training]]  [[Edge-Ring]]    (56, 48)          3            0   \n",
       "\n",
       "                                    waferMap_augmentation  \\\n",
       "359915  [[0, 0, 0, 0, 0, 0, 0, 0, 0, 0, 0, 0, 0, 0, 0,...   \n",
       "216064  [[0, 0, 0, 0, 0, 0, 0, 0, 0, 0, 0, 0, 0, 0, 0,...   \n",
       "186650  [[0, 0, 0, 0, 0, 0, 0, 0, 0, 0, 0, 0, 0, 0, 0,...   \n",
       "228243  [[0, 0, 0, 0, 0, 0, 0, 0, 0, 0, 0, 0, 0, 0, 0,...   \n",
       "228321  [[0, 0, 0, 0, 0, 0, 0, 0, 0, 0, 0, 0, 0, 0, 0,...   \n",
       "\n",
       "       waferMap_augmentation_Dim  \n",
       "359915                  (53, 52)  \n",
       "216064                  (41, 41)  \n",
       "186650                  (63, 62)  \n",
       "228243                  (55, 48)  \n",
       "228321                  (56, 48)  "
      ]
     },
     "execution_count": 28,
     "metadata": {},
     "output_type": "execute_result"
    }
   ],
   "source": [
    "# -10도 회전 : 10% - 144개\n",
    "wm811k_new_train_class_Edge_Ring_minus_10 = wm811k_new_train_class_Edge_Ring.sample(n=144, random_state=2022)\n",
    "wm811k_new_train_class_Edge_Ring_minus_10[\"waferMap_augmentation\"] = wm811k_new_train_class_Edge_Ring_minus_10[\"waferMap\"].apply(lambda x: rotation_minus_10_degree(x))\n",
    "wm811k_new_train_class_Edge_Ring_minus_10['waferMap_augmentation_Dim']=wm811k_new_train_class_Edge_Ring_minus_10['waferMap_augmentation'].apply(find_dim)\n",
    "wm811k_new_train_class_Edge_Ring_minus_10.head()"
   ]
  },
  {
   "cell_type": "code",
   "execution_count": 32,
   "id": "fbd18152",
   "metadata": {
    "execution": {
     "iopub.execute_input": "2022-04-08T05:38:54.028061Z",
     "iopub.status.busy": "2022-04-08T05:38:54.028061Z",
     "iopub.status.idle": "2022-04-08T05:38:54.736249Z",
     "shell.execute_reply": "2022-04-08T05:38:54.735762Z",
     "shell.execute_reply.started": "2022-04-08T05:38:54.028061Z"
    },
    "tags": []
   },
   "outputs": [
    {
     "data": {
      "text/html": [
       "<div>\n",
       "<style scoped>\n",
       "    .dataframe tbody tr th:only-of-type {\n",
       "        vertical-align: middle;\n",
       "    }\n",
       "\n",
       "    .dataframe tbody tr th {\n",
       "        vertical-align: top;\n",
       "    }\n",
       "\n",
       "    .dataframe thead th {\n",
       "        text-align: right;\n",
       "    }\n",
       "</style>\n",
       "<table border=\"1\" class=\"dataframe\">\n",
       "  <thead>\n",
       "    <tr style=\"text-align: right;\">\n",
       "      <th></th>\n",
       "      <th>waferMap</th>\n",
       "      <th>dieSize</th>\n",
       "      <th>lotName</th>\n",
       "      <th>trianTestLabel</th>\n",
       "      <th>failureType</th>\n",
       "      <th>waferMapDim</th>\n",
       "      <th>failureNum</th>\n",
       "      <th>trainTestNum</th>\n",
       "      <th>waferMap_augmentation</th>\n",
       "      <th>waferMap_augmentation_Dim</th>\n",
       "    </tr>\n",
       "  </thead>\n",
       "  <tbody>\n",
       "    <tr>\n",
       "      <th>359915</th>\n",
       "      <td>[[0, 0, 0, 0, 0, 0, 0, 0, 0, 0, 0, 0, 0, 0, 0,...</td>\n",
       "      <td>2126.0</td>\n",
       "      <td>lot21560</td>\n",
       "      <td>[[Training]]</td>\n",
       "      <td>[[Edge-Ring]]</td>\n",
       "      <td>(53, 52)</td>\n",
       "      <td>3</td>\n",
       "      <td>0</td>\n",
       "      <td>[[0, 0, 0, 0, 0, 0, 0, 0, 0, 0, 0, 0, 0, 0, 0,...</td>\n",
       "      <td>(224, 224)</td>\n",
       "    </tr>\n",
       "    <tr>\n",
       "      <th>216064</th>\n",
       "      <td>[[0, 0, 0, 0, 0, 0, 0, 0, 0, 0, 0, 0, 0, 0, 0,...</td>\n",
       "      <td>1291.0</td>\n",
       "      <td>lot13709</td>\n",
       "      <td>[[Training]]</td>\n",
       "      <td>[[Edge-Ring]]</td>\n",
       "      <td>(41, 41)</td>\n",
       "      <td>3</td>\n",
       "      <td>0</td>\n",
       "      <td>[[0, 0, 0, 0, 0, 0, 0, 0, 0, 0, 0, 0, 0, 0, 0,...</td>\n",
       "      <td>(224, 224)</td>\n",
       "    </tr>\n",
       "    <tr>\n",
       "      <th>186650</th>\n",
       "      <td>[[0, 0, 0, 0, 0, 0, 0, 0, 0, 0, 0, 0, 0, 0, 0,...</td>\n",
       "      <td>3036.0</td>\n",
       "      <td>lot11856</td>\n",
       "      <td>[[Training]]</td>\n",
       "      <td>[[Edge-Ring]]</td>\n",
       "      <td>(63, 62)</td>\n",
       "      <td>3</td>\n",
       "      <td>0</td>\n",
       "      <td>[[0, 0, 0, 0, 0, 0, 0, 0, 0, 0, 0, 0, 0, 0, 0,...</td>\n",
       "      <td>(224, 224)</td>\n",
       "    </tr>\n",
       "    <tr>\n",
       "      <th>228243</th>\n",
       "      <td>[[0, 0, 0, 0, 0, 0, 0, 0, 0, 0, 0, 0, 0, 0, 0,...</td>\n",
       "      <td>2085.0</td>\n",
       "      <td>lot14325</td>\n",
       "      <td>[[Training]]</td>\n",
       "      <td>[[Edge-Ring]]</td>\n",
       "      <td>(55, 48)</td>\n",
       "      <td>3</td>\n",
       "      <td>0</td>\n",
       "      <td>[[0, 0, 0, 0, 0, 0, 0, 0, 0, 0, 0, 0, 0, 0, 0,...</td>\n",
       "      <td>(224, 224)</td>\n",
       "    </tr>\n",
       "    <tr>\n",
       "      <th>228321</th>\n",
       "      <td>[[0, 0, 0, 0, 0, 0, 0, 0, 0, 0, 0, 0, 0, 0, 0,...</td>\n",
       "      <td>2072.0</td>\n",
       "      <td>lot14328</td>\n",
       "      <td>[[Training]]</td>\n",
       "      <td>[[Edge-Ring]]</td>\n",
       "      <td>(56, 48)</td>\n",
       "      <td>3</td>\n",
       "      <td>0</td>\n",
       "      <td>[[0, 0, 0, 0, 0, 0, 0, 0, 0, 0, 0, 0, 0, 0, 0,...</td>\n",
       "      <td>(224, 224)</td>\n",
       "    </tr>\n",
       "  </tbody>\n",
       "</table>\n",
       "</div>"
      ],
      "text/plain": [
       "                                                 waferMap  dieSize   lotName  \\\n",
       "359915  [[0, 0, 0, 0, 0, 0, 0, 0, 0, 0, 0, 0, 0, 0, 0,...   2126.0  lot21560   \n",
       "216064  [[0, 0, 0, 0, 0, 0, 0, 0, 0, 0, 0, 0, 0, 0, 0,...   1291.0  lot13709   \n",
       "186650  [[0, 0, 0, 0, 0, 0, 0, 0, 0, 0, 0, 0, 0, 0, 0,...   3036.0  lot11856   \n",
       "228243  [[0, 0, 0, 0, 0, 0, 0, 0, 0, 0, 0, 0, 0, 0, 0,...   2085.0  lot14325   \n",
       "228321  [[0, 0, 0, 0, 0, 0, 0, 0, 0, 0, 0, 0, 0, 0, 0,...   2072.0  lot14328   \n",
       "\n",
       "       trianTestLabel    failureType waferMapDim failureNum trainTestNum  \\\n",
       "359915   [[Training]]  [[Edge-Ring]]    (53, 52)          3            0   \n",
       "216064   [[Training]]  [[Edge-Ring]]    (41, 41)          3            0   \n",
       "186650   [[Training]]  [[Edge-Ring]]    (63, 62)          3            0   \n",
       "228243   [[Training]]  [[Edge-Ring]]    (55, 48)          3            0   \n",
       "228321   [[Training]]  [[Edge-Ring]]    (56, 48)          3            0   \n",
       "\n",
       "                                    waferMap_augmentation  \\\n",
       "359915  [[0, 0, 0, 0, 0, 0, 0, 0, 0, 0, 0, 0, 0, 0, 0,...   \n",
       "216064  [[0, 0, 0, 0, 0, 0, 0, 0, 0, 0, 0, 0, 0, 0, 0,...   \n",
       "186650  [[0, 0, 0, 0, 0, 0, 0, 0, 0, 0, 0, 0, 0, 0, 0,...   \n",
       "228243  [[0, 0, 0, 0, 0, 0, 0, 0, 0, 0, 0, 0, 0, 0, 0,...   \n",
       "228321  [[0, 0, 0, 0, 0, 0, 0, 0, 0, 0, 0, 0, 0, 0, 0,...   \n",
       "\n",
       "       waferMap_augmentation_Dim  \n",
       "359915                (224, 224)  \n",
       "216064                (224, 224)  \n",
       "186650                (224, 224)  \n",
       "228243                (224, 224)  \n",
       "228321                (224, 224)  "
      ]
     },
     "execution_count": 32,
     "metadata": {},
     "output_type": "execute_result"
    }
   ],
   "source": [
    "# 좌우 대칭 : 20%  - 288개\n",
    "wm811k_new_train_class_Edge_Ring_flip = wm811k_new_train_class_Edge_Ring.sample(n=288, random_state=2022)\n",
    "wm811k_new_train_class_Edge_Ring_flip[\"waferMap_augmentation\"] = wm811k_new_train_class_Edge_Ring_flip[\"waferMap\"].apply(lambda x: filping(x))\n",
    "wm811k_new_train_class_Edge_Ring_flip['waferMap_augmentation_Dim']=wm811k_new_train_class_Edge_Ring_flip['waferMap_augmentation'].apply(find_dim)\n",
    "wm811k_new_train_class_Edge_Ring_flip.head()"
   ]
  },
  {
   "cell_type": "code",
   "execution_count": 33,
   "id": "c24551d5",
   "metadata": {
    "execution": {
     "iopub.execute_input": "2022-04-08T05:39:43.977444Z",
     "iopub.status.busy": "2022-04-08T05:39:43.977444Z",
     "iopub.status.idle": "2022-04-08T05:39:44.731868Z",
     "shell.execute_reply": "2022-04-08T05:39:44.730866Z",
     "shell.execute_reply.started": "2022-04-08T05:39:43.977444Z"
    },
    "tags": []
   },
   "outputs": [
    {
     "data": {
      "text/html": [
       "<div>\n",
       "<style scoped>\n",
       "    .dataframe tbody tr th:only-of-type {\n",
       "        vertical-align: middle;\n",
       "    }\n",
       "\n",
       "    .dataframe tbody tr th {\n",
       "        vertical-align: top;\n",
       "    }\n",
       "\n",
       "    .dataframe thead th {\n",
       "        text-align: right;\n",
       "    }\n",
       "</style>\n",
       "<table border=\"1\" class=\"dataframe\">\n",
       "  <thead>\n",
       "    <tr style=\"text-align: right;\">\n",
       "      <th></th>\n",
       "      <th>waferMap</th>\n",
       "      <th>dieSize</th>\n",
       "      <th>lotName</th>\n",
       "      <th>trianTestLabel</th>\n",
       "      <th>failureType</th>\n",
       "      <th>waferMapDim</th>\n",
       "      <th>failureNum</th>\n",
       "      <th>trainTestNum</th>\n",
       "      <th>waferMap_augmentation</th>\n",
       "      <th>waferMap_augmentation_Dim</th>\n",
       "    </tr>\n",
       "  </thead>\n",
       "  <tbody>\n",
       "    <tr>\n",
       "      <th>359915</th>\n",
       "      <td>[[0, 0, 0, 0, 0, 0, 0, 0, 0, 0, 0, 0, 0, 0, 0,...</td>\n",
       "      <td>2126.0</td>\n",
       "      <td>lot21560</td>\n",
       "      <td>[[Training]]</td>\n",
       "      <td>[[Edge-Ring]]</td>\n",
       "      <td>(53, 52)</td>\n",
       "      <td>3</td>\n",
       "      <td>0</td>\n",
       "      <td>[[0, 0, 0, 0, 0, 0, 0, 0, 0, 0, 0, 0, 0, 0, 0,...</td>\n",
       "      <td>(224, 224)</td>\n",
       "    </tr>\n",
       "    <tr>\n",
       "      <th>216064</th>\n",
       "      <td>[[0, 0, 0, 0, 0, 0, 0, 0, 0, 0, 0, 0, 0, 0, 0,...</td>\n",
       "      <td>1291.0</td>\n",
       "      <td>lot13709</td>\n",
       "      <td>[[Training]]</td>\n",
       "      <td>[[Edge-Ring]]</td>\n",
       "      <td>(41, 41)</td>\n",
       "      <td>3</td>\n",
       "      <td>0</td>\n",
       "      <td>[[0, 0, 0, 0, 0, 0, 0, 0, 0, 0, 0, 0, 0, 0, 0,...</td>\n",
       "      <td>(224, 224)</td>\n",
       "    </tr>\n",
       "    <tr>\n",
       "      <th>186650</th>\n",
       "      <td>[[0, 0, 0, 0, 0, 0, 0, 0, 0, 0, 0, 0, 0, 0, 0,...</td>\n",
       "      <td>3036.0</td>\n",
       "      <td>lot11856</td>\n",
       "      <td>[[Training]]</td>\n",
       "      <td>[[Edge-Ring]]</td>\n",
       "      <td>(63, 62)</td>\n",
       "      <td>3</td>\n",
       "      <td>0</td>\n",
       "      <td>[[0, 0, 0, 0, 0, 0, 0, 0, 0, 0, 0, 0, 0, 0, 0,...</td>\n",
       "      <td>(224, 224)</td>\n",
       "    </tr>\n",
       "    <tr>\n",
       "      <th>228243</th>\n",
       "      <td>[[0, 0, 0, 0, 0, 0, 0, 0, 0, 0, 0, 0, 0, 0, 0,...</td>\n",
       "      <td>2085.0</td>\n",
       "      <td>lot14325</td>\n",
       "      <td>[[Training]]</td>\n",
       "      <td>[[Edge-Ring]]</td>\n",
       "      <td>(55, 48)</td>\n",
       "      <td>3</td>\n",
       "      <td>0</td>\n",
       "      <td>[[0, 0, 0, 0, 0, 0, 0, 0, 0, 0, 0, 0, 0, 0, 0,...</td>\n",
       "      <td>(224, 224)</td>\n",
       "    </tr>\n",
       "    <tr>\n",
       "      <th>228321</th>\n",
       "      <td>[[0, 0, 0, 0, 0, 0, 0, 0, 0, 0, 0, 0, 0, 0, 0,...</td>\n",
       "      <td>2072.0</td>\n",
       "      <td>lot14328</td>\n",
       "      <td>[[Training]]</td>\n",
       "      <td>[[Edge-Ring]]</td>\n",
       "      <td>(56, 48)</td>\n",
       "      <td>3</td>\n",
       "      <td>0</td>\n",
       "      <td>[[0, 0, 0, 0, 0, 0, 0, 0, 0, 0, 0, 0, 0, 0, 0,...</td>\n",
       "      <td>(224, 224)</td>\n",
       "    </tr>\n",
       "  </tbody>\n",
       "</table>\n",
       "</div>"
      ],
      "text/plain": [
       "                                                 waferMap  dieSize   lotName  \\\n",
       "359915  [[0, 0, 0, 0, 0, 0, 0, 0, 0, 0, 0, 0, 0, 0, 0,...   2126.0  lot21560   \n",
       "216064  [[0, 0, 0, 0, 0, 0, 0, 0, 0, 0, 0, 0, 0, 0, 0,...   1291.0  lot13709   \n",
       "186650  [[0, 0, 0, 0, 0, 0, 0, 0, 0, 0, 0, 0, 0, 0, 0,...   3036.0  lot11856   \n",
       "228243  [[0, 0, 0, 0, 0, 0, 0, 0, 0, 0, 0, 0, 0, 0, 0,...   2085.0  lot14325   \n",
       "228321  [[0, 0, 0, 0, 0, 0, 0, 0, 0, 0, 0, 0, 0, 0, 0,...   2072.0  lot14328   \n",
       "\n",
       "       trianTestLabel    failureType waferMapDim failureNum trainTestNum  \\\n",
       "359915   [[Training]]  [[Edge-Ring]]    (53, 52)          3            0   \n",
       "216064   [[Training]]  [[Edge-Ring]]    (41, 41)          3            0   \n",
       "186650   [[Training]]  [[Edge-Ring]]    (63, 62)          3            0   \n",
       "228243   [[Training]]  [[Edge-Ring]]    (55, 48)          3            0   \n",
       "228321   [[Training]]  [[Edge-Ring]]    (56, 48)          3            0   \n",
       "\n",
       "                                    waferMap_augmentation  \\\n",
       "359915  [[0, 0, 0, 0, 0, 0, 0, 0, 0, 0, 0, 0, 0, 0, 0,...   \n",
       "216064  [[0, 0, 0, 0, 0, 0, 0, 0, 0, 0, 0, 0, 0, 0, 0,...   \n",
       "186650  [[0, 0, 0, 0, 0, 0, 0, 0, 0, 0, 0, 0, 0, 0, 0,...   \n",
       "228243  [[0, 0, 0, 0, 0, 0, 0, 0, 0, 0, 0, 0, 0, 0, 0,...   \n",
       "228321  [[0, 0, 0, 0, 0, 0, 0, 0, 0, 0, 0, 0, 0, 0, 0,...   \n",
       "\n",
       "       waferMap_augmentation_Dim  \n",
       "359915                (224, 224)  \n",
       "216064                (224, 224)  \n",
       "186650                (224, 224)  \n",
       "228243                (224, 224)  \n",
       "228321                (224, 224)  "
      ]
     },
     "execution_count": 33,
     "metadata": {},
     "output_type": "execute_result"
    }
   ],
   "source": [
    "# 평행 이동 : 30% - 432개\n",
    "wm811k_new_train_class_Edge_Ring_translate = wm811k_new_train_class_Edge_Ring.sample(n=432, random_state=2022)\n",
    "wm811k_new_train_class_Edge_Ring_translate[\"waferMap_augmentation\"] = wm811k_new_train_class_Edge_Ring_translate[\"waferMap\"].apply(lambda x: translate(x))\n",
    "wm811k_new_train_class_Edge_Ring_translate['waferMap_augmentation_Dim']=wm811k_new_train_class_Edge_Ring_translate['waferMap_augmentation'].apply(find_dim)\n",
    "wm811k_new_train_class_Edge_Ring_translate.head()"
   ]
  },
  {
   "cell_type": "code",
   "execution_count": 34,
   "id": "00e4d27c",
   "metadata": {
    "execution": {
     "iopub.execute_input": "2022-04-08T05:40:23.253266Z",
     "iopub.status.busy": "2022-04-08T05:40:23.252266Z",
     "iopub.status.idle": "2022-04-08T05:40:23.995798Z",
     "shell.execute_reply": "2022-04-08T05:40:23.995029Z",
     "shell.execute_reply.started": "2022-04-08T05:40:23.252266Z"
    },
    "tags": []
   },
   "outputs": [
    {
     "data": {
      "text/html": [
       "<div>\n",
       "<style scoped>\n",
       "    .dataframe tbody tr th:only-of-type {\n",
       "        vertical-align: middle;\n",
       "    }\n",
       "\n",
       "    .dataframe tbody tr th {\n",
       "        vertical-align: top;\n",
       "    }\n",
       "\n",
       "    .dataframe thead th {\n",
       "        text-align: right;\n",
       "    }\n",
       "</style>\n",
       "<table border=\"1\" class=\"dataframe\">\n",
       "  <thead>\n",
       "    <tr style=\"text-align: right;\">\n",
       "      <th></th>\n",
       "      <th>waferMap</th>\n",
       "      <th>dieSize</th>\n",
       "      <th>lotName</th>\n",
       "      <th>trianTestLabel</th>\n",
       "      <th>failureType</th>\n",
       "      <th>waferMapDim</th>\n",
       "      <th>failureNum</th>\n",
       "      <th>trainTestNum</th>\n",
       "      <th>waferMap_augmentation</th>\n",
       "      <th>waferMap_augmentation_Dim</th>\n",
       "    </tr>\n",
       "  </thead>\n",
       "  <tbody>\n",
       "    <tr>\n",
       "      <th>359915</th>\n",
       "      <td>[[0, 0, 0, 0, 0, 0, 0, 0, 0, 0, 0, 0, 0, 0, 0,...</td>\n",
       "      <td>2126.0</td>\n",
       "      <td>lot21560</td>\n",
       "      <td>[[Training]]</td>\n",
       "      <td>[[Edge-Ring]]</td>\n",
       "      <td>(53, 52)</td>\n",
       "      <td>3</td>\n",
       "      <td>0</td>\n",
       "      <td>[[0, 0, 0, 0, 0, 0, 0, 0, 0, 0, 0, 0, 0, 0, 0,...</td>\n",
       "      <td>(224, 224)</td>\n",
       "    </tr>\n",
       "    <tr>\n",
       "      <th>216064</th>\n",
       "      <td>[[0, 0, 0, 0, 0, 0, 0, 0, 0, 0, 0, 0, 0, 0, 0,...</td>\n",
       "      <td>1291.0</td>\n",
       "      <td>lot13709</td>\n",
       "      <td>[[Training]]</td>\n",
       "      <td>[[Edge-Ring]]</td>\n",
       "      <td>(41, 41)</td>\n",
       "      <td>3</td>\n",
       "      <td>0</td>\n",
       "      <td>[[0, 0, 0, 0, 0, 0, 0, 0, 0, 0, 0, 0, 0, 0, 0,...</td>\n",
       "      <td>(224, 224)</td>\n",
       "    </tr>\n",
       "    <tr>\n",
       "      <th>186650</th>\n",
       "      <td>[[0, 0, 0, 0, 0, 0, 0, 0, 0, 0, 0, 0, 0, 0, 0,...</td>\n",
       "      <td>3036.0</td>\n",
       "      <td>lot11856</td>\n",
       "      <td>[[Training]]</td>\n",
       "      <td>[[Edge-Ring]]</td>\n",
       "      <td>(63, 62)</td>\n",
       "      <td>3</td>\n",
       "      <td>0</td>\n",
       "      <td>[[0, 0, 0, 0, 0, 0, 0, 0, 0, 0, 0, 0, 0, 0, 0,...</td>\n",
       "      <td>(224, 224)</td>\n",
       "    </tr>\n",
       "    <tr>\n",
       "      <th>228243</th>\n",
       "      <td>[[0, 0, 0, 0, 0, 0, 0, 0, 0, 0, 0, 0, 0, 0, 0,...</td>\n",
       "      <td>2085.0</td>\n",
       "      <td>lot14325</td>\n",
       "      <td>[[Training]]</td>\n",
       "      <td>[[Edge-Ring]]</td>\n",
       "      <td>(55, 48)</td>\n",
       "      <td>3</td>\n",
       "      <td>0</td>\n",
       "      <td>[[0, 0, 0, 0, 0, 0, 0, 0, 0, 0, 0, 0, 0, 0, 0,...</td>\n",
       "      <td>(224, 224)</td>\n",
       "    </tr>\n",
       "    <tr>\n",
       "      <th>228321</th>\n",
       "      <td>[[0, 0, 0, 0, 0, 0, 0, 0, 0, 0, 0, 0, 0, 0, 0,...</td>\n",
       "      <td>2072.0</td>\n",
       "      <td>lot14328</td>\n",
       "      <td>[[Training]]</td>\n",
       "      <td>[[Edge-Ring]]</td>\n",
       "      <td>(56, 48)</td>\n",
       "      <td>3</td>\n",
       "      <td>0</td>\n",
       "      <td>[[0, 0, 0, 0, 0, 0, 0, 0, 0, 0, 0, 0, 0, 0, 0,...</td>\n",
       "      <td>(224, 224)</td>\n",
       "    </tr>\n",
       "  </tbody>\n",
       "</table>\n",
       "</div>"
      ],
      "text/plain": [
       "                                                 waferMap  dieSize   lotName  \\\n",
       "359915  [[0, 0, 0, 0, 0, 0, 0, 0, 0, 0, 0, 0, 0, 0, 0,...   2126.0  lot21560   \n",
       "216064  [[0, 0, 0, 0, 0, 0, 0, 0, 0, 0, 0, 0, 0, 0, 0,...   1291.0  lot13709   \n",
       "186650  [[0, 0, 0, 0, 0, 0, 0, 0, 0, 0, 0, 0, 0, 0, 0,...   3036.0  lot11856   \n",
       "228243  [[0, 0, 0, 0, 0, 0, 0, 0, 0, 0, 0, 0, 0, 0, 0,...   2085.0  lot14325   \n",
       "228321  [[0, 0, 0, 0, 0, 0, 0, 0, 0, 0, 0, 0, 0, 0, 0,...   2072.0  lot14328   \n",
       "\n",
       "       trianTestLabel    failureType waferMapDim failureNum trainTestNum  \\\n",
       "359915   [[Training]]  [[Edge-Ring]]    (53, 52)          3            0   \n",
       "216064   [[Training]]  [[Edge-Ring]]    (41, 41)          3            0   \n",
       "186650   [[Training]]  [[Edge-Ring]]    (63, 62)          3            0   \n",
       "228243   [[Training]]  [[Edge-Ring]]    (55, 48)          3            0   \n",
       "228321   [[Training]]  [[Edge-Ring]]    (56, 48)          3            0   \n",
       "\n",
       "                                    waferMap_augmentation  \\\n",
       "359915  [[0, 0, 0, 0, 0, 0, 0, 0, 0, 0, 0, 0, 0, 0, 0,...   \n",
       "216064  [[0, 0, 0, 0, 0, 0, 0, 0, 0, 0, 0, 0, 0, 0, 0,...   \n",
       "186650  [[0, 0, 0, 0, 0, 0, 0, 0, 0, 0, 0, 0, 0, 0, 0,...   \n",
       "228243  [[0, 0, 0, 0, 0, 0, 0, 0, 0, 0, 0, 0, 0, 0, 0,...   \n",
       "228321  [[0, 0, 0, 0, 0, 0, 0, 0, 0, 0, 0, 0, 0, 0, 0,...   \n",
       "\n",
       "       waferMap_augmentation_Dim  \n",
       "359915                (224, 224)  \n",
       "216064                (224, 224)  \n",
       "186650                (224, 224)  \n",
       "228243                (224, 224)  \n",
       "228321                (224, 224)  "
      ]
     },
     "execution_count": 34,
     "metadata": {},
     "output_type": "execute_result"
    }
   ],
   "source": [
    "# 전단 범위(shearing range) : 10% - 144개\n",
    "wm811k_new_train_class_Edge_Ring_shearing = wm811k_new_train_class_Edge_Ring.sample(n=144, random_state=2022)\n",
    "wm811k_new_train_class_Edge_Ring_shearing[\"waferMap_augmentation\"] = wm811k_new_train_class_Edge_Ring_shearing[\"waferMap\"].apply(lambda x: shearing(x))\n",
    "wm811k_new_train_class_Edge_Ring_shearing['waferMap_augmentation_Dim']=wm811k_new_train_class_Edge_Ring_shearing['waferMap_augmentation'].apply(find_dim)\n",
    "wm811k_new_train_class_Edge_Ring_shearing.head()"
   ]
  },
  {
   "cell_type": "code",
   "execution_count": 60,
   "id": "d229c092",
   "metadata": {
    "execution": {
     "iopub.execute_input": "2022-04-08T05:59:39.216300Z",
     "iopub.status.busy": "2022-04-08T05:59:39.216300Z",
     "iopub.status.idle": "2022-04-08T05:59:39.890834Z",
     "shell.execute_reply": "2022-04-08T05:59:39.890834Z",
     "shell.execute_reply.started": "2022-04-08T05:59:39.216300Z"
    },
    "tags": []
   },
   "outputs": [
    {
     "data": {
      "text/html": [
       "<div>\n",
       "<style scoped>\n",
       "    .dataframe tbody tr th:only-of-type {\n",
       "        vertical-align: middle;\n",
       "    }\n",
       "\n",
       "    .dataframe tbody tr th {\n",
       "        vertical-align: top;\n",
       "    }\n",
       "\n",
       "    .dataframe thead th {\n",
       "        text-align: right;\n",
       "    }\n",
       "</style>\n",
       "<table border=\"1\" class=\"dataframe\">\n",
       "  <thead>\n",
       "    <tr style=\"text-align: right;\">\n",
       "      <th></th>\n",
       "      <th>waferMap</th>\n",
       "      <th>dieSize</th>\n",
       "      <th>lotName</th>\n",
       "      <th>trianTestLabel</th>\n",
       "      <th>failureType</th>\n",
       "      <th>waferMapDim</th>\n",
       "      <th>failureNum</th>\n",
       "      <th>trainTestNum</th>\n",
       "      <th>waferMap_augmentation</th>\n",
       "      <th>waferMap_augmentation_Dim</th>\n",
       "    </tr>\n",
       "  </thead>\n",
       "  <tbody>\n",
       "    <tr>\n",
       "      <th>359915</th>\n",
       "      <td>[[0, 0, 0, 0, 0, 0, 0, 0, 0, 0, 0, 0, 0, 0, 0,...</td>\n",
       "      <td>2126.0</td>\n",
       "      <td>lot21560</td>\n",
       "      <td>[[Training]]</td>\n",
       "      <td>[[Edge-Ring]]</td>\n",
       "      <td>(53, 52)</td>\n",
       "      <td>3</td>\n",
       "      <td>0</td>\n",
       "      <td>[[0, 0, 0, 0, 0, 0, 0, 0, 0, 0, 0, 0, 0, 0, 0,...</td>\n",
       "      <td>(224, 224)</td>\n",
       "    </tr>\n",
       "    <tr>\n",
       "      <th>216064</th>\n",
       "      <td>[[0, 0, 0, 0, 0, 0, 0, 0, 0, 0, 0, 0, 0, 0, 0,...</td>\n",
       "      <td>1291.0</td>\n",
       "      <td>lot13709</td>\n",
       "      <td>[[Training]]</td>\n",
       "      <td>[[Edge-Ring]]</td>\n",
       "      <td>(41, 41)</td>\n",
       "      <td>3</td>\n",
       "      <td>0</td>\n",
       "      <td>[[0, 0, 0, 0, 0, 0, 0, 0, 0, 0, 0, 0, 0, 0, 0,...</td>\n",
       "      <td>(224, 224)</td>\n",
       "    </tr>\n",
       "    <tr>\n",
       "      <th>186650</th>\n",
       "      <td>[[0, 0, 0, 0, 0, 0, 0, 0, 0, 0, 0, 0, 0, 0, 0,...</td>\n",
       "      <td>3036.0</td>\n",
       "      <td>lot11856</td>\n",
       "      <td>[[Training]]</td>\n",
       "      <td>[[Edge-Ring]]</td>\n",
       "      <td>(63, 62)</td>\n",
       "      <td>3</td>\n",
       "      <td>0</td>\n",
       "      <td>[[0, 0, 0, 0, 0, 0, 0, 0, 0, 0, 0, 0, 0, 0, 0,...</td>\n",
       "      <td>(224, 224)</td>\n",
       "    </tr>\n",
       "    <tr>\n",
       "      <th>228243</th>\n",
       "      <td>[[0, 0, 0, 0, 0, 0, 0, 0, 0, 0, 0, 0, 0, 0, 0,...</td>\n",
       "      <td>2085.0</td>\n",
       "      <td>lot14325</td>\n",
       "      <td>[[Training]]</td>\n",
       "      <td>[[Edge-Ring]]</td>\n",
       "      <td>(55, 48)</td>\n",
       "      <td>3</td>\n",
       "      <td>0</td>\n",
       "      <td>[[0, 0, 0, 0, 0, 0, 0, 0, 0, 0, 0, 0, 0, 0, 0,...</td>\n",
       "      <td>(224, 224)</td>\n",
       "    </tr>\n",
       "    <tr>\n",
       "      <th>228321</th>\n",
       "      <td>[[0, 0, 0, 0, 0, 0, 0, 0, 0, 0, 0, 0, 0, 0, 0,...</td>\n",
       "      <td>2072.0</td>\n",
       "      <td>lot14328</td>\n",
       "      <td>[[Training]]</td>\n",
       "      <td>[[Edge-Ring]]</td>\n",
       "      <td>(56, 48)</td>\n",
       "      <td>3</td>\n",
       "      <td>0</td>\n",
       "      <td>[[0, 0, 0, 0, 0, 0, 0, 0, 0, 0, 0, 0, 0, 0, 0,...</td>\n",
       "      <td>(224, 224)</td>\n",
       "    </tr>\n",
       "  </tbody>\n",
       "</table>\n",
       "</div>"
      ],
      "text/plain": [
       "                                                 waferMap  dieSize   lotName  \\\n",
       "359915  [[0, 0, 0, 0, 0, 0, 0, 0, 0, 0, 0, 0, 0, 0, 0,...   2126.0  lot21560   \n",
       "216064  [[0, 0, 0, 0, 0, 0, 0, 0, 0, 0, 0, 0, 0, 0, 0,...   1291.0  lot13709   \n",
       "186650  [[0, 0, 0, 0, 0, 0, 0, 0, 0, 0, 0, 0, 0, 0, 0,...   3036.0  lot11856   \n",
       "228243  [[0, 0, 0, 0, 0, 0, 0, 0, 0, 0, 0, 0, 0, 0, 0,...   2085.0  lot14325   \n",
       "228321  [[0, 0, 0, 0, 0, 0, 0, 0, 0, 0, 0, 0, 0, 0, 0,...   2072.0  lot14328   \n",
       "\n",
       "       trianTestLabel    failureType waferMapDim failureNum trainTestNum  \\\n",
       "359915   [[Training]]  [[Edge-Ring]]    (53, 52)          3            0   \n",
       "216064   [[Training]]  [[Edge-Ring]]    (41, 41)          3            0   \n",
       "186650   [[Training]]  [[Edge-Ring]]    (63, 62)          3            0   \n",
       "228243   [[Training]]  [[Edge-Ring]]    (55, 48)          3            0   \n",
       "228321   [[Training]]  [[Edge-Ring]]    (56, 48)          3            0   \n",
       "\n",
       "                                    waferMap_augmentation  \\\n",
       "359915  [[0, 0, 0, 0, 0, 0, 0, 0, 0, 0, 0, 0, 0, 0, 0,...   \n",
       "216064  [[0, 0, 0, 0, 0, 0, 0, 0, 0, 0, 0, 0, 0, 0, 0,...   \n",
       "186650  [[0, 0, 0, 0, 0, 0, 0, 0, 0, 0, 0, 0, 0, 0, 0,...   \n",
       "228243  [[0, 0, 0, 0, 0, 0, 0, 0, 0, 0, 0, 0, 0, 0, 0,...   \n",
       "228321  [[0, 0, 0, 0, 0, 0, 0, 0, 0, 0, 0, 0, 0, 0, 0,...   \n",
       "\n",
       "       waferMap_augmentation_Dim  \n",
       "359915                (224, 224)  \n",
       "216064                (224, 224)  \n",
       "186650                (224, 224)  \n",
       "228243                (224, 224)  \n",
       "228321                (224, 224)  "
      ]
     },
     "execution_count": 60,
     "metadata": {},
     "output_type": "execute_result"
    }
   ],
   "source": [
    "# 확대 : 20% - 294개\n",
    "wm811k_new_train_class_Edge_Ring_resize = wm811k_new_train_class_Edge_Ring.sample(n=294, random_state=2022)\n",
    "wm811k_new_train_class_Edge_Ring_resize[\"waferMap_augmentation\"] = wm811k_new_train_class_Edge_Ring_resize[\"waferMap\"].apply(lambda x: resizing(x))\n",
    "wm811k_new_train_class_Edge_Ring_resize['waferMap_augmentation_Dim']=wm811k_new_train_class_Edge_Ring_resize['waferMap_augmentation'].apply(find_dim)\n",
    "wm811k_new_train_class_Edge_Ring_resize.head()"
   ]
  },
  {
   "cell_type": "code",
   "execution_count": 61,
   "id": "fb102e47",
   "metadata": {
    "execution": {
     "iopub.execute_input": "2022-04-08T06:18:08.331303Z",
     "iopub.status.busy": "2022-04-08T06:18:08.331303Z",
     "iopub.status.idle": "2022-04-08T06:18:08.371940Z",
     "shell.execute_reply": "2022-04-08T06:18:08.371440Z",
     "shell.execute_reply.started": "2022-04-08T06:18:08.331303Z"
    },
    "tags": []
   },
   "outputs": [
    {
     "name": "stdout",
     "output_type": "stream",
     "text": [
      "<class 'pandas.core.frame.DataFrame'>\n",
      "Int64Index: 10000 entries, 100 to 199660\n",
      "Data columns (total 10 columns):\n",
      " #   Column                     Non-Null Count  Dtype  \n",
      "---  ------                     --------------  -----  \n",
      " 0   waferMap                   10000 non-null  object \n",
      " 1   dieSize                    10000 non-null  float64\n",
      " 2   lotName                    10000 non-null  object \n",
      " 3   trianTestLabel             10000 non-null  object \n",
      " 4   failureType                10000 non-null  object \n",
      " 5   waferMapDim                10000 non-null  object \n",
      " 6   failureNum                 10000 non-null  object \n",
      " 7   trainTestNum               10000 non-null  object \n",
      " 8   waferMap_augmentation      1446 non-null   object \n",
      " 9   waferMap_augmentation_Dim  1446 non-null   object \n",
      "dtypes: float64(1), object(9)\n",
      "memory usage: 859.4+ KB\n"
     ]
    }
   ],
   "source": [
    "# concat\n",
    "wm811k_new_train_class_Edge_Ring_augmentation = pd.concat([wm811k_new_train_class_Edge_Ring,\n",
    "                                                           wm811k_new_train_class_Edge_Ring_10,\n",
    "                                                           wm811k_new_train_class_Edge_Ring_minus_10,\n",
    "                                                           wm811k_new_train_class_Edge_Ring_flip,\n",
    "                                                           wm811k_new_train_class_Edge_Ring_translate,\n",
    "                                                           wm811k_new_train_class_Edge_Ring_shearing,\n",
    "                                                           wm811k_new_train_class_Edge_Ring_resize\n",
    "                                                          ])\n",
    "wm811k_new_train_class_Edge_Ring_augmentation.info()"
   ]
  },
  {
   "cell_type": "code",
   "execution_count": 63,
   "id": "84fa3c8d",
   "metadata": {
    "execution": {
     "iopub.execute_input": "2022-04-08T06:27:09.743517Z",
     "iopub.status.busy": "2022-04-08T06:27:09.743517Z",
     "iopub.status.idle": "2022-04-08T06:27:10.548997Z",
     "shell.execute_reply": "2022-04-08T06:27:10.548497Z",
     "shell.execute_reply.started": "2022-04-08T06:27:09.743517Z"
    },
    "tags": []
   },
   "outputs": [
    {
     "name": "stdout",
     "output_type": "stream",
     "text": [
      "<class 'pandas.core.frame.DataFrame'>\n",
      "Int64Index: 3462 entries, 44 to 785245\n",
      "Data columns (total 8 columns):\n",
      " #   Column          Non-Null Count  Dtype  \n",
      "---  ------          --------------  -----  \n",
      " 0   waferMap        3462 non-null   object \n",
      " 1   dieSize         3462 non-null   float64\n",
      " 2   lotName         3462 non-null   object \n",
      " 3   trianTestLabel  3462 non-null   object \n",
      " 4   failureType     3462 non-null   object \n",
      " 5   waferMapDim     3462 non-null   object \n",
      " 6   failureNum      3462 non-null   object \n",
      " 7   trainTestNum    3462 non-null   object \n",
      "dtypes: float64(1), object(7)\n",
      "memory usage: 243.4+ KB\n",
      "<class 'pandas.core.frame.DataFrame'>\n",
      "Int64Index: 10000 entries, 44 to 360911\n",
      "Data columns (total 10 columns):\n",
      " #   Column                     Non-Null Count  Dtype  \n",
      "---  ------                     --------------  -----  \n",
      " 0   waferMap                   10000 non-null  object \n",
      " 1   dieSize                    10000 non-null  float64\n",
      " 2   lotName                    10000 non-null  object \n",
      " 3   trianTestLabel             10000 non-null  object \n",
      " 4   failureType                10000 non-null  object \n",
      " 5   waferMapDim                10000 non-null  object \n",
      " 6   failureNum                 10000 non-null  object \n",
      " 7   trainTestNum               10000 non-null  object \n",
      " 8   waferMap_augmentation      6538 non-null   object \n",
      " 9   waferMap_augmentation_Dim  6538 non-null   object \n",
      "dtypes: float64(1), object(9)\n",
      "memory usage: 859.4+ KB\n"
     ]
    }
   ],
   "source": [
    "# Center(0) 현 보유 3,462개 / 6,538개 augmentation 필요\n",
    "wm811k_new_train_class_Center = wm811k_train.query(\"failureNum == 0\")\n",
    "wm811k_new_train_class_Center[\"waferMap_augmentation\"] = wm811k_new_train_class_Center['waferMap']\n",
    "wm811k_new_train_class_Center['waferMap_augmentation_Dim']=wm811k_new_train_class_Center['waferMap_augmentation'].apply(find_dim)\n",
    "wm811k_new_train_class_Center.info()\n",
    "\n",
    "# +10도 회전 : 10% - 654개\n",
    "wm811k_new_train_class_Center_10 = wm811k_new_train_class_Center.sample(n=654, random_state=2022)\n",
    "wm811k_new_train_class_Center_10[\"waferMap_augmentation\"] = wm811k_new_train_class_Center_10[\"waferMap\"].apply(lambda x: rotation_10_degree(x))\n",
    "wm811k_new_train_class_Center_10['waferMap_augmentation_Dim']=wm811k_new_train_class_Center_10['waferMap_augmentation'].apply(find_dim)\n",
    "\n",
    "# -10도 회전 : 10% - 654개\n",
    "wm811k_new_train_class_Center_minus_10 = wm811k_new_train_class_Center.sample(n=654, random_state=2022)\n",
    "wm811k_new_train_class_Center_minus_10[\"waferMap_augmentation\"] = wm811k_new_train_class_Center_minus_10[\"waferMap\"].apply(lambda x: rotation_minus_10_degree(x))\n",
    "wm811k_new_train_class_Center_minus_10['waferMap_augmentation_Dim']=wm811k_new_train_class_Center_minus_10['waferMap_augmentation'].apply(find_dim)\n",
    "\n",
    "# 좌우 대칭 : 20%  - 1308개\n",
    "wm811k_new_train_class_Center_flip = wm811k_new_train_class_Center.sample(n=1308, random_state=2022)\n",
    "wm811k_new_train_class_Center_flip[\"waferMap_augmentation\"] = wm811k_new_train_class_Center_flip[\"waferMap\"].apply(lambda x: filping(x))\n",
    "wm811k_new_train_class_Center_flip['waferMap_augmentation_Dim']=wm811k_new_train_class_Center_flip['waferMap_augmentation'].apply(find_dim)\n",
    "\n",
    "# 평행 이동 : 30%  - 1962개\n",
    "wm811k_new_train_class_Center_translate = wm811k_new_train_class_Center.sample(n=1962, random_state=2022)\n",
    "wm811k_new_train_class_Center_translate[\"waferMap_augmentation\"] = wm811k_new_train_class_Center_translate[\"waferMap\"].apply(lambda x: translate(x))\n",
    "wm811k_new_train_class_Center_translate['waferMap_augmentation_Dim']=wm811k_new_train_class_Center_translate['waferMap_augmentation'].apply(find_dim)\n",
    "\n",
    "# 전단 범위(shearing range) : 10% - 652개\n",
    "wm811k_new_train_class_Center_shearing = wm811k_new_train_class_Center.sample(n=652, random_state=2022)\n",
    "wm811k_new_train_class_Center_shearing[\"waferMap_augmentation\"] = wm811k_new_train_class_Center_shearing[\"waferMap\"].apply(lambda x: shearing(x))\n",
    "wm811k_new_train_class_Center_shearing['waferMap_augmentation_Dim']=wm811k_new_train_class_Center_shearing['waferMap_augmentation'].apply(find_dim)\n",
    "\n",
    "# 확대 : 20% - 1308개\n",
    "wm811k_new_train_class_Center_resize = wm811k_new_train_class_Center.sample(n=1308, random_state=2022)\n",
    "wm811k_new_train_class_Center_resize[\"waferMap_augmentation\"] = wm811k_new_train_class_Center_resize[\"waferMap\"].apply(lambda x: resizing(x))\n",
    "wm811k_new_train_class_Center_resize['waferMap_augmentation_Dim']=wm811k_new_train_class_Center_resize['waferMap_augmentation'].apply(find_dim)\n",
    "\n",
    "# concat\n",
    "wm811k_new_train_class_Center_augmentation = pd.concat([wm811k_new_train_class_Center,\n",
    "                                                        wm811k_new_train_class_Center_10,\n",
    "                                                        wm811k_new_train_class_Center_minus_10,\n",
    "                                                        wm811k_new_train_class_Center_flip,\n",
    "                                                        wm811k_new_train_class_Center_translate,\n",
    "                                                        wm811k_new_train_class_Center_shearing,\n",
    "                                                        wm811k_new_train_class_Center_resize\n",
    "                                                       ])\n",
    "wm811k_new_train_class_Center_augmentation.info()"
   ]
  },
  {
   "cell_type": "code",
   "execution_count": 74,
   "id": "62404d80",
   "metadata": {
    "execution": {
     "iopub.execute_input": "2022-04-08T07:17:57.540054Z",
     "iopub.status.busy": "2022-04-08T07:17:57.540054Z",
     "iopub.status.idle": "2022-04-08T07:17:58.536114Z",
     "shell.execute_reply": "2022-04-08T07:17:58.536114Z",
     "shell.execute_reply.started": "2022-04-08T07:17:57.540054Z"
    },
    "tags": []
   },
   "outputs": [
    {
     "name": "stdout",
     "output_type": "stream",
     "text": [
      "<class 'pandas.core.frame.DataFrame'>\n",
      "Int64Index: 2417 entries, 36 to 791230\n",
      "Data columns (total 8 columns):\n",
      " #   Column          Non-Null Count  Dtype  \n",
      "---  ------          --------------  -----  \n",
      " 0   waferMap        2417 non-null   object \n",
      " 1   dieSize         2417 non-null   float64\n",
      " 2   lotName         2417 non-null   object \n",
      " 3   trianTestLabel  2417 non-null   object \n",
      " 4   failureType     2417 non-null   object \n",
      " 5   waferMapDim     2417 non-null   object \n",
      " 6   failureNum      2417 non-null   object \n",
      " 7   trainTestNum    2417 non-null   object \n",
      "dtypes: float64(1), object(7)\n",
      "memory usage: 169.9+ KB\n",
      "<class 'pandas.core.frame.DataFrame'>\n",
      "Int64Index: 10000 entries, 36 to 417018\n",
      "Data columns (total 10 columns):\n",
      " #   Column                     Non-Null Count  Dtype  \n",
      "---  ------                     --------------  -----  \n",
      " 0   waferMap                   10000 non-null  object \n",
      " 1   dieSize                    10000 non-null  float64\n",
      " 2   lotName                    10000 non-null  object \n",
      " 3   trianTestLabel             10000 non-null  object \n",
      " 4   failureType                10000 non-null  object \n",
      " 5   waferMapDim                10000 non-null  object \n",
      " 6   failureNum                 10000 non-null  object \n",
      " 7   trainTestNum               10000 non-null  object \n",
      " 8   waferMap_augmentation      7583 non-null   object \n",
      " 9   waferMap_augmentation_Dim  7583 non-null   object \n",
      "dtypes: float64(1), object(9)\n",
      "memory usage: 859.4+ KB\n"
     ]
    }
   ],
   "source": [
    "# Edge-Loc(2) 현 보유 2,417개 / 7,583개 augmentation 필요\n",
    "wm811k_new_train_class_Edge_Loc = wm811k_train.query(\"failureNum == 2\")\n",
    "wm811k_new_train_class_Edge_Loc[\"waferMap_augmentation\"] = wm811k_new_train_class_Edge_Loc['waferMap']\n",
    "wm811k_new_train_class_Edge_Loc['waferMap_augmentation_Dim']=wm811k_new_train_class_Edge_Loc['waferMap_augmentation'].apply(find_dim)\n",
    "wm811k_new_train_class_Edge_Loc.info()\n",
    "\n",
    "# +10도 회전 : 10% - 758개\n",
    "wm811k_new_train_class_Edge_Loc_10 = wm811k_new_train_class_Edge_Loc.sample(n=758, random_state=2022)\n",
    "wm811k_new_train_class_Edge_Loc_10[\"waferMap_augmentation\"] = wm811k_new_train_class_Edge_Loc_10[\"waferMap\"].apply(lambda x: rotation_10_degree(x))\n",
    "wm811k_new_train_class_Edge_Loc_10['waferMap_augmentation_Dim']=wm811k_new_train_class_Edge_Loc_10['waferMap_augmentation'].apply(find_dim)\n",
    "\n",
    "# -10도 회전 : 10% - 758개\n",
    "wm811k_new_train_class_Edge_Loc_minus_10 = wm811k_new_train_class_Edge_Loc.sample(n=758, random_state=2022)\n",
    "wm811k_new_train_class_Edge_Loc_minus_10[\"waferMap_augmentation\"] = wm811k_new_train_class_Edge_Loc_minus_10[\"waferMap\"].apply(lambda x: rotation_minus_10_degree(x))\n",
    "wm811k_new_train_class_Edge_Loc_minus_10['waferMap_augmentation_Dim']=wm811k_new_train_class_Edge_Loc_minus_10['waferMap_augmentation'].apply(find_dim)\n",
    "\n",
    "# 좌우 대칭 : 20% - 1517개\n",
    "wm811k_new_train_class_Edge_Loc_flip = wm811k_new_train_class_Edge_Loc.sample(n=1517, random_state=2022)\n",
    "wm811k_new_train_class_Edge_Loc_flip[\"waferMap_augmentation\"] = wm811k_new_train_class_Edge_Loc_flip[\"waferMap\"].apply(lambda x: filping(x))\n",
    "wm811k_new_train_class_Edge_Loc_flip['waferMap_augmentation_Dim']=wm811k_new_train_class_Edge_Loc_flip['waferMap_augmentation'].apply(find_dim)\n",
    "\n",
    "# 평행 이동 : 30% - 2275개\n",
    "wm811k_new_train_class_Edge_Loc_translate = wm811k_new_train_class_Edge_Loc.sample(n=2275, random_state=2022)\n",
    "wm811k_new_train_class_Edge_Loc_translate[\"waferMap_augmentation\"] = wm811k_new_train_class_Edge_Loc_translate[\"waferMap\"].apply(lambda x: translate(x))\n",
    "wm811k_new_train_class_Edge_Loc_translate['waferMap_augmentation_Dim']=wm811k_new_train_class_Edge_Loc_translate['waferMap_augmentation'].apply(find_dim)\n",
    "\n",
    "# 전단 범위(shearing range) : 10% - 758개\n",
    "wm811k_new_train_class_Edge_Loc_shearing = wm811k_new_train_class_Edge_Loc.sample(n=758, random_state=2022)\n",
    "wm811k_new_train_class_Edge_Loc_shearing[\"waferMap_augmentation\"] = wm811k_new_train_class_Edge_Loc_shearing[\"waferMap\"].apply(lambda x: shearing(x))\n",
    "wm811k_new_train_class_Edge_Loc_shearing['waferMap_augmentation_Dim']=wm811k_new_train_class_Edge_Loc_shearing['waferMap_augmentation'].apply(find_dim)\n",
    "\n",
    "# 확대 : 20% - 1517개\n",
    "wm811k_new_train_class_Edge_Loc_resize = wm811k_new_train_class_Edge_Loc.sample(n=1517, random_state=2022)\n",
    "wm811k_new_train_class_Edge_Loc_resize[\"waferMap_augmentation\"] = wm811k_new_train_class_Edge_Loc_resize[\"waferMap\"].apply(lambda x: resizing(x))\n",
    "wm811k_new_train_class_Edge_Loc_resize['waferMap_augmentation_Dim']=wm811k_new_train_class_Edge_Loc_resize['waferMap_augmentation'].apply(find_dim)\n",
    "\n",
    "# concat\n",
    "wm811k_new_train_class_Edge_Loc_augmentation = pd.concat([wm811k_new_train_class_Edge_Loc,\n",
    "                                                          wm811k_new_train_class_Edge_Loc_10,\n",
    "                                                          wm811k_new_train_class_Edge_Loc_minus_10,\n",
    "                                                          wm811k_new_train_class_Edge_Loc_flip,\n",
    "                                                          wm811k_new_train_class_Edge_Loc_translate,\n",
    "                                                          wm811k_new_train_class_Edge_Loc_shearing,\n",
    "                                                          wm811k_new_train_class_Edge_Loc_resize\n",
    "                                                         ])\n",
    "wm811k_new_train_class_Edge_Loc_augmentation.info()"
   ]
  },
  {
   "cell_type": "code",
   "execution_count": 73,
   "id": "64b459ad",
   "metadata": {
    "execution": {
     "iopub.execute_input": "2022-04-08T07:16:21.077035Z",
     "iopub.status.busy": "2022-04-08T07:16:21.077035Z",
     "iopub.status.idle": "2022-04-08T07:16:21.092683Z",
     "shell.execute_reply": "2022-04-08T07:16:21.092183Z",
     "shell.execute_reply.started": "2022-04-08T07:16:21.077035Z"
    },
    "tags": []
   },
   "outputs": [
    {
     "name": "stdout",
     "output_type": "stream",
     "text": [
      "<class 'pandas.core.frame.DataFrame'>\n",
      "Int64Index: 1517 entries, 265906 to 417018\n",
      "Data columns (total 10 columns):\n",
      " #   Column                     Non-Null Count  Dtype  \n",
      "---  ------                     --------------  -----  \n",
      " 0   waferMap                   1517 non-null   object \n",
      " 1   dieSize                    1517 non-null   float64\n",
      " 2   lotName                    1517 non-null   object \n",
      " 3   trianTestLabel             1517 non-null   object \n",
      " 4   failureType                1517 non-null   object \n",
      " 5   waferMapDim                1517 non-null   object \n",
      " 6   failureNum                 1517 non-null   object \n",
      " 7   trainTestNum               1517 non-null   object \n",
      " 8   waferMap_augmentation      1517 non-null   object \n",
      " 9   waferMap_augmentation_Dim  1517 non-null   object \n",
      "dtypes: float64(1), object(9)\n",
      "memory usage: 130.4+ KB\n"
     ]
    }
   ],
   "source": [
    "wm811k_new_train_class_Edge_Loc_resize.info()"
   ]
  },
  {
   "cell_type": "code",
   "execution_count": null,
   "id": "a6f79812",
   "metadata": {},
   "outputs": [],
   "source": [
    "# Loc(4) 현 보유 1,620개 / 8,380개 augmentation 필요\n",
    "# +10도 회전 : 10% - 838개\n",
    "# -10도 회전 : 10% - 838개\n",
    "# 좌우 대칭 : 20%  - \"1676개\"\n",
    "# 너비 이동 : 20%  - \"1676개\"\n",
    "# 높이 이동: 20%   - \"1676개\"\n",
    "# 전단 범위(shearing range) : 10% - 838개\n",
    "# 확대 : 10% - 838개"
   ]
  },
  {
   "cell_type": "code",
   "execution_count": null,
   "id": "5c527df0",
   "metadata": {},
   "outputs": [],
   "source": [
    "wm811k_new_train_class_Loc = wm811k_train.query(\"failureNum == 4\")\n",
    "wm811k_new_train_class_Loc.info()"
   ]
  },
  {
   "cell_type": "code",
   "execution_count": null,
   "id": "4e5ed2d4",
   "metadata": {},
   "outputs": [],
   "source": [
    "# Random(5) 현 보유 609개 / 9,391개 augmentation 필요\n",
    "# +10도 회전 : 10%\n",
    "# -10도 회전 : 10%\n",
    "# 좌우 대칭 : 20% \n",
    "# 너비 이동 : 20%\n",
    "# 높이 이동: 20%\n",
    "# 전단 범위(shearing range) : 10%\n",
    "# 확대 : 10%"
   ]
  },
  {
   "cell_type": "code",
   "execution_count": null,
   "id": "14fbd9e6",
   "metadata": {},
   "outputs": [],
   "source": [
    "wm811k_new_train_class_Random = wm811k_train.query(\"failureNum == 5\")\n",
    "wm811k_new_train_class_Random.info()"
   ]
  },
  {
   "cell_type": "code",
   "execution_count": null,
   "id": "ab1b8e81",
   "metadata": {},
   "outputs": [],
   "source": [
    "# Scratch(6) 현 보유 500개 / 9,500개 augmentation 필요\n",
    "# +10도 회전 : 10%\n",
    "# -10도 회전 : 10%\n",
    "# 좌우 대칭 : 20% \n",
    "# 너비 이동 : 20%\n",
    "# 높이 이동: 20%\n",
    "# 전단 범위(shearing range) : 10%\n",
    "# 확대 : 10%"
   ]
  },
  {
   "cell_type": "code",
   "execution_count": null,
   "id": "4f7932d8",
   "metadata": {},
   "outputs": [],
   "source": [
    "wm811k_new_train_class_Scratch = wm811k_train.query(\"failureNum == 6\")\n",
    "wm811k_new_train_class_Scratch.info()"
   ]
  },
  {
   "cell_type": "code",
   "execution_count": null,
   "id": "49ea6bc0",
   "metadata": {},
   "outputs": [],
   "source": [
    "# Donut(1) 현 보유 409개 / 9,591개 augmentation 필요\n",
    "# +10도 회전 : 10%\n",
    "# -10도 회전 : 10%\n",
    "# 좌우 대칭 : 20% \n",
    "# 너비 이동 : 20%\n",
    "# 높이 이동: 20%\n",
    "# 전단 범위(shearing range) : 10%\n",
    "# 확대 : 10%"
   ]
  },
  {
   "cell_type": "code",
   "execution_count": null,
   "id": "11071378",
   "metadata": {},
   "outputs": [],
   "source": [
    "wm811k_new_train_class_Donut = wm811k_train.query(\"failureNum == 1\")\n",
    "wm811k_new_train_class_Donut.info()"
   ]
  },
  {
   "cell_type": "code",
   "execution_count": null,
   "id": "51f24bca",
   "metadata": {},
   "outputs": [],
   "source": [
    "# Near-full(7) 현 보유 54개 / 9,946개 augmentation 필요\n",
    "# +10도 회전 : 10%\n",
    "# -10도 회전 : 10%\n",
    "# 좌우 대칭 : 20% \n",
    "# 너비 이동 : 20%\n",
    "# 높이 이동: 20%\n",
    "# 전단 범위(shearing range) : 10%\n",
    "# 확대 : 10%"
   ]
  },
  {
   "cell_type": "code",
   "execution_count": null,
   "id": "56607f5e",
   "metadata": {},
   "outputs": [],
   "source": [
    "wm811k_new_train_class_Near_Full = wm811k_train.query(\"failureNum == 7\")\n",
    "wm811k_new_train_class_Near_Full.info()"
   ]
  },
  {
   "cell_type": "markdown",
   "id": "47f39642",
   "metadata": {},
   "source": [
    "- augmentation 데이터 파일 저장\n",
    "    - pkl 파일 저장 참고 : https://seing.tistory.com/95"
   ]
  },
  {
   "cell_type": "markdown",
   "id": "b55ebfcd",
   "metadata": {},
   "source": [
    "## CNN-WDI Modeling"
   ]
  },
  {
   "cell_type": "code",
   "execution_count": null,
   "id": "d797c50b",
   "metadata": {
    "tags": []
   },
   "outputs": [],
   "source": [
    "# CNN-WDI model\n",
    "# layer별 padding option check ~ valid, same\n",
    "input_shape = (224,224,1) # 학습 data shape 확인\n",
    "class_num = 9\n",
    "KERNEL_SIZE = 3\n",
    "\n",
    "input_layer = layers.Input(shape=input_shape) # Input 224x224\n",
    "x = layers.Conv2D(16, kernel_size=KERNEL_SIZE, padding='valid')(input_layer) # 16, 3x3\n",
    "x = layers.Activation(activation='relu')(x) # ReLU\n",
    "x = layers.BatchNormalization()(x) # BatchNormalization\n",
    "x = layers.MaxPool2D(pool_size=(2,2))(x) # Max-pooling\n",
    "x = layers.Conv2D(16, kernel_size=KERNEL_SIZE, padding='same')(x) # 16, 3x3\n",
    "x = layers.Activation(activation='relu')(x) # ReLU\n",
    "x = layers.BatchNormalization()(x) # BatchNormalization\n",
    "\n",
    "x = layers.Conv2D(32, kernel_size=KERNEL_SIZE, padding='same')(x) # 32, 3x3\n",
    "x = layers.Activation(activation='relu')(x) # ReLU\n",
    "x = layers.BatchNormalization()(x) # BatchNormalization\n",
    "x = layers.MaxPool2D(pool_size=(2,2))(x) # Max-pooling\n",
    "x = layers.Conv2D(32, kernel_size=KERNEL_SIZE, padding='same')(x) # 32, 3x3\n",
    "x = layers.Activation(activation='relu')(x) # ReLU\n",
    "x = layers.BatchNormalization()(x) # BatchNormalization\n",
    "\n",
    "x = layers.Conv2D(64, kernel_size=KERNEL_SIZE, padding='same')(x) # 64, 3x3\n",
    "x = layers.Activation(activation='relu')(x) # ReLU\n",
    "x = layers.BatchNormalization()(x) # BatchNormalization\n",
    "x = layers.MaxPool2D(pool_size=(2,2))(x) # Max-pooling\n",
    "x = layers.Conv2D(64, kernel_size=KERNEL_SIZE, padding='same')(x) # 64, 3x3\n",
    "x = layers.Activation(activation='relu')(x) # ReLU\n",
    "x = layers.BatchNormalization()(x) # BatchNormalization\n",
    "\n",
    "x = layers.Conv2D(128, kernel_size=KERNEL_SIZE, padding='same')(x) # 128, 3x3\n",
    "x = layers.Activation(activation='relu')(x) # ReLU\n",
    "x = layers.BatchNormalization()(x) # BatchNormalization\n",
    "x = layers.MaxPool2D(pool_size=(2,2))(x) # Max-pooling\n",
    "x = layers.Conv2D(128, kernel_size=KERNEL_SIZE, padding='same')(x) # 128, 3x3\n",
    "x = layers.Activation(activation='relu')(x) # ReLU\n",
    "x = layers.BatchNormalization()(x) # BatchNormalization\n",
    "\n",
    "x = layers.SpatialDropout2D(0.2)(x) # Spartial Dropout 0.2\n",
    "x = layers.MaxPool2D(pool_size=(2,2))(x) # Max-pooling\n",
    "x = layers.Flatten()(x) # 4608 확인\n",
    "x = layers.Dense(512, activation='relu')(x)\n",
    "output_layer = layers.Dense(class_num, activation='softmax')(x)\n",
    "\n",
    "CNN_WDI = Model(input_layer, output_layer)"
   ]
  },
  {
   "cell_type": "code",
   "execution_count": null,
   "id": "e4f04c02",
   "metadata": {
    "tags": []
   },
   "outputs": [],
   "source": [
    "CNN_WDI.summary()"
   ]
  },
  {
   "cell_type": "code",
   "execution_count": null,
   "id": "04ee442f",
   "metadata": {
    "tags": []
   },
   "outputs": [],
   "source": [
    "# learning_rate 설정 ~ compile? fit?\n",
    "# X, y 설정\n",
    "# loss_function, metrics 설정 확인\n",
    "# checkpointer patience 값 확인\n",
    "\n",
    "# train / validation / test set 설정\n",
    "# X_train, X_valid = train_test_split(df, test_size=TEST_SIZE, random_state=2021)\n",
    "\n",
    "# model 설정\n",
    "LEARNING_RATE = 0.001\n",
    "BATCH_SIZE = 100\n",
    "EPOCH = 20  # 논문 그래프에 20 epoch 까지 있음\n",
    "\n",
    "CNN_WDI.compile(loss='categorical_crossentropy', optimizer=optimizers.Adam(LEARNING_RATE), metrics=['categorical_crossentropy'], learning_rate = LEARNING_RATE)\n",
    "checkpointer = ModelCheckpoint(filepath=\"{0}.h5\".format(model_id), verbose=1, save_best_only=True)\n",
    "\n",
    "# 학습 실행\n",
    "hist = CNN_WDI.fit(X_train, X_test, epochs=EPOCH, batch_size=BATCH_SIZE, shuffle=True,\n",
    "                   validation_data=(X_valid, X_valid), callbacks=[checkpointer])"
   ]
  },
  {
   "cell_type": "code",
   "execution_count": null,
   "id": "25f52da0",
   "metadata": {},
   "outputs": [],
   "source": [
    "# predict 시에도 test 데이터 padding 하는 과정 필요"
   ]
  }
 ],
 "metadata": {
  "kernelspec": {
   "display_name": "Python 3 (ipykernel)",
   "language": "python",
   "name": "python3"
  },
  "language_info": {
   "codemirror_mode": {
    "name": "ipython",
    "version": 3
   },
   "file_extension": ".py",
   "mimetype": "text/x-python",
   "name": "python",
   "nbconvert_exporter": "python",
   "pygments_lexer": "ipython3",
   "version": "3.7.9"
  }
 },
 "nbformat": 4,
 "nbformat_minor": 5
}
