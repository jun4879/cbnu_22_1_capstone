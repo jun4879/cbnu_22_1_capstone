{
 "cells": [
  {
   "cell_type": "markdown",
   "id": "c8b1ac27",
   "metadata": {},
   "source": [
    "## 불균형 데이터셋에 대한 웨이퍼 불량식별을 위한 CNN\n",
    "- 데이터 전처리\n",
    "    - Data Augmentaion\n",
    "    - 불량 클래스\n",
    "        - Center\n",
    "        - Donut\n",
    "        - Local\n",
    "        - Edge-Loc\n",
    "        - Edge-Ring\n",
    "        - Scratch\n",
    "        - Random\n",
    "        - Near-Full\n",
    "        - None"
   ]
  },
  {
   "cell_type": "markdown",
   "id": "abdc0972",
   "metadata": {},
   "source": [
    "### 데이터 확인사항\n",
    "- waferMap 사이즈를 확인하여 추후 개발할 신경망 모델의 224x224 사이즈에 맞게 resizing 작업이 필요할 것으로 예상됨\n",
    "- augmentaion 작업과 resizing 작업이 한 번에 해결될 수 있도록 전처리하는 것이 좋을 듯"
   ]
  },
  {
   "cell_type": "code",
   "execution_count": 59,
   "id": "bd35dfd7",
   "metadata": {
    "execution": {
     "iopub.execute_input": "2022-04-09T17:55:25.947483Z",
     "iopub.status.busy": "2022-04-09T17:55:25.947483Z",
     "iopub.status.idle": "2022-04-09T17:55:25.960239Z",
     "shell.execute_reply": "2022-04-09T17:55:25.959488Z",
     "shell.execute_reply.started": "2022-04-09T17:55:25.947483Z"
    },
    "tags": []
   },
   "outputs": [],
   "source": [
    "import numpy as np\n",
    "import pandas as pd\n",
    "import cv2\n",
    "import matplotlib.pyplot as plt\n",
    "import random\n",
    "import pickle"
   ]
  },
  {
   "cell_type": "code",
   "execution_count": 2,
   "id": "abb8fb8c",
   "metadata": {
    "execution": {
     "iopub.execute_input": "2022-04-09T17:51:04.940621Z",
     "iopub.status.busy": "2022-04-09T17:51:04.940121Z",
     "iopub.status.idle": "2022-04-09T17:52:35.804734Z",
     "shell.execute_reply": "2022-04-09T17:52:35.803735Z",
     "shell.execute_reply.started": "2022-04-09T17:51:04.940621Z"
    }
   },
   "outputs": [],
   "source": [
    "wm811k = pd.read_pickle('./data/LSWMD.pkl')"
   ]
  },
  {
   "cell_type": "code",
   "execution_count": 3,
   "id": "13a85f59",
   "metadata": {
    "execution": {
     "iopub.execute_input": "2022-04-09T17:52:35.808270Z",
     "iopub.status.busy": "2022-04-09T17:52:35.807747Z",
     "iopub.status.idle": "2022-04-09T17:52:36.003500Z",
     "shell.execute_reply": "2022-04-09T17:52:36.003500Z",
     "shell.execute_reply.started": "2022-04-09T17:52:35.807747Z"
    }
   },
   "outputs": [
    {
     "data": {
      "text/html": [
       "<div>\n",
       "<style scoped>\n",
       "    .dataframe tbody tr th:only-of-type {\n",
       "        vertical-align: middle;\n",
       "    }\n",
       "\n",
       "    .dataframe tbody tr th {\n",
       "        vertical-align: top;\n",
       "    }\n",
       "\n",
       "    .dataframe thead th {\n",
       "        text-align: right;\n",
       "    }\n",
       "</style>\n",
       "<table border=\"1\" class=\"dataframe\">\n",
       "  <thead>\n",
       "    <tr style=\"text-align: right;\">\n",
       "      <th></th>\n",
       "      <th>waferMap</th>\n",
       "      <th>dieSize</th>\n",
       "      <th>lotName</th>\n",
       "      <th>waferIndex</th>\n",
       "      <th>trianTestLabel</th>\n",
       "      <th>failureType</th>\n",
       "    </tr>\n",
       "  </thead>\n",
       "  <tbody>\n",
       "    <tr>\n",
       "      <th>0</th>\n",
       "      <td>[[0, 0, 0, 0, 0, 0, 0, 0, 0, 0, 0, 0, 0, 0, 0,...</td>\n",
       "      <td>1683.0</td>\n",
       "      <td>lot1</td>\n",
       "      <td>1.0</td>\n",
       "      <td>[[Training]]</td>\n",
       "      <td>[[none]]</td>\n",
       "    </tr>\n",
       "    <tr>\n",
       "      <th>1</th>\n",
       "      <td>[[0, 0, 0, 0, 0, 0, 0, 0, 0, 0, 0, 0, 0, 0, 0,...</td>\n",
       "      <td>1683.0</td>\n",
       "      <td>lot1</td>\n",
       "      <td>2.0</td>\n",
       "      <td>[[Training]]</td>\n",
       "      <td>[[none]]</td>\n",
       "    </tr>\n",
       "    <tr>\n",
       "      <th>2</th>\n",
       "      <td>[[0, 0, 0, 0, 0, 0, 0, 0, 0, 0, 0, 0, 0, 0, 0,...</td>\n",
       "      <td>1683.0</td>\n",
       "      <td>lot1</td>\n",
       "      <td>3.0</td>\n",
       "      <td>[[Training]]</td>\n",
       "      <td>[[none]]</td>\n",
       "    </tr>\n",
       "    <tr>\n",
       "      <th>3</th>\n",
       "      <td>[[0, 0, 0, 0, 0, 0, 0, 0, 0, 0, 0, 0, 0, 0, 0,...</td>\n",
       "      <td>1683.0</td>\n",
       "      <td>lot1</td>\n",
       "      <td>4.0</td>\n",
       "      <td>[[Training]]</td>\n",
       "      <td>[[none]]</td>\n",
       "    </tr>\n",
       "    <tr>\n",
       "      <th>4</th>\n",
       "      <td>[[0, 0, 0, 0, 0, 0, 0, 0, 0, 0, 0, 0, 0, 0, 0,...</td>\n",
       "      <td>1683.0</td>\n",
       "      <td>lot1</td>\n",
       "      <td>5.0</td>\n",
       "      <td>[[Training]]</td>\n",
       "      <td>[[none]]</td>\n",
       "    </tr>\n",
       "  </tbody>\n",
       "</table>\n",
       "</div>"
      ],
      "text/plain": [
       "                                            waferMap  dieSize lotName  \\\n",
       "0  [[0, 0, 0, 0, 0, 0, 0, 0, 0, 0, 0, 0, 0, 0, 0,...   1683.0    lot1   \n",
       "1  [[0, 0, 0, 0, 0, 0, 0, 0, 0, 0, 0, 0, 0, 0, 0,...   1683.0    lot1   \n",
       "2  [[0, 0, 0, 0, 0, 0, 0, 0, 0, 0, 0, 0, 0, 0, 0,...   1683.0    lot1   \n",
       "3  [[0, 0, 0, 0, 0, 0, 0, 0, 0, 0, 0, 0, 0, 0, 0,...   1683.0    lot1   \n",
       "4  [[0, 0, 0, 0, 0, 0, 0, 0, 0, 0, 0, 0, 0, 0, 0,...   1683.0    lot1   \n",
       "\n",
       "   waferIndex trianTestLabel failureType  \n",
       "0         1.0   [[Training]]    [[none]]  \n",
       "1         2.0   [[Training]]    [[none]]  \n",
       "2         3.0   [[Training]]    [[none]]  \n",
       "3         4.0   [[Training]]    [[none]]  \n",
       "4         5.0   [[Training]]    [[none]]  "
      ]
     },
     "execution_count": 3,
     "metadata": {},
     "output_type": "execute_result"
    }
   ],
   "source": [
    "wm811k.head()"
   ]
  },
  {
   "cell_type": "code",
   "execution_count": 4,
   "id": "cb17c96c",
   "metadata": {
    "execution": {
     "iopub.execute_input": "2022-04-09T17:52:36.004634Z",
     "iopub.status.busy": "2022-04-09T17:52:36.004634Z",
     "iopub.status.idle": "2022-04-09T17:52:36.246727Z",
     "shell.execute_reply": "2022-04-09T17:52:36.246395Z",
     "shell.execute_reply.started": "2022-04-09T17:52:36.004634Z"
    }
   },
   "outputs": [
    {
     "name": "stdout",
     "output_type": "stream",
     "text": [
      "<class 'pandas.core.frame.DataFrame'>\n",
      "RangeIndex: 811457 entries, 0 to 811456\n",
      "Data columns (total 6 columns):\n",
      " #   Column          Non-Null Count   Dtype  \n",
      "---  ------          --------------   -----  \n",
      " 0   waferMap        811457 non-null  object \n",
      " 1   dieSize         811457 non-null  float64\n",
      " 2   lotName         811457 non-null  object \n",
      " 3   waferIndex      811457 non-null  float64\n",
      " 4   trianTestLabel  811457 non-null  object \n",
      " 5   failureType     811457 non-null  object \n",
      "dtypes: float64(2), object(4)\n",
      "memory usage: 37.1+ MB\n"
     ]
    }
   ],
   "source": [
    "wm811k.info()"
   ]
  },
  {
   "cell_type": "code",
   "execution_count": 5,
   "id": "a6197e2a",
   "metadata": {
    "execution": {
     "iopub.execute_input": "2022-04-09T17:52:36.247807Z",
     "iopub.status.busy": "2022-04-09T17:52:36.247807Z",
     "iopub.status.idle": "2022-04-09T17:52:36.645027Z",
     "shell.execute_reply": "2022-04-09T17:52:36.644009Z",
     "shell.execute_reply.started": "2022-04-09T17:52:36.247807Z"
    }
   },
   "outputs": [
    {
     "data": {
      "text/html": [
       "<div>\n",
       "<style scoped>\n",
       "    .dataframe tbody tr th:only-of-type {\n",
       "        vertical-align: middle;\n",
       "    }\n",
       "\n",
       "    .dataframe tbody tr th {\n",
       "        vertical-align: top;\n",
       "    }\n",
       "\n",
       "    .dataframe thead th {\n",
       "        text-align: right;\n",
       "    }\n",
       "</style>\n",
       "<table border=\"1\" class=\"dataframe\">\n",
       "  <thead>\n",
       "    <tr style=\"text-align: right;\">\n",
       "      <th></th>\n",
       "      <th>waferMap</th>\n",
       "      <th>dieSize</th>\n",
       "      <th>lotName</th>\n",
       "      <th>trianTestLabel</th>\n",
       "      <th>failureType</th>\n",
       "    </tr>\n",
       "  </thead>\n",
       "  <tbody>\n",
       "    <tr>\n",
       "      <th>0</th>\n",
       "      <td>[[0, 0, 0, 0, 0, 0, 0, 0, 0, 0, 0, 0, 0, 0, 0,...</td>\n",
       "      <td>1683.0</td>\n",
       "      <td>lot1</td>\n",
       "      <td>[[Training]]</td>\n",
       "      <td>[[none]]</td>\n",
       "    </tr>\n",
       "    <tr>\n",
       "      <th>1</th>\n",
       "      <td>[[0, 0, 0, 0, 0, 0, 0, 0, 0, 0, 0, 0, 0, 0, 0,...</td>\n",
       "      <td>1683.0</td>\n",
       "      <td>lot1</td>\n",
       "      <td>[[Training]]</td>\n",
       "      <td>[[none]]</td>\n",
       "    </tr>\n",
       "    <tr>\n",
       "      <th>2</th>\n",
       "      <td>[[0, 0, 0, 0, 0, 0, 0, 0, 0, 0, 0, 0, 0, 0, 0,...</td>\n",
       "      <td>1683.0</td>\n",
       "      <td>lot1</td>\n",
       "      <td>[[Training]]</td>\n",
       "      <td>[[none]]</td>\n",
       "    </tr>\n",
       "    <tr>\n",
       "      <th>3</th>\n",
       "      <td>[[0, 0, 0, 0, 0, 0, 0, 0, 0, 0, 0, 0, 0, 0, 0,...</td>\n",
       "      <td>1683.0</td>\n",
       "      <td>lot1</td>\n",
       "      <td>[[Training]]</td>\n",
       "      <td>[[none]]</td>\n",
       "    </tr>\n",
       "    <tr>\n",
       "      <th>4</th>\n",
       "      <td>[[0, 0, 0, 0, 0, 0, 0, 0, 0, 0, 0, 0, 0, 0, 0,...</td>\n",
       "      <td>1683.0</td>\n",
       "      <td>lot1</td>\n",
       "      <td>[[Training]]</td>\n",
       "      <td>[[none]]</td>\n",
       "    </tr>\n",
       "  </tbody>\n",
       "</table>\n",
       "</div>"
      ],
      "text/plain": [
       "                                            waferMap  dieSize lotName  \\\n",
       "0  [[0, 0, 0, 0, 0, 0, 0, 0, 0, 0, 0, 0, 0, 0, 0,...   1683.0    lot1   \n",
       "1  [[0, 0, 0, 0, 0, 0, 0, 0, 0, 0, 0, 0, 0, 0, 0,...   1683.0    lot1   \n",
       "2  [[0, 0, 0, 0, 0, 0, 0, 0, 0, 0, 0, 0, 0, 0, 0,...   1683.0    lot1   \n",
       "3  [[0, 0, 0, 0, 0, 0, 0, 0, 0, 0, 0, 0, 0, 0, 0,...   1683.0    lot1   \n",
       "4  [[0, 0, 0, 0, 0, 0, 0, 0, 0, 0, 0, 0, 0, 0, 0,...   1683.0    lot1   \n",
       "\n",
       "  trianTestLabel failureType  \n",
       "0   [[Training]]    [[none]]  \n",
       "1   [[Training]]    [[none]]  \n",
       "2   [[Training]]    [[none]]  \n",
       "3   [[Training]]    [[none]]  \n",
       "4   [[Training]]    [[none]]  "
      ]
     },
     "execution_count": 5,
     "metadata": {},
     "output_type": "execute_result"
    }
   ],
   "source": [
    "# 불필요 컬럼 제거\n",
    "wm811k = wm811k.drop(['waferIndex'], axis = 1)\n",
    "wm811k.head()"
   ]
  },
  {
   "cell_type": "code",
   "execution_count": 6,
   "id": "f38412f0",
   "metadata": {
    "execution": {
     "iopub.execute_input": "2022-04-09T17:52:36.645608Z",
     "iopub.status.busy": "2022-04-09T17:52:36.645608Z",
     "iopub.status.idle": "2022-04-09T17:52:36.659571Z",
     "shell.execute_reply": "2022-04-09T17:52:36.659070Z",
     "shell.execute_reply.started": "2022-04-09T17:52:36.645608Z"
    }
   },
   "outputs": [],
   "source": [
    "# wafermap size 확인 및 컬럼 추가\n",
    "def find_dim(x):\n",
    "    dim0=np.size(x,axis=0)\n",
    "    dim1=np.size(x,axis=1)\n",
    "    return dim0,dim1"
   ]
  },
  {
   "cell_type": "code",
   "execution_count": 7,
   "id": "7d76a16a",
   "metadata": {
    "execution": {
     "iopub.execute_input": "2022-04-09T17:52:36.660073Z",
     "iopub.status.busy": "2022-04-09T17:52:36.660073Z",
     "iopub.status.idle": "2022-04-09T17:52:39.275782Z",
     "shell.execute_reply": "2022-04-09T17:52:39.275282Z",
     "shell.execute_reply.started": "2022-04-09T17:52:36.660073Z"
    }
   },
   "outputs": [
    {
     "data": {
      "text/html": [
       "<div>\n",
       "<style scoped>\n",
       "    .dataframe tbody tr th:only-of-type {\n",
       "        vertical-align: middle;\n",
       "    }\n",
       "\n",
       "    .dataframe tbody tr th {\n",
       "        vertical-align: top;\n",
       "    }\n",
       "\n",
       "    .dataframe thead th {\n",
       "        text-align: right;\n",
       "    }\n",
       "</style>\n",
       "<table border=\"1\" class=\"dataframe\">\n",
       "  <thead>\n",
       "    <tr style=\"text-align: right;\">\n",
       "      <th></th>\n",
       "      <th>waferMap</th>\n",
       "      <th>dieSize</th>\n",
       "      <th>lotName</th>\n",
       "      <th>trianTestLabel</th>\n",
       "      <th>failureType</th>\n",
       "      <th>waferMapDim</th>\n",
       "    </tr>\n",
       "  </thead>\n",
       "  <tbody>\n",
       "    <tr>\n",
       "      <th>0</th>\n",
       "      <td>[[0, 0, 0, 0, 0, 0, 0, 0, 0, 0, 0, 0, 0, 0, 0,...</td>\n",
       "      <td>1683.0</td>\n",
       "      <td>lot1</td>\n",
       "      <td>[[Training]]</td>\n",
       "      <td>[[none]]</td>\n",
       "      <td>(45, 48)</td>\n",
       "    </tr>\n",
       "    <tr>\n",
       "      <th>1</th>\n",
       "      <td>[[0, 0, 0, 0, 0, 0, 0, 0, 0, 0, 0, 0, 0, 0, 0,...</td>\n",
       "      <td>1683.0</td>\n",
       "      <td>lot1</td>\n",
       "      <td>[[Training]]</td>\n",
       "      <td>[[none]]</td>\n",
       "      <td>(45, 48)</td>\n",
       "    </tr>\n",
       "    <tr>\n",
       "      <th>2</th>\n",
       "      <td>[[0, 0, 0, 0, 0, 0, 0, 0, 0, 0, 0, 0, 0, 0, 0,...</td>\n",
       "      <td>1683.0</td>\n",
       "      <td>lot1</td>\n",
       "      <td>[[Training]]</td>\n",
       "      <td>[[none]]</td>\n",
       "      <td>(45, 48)</td>\n",
       "    </tr>\n",
       "    <tr>\n",
       "      <th>3</th>\n",
       "      <td>[[0, 0, 0, 0, 0, 0, 0, 0, 0, 0, 0, 0, 0, 0, 0,...</td>\n",
       "      <td>1683.0</td>\n",
       "      <td>lot1</td>\n",
       "      <td>[[Training]]</td>\n",
       "      <td>[[none]]</td>\n",
       "      <td>(45, 48)</td>\n",
       "    </tr>\n",
       "    <tr>\n",
       "      <th>4</th>\n",
       "      <td>[[0, 0, 0, 0, 0, 0, 0, 0, 0, 0, 0, 0, 0, 0, 0,...</td>\n",
       "      <td>1683.0</td>\n",
       "      <td>lot1</td>\n",
       "      <td>[[Training]]</td>\n",
       "      <td>[[none]]</td>\n",
       "      <td>(45, 48)</td>\n",
       "    </tr>\n",
       "  </tbody>\n",
       "</table>\n",
       "</div>"
      ],
      "text/plain": [
       "                                            waferMap  dieSize lotName  \\\n",
       "0  [[0, 0, 0, 0, 0, 0, 0, 0, 0, 0, 0, 0, 0, 0, 0,...   1683.0    lot1   \n",
       "1  [[0, 0, 0, 0, 0, 0, 0, 0, 0, 0, 0, 0, 0, 0, 0,...   1683.0    lot1   \n",
       "2  [[0, 0, 0, 0, 0, 0, 0, 0, 0, 0, 0, 0, 0, 0, 0,...   1683.0    lot1   \n",
       "3  [[0, 0, 0, 0, 0, 0, 0, 0, 0, 0, 0, 0, 0, 0, 0,...   1683.0    lot1   \n",
       "4  [[0, 0, 0, 0, 0, 0, 0, 0, 0, 0, 0, 0, 0, 0, 0,...   1683.0    lot1   \n",
       "\n",
       "  trianTestLabel failureType waferMapDim  \n",
       "0   [[Training]]    [[none]]    (45, 48)  \n",
       "1   [[Training]]    [[none]]    (45, 48)  \n",
       "2   [[Training]]    [[none]]    (45, 48)  \n",
       "3   [[Training]]    [[none]]    (45, 48)  \n",
       "4   [[Training]]    [[none]]    (45, 48)  "
      ]
     },
     "execution_count": 7,
     "metadata": {},
     "output_type": "execute_result"
    }
   ],
   "source": [
    "wm811k['waferMapDim']=wm811k['waferMap'].apply(find_dim)\n",
    "wm811k.head()"
   ]
  },
  {
   "cell_type": "code",
   "execution_count": 8,
   "id": "327f93e1",
   "metadata": {
    "execution": {
     "iopub.execute_input": "2022-04-09T17:52:39.277249Z",
     "iopub.status.busy": "2022-04-09T17:52:39.276975Z",
     "iopub.status.idle": "2022-04-09T17:53:06.891607Z",
     "shell.execute_reply": "2022-04-09T17:53:06.890497Z",
     "shell.execute_reply.started": "2022-04-09T17:52:39.277249Z"
    }
   },
   "outputs": [
    {
     "name": "stderr",
     "output_type": "stream",
     "text": [
      "C:\\Users\\kjt\\Anaconda3\\envs\\dlit\\lib\\site-packages\\pandas\\core\\array_algos\\replace.py:60: FutureWarning: elementwise comparison failed; returning scalar instead, but in the future will perform elementwise comparison\n",
      "  op = lambda x: operator.eq(x, b)\n"
     ]
    },
    {
     "data": {
      "text/html": [
       "<div>\n",
       "<style scoped>\n",
       "    .dataframe tbody tr th:only-of-type {\n",
       "        vertical-align: middle;\n",
       "    }\n",
       "\n",
       "    .dataframe tbody tr th {\n",
       "        vertical-align: top;\n",
       "    }\n",
       "\n",
       "    .dataframe thead th {\n",
       "        text-align: right;\n",
       "    }\n",
       "</style>\n",
       "<table border=\"1\" class=\"dataframe\">\n",
       "  <thead>\n",
       "    <tr style=\"text-align: right;\">\n",
       "      <th></th>\n",
       "      <th>waferMap</th>\n",
       "      <th>dieSize</th>\n",
       "      <th>lotName</th>\n",
       "      <th>trianTestLabel</th>\n",
       "      <th>failureType</th>\n",
       "      <th>waferMapDim</th>\n",
       "      <th>failureNum</th>\n",
       "      <th>trainTestNum</th>\n",
       "    </tr>\n",
       "  </thead>\n",
       "  <tbody>\n",
       "    <tr>\n",
       "      <th>0</th>\n",
       "      <td>[[0, 0, 0, 0, 0, 0, 0, 0, 0, 0, 0, 0, 0, 0, 0,...</td>\n",
       "      <td>1683.0</td>\n",
       "      <td>lot1</td>\n",
       "      <td>[[Training]]</td>\n",
       "      <td>[[none]]</td>\n",
       "      <td>(45, 48)</td>\n",
       "      <td>8</td>\n",
       "      <td>0</td>\n",
       "    </tr>\n",
       "    <tr>\n",
       "      <th>1</th>\n",
       "      <td>[[0, 0, 0, 0, 0, 0, 0, 0, 0, 0, 0, 0, 0, 0, 0,...</td>\n",
       "      <td>1683.0</td>\n",
       "      <td>lot1</td>\n",
       "      <td>[[Training]]</td>\n",
       "      <td>[[none]]</td>\n",
       "      <td>(45, 48)</td>\n",
       "      <td>8</td>\n",
       "      <td>0</td>\n",
       "    </tr>\n",
       "    <tr>\n",
       "      <th>2</th>\n",
       "      <td>[[0, 0, 0, 0, 0, 0, 0, 0, 0, 0, 0, 0, 0, 0, 0,...</td>\n",
       "      <td>1683.0</td>\n",
       "      <td>lot1</td>\n",
       "      <td>[[Training]]</td>\n",
       "      <td>[[none]]</td>\n",
       "      <td>(45, 48)</td>\n",
       "      <td>8</td>\n",
       "      <td>0</td>\n",
       "    </tr>\n",
       "    <tr>\n",
       "      <th>3</th>\n",
       "      <td>[[0, 0, 0, 0, 0, 0, 0, 0, 0, 0, 0, 0, 0, 0, 0,...</td>\n",
       "      <td>1683.0</td>\n",
       "      <td>lot1</td>\n",
       "      <td>[[Training]]</td>\n",
       "      <td>[[none]]</td>\n",
       "      <td>(45, 48)</td>\n",
       "      <td>8</td>\n",
       "      <td>0</td>\n",
       "    </tr>\n",
       "    <tr>\n",
       "      <th>4</th>\n",
       "      <td>[[0, 0, 0, 0, 0, 0, 0, 0, 0, 0, 0, 0, 0, 0, 0,...</td>\n",
       "      <td>1683.0</td>\n",
       "      <td>lot1</td>\n",
       "      <td>[[Training]]</td>\n",
       "      <td>[[none]]</td>\n",
       "      <td>(45, 48)</td>\n",
       "      <td>8</td>\n",
       "      <td>0</td>\n",
       "    </tr>\n",
       "  </tbody>\n",
       "</table>\n",
       "</div>"
      ],
      "text/plain": [
       "                                            waferMap  dieSize lotName  \\\n",
       "0  [[0, 0, 0, 0, 0, 0, 0, 0, 0, 0, 0, 0, 0, 0, 0,...   1683.0    lot1   \n",
       "1  [[0, 0, 0, 0, 0, 0, 0, 0, 0, 0, 0, 0, 0, 0, 0,...   1683.0    lot1   \n",
       "2  [[0, 0, 0, 0, 0, 0, 0, 0, 0, 0, 0, 0, 0, 0, 0,...   1683.0    lot1   \n",
       "3  [[0, 0, 0, 0, 0, 0, 0, 0, 0, 0, 0, 0, 0, 0, 0,...   1683.0    lot1   \n",
       "4  [[0, 0, 0, 0, 0, 0, 0, 0, 0, 0, 0, 0, 0, 0, 0,...   1683.0    lot1   \n",
       "\n",
       "  trianTestLabel failureType waferMapDim failureNum trainTestNum  \n",
       "0   [[Training]]    [[none]]    (45, 48)          8            0  \n",
       "1   [[Training]]    [[none]]    (45, 48)          8            0  \n",
       "2   [[Training]]    [[none]]    (45, 48)          8            0  \n",
       "3   [[Training]]    [[none]]    (45, 48)          8            0  \n",
       "4   [[Training]]    [[none]]    (45, 48)          8            0  "
      ]
     },
     "execution_count": 8,
     "metadata": {},
     "output_type": "execute_result"
    }
   ],
   "source": [
    "# 불량 클래스 확인 및 학습/검증/테스트 데이터 셋 확인\n",
    "wm811k['failureNum']=wm811k['failureType']\n",
    "wm811k['trainTestNum']=wm811k['trianTestLabel']\n",
    "mapping_type={'Center':0,'Donut':1,'Edge-Loc':2,'Edge-Ring':3,'Loc':4,'Random':5,'Scratch':6,'Near-full':7,'none':8}\n",
    "mapping_traintest={'Training':0,'Test':1}\n",
    "wm811k=wm811k.replace({'failureNum':mapping_type, 'trainTestNum':mapping_traintest})\n",
    "wm811k.head()"
   ]
  },
  {
   "cell_type": "code",
   "execution_count": 9,
   "id": "3442fd69",
   "metadata": {
    "execution": {
     "iopub.execute_input": "2022-04-09T17:53:06.893613Z",
     "iopub.status.busy": "2022-04-09T17:53:06.893613Z",
     "iopub.status.idle": "2022-04-09T17:53:15.242098Z",
     "shell.execute_reply": "2022-04-09T17:53:15.240993Z",
     "shell.execute_reply.started": "2022-04-09T17:53:06.893613Z"
    }
   },
   "outputs": [
    {
     "data": {
      "text/plain": [
       "[]                638507\n",
       "[['Test']]        118595\n",
       "[['Training']]     54355\n",
       "Name: trianTestLabel, dtype: int64"
      ]
     },
     "execution_count": 9,
     "metadata": {},
     "output_type": "execute_result"
    }
   ],
   "source": [
    "wm811k['trianTestLabel'].apply(lambda x: str(x)).value_counts()"
   ]
  },
  {
   "cell_type": "code",
   "execution_count": 10,
   "id": "d0478010",
   "metadata": {
    "execution": {
     "iopub.execute_input": "2022-04-09T17:53:15.243783Z",
     "iopub.status.busy": "2022-04-09T17:53:15.243290Z",
     "iopub.status.idle": "2022-04-09T17:53:19.033822Z",
     "shell.execute_reply": "2022-04-09T17:53:19.033322Z",
     "shell.execute_reply.started": "2022-04-09T17:53:15.243783Z"
    }
   },
   "outputs": [
    {
     "data": {
      "text/plain": [
       "[]    638507\n",
       "1     118595\n",
       "0      54355\n",
       "Name: trainTestNum, dtype: int64"
      ]
     },
     "execution_count": 10,
     "metadata": {},
     "output_type": "execute_result"
    }
   ],
   "source": [
    "wm811k['trainTestNum'].apply(lambda x: str(x)).value_counts()"
   ]
  },
  {
   "cell_type": "code",
   "execution_count": 11,
   "id": "5e4a091a",
   "metadata": {
    "execution": {
     "iopub.execute_input": "2022-04-09T17:53:19.035394Z",
     "iopub.status.busy": "2022-04-09T17:53:19.034938Z",
     "iopub.status.idle": "2022-04-09T17:53:22.379992Z",
     "shell.execute_reply": "2022-04-09T17:53:22.378988Z",
     "shell.execute_reply.started": "2022-04-09T17:53:19.034938Z"
    }
   },
   "outputs": [],
   "source": [
    "wm811k_train = wm811k.query(\"trainTestNum == 0\")"
   ]
  },
  {
   "cell_type": "code",
   "execution_count": 12,
   "id": "18d04010",
   "metadata": {
    "execution": {
     "iopub.execute_input": "2022-04-09T17:53:22.382992Z",
     "iopub.status.busy": "2022-04-09T17:53:22.382992Z",
     "iopub.status.idle": "2022-04-09T17:53:22.440422Z",
     "shell.execute_reply": "2022-04-09T17:53:22.439306Z",
     "shell.execute_reply.started": "2022-04-09T17:53:22.382992Z"
    }
   },
   "outputs": [
    {
     "name": "stdout",
     "output_type": "stream",
     "text": [
      "<class 'pandas.core.frame.DataFrame'>\n",
      "Int64Index: 54355 entries, 0 to 791476\n",
      "Data columns (total 8 columns):\n",
      " #   Column          Non-Null Count  Dtype  \n",
      "---  ------          --------------  -----  \n",
      " 0   waferMap        54355 non-null  object \n",
      " 1   dieSize         54355 non-null  float64\n",
      " 2   lotName         54355 non-null  object \n",
      " 3   trianTestLabel  54355 non-null  object \n",
      " 4   failureType     54355 non-null  object \n",
      " 5   waferMapDim     54355 non-null  object \n",
      " 6   failureNum      54355 non-null  object \n",
      " 7   trainTestNum    54355 non-null  object \n",
      "dtypes: float64(1), object(7)\n",
      "memory usage: 3.7+ MB\n"
     ]
    }
   ],
   "source": [
    "wm811k_train.info()"
   ]
  },
  {
   "cell_type": "code",
   "execution_count": 13,
   "id": "59e9bf60",
   "metadata": {
    "execution": {
     "iopub.execute_input": "2022-04-09T17:53:22.441823Z",
     "iopub.status.busy": "2022-04-09T17:53:22.441419Z",
     "iopub.status.idle": "2022-04-09T17:53:22.470775Z",
     "shell.execute_reply": "2022-04-09T17:53:22.470275Z",
     "shell.execute_reply.started": "2022-04-09T17:53:22.441823Z"
    },
    "tags": []
   },
   "outputs": [
    {
     "data": {
      "text/plain": [
       "8    36730\n",
       "3     8554\n",
       "0     3462\n",
       "2     2417\n",
       "4     1620\n",
       "5      609\n",
       "6      500\n",
       "1      409\n",
       "7       54\n",
       "Name: failureNum, dtype: int64"
      ]
     },
     "execution_count": 13,
     "metadata": {},
     "output_type": "execute_result"
    }
   ],
   "source": [
    "# 학습 데이터 내 불량 클래스 개수 확인\n",
    "wm811k_train['failureNum'].value_counts()"
   ]
  },
  {
   "cell_type": "markdown",
   "id": "b9591984",
   "metadata": {},
   "source": [
    "### waferMap size 확인\n",
    "- data print 결과 빈 부분은 0, 정상 pixel은 1, 불량 pixel은 2로 표현되어있는 듯\n",
    "    - input shape 맞출 때 0으로 padding 주듯이 채우면 될 듯\n",
    "- 예상 전처리 과정 : 기존 데이터에 data augmentaion 적용 $ \\rightarrow $ 변형 데이터에 224x224 size zero_padding $ \\rightarrow $ input data"
   ]
  },
  {
   "cell_type": "code",
   "execution_count": 14,
   "id": "6e1f5d6c",
   "metadata": {
    "execution": {
     "iopub.execute_input": "2022-04-09T17:53:22.471791Z",
     "iopub.status.busy": "2022-04-09T17:53:22.471791Z",
     "iopub.status.idle": "2022-04-09T17:53:22.485796Z",
     "shell.execute_reply": "2022-04-09T17:53:22.485617Z",
     "shell.execute_reply.started": "2022-04-09T17:53:22.471791Z"
    },
    "tags": []
   },
   "outputs": [],
   "source": [
    "# pd.set_option('display.max_columns', None)\n",
    "# pd.set_option('display.max_rows', None)"
   ]
  },
  {
   "cell_type": "code",
   "execution_count": 15,
   "id": "e7f6c1a5",
   "metadata": {
    "execution": {
     "iopub.execute_input": "2022-04-09T17:53:22.488807Z",
     "iopub.status.busy": "2022-04-09T17:53:22.487807Z",
     "iopub.status.idle": "2022-04-09T17:53:22.502044Z",
     "shell.execute_reply": "2022-04-09T17:53:22.500954Z",
     "shell.execute_reply.started": "2022-04-09T17:53:22.488807Z"
    },
    "tags": []
   },
   "outputs": [],
   "source": [
    "# 데이터 형태 출력\n",
    "# for i in range(len(wm811k.iloc[0]['waferMap'])):\n",
    "#     print(wm811k.iloc[0]['waferMap'][i])"
   ]
  },
  {
   "cell_type": "code",
   "execution_count": 16,
   "id": "a1f412b1",
   "metadata": {
    "execution": {
     "iopub.execute_input": "2022-04-09T17:53:22.503050Z",
     "iopub.status.busy": "2022-04-09T17:53:22.503050Z",
     "iopub.status.idle": "2022-04-09T17:53:22.530986Z",
     "shell.execute_reply": "2022-04-09T17:53:22.530485Z",
     "shell.execute_reply.started": "2022-04-09T17:53:22.503050Z"
    },
    "tags": []
   },
   "outputs": [
    {
     "data": {
      "text/plain": [
       "8    36730\n",
       "3     8554\n",
       "0     3462\n",
       "2     2417\n",
       "4     1620\n",
       "5      609\n",
       "6      500\n",
       "1      409\n",
       "7       54\n",
       "Name: failureNum, dtype: int64"
      ]
     },
     "execution_count": 16,
     "metadata": {},
     "output_type": "execute_result"
    }
   ],
   "source": [
    "# 학습 데이터 내 불량 클래스 개수 확인\n",
    "wm811k_train['failureNum'].value_counts()"
   ]
  },
  {
   "cell_type": "markdown",
   "id": "6c68f3ef",
   "metadata": {},
   "source": [
    "### Augmentation 구현\n",
    "- 기법 별로 함수 작성\n",
    "- 비율 개수만큼 sampling\n",
    "- sampling 데이터에 작성한 기법별 함수 적용\n",
    "- waferMapDim 확인 / waferMap 이미지 부분 잘리거나 한 부분 없게끔 적용되게 확인 : 미리 padding 주기?\n",
    "- data concat"
   ]
  },
  {
   "cell_type": "markdown",
   "id": "60da6fa7",
   "metadata": {},
   "source": [
    "- 10도 회전\n",
    "    - 참고 : https://076923.github.io/posts/Python-opencv-6/"
   ]
  },
  {
   "cell_type": "code",
   "execution_count": 17,
   "id": "2aa6da02",
   "metadata": {
    "execution": {
     "iopub.execute_input": "2022-04-09T17:53:22.532008Z",
     "iopub.status.busy": "2022-04-09T17:53:22.532008Z",
     "iopub.status.idle": "2022-04-09T17:53:22.546565Z",
     "shell.execute_reply": "2022-04-09T17:53:22.546065Z",
     "shell.execute_reply.started": "2022-04-09T17:53:22.532008Z"
    }
   },
   "outputs": [],
   "source": [
    "def test_rotation_10_degree(data_img):\n",
    "    height, width = data_img.shape\n",
    "    # positive for anti-clockwise and negative for clockwise\n",
    "    rotation_10_degree_img = cv2.getRotationMatrix2D((width/2, height/2), 10, 1) # 중심점, 각도, 배율\n",
    "    dst = cv2.warpAffine(data_img, rotation_10_degree_img, (width,height))\n",
    "    return dst"
   ]
  },
  {
   "cell_type": "code",
   "execution_count": 18,
   "id": "cddb559f",
   "metadata": {
    "execution": {
     "iopub.execute_input": "2022-04-09T17:53:22.547591Z",
     "iopub.status.busy": "2022-04-09T17:53:22.547591Z",
     "iopub.status.idle": "2022-04-09T17:53:22.562267Z",
     "shell.execute_reply": "2022-04-09T17:53:22.561267Z",
     "shell.execute_reply.started": "2022-04-09T17:53:22.547591Z"
    }
   },
   "outputs": [],
   "source": [
    "def test_rotation_minus_10_degree(data_img):\n",
    "    height, width = data_img.shape\n",
    "    # positive for anti-clockwise and negative for clockwise\n",
    "    rotation_10_degree_img = cv2.getRotationMatrix2D((width/2, height/2), -10, 1) # 중심점, 각도, 배율\n",
    "    dst = cv2.warpAffine(data_img, rotation_10_degree_img, (width,height))\n",
    "    return dst"
   ]
  },
  {
   "cell_type": "code",
   "execution_count": 19,
   "id": "365c2b0a",
   "metadata": {
    "execution": {
     "iopub.execute_input": "2022-04-09T17:53:22.563280Z",
     "iopub.status.busy": "2022-04-09T17:53:22.563280Z",
     "iopub.status.idle": "2022-04-09T17:53:22.577159Z",
     "shell.execute_reply": "2022-04-09T17:53:22.576740Z",
     "shell.execute_reply.started": "2022-04-09T17:53:22.563280Z"
    }
   },
   "outputs": [],
   "source": [
    "# 회전 변환 다른 라이브러리 활용하는 방법 참고\n",
    "# from scipy.ndimage.interpolation import rotate\n",
    "# rotated = rotate(test_wafermap.iloc[3][\"waferMap\"], angle=10,reshape=False)\n",
    "# plt.imshow(rotated)\n",
    "# plt.show()"
   ]
  },
  {
   "cell_type": "markdown",
   "id": "8262f3d6",
   "metadata": {},
   "source": [
    "- 좌우 대칭 및 너비 이동(horizontal flipping and width shift)\n",
    "    - cv2.flip : https://crmn.tistory.com/54\n",
    "        - flip_img = cv2.flip(data_img, 1) # 1:좌우반전, 0:상하반전 \n",
    "    - translate : https://m.blog.naver.com/PostView.naver?isHttpsRedirect=true&blogId=vps32&logNo=221762189533\n",
    "        - width shift\n",
    "        - height shift"
   ]
  },
  {
   "cell_type": "code",
   "execution_count": 20,
   "id": "a8ec4e3a",
   "metadata": {
    "execution": {
     "iopub.execute_input": "2022-04-09T17:53:22.580175Z",
     "iopub.status.busy": "2022-04-09T17:53:22.579175Z",
     "iopub.status.idle": "2022-04-09T17:53:22.593024Z",
     "shell.execute_reply": "2022-04-09T17:53:22.592531Z",
     "shell.execute_reply.started": "2022-04-09T17:53:22.580175Z"
    }
   },
   "outputs": [],
   "source": [
    "def test_translate(data_img):\n",
    "    height, width = data_img.shape\n",
    "    # random ~ 범위 지정하여 함수 실행 시 마다 무작위로 평행이동 정도 부여하게끔 수정 필요\n",
    "    # 224x224 size 안에서 이동하도록 코딩 필요\n",
    "    translate_matrix = np.float32([[1,0,10], [0,1,5]]) # 세로 10, 가로 5 만큼 평행 이동 \n",
    "    dst = cv2.warpAffine(data_img, translate_matrix, (width,height))\n",
    "    return dst"
   ]
  },
  {
   "cell_type": "markdown",
   "id": "450382fc",
   "metadata": {},
   "source": [
    "- 전단 범위(shearing range)\n",
    "    - https://www.thepythoncode.com/article/image-transformations-using-opencv-in-python\n",
    "    - https://stackoverflow.com/questions/57881430/how-could-i-implement-a-centered-shear-an-image-with-opencv"
   ]
  },
  {
   "cell_type": "code",
   "execution_count": 21,
   "id": "21a8ce08",
   "metadata": {
    "execution": {
     "iopub.execute_input": "2022-04-09T17:53:22.594035Z",
     "iopub.status.busy": "2022-04-09T17:53:22.594035Z",
     "iopub.status.idle": "2022-04-09T17:53:22.609977Z",
     "shell.execute_reply": "2022-04-09T17:53:22.607958Z",
     "shell.execute_reply.started": "2022-04-09T17:53:22.594035Z"
    }
   },
   "outputs": [],
   "source": [
    "def test_shearing(data_img):\n",
    "    height, width = data_img.shape\n",
    "    # random ~ 범위 지정하여 함수 실행 시 마다 x축, y축 shearing 정도 부여하게끔 수정 필요\n",
    "    shearing_matrix = np.float32([[1, 0.5, 0],    # shearing applied to y-axis\n",
    "             \t                  [0, 1  , 0],    # M = np.float32([[1,   0, 0],\n",
    "            \t                  [0, 0  , 1]])   #             \t[0.5, 1, 0],\n",
    "                                                  #             \t[0,   0, 1]])  \n",
    "    # apply a perspective transformation to the image                \n",
    "    dst = cv2.warpPerspective(data_img, shearing_matrix, (int(width*1.5),int(height*1.5)))                      \n",
    "    # 변형 이미지 중심 보정?\n",
    "    return dst"
   ]
  },
  {
   "cell_type": "markdown",
   "id": "1ddcd4e1",
   "metadata": {},
   "source": [
    "- 채널이동 및 확대 축소(channel shift and zooming)\n",
    "    - 단일 채널 이미지라 channel shift는 적용 안 될 것 같음\n",
    "    - zoom : https://076923.github.io/posts/Python-opencv-7/\n",
    "    - cv2.resize 함수 참고\n",
    "        - 참고 : https://seokii.tistory.com/14"
   ]
  },
  {
   "cell_type": "code",
   "execution_count": 22,
   "id": "cd649c45",
   "metadata": {
    "execution": {
     "iopub.execute_input": "2022-04-09T17:53:22.611975Z",
     "iopub.status.busy": "2022-04-09T17:53:22.611975Z",
     "iopub.status.idle": "2022-04-09T17:53:22.625341Z",
     "shell.execute_reply": "2022-04-09T17:53:22.623814Z",
     "shell.execute_reply.started": "2022-04-09T17:53:22.611975Z"
    }
   },
   "outputs": [],
   "source": [
    "def test_zoom(data_img):\n",
    "    height, width = data_img.shape\n",
    "    # 2배 확대 이미지 / 가로 세로 값이 조건에 맞으면 dstsize로 값 부여하여 세밀 조정 가능\n",
    "    # 224x224 size 안에서 2배 확대 가능하도록 코딩 필요\n",
    "    dst = cv2.pyrUp(data_img, dstsize=(width * 2, height * 2), borderType=cv2.BORDER_DEFAULT)\n",
    "    return dst"
   ]
  },
  {
   "cell_type": "markdown",
   "id": "29005956",
   "metadata": {},
   "source": [
    "- test"
   ]
  },
  {
   "cell_type": "code",
   "execution_count": 23,
   "id": "3664bb87",
   "metadata": {
    "execution": {
     "iopub.execute_input": "2022-04-09T17:53:22.627341Z",
     "iopub.status.busy": "2022-04-09T17:53:22.626341Z",
     "iopub.status.idle": "2022-04-09T17:53:22.640022Z",
     "shell.execute_reply": "2022-04-09T17:53:22.639525Z",
     "shell.execute_reply.started": "2022-04-09T17:53:22.627341Z"
    }
   },
   "outputs": [],
   "source": [
    "test_wafermap = wm811k_train.query(\"failureNum == 6\").sample(n=5)"
   ]
  },
  {
   "cell_type": "code",
   "execution_count": 24,
   "id": "29f2b87a",
   "metadata": {
    "execution": {
     "iopub.execute_input": "2022-04-09T17:53:22.642422Z",
     "iopub.status.busy": "2022-04-09T17:53:22.641385Z",
     "iopub.status.idle": "2022-04-09T17:53:23.222295Z",
     "shell.execute_reply": "2022-04-09T17:53:23.221795Z",
     "shell.execute_reply.started": "2022-04-09T17:53:22.642422Z"
    }
   },
   "outputs": [
    {
     "data": {
      "text/html": [
       "<div>\n",
       "<style scoped>\n",
       "    .dataframe tbody tr th:only-of-type {\n",
       "        vertical-align: middle;\n",
       "    }\n",
       "\n",
       "    .dataframe tbody tr th {\n",
       "        vertical-align: top;\n",
       "    }\n",
       "\n",
       "    .dataframe thead th {\n",
       "        text-align: right;\n",
       "    }\n",
       "</style>\n",
       "<table border=\"1\" class=\"dataframe\">\n",
       "  <thead>\n",
       "    <tr style=\"text-align: right;\">\n",
       "      <th></th>\n",
       "      <th>waferMap</th>\n",
       "      <th>dieSize</th>\n",
       "      <th>lotName</th>\n",
       "      <th>trianTestLabel</th>\n",
       "      <th>failureType</th>\n",
       "      <th>waferMapDim</th>\n",
       "      <th>failureNum</th>\n",
       "      <th>trainTestNum</th>\n",
       "    </tr>\n",
       "  </thead>\n",
       "  <tbody>\n",
       "    <tr>\n",
       "      <th>262968</th>\n",
       "      <td>[[0, 0, 0, 0, 0, 0, 0, 0, 0, 0, 0, 0, 0, 0, 0,...</td>\n",
       "      <td>4811.0</td>\n",
       "      <td>lot16299</td>\n",
       "      <td>[[Training]]</td>\n",
       "      <td>[[Scratch]]</td>\n",
       "      <td>(87, 71)</td>\n",
       "      <td>6</td>\n",
       "      <td>0</td>\n",
       "    </tr>\n",
       "    <tr>\n",
       "      <th>389812</th>\n",
       "      <td>[[0, 0, 0, 0, 0, 0, 0, 0, 0, 0, 0, 0, 0, 0, 0,...</td>\n",
       "      <td>3878.0</td>\n",
       "      <td>lot23391</td>\n",
       "      <td>[[Training]]</td>\n",
       "      <td>[[Scratch]]</td>\n",
       "      <td>(88, 56)</td>\n",
       "      <td>6</td>\n",
       "      <td>0</td>\n",
       "    </tr>\n",
       "    <tr>\n",
       "      <th>366023</th>\n",
       "      <td>[[0, 0, 0, 0, 0, 0, 0, 0, 0, 0, 0, 0, 0, 0, 0,...</td>\n",
       "      <td>15545.0</td>\n",
       "      <td>lot21895</td>\n",
       "      <td>[[Training]]</td>\n",
       "      <td>[[Scratch]]</td>\n",
       "      <td>(135, 146)</td>\n",
       "      <td>6</td>\n",
       "      <td>0</td>\n",
       "    </tr>\n",
       "    <tr>\n",
       "      <th>13741</th>\n",
       "      <td>[[0, 0, 0, 0, 0, 0, 0, 0, 0, 0, 0, 0, 1, 2, 1,...</td>\n",
       "      <td>741.0</td>\n",
       "      <td>lot2137</td>\n",
       "      <td>[[Training]]</td>\n",
       "      <td>[[Scratch]]</td>\n",
       "      <td>(33, 29)</td>\n",
       "      <td>6</td>\n",
       "      <td>0</td>\n",
       "    </tr>\n",
       "    <tr>\n",
       "      <th>365027</th>\n",
       "      <td>[[0, 0, 0, 0, 0, 0, 0, 0, 0, 0, 0, 0, 0, 0, 0,...</td>\n",
       "      <td>1338.0</td>\n",
       "      <td>lot21853</td>\n",
       "      <td>[[Training]]</td>\n",
       "      <td>[[Scratch]]</td>\n",
       "      <td>(40, 43)</td>\n",
       "      <td>6</td>\n",
       "      <td>0</td>\n",
       "    </tr>\n",
       "  </tbody>\n",
       "</table>\n",
       "</div>"
      ],
      "text/plain": [
       "                                                 waferMap  dieSize   lotName  \\\n",
       "262968  [[0, 0, 0, 0, 0, 0, 0, 0, 0, 0, 0, 0, 0, 0, 0,...   4811.0  lot16299   \n",
       "389812  [[0, 0, 0, 0, 0, 0, 0, 0, 0, 0, 0, 0, 0, 0, 0,...   3878.0  lot23391   \n",
       "366023  [[0, 0, 0, 0, 0, 0, 0, 0, 0, 0, 0, 0, 0, 0, 0,...  15545.0  lot21895   \n",
       "13741   [[0, 0, 0, 0, 0, 0, 0, 0, 0, 0, 0, 0, 1, 2, 1,...    741.0   lot2137   \n",
       "365027  [[0, 0, 0, 0, 0, 0, 0, 0, 0, 0, 0, 0, 0, 0, 0,...   1338.0  lot21853   \n",
       "\n",
       "       trianTestLabel  failureType waferMapDim failureNum trainTestNum  \n",
       "262968   [[Training]]  [[Scratch]]    (87, 71)          6            0  \n",
       "389812   [[Training]]  [[Scratch]]    (88, 56)          6            0  \n",
       "366023   [[Training]]  [[Scratch]]  (135, 146)          6            0  \n",
       "13741    [[Training]]  [[Scratch]]    (33, 29)          6            0  \n",
       "365027   [[Training]]  [[Scratch]]    (40, 43)          6            0  "
      ]
     },
     "execution_count": 24,
     "metadata": {},
     "output_type": "execute_result"
    }
   ],
   "source": [
    "test_wafermap.head()"
   ]
  },
  {
   "cell_type": "code",
   "execution_count": 25,
   "id": "60daf2a2",
   "metadata": {
    "execution": {
     "iopub.execute_input": "2022-04-09T17:53:23.224296Z",
     "iopub.status.busy": "2022-04-09T17:53:23.223305Z",
     "iopub.status.idle": "2022-04-09T17:53:23.512620Z",
     "shell.execute_reply": "2022-04-09T17:53:23.512034Z",
     "shell.execute_reply.started": "2022-04-09T17:53:23.224296Z"
    }
   },
   "outputs": [
    {
     "data": {
      "image/png": "[encoded data removed]",
      "text/plain": [
       "<Figure size 432x288 with 1 Axes>"
      ]
     },
     "metadata": {
      "needs_background": "light"
     },
     "output_type": "display_data"
    }
   ],
   "source": [
    "test_img = test_wafermap.iloc[3][\"waferMap\"]\n",
    "plt.imshow(test_img)\n",
    "plt.show()"
   ]
  },
  {
   "cell_type": "code",
   "execution_count": 26,
   "id": "f81e8379",
   "metadata": {
    "execution": {
     "iopub.execute_input": "2022-04-09T17:53:23.513986Z",
     "iopub.status.busy": "2022-04-09T17:53:23.513986Z",
     "iopub.status.idle": "2022-04-09T17:53:23.679805Z",
     "shell.execute_reply": "2022-04-09T17:53:23.679167Z",
     "shell.execute_reply.started": "2022-04-09T17:53:23.513986Z"
    }
   },
   "outputs": [
    {
     "data": {
      "image/png": "[encoded data removed]",
      "text/plain": [
       "<Figure size 432x288 with 1 Axes>"
      ]
     },
     "metadata": {
      "needs_background": "light"
     },
     "output_type": "display_data"
    }
   ],
   "source": [
    "plt.imshow(test_rotation_10_degree(test_img))\n",
    "plt.show()"
   ]
  },
  {
   "cell_type": "code",
   "execution_count": 27,
   "id": "9c57b470",
   "metadata": {
    "execution": {
     "iopub.execute_input": "2022-04-09T17:53:23.682827Z",
     "iopub.status.busy": "2022-04-09T17:53:23.681830Z",
     "iopub.status.idle": "2022-04-09T17:53:23.847751Z",
     "shell.execute_reply": "2022-04-09T17:53:23.847232Z",
     "shell.execute_reply.started": "2022-04-09T17:53:23.682827Z"
    }
   },
   "outputs": [
    {
     "data": {
      "image/png": "[encoded data removed]",
      "text/plain": [
       "<Figure size 432x288 with 1 Axes>"
      ]
     },
     "metadata": {
      "needs_background": "light"
     },
     "output_type": "display_data"
    }
   ],
   "source": [
    "plt.imshow(test_rotation_minus_10_degree(test_img))\n",
    "plt.show()"
   ]
  },
  {
   "cell_type": "code",
   "execution_count": 28,
   "id": "0167ba18",
   "metadata": {
    "execution": {
     "iopub.execute_input": "2022-04-09T17:53:23.850554Z",
     "iopub.status.busy": "2022-04-09T17:53:23.849524Z",
     "iopub.status.idle": "2022-04-09T17:53:24.060492Z",
     "shell.execute_reply": "2022-04-09T17:53:24.059487Z",
     "shell.execute_reply.started": "2022-04-09T17:53:23.850554Z"
    }
   },
   "outputs": [
    {
     "data": {
      "image/png": "[encoded data removed]",
      "text/plain": [
       "<Figure size 432x288 with 1 Axes>"
      ]
     },
     "metadata": {
      "needs_background": "light"
     },
     "output_type": "display_data"
    }
   ],
   "source": [
    "plt.imshow(test_translate(test_img))\n",
    "plt.show()"
   ]
  },
  {
   "cell_type": "code",
   "execution_count": 29,
   "id": "4f456790",
   "metadata": {
    "execution": {
     "iopub.execute_input": "2022-04-09T17:53:24.061762Z",
     "iopub.status.busy": "2022-04-09T17:53:24.061267Z",
     "iopub.status.idle": "2022-04-09T17:53:24.183291Z",
     "shell.execute_reply": "2022-04-09T17:53:24.182613Z",
     "shell.execute_reply.started": "2022-04-09T17:53:24.061762Z"
    }
   },
   "outputs": [
    {
     "data": {
      "image/png": "[encoded data removed]",
      "text/plain": [
       "<Figure size 432x288 with 1 Axes>"
      ]
     },
     "metadata": {
      "needs_background": "light"
     },
     "output_type": "display_data"
    }
   ],
   "source": [
    "plt.imshow(test_shearing(test_img))\n",
    "plt.show()"
   ]
  },
  {
   "cell_type": "code",
   "execution_count": 30,
   "id": "3c6a0ab8",
   "metadata": {
    "execution": {
     "iopub.execute_input": "2022-04-09T17:53:24.184393Z",
     "iopub.status.busy": "2022-04-09T17:53:24.183291Z",
     "iopub.status.idle": "2022-04-09T17:53:24.337996Z",
     "shell.execute_reply": "2022-04-09T17:53:24.337272Z",
     "shell.execute_reply.started": "2022-04-09T17:53:24.184393Z"
    }
   },
   "outputs": [
    {
     "data": {
      "image/png": "[encoded data removed]",
      "text/plain": [
       "<Figure size 432x288 with 1 Axes>"
      ]
     },
     "metadata": {
      "needs_background": "light"
     },
     "output_type": "display_data"
    }
   ],
   "source": [
    "plt.imshow(test_zoom(test_img))\n",
    "plt.show()"
   ]
  },
  {
   "cell_type": "markdown",
   "id": "2ce48bc9",
   "metadata": {},
   "source": [
    "### Input size에 맞게 zero-padding\n",
    "- 참고 : https://webnautes.tistory.com/1652-"
   ]
  },
  {
   "cell_type": "code",
   "execution_count": 31,
   "id": "430407a0",
   "metadata": {
    "execution": {
     "iopub.execute_input": "2022-04-09T17:53:24.339183Z",
     "iopub.status.busy": "2022-04-09T17:53:24.338931Z",
     "iopub.status.idle": "2022-04-09T17:53:24.352958Z",
     "shell.execute_reply": "2022-04-09T17:53:24.352454Z",
     "shell.execute_reply.started": "2022-04-09T17:53:24.339183Z"
    }
   },
   "outputs": [],
   "source": [
    "def zero_padding(data_img, set_size):\n",
    "    height, width = data_img.shape\n",
    "    \n",
    "    if max(height, width) > set_size:\n",
    "        return data_img\n",
    "    \n",
    "    delta_width = set_size - width\n",
    "    delta_height = set_size - height\n",
    "    top, bottom = delta_height//2, delta_height-(delta_height//2)\n",
    "    left, right = delta_width//2, delta_width-(delta_width//2)\n",
    "    \n",
    "    padded_img = cv2.copyMakeBorder(data_img, top, bottom, left, right, cv2.BORDER_CONSTANT, value=[0,0,0])\n",
    "    return padded_img"
   ]
  },
  {
   "cell_type": "markdown",
   "id": "8647dceb",
   "metadata": {},
   "source": [
    "### pad 이후 전처리 / 전처리 이후 pad 비교"
   ]
  },
  {
   "cell_type": "code",
   "execution_count": 32,
   "id": "5469f1ff",
   "metadata": {
    "execution": {
     "iopub.execute_input": "2022-04-09T17:53:24.353457Z",
     "iopub.status.busy": "2022-04-09T17:53:24.353457Z",
     "iopub.status.idle": "2022-04-09T17:53:24.535862Z",
     "shell.execute_reply": "2022-04-09T17:53:24.535189Z",
     "shell.execute_reply.started": "2022-04-09T17:53:24.353457Z"
    }
   },
   "outputs": [
    {
     "data": {
      "image/png": "[encoded data removed]",
      "text/plain": [
       "<Figure size 432x288 with 1 Axes>"
      ]
     },
     "metadata": {
      "needs_background": "light"
     },
     "output_type": "display_data"
    }
   ],
   "source": [
    "# 원본\n",
    "test_origin = test_wafermap.iloc[2][\"waferMap\"]\n",
    "plt.imshow(test_origin)\n",
    "plt.show()"
   ]
  },
  {
   "cell_type": "code",
   "execution_count": 33,
   "id": "fd7e24cc",
   "metadata": {
    "execution": {
     "iopub.execute_input": "2022-04-09T17:53:24.536362Z",
     "iopub.status.busy": "2022-04-09T17:53:24.536362Z",
     "iopub.status.idle": "2022-04-09T17:53:24.673660Z",
     "shell.execute_reply": "2022-04-09T17:53:24.673160Z",
     "shell.execute_reply.started": "2022-04-09T17:53:24.536362Z"
    }
   },
   "outputs": [
    {
     "data": {
      "image/png": "[encoded data removed]",
      "text/plain": [
       "<Figure size 432x288 with 1 Axes>"
      ]
     },
     "metadata": {
      "needs_background": "light"
     },
     "output_type": "display_data"
    }
   ],
   "source": [
    "pad_origin = zero_padding(test_origin, 224)\n",
    "plt.imshow(pad_origin)\n",
    "plt.show()"
   ]
  },
  {
   "cell_type": "markdown",
   "id": "43c2a0b9",
   "metadata": {},
   "source": [
    "- 회전의 경우 pad 이후 회전과 회전 이후 pad 가 비슷해보임"
   ]
  },
  {
   "cell_type": "code",
   "execution_count": 34,
   "id": "0c3bfe3d",
   "metadata": {
    "execution": {
     "iopub.execute_input": "2022-04-09T17:53:24.674675Z",
     "iopub.status.busy": "2022-04-09T17:53:24.674675Z",
     "iopub.status.idle": "2022-04-09T17:53:25.144597Z",
     "shell.execute_reply": "2022-04-09T17:53:25.144096Z",
     "shell.execute_reply.started": "2022-04-09T17:53:24.674675Z"
    },
    "tags": []
   },
   "outputs": [
    {
     "data": {
      "image/png": "[encoded data removed]",
      "text/plain": [
       "<Figure size 432x288 with 1 Axes>"
      ]
     },
     "metadata": {
      "needs_background": "light"
     },
     "output_type": "display_data"
    },
    {
     "data": {
      "image/png": "[encoded data removed]",
      "text/plain": [
       "<Figure size 432x288 with 1 Axes>"
      ]
     },
     "metadata": {
      "needs_background": "light"
     },
     "output_type": "display_data"
    },
    {
     "data": {
      "image/png": "[encoded data removed]",
      "text/plain": [
       "<Figure size 432x288 with 1 Axes>"
      ]
     },
     "metadata": {
      "needs_background": "light"
     },
     "output_type": "display_data"
    }
   ],
   "source": [
    "# 10도 회전 : \n",
    "degree_10 = test_rotation_10_degree(test_origin)\n",
    "plt.imshow(degree_10)\n",
    "plt.show()\n",
    "\n",
    "pad_10_degree = zero_padding(degree_10, 224)\n",
    "plt.imshow(pad_10_degree)\n",
    "plt.show()\n",
    "\n",
    "degree_10_pad_origin = test_rotation_10_degree(pad_origin)\n",
    "plt.imshow(degree_10_pad_origin)\n",
    "plt.show()"
   ]
  },
  {
   "cell_type": "markdown",
   "id": "8c2e79ff",
   "metadata": {},
   "source": [
    "- 평행이동 : 이동 이후 wafer 모양이 잘리는 경우를 감안하면 pad 이후 이동하는 것이 나아보임"
   ]
  },
  {
   "cell_type": "code",
   "execution_count": 35,
   "id": "dea3f308",
   "metadata": {
    "execution": {
     "iopub.execute_input": "2022-04-09T17:53:25.146619Z",
     "iopub.status.busy": "2022-04-09T17:53:25.145620Z",
     "iopub.status.idle": "2022-04-09T17:53:25.646612Z",
     "shell.execute_reply": "2022-04-09T17:53:25.646112Z",
     "shell.execute_reply.started": "2022-04-09T17:53:25.146619Z"
    },
    "tags": []
   },
   "outputs": [
    {
     "data": {
      "image/png": "[encoded data removed]",
      "text/plain": [
       "<Figure size 432x288 with 1 Axes>"
      ]
     },
     "metadata": {
      "needs_background": "light"
     },
     "output_type": "display_data"
    },
    {
     "data": {
      "image/png": "[encoded data removed]",
      "text/plain": [
       "<Figure size 432x288 with 1 Axes>"
      ]
     },
     "metadata": {
      "needs_background": "light"
     },
     "output_type": "display_data"
    },
    {
     "data": {
      "image/png": "[encoded data removed]",
      "text/plain": [
       "<Figure size 432x288 with 1 Axes>"
      ]
     },
     "metadata": {
      "needs_background": "light"
     },
     "output_type": "display_data"
    }
   ],
   "source": [
    "translated =  test_translate(test_origin)\n",
    "plt.imshow(translated)\n",
    "plt.show()\n",
    "\n",
    "pad_translated = zero_padding(translated, 224)\n",
    "plt.imshow(pad_translated)\n",
    "plt.show()\n",
    "\n",
    "translate_pad_origin = test_translate(pad_origin)\n",
    "plt.imshow(translate_pad_origin)\n",
    "plt.show()"
   ]
  },
  {
   "cell_type": "code",
   "execution_count": 36,
   "id": "00236f09",
   "metadata": {
    "execution": {
     "iopub.execute_input": "2022-04-09T17:53:25.647113Z",
     "iopub.status.busy": "2022-04-09T17:53:25.647113Z",
     "iopub.status.idle": "2022-04-09T17:53:25.661715Z",
     "shell.execute_reply": "2022-04-09T17:53:25.661214Z",
     "shell.execute_reply.started": "2022-04-09T17:53:25.647113Z"
    },
    "tags": []
   },
   "outputs": [
    {
     "data": {
      "text/plain": [
       "(224, 224)"
      ]
     },
     "execution_count": 36,
     "metadata": {},
     "output_type": "execute_result"
    }
   ],
   "source": [
    "translate_pad_origin.shape"
   ]
  },
  {
   "cell_type": "markdown",
   "id": "ecbf14d2",
   "metadata": {},
   "source": [
    "- shearing : 잘리지 않을 범위 내에서 shearing 이후 pad 하는 것이 나을 듯\n",
    "    - shearing 정도에 따라 translate와 마찬가지로 wafer 모양이 잘릴 가능성이 있음\n",
    "    - pad 이후 shearing 시 shape이 변함"
   ]
  },
  {
   "cell_type": "code",
   "execution_count": 37,
   "id": "c9c1056b",
   "metadata": {
    "execution": {
     "iopub.execute_input": "2022-04-09T17:53:25.662730Z",
     "iopub.status.busy": "2022-04-09T17:53:25.662730Z",
     "iopub.status.idle": "2022-04-09T17:53:26.184582Z",
     "shell.execute_reply": "2022-04-09T17:53:26.183543Z",
     "shell.execute_reply.started": "2022-04-09T17:53:25.662730Z"
    },
    "tags": []
   },
   "outputs": [
    {
     "data": {
      "image/png": "[encoded data removed]",
      "text/plain": [
       "<Figure size 432x288 with 1 Axes>"
      ]
     },
     "metadata": {
      "needs_background": "light"
     },
     "output_type": "display_data"
    },
    {
     "data": {
      "image/png": "[encoded data removed]",
      "text/plain": [
       "<Figure size 432x288 with 1 Axes>"
      ]
     },
     "metadata": {
      "needs_background": "light"
     },
     "output_type": "display_data"
    },
    {
     "data": {
      "image/png": "[encoded data removed]",
      "text/plain": [
       "<Figure size 432x288 with 1 Axes>"
      ]
     },
     "metadata": {
      "needs_background": "light"
     },
     "output_type": "display_data"
    }
   ],
   "source": [
    "sheared = test_shearing(test_origin)\n",
    "plt.imshow(sheared)\n",
    "plt.show()\n",
    "\n",
    "pad_sheared = zero_padding(sheared, 224)\n",
    "plt.imshow(pad_sheared)\n",
    "plt.show()\n",
    "\n",
    "sheared_pad_origin = test_shearing(pad_origin)\n",
    "plt.imshow(sheared_pad_origin)\n",
    "plt.show()"
   ]
  },
  {
   "cell_type": "code",
   "execution_count": 38,
   "id": "60a984bc",
   "metadata": {
    "execution": {
     "iopub.execute_input": "2022-04-09T17:53:26.185696Z",
     "iopub.status.busy": "2022-04-09T17:53:26.185583Z",
     "iopub.status.idle": "2022-04-09T17:53:26.199039Z",
     "shell.execute_reply": "2022-04-09T17:53:26.198539Z",
     "shell.execute_reply.started": "2022-04-09T17:53:26.185696Z"
    },
    "tags": []
   },
   "outputs": [
    {
     "data": {
      "text/plain": [
       "(336, 336)"
      ]
     },
     "execution_count": 38,
     "metadata": {},
     "output_type": "execute_result"
    }
   ],
   "source": [
    "sheared_pad_origin.shape"
   ]
  },
  {
   "cell_type": "markdown",
   "id": "26ff7678",
   "metadata": {},
   "source": [
    "- zooming : pad 이후 zoom할 경우 448x448 사이즈 이미지가 생성되므로 zoom 이후 pad 적용"
   ]
  },
  {
   "cell_type": "code",
   "execution_count": 39,
   "id": "5ca1d5d4",
   "metadata": {
    "execution": {
     "iopub.execute_input": "2022-04-09T17:53:26.204410Z",
     "iopub.status.busy": "2022-04-09T17:53:26.204116Z",
     "iopub.status.idle": "2022-04-09T17:53:26.613099Z",
     "shell.execute_reply": "2022-04-09T17:53:26.612598Z",
     "shell.execute_reply.started": "2022-04-09T17:53:26.204410Z"
    },
    "tags": []
   },
   "outputs": [
    {
     "data": {
      "image/png": "[encoded data removed]",
      "text/plain": [
       "<Figure size 432x288 with 1 Axes>"
      ]
     },
     "metadata": {
      "needs_background": "light"
     },
     "output_type": "display_data"
    },
    {
     "data": {
      "image/png": "[encoded data removed]",
      "text/plain": [
       "<Figure size 432x288 with 1 Axes>"
      ]
     },
     "metadata": {
      "needs_background": "light"
     },
     "output_type": "display_data"
    },
    {
     "data": {
      "image/png": "[encoded data removed]",
      "text/plain": [
       "<Figure size 432x288 with 1 Axes>"
      ]
     },
     "metadata": {
      "needs_background": "light"
     },
     "output_type": "display_data"
    }
   ],
   "source": [
    "zoomed = test_zoom(test_origin)\n",
    "plt.imshow(zoomed)\n",
    "plt.show()\n",
    "\n",
    "pad_zoomed = zero_padding(zoomed, 224)\n",
    "plt.imshow(pad_zoomed)\n",
    "plt.show()\n",
    "\n",
    "zoom_pad_origin = test_zoom(pad_origin)\n",
    "plt.imshow(zoom_pad_origin)\n",
    "plt.show()"
   ]
  },
  {
   "cell_type": "markdown",
   "id": "931f28ff",
   "metadata": {},
   "source": [
    "### augmentaion 함수별 random 요소 추가 및 padding 함수 추가\n",
    "- rotation : 회전 변환 이후 padding\n",
    "- translate : padding 이후 평행이동, dsize ~ 224로 출력\n",
    "- shearing : shearing 정도에 random 요소 추가, dsize ~ 224로 출력 "
   ]
  },
  {
   "cell_type": "code",
   "execution_count": 40,
   "id": "b4d048fc",
   "metadata": {
    "execution": {
     "iopub.execute_input": "2022-04-09T17:53:26.613597Z",
     "iopub.status.busy": "2022-04-09T17:53:26.613597Z",
     "iopub.status.idle": "2022-04-09T17:53:26.628543Z",
     "shell.execute_reply": "2022-04-09T17:53:26.628186Z",
     "shell.execute_reply.started": "2022-04-09T17:53:26.613597Z"
    },
    "tags": []
   },
   "outputs": [],
   "source": [
    "def rotation_10_degree(data_img):\n",
    "    height, width = data_img.shape\n",
    "    # positive for anti-clockwise and negative for clockwise\n",
    "    rotation_10_degree_img = cv2.getRotationMatrix2D((width/2, height/2), 10, 1) # 중심점, 각도, 배율\n",
    "    dst = cv2.warpAffine(data_img, rotation_10_degree_img, (width,height))\n",
    "    padded_dst = zero_padding(dst, 224)\n",
    "    return padded_dst"
   ]
  },
  {
   "cell_type": "code",
   "execution_count": 41,
   "id": "159f00ab",
   "metadata": {
    "execution": {
     "iopub.execute_input": "2022-04-09T17:53:26.629805Z",
     "iopub.status.busy": "2022-04-09T17:53:26.629414Z",
     "iopub.status.idle": "2022-04-09T17:53:26.643721Z",
     "shell.execute_reply": "2022-04-09T17:53:26.643680Z",
     "shell.execute_reply.started": "2022-04-09T17:53:26.629805Z"
    },
    "tags": []
   },
   "outputs": [],
   "source": [
    "def rotation_minus_10_degree(data_img):\n",
    "    height, width = data_img.shape\n",
    "    # positive for anti-clockwise and negative for clockwise\n",
    "    rotation_10_degree_img = cv2.getRotationMatrix2D((width/2, height/2), -10, 1) # 중심점, 각도, 배율\n",
    "    dst = cv2.warpAffine(data_img, rotation_10_degree_img, (width,height))\n",
    "    padded_dst = zero_padding(dst, 224)\n",
    "    return padded_dst"
   ]
  },
  {
   "cell_type": "code",
   "execution_count": 42,
   "id": "4e051885",
   "metadata": {
    "execution": {
     "iopub.execute_input": "2022-04-09T17:53:26.644736Z",
     "iopub.status.busy": "2022-04-09T17:53:26.644736Z",
     "iopub.status.idle": "2022-04-09T17:53:26.659107Z",
     "shell.execute_reply": "2022-04-09T17:53:26.659107Z",
     "shell.execute_reply.started": "2022-04-09T17:53:26.644736Z"
    },
    "tags": []
   },
   "outputs": [],
   "source": [
    "def translate(data_img):\n",
    "    padded_img = zero_padding(data_img, 224)\n",
    "    x_translate = random.randrange(-20, 21)\n",
    "    y_translate = random.randrange(-20, 21)\n",
    "    translate_matrix = np.float32([[1, 0, y_translate],  # 세로 평행이동\n",
    "                                   [0, 1, x_translate]]) # 가로 평행이동 \n",
    "    dst = cv2.warpAffine(padded_img, translate_matrix, (224,224))  # (src, matrix, dsize)\n",
    "    return dst"
   ]
  },
  {
   "cell_type": "code",
   "execution_count": 43,
   "id": "ed70f3fd",
   "metadata": {
    "execution": {
     "iopub.execute_input": "2022-04-09T17:53:26.660105Z",
     "iopub.status.busy": "2022-04-09T17:53:26.660105Z",
     "iopub.status.idle": "2022-04-09T17:53:26.674774Z",
     "shell.execute_reply": "2022-04-09T17:53:26.674110Z",
     "shell.execute_reply.started": "2022-04-09T17:53:26.660105Z"
    },
    "tags": []
   },
   "outputs": [],
   "source": [
    "def filping(data_img):\n",
    "    padded_img = zero_padding(data_img, 224)\n",
    "    dst = cv2.flip(padded_img, random.choice([0, 1])) # 0:상하 반전, 1:좌우 반전 \n",
    "    return dst"
   ]
  },
  {
   "cell_type": "code",
   "execution_count": 44,
   "id": "ffa02d11",
   "metadata": {
    "execution": {
     "iopub.execute_input": "2022-04-09T17:53:26.675791Z",
     "iopub.status.busy": "2022-04-09T17:53:26.675791Z",
     "iopub.status.idle": "2022-04-09T17:53:26.690062Z",
     "shell.execute_reply": "2022-04-09T17:53:26.689064Z",
     "shell.execute_reply.started": "2022-04-09T17:53:26.675791Z"
    },
    "tags": []
   },
   "outputs": [],
   "source": [
    "def shearing(data_img):    \n",
    "    x_shearing = random.random()\n",
    "    y_shearing = random.random()\n",
    "    shearing_matrix = np.float32([[1,          x_shearing, 0],\n",
    "             \t                  [y_shearing, 1,          0],\n",
    "            \t                  [0,          0  ,        1]])           \n",
    "    dst = cv2.warpPerspective(data_img, shearing_matrix, (224, 224)) # warpPerspective(src, matrix, dsize~(width, height))\n",
    "    return dst"
   ]
  },
  {
   "cell_type": "code",
   "execution_count": 45,
   "id": "413c8868",
   "metadata": {
    "execution": {
     "iopub.execute_input": "2022-04-09T17:53:26.692125Z",
     "iopub.status.busy": "2022-04-09T17:53:26.692125Z",
     "iopub.status.idle": "2022-04-09T17:53:26.704570Z",
     "shell.execute_reply": "2022-04-09T17:53:26.704570Z",
     "shell.execute_reply.started": "2022-04-09T17:53:26.692125Z"
    },
    "tags": []
   },
   "outputs": [],
   "source": [
    "def resizing(data_img):\n",
    "    scale_list = [0.5, 0.6, 0.7, 0.8, 1.05] # scale 이후 224 size 넘는 경우 있어서 데이터 확인 후 수동 조정\n",
    "    dst = cv2.resize(data_img, dsize=(0,0), fx=random.choice(scale_list), fy=random.choice(scale_list), interpolation=cv2.INTER_LINEAR)    \n",
    "    padded_img = zero_padding(dst, 224)\n",
    "    return padded_img"
   ]
  },
  {
   "cell_type": "markdown",
   "id": "8e11f173",
   "metadata": {},
   "source": [
    "### Data-Augmentaion - 클래스별로 10,000개 / 논문 Augmentation 기법 적용\n",
    "- 10도 회전 : 20%\n",
    "- 좌우 대칭 및 너비 이동(horizontal flipping and width shift) : 20%\n",
    "- 높이 이동(height shfit) : 15%\n",
    "- 전단 범위(shearing range) : 10%\n",
    "- 채널이동 및 확대 축소(channel shift and zooming) : 10%\n",
    "- 75%밖에 안 되는 듯 : 증량 비율 수정"
   ]
  },
  {
   "cell_type": "code",
   "execution_count": 46,
   "id": "5f99581b",
   "metadata": {
    "execution": {
     "iopub.execute_input": "2022-04-09T17:53:26.705861Z",
     "iopub.status.busy": "2022-04-09T17:53:26.705861Z",
     "iopub.status.idle": "2022-04-09T17:53:27.087966Z",
     "shell.execute_reply": "2022-04-09T17:53:27.087466Z",
     "shell.execute_reply.started": "2022-04-09T17:53:26.705861Z"
    },
    "tags": []
   },
   "outputs": [
    {
     "name": "stdout",
     "output_type": "stream",
     "text": [
      "<class 'pandas.core.frame.DataFrame'>\n",
      "Int64Index: 10000 entries, 749336 to 244652\n",
      "Data columns (total 10 columns):\n",
      " #   Column                     Non-Null Count  Dtype  \n",
      "---  ------                     --------------  -----  \n",
      " 0   waferMap                   10000 non-null  object \n",
      " 1   dieSize                    10000 non-null  float64\n",
      " 2   lotName                    10000 non-null  object \n",
      " 3   trianTestLabel             10000 non-null  object \n",
      " 4   failureType                10000 non-null  object \n",
      " 5   waferMapDim                10000 non-null  object \n",
      " 6   failureNum                 10000 non-null  object \n",
      " 7   trainTestNum               10000 non-null  object \n",
      " 8   waferMap_augmentation      10000 non-null  object \n",
      " 9   waferMap_augmentation_Dim  10000 non-null  object \n",
      "dtypes: float64(1), object(9)\n",
      "memory usage: 859.4+ KB\n"
     ]
    }
   ],
   "source": [
    "# None(8): 36,730 중 10,000 개 Sampling\n",
    "# 참고 : https://rfriend.tistory.com/602\n",
    "wm811k_new_train_class_None = wm811k_train.query(\"failureNum == 8\").sample(n=10000, random_state=2022)\n",
    "wm811k_new_train_class_None[\"waferMap_augmentation\"] = wm811k_new_train_class_None[\"waferMap\"].apply(lambda x: zero_padding(x,224))\n",
    "wm811k_new_train_class_None['waferMap_augmentation_Dim']=wm811k_new_train_class_None['waferMap_augmentation'].apply(find_dim)\n",
    "wm811k_new_train_class_None.info()"
   ]
  },
  {
   "cell_type": "code",
   "execution_count": 47,
   "id": "51b7802b",
   "metadata": {
    "execution": {
     "iopub.execute_input": "2022-04-09T17:53:27.089938Z",
     "iopub.status.busy": "2022-04-09T17:53:27.088986Z",
     "iopub.status.idle": "2022-04-09T17:53:27.118302Z",
     "shell.execute_reply": "2022-04-09T17:53:27.117766Z",
     "shell.execute_reply.started": "2022-04-09T17:53:27.089938Z"
    },
    "tags": []
   },
   "outputs": [
    {
     "data": {
      "text/plain": [
       "(224, 224)    10000\n",
       "Name: waferMap_augmentation_Dim, dtype: int64"
      ]
     },
     "execution_count": 47,
     "metadata": {},
     "output_type": "execute_result"
    }
   ],
   "source": [
    "wm811k_new_train_class_None['waferMap_augmentation_Dim'].apply(lambda x: str(x)).value_counts()"
   ]
  },
  {
   "cell_type": "code",
   "execution_count": 48,
   "id": "243c4c4c",
   "metadata": {
    "execution": {
     "iopub.execute_input": "2022-04-09T17:53:27.119317Z",
     "iopub.status.busy": "2022-04-09T17:53:27.119317Z",
     "iopub.status.idle": "2022-04-09T17:53:27.865050Z",
     "shell.execute_reply": "2022-04-09T17:53:27.864152Z",
     "shell.execute_reply.started": "2022-04-09T17:53:27.119317Z"
    },
    "tags": []
   },
   "outputs": [
    {
     "name": "stderr",
     "output_type": "stream",
     "text": [
      "C:\\Users\\kjt\\Anaconda3\\envs\\dlit\\lib\\site-packages\\ipykernel_launcher.py:3: SettingWithCopyWarning: \n",
      "A value is trying to be set on a copy of a slice from a DataFrame.\n",
      "Try using .loc[row_indexer,col_indexer] = value instead\n",
      "\n",
      "See the caveats in the documentation: https://pandas.pydata.org/pandas-docs/stable/user_guide/indexing.html#returning-a-view-versus-a-copy\n",
      "  This is separate from the ipykernel package so we can avoid doing imports until\n",
      "C:\\Users\\kjt\\Anaconda3\\envs\\dlit\\lib\\site-packages\\ipykernel_launcher.py:4: SettingWithCopyWarning: \n",
      "A value is trying to be set on a copy of a slice from a DataFrame.\n",
      "Try using .loc[row_indexer,col_indexer] = value instead\n",
      "\n",
      "See the caveats in the documentation: https://pandas.pydata.org/pandas-docs/stable/user_guide/indexing.html#returning-a-view-versus-a-copy\n",
      "  after removing the cwd from sys.path.\n"
     ]
    },
    {
     "name": "stdout",
     "output_type": "stream",
     "text": [
      "<class 'pandas.core.frame.DataFrame'>\n",
      "Int64Index: 8554 entries, 100 to 786313\n",
      "Data columns (total 10 columns):\n",
      " #   Column                     Non-Null Count  Dtype  \n",
      "---  ------                     --------------  -----  \n",
      " 0   waferMap                   8554 non-null   object \n",
      " 1   dieSize                    8554 non-null   float64\n",
      " 2   lotName                    8554 non-null   object \n",
      " 3   trianTestLabel             8554 non-null   object \n",
      " 4   failureType                8554 non-null   object \n",
      " 5   waferMapDim                8554 non-null   object \n",
      " 6   failureNum                 8554 non-null   object \n",
      " 7   trainTestNum               8554 non-null   object \n",
      " 8   waferMap_augmentation      8554 non-null   object \n",
      " 9   waferMap_augmentation_Dim  8554 non-null   object \n",
      "dtypes: float64(1), object(9)\n",
      "memory usage: 735.1+ KB\n",
      "<class 'pandas.core.frame.DataFrame'>\n",
      "Int64Index: 10000 entries, 100 to 199660\n",
      "Data columns (total 10 columns):\n",
      " #   Column                     Non-Null Count  Dtype  \n",
      "---  ------                     --------------  -----  \n",
      " 0   waferMap                   10000 non-null  object \n",
      " 1   dieSize                    10000 non-null  float64\n",
      " 2   lotName                    10000 non-null  object \n",
      " 3   trianTestLabel             10000 non-null  object \n",
      " 4   failureType                10000 non-null  object \n",
      " 5   waferMapDim                10000 non-null  object \n",
      " 6   failureNum                 10000 non-null  object \n",
      " 7   trainTestNum               10000 non-null  object \n",
      " 8   waferMap_augmentation      10000 non-null  object \n",
      " 9   waferMap_augmentation_Dim  10000 non-null  object \n",
      "dtypes: float64(1), object(9)\n",
      "memory usage: 859.4+ KB\n"
     ]
    }
   ],
   "source": [
    "# Edge-Ring(3) 현 보유 8,554개 / 1,446개 augmentation 필요\n",
    "wm811k_new_train_class_Edge_Ring = wm811k_train.query(\"failureNum == 3\")\n",
    "wm811k_new_train_class_Edge_Ring[\"waferMap_augmentation\"] = wm811k_new_train_class_Edge_Ring['waferMap'].apply(lambda x: zero_padding(x,224))\n",
    "wm811k_new_train_class_Edge_Ring['waferMap_augmentation_Dim']=wm811k_new_train_class_Edge_Ring['waferMap_augmentation'].apply(find_dim)\n",
    "wm811k_new_train_class_Edge_Ring.info()\n",
    "\n",
    "# +10도 회전 : 10% - 144개\n",
    "wm811k_new_train_class_Edge_Ring_10 = wm811k_new_train_class_Edge_Ring.sample(n=144, random_state=2022)\n",
    "wm811k_new_train_class_Edge_Ring_10[\"waferMap_augmentation\"] = wm811k_new_train_class_Edge_Ring_10[\"waferMap\"].apply(lambda x: rotation_10_degree(x))\n",
    "wm811k_new_train_class_Edge_Ring_10['waferMap_augmentation_Dim']=wm811k_new_train_class_Edge_Ring_10['waferMap_augmentation'].apply(find_dim)\n",
    "\n",
    "# -10도 회전 : 10% - 144개\n",
    "wm811k_new_train_class_Edge_Ring_minus_10 = wm811k_new_train_class_Edge_Ring.sample(n=144, random_state=2022)\n",
    "wm811k_new_train_class_Edge_Ring_minus_10[\"waferMap_augmentation\"] = wm811k_new_train_class_Edge_Ring_minus_10[\"waferMap\"].apply(lambda x: rotation_minus_10_degree(x))\n",
    "wm811k_new_train_class_Edge_Ring_minus_10['waferMap_augmentation_Dim']=wm811k_new_train_class_Edge_Ring_minus_10['waferMap_augmentation'].apply(find_dim)\n",
    "\n",
    "# 좌우 대칭 : 20%  - 288개\n",
    "wm811k_new_train_class_Edge_Ring_flip = wm811k_new_train_class_Edge_Ring.sample(n=288, random_state=2022)\n",
    "wm811k_new_train_class_Edge_Ring_flip[\"waferMap_augmentation\"] = wm811k_new_train_class_Edge_Ring_flip[\"waferMap\"].apply(lambda x: filping(x))\n",
    "wm811k_new_train_class_Edge_Ring_flip['waferMap_augmentation_Dim']=wm811k_new_train_class_Edge_Ring_flip['waferMap_augmentation'].apply(find_dim)\n",
    "\n",
    "# 평행 이동 : 30% - 432개\n",
    "wm811k_new_train_class_Edge_Ring_translate = wm811k_new_train_class_Edge_Ring.sample(n=432, random_state=2022)\n",
    "wm811k_new_train_class_Edge_Ring_translate[\"waferMap_augmentation\"] = wm811k_new_train_class_Edge_Ring_translate[\"waferMap\"].apply(lambda x: translate(x))\n",
    "wm811k_new_train_class_Edge_Ring_translate['waferMap_augmentation_Dim']=wm811k_new_train_class_Edge_Ring_translate['waferMap_augmentation'].apply(find_dim)\n",
    "\n",
    "# 전단 범위(shearing range) : 10% - 144개\n",
    "wm811k_new_train_class_Edge_Ring_shearing = wm811k_new_train_class_Edge_Ring.sample(n=144, random_state=2022)\n",
    "wm811k_new_train_class_Edge_Ring_shearing[\"waferMap_augmentation\"] = wm811k_new_train_class_Edge_Ring_shearing[\"waferMap\"].apply(lambda x: shearing(x))\n",
    "wm811k_new_train_class_Edge_Ring_shearing['waferMap_augmentation_Dim']=wm811k_new_train_class_Edge_Ring_shearing['waferMap_augmentation'].apply(find_dim)\n",
    "\n",
    "# 확대 : 20% - 294개\n",
    "wm811k_new_train_class_Edge_Ring_resize = wm811k_new_train_class_Edge_Ring.sample(n=294, random_state=2022)\n",
    "wm811k_new_train_class_Edge_Ring_resize[\"waferMap_augmentation\"] = wm811k_new_train_class_Edge_Ring_resize[\"waferMap\"].apply(lambda x: resizing(x))\n",
    "wm811k_new_train_class_Edge_Ring_resize['waferMap_augmentation_Dim']=wm811k_new_train_class_Edge_Ring_resize['waferMap_augmentation'].apply(find_dim)\n",
    "\n",
    "# concat\n",
    "wm811k_new_train_class_Edge_Ring_augmentation = pd.concat([wm811k_new_train_class_Edge_Ring,\n",
    "                                                           wm811k_new_train_class_Edge_Ring_10,\n",
    "                                                           wm811k_new_train_class_Edge_Ring_minus_10,\n",
    "                                                           wm811k_new_train_class_Edge_Ring_flip,\n",
    "                                                           wm811k_new_train_class_Edge_Ring_translate,\n",
    "                                                           wm811k_new_train_class_Edge_Ring_shearing,\n",
    "                                                           wm811k_new_train_class_Edge_Ring_resize\n",
    "                                                          ])\n",
    "wm811k_new_train_class_Edge_Ring_augmentation.info()"
   ]
  },
  {
   "cell_type": "code",
   "execution_count": 49,
   "id": "977ae407",
   "metadata": {
    "execution": {
     "iopub.execute_input": "2022-04-09T17:53:27.865910Z",
     "iopub.status.busy": "2022-04-09T17:53:27.865910Z",
     "iopub.status.idle": "2022-04-09T17:53:29.417405Z",
     "shell.execute_reply": "2022-04-09T17:53:29.416735Z",
     "shell.execute_reply.started": "2022-04-09T17:53:27.865910Z"
    },
    "tags": []
   },
   "outputs": [
    {
     "name": "stderr",
     "output_type": "stream",
     "text": [
      "C:\\Users\\kjt\\Anaconda3\\envs\\dlit\\lib\\site-packages\\ipykernel_launcher.py:3: SettingWithCopyWarning: \n",
      "A value is trying to be set on a copy of a slice from a DataFrame.\n",
      "Try using .loc[row_indexer,col_indexer] = value instead\n",
      "\n",
      "See the caveats in the documentation: https://pandas.pydata.org/pandas-docs/stable/user_guide/indexing.html#returning-a-view-versus-a-copy\n",
      "  This is separate from the ipykernel package so we can avoid doing imports until\n",
      "C:\\Users\\kjt\\Anaconda3\\envs\\dlit\\lib\\site-packages\\ipykernel_launcher.py:4: SettingWithCopyWarning: \n",
      "A value is trying to be set on a copy of a slice from a DataFrame.\n",
      "Try using .loc[row_indexer,col_indexer] = value instead\n",
      "\n",
      "See the caveats in the documentation: https://pandas.pydata.org/pandas-docs/stable/user_guide/indexing.html#returning-a-view-versus-a-copy\n",
      "  after removing the cwd from sys.path.\n"
     ]
    },
    {
     "name": "stdout",
     "output_type": "stream",
     "text": [
      "<class 'pandas.core.frame.DataFrame'>\n",
      "Int64Index: 3462 entries, 44 to 785245\n",
      "Data columns (total 10 columns):\n",
      " #   Column                     Non-Null Count  Dtype  \n",
      "---  ------                     --------------  -----  \n",
      " 0   waferMap                   3462 non-null   object \n",
      " 1   dieSize                    3462 non-null   float64\n",
      " 2   lotName                    3462 non-null   object \n",
      " 3   trianTestLabel             3462 non-null   object \n",
      " 4   failureType                3462 non-null   object \n",
      " 5   waferMapDim                3462 non-null   object \n",
      " 6   failureNum                 3462 non-null   object \n",
      " 7   trainTestNum               3462 non-null   object \n",
      " 8   waferMap_augmentation      3462 non-null   object \n",
      " 9   waferMap_augmentation_Dim  3462 non-null   object \n",
      "dtypes: float64(1), object(9)\n",
      "memory usage: 297.5+ KB\n",
      "<class 'pandas.core.frame.DataFrame'>\n",
      "Int64Index: 10000 entries, 44 to 360911\n",
      "Data columns (total 10 columns):\n",
      " #   Column                     Non-Null Count  Dtype  \n",
      "---  ------                     --------------  -----  \n",
      " 0   waferMap                   10000 non-null  object \n",
      " 1   dieSize                    10000 non-null  float64\n",
      " 2   lotName                    10000 non-null  object \n",
      " 3   trianTestLabel             10000 non-null  object \n",
      " 4   failureType                10000 non-null  object \n",
      " 5   waferMapDim                10000 non-null  object \n",
      " 6   failureNum                 10000 non-null  object \n",
      " 7   trainTestNum               10000 non-null  object \n",
      " 8   waferMap_augmentation      10000 non-null  object \n",
      " 9   waferMap_augmentation_Dim  10000 non-null  object \n",
      "dtypes: float64(1), object(9)\n",
      "memory usage: 859.4+ KB\n"
     ]
    }
   ],
   "source": [
    "# Center(0) 현 보유 3,462개 / 6,538개 augmentation 필요\n",
    "wm811k_new_train_class_Center = wm811k_train.query(\"failureNum == 0\")\n",
    "wm811k_new_train_class_Center[\"waferMap_augmentation\"] = wm811k_new_train_class_Center['waferMap'].apply(lambda x: zero_padding(x,224))\n",
    "wm811k_new_train_class_Center['waferMap_augmentation_Dim']=wm811k_new_train_class_Center['waferMap_augmentation'].apply(find_dim)\n",
    "wm811k_new_train_class_Center.info()\n",
    "\n",
    "# +10도 회전 : 10% - 654개\n",
    "wm811k_new_train_class_Center_10 = wm811k_new_train_class_Center.sample(n=654, random_state=2022)\n",
    "wm811k_new_train_class_Center_10[\"waferMap_augmentation\"] = wm811k_new_train_class_Center_10[\"waferMap\"].apply(lambda x: rotation_10_degree(x))\n",
    "wm811k_new_train_class_Center_10['waferMap_augmentation_Dim']=wm811k_new_train_class_Center_10['waferMap_augmentation'].apply(find_dim)\n",
    "\n",
    "# -10도 회전 : 10% - 654개\n",
    "wm811k_new_train_class_Center_minus_10 = wm811k_new_train_class_Center.sample(n=654, random_state=2022)\n",
    "wm811k_new_train_class_Center_minus_10[\"waferMap_augmentation\"] = wm811k_new_train_class_Center_minus_10[\"waferMap\"].apply(lambda x: rotation_minus_10_degree(x))\n",
    "wm811k_new_train_class_Center_minus_10['waferMap_augmentation_Dim']=wm811k_new_train_class_Center_minus_10['waferMap_augmentation'].apply(find_dim)\n",
    "\n",
    "# 좌우 대칭 : 20%  - 1308개\n",
    "wm811k_new_train_class_Center_flip = wm811k_new_train_class_Center.sample(n=1308, random_state=2022)\n",
    "wm811k_new_train_class_Center_flip[\"waferMap_augmentation\"] = wm811k_new_train_class_Center_flip[\"waferMap\"].apply(lambda x: filping(x))\n",
    "wm811k_new_train_class_Center_flip['waferMap_augmentation_Dim']=wm811k_new_train_class_Center_flip['waferMap_augmentation'].apply(find_dim)\n",
    "\n",
    "# 평행 이동 : 30%  - 1962개\n",
    "wm811k_new_train_class_Center_translate = wm811k_new_train_class_Center.sample(n=1962, random_state=2022)\n",
    "wm811k_new_train_class_Center_translate[\"waferMap_augmentation\"] = wm811k_new_train_class_Center_translate[\"waferMap\"].apply(lambda x: translate(x))\n",
    "wm811k_new_train_class_Center_translate['waferMap_augmentation_Dim']=wm811k_new_train_class_Center_translate['waferMap_augmentation'].apply(find_dim)\n",
    "\n",
    "# 전단 범위(shearing range) : 10% - 652개\n",
    "wm811k_new_train_class_Center_shearing = wm811k_new_train_class_Center.sample(n=652, random_state=2022)\n",
    "wm811k_new_train_class_Center_shearing[\"waferMap_augmentation\"] = wm811k_new_train_class_Center_shearing[\"waferMap\"].apply(lambda x: shearing(x))\n",
    "wm811k_new_train_class_Center_shearing['waferMap_augmentation_Dim']=wm811k_new_train_class_Center_shearing['waferMap_augmentation'].apply(find_dim)\n",
    "\n",
    "# 확대 : 20% - 1308개\n",
    "wm811k_new_train_class_Center_resize = wm811k_new_train_class_Center.sample(n=1308, random_state=2022)\n",
    "wm811k_new_train_class_Center_resize[\"waferMap_augmentation\"] = wm811k_new_train_class_Center_resize[\"waferMap\"].apply(lambda x: resizing(x))\n",
    "wm811k_new_train_class_Center_resize['waferMap_augmentation_Dim']=wm811k_new_train_class_Center_resize['waferMap_augmentation'].apply(find_dim)\n",
    "\n",
    "# concat\n",
    "wm811k_new_train_class_Center_augmentation = pd.concat([wm811k_new_train_class_Center,\n",
    "                                                        wm811k_new_train_class_Center_10,\n",
    "                                                        wm811k_new_train_class_Center_minus_10,\n",
    "                                                        wm811k_new_train_class_Center_flip,\n",
    "                                                        wm811k_new_train_class_Center_translate,\n",
    "                                                        wm811k_new_train_class_Center_shearing,\n",
    "                                                        wm811k_new_train_class_Center_resize\n",
    "                                                       ])\n",
    "wm811k_new_train_class_Center_augmentation.info()"
   ]
  },
  {
   "cell_type": "code",
   "execution_count": 50,
   "id": "f1241d65",
   "metadata": {
    "execution": {
     "iopub.execute_input": "2022-04-09T17:53:29.419411Z",
     "iopub.status.busy": "2022-04-09T17:53:29.419411Z",
     "iopub.status.idle": "2022-04-09T17:53:31.114734Z",
     "shell.execute_reply": "2022-04-09T17:53:31.114734Z",
     "shell.execute_reply.started": "2022-04-09T17:53:29.419411Z"
    },
    "tags": []
   },
   "outputs": [
    {
     "name": "stdout",
     "output_type": "stream",
     "text": [
      "<class 'pandas.core.frame.DataFrame'>\n",
      "Int64Index: 2417 entries, 36 to 791230\n",
      "Data columns (total 10 columns):\n",
      " #   Column                     Non-Null Count  Dtype  \n",
      "---  ------                     --------------  -----  \n",
      " 0   waferMap                   2417 non-null   object \n",
      " 1   dieSize                    2417 non-null   float64\n",
      " 2   lotName                    2417 non-null   object \n",
      " 3   trianTestLabel             2417 non-null   object \n",
      " 4   failureType                2417 non-null   object \n",
      " 5   waferMapDim                2417 non-null   object \n",
      " 6   failureNum                 2417 non-null   object \n",
      " 7   trainTestNum               2417 non-null   object \n",
      " 8   waferMap_augmentation      2417 non-null   object \n",
      " 9   waferMap_augmentation_Dim  2417 non-null   object \n",
      "dtypes: float64(1), object(9)\n",
      "memory usage: 207.7+ KB\n"
     ]
    },
    {
     "name": "stderr",
     "output_type": "stream",
     "text": [
      "C:\\Users\\kjt\\Anaconda3\\envs\\dlit\\lib\\site-packages\\ipykernel_launcher.py:3: SettingWithCopyWarning: \n",
      "A value is trying to be set on a copy of a slice from a DataFrame.\n",
      "Try using .loc[row_indexer,col_indexer] = value instead\n",
      "\n",
      "See the caveats in the documentation: https://pandas.pydata.org/pandas-docs/stable/user_guide/indexing.html#returning-a-view-versus-a-copy\n",
      "  This is separate from the ipykernel package so we can avoid doing imports until\n",
      "C:\\Users\\kjt\\Anaconda3\\envs\\dlit\\lib\\site-packages\\ipykernel_launcher.py:4: SettingWithCopyWarning: \n",
      "A value is trying to be set on a copy of a slice from a DataFrame.\n",
      "Try using .loc[row_indexer,col_indexer] = value instead\n",
      "\n",
      "See the caveats in the documentation: https://pandas.pydata.org/pandas-docs/stable/user_guide/indexing.html#returning-a-view-versus-a-copy\n",
      "  after removing the cwd from sys.path.\n"
     ]
    },
    {
     "name": "stdout",
     "output_type": "stream",
     "text": [
      "<class 'pandas.core.frame.DataFrame'>\n",
      "Int64Index: 10000 entries, 36 to 417018\n",
      "Data columns (total 10 columns):\n",
      " #   Column                     Non-Null Count  Dtype  \n",
      "---  ------                     --------------  -----  \n",
      " 0   waferMap                   10000 non-null  object \n",
      " 1   dieSize                    10000 non-null  float64\n",
      " 2   lotName                    10000 non-null  object \n",
      " 3   trianTestLabel             10000 non-null  object \n",
      " 4   failureType                10000 non-null  object \n",
      " 5   waferMapDim                10000 non-null  object \n",
      " 6   failureNum                 10000 non-null  object \n",
      " 7   trainTestNum               10000 non-null  object \n",
      " 8   waferMap_augmentation      10000 non-null  object \n",
      " 9   waferMap_augmentation_Dim  10000 non-null  object \n",
      "dtypes: float64(1), object(9)\n",
      "memory usage: 859.4+ KB\n"
     ]
    }
   ],
   "source": [
    "# Edge-Loc(2) 현 보유 2,417개 / 7,583개 augmentation 필요\n",
    "wm811k_new_train_class_Edge_Loc = wm811k_train.query(\"failureNum == 2\")\n",
    "wm811k_new_train_class_Edge_Loc[\"waferMap_augmentation\"] = wm811k_new_train_class_Edge_Loc['waferMap'].apply(lambda x: zero_padding(x,224))\n",
    "wm811k_new_train_class_Edge_Loc['waferMap_augmentation_Dim']=wm811k_new_train_class_Edge_Loc['waferMap_augmentation'].apply(find_dim)\n",
    "wm811k_new_train_class_Edge_Loc.info()\n",
    "\n",
    "# +10도 회전 : 10% - 758개\n",
    "wm811k_new_train_class_Edge_Loc_10 = wm811k_new_train_class_Edge_Loc.sample(n=758, random_state=2022)\n",
    "wm811k_new_train_class_Edge_Loc_10[\"waferMap_augmentation\"] = wm811k_new_train_class_Edge_Loc_10[\"waferMap\"].apply(lambda x: rotation_10_degree(x))\n",
    "wm811k_new_train_class_Edge_Loc_10['waferMap_augmentation_Dim']=wm811k_new_train_class_Edge_Loc_10['waferMap_augmentation'].apply(find_dim)\n",
    "\n",
    "# -10도 회전 : 10% - 758개\n",
    "wm811k_new_train_class_Edge_Loc_minus_10 = wm811k_new_train_class_Edge_Loc.sample(n=758, random_state=2022)\n",
    "wm811k_new_train_class_Edge_Loc_minus_10[\"waferMap_augmentation\"] = wm811k_new_train_class_Edge_Loc_minus_10[\"waferMap\"].apply(lambda x: rotation_minus_10_degree(x))\n",
    "wm811k_new_train_class_Edge_Loc_minus_10['waferMap_augmentation_Dim']=wm811k_new_train_class_Edge_Loc_minus_10['waferMap_augmentation'].apply(find_dim)\n",
    "\n",
    "# 좌우 대칭 : 20% - 1517개\n",
    "wm811k_new_train_class_Edge_Loc_flip = wm811k_new_train_class_Edge_Loc.sample(n=1517, random_state=2022)\n",
    "wm811k_new_train_class_Edge_Loc_flip[\"waferMap_augmentation\"] = wm811k_new_train_class_Edge_Loc_flip[\"waferMap\"].apply(lambda x: filping(x))\n",
    "wm811k_new_train_class_Edge_Loc_flip['waferMap_augmentation_Dim']=wm811k_new_train_class_Edge_Loc_flip['waferMap_augmentation'].apply(find_dim)\n",
    "\n",
    "# 평행 이동 : 30% - 2275개\n",
    "wm811k_new_train_class_Edge_Loc_translate = wm811k_new_train_class_Edge_Loc.sample(n=2275, random_state=2022)\n",
    "wm811k_new_train_class_Edge_Loc_translate[\"waferMap_augmentation\"] = wm811k_new_train_class_Edge_Loc_translate[\"waferMap\"].apply(lambda x: translate(x))\n",
    "wm811k_new_train_class_Edge_Loc_translate['waferMap_augmentation_Dim']=wm811k_new_train_class_Edge_Loc_translate['waferMap_augmentation'].apply(find_dim)\n",
    "\n",
    "# 전단 범위(shearing range) : 10% - 758개\n",
    "wm811k_new_train_class_Edge_Loc_shearing = wm811k_new_train_class_Edge_Loc.sample(n=758, random_state=2022)\n",
    "wm811k_new_train_class_Edge_Loc_shearing[\"waferMap_augmentation\"] = wm811k_new_train_class_Edge_Loc_shearing[\"waferMap\"].apply(lambda x: shearing(x))\n",
    "wm811k_new_train_class_Edge_Loc_shearing['waferMap_augmentation_Dim']=wm811k_new_train_class_Edge_Loc_shearing['waferMap_augmentation'].apply(find_dim)\n",
    "\n",
    "# 확대 : 20% - 1517개\n",
    "wm811k_new_train_class_Edge_Loc_resize = wm811k_new_train_class_Edge_Loc.sample(n=1517, random_state=2022)\n",
    "wm811k_new_train_class_Edge_Loc_resize[\"waferMap_augmentation\"] = wm811k_new_train_class_Edge_Loc_resize[\"waferMap\"].apply(lambda x: resizing(x))\n",
    "wm811k_new_train_class_Edge_Loc_resize['waferMap_augmentation_Dim']=wm811k_new_train_class_Edge_Loc_resize['waferMap_augmentation'].apply(find_dim)\n",
    "\n",
    "# concat\n",
    "wm811k_new_train_class_Edge_Loc_augmentation = pd.concat([wm811k_new_train_class_Edge_Loc,\n",
    "                                                          wm811k_new_train_class_Edge_Loc_10,\n",
    "                                                          wm811k_new_train_class_Edge_Loc_minus_10,\n",
    "                                                          wm811k_new_train_class_Edge_Loc_flip,\n",
    "                                                          wm811k_new_train_class_Edge_Loc_translate,\n",
    "                                                          wm811k_new_train_class_Edge_Loc_shearing,\n",
    "                                                          wm811k_new_train_class_Edge_Loc_resize\n",
    "                                                         ])\n",
    "wm811k_new_train_class_Edge_Loc_augmentation.info()"
   ]
  },
  {
   "cell_type": "code",
   "execution_count": 51,
   "id": "c889a79a",
   "metadata": {
    "execution": {
     "iopub.execute_input": "2022-04-09T17:53:31.118142Z",
     "iopub.status.busy": "2022-04-09T17:53:31.117143Z",
     "iopub.status.idle": "2022-04-09T17:53:33.394961Z",
     "shell.execute_reply": "2022-04-09T17:53:33.394460Z",
     "shell.execute_reply.started": "2022-04-09T17:53:31.118142Z"
    },
    "tags": []
   },
   "outputs": [
    {
     "name": "stdout",
     "output_type": "stream",
     "text": [
      "<class 'pandas.core.frame.DataFrame'>\n",
      "Int64Index: 1620 entries, 19 to 791433\n",
      "Data columns (total 10 columns):\n",
      " #   Column                     Non-Null Count  Dtype  \n",
      "---  ------                     --------------  -----  \n",
      " 0   waferMap                   1620 non-null   object \n",
      " 1   dieSize                    1620 non-null   float64\n",
      " 2   lotName                    1620 non-null   object \n",
      " 3   trianTestLabel             1620 non-null   object \n",
      " 4   failureType                1620 non-null   object \n",
      " 5   waferMapDim                1620 non-null   object \n",
      " 6   failureNum                 1620 non-null   object \n",
      " 7   trainTestNum               1620 non-null   object \n",
      " 8   waferMap_augmentation      1620 non-null   object \n",
      " 9   waferMap_augmentation_Dim  1620 non-null   object \n",
      "dtypes: float64(1), object(9)\n",
      "memory usage: 139.2+ KB\n"
     ]
    },
    {
     "name": "stderr",
     "output_type": "stream",
     "text": [
      "C:\\Users\\kjt\\Anaconda3\\envs\\dlit\\lib\\site-packages\\ipykernel_launcher.py:3: SettingWithCopyWarning: \n",
      "A value is trying to be set on a copy of a slice from a DataFrame.\n",
      "Try using .loc[row_indexer,col_indexer] = value instead\n",
      "\n",
      "See the caveats in the documentation: https://pandas.pydata.org/pandas-docs/stable/user_guide/indexing.html#returning-a-view-versus-a-copy\n",
      "  This is separate from the ipykernel package so we can avoid doing imports until\n",
      "C:\\Users\\kjt\\Anaconda3\\envs\\dlit\\lib\\site-packages\\ipykernel_launcher.py:4: SettingWithCopyWarning: \n",
      "A value is trying to be set on a copy of a slice from a DataFrame.\n",
      "Try using .loc[row_indexer,col_indexer] = value instead\n",
      "\n",
      "See the caveats in the documentation: https://pandas.pydata.org/pandas-docs/stable/user_guide/indexing.html#returning-a-view-versus-a-copy\n",
      "  after removing the cwd from sys.path.\n"
     ]
    },
    {
     "name": "stdout",
     "output_type": "stream",
     "text": [
      "<class 'pandas.core.frame.DataFrame'>\n",
      "Int64Index: 3296 entries, 19 to 12757\n",
      "Data columns (total 10 columns):\n",
      " #   Column                     Non-Null Count  Dtype  \n",
      "---  ------                     --------------  -----  \n",
      " 0   waferMap                   3296 non-null   object \n",
      " 1   dieSize                    3296 non-null   float64\n",
      " 2   lotName                    3296 non-null   object \n",
      " 3   trianTestLabel             3296 non-null   object \n",
      " 4   failureType                3296 non-null   object \n",
      " 5   waferMapDim                3296 non-null   object \n",
      " 6   failureNum                 3296 non-null   object \n",
      " 7   trainTestNum               3296 non-null   object \n",
      " 8   waferMap_augmentation      3296 non-null   object \n",
      " 9   waferMap_augmentation_Dim  3296 non-null   object \n",
      "dtypes: float64(1), object(9)\n",
      "memory usage: 283.2+ KB\n",
      "<class 'pandas.core.frame.DataFrame'>\n",
      "Int64Index: 10000 entries, 19 to 190823\n",
      "Data columns (total 10 columns):\n",
      " #   Column                     Non-Null Count  Dtype  \n",
      "---  ------                     --------------  -----  \n",
      " 0   waferMap                   10000 non-null  object \n",
      " 1   dieSize                    10000 non-null  float64\n",
      " 2   lotName                    10000 non-null  object \n",
      " 3   trianTestLabel             10000 non-null  object \n",
      " 4   failureType                10000 non-null  object \n",
      " 5   waferMapDim                10000 non-null  object \n",
      " 6   failureNum                 10000 non-null  object \n",
      " 7   trainTestNum               10000 non-null  object \n",
      " 8   waferMap_augmentation      10000 non-null  object \n",
      " 9   waferMap_augmentation_Dim  10000 non-null  object \n",
      "dtypes: float64(1), object(9)\n",
      "memory usage: 859.4+ KB\n"
     ]
    }
   ],
   "source": [
    "# Loc(4) 현 보유 1,620개 / 8,380개 augmentation 필요\n",
    "wm811k_new_train_class_Loc = wm811k_train.query(\"failureNum == 4\")\n",
    "wm811k_new_train_class_Loc[\"waferMap_augmentation\"] = wm811k_new_train_class_Loc['waferMap'].apply(lambda x: zero_padding(x,224))\n",
    "wm811k_new_train_class_Loc['waferMap_augmentation_Dim']=wm811k_new_train_class_Loc['waferMap_augmentation'].apply(find_dim)\n",
    "wm811k_new_train_class_Loc.info()\n",
    "\n",
    "# +10도 회전 : 10% - 838개\n",
    "wm811k_new_train_class_Loc_10 = wm811k_new_train_class_Loc.sample(n=838, random_state=2022)\n",
    "wm811k_new_train_class_Loc_10[\"waferMap_augmentation\"] = wm811k_new_train_class_Loc_10[\"waferMap\"].apply(lambda x: rotation_10_degree(x))\n",
    "wm811k_new_train_class_Loc_10['waferMap_augmentation_Dim']=wm811k_new_train_class_Loc_10['waferMap_augmentation'].apply(find_dim)\n",
    "\n",
    "# -10도 회전 : 10% - 838개\n",
    "wm811k_new_train_class_Loc_minus_10 = wm811k_new_train_class_Loc.sample(n=838, random_state=2022)\n",
    "wm811k_new_train_class_Loc_minus_10[\"waferMap_augmentation\"] = wm811k_new_train_class_Loc_minus_10[\"waferMap\"].apply(lambda x: rotation_minus_10_degree(x))\n",
    "wm811k_new_train_class_Loc_minus_10['waferMap_augmentation_Dim']=wm811k_new_train_class_Loc_minus_10['waferMap_augmentation'].apply(find_dim)\n",
    "\n",
    "# 중간 concat\n",
    "wm811k_new_train_class_Loc_patial_concat = pd.concat([wm811k_new_train_class_Loc,\n",
    "                                                      wm811k_new_train_class_Loc_10,\n",
    "                                                      wm811k_new_train_class_Loc_minus_10\n",
    "                                                     ])\n",
    "wm811k_new_train_class_Loc_patial_concat.info()\n",
    "\n",
    "# 좌우 대칭 : 20%  - \"1676개\"\n",
    "wm811k_new_train_class_Loc_flip = wm811k_new_train_class_Loc_patial_concat.sample(n=1676, random_state=2022)\n",
    "wm811k_new_train_class_Loc_flip[\"waferMap_augmentation\"] = wm811k_new_train_class_Loc_flip[\"waferMap\"].apply(lambda x: filping(x))\n",
    "wm811k_new_train_class_Loc_flip['waferMap_augmentation_Dim']=wm811k_new_train_class_Loc_flip['waferMap_augmentation'].apply(find_dim)\n",
    "\n",
    "# 평행 이동 : 30%  - \"2514개\"\n",
    "wm811k_new_train_class_Loc_translate = wm811k_new_train_class_Loc_patial_concat.sample(n=2514, random_state=2022)\n",
    "wm811k_new_train_class_Loc_translate[\"waferMap_augmentation\"] = wm811k_new_train_class_Loc_translate[\"waferMap\"].apply(lambda x: translate(x))\n",
    "wm811k_new_train_class_Loc_translate['waferMap_augmentation_Dim']=wm811k_new_train_class_Loc_translate['waferMap_augmentation'].apply(find_dim)\n",
    "\n",
    "# 전단 범위(shearing range) : 10% - 838개\n",
    "wm811k_new_train_class_Loc_shearing = wm811k_new_train_class_Loc.sample(n=838, random_state=2022)\n",
    "wm811k_new_train_class_Loc_shearing[\"waferMap_augmentation\"] = wm811k_new_train_class_Loc_shearing[\"waferMap\"].apply(lambda x: shearing(x))\n",
    "wm811k_new_train_class_Loc_shearing['waferMap_augmentation_Dim']=wm811k_new_train_class_Loc_shearing['waferMap_augmentation'].apply(find_dim)\n",
    "\n",
    "# 확대 : 20% - \"1676개\"\n",
    "wm811k_new_train_class_Loc_resize = wm811k_new_train_class_Loc_patial_concat.sample(n=1676, random_state=2022)\n",
    "wm811k_new_train_class_Loc_resize[\"waferMap_augmentation\"] = wm811k_new_train_class_Loc_resize[\"waferMap\"].apply(lambda x: resizing(x))\n",
    "wm811k_new_train_class_Loc_resize['waferMap_augmentation_Dim']=wm811k_new_train_class_Loc_resize['waferMap_augmentation'].apply(find_dim)\n",
    "\n",
    "# concat\n",
    "wm811k_new_train_class_Loc_augmentation = pd.concat([wm811k_new_train_class_Loc,\n",
    "                                                      wm811k_new_train_class_Loc_10,\n",
    "                                                      wm811k_new_train_class_Loc_minus_10,\n",
    "                                                      wm811k_new_train_class_Loc_flip,\n",
    "                                                      wm811k_new_train_class_Loc_translate,\n",
    "                                                      wm811k_new_train_class_Loc_shearing,\n",
    "                                                      wm811k_new_train_class_Loc_resize\n",
    "                                                     ])\n",
    "wm811k_new_train_class_Loc_augmentation.info()"
   ]
  },
  {
   "cell_type": "code",
   "execution_count": 52,
   "id": "99f33ecb",
   "metadata": {
    "execution": {
     "iopub.execute_input": "2022-04-09T17:53:33.395973Z",
     "iopub.status.busy": "2022-04-09T17:53:33.395973Z",
     "iopub.status.idle": "2022-04-09T17:53:35.914809Z",
     "shell.execute_reply": "2022-04-09T17:53:35.914124Z",
     "shell.execute_reply.started": "2022-04-09T17:53:33.395973Z"
    },
    "tags": []
   },
   "outputs": [
    {
     "name": "stdout",
     "output_type": "stream",
     "text": [
      "<class 'pandas.core.frame.DataFrame'>\n",
      "Int64Index: 609 entries, 602 to 751939\n",
      "Data columns (total 10 columns):\n",
      " #   Column                     Non-Null Count  Dtype  \n",
      "---  ------                     --------------  -----  \n",
      " 0   waferMap                   609 non-null    object \n",
      " 1   dieSize                    609 non-null    float64\n",
      " 2   lotName                    609 non-null    object \n",
      " 3   trianTestLabel             609 non-null    object \n",
      " 4   failureType                609 non-null    object \n",
      " 5   waferMapDim                609 non-null    object \n",
      " 6   failureNum                 609 non-null    object \n",
      " 7   trainTestNum               609 non-null    object \n",
      " 8   waferMap_augmentation      609 non-null    object \n",
      " 9   waferMap_augmentation_Dim  609 non-null    object \n",
      "dtypes: float64(1), object(9)\n",
      "memory usage: 52.3+ KB\n"
     ]
    },
    {
     "name": "stderr",
     "output_type": "stream",
     "text": [
      "C:\\Users\\kjt\\Anaconda3\\envs\\dlit\\lib\\site-packages\\ipykernel_launcher.py:3: SettingWithCopyWarning: \n",
      "A value is trying to be set on a copy of a slice from a DataFrame.\n",
      "Try using .loc[row_indexer,col_indexer] = value instead\n",
      "\n",
      "See the caveats in the documentation: https://pandas.pydata.org/pandas-docs/stable/user_guide/indexing.html#returning-a-view-versus-a-copy\n",
      "  This is separate from the ipykernel package so we can avoid doing imports until\n",
      "C:\\Users\\kjt\\Anaconda3\\envs\\dlit\\lib\\site-packages\\ipykernel_launcher.py:4: SettingWithCopyWarning: \n",
      "A value is trying to be set on a copy of a slice from a DataFrame.\n",
      "Try using .loc[row_indexer,col_indexer] = value instead\n",
      "\n",
      "See the caveats in the documentation: https://pandas.pydata.org/pandas-docs/stable/user_guide/indexing.html#returning-a-view-versus-a-copy\n",
      "  after removing the cwd from sys.path.\n"
     ]
    },
    {
     "name": "stdout",
     "output_type": "stream",
     "text": [
      "<class 'pandas.core.frame.DataFrame'>\n",
      "Int64Index: 1827 entries, 602 to 751939\n",
      "Data columns (total 10 columns):\n",
      " #   Column                     Non-Null Count  Dtype  \n",
      "---  ------                     --------------  -----  \n",
      " 0   waferMap                   1827 non-null   object \n",
      " 1   dieSize                    1827 non-null   float64\n",
      " 2   lotName                    1827 non-null   object \n",
      " 3   trianTestLabel             1827 non-null   object \n",
      " 4   failureType                1827 non-null   object \n",
      " 5   waferMapDim                1827 non-null   object \n",
      " 6   failureNum                 1827 non-null   object \n",
      " 7   trainTestNum               1827 non-null   object \n",
      " 8   waferMap_augmentation      1827 non-null   object \n",
      " 9   waferMap_augmentation_Dim  1827 non-null   object \n",
      "dtypes: float64(1), object(9)\n",
      "memory usage: 157.0+ KB\n",
      "<class 'pandas.core.frame.DataFrame'>\n",
      "Int64Index: 3654 entries, 602 to 751939\n",
      "Data columns (total 10 columns):\n",
      " #   Column                     Non-Null Count  Dtype  \n",
      "---  ------                     --------------  -----  \n",
      " 0   waferMap                   3654 non-null   object \n",
      " 1   dieSize                    3654 non-null   float64\n",
      " 2   lotName                    3654 non-null   object \n",
      " 3   trianTestLabel             3654 non-null   object \n",
      " 4   failureType                3654 non-null   object \n",
      " 5   waferMapDim                3654 non-null   object \n",
      " 6   failureNum                 3654 non-null   object \n",
      " 7   trainTestNum               3654 non-null   object \n",
      " 8   waferMap_augmentation      3654 non-null   object \n",
      " 9   waferMap_augmentation_Dim  3654 non-null   object \n",
      "dtypes: float64(1), object(9)\n",
      "memory usage: 314.0+ KB\n",
      "<class 'pandas.core.frame.DataFrame'>\n",
      "Int64Index: 10000 entries, 602 to 124703\n",
      "Data columns (total 10 columns):\n",
      " #   Column                     Non-Null Count  Dtype  \n",
      "---  ------                     --------------  -----  \n",
      " 0   waferMap                   10000 non-null  object \n",
      " 1   dieSize                    10000 non-null  float64\n",
      " 2   lotName                    10000 non-null  object \n",
      " 3   trianTestLabel             10000 non-null  object \n",
      " 4   failureType                10000 non-null  object \n",
      " 5   waferMapDim                10000 non-null  object \n",
      " 6   failureNum                 10000 non-null  object \n",
      " 7   trainTestNum               10000 non-null  object \n",
      " 8   waferMap_augmentation      10000 non-null  object \n",
      " 9   waferMap_augmentation_Dim  10000 non-null  object \n",
      "dtypes: float64(1), object(9)\n",
      "memory usage: 859.4+ KB\n"
     ]
    }
   ],
   "source": [
    "# Random(5) 현 보유 609개 / 9,391개 augmentation 필요\n",
    "wm811k_new_train_class_Random = wm811k_train.query(\"failureNum == 5\")\n",
    "wm811k_new_train_class_Random[\"waferMap_augmentation\"] = wm811k_new_train_class_Random['waferMap'].apply(lambda x: zero_padding(x,224))\n",
    "wm811k_new_train_class_Random['waferMap_augmentation_Dim']=wm811k_new_train_class_Random['waferMap_augmentation'].apply(find_dim)\n",
    "wm811k_new_train_class_Random.info()\n",
    "\n",
    "# +10도 회전 : 609개\n",
    "wm811k_new_train_class_Random_10 = wm811k_new_train_class_Random.copy()\n",
    "wm811k_new_train_class_Random_10[\"waferMap_augmentation\"] = wm811k_new_train_class_Random_10[\"waferMap\"].apply(lambda x: rotation_10_degree(x))\n",
    "wm811k_new_train_class_Random_10['waferMap_augmentation_Dim']=wm811k_new_train_class_Random_10['waferMap_augmentation'].apply(find_dim)\n",
    "\n",
    "# -10도 회전 : 609개\n",
    "wm811k_new_train_class_Random_minus_10 = wm811k_new_train_class_Random.copy()\n",
    "wm811k_new_train_class_Random_minus_10[\"waferMap_augmentation\"] = wm811k_new_train_class_Random_minus_10[\"waferMap\"].apply(lambda x: rotation_minus_10_degree(x))\n",
    "wm811k_new_train_class_Random_minus_10['waferMap_augmentation_Dim']=wm811k_new_train_class_Random_minus_10['waferMap_augmentation'].apply(find_dim)\n",
    "\n",
    "# 중간 concat : 1827개\n",
    "wm811k_new_train_class_Random_patial_concat1 = pd.concat([wm811k_new_train_class_Random,\n",
    "                                                          wm811k_new_train_class_Random_10,\n",
    "                                                          wm811k_new_train_class_Random_minus_10\n",
    "                                                         ])\n",
    "wm811k_new_train_class_Random_patial_concat1.info()\n",
    "\n",
    "# 좌우 대칭 : 1827개\n",
    "wm811k_new_train_class_Random_flip = wm811k_new_train_class_Random_patial_concat1.copy()\n",
    "wm811k_new_train_class_Random_flip[\"waferMap_augmentation\"] = wm811k_new_train_class_Random_flip[\"waferMap\"].apply(lambda x: filping(x))\n",
    "wm811k_new_train_class_Random_flip['waferMap_augmentation_Dim']=wm811k_new_train_class_Random_flip['waferMap_augmentation'].apply(find_dim)\n",
    "\n",
    "# 중간 concat : 3654개\n",
    "wm811k_new_train_class_Random_patial_concat2 = pd.concat([wm811k_new_train_class_Random,\n",
    "                                                          wm811k_new_train_class_Random_10,\n",
    "                                                          wm811k_new_train_class_Random_minus_10,\n",
    "                                                          wm811k_new_train_class_Random_flip\n",
    "                                                         ])\n",
    "wm811k_new_train_class_Random_patial_concat2.info()\n",
    "\n",
    "# 평행 이동 : 2115개\n",
    "wm811k_new_train_class_Random_translate = wm811k_new_train_class_Random_patial_concat2.sample(n=2115, random_state=2022)\n",
    "wm811k_new_train_class_Random_translate[\"waferMap_augmentation\"] = wm811k_new_train_class_Random_translate[\"waferMap\"].apply(lambda x: translate(x))\n",
    "wm811k_new_train_class_Random_translate['waferMap_augmentation_Dim']=wm811k_new_train_class_Random_translate['waferMap_augmentation'].apply(find_dim)\n",
    "\n",
    "# 전단 범위(shearing range) : 2115개\n",
    "wm811k_new_train_class_Random_shearing = wm811k_new_train_class_Random_patial_concat2.sample(n=2115, random_state=2022)\n",
    "wm811k_new_train_class_Random_shearing[\"waferMap_augmentation\"] = wm811k_new_train_class_Random_shearing[\"waferMap\"].apply(lambda x: shearing(x))\n",
    "wm811k_new_train_class_Random_shearing['waferMap_augmentation_Dim']=wm811k_new_train_class_Random_shearing['waferMap_augmentation'].apply(find_dim)\n",
    "\n",
    "# 확대 : 2116개\n",
    "wm811k_new_train_class_Random_resize = wm811k_new_train_class_Random_patial_concat2.sample(n=2116, random_state=2022)\n",
    "wm811k_new_train_class_Random_resize[\"waferMap_augmentation\"] = wm811k_new_train_class_Random_resize[\"waferMap\"].apply(lambda x: resizing(x))\n",
    "wm811k_new_train_class_Random_resize['waferMap_augmentation_Dim']=wm811k_new_train_class_Random_resize['waferMap_augmentation'].apply(find_dim)\n",
    "\n",
    "# concat\n",
    "wm811k_new_train_class_Random_augmentation = pd.concat([wm811k_new_train_class_Random,\n",
    "                                                        wm811k_new_train_class_Random_10,\n",
    "                                                        wm811k_new_train_class_Random_minus_10,\n",
    "                                                        wm811k_new_train_class_Random_flip,\n",
    "                                                        wm811k_new_train_class_Random_translate,\n",
    "                                                        wm811k_new_train_class_Random_shearing,\n",
    "                                                        wm811k_new_train_class_Random_resize\n",
    "                                                       ])\n",
    "wm811k_new_train_class_Random_augmentation.info()"
   ]
  },
  {
   "cell_type": "code",
   "execution_count": 53,
   "id": "67f0fa74",
   "metadata": {
    "execution": {
     "iopub.execute_input": "2022-04-09T17:53:35.916837Z",
     "iopub.status.busy": "2022-04-09T17:53:35.916837Z",
     "iopub.status.idle": "2022-04-09T17:53:39.188138Z",
     "shell.execute_reply": "2022-04-09T17:53:39.187633Z",
     "shell.execute_reply.started": "2022-04-09T17:53:35.916837Z"
    },
    "tags": []
   },
   "outputs": [
    {
     "name": "stdout",
     "output_type": "stream",
     "text": [
      "<class 'pandas.core.frame.DataFrame'>\n",
      "Int64Index: 500 entries, 134 to 791228\n",
      "Data columns (total 10 columns):\n",
      " #   Column                     Non-Null Count  Dtype  \n",
      "---  ------                     --------------  -----  \n",
      " 0   waferMap                   500 non-null    object \n",
      " 1   dieSize                    500 non-null    float64\n",
      " 2   lotName                    500 non-null    object \n",
      " 3   trianTestLabel             500 non-null    object \n",
      " 4   failureType                500 non-null    object \n",
      " 5   waferMapDim                500 non-null    object \n",
      " 6   failureNum                 500 non-null    object \n",
      " 7   trainTestNum               500 non-null    object \n",
      " 8   waferMap_augmentation      500 non-null    object \n",
      " 9   waferMap_augmentation_Dim  500 non-null    object \n",
      "dtypes: float64(1), object(9)\n",
      "memory usage: 43.0+ KB\n"
     ]
    },
    {
     "name": "stderr",
     "output_type": "stream",
     "text": [
      "C:\\Users\\kjt\\Anaconda3\\envs\\dlit\\lib\\site-packages\\ipykernel_launcher.py:3: SettingWithCopyWarning: \n",
      "A value is trying to be set on a copy of a slice from a DataFrame.\n",
      "Try using .loc[row_indexer,col_indexer] = value instead\n",
      "\n",
      "See the caveats in the documentation: https://pandas.pydata.org/pandas-docs/stable/user_guide/indexing.html#returning-a-view-versus-a-copy\n",
      "  This is separate from the ipykernel package so we can avoid doing imports until\n",
      "C:\\Users\\kjt\\Anaconda3\\envs\\dlit\\lib\\site-packages\\ipykernel_launcher.py:4: SettingWithCopyWarning: \n",
      "A value is trying to be set on a copy of a slice from a DataFrame.\n",
      "Try using .loc[row_indexer,col_indexer] = value instead\n",
      "\n",
      "See the caveats in the documentation: https://pandas.pydata.org/pandas-docs/stable/user_guide/indexing.html#returning-a-view-versus-a-copy\n",
      "  after removing the cwd from sys.path.\n"
     ]
    },
    {
     "name": "stdout",
     "output_type": "stream",
     "text": [
      "<class 'pandas.core.frame.DataFrame'>\n",
      "Int64Index: 1500 entries, 134 to 791228\n",
      "Data columns (total 10 columns):\n",
      " #   Column                     Non-Null Count  Dtype  \n",
      "---  ------                     --------------  -----  \n",
      " 0   waferMap                   1500 non-null   object \n",
      " 1   dieSize                    1500 non-null   float64\n",
      " 2   lotName                    1500 non-null   object \n",
      " 3   trianTestLabel             1500 non-null   object \n",
      " 4   failureType                1500 non-null   object \n",
      " 5   waferMapDim                1500 non-null   object \n",
      " 6   failureNum                 1500 non-null   object \n",
      " 7   trainTestNum               1500 non-null   object \n",
      " 8   waferMap_augmentation      1500 non-null   object \n",
      " 9   waferMap_augmentation_Dim  1500 non-null   object \n",
      "dtypes: float64(1), object(9)\n",
      "memory usage: 128.9+ KB\n",
      "<class 'pandas.core.frame.DataFrame'>\n",
      "Int64Index: 3000 entries, 134 to 791228\n",
      "Data columns (total 10 columns):\n",
      " #   Column                     Non-Null Count  Dtype  \n",
      "---  ------                     --------------  -----  \n",
      " 0   waferMap                   3000 non-null   object \n",
      " 1   dieSize                    3000 non-null   float64\n",
      " 2   lotName                    3000 non-null   object \n",
      " 3   trianTestLabel             3000 non-null   object \n",
      " 4   failureType                3000 non-null   object \n",
      " 5   waferMapDim                3000 non-null   object \n",
      " 6   failureNum                 3000 non-null   object \n",
      " 7   trainTestNum               3000 non-null   object \n",
      " 8   waferMap_augmentation      3000 non-null   object \n",
      " 9   waferMap_augmentation_Dim  3000 non-null   object \n",
      "dtypes: float64(1), object(9)\n",
      "memory usage: 257.8+ KB\n",
      "<class 'pandas.core.frame.DataFrame'>\n",
      "Int64Index: 6000 entries, 134 to 791228\n",
      "Data columns (total 10 columns):\n",
      " #   Column                     Non-Null Count  Dtype  \n",
      "---  ------                     --------------  -----  \n",
      " 0   waferMap                   6000 non-null   object \n",
      " 1   dieSize                    6000 non-null   float64\n",
      " 2   lotName                    6000 non-null   object \n",
      " 3   trianTestLabel             6000 non-null   object \n",
      " 4   failureType                6000 non-null   object \n",
      " 5   waferMapDim                6000 non-null   object \n",
      " 6   failureNum                 6000 non-null   object \n",
      " 7   trainTestNum               6000 non-null   object \n",
      " 8   waferMap_augmentation      6000 non-null   object \n",
      " 9   waferMap_augmentation_Dim  6000 non-null   object \n",
      "dtypes: float64(1), object(9)\n",
      "memory usage: 515.6+ KB\n",
      "<class 'pandas.core.frame.DataFrame'>\n",
      "Int64Index: 10000 entries, 134 to 358222\n",
      "Data columns (total 10 columns):\n",
      " #   Column                     Non-Null Count  Dtype  \n",
      "---  ------                     --------------  -----  \n",
      " 0   waferMap                   10000 non-null  object \n",
      " 1   dieSize                    10000 non-null  float64\n",
      " 2   lotName                    10000 non-null  object \n",
      " 3   trianTestLabel             10000 non-null  object \n",
      " 4   failureType                10000 non-null  object \n",
      " 5   waferMapDim                10000 non-null  object \n",
      " 6   failureNum                 10000 non-null  object \n",
      " 7   trainTestNum               10000 non-null  object \n",
      " 8   waferMap_augmentation      10000 non-null  object \n",
      " 9   waferMap_augmentation_Dim  10000 non-null  object \n",
      "dtypes: float64(1), object(9)\n",
      "memory usage: 859.4+ KB\n"
     ]
    }
   ],
   "source": [
    "# Scratch(6) 현 보유 500개 / 9,500개 augmentation 필요\n",
    "wm811k_new_train_class_Scratch = wm811k_train.query(\"failureNum == 6\")\n",
    "wm811k_new_train_class_Scratch[\"waferMap_augmentation\"] = wm811k_new_train_class_Scratch['waferMap'].apply(lambda x: zero_padding(x,224))\n",
    "wm811k_new_train_class_Scratch['waferMap_augmentation_Dim']=wm811k_new_train_class_Scratch['waferMap_augmentation'].apply(find_dim)\n",
    "wm811k_new_train_class_Scratch.info()\n",
    "\n",
    "# +10도 회전 : 500개\n",
    "wm811k_new_train_class_Scratch_10 = wm811k_new_train_class_Scratch.copy()\n",
    "wm811k_new_train_class_Scratch_10[\"waferMap_augmentation\"] = wm811k_new_train_class_Scratch_10[\"waferMap\"].apply(lambda x: rotation_10_degree(x))\n",
    "wm811k_new_train_class_Scratch_10['waferMap_augmentation_Dim']=wm811k_new_train_class_Scratch_10['waferMap_augmentation'].apply(find_dim)\n",
    "\n",
    "# -10도 회전 : 500개\n",
    "wm811k_new_train_class_Scratch_minus_10 = wm811k_new_train_class_Scratch.copy()\n",
    "wm811k_new_train_class_Scratch_minus_10[\"waferMap_augmentation\"] = wm811k_new_train_class_Scratch_minus_10[\"waferMap\"].apply(lambda x: rotation_minus_10_degree(x))\n",
    "wm811k_new_train_class_Scratch_minus_10['waferMap_augmentation_Dim']=wm811k_new_train_class_Scratch_minus_10['waferMap_augmentation'].apply(find_dim)\n",
    "\n",
    "# 중간 concat1 : 1500개\n",
    "wm811k_new_train_class_Scratch_patial_concat1 = pd.concat([wm811k_new_train_class_Scratch,\n",
    "                                                           wm811k_new_train_class_Scratch_10,\n",
    "                                                           wm811k_new_train_class_Scratch_minus_10\n",
    "                                                          ])\n",
    "wm811k_new_train_class_Scratch_patial_concat1.info()\n",
    "\n",
    "# 좌우 대칭 : 1500개\n",
    "wm811k_new_train_class_Scratch_flip = wm811k_new_train_class_Scratch_patial_concat1.copy()\n",
    "wm811k_new_train_class_Scratch_flip[\"waferMap_augmentation\"] = wm811k_new_train_class_Scratch_flip[\"waferMap\"].apply(lambda x: filping(x))\n",
    "wm811k_new_train_class_Scratch_flip['waferMap_augmentation_Dim']=wm811k_new_train_class_Scratch_flip['waferMap_augmentation'].apply(find_dim)\n",
    "\n",
    "# 중간 concat2 : 3000개\n",
    "wm811k_new_train_class_Scratch_patial_concat2 = pd.concat([wm811k_new_train_class_Scratch,\n",
    "                                                           wm811k_new_train_class_Scratch_10,\n",
    "                                                           wm811k_new_train_class_Scratch_minus_10,\n",
    "                                                           wm811k_new_train_class_Scratch_flip\n",
    "                                                          ])\n",
    "wm811k_new_train_class_Scratch_patial_concat2.info()\n",
    "\n",
    "# 평행 이동 : 3000개\n",
    "wm811k_new_train_class_Scratch_translate = wm811k_new_train_class_Scratch_patial_concat2.copy()\n",
    "wm811k_new_train_class_Scratch_translate[\"waferMap_augmentation\"] = wm811k_new_train_class_Scratch_translate[\"waferMap\"].apply(lambda x: translate(x))\n",
    "wm811k_new_train_class_Scratch_translate['waferMap_augmentation_Dim']=wm811k_new_train_class_Scratch_translate['waferMap_augmentation'].apply(find_dim)\n",
    "\n",
    "# 중간 concat3 : 6000개\n",
    "wm811k_new_train_class_Scratch_patial_concat3 = pd.concat([wm811k_new_train_class_Scratch,\n",
    "                                                           wm811k_new_train_class_Scratch_10,\n",
    "                                                           wm811k_new_train_class_Scratch_minus_10,\n",
    "                                                           wm811k_new_train_class_Scratch_flip,\n",
    "                                                           wm811k_new_train_class_Scratch_translate\n",
    "                                                          ])\n",
    "wm811k_new_train_class_Scratch_patial_concat3.info()\n",
    "\n",
    "# 전단 범위(shearing range) : 2000개\n",
    "wm811k_new_train_class_Scratch_shearing = wm811k_new_train_class_Scratch_patial_concat3.sample(n=2000, random_state=2022)\n",
    "wm811k_new_train_class_Scratch_shearing[\"waferMap_augmentation\"] = wm811k_new_train_class_Scratch_shearing[\"waferMap\"].apply(lambda x: shearing(x))\n",
    "wm811k_new_train_class_Scratch_shearing['waferMap_augmentation_Dim']=wm811k_new_train_class_Scratch_shearing['waferMap_augmentation'].apply(find_dim)\n",
    "\n",
    "# 확대 : 2000개\n",
    "wm811k_new_train_class_Scratch_resize = wm811k_new_train_class_Scratch_patial_concat3.sample(n=2000, random_state=2022)\n",
    "wm811k_new_train_class_Scratch_resize[\"waferMap_augmentation\"] = wm811k_new_train_class_Scratch_resize[\"waferMap\"].apply(lambda x: resizing(x))\n",
    "wm811k_new_train_class_Scratch_resize['waferMap_augmentation_Dim']=wm811k_new_train_class_Scratch_resize['waferMap_augmentation'].apply(find_dim)\n",
    "\n",
    "# concat\n",
    "wm811k_new_train_class_Scratch_augmentation = pd.concat([wm811k_new_train_class_Scratch,\n",
    "                                                         wm811k_new_train_class_Scratch_10,\n",
    "                                                         wm811k_new_train_class_Scratch_minus_10,\n",
    "                                                         wm811k_new_train_class_Scratch_flip,\n",
    "                                                         wm811k_new_train_class_Scratch_translate,\n",
    "                                                         wm811k_new_train_class_Scratch_shearing,\n",
    "                                                         wm811k_new_train_class_Scratch_resize\n",
    "                                                        ])\n",
    "wm811k_new_train_class_Scratch_augmentation.info()"
   ]
  },
  {
   "cell_type": "code",
   "execution_count": 54,
   "id": "58454f6b",
   "metadata": {
    "execution": {
     "iopub.execute_input": "2022-04-09T17:53:39.191177Z",
     "iopub.status.busy": "2022-04-09T17:53:39.190176Z",
     "iopub.status.idle": "2022-04-09T17:53:45.785687Z",
     "shell.execute_reply": "2022-04-09T17:53:45.785225Z",
     "shell.execute_reply.started": "2022-04-09T17:53:39.191177Z"
    },
    "tags": []
   },
   "outputs": [
    {
     "name": "stdout",
     "output_type": "stream",
     "text": [
      "<class 'pandas.core.frame.DataFrame'>\n",
      "Int64Index: 409 entries, 7316 to 747563\n",
      "Data columns (total 10 columns):\n",
      " #   Column                     Non-Null Count  Dtype  \n",
      "---  ------                     --------------  -----  \n",
      " 0   waferMap                   409 non-null    object \n",
      " 1   dieSize                    409 non-null    float64\n",
      " 2   lotName                    409 non-null    object \n",
      " 3   trianTestLabel             409 non-null    object \n",
      " 4   failureType                409 non-null    object \n",
      " 5   waferMapDim                409 non-null    object \n",
      " 6   failureNum                 409 non-null    object \n",
      " 7   trainTestNum               409 non-null    object \n",
      " 8   waferMap_augmentation      409 non-null    object \n",
      " 9   waferMap_augmentation_Dim  409 non-null    object \n",
      "dtypes: float64(1), object(9)\n",
      "memory usage: 35.1+ KB\n",
      "<class 'pandas.core.frame.DataFrame'>\n",
      "Int64Index: 1227 entries, 7316 to 747563\n",
      "Data columns (total 10 columns):\n",
      " #   Column                     Non-Null Count  Dtype  \n",
      "---  ------                     --------------  -----  \n",
      " 0   waferMap                   1227 non-null   object \n",
      " 1   dieSize                    1227 non-null   float64\n",
      " 2   lotName                    1227 non-null   object \n",
      " 3   trianTestLabel             1227 non-null   object \n",
      " 4   failureType                1227 non-null   object \n",
      " 5   waferMapDim                1227 non-null   object \n",
      " 6   failureNum                 1227 non-null   object \n",
      " 7   trainTestNum               1227 non-null   object \n",
      " 8   waferMap_augmentation      1227 non-null   object \n",
      " 9   waferMap_augmentation_Dim  1227 non-null   object \n",
      "dtypes: float64(1), object(9)\n",
      "memory usage: 105.4+ KB\n"
     ]
    },
    {
     "name": "stderr",
     "output_type": "stream",
     "text": [
      "C:\\Users\\kjt\\Anaconda3\\envs\\dlit\\lib\\site-packages\\ipykernel_launcher.py:3: SettingWithCopyWarning: \n",
      "A value is trying to be set on a copy of a slice from a DataFrame.\n",
      "Try using .loc[row_indexer,col_indexer] = value instead\n",
      "\n",
      "See the caveats in the documentation: https://pandas.pydata.org/pandas-docs/stable/user_guide/indexing.html#returning-a-view-versus-a-copy\n",
      "  This is separate from the ipykernel package so we can avoid doing imports until\n",
      "C:\\Users\\kjt\\Anaconda3\\envs\\dlit\\lib\\site-packages\\ipykernel_launcher.py:4: SettingWithCopyWarning: \n",
      "A value is trying to be set on a copy of a slice from a DataFrame.\n",
      "Try using .loc[row_indexer,col_indexer] = value instead\n",
      "\n",
      "See the caveats in the documentation: https://pandas.pydata.org/pandas-docs/stable/user_guide/indexing.html#returning-a-view-versus-a-copy\n",
      "  after removing the cwd from sys.path.\n"
     ]
    },
    {
     "name": "stdout",
     "output_type": "stream",
     "text": [
      "<class 'pandas.core.frame.DataFrame'>\n",
      "Int64Index: 2454 entries, 7316 to 747563\n",
      "Data columns (total 10 columns):\n",
      " #   Column                     Non-Null Count  Dtype  \n",
      "---  ------                     --------------  -----  \n",
      " 0   waferMap                   2454 non-null   object \n",
      " 1   dieSize                    2454 non-null   float64\n",
      " 2   lotName                    2454 non-null   object \n",
      " 3   trianTestLabel             2454 non-null   object \n",
      " 4   failureType                2454 non-null   object \n",
      " 5   waferMapDim                2454 non-null   object \n",
      " 6   failureNum                 2454 non-null   object \n",
      " 7   trainTestNum               2454 non-null   object \n",
      " 8   waferMap_augmentation      2454 non-null   object \n",
      " 9   waferMap_augmentation_Dim  2454 non-null   object \n",
      "dtypes: float64(1), object(9)\n",
      "memory usage: 210.9+ KB\n",
      "<class 'pandas.core.frame.DataFrame'>\n",
      "Int64Index: 4908 entries, 7316 to 747563\n",
      "Data columns (total 10 columns):\n",
      " #   Column                     Non-Null Count  Dtype  \n",
      "---  ------                     --------------  -----  \n",
      " 0   waferMap                   4908 non-null   object \n",
      " 1   dieSize                    4908 non-null   float64\n",
      " 2   lotName                    4908 non-null   object \n",
      " 3   trianTestLabel             4908 non-null   object \n",
      " 4   failureType                4908 non-null   object \n",
      " 5   waferMapDim                4908 non-null   object \n",
      " 6   failureNum                 4908 non-null   object \n",
      " 7   trainTestNum               4908 non-null   object \n",
      " 8   waferMap_augmentation      4908 non-null   object \n",
      " 9   waferMap_augmentation_Dim  4908 non-null   object \n",
      "dtypes: float64(1), object(9)\n",
      "memory usage: 421.8+ KB\n",
      "<class 'pandas.core.frame.DataFrame'>\n",
      "Int64Index: 9816 entries, 7316 to 747563\n",
      "Data columns (total 10 columns):\n",
      " #   Column                     Non-Null Count  Dtype  \n",
      "---  ------                     --------------  -----  \n",
      " 0   waferMap                   9816 non-null   object \n",
      " 1   dieSize                    9816 non-null   float64\n",
      " 2   lotName                    9816 non-null   object \n",
      " 3   trianTestLabel             9816 non-null   object \n",
      " 4   failureType                9816 non-null   object \n",
      " 5   waferMapDim                9816 non-null   object \n",
      " 6   failureNum                 9816 non-null   object \n",
      " 7   trainTestNum               9816 non-null   object \n",
      " 8   waferMap_augmentation      9816 non-null   object \n",
      " 9   waferMap_augmentation_Dim  9816 non-null   object \n",
      "dtypes: float64(1), object(9)\n",
      "memory usage: 843.6+ KB\n",
      "<class 'pandas.core.frame.DataFrame'>\n",
      "Int64Index: 10000 entries, 7316 to 279392\n",
      "Data columns (total 10 columns):\n",
      " #   Column                     Non-Null Count  Dtype  \n",
      "---  ------                     --------------  -----  \n",
      " 0   waferMap                   10000 non-null  object \n",
      " 1   dieSize                    10000 non-null  float64\n",
      " 2   lotName                    10000 non-null  object \n",
      " 3   trianTestLabel             10000 non-null  object \n",
      " 4   failureType                10000 non-null  object \n",
      " 5   waferMapDim                10000 non-null  object \n",
      " 6   failureNum                 10000 non-null  object \n",
      " 7   trainTestNum               10000 non-null  object \n",
      " 8   waferMap_augmentation      10000 non-null  object \n",
      " 9   waferMap_augmentation_Dim  10000 non-null  object \n",
      "dtypes: float64(1), object(9)\n",
      "memory usage: 859.4+ KB\n"
     ]
    }
   ],
   "source": [
    "# Donut(1) 현 보유 409개 / 9,591개 augmentation 필요\n",
    "wm811k_new_train_class_Donut = wm811k_train.query(\"failureNum == 1\")\n",
    "wm811k_new_train_class_Donut[\"waferMap_augmentation\"] = wm811k_new_train_class_Donut['waferMap'].apply(lambda x: zero_padding(x,224))\n",
    "wm811k_new_train_class_Donut['waferMap_augmentation_Dim']=wm811k_new_train_class_Donut['waferMap_augmentation'].apply(find_dim)\n",
    "wm811k_new_train_class_Donut.info()\n",
    "\n",
    "# +10도 회전 : 409개\n",
    "wm811k_new_train_class_Donut_10 = wm811k_new_train_class_Donut.copy()\n",
    "wm811k_new_train_class_Donut_10[\"waferMap_augmentation\"] = wm811k_new_train_class_Donut_10[\"waferMap\"].apply(lambda x: rotation_10_degree(x))\n",
    "wm811k_new_train_class_Donut_10['waferMap_augmentation_Dim']=wm811k_new_train_class_Donut_10['waferMap_augmentation'].apply(find_dim)\n",
    "\n",
    "# -10도 회전 : 409개\n",
    "wm811k_new_train_class_Donut_minus_10 = wm811k_new_train_class_Donut.copy()\n",
    "wm811k_new_train_class_Donut_minus_10[\"waferMap_augmentation\"] = wm811k_new_train_class_Donut_minus_10[\"waferMap\"].apply(lambda x: rotation_minus_10_degree(x))\n",
    "wm811k_new_train_class_Donut_minus_10['waferMap_augmentation_Dim']=wm811k_new_train_class_Donut_minus_10['waferMap_augmentation'].apply(find_dim)\n",
    "\n",
    "# 중간 concat1 : 1227개\n",
    "wm811k_new_train_class_Donut_patial_concat1 = pd.concat([wm811k_new_train_class_Donut,\n",
    "                                                         wm811k_new_train_class_Donut_10,\n",
    "                                                         wm811k_new_train_class_Donut_minus_10\n",
    "                                                        ])\n",
    "wm811k_new_train_class_Donut_patial_concat1.info()\n",
    "\n",
    "# 좌우 대칭 : 1227개\n",
    "wm811k_new_train_class_Donut_flip = wm811k_new_train_class_Donut_patial_concat1.copy()\n",
    "wm811k_new_train_class_Donut_flip[\"waferMap_augmentation\"] = wm811k_new_train_class_Donut_flip[\"waferMap\"].apply(lambda x: filping(x))\n",
    "wm811k_new_train_class_Donut_flip['waferMap_augmentation_Dim']=wm811k_new_train_class_Donut_flip['waferMap_augmentation'].apply(find_dim)\n",
    "\n",
    "# 중간 concat2 : 2454개\n",
    "wm811k_new_train_class_Donut_patial_concat2 = pd.concat([wm811k_new_train_class_Donut,\n",
    "                                                         wm811k_new_train_class_Donut_10,\n",
    "                                                         wm811k_new_train_class_Donut_minus_10,\n",
    "                                                         wm811k_new_train_class_Donut_flip\n",
    "                                                        ])\n",
    "wm811k_new_train_class_Donut_patial_concat2.info()\n",
    "\n",
    "# 평행 이동 : 2454개\n",
    "wm811k_new_train_class_Donut_translate = wm811k_new_train_class_Donut_patial_concat2.copy()\n",
    "wm811k_new_train_class_Donut_translate[\"waferMap_augmentation\"] = wm811k_new_train_class_Donut_translate[\"waferMap\"].apply(lambda x: translate(x))\n",
    "wm811k_new_train_class_Donut_translate['waferMap_augmentation_Dim']=wm811k_new_train_class_Donut_translate['waferMap_augmentation'].apply(find_dim)\n",
    "\n",
    "# 중간 concat3 : 4908개\n",
    "wm811k_new_train_class_Donut_patial_concat3 = pd.concat([wm811k_new_train_class_Donut,\n",
    "                                                         wm811k_new_train_class_Donut_10,\n",
    "                                                         wm811k_new_train_class_Donut_minus_10,\n",
    "                                                         wm811k_new_train_class_Donut_flip,\n",
    "                                                         wm811k_new_train_class_Donut_translate\n",
    "                                                        ])\n",
    "wm811k_new_train_class_Donut_patial_concat3.info()\n",
    "\n",
    "# 전단 범위(shearing range) : 4908개\n",
    "wm811k_new_train_class_Donut_shearing = wm811k_new_train_class_Donut_patial_concat3.copy()\n",
    "wm811k_new_train_class_Donut_shearing[\"waferMap_augmentation\"] = wm811k_new_train_class_Donut_shearing[\"waferMap\"].apply(lambda x: shearing(x))\n",
    "wm811k_new_train_class_Donut_shearing['waferMap_augmentation_Dim']=wm811k_new_train_class_Donut_shearing['waferMap_augmentation'].apply(find_dim)\n",
    "\n",
    "# 중간 concat4 : 9816개\n",
    "wm811k_new_train_class_Donut_patial_concat4 = pd.concat([wm811k_new_train_class_Donut,\n",
    "                                                         wm811k_new_train_class_Donut_10,\n",
    "                                                         wm811k_new_train_class_Donut_minus_10,\n",
    "                                                         wm811k_new_train_class_Donut_flip,\n",
    "                                                         wm811k_new_train_class_Donut_translate,\n",
    "                                                         wm811k_new_train_class_Donut_shearing\n",
    "                                                        ])\n",
    "wm811k_new_train_class_Donut_patial_concat4.info()\n",
    "\n",
    "# 확대 : 184개\n",
    "wm811k_new_train_class_Donut_resize = wm811k_new_train_class_Donut_patial_concat4.sample(n=184, random_state=2022)\n",
    "wm811k_new_train_class_Donut_resize[\"waferMap_augmentation\"] = wm811k_new_train_class_Donut_resize[\"waferMap\"].apply(lambda x: resizing(x))\n",
    "wm811k_new_train_class_Donut_resize['waferMap_augmentation_Dim']=wm811k_new_train_class_Donut_resize['waferMap_augmentation'].apply(find_dim)\n",
    "\n",
    "# concat\n",
    "wm811k_new_train_class_Donut_augmentation = pd.concat([wm811k_new_train_class_Donut,\n",
    "                                                       wm811k_new_train_class_Donut_10,\n",
    "                                                       wm811k_new_train_class_Donut_minus_10,\n",
    "                                                       wm811k_new_train_class_Donut_flip,\n",
    "                                                       wm811k_new_train_class_Donut_translate,\n",
    "                                                       wm811k_new_train_class_Donut_shearing,\n",
    "                                                       wm811k_new_train_class_Donut_resize\n",
    "                                                      ])\n",
    "wm811k_new_train_class_Donut_augmentation.info()"
   ]
  },
  {
   "cell_type": "code",
   "execution_count": 55,
   "id": "bd7eb091",
   "metadata": {
    "execution": {
     "iopub.execute_input": "2022-04-09T17:53:45.789708Z",
     "iopub.status.busy": "2022-04-09T17:53:45.788849Z",
     "iopub.status.idle": "2022-04-09T17:53:50.717276Z",
     "shell.execute_reply": "2022-04-09T17:53:50.716276Z",
     "shell.execute_reply.started": "2022-04-09T17:53:45.789593Z"
    },
    "tags": []
   },
   "outputs": [
    {
     "name": "stdout",
     "output_type": "stream",
     "text": [
      "<class 'pandas.core.frame.DataFrame'>\n",
      "Int64Index: 54 entries, 929 to 785955\n",
      "Data columns (total 10 columns):\n",
      " #   Column                     Non-Null Count  Dtype  \n",
      "---  ------                     --------------  -----  \n",
      " 0   waferMap                   54 non-null     object \n",
      " 1   dieSize                    54 non-null     float64\n",
      " 2   lotName                    54 non-null     object \n",
      " 3   trianTestLabel             54 non-null     object \n",
      " 4   failureType                54 non-null     object \n",
      " 5   waferMapDim                54 non-null     object \n",
      " 6   failureNum                 54 non-null     object \n",
      " 7   trainTestNum               54 non-null     object \n",
      " 8   waferMap_augmentation      54 non-null     object \n",
      " 9   waferMap_augmentation_Dim  54 non-null     object \n",
      "dtypes: float64(1), object(9)\n",
      "memory usage: 4.6+ KB\n"
     ]
    },
    {
     "name": "stderr",
     "output_type": "stream",
     "text": [
      "C:\\Users\\kjt\\Anaconda3\\envs\\dlit\\lib\\site-packages\\ipykernel_launcher.py:3: SettingWithCopyWarning: \n",
      "A value is trying to be set on a copy of a slice from a DataFrame.\n",
      "Try using .loc[row_indexer,col_indexer] = value instead\n",
      "\n",
      "See the caveats in the documentation: https://pandas.pydata.org/pandas-docs/stable/user_guide/indexing.html#returning-a-view-versus-a-copy\n",
      "  This is separate from the ipykernel package so we can avoid doing imports until\n",
      "C:\\Users\\kjt\\Anaconda3\\envs\\dlit\\lib\\site-packages\\ipykernel_launcher.py:4: SettingWithCopyWarning: \n",
      "A value is trying to be set on a copy of a slice from a DataFrame.\n",
      "Try using .loc[row_indexer,col_indexer] = value instead\n",
      "\n",
      "See the caveats in the documentation: https://pandas.pydata.org/pandas-docs/stable/user_guide/indexing.html#returning-a-view-versus-a-copy\n",
      "  after removing the cwd from sys.path.\n"
     ]
    },
    {
     "name": "stdout",
     "output_type": "stream",
     "text": [
      "<class 'pandas.core.frame.DataFrame'>\n",
      "Int64Index: 162 entries, 929 to 785955\n",
      "Data columns (total 10 columns):\n",
      " #   Column                     Non-Null Count  Dtype  \n",
      "---  ------                     --------------  -----  \n",
      " 0   waferMap                   162 non-null    object \n",
      " 1   dieSize                    162 non-null    float64\n",
      " 2   lotName                    162 non-null    object \n",
      " 3   trianTestLabel             162 non-null    object \n",
      " 4   failureType                162 non-null    object \n",
      " 5   waferMapDim                162 non-null    object \n",
      " 6   failureNum                 162 non-null    object \n",
      " 7   trainTestNum               162 non-null    object \n",
      " 8   waferMap_augmentation      162 non-null    object \n",
      " 9   waferMap_augmentation_Dim  162 non-null    object \n",
      "dtypes: float64(1), object(9)\n",
      "memory usage: 13.9+ KB\n",
      "<class 'pandas.core.frame.DataFrame'>\n",
      "Int64Index: 324 entries, 929 to 785955\n",
      "Data columns (total 10 columns):\n",
      " #   Column                     Non-Null Count  Dtype  \n",
      "---  ------                     --------------  -----  \n",
      " 0   waferMap                   324 non-null    object \n",
      " 1   dieSize                    324 non-null    float64\n",
      " 2   lotName                    324 non-null    object \n",
      " 3   trianTestLabel             324 non-null    object \n",
      " 4   failureType                324 non-null    object \n",
      " 5   waferMapDim                324 non-null    object \n",
      " 6   failureNum                 324 non-null    object \n",
      " 7   trainTestNum               324 non-null    object \n",
      " 8   waferMap_augmentation      324 non-null    object \n",
      " 9   waferMap_augmentation_Dim  324 non-null    object \n",
      "dtypes: float64(1), object(9)\n",
      "memory usage: 27.8+ KB\n",
      "<class 'pandas.core.frame.DataFrame'>\n",
      "Int64Index: 648 entries, 929 to 785955\n",
      "Data columns (total 10 columns):\n",
      " #   Column                     Non-Null Count  Dtype  \n",
      "---  ------                     --------------  -----  \n",
      " 0   waferMap                   648 non-null    object \n",
      " 1   dieSize                    648 non-null    float64\n",
      " 2   lotName                    648 non-null    object \n",
      " 3   trianTestLabel             648 non-null    object \n",
      " 4   failureType                648 non-null    object \n",
      " 5   waferMapDim                648 non-null    object \n",
      " 6   failureNum                 648 non-null    object \n",
      " 7   trainTestNum               648 non-null    object \n",
      " 8   waferMap_augmentation      648 non-null    object \n",
      " 9   waferMap_augmentation_Dim  648 non-null    object \n",
      "dtypes: float64(1), object(9)\n",
      "memory usage: 55.7+ KB\n",
      "<class 'pandas.core.frame.DataFrame'>\n",
      "Int64Index: 1296 entries, 929 to 785955\n",
      "Data columns (total 10 columns):\n",
      " #   Column                     Non-Null Count  Dtype  \n",
      "---  ------                     --------------  -----  \n",
      " 0   waferMap                   1296 non-null   object \n",
      " 1   dieSize                    1296 non-null   float64\n",
      " 2   lotName                    1296 non-null   object \n",
      " 3   trianTestLabel             1296 non-null   object \n",
      " 4   failureType                1296 non-null   object \n",
      " 5   waferMapDim                1296 non-null   object \n",
      " 6   failureNum                 1296 non-null   object \n",
      " 7   trainTestNum               1296 non-null   object \n",
      " 8   waferMap_augmentation      1296 non-null   object \n",
      " 9   waferMap_augmentation_Dim  1296 non-null   object \n",
      "dtypes: float64(1), object(9)\n",
      "memory usage: 111.4+ KB\n",
      "<class 'pandas.core.frame.DataFrame'>\n",
      "Int64Index: 2592 entries, 929 to 785955\n",
      "Data columns (total 10 columns):\n",
      " #   Column                     Non-Null Count  Dtype  \n",
      "---  ------                     --------------  -----  \n",
      " 0   waferMap                   2592 non-null   object \n",
      " 1   dieSize                    2592 non-null   float64\n",
      " 2   lotName                    2592 non-null   object \n",
      " 3   trianTestLabel             2592 non-null   object \n",
      " 4   failureType                2592 non-null   object \n",
      " 5   waferMapDim                2592 non-null   object \n",
      " 6   failureNum                 2592 non-null   object \n",
      " 7   trainTestNum               2592 non-null   object \n",
      " 8   waferMap_augmentation      2592 non-null   object \n",
      " 9   waferMap_augmentation_Dim  2592 non-null   object \n",
      "dtypes: float64(1), object(9)\n",
      "memory usage: 222.8+ KB\n",
      "<class 'pandas.core.frame.DataFrame'>\n",
      "Int64Index: 10000 entries, 929 to 699791\n",
      "Data columns (total 10 columns):\n",
      " #   Column                     Non-Null Count  Dtype  \n",
      "---  ------                     --------------  -----  \n",
      " 0   waferMap                   10000 non-null  object \n",
      " 1   dieSize                    10000 non-null  float64\n",
      " 2   lotName                    10000 non-null  object \n",
      " 3   trianTestLabel             10000 non-null  object \n",
      " 4   failureType                10000 non-null  object \n",
      " 5   waferMapDim                10000 non-null  object \n",
      " 6   failureNum                 10000 non-null  object \n",
      " 7   trainTestNum               10000 non-null  object \n",
      " 8   waferMap_augmentation      10000 non-null  object \n",
      " 9   waferMap_augmentation_Dim  10000 non-null  object \n",
      "dtypes: float64(1), object(9)\n",
      "memory usage: 859.4+ KB\n"
     ]
    }
   ],
   "source": [
    "# Near-full(7) 현 보유 54개 / 9,946개 augmentation 필요\n",
    "wm811k_new_train_class_Near_Full = wm811k_train.query(\"failureNum == 7\")\n",
    "wm811k_new_train_class_Near_Full[\"waferMap_augmentation\"] = wm811k_new_train_class_Near_Full['waferMap'].apply(lambda x: zero_padding(x,224))\n",
    "wm811k_new_train_class_Near_Full['waferMap_augmentation_Dim']=wm811k_new_train_class_Near_Full['waferMap_augmentation'].apply(find_dim)\n",
    "wm811k_new_train_class_Near_Full.info()\n",
    "\n",
    "# +10도 회전 : 54개\n",
    "wm811k_new_train_class_Near_Full_10 = wm811k_new_train_class_Near_Full.copy()\n",
    "wm811k_new_train_class_Near_Full_10[\"waferMap_augmentation\"] = wm811k_new_train_class_Near_Full_10[\"waferMap\"].apply(lambda x: rotation_10_degree(x))\n",
    "wm811k_new_train_class_Near_Full_10['waferMap_augmentation_Dim']=wm811k_new_train_class_Near_Full_10['waferMap_augmentation'].apply(find_dim)\n",
    "\n",
    "# -10도 회전 : 54개\n",
    "wm811k_new_train_class_Near_Full_minus_10 = wm811k_new_train_class_Near_Full.copy()\n",
    "wm811k_new_train_class_Near_Full_minus_10[\"waferMap_augmentation\"] = wm811k_new_train_class_Near_Full_minus_10[\"waferMap\"].apply(lambda x: rotation_minus_10_degree(x))\n",
    "wm811k_new_train_class_Near_Full_minus_10['waferMap_augmentation_Dim']= wm811k_new_train_class_Near_Full_minus_10['waferMap_augmentation'].apply(find_dim)\n",
    "\n",
    "# 중간 concat1 : 162개\n",
    "wm811k_new_train_class_Near_Full_patial_concat1 = pd.concat([wm811k_new_train_class_Near_Full,\n",
    "                                                             wm811k_new_train_class_Near_Full_10,\n",
    "                                                             wm811k_new_train_class_Near_Full_minus_10\n",
    "                                                            ])\n",
    "wm811k_new_train_class_Near_Full_patial_concat1.info()\n",
    "\n",
    "# 좌우 대칭 : 162개\n",
    "wm811k_new_train_class_Near_Full_flip = wm811k_new_train_class_Near_Full_patial_concat1.copy()\n",
    "wm811k_new_train_class_Near_Full_flip[\"waferMap_augmentation\"] = wm811k_new_train_class_Near_Full_flip[\"waferMap\"].apply(lambda x: filping(x))\n",
    "wm811k_new_train_class_Near_Full_flip['waferMap_augmentation_Dim']=wm811k_new_train_class_Near_Full_flip['waferMap_augmentation'].apply(find_dim)\n",
    "\n",
    "# 중간 concat2 : 324개\n",
    "wm811k_new_train_class_Near_Full_patial_concat2 = pd.concat([wm811k_new_train_class_Near_Full,\n",
    "                                                             wm811k_new_train_class_Near_Full_10,\n",
    "                                                             wm811k_new_train_class_Near_Full_minus_10,\n",
    "                                                             wm811k_new_train_class_Near_Full_flip\n",
    "                                                            ])\n",
    "wm811k_new_train_class_Near_Full_patial_concat2.info()\n",
    "\n",
    "# 평행 이동 : 324개\n",
    "wm811k_new_train_class_Near_Full_translate = wm811k_new_train_class_Near_Full_patial_concat2.copy()\n",
    "wm811k_new_train_class_Near_Full_translate[\"waferMap_augmentation\"] = wm811k_new_train_class_Near_Full_translate[\"waferMap\"].apply(lambda x: translate(x))\n",
    "wm811k_new_train_class_Near_Full_translate['waferMap_augmentation_Dim']= wm811k_new_train_class_Near_Full_translate['waferMap_augmentation'].apply(find_dim)\n",
    "\n",
    "# 중간 concat3 : 648개\n",
    "wm811k_new_train_class_Near_Full_patial_concat3 = pd.concat([wm811k_new_train_class_Near_Full,\n",
    "                                                             wm811k_new_train_class_Near_Full_10,\n",
    "                                                             wm811k_new_train_class_Near_Full_minus_10,\n",
    "                                                             wm811k_new_train_class_Near_Full_flip,\n",
    "                                                             wm811k_new_train_class_Near_Full_translate\n",
    "                                                            ])\n",
    "wm811k_new_train_class_Near_Full_patial_concat3.info()\n",
    "\n",
    "# 전단 범위(shearing range) : 648개\n",
    "wm811k_new_train_class_Near_Full_shearing = wm811k_new_train_class_Near_Full_patial_concat3.copy()\n",
    "wm811k_new_train_class_Near_Full_shearing[\"waferMap_augmentation\"] = wm811k_new_train_class_Near_Full_shearing[\"waferMap\"].apply(lambda x: shearing(x))\n",
    "wm811k_new_train_class_Near_Full_shearing['waferMap_augmentation_Dim']=wm811k_new_train_class_Near_Full_shearing['waferMap_augmentation'].apply(find_dim)\n",
    "\n",
    "# 중간 concat4 : 1296개\n",
    "wm811k_new_train_class_Near_Full_patial_concat4 = pd.concat([wm811k_new_train_class_Near_Full,\n",
    "                                                             wm811k_new_train_class_Near_Full_10,\n",
    "                                                             wm811k_new_train_class_Near_Full_minus_10,\n",
    "                                                             wm811k_new_train_class_Near_Full_flip,\n",
    "                                                             wm811k_new_train_class_Near_Full_translate,\n",
    "                                                             wm811k_new_train_class_Near_Full_shearing\n",
    "                                                            ])\n",
    "wm811k_new_train_class_Near_Full_patial_concat4.info()\n",
    "\n",
    "# 확대 : 1296개\n",
    "wm811k_new_train_class_Near_Full_resize = wm811k_new_train_class_Near_Full_patial_concat4.copy()\n",
    "wm811k_new_train_class_Near_Full_resize[\"waferMap_augmentation\"] = wm811k_new_train_class_Near_Full_resize[\"waferMap\"].apply(lambda x: resizing(x))\n",
    "wm811k_new_train_class_Near_Full_resize['waferMap_augmentation_Dim'] = wm811k_new_train_class_Near_Full_resize['waferMap_augmentation'].apply(find_dim)\n",
    "\n",
    "# 중간 concat5 : 2592개\n",
    "wm811k_new_train_class_Near_Full_patial_concat5 = pd.concat([wm811k_new_train_class_Near_Full,\n",
    "                                                             wm811k_new_train_class_Near_Full_10,\n",
    "                                                             wm811k_new_train_class_Near_Full_minus_10,\n",
    "                                                             wm811k_new_train_class_Near_Full_flip,\n",
    "                                                             wm811k_new_train_class_Near_Full_translate,\n",
    "                                                             wm811k_new_train_class_Near_Full_shearing,\n",
    "                                                             wm811k_new_train_class_Near_Full_resize\n",
    "                                                            ])\n",
    "wm811k_new_train_class_Near_Full_patial_concat5.info()\n",
    "\n",
    "\n",
    "# 남은 데이터 7408개 : size 변동의 위험이 있는 shearing과 resize를 제외한 rotation, flip, translate로 나머지 부족한 데이터 증강\n",
    "# 10도 회전 추가\n",
    "wm811k_new_train_class_Near_Full_10_2 = wm811k_new_train_class_Near_Full_patial_concat5.sample(n=1852, random_state=2022)\n",
    "wm811k_new_train_class_Near_Full_10_2[\"waferMap_augmentation\"] = wm811k_new_train_class_Near_Full_10_2[\"waferMap\"].apply(lambda x: rotation_10_degree(x))\n",
    "wm811k_new_train_class_Near_Full_10_2['waferMap_augmentation_Dim']=wm811k_new_train_class_Near_Full_10_2['waferMap_augmentation'].apply(find_dim)\n",
    "\n",
    "# -10도 회전 추가\n",
    "wm811k_new_train_class_Near_Full_minus_10_2 = wm811k_new_train_class_Near_Full_patial_concat5.sample(n=1852, random_state=2022)\n",
    "wm811k_new_train_class_Near_Full_minus_10_2[\"waferMap_augmentation\"] = wm811k_new_train_class_Near_Full_minus_10_2[\"waferMap\"].apply(lambda x: rotation_minus_10_degree(x))\n",
    "wm811k_new_train_class_Near_Full_minus_10_2['waferMap_augmentation_Dim']=wm811k_new_train_class_Near_Full_minus_10_2['waferMap_augmentation'].apply(find_dim)\n",
    "\n",
    "# flip 추가\n",
    "wm811k_new_train_class_Near_Full_flip_2 = wm811k_new_train_class_Near_Full_patial_concat5.sample(n=1852, random_state=2022)\n",
    "wm811k_new_train_class_Near_Full_flip_2[\"waferMap_augmentation\"] = wm811k_new_train_class_Near_Full_flip_2[\"waferMap\"].apply(lambda x: filping(x))\n",
    "wm811k_new_train_class_Near_Full_flip_2['waferMap_augmentation_Dim']=wm811k_new_train_class_Near_Full_flip_2['waferMap_augmentation'].apply(find_dim)\n",
    "\n",
    "\n",
    "# 평행이동 추가\n",
    "wm811k_new_train_class_Near_Full_translate_2 = wm811k_new_train_class_Near_Full_patial_concat5.sample(n=1852, random_state=2022)\n",
    "wm811k_new_train_class_Near_Full_translate_2[\"waferMap_augmentation\"] = wm811k_new_train_class_Near_Full_translate_2[\"waferMap\"].apply(lambda x: translate(x))\n",
    "wm811k_new_train_class_Near_Full_translate_2['waferMap_augmentation_Dim']=wm811k_new_train_class_Near_Full_translate_2['waferMap_augmentation'].apply(find_dim)\n",
    "\n",
    "# concat\n",
    "wm811k_new_train_class_Near_Full_augmentation = pd.concat([wm811k_new_train_class_Near_Full,\n",
    "                                                           wm811k_new_train_class_Near_Full_10,\n",
    "                                                           wm811k_new_train_class_Near_Full_minus_10,\n",
    "                                                           wm811k_new_train_class_Near_Full_flip,\n",
    "                                                           wm811k_new_train_class_Near_Full_translate,\n",
    "                                                           wm811k_new_train_class_Near_Full_shearing,\n",
    "                                                           wm811k_new_train_class_Near_Full_resize,\n",
    "                                                           wm811k_new_train_class_Near_Full_10_2,\n",
    "                                                           wm811k_new_train_class_Near_Full_minus_10_2,\n",
    "                                                           wm811k_new_train_class_Near_Full_flip_2,\n",
    "                                                           wm811k_new_train_class_Near_Full_translate_2,\n",
    "                                                          ])\n",
    "wm811k_new_train_class_Near_Full_augmentation.info()"
   ]
  },
  {
   "cell_type": "code",
   "execution_count": 56,
   "id": "5c0c81d6",
   "metadata": {
    "execution": {
     "iopub.execute_input": "2022-04-09T17:53:50.722560Z",
     "iopub.status.busy": "2022-04-09T17:53:50.721258Z",
     "iopub.status.idle": "2022-04-09T17:53:50.930027Z",
     "shell.execute_reply": "2022-04-09T17:53:50.929361Z",
     "shell.execute_reply.started": "2022-04-09T17:53:50.722560Z"
    },
    "tags": []
   },
   "outputs": [
    {
     "name": "stdout",
     "output_type": "stream",
     "text": [
      "<class 'pandas.core.frame.DataFrame'>\n",
      "Int64Index: 90000 entries, 749336 to 699791\n",
      "Data columns (total 10 columns):\n",
      " #   Column                     Non-Null Count  Dtype  \n",
      "---  ------                     --------------  -----  \n",
      " 0   waferMap                   90000 non-null  object \n",
      " 1   dieSize                    90000 non-null  float64\n",
      " 2   lotName                    90000 non-null  object \n",
      " 3   trianTestLabel             90000 non-null  object \n",
      " 4   failureType                90000 non-null  object \n",
      " 5   waferMapDim                90000 non-null  object \n",
      " 6   failureNum                 90000 non-null  object \n",
      " 7   trainTestNum               90000 non-null  object \n",
      " 8   waferMap_augmentation      90000 non-null  object \n",
      " 9   waferMap_augmentation_Dim  90000 non-null  object \n",
      "dtypes: float64(1), object(9)\n",
      "memory usage: 7.6+ MB\n"
     ]
    }
   ],
   "source": [
    "# 데이터 size 확인 및 New train data concat\n",
    "wm811k_new_train = pd.concat([wm811k_new_train_class_None,\n",
    "                              wm811k_new_train_class_Edge_Ring_augmentation,\n",
    "                              wm811k_new_train_class_Center_augmentation,\n",
    "                              wm811k_new_train_class_Edge_Loc_augmentation,\n",
    "                              wm811k_new_train_class_Loc_augmentation,\n",
    "                              wm811k_new_train_class_Random_augmentation,\n",
    "                              wm811k_new_train_class_Scratch_augmentation,\n",
    "                              wm811k_new_train_class_Donut_augmentation,\n",
    "                              wm811k_new_train_class_Near_Full_augmentation\n",
    "                             ])\n",
    "\n",
    "wm811k_new_train.info()"
   ]
  },
  {
   "cell_type": "code",
   "execution_count": 57,
   "id": "135bac4a",
   "metadata": {
    "execution": {
     "iopub.execute_input": "2022-04-09T17:53:50.933211Z",
     "iopub.status.busy": "2022-04-09T17:53:50.932711Z",
     "iopub.status.idle": "2022-04-09T17:53:51.127665Z",
     "shell.execute_reply": "2022-04-09T17:53:51.127164Z",
     "shell.execute_reply.started": "2022-04-09T17:53:50.933211Z"
    },
    "tags": []
   },
   "outputs": [
    {
     "data": {
      "text/plain": [
       "(224, 224)    90000\n",
       "Name: waferMap_augmentation_Dim, dtype: int64"
      ]
     },
     "execution_count": 57,
     "metadata": {},
     "output_type": "execute_result"
    }
   ],
   "source": [
    "# size check\n",
    "wm811k_new_train['waferMap_augmentation_Dim'].apply(lambda x: str(x)).value_counts()"
   ]
  },
  {
   "cell_type": "code",
   "execution_count": 58,
   "id": "0544b432",
   "metadata": {
    "execution": {
     "iopub.execute_input": "2022-04-09T17:53:51.131014Z",
     "iopub.status.busy": "2022-04-09T17:53:51.129781Z",
     "iopub.status.idle": "2022-04-09T17:53:51.249175Z",
     "shell.execute_reply": "2022-04-09T17:53:51.248191Z",
     "shell.execute_reply.started": "2022-04-09T17:53:51.131014Z"
    },
    "tags": []
   },
   "outputs": [
    {
     "data": {
      "text/plain": [
       "5    10000\n",
       "7    10000\n",
       "3    10000\n",
       "8    10000\n",
       "1    10000\n",
       "4    10000\n",
       "2    10000\n",
       "6    10000\n",
       "0    10000\n",
       "Name: failureNum, dtype: int64"
      ]
     },
     "execution_count": 58,
     "metadata": {},
     "output_type": "execute_result"
    }
   ],
   "source": [
    "wm811k_new_train['failureNum'].apply(lambda x: str(x)).value_counts()"
   ]
  },
  {
   "cell_type": "markdown",
   "id": "2f459d09",
   "metadata": {},
   "source": [
    "- augmentation 데이터 파일 저장\n",
    "    - pkl 파일 저장 참고 : https://seing.tistory.com/95"
   ]
  },
  {
   "cell_type": "code",
   "execution_count": 60,
   "id": "1e0ba4b4",
   "metadata": {
    "execution": {
     "iopub.execute_input": "2022-04-09T17:56:14.586420Z",
     "iopub.status.busy": "2022-04-09T17:56:14.586420Z",
     "iopub.status.idle": "2022-04-09T17:57:46.842628Z",
     "shell.execute_reply": "2022-04-09T17:57:46.838961Z",
     "shell.execute_reply.started": "2022-04-09T17:56:14.586420Z"
    },
    "tags": []
   },
   "outputs": [],
   "source": [
    "# 데이터 저장\n",
    "wm811k_new_train.to_pickle('./data/wm811k_train_augmentation.pkl')"
   ]
  }
 ],
 "metadata": {
  "kernelspec": {
   "display_name": "Python 3 (ipykernel)",
   "language": "python",
   "name": "python3"
  },
  "language_info": {
   "codemirror_mode": {
    "name": "ipython",
    "version": 3
   },
   "file_extension": ".py",
   "mimetype": "text/x-python",
   "name": "python",
   "nbconvert_exporter": "python",
   "pygments_lexer": "ipython3",
   "version": "3.7.9"
  }
 },
 "nbformat": 4,
 "nbformat_minor": 5
}
