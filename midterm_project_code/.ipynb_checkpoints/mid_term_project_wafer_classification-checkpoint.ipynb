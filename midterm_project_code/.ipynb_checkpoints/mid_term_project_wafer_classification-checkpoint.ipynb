{
 "cells": [
  {
   "cell_type": "markdown",
   "id": "1334c979",
   "metadata": {},
   "source": [
    "## 불균형 데이터셋에 대한 웨이퍼 불량식별을 위한 CNN\n",
    "### 키워드\n",
    "- 데이터 전처리\n",
    "    - Data Augmentaion\n",
    "    - 불량 클래스\n",
    "        - Center\n",
    "        - Donut\n",
    "        - Local\n",
    "        - Edge-Loc\n",
    "        - Edge-Ring\n",
    "        - Scratch\n",
    "        - Random\n",
    "        - Near-Full\n",
    "        - None\n",
    "- 모델 구성\n",
    "    - Batch Normalization\n",
    "    - Spatical Dropout\n",
    "    - Regularization"
   ]
  },
  {
   "cell_type": "markdown",
   "id": "e6fab4c5",
   "metadata": {},
   "source": [
    "### 데이터 확인사항\n",
    "- waferMap 사이즈를 확인하여 추후 개발할 신경망 모델의 224x224 사이즈에 맞게 resizing 작업이 필요할 것으로 예상됨\n",
    "- augmentaion 작업과 resizing 작업이 한 번에 해결될 수 있도록 전처리하는 것이 좋을 듯"
   ]
  },
  {
   "cell_type": "code",
   "execution_count": 1,
   "id": "cc374bc3",
   "metadata": {
    "execution": {
     "iopub.execute_input": "2022-04-06T07:55:11.222405Z",
     "iopub.status.busy": "2022-04-06T07:55:11.221905Z",
     "iopub.status.idle": "2022-04-06T07:55:12.321803Z",
     "shell.execute_reply": "2022-04-06T07:55:12.321165Z",
     "shell.execute_reply.started": "2022-04-06T07:55:11.222405Z"
    },
    "tags": []
   },
   "outputs": [],
   "source": [
    "import numpy as np\n",
    "import pandas as pd\n",
    "import cv2\n",
    "import matplotlib.pyplot as plt"
   ]
  },
  {
   "cell_type": "code",
   "execution_count": 2,
   "id": "f1a3d62f",
   "metadata": {
    "execution": {
     "iopub.execute_input": "2022-04-06T07:55:12.322899Z",
     "iopub.status.busy": "2022-04-06T07:55:12.322899Z",
     "iopub.status.idle": "2022-04-06T07:56:05.729456Z",
     "shell.execute_reply": "2022-04-06T07:56:05.728954Z",
     "shell.execute_reply.started": "2022-04-06T07:55:12.322899Z"
    },
    "tags": []
   },
   "outputs": [],
   "source": [
    "wm811k = pd.read_pickle('./data/LSWMD.pkl')"
   ]
  },
  {
   "cell_type": "code",
   "execution_count": 3,
   "id": "c3099650",
   "metadata": {
    "execution": {
     "iopub.execute_input": "2022-04-06T07:56:05.731464Z",
     "iopub.status.busy": "2022-04-06T07:56:05.731464Z",
     "iopub.status.idle": "2022-04-06T07:56:05.961236Z",
     "shell.execute_reply": "2022-04-06T07:56:05.960701Z",
     "shell.execute_reply.started": "2022-04-06T07:56:05.731464Z"
    },
    "tags": []
   },
   "outputs": [
    {
     "data": {
      "text/html": [
       "<div>\n",
       "<style scoped>\n",
       "    .dataframe tbody tr th:only-of-type {\n",
       "        vertical-align: middle;\n",
       "    }\n",
       "\n",
       "    .dataframe tbody tr th {\n",
       "        vertical-align: top;\n",
       "    }\n",
       "\n",
       "    .dataframe thead th {\n",
       "        text-align: right;\n",
       "    }\n",
       "</style>\n",
       "<table border=\"1\" class=\"dataframe\">\n",
       "  <thead>\n",
       "    <tr style=\"text-align: right;\">\n",
       "      <th></th>\n",
       "      <th>waferMap</th>\n",
       "      <th>dieSize</th>\n",
       "      <th>lotName</th>\n",
       "      <th>waferIndex</th>\n",
       "      <th>trianTestLabel</th>\n",
       "      <th>failureType</th>\n",
       "    </tr>\n",
       "  </thead>\n",
       "  <tbody>\n",
       "    <tr>\n",
       "      <th>0</th>\n",
       "      <td>[[0, 0, 0, 0, 0, 0, 0, 0, 0, 0, 0, 0, 0, 0, 0,...</td>\n",
       "      <td>1683.0</td>\n",
       "      <td>lot1</td>\n",
       "      <td>1.0</td>\n",
       "      <td>[[Training]]</td>\n",
       "      <td>[[none]]</td>\n",
       "    </tr>\n",
       "    <tr>\n",
       "      <th>1</th>\n",
       "      <td>[[0, 0, 0, 0, 0, 0, 0, 0, 0, 0, 0, 0, 0, 0, 0,...</td>\n",
       "      <td>1683.0</td>\n",
       "      <td>lot1</td>\n",
       "      <td>2.0</td>\n",
       "      <td>[[Training]]</td>\n",
       "      <td>[[none]]</td>\n",
       "    </tr>\n",
       "    <tr>\n",
       "      <th>2</th>\n",
       "      <td>[[0, 0, 0, 0, 0, 0, 0, 0, 0, 0, 0, 0, 0, 0, 0,...</td>\n",
       "      <td>1683.0</td>\n",
       "      <td>lot1</td>\n",
       "      <td>3.0</td>\n",
       "      <td>[[Training]]</td>\n",
       "      <td>[[none]]</td>\n",
       "    </tr>\n",
       "    <tr>\n",
       "      <th>3</th>\n",
       "      <td>[[0, 0, 0, 0, 0, 0, 0, 0, 0, 0, 0, 0, 0, 0, 0,...</td>\n",
       "      <td>1683.0</td>\n",
       "      <td>lot1</td>\n",
       "      <td>4.0</td>\n",
       "      <td>[[Training]]</td>\n",
       "      <td>[[none]]</td>\n",
       "    </tr>\n",
       "    <tr>\n",
       "      <th>4</th>\n",
       "      <td>[[0, 0, 0, 0, 0, 0, 0, 0, 0, 0, 0, 0, 0, 0, 0,...</td>\n",
       "      <td>1683.0</td>\n",
       "      <td>lot1</td>\n",
       "      <td>5.0</td>\n",
       "      <td>[[Training]]</td>\n",
       "      <td>[[none]]</td>\n",
       "    </tr>\n",
       "  </tbody>\n",
       "</table>\n",
       "</div>"
      ],
      "text/plain": [
       "                                            waferMap  dieSize lotName  \\\n",
       "0  [[0, 0, 0, 0, 0, 0, 0, 0, 0, 0, 0, 0, 0, 0, 0,...   1683.0    lot1   \n",
       "1  [[0, 0, 0, 0, 0, 0, 0, 0, 0, 0, 0, 0, 0, 0, 0,...   1683.0    lot1   \n",
       "2  [[0, 0, 0, 0, 0, 0, 0, 0, 0, 0, 0, 0, 0, 0, 0,...   1683.0    lot1   \n",
       "3  [[0, 0, 0, 0, 0, 0, 0, 0, 0, 0, 0, 0, 0, 0, 0,...   1683.0    lot1   \n",
       "4  [[0, 0, 0, 0, 0, 0, 0, 0, 0, 0, 0, 0, 0, 0, 0,...   1683.0    lot1   \n",
       "\n",
       "   waferIndex trianTestLabel failureType  \n",
       "0         1.0   [[Training]]    [[none]]  \n",
       "1         2.0   [[Training]]    [[none]]  \n",
       "2         3.0   [[Training]]    [[none]]  \n",
       "3         4.0   [[Training]]    [[none]]  \n",
       "4         5.0   [[Training]]    [[none]]  "
      ]
     },
     "execution_count": 3,
     "metadata": {},
     "output_type": "execute_result"
    }
   ],
   "source": [
    "wm811k.head()"
   ]
  },
  {
   "cell_type": "code",
   "execution_count": 4,
   "id": "131d681a",
   "metadata": {
    "execution": {
     "iopub.execute_input": "2022-04-06T07:56:05.962845Z",
     "iopub.status.busy": "2022-04-06T07:56:05.962845Z",
     "iopub.status.idle": "2022-04-06T07:56:06.128558Z",
     "shell.execute_reply": "2022-04-06T07:56:06.127247Z",
     "shell.execute_reply.started": "2022-04-06T07:56:05.962845Z"
    },
    "tags": []
   },
   "outputs": [
    {
     "name": "stdout",
     "output_type": "stream",
     "text": [
      "<class 'pandas.core.frame.DataFrame'>\n",
      "RangeIndex: 811457 entries, 0 to 811456\n",
      "Data columns (total 6 columns):\n",
      " #   Column          Non-Null Count   Dtype  \n",
      "---  ------          --------------   -----  \n",
      " 0   waferMap        811457 non-null  object \n",
      " 1   dieSize         811457 non-null  float64\n",
      " 2   lotName         811457 non-null  object \n",
      " 3   waferIndex      811457 non-null  float64\n",
      " 4   trianTestLabel  811457 non-null  object \n",
      " 5   failureType     811457 non-null  object \n",
      "dtypes: float64(2), object(4)\n",
      "memory usage: 37.1+ MB\n"
     ]
    }
   ],
   "source": [
    "wm811k.info()"
   ]
  },
  {
   "cell_type": "code",
   "execution_count": 5,
   "id": "b452f425",
   "metadata": {
    "execution": {
     "iopub.execute_input": "2022-04-06T07:56:06.129670Z",
     "iopub.status.busy": "2022-04-06T07:56:06.129517Z",
     "iopub.status.idle": "2022-04-06T07:56:06.341864Z",
     "shell.execute_reply": "2022-04-06T07:56:06.341362Z",
     "shell.execute_reply.started": "2022-04-06T07:56:06.129670Z"
    },
    "tags": []
   },
   "outputs": [
    {
     "data": {
      "text/html": [
       "<div>\n",
       "<style scoped>\n",
       "    .dataframe tbody tr th:only-of-type {\n",
       "        vertical-align: middle;\n",
       "    }\n",
       "\n",
       "    .dataframe tbody tr th {\n",
       "        vertical-align: top;\n",
       "    }\n",
       "\n",
       "    .dataframe thead th {\n",
       "        text-align: right;\n",
       "    }\n",
       "</style>\n",
       "<table border=\"1\" class=\"dataframe\">\n",
       "  <thead>\n",
       "    <tr style=\"text-align: right;\">\n",
       "      <th></th>\n",
       "      <th>waferMap</th>\n",
       "      <th>dieSize</th>\n",
       "      <th>lotName</th>\n",
       "      <th>trianTestLabel</th>\n",
       "      <th>failureType</th>\n",
       "    </tr>\n",
       "  </thead>\n",
       "  <tbody>\n",
       "    <tr>\n",
       "      <th>0</th>\n",
       "      <td>[[0, 0, 0, 0, 0, 0, 0, 0, 0, 0, 0, 0, 0, 0, 0,...</td>\n",
       "      <td>1683.0</td>\n",
       "      <td>lot1</td>\n",
       "      <td>[[Training]]</td>\n",
       "      <td>[[none]]</td>\n",
       "    </tr>\n",
       "    <tr>\n",
       "      <th>1</th>\n",
       "      <td>[[0, 0, 0, 0, 0, 0, 0, 0, 0, 0, 0, 0, 0, 0, 0,...</td>\n",
       "      <td>1683.0</td>\n",
       "      <td>lot1</td>\n",
       "      <td>[[Training]]</td>\n",
       "      <td>[[none]]</td>\n",
       "    </tr>\n",
       "    <tr>\n",
       "      <th>2</th>\n",
       "      <td>[[0, 0, 0, 0, 0, 0, 0, 0, 0, 0, 0, 0, 0, 0, 0,...</td>\n",
       "      <td>1683.0</td>\n",
       "      <td>lot1</td>\n",
       "      <td>[[Training]]</td>\n",
       "      <td>[[none]]</td>\n",
       "    </tr>\n",
       "    <tr>\n",
       "      <th>3</th>\n",
       "      <td>[[0, 0, 0, 0, 0, 0, 0, 0, 0, 0, 0, 0, 0, 0, 0,...</td>\n",
       "      <td>1683.0</td>\n",
       "      <td>lot1</td>\n",
       "      <td>[[Training]]</td>\n",
       "      <td>[[none]]</td>\n",
       "    </tr>\n",
       "    <tr>\n",
       "      <th>4</th>\n",
       "      <td>[[0, 0, 0, 0, 0, 0, 0, 0, 0, 0, 0, 0, 0, 0, 0,...</td>\n",
       "      <td>1683.0</td>\n",
       "      <td>lot1</td>\n",
       "      <td>[[Training]]</td>\n",
       "      <td>[[none]]</td>\n",
       "    </tr>\n",
       "  </tbody>\n",
       "</table>\n",
       "</div>"
      ],
      "text/plain": [
       "                                            waferMap  dieSize lotName  \\\n",
       "0  [[0, 0, 0, 0, 0, 0, 0, 0, 0, 0, 0, 0, 0, 0, 0,...   1683.0    lot1   \n",
       "1  [[0, 0, 0, 0, 0, 0, 0, 0, 0, 0, 0, 0, 0, 0, 0,...   1683.0    lot1   \n",
       "2  [[0, 0, 0, 0, 0, 0, 0, 0, 0, 0, 0, 0, 0, 0, 0,...   1683.0    lot1   \n",
       "3  [[0, 0, 0, 0, 0, 0, 0, 0, 0, 0, 0, 0, 0, 0, 0,...   1683.0    lot1   \n",
       "4  [[0, 0, 0, 0, 0, 0, 0, 0, 0, 0, 0, 0, 0, 0, 0,...   1683.0    lot1   \n",
       "\n",
       "  trianTestLabel failureType  \n",
       "0   [[Training]]    [[none]]  \n",
       "1   [[Training]]    [[none]]  \n",
       "2   [[Training]]    [[none]]  \n",
       "3   [[Training]]    [[none]]  \n",
       "4   [[Training]]    [[none]]  "
      ]
     },
     "execution_count": 5,
     "metadata": {},
     "output_type": "execute_result"
    }
   ],
   "source": [
    "# 불필요 컬럼 제거\n",
    "wm811k = wm811k.drop(['waferIndex'], axis = 1)\n",
    "wm811k.head()"
   ]
  },
  {
   "cell_type": "code",
   "execution_count": 6,
   "id": "7b13b369",
   "metadata": {
    "execution": {
     "iopub.execute_input": "2022-04-06T07:56:06.343462Z",
     "iopub.status.busy": "2022-04-06T07:56:06.342903Z",
     "iopub.status.idle": "2022-04-06T07:56:07.567017Z",
     "shell.execute_reply": "2022-04-06T07:56:07.566517Z",
     "shell.execute_reply.started": "2022-04-06T07:56:06.343462Z"
    },
    "tags": []
   },
   "outputs": [
    {
     "data": {
      "text/html": [
       "<div>\n",
       "<style scoped>\n",
       "    .dataframe tbody tr th:only-of-type {\n",
       "        vertical-align: middle;\n",
       "    }\n",
       "\n",
       "    .dataframe tbody tr th {\n",
       "        vertical-align: top;\n",
       "    }\n",
       "\n",
       "    .dataframe thead th {\n",
       "        text-align: right;\n",
       "    }\n",
       "</style>\n",
       "<table border=\"1\" class=\"dataframe\">\n",
       "  <thead>\n",
       "    <tr style=\"text-align: right;\">\n",
       "      <th></th>\n",
       "      <th>waferMap</th>\n",
       "      <th>dieSize</th>\n",
       "      <th>lotName</th>\n",
       "      <th>trianTestLabel</th>\n",
       "      <th>failureType</th>\n",
       "      <th>waferMapDim</th>\n",
       "    </tr>\n",
       "  </thead>\n",
       "  <tbody>\n",
       "    <tr>\n",
       "      <th>0</th>\n",
       "      <td>[[0, 0, 0, 0, 0, 0, 0, 0, 0, 0, 0, 0, 0, 0, 0,...</td>\n",
       "      <td>1683.0</td>\n",
       "      <td>lot1</td>\n",
       "      <td>[[Training]]</td>\n",
       "      <td>[[none]]</td>\n",
       "      <td>(45, 48)</td>\n",
       "    </tr>\n",
       "    <tr>\n",
       "      <th>1</th>\n",
       "      <td>[[0, 0, 0, 0, 0, 0, 0, 0, 0, 0, 0, 0, 0, 0, 0,...</td>\n",
       "      <td>1683.0</td>\n",
       "      <td>lot1</td>\n",
       "      <td>[[Training]]</td>\n",
       "      <td>[[none]]</td>\n",
       "      <td>(45, 48)</td>\n",
       "    </tr>\n",
       "    <tr>\n",
       "      <th>2</th>\n",
       "      <td>[[0, 0, 0, 0, 0, 0, 0, 0, 0, 0, 0, 0, 0, 0, 0,...</td>\n",
       "      <td>1683.0</td>\n",
       "      <td>lot1</td>\n",
       "      <td>[[Training]]</td>\n",
       "      <td>[[none]]</td>\n",
       "      <td>(45, 48)</td>\n",
       "    </tr>\n",
       "    <tr>\n",
       "      <th>3</th>\n",
       "      <td>[[0, 0, 0, 0, 0, 0, 0, 0, 0, 0, 0, 0, 0, 0, 0,...</td>\n",
       "      <td>1683.0</td>\n",
       "      <td>lot1</td>\n",
       "      <td>[[Training]]</td>\n",
       "      <td>[[none]]</td>\n",
       "      <td>(45, 48)</td>\n",
       "    </tr>\n",
       "    <tr>\n",
       "      <th>4</th>\n",
       "      <td>[[0, 0, 0, 0, 0, 0, 0, 0, 0, 0, 0, 0, 0, 0, 0,...</td>\n",
       "      <td>1683.0</td>\n",
       "      <td>lot1</td>\n",
       "      <td>[[Training]]</td>\n",
       "      <td>[[none]]</td>\n",
       "      <td>(45, 48)</td>\n",
       "    </tr>\n",
       "  </tbody>\n",
       "</table>\n",
       "</div>"
      ],
      "text/plain": [
       "                                            waferMap  dieSize lotName  \\\n",
       "0  [[0, 0, 0, 0, 0, 0, 0, 0, 0, 0, 0, 0, 0, 0, 0,...   1683.0    lot1   \n",
       "1  [[0, 0, 0, 0, 0, 0, 0, 0, 0, 0, 0, 0, 0, 0, 0,...   1683.0    lot1   \n",
       "2  [[0, 0, 0, 0, 0, 0, 0, 0, 0, 0, 0, 0, 0, 0, 0,...   1683.0    lot1   \n",
       "3  [[0, 0, 0, 0, 0, 0, 0, 0, 0, 0, 0, 0, 0, 0, 0,...   1683.0    lot1   \n",
       "4  [[0, 0, 0, 0, 0, 0, 0, 0, 0, 0, 0, 0, 0, 0, 0,...   1683.0    lot1   \n",
       "\n",
       "  trianTestLabel failureType waferMapDim  \n",
       "0   [[Training]]    [[none]]    (45, 48)  \n",
       "1   [[Training]]    [[none]]    (45, 48)  \n",
       "2   [[Training]]    [[none]]    (45, 48)  \n",
       "3   [[Training]]    [[none]]    (45, 48)  \n",
       "4   [[Training]]    [[none]]    (45, 48)  "
      ]
     },
     "execution_count": 6,
     "metadata": {},
     "output_type": "execute_result"
    }
   ],
   "source": [
    "# wafermap size 확인 및 컬럼 추가\n",
    "def find_dim(x):\n",
    "    dim0=np.size(x,axis=0)\n",
    "    dim1=np.size(x,axis=1)\n",
    "    return dim0,dim1\n",
    "wm811k['waferMapDim']=wm811k['waferMap'].apply(find_dim)\n",
    "wm811k.head()"
   ]
  },
  {
   "cell_type": "code",
   "execution_count": 7,
   "id": "657fe7c1",
   "metadata": {
    "execution": {
     "iopub.execute_input": "2022-04-06T07:56:07.568053Z",
     "iopub.status.busy": "2022-04-06T07:56:07.567017Z",
     "iopub.status.idle": "2022-04-06T07:56:20.418491Z",
     "shell.execute_reply": "2022-04-06T07:56:20.418491Z",
     "shell.execute_reply.started": "2022-04-06T07:56:07.568053Z"
    },
    "tags": []
   },
   "outputs": [
    {
     "name": "stderr",
     "output_type": "stream",
     "text": [
      "C:\\Users\\kjt\\Anaconda3\\envs\\dlit\\lib\\site-packages\\pandas\\core\\array_algos\\replace.py:60: FutureWarning: elementwise comparison failed; returning scalar instead, but in the future will perform elementwise comparison\n",
      "  op = lambda x: operator.eq(x, b)\n"
     ]
    },
    {
     "data": {
      "text/html": [
       "<div>\n",
       "<style scoped>\n",
       "    .dataframe tbody tr th:only-of-type {\n",
       "        vertical-align: middle;\n",
       "    }\n",
       "\n",
       "    .dataframe tbody tr th {\n",
       "        vertical-align: top;\n",
       "    }\n",
       "\n",
       "    .dataframe thead th {\n",
       "        text-align: right;\n",
       "    }\n",
       "</style>\n",
       "<table border=\"1\" class=\"dataframe\">\n",
       "  <thead>\n",
       "    <tr style=\"text-align: right;\">\n",
       "      <th></th>\n",
       "      <th>waferMap</th>\n",
       "      <th>dieSize</th>\n",
       "      <th>lotName</th>\n",
       "      <th>trianTestLabel</th>\n",
       "      <th>failureType</th>\n",
       "      <th>waferMapDim</th>\n",
       "      <th>failureNum</th>\n",
       "      <th>trainTestNum</th>\n",
       "    </tr>\n",
       "  </thead>\n",
       "  <tbody>\n",
       "    <tr>\n",
       "      <th>0</th>\n",
       "      <td>[[0, 0, 0, 0, 0, 0, 0, 0, 0, 0, 0, 0, 0, 0, 0,...</td>\n",
       "      <td>1683.0</td>\n",
       "      <td>lot1</td>\n",
       "      <td>[[Training]]</td>\n",
       "      <td>[[none]]</td>\n",
       "      <td>(45, 48)</td>\n",
       "      <td>8</td>\n",
       "      <td>0</td>\n",
       "    </tr>\n",
       "    <tr>\n",
       "      <th>1</th>\n",
       "      <td>[[0, 0, 0, 0, 0, 0, 0, 0, 0, 0, 0, 0, 0, 0, 0,...</td>\n",
       "      <td>1683.0</td>\n",
       "      <td>lot1</td>\n",
       "      <td>[[Training]]</td>\n",
       "      <td>[[none]]</td>\n",
       "      <td>(45, 48)</td>\n",
       "      <td>8</td>\n",
       "      <td>0</td>\n",
       "    </tr>\n",
       "    <tr>\n",
       "      <th>2</th>\n",
       "      <td>[[0, 0, 0, 0, 0, 0, 0, 0, 0, 0, 0, 0, 0, 0, 0,...</td>\n",
       "      <td>1683.0</td>\n",
       "      <td>lot1</td>\n",
       "      <td>[[Training]]</td>\n",
       "      <td>[[none]]</td>\n",
       "      <td>(45, 48)</td>\n",
       "      <td>8</td>\n",
       "      <td>0</td>\n",
       "    </tr>\n",
       "    <tr>\n",
       "      <th>3</th>\n",
       "      <td>[[0, 0, 0, 0, 0, 0, 0, 0, 0, 0, 0, 0, 0, 0, 0,...</td>\n",
       "      <td>1683.0</td>\n",
       "      <td>lot1</td>\n",
       "      <td>[[Training]]</td>\n",
       "      <td>[[none]]</td>\n",
       "      <td>(45, 48)</td>\n",
       "      <td>8</td>\n",
       "      <td>0</td>\n",
       "    </tr>\n",
       "    <tr>\n",
       "      <th>4</th>\n",
       "      <td>[[0, 0, 0, 0, 0, 0, 0, 0, 0, 0, 0, 0, 0, 0, 0,...</td>\n",
       "      <td>1683.0</td>\n",
       "      <td>lot1</td>\n",
       "      <td>[[Training]]</td>\n",
       "      <td>[[none]]</td>\n",
       "      <td>(45, 48)</td>\n",
       "      <td>8</td>\n",
       "      <td>0</td>\n",
       "    </tr>\n",
       "  </tbody>\n",
       "</table>\n",
       "</div>"
      ],
      "text/plain": [
       "                                            waferMap  dieSize lotName  \\\n",
       "0  [[0, 0, 0, 0, 0, 0, 0, 0, 0, 0, 0, 0, 0, 0, 0,...   1683.0    lot1   \n",
       "1  [[0, 0, 0, 0, 0, 0, 0, 0, 0, 0, 0, 0, 0, 0, 0,...   1683.0    lot1   \n",
       "2  [[0, 0, 0, 0, 0, 0, 0, 0, 0, 0, 0, 0, 0, 0, 0,...   1683.0    lot1   \n",
       "3  [[0, 0, 0, 0, 0, 0, 0, 0, 0, 0, 0, 0, 0, 0, 0,...   1683.0    lot1   \n",
       "4  [[0, 0, 0, 0, 0, 0, 0, 0, 0, 0, 0, 0, 0, 0, 0,...   1683.0    lot1   \n",
       "\n",
       "  trianTestLabel failureType waferMapDim failureNum trainTestNum  \n",
       "0   [[Training]]    [[none]]    (45, 48)          8            0  \n",
       "1   [[Training]]    [[none]]    (45, 48)          8            0  \n",
       "2   [[Training]]    [[none]]    (45, 48)          8            0  \n",
       "3   [[Training]]    [[none]]    (45, 48)          8            0  \n",
       "4   [[Training]]    [[none]]    (45, 48)          8            0  "
      ]
     },
     "execution_count": 7,
     "metadata": {},
     "output_type": "execute_result"
    }
   ],
   "source": [
    "# 불량 클래스 확인 및 학습/검증/테스트 데이터 셋 확인\n",
    "wm811k['failureNum']=wm811k['failureType']\n",
    "wm811k['trainTestNum']=wm811k['trianTestLabel']\n",
    "mapping_type={'Center':0,'Donut':1,'Edge-Loc':2,'Edge-Ring':3,'Loc':4,'Random':5,'Scratch':6,'Near-full':7,'none':8}\n",
    "mapping_traintest={'Training':0,'Test':1}\n",
    "wm811k=wm811k.replace({'failureNum':mapping_type, 'trainTestNum':mapping_traintest})\n",
    "wm811k.head()"
   ]
  },
  {
   "cell_type": "code",
   "execution_count": 8,
   "id": "56045c54",
   "metadata": {
    "execution": {
     "iopub.execute_input": "2022-04-06T07:56:20.419533Z",
     "iopub.status.busy": "2022-04-06T07:56:20.419533Z",
     "iopub.status.idle": "2022-04-06T07:56:24.396662Z",
     "shell.execute_reply": "2022-04-06T07:56:24.396147Z",
     "shell.execute_reply.started": "2022-04-06T07:56:20.419533Z"
    },
    "tags": []
   },
   "outputs": [
    {
     "data": {
      "text/plain": [
       "[]                638507\n",
       "[['Test']]        118595\n",
       "[['Training']]     54355\n",
       "Name: trianTestLabel, dtype: int64"
      ]
     },
     "execution_count": 8,
     "metadata": {},
     "output_type": "execute_result"
    }
   ],
   "source": [
    "wm811k['trianTestLabel'].apply(lambda x: str(x)).value_counts()"
   ]
  },
  {
   "cell_type": "code",
   "execution_count": 9,
   "id": "46362915",
   "metadata": {
    "execution": {
     "iopub.execute_input": "2022-04-06T07:56:24.397686Z",
     "iopub.status.busy": "2022-04-06T07:56:24.397686Z",
     "iopub.status.idle": "2022-04-06T07:56:26.253421Z",
     "shell.execute_reply": "2022-04-06T07:56:26.252921Z",
     "shell.execute_reply.started": "2022-04-06T07:56:24.397686Z"
    },
    "tags": []
   },
   "outputs": [
    {
     "data": {
      "text/plain": [
       "[]    638507\n",
       "1     118595\n",
       "0      54355\n",
       "Name: trainTestNum, dtype: int64"
      ]
     },
     "execution_count": 9,
     "metadata": {},
     "output_type": "execute_result"
    }
   ],
   "source": [
    "wm811k['trainTestNum'].apply(lambda x: str(x)).value_counts()"
   ]
  },
  {
   "cell_type": "code",
   "execution_count": 10,
   "id": "e4d163a2",
   "metadata": {
    "execution": {
     "iopub.execute_input": "2022-04-06T07:56:26.254938Z",
     "iopub.status.busy": "2022-04-06T07:56:26.253920Z",
     "iopub.status.idle": "2022-04-06T07:56:27.915857Z",
     "shell.execute_reply": "2022-04-06T07:56:27.915857Z",
     "shell.execute_reply.started": "2022-04-06T07:56:26.254938Z"
    },
    "tags": []
   },
   "outputs": [],
   "source": [
    "wm811k_train = wm811k.query(\"trainTestNum == 0\")"
   ]
  },
  {
   "cell_type": "code",
   "execution_count": 11,
   "id": "cffb06f7",
   "metadata": {
    "execution": {
     "iopub.execute_input": "2022-04-06T07:56:27.917874Z",
     "iopub.status.busy": "2022-04-06T07:56:27.917874Z",
     "iopub.status.idle": "2022-04-06T07:56:27.947172Z",
     "shell.execute_reply": "2022-04-06T07:56:27.946671Z",
     "shell.execute_reply.started": "2022-04-06T07:56:27.917874Z"
    },
    "tags": []
   },
   "outputs": [
    {
     "name": "stdout",
     "output_type": "stream",
     "text": [
      "<class 'pandas.core.frame.DataFrame'>\n",
      "Int64Index: 54355 entries, 0 to 791476\n",
      "Data columns (total 8 columns):\n",
      " #   Column          Non-Null Count  Dtype  \n",
      "---  ------          --------------  -----  \n",
      " 0   waferMap        54355 non-null  object \n",
      " 1   dieSize         54355 non-null  float64\n",
      " 2   lotName         54355 non-null  object \n",
      " 3   trianTestLabel  54355 non-null  object \n",
      " 4   failureType     54355 non-null  object \n",
      " 5   waferMapDim     54355 non-null  object \n",
      " 6   failureNum      54355 non-null  object \n",
      " 7   trainTestNum    54355 non-null  object \n",
      "dtypes: float64(1), object(7)\n",
      "memory usage: 3.7+ MB\n"
     ]
    }
   ],
   "source": [
    "wm811k_train.info()"
   ]
  },
  {
   "cell_type": "markdown",
   "id": "b9891697",
   "metadata": {},
   "source": [
    "### wm811k_test set\n",
    "- 10,000개 augmentation된 데이터 train: validation : test = 65: 20: 15\n",
    "- 최종 모델 확인 이후 wm811k_test 데이터 활용 모델 성능 확인하는 것이 좋을 듯"
   ]
  },
  {
   "cell_type": "code",
   "execution_count": 12,
   "id": "ccd3b034",
   "metadata": {
    "execution": {
     "iopub.execute_input": "2022-04-06T07:56:27.949185Z",
     "iopub.status.busy": "2022-04-06T07:56:27.949185Z",
     "iopub.status.idle": "2022-04-06T07:56:29.612685Z",
     "shell.execute_reply": "2022-04-06T07:56:29.612059Z",
     "shell.execute_reply.started": "2022-04-06T07:56:27.949185Z"
    },
    "tags": []
   },
   "outputs": [],
   "source": [
    "wm811k_test = wm811k.query(\"trainTestNum == 1\")"
   ]
  },
  {
   "cell_type": "code",
   "execution_count": 13,
   "id": "03c3811d",
   "metadata": {
    "execution": {
     "iopub.execute_input": "2022-04-06T07:56:29.614044Z",
     "iopub.status.busy": "2022-04-06T07:56:29.613450Z",
     "iopub.status.idle": "2022-04-06T07:56:29.659072Z",
     "shell.execute_reply": "2022-04-06T07:56:29.658073Z",
     "shell.execute_reply.started": "2022-04-06T07:56:29.614044Z"
    },
    "tags": []
   },
   "outputs": [
    {
     "name": "stdout",
     "output_type": "stream",
     "text": [
      "<class 'pandas.core.frame.DataFrame'>\n",
      "Int64Index: 118595 entries, 639663 to 811454\n",
      "Data columns (total 8 columns):\n",
      " #   Column          Non-Null Count   Dtype  \n",
      "---  ------          --------------   -----  \n",
      " 0   waferMap        118595 non-null  object \n",
      " 1   dieSize         118595 non-null  float64\n",
      " 2   lotName         118595 non-null  object \n",
      " 3   trianTestLabel  118595 non-null  object \n",
      " 4   failureType     118595 non-null  object \n",
      " 5   waferMapDim     118595 non-null  object \n",
      " 6   failureNum      118595 non-null  object \n",
      " 7   trainTestNum    118595 non-null  object \n",
      "dtypes: float64(1), object(7)\n",
      "memory usage: 8.1+ MB\n"
     ]
    }
   ],
   "source": [
    "wm811k_test.info()"
   ]
  },
  {
   "cell_type": "code",
   "execution_count": 14,
   "id": "8002da20",
   "metadata": {
    "execution": {
     "iopub.execute_input": "2022-04-06T07:56:29.662072Z",
     "iopub.status.busy": "2022-04-06T07:56:29.661577Z",
     "iopub.status.idle": "2022-04-06T07:56:29.719052Z",
     "shell.execute_reply": "2022-04-06T07:56:29.718407Z",
     "shell.execute_reply.started": "2022-04-06T07:56:29.662072Z"
    },
    "tags": []
   },
   "outputs": [
    {
     "data": {
      "text/plain": [
       "8    110701\n",
       "2      2772\n",
       "4      1973\n",
       "3      1126\n",
       "0       832\n",
       "6       693\n",
       "5       257\n",
       "1       146\n",
       "7        95\n",
       "Name: failureNum, dtype: int64"
      ]
     },
     "execution_count": 14,
     "metadata": {},
     "output_type": "execute_result"
    }
   ],
   "source": [
    "wm811k_test['failureNum'].apply(lambda x: str(x)).value_counts()"
   ]
  },
  {
   "cell_type": "markdown",
   "id": "edbb8000",
   "metadata": {},
   "source": [
    "### waferMap size 확인\n",
    "- data print 결과 빈 부분은 0, 정상 pixel은 1, 불량 pixel은 2로 표현되어있는 듯\n",
    "    - input shape 맞출 때 0으로 padding 주듯이 채우면 될 듯\n",
    "- 예상 전처리 과정 : 기존 데이터에 data augmentaion 적용 $ \\rightarrow $ 변형 데이터에 224x224 size zero_padding $ \\rightarrow $ input data"
   ]
  },
  {
   "cell_type": "code",
   "execution_count": 15,
   "id": "274eeac8",
   "metadata": {
    "execution": {
     "iopub.execute_input": "2022-04-06T07:56:29.719052Z",
     "iopub.status.busy": "2022-04-06T07:56:29.719052Z",
     "iopub.status.idle": "2022-04-06T07:56:29.734233Z",
     "shell.execute_reply": "2022-04-06T07:56:29.733735Z",
     "shell.execute_reply.started": "2022-04-06T07:56:29.719052Z"
    },
    "tags": []
   },
   "outputs": [],
   "source": [
    "# pd.set_option('display.max_columns', None)\n",
    "# pd.set_option('display.max_rows', None)"
   ]
  },
  {
   "cell_type": "code",
   "execution_count": 16,
   "id": "28501884",
   "metadata": {
    "execution": {
     "iopub.execute_input": "2022-04-06T07:56:29.735799Z",
     "iopub.status.busy": "2022-04-06T07:56:29.735293Z",
     "iopub.status.idle": "2022-04-06T07:56:29.825424Z",
     "shell.execute_reply": "2022-04-06T07:56:29.824924Z",
     "shell.execute_reply.started": "2022-04-06T07:56:29.735799Z"
    },
    "tags": []
   },
   "outputs": [
    {
     "data": {
      "text/plain": [
       "(32, 29)    108687\n",
       "(25, 27)     64083\n",
       "(49, 39)     39323\n",
       "(26, 26)     30078\n",
       "(30, 34)     29513\n",
       "             ...  \n",
       "(24, 71)         1\n",
       "(61, 55)         1\n",
       "(54, 69)         1\n",
       "(18, 4)          1\n",
       "(32, 71)         1\n",
       "Name: waferMapDim, Length: 632, dtype: int64"
      ]
     },
     "execution_count": 16,
     "metadata": {},
     "output_type": "execute_result"
    }
   ],
   "source": [
    "# waferMap size 확인\n",
    "wm811k['waferMapDim'].value_counts()"
   ]
  },
  {
   "cell_type": "code",
   "execution_count": 18,
   "id": "6daa9b77",
   "metadata": {
    "execution": {
     "iopub.execute_input": "2022-04-06T07:56:29.857676Z",
     "iopub.status.busy": "2022-04-06T07:56:29.857676Z",
     "iopub.status.idle": "2022-04-06T07:56:29.873683Z",
     "shell.execute_reply": "2022-04-06T07:56:29.871753Z",
     "shell.execute_reply.started": "2022-04-06T07:56:29.857676Z"
    },
    "tags": []
   },
   "outputs": [
    {
     "data": {
      "text/plain": [
       "8    36730\n",
       "3     8554\n",
       "0     3462\n",
       "2     2417\n",
       "4     1620\n",
       "5      609\n",
       "6      500\n",
       "1      409\n",
       "7       54\n",
       "Name: failureNum, dtype: int64"
      ]
     },
     "execution_count": 18,
     "metadata": {},
     "output_type": "execute_result"
    }
   ],
   "source": [
    "# 학습 데이터 내 불량 클래스 개수 확인\n",
    "wm811k_train['failureNum'].value_counts()"
   ]
  },
  {
   "cell_type": "markdown",
   "id": "7dc7ff2a",
   "metadata": {},
   "source": [
    "### Data-Augmentaion - 클래스별로 10,000개\n",
    "- None(8): 36,730 중 10,000 개 Sampling\n",
    "- Edge-Ring(3): 8554\n",
    "    - 1446개 모자름\n",
    "- Center(0)     : 3462\n",
    "    - 6,538개 모자름\n",
    "- Edge-Loc(2)   : 2417\n",
    "    - 7,583개 모자름\n",
    "- Loc(4)        : 1620\n",
    "    - 8,380개 모자름\n",
    "- Random(5)     : 609\n",
    "    - 9,391개 모자름\n",
    "- Scratch(6)    : 500\n",
    "    - 9,500개 모자름\n",
    "- Donut(1)      : 409\n",
    "    - 9,591개 모자름\n",
    "- Near-full(7)  : 54\n",
    "    - 9,946개 모자름"
   ]
  },
  {
   "cell_type": "markdown",
   "id": "8ae1ba89",
   "metadata": {},
   "source": [
    "### Augmentation 기법 적용\n",
    "- 10도 회전 : 20%\n",
    "- 좌우 대칭 및 너비 이동(horizontal flipping and width shift) : 20%\n",
    "- 높이 이동(height shfit) : 15%\n",
    "- 전단 범위(shearing range) : 10%\n",
    "- 채널이동 및 확대 축소(channel shift and zooming) : 10%\n",
    "- 75%밖에 안 되는 듯"
   ]
  },
  {
   "cell_type": "markdown",
   "id": "95e97f9e",
   "metadata": {},
   "source": [
    "- 수정 증량 비율\n",
    "    - +10도 회전 : 10%\n",
    "    - -10도 회전 : 10%\n",
    "    - 좌우 대칭 : 20% \n",
    "    - 너비 이동 : 20%\n",
    "    - 높이 이동: 20%\n",
    "    - 전단 범위(shearing range) : 10%\n",
    "    - 확대 : 10%"
   ]
  },
  {
   "cell_type": "code",
   "execution_count": 19,
   "id": "15c11400",
   "metadata": {
    "execution": {
     "iopub.execute_input": "2022-04-06T07:56:29.874686Z",
     "iopub.status.busy": "2022-04-06T07:56:29.874686Z",
     "iopub.status.idle": "2022-04-06T07:56:30.068979Z",
     "shell.execute_reply": "2022-04-06T07:56:30.067979Z",
     "shell.execute_reply.started": "2022-04-06T07:56:29.874686Z"
    },
    "tags": []
   },
   "outputs": [
    {
     "data": {
      "text/html": [
       "<div>\n",
       "<style scoped>\n",
       "    .dataframe tbody tr th:only-of-type {\n",
       "        vertical-align: middle;\n",
       "    }\n",
       "\n",
       "    .dataframe tbody tr th {\n",
       "        vertical-align: top;\n",
       "    }\n",
       "\n",
       "    .dataframe thead th {\n",
       "        text-align: right;\n",
       "    }\n",
       "</style>\n",
       "<table border=\"1\" class=\"dataframe\">\n",
       "  <thead>\n",
       "    <tr style=\"text-align: right;\">\n",
       "      <th></th>\n",
       "      <th>waferMap</th>\n",
       "      <th>dieSize</th>\n",
       "      <th>lotName</th>\n",
       "      <th>trianTestLabel</th>\n",
       "      <th>failureType</th>\n",
       "      <th>waferMapDim</th>\n",
       "      <th>failureNum</th>\n",
       "      <th>trainTestNum</th>\n",
       "    </tr>\n",
       "  </thead>\n",
       "  <tbody>\n",
       "    <tr>\n",
       "      <th>0</th>\n",
       "      <td>[[0, 0, 0, 0, 0, 0, 0, 0, 0, 0, 0, 0, 0, 0, 0,...</td>\n",
       "      <td>1683.0</td>\n",
       "      <td>lot1</td>\n",
       "      <td>[[Training]]</td>\n",
       "      <td>[[none]]</td>\n",
       "      <td>(45, 48)</td>\n",
       "      <td>8</td>\n",
       "      <td>0</td>\n",
       "    </tr>\n",
       "    <tr>\n",
       "      <th>1</th>\n",
       "      <td>[[0, 0, 0, 0, 0, 0, 0, 0, 0, 0, 0, 0, 0, 0, 0,...</td>\n",
       "      <td>1683.0</td>\n",
       "      <td>lot1</td>\n",
       "      <td>[[Training]]</td>\n",
       "      <td>[[none]]</td>\n",
       "      <td>(45, 48)</td>\n",
       "      <td>8</td>\n",
       "      <td>0</td>\n",
       "    </tr>\n",
       "    <tr>\n",
       "      <th>2</th>\n",
       "      <td>[[0, 0, 0, 0, 0, 0, 0, 0, 0, 0, 0, 0, 0, 0, 0,...</td>\n",
       "      <td>1683.0</td>\n",
       "      <td>lot1</td>\n",
       "      <td>[[Training]]</td>\n",
       "      <td>[[none]]</td>\n",
       "      <td>(45, 48)</td>\n",
       "      <td>8</td>\n",
       "      <td>0</td>\n",
       "    </tr>\n",
       "    <tr>\n",
       "      <th>3</th>\n",
       "      <td>[[0, 0, 0, 0, 0, 0, 0, 0, 0, 0, 0, 0, 0, 0, 0,...</td>\n",
       "      <td>1683.0</td>\n",
       "      <td>lot1</td>\n",
       "      <td>[[Training]]</td>\n",
       "      <td>[[none]]</td>\n",
       "      <td>(45, 48)</td>\n",
       "      <td>8</td>\n",
       "      <td>0</td>\n",
       "    </tr>\n",
       "    <tr>\n",
       "      <th>4</th>\n",
       "      <td>[[0, 0, 0, 0, 0, 0, 0, 0, 0, 0, 0, 0, 0, 0, 0,...</td>\n",
       "      <td>1683.0</td>\n",
       "      <td>lot1</td>\n",
       "      <td>[[Training]]</td>\n",
       "      <td>[[none]]</td>\n",
       "      <td>(45, 48)</td>\n",
       "      <td>8</td>\n",
       "      <td>0</td>\n",
       "    </tr>\n",
       "  </tbody>\n",
       "</table>\n",
       "</div>"
      ],
      "text/plain": [
       "                                            waferMap  dieSize lotName  \\\n",
       "0  [[0, 0, 0, 0, 0, 0, 0, 0, 0, 0, 0, 0, 0, 0, 0,...   1683.0    lot1   \n",
       "1  [[0, 0, 0, 0, 0, 0, 0, 0, 0, 0, 0, 0, 0, 0, 0,...   1683.0    lot1   \n",
       "2  [[0, 0, 0, 0, 0, 0, 0, 0, 0, 0, 0, 0, 0, 0, 0,...   1683.0    lot1   \n",
       "3  [[0, 0, 0, 0, 0, 0, 0, 0, 0, 0, 0, 0, 0, 0, 0,...   1683.0    lot1   \n",
       "4  [[0, 0, 0, 0, 0, 0, 0, 0, 0, 0, 0, 0, 0, 0, 0,...   1683.0    lot1   \n",
       "\n",
       "  trianTestLabel failureType waferMapDim failureNum trainTestNum  \n",
       "0   [[Training]]    [[none]]    (45, 48)          8            0  \n",
       "1   [[Training]]    [[none]]    (45, 48)          8            0  \n",
       "2   [[Training]]    [[none]]    (45, 48)          8            0  \n",
       "3   [[Training]]    [[none]]    (45, 48)          8            0  \n",
       "4   [[Training]]    [[none]]    (45, 48)          8            0  "
      ]
     },
     "execution_count": 19,
     "metadata": {},
     "output_type": "execute_result"
    }
   ],
   "source": [
    "wm811k_train.head()"
   ]
  },
  {
   "cell_type": "markdown",
   "id": "15c98a4d",
   "metadata": {},
   "source": [
    "### Augmentation 구현\n",
    "- 기법 별로 함수 작성\n",
    "- 비율 개수만큼 sampling\n",
    "- sampling 데이터에 작성한 기법별 함수 적용\n",
    "- waferMapDim 확인 / waferMap 이미지 부분 잘리거나 한 부분 없게끔 적용되게 확인 : 미리 padding 주기?\n",
    "- data concat"
   ]
  },
  {
   "cell_type": "markdown",
   "id": "5e81fdd6",
   "metadata": {},
   "source": [
    "- 10도 회전\n",
    "    - 참고 : https://076923.github.io/posts/Python-opencv-6/"
   ]
  },
  {
   "cell_type": "code",
   "execution_count": 20,
   "id": "81364221",
   "metadata": {
    "execution": {
     "iopub.execute_input": "2022-04-06T07:56:30.070046Z",
     "iopub.status.busy": "2022-04-06T07:56:30.070046Z",
     "iopub.status.idle": "2022-04-06T07:56:30.084288Z",
     "shell.execute_reply": "2022-04-06T07:56:30.083237Z",
     "shell.execute_reply.started": "2022-04-06T07:56:30.070046Z"
    },
    "tags": []
   },
   "outputs": [],
   "source": [
    "def rotation_10_degree(data_img):\n",
    "    height, width = data_img.shape\n",
    "    # positive for anti-clockwise and negative for clockwise\n",
    "    # 양수 음수 random으로 주기 코드 추가\n",
    "    rotation_10_degree_img = cv2.getRotationMatrix2D((width/2, height/2), 10, 1) # 중심점, 각도, 배율\n",
    "    dst = cv2.warpAffine(data_img, rotation_10_degree_img, (width,height))\n",
    "    return dst"
   ]
  },
  {
   "cell_type": "code",
   "execution_count": 21,
   "id": "12175629",
   "metadata": {
    "execution": {
     "iopub.execute_input": "2022-04-06T07:56:30.087644Z",
     "iopub.status.busy": "2022-04-06T07:56:30.087146Z",
     "iopub.status.idle": "2022-04-06T07:56:30.098851Z",
     "shell.execute_reply": "2022-04-06T07:56:30.098349Z",
     "shell.execute_reply.started": "2022-04-06T07:56:30.087146Z"
    },
    "tags": []
   },
   "outputs": [],
   "source": [
    "def rotation_minus_10_degree(data_img):\n",
    "    height, width = data_img.shape\n",
    "    # positive for anti-clockwise and negative for clockwise\n",
    "    # 양수 음수 random으로 주기 코드 추가\n",
    "    rotation_10_degree_img = cv2.getRotationMatrix2D((width/2, height/2), -10, 1) # 중심점, 각도, 배율\n",
    "    dst = cv2.warpAffine(data_img, rotation_10_degree_img, (width,height))\n",
    "    return dst"
   ]
  },
  {
   "cell_type": "code",
   "execution_count": 22,
   "id": "0be605ba",
   "metadata": {
    "execution": {
     "iopub.execute_input": "2022-04-06T07:56:30.101096Z",
     "iopub.status.busy": "2022-04-06T07:56:30.100596Z",
     "iopub.status.idle": "2022-04-06T07:56:30.130473Z",
     "shell.execute_reply": "2022-04-06T07:56:30.129976Z",
     "shell.execute_reply.started": "2022-04-06T07:56:30.101096Z"
    },
    "tags": []
   },
   "outputs": [],
   "source": [
    "# 회전 변환 다른 라이브러리 활용하는 방법 참고\n",
    "# from scipy.ndimage.interpolation import rotate\n",
    "# rotated = rotate(test_wafermap.iloc[3][\"waferMap\"], angle=10,reshape=False)\n",
    "# plt.imshow(rotated)\n",
    "# plt.show()"
   ]
  },
  {
   "cell_type": "markdown",
   "id": "9d070cea",
   "metadata": {},
   "source": [
    "- 좌우 대칭 및 너비 이동(horizontal flipping and width shift)\n",
    "    - cv2.flip : https://crmn.tistory.com/54\n",
    "        - flip_img = cv2.flip(data_img, 1) # 1:좌우반전, 0:상하반전 \n",
    "    - translate : https://m.blog.naver.com/PostView.naver?isHttpsRedirect=true&blogId=vps32&logNo=221762189533\n",
    "        - width shift\n",
    "        - height shift"
   ]
  },
  {
   "cell_type": "code",
   "execution_count": 23,
   "id": "cde30c64",
   "metadata": {
    "execution": {
     "iopub.execute_input": "2022-04-06T07:56:30.131974Z",
     "iopub.status.busy": "2022-04-06T07:56:30.131974Z",
     "iopub.status.idle": "2022-04-06T07:56:30.145822Z",
     "shell.execute_reply": "2022-04-06T07:56:30.144788Z",
     "shell.execute_reply.started": "2022-04-06T07:56:30.131974Z"
    },
    "tags": []
   },
   "outputs": [],
   "source": [
    "def translate(data_img):\n",
    "    height, width = data_img.shape\n",
    "    # random ~ 범위 지정하여 함수 실행 시 마다 무작위로 평행이동 정도 부여하게끔 수정 필요\n",
    "    # 224x224 size 안에서 이동하도록 코딩 필요\n",
    "    translate_matrix = np.float32([[1,0,10], [0,1,5]]) # 세로 10, 가로 5 만큼 평행 이동 \n",
    "    dst = cv2.warpAffine(data_img, translate_matrix, (width,height))\n",
    "    return dst"
   ]
  },
  {
   "cell_type": "markdown",
   "id": "db2bddf2",
   "metadata": {},
   "source": [
    "- 전단 범위(shearing range)\n",
    "    - https://www.thepythoncode.com/article/image-transformations-using-opencv-in-python\n",
    "    - https://stackoverflow.com/questions/57881430/how-could-i-implement-a-centered-shear-an-image-with-opencv"
   ]
  },
  {
   "cell_type": "code",
   "execution_count": 24,
   "id": "76b56eb4",
   "metadata": {
    "execution": {
     "iopub.execute_input": "2022-04-06T07:56:30.147395Z",
     "iopub.status.busy": "2022-04-06T07:56:30.146748Z",
     "iopub.status.idle": "2022-04-06T07:56:30.161322Z",
     "shell.execute_reply": "2022-04-06T07:56:30.159825Z",
     "shell.execute_reply.started": "2022-04-06T07:56:30.147395Z"
    },
    "tags": []
   },
   "outputs": [],
   "source": [
    "def shearing(data_img):\n",
    "    height, width = data_img.shape\n",
    "    # random ~ 범위 지정하여 함수 실행 시 마다 x축, y축 shearing 정도 부여하게끔 수정 필요\n",
    "    shearing_matrix = np.float32([[1, 0.5, 0],    # shearing applied to y-axis\n",
    "             \t                  [0, 1  , 0],    # M = np.float32([[1,   0, 0],\n",
    "            \t                  [0, 0  , 1]])   #             \t[0.5, 1, 0],\n",
    "                                                  #             \t[0,   0, 1]])  \n",
    "    # apply a perspective transformation to the image                \n",
    "    dst = cv2.warpPerspective(data_img, shearing_matrix, (int(width*1.5),int(height*1.5)))                      \n",
    "    # 변형 이미지 중심 보정?\n",
    "    return dst"
   ]
  },
  {
   "cell_type": "markdown",
   "id": "791a5cff",
   "metadata": {},
   "source": [
    "- 채널이동 및 확대 축소(channel shift and zooming)\n",
    "    - 단일 채널 이미지라 channel shift는 적용 안 될 것 같음\n",
    "    - zoom : https://076923.github.io/posts/Python-opencv-7/"
   ]
  },
  {
   "cell_type": "code",
   "execution_count": 25,
   "id": "b5a923f4",
   "metadata": {
    "execution": {
     "iopub.execute_input": "2022-04-06T07:56:30.161838Z",
     "iopub.status.busy": "2022-04-06T07:56:30.161838Z",
     "iopub.status.idle": "2022-04-06T07:56:30.176569Z",
     "shell.execute_reply": "2022-04-06T07:56:30.175570Z",
     "shell.execute_reply.started": "2022-04-06T07:56:30.161838Z"
    },
    "tags": []
   },
   "outputs": [],
   "source": [
    "def zoom(data_img):\n",
    "    height, width = data_img.shape\n",
    "    # 2배 확대 이미지 / 가로 세로 값이 조건에 맞으면 dstsize로 값 부여하여 세밀 조정 가능\n",
    "    # 224x224 size 안에서 2배 확대 가능하도록 코딩 필요\n",
    "    dst = cv2.pyrUp(data_img, dstsize=(width * 2, height * 2), borderType=cv2.BORDER_DEFAULT)\n",
    "    return dst"
   ]
  },
  {
   "cell_type": "markdown",
   "id": "067d9cd2",
   "metadata": {},
   "source": [
    "- test"
   ]
  },
  {
   "cell_type": "code",
   "execution_count": 26,
   "id": "1a6afc2d",
   "metadata": {
    "execution": {
     "iopub.execute_input": "2022-04-06T07:56:30.177817Z",
     "iopub.status.busy": "2022-04-06T07:56:30.177817Z",
     "iopub.status.idle": "2022-04-06T07:56:30.191178Z",
     "shell.execute_reply": "2022-04-06T07:56:30.190488Z",
     "shell.execute_reply.started": "2022-04-06T07:56:30.177817Z"
    },
    "tags": []
   },
   "outputs": [],
   "source": [
    "test_wafermap = wm811k_train.query(\"failureNum == 6\").sample(n=5)"
   ]
  },
  {
   "cell_type": "code",
   "execution_count": 27,
   "id": "823fa65f",
   "metadata": {
    "execution": {
     "iopub.execute_input": "2022-04-06T07:56:30.192377Z",
     "iopub.status.busy": "2022-04-06T07:56:30.192377Z",
     "iopub.status.idle": "2022-04-06T07:56:30.453227Z",
     "shell.execute_reply": "2022-04-06T07:56:30.452728Z",
     "shell.execute_reply.started": "2022-04-06T07:56:30.192377Z"
    },
    "tags": []
   },
   "outputs": [
    {
     "data": {
      "text/html": [
       "<div>\n",
       "<style scoped>\n",
       "    .dataframe tbody tr th:only-of-type {\n",
       "        vertical-align: middle;\n",
       "    }\n",
       "\n",
       "    .dataframe tbody tr th {\n",
       "        vertical-align: top;\n",
       "    }\n",
       "\n",
       "    .dataframe thead th {\n",
       "        text-align: right;\n",
       "    }\n",
       "</style>\n",
       "<table border=\"1\" class=\"dataframe\">\n",
       "  <thead>\n",
       "    <tr style=\"text-align: right;\">\n",
       "      <th></th>\n",
       "      <th>waferMap</th>\n",
       "      <th>dieSize</th>\n",
       "      <th>lotName</th>\n",
       "      <th>trianTestLabel</th>\n",
       "      <th>failureType</th>\n",
       "      <th>waferMapDim</th>\n",
       "      <th>failureNum</th>\n",
       "      <th>trainTestNum</th>\n",
       "    </tr>\n",
       "  </thead>\n",
       "  <tbody>\n",
       "    <tr>\n",
       "      <th>341768</th>\n",
       "      <td>[[0, 0, 0, 0, 0, 0, 0, 0, 0, 0, 0, 0, 0, 0, 0,...</td>\n",
       "      <td>2582.0</td>\n",
       "      <td>lot20490</td>\n",
       "      <td>[[Training]]</td>\n",
       "      <td>[[Scratch]]</td>\n",
       "      <td>(59, 56)</td>\n",
       "      <td>6</td>\n",
       "      <td>0</td>\n",
       "    </tr>\n",
       "    <tr>\n",
       "      <th>244606</th>\n",
       "      <td>[[0, 0, 0, 0, 0, 0, 0, 0, 0, 0, 0, 0, 0, 0, 0,...</td>\n",
       "      <td>1583.0</td>\n",
       "      <td>lot15332</td>\n",
       "      <td>[[Training]]</td>\n",
       "      <td>[[Scratch]]</td>\n",
       "      <td>(45, 45)</td>\n",
       "      <td>6</td>\n",
       "      <td>0</td>\n",
       "    </tr>\n",
       "    <tr>\n",
       "      <th>382233</th>\n",
       "      <td>[[0, 0, 0, 0, 0, 0, 0, 0, 0, 0, 0, 0, 0, 0, 0,...</td>\n",
       "      <td>2393.0</td>\n",
       "      <td>lot22850</td>\n",
       "      <td>[[Training]]</td>\n",
       "      <td>[[Scratch]]</td>\n",
       "      <td>(52, 59)</td>\n",
       "      <td>6</td>\n",
       "      <td>0</td>\n",
       "    </tr>\n",
       "    <tr>\n",
       "      <th>174905</th>\n",
       "      <td>[[0, 0, 0, 0, 0, 0, 0, 0, 0, 0, 0, 0, 0, 0, 0,...</td>\n",
       "      <td>2393.0</td>\n",
       "      <td>lot11173</td>\n",
       "      <td>[[Training]]</td>\n",
       "      <td>[[Scratch]]</td>\n",
       "      <td>(52, 59)</td>\n",
       "      <td>6</td>\n",
       "      <td>0</td>\n",
       "    </tr>\n",
       "    <tr>\n",
       "      <th>23516</th>\n",
       "      <td>[[0, 0, 0, 0, 0, 0, 0, 0, 0, 0, 0, 0, 0, 0, 0,...</td>\n",
       "      <td>6065.0</td>\n",
       "      <td>lot2659</td>\n",
       "      <td>[[Training]]</td>\n",
       "      <td>[[Scratch]]</td>\n",
       "      <td>(87, 89)</td>\n",
       "      <td>6</td>\n",
       "      <td>0</td>\n",
       "    </tr>\n",
       "  </tbody>\n",
       "</table>\n",
       "</div>"
      ],
      "text/plain": [
       "                                                 waferMap  dieSize   lotName  \\\n",
       "341768  [[0, 0, 0, 0, 0, 0, 0, 0, 0, 0, 0, 0, 0, 0, 0,...   2582.0  lot20490   \n",
       "244606  [[0, 0, 0, 0, 0, 0, 0, 0, 0, 0, 0, 0, 0, 0, 0,...   1583.0  lot15332   \n",
       "382233  [[0, 0, 0, 0, 0, 0, 0, 0, 0, 0, 0, 0, 0, 0, 0,...   2393.0  lot22850   \n",
       "174905  [[0, 0, 0, 0, 0, 0, 0, 0, 0, 0, 0, 0, 0, 0, 0,...   2393.0  lot11173   \n",
       "23516   [[0, 0, 0, 0, 0, 0, 0, 0, 0, 0, 0, 0, 0, 0, 0,...   6065.0   lot2659   \n",
       "\n",
       "       trianTestLabel  failureType waferMapDim failureNum trainTestNum  \n",
       "341768   [[Training]]  [[Scratch]]    (59, 56)          6            0  \n",
       "244606   [[Training]]  [[Scratch]]    (45, 45)          6            0  \n",
       "382233   [[Training]]  [[Scratch]]    (52, 59)          6            0  \n",
       "174905   [[Training]]  [[Scratch]]    (52, 59)          6            0  \n",
       "23516    [[Training]]  [[Scratch]]    (87, 89)          6            0  "
      ]
     },
     "execution_count": 27,
     "metadata": {},
     "output_type": "execute_result"
    }
   ],
   "source": [
    "test_wafermap.head()"
   ]
  },
  {
   "cell_type": "code",
   "execution_count": 28,
   "id": "b474415c",
   "metadata": {
    "execution": {
     "iopub.execute_input": "2022-04-06T07:56:30.455252Z",
     "iopub.status.busy": "2022-04-06T07:56:30.455252Z",
     "iopub.status.idle": "2022-04-06T07:56:30.470009Z",
     "shell.execute_reply": "2022-04-06T07:56:30.468471Z",
     "shell.execute_reply.started": "2022-04-06T07:56:30.455252Z"
    },
    "tags": []
   },
   "outputs": [],
   "source": [
    "test_wafermap[\"waferMap_augmentation\"] = test_wafermap[\"waferMap\"].apply(lambda x: rotation_10_degree(x))\n",
    "# test_wafermap[\"waferMap_augmentation\"] = test_wafermap[\"waferMap\"].apply(lambda x: translate(x))\n",
    "# test_wafermap[\"waferMap_augmentation\"] = test_wafermap[\"waferMap\"].apply(lambda x: shearing(x))\n",
    "# test_wafermap[\"waferMap_augmentation\"] = test_wafermap[\"waferMap\"].apply(lambda x: zoom(x))"
   ]
  },
  {
   "cell_type": "code",
   "execution_count": 29,
   "id": "978d9336",
   "metadata": {
    "execution": {
     "iopub.execute_input": "2022-04-06T07:56:30.471063Z",
     "iopub.status.busy": "2022-04-06T07:56:30.471063Z",
     "iopub.status.idle": "2022-04-06T07:56:30.959322Z",
     "shell.execute_reply": "2022-04-06T07:56:30.958879Z",
     "shell.execute_reply.started": "2022-04-06T07:56:30.471063Z"
    },
    "tags": []
   },
   "outputs": [
    {
     "data": {
      "text/html": [
       "<div>\n",
       "<style scoped>\n",
       "    .dataframe tbody tr th:only-of-type {\n",
       "        vertical-align: middle;\n",
       "    }\n",
       "\n",
       "    .dataframe tbody tr th {\n",
       "        vertical-align: top;\n",
       "    }\n",
       "\n",
       "    .dataframe thead th {\n",
       "        text-align: right;\n",
       "    }\n",
       "</style>\n",
       "<table border=\"1\" class=\"dataframe\">\n",
       "  <thead>\n",
       "    <tr style=\"text-align: right;\">\n",
       "      <th></th>\n",
       "      <th>waferMap</th>\n",
       "      <th>dieSize</th>\n",
       "      <th>lotName</th>\n",
       "      <th>trianTestLabel</th>\n",
       "      <th>failureType</th>\n",
       "      <th>waferMapDim</th>\n",
       "      <th>failureNum</th>\n",
       "      <th>trainTestNum</th>\n",
       "      <th>waferMap_augmentation</th>\n",
       "    </tr>\n",
       "  </thead>\n",
       "  <tbody>\n",
       "    <tr>\n",
       "      <th>341768</th>\n",
       "      <td>[[0, 0, 0, 0, 0, 0, 0, 0, 0, 0, 0, 0, 0, 0, 0,...</td>\n",
       "      <td>2582.0</td>\n",
       "      <td>lot20490</td>\n",
       "      <td>[[Training]]</td>\n",
       "      <td>[[Scratch]]</td>\n",
       "      <td>(59, 56)</td>\n",
       "      <td>6</td>\n",
       "      <td>0</td>\n",
       "      <td>[[0, 0, 0, 0, 0, 0, 0, 0, 0, 0, 0, 0, 0, 0, 0,...</td>\n",
       "    </tr>\n",
       "    <tr>\n",
       "      <th>244606</th>\n",
       "      <td>[[0, 0, 0, 0, 0, 0, 0, 0, 0, 0, 0, 0, 0, 0, 0,...</td>\n",
       "      <td>1583.0</td>\n",
       "      <td>lot15332</td>\n",
       "      <td>[[Training]]</td>\n",
       "      <td>[[Scratch]]</td>\n",
       "      <td>(45, 45)</td>\n",
       "      <td>6</td>\n",
       "      <td>0</td>\n",
       "      <td>[[0, 0, 0, 0, 0, 0, 0, 0, 0, 0, 0, 0, 0, 0, 0,...</td>\n",
       "    </tr>\n",
       "    <tr>\n",
       "      <th>382233</th>\n",
       "      <td>[[0, 0, 0, 0, 0, 0, 0, 0, 0, 0, 0, 0, 0, 0, 0,...</td>\n",
       "      <td>2393.0</td>\n",
       "      <td>lot22850</td>\n",
       "      <td>[[Training]]</td>\n",
       "      <td>[[Scratch]]</td>\n",
       "      <td>(52, 59)</td>\n",
       "      <td>6</td>\n",
       "      <td>0</td>\n",
       "      <td>[[0, 0, 0, 0, 0, 0, 0, 0, 0, 0, 0, 0, 0, 0, 0,...</td>\n",
       "    </tr>\n",
       "    <tr>\n",
       "      <th>174905</th>\n",
       "      <td>[[0, 0, 0, 0, 0, 0, 0, 0, 0, 0, 0, 0, 0, 0, 0,...</td>\n",
       "      <td>2393.0</td>\n",
       "      <td>lot11173</td>\n",
       "      <td>[[Training]]</td>\n",
       "      <td>[[Scratch]]</td>\n",
       "      <td>(52, 59)</td>\n",
       "      <td>6</td>\n",
       "      <td>0</td>\n",
       "      <td>[[0, 0, 0, 0, 0, 0, 0, 0, 0, 0, 0, 0, 0, 0, 0,...</td>\n",
       "    </tr>\n",
       "    <tr>\n",
       "      <th>23516</th>\n",
       "      <td>[[0, 0, 0, 0, 0, 0, 0, 0, 0, 0, 0, 0, 0, 0, 0,...</td>\n",
       "      <td>6065.0</td>\n",
       "      <td>lot2659</td>\n",
       "      <td>[[Training]]</td>\n",
       "      <td>[[Scratch]]</td>\n",
       "      <td>(87, 89)</td>\n",
       "      <td>6</td>\n",
       "      <td>0</td>\n",
       "      <td>[[0, 0, 0, 0, 0, 0, 0, 0, 0, 0, 0, 0, 0, 0, 0,...</td>\n",
       "    </tr>\n",
       "  </tbody>\n",
       "</table>\n",
       "</div>"
      ],
      "text/plain": [
       "                                                 waferMap  dieSize   lotName  \\\n",
       "341768  [[0, 0, 0, 0, 0, 0, 0, 0, 0, 0, 0, 0, 0, 0, 0,...   2582.0  lot20490   \n",
       "244606  [[0, 0, 0, 0, 0, 0, 0, 0, 0, 0, 0, 0, 0, 0, 0,...   1583.0  lot15332   \n",
       "382233  [[0, 0, 0, 0, 0, 0, 0, 0, 0, 0, 0, 0, 0, 0, 0,...   2393.0  lot22850   \n",
       "174905  [[0, 0, 0, 0, 0, 0, 0, 0, 0, 0, 0, 0, 0, 0, 0,...   2393.0  lot11173   \n",
       "23516   [[0, 0, 0, 0, 0, 0, 0, 0, 0, 0, 0, 0, 0, 0, 0,...   6065.0   lot2659   \n",
       "\n",
       "       trianTestLabel  failureType waferMapDim failureNum trainTestNum  \\\n",
       "341768   [[Training]]  [[Scratch]]    (59, 56)          6            0   \n",
       "244606   [[Training]]  [[Scratch]]    (45, 45)          6            0   \n",
       "382233   [[Training]]  [[Scratch]]    (52, 59)          6            0   \n",
       "174905   [[Training]]  [[Scratch]]    (52, 59)          6            0   \n",
       "23516    [[Training]]  [[Scratch]]    (87, 89)          6            0   \n",
       "\n",
       "                                    waferMap_augmentation  \n",
       "341768  [[0, 0, 0, 0, 0, 0, 0, 0, 0, 0, 0, 0, 0, 0, 0,...  \n",
       "244606  [[0, 0, 0, 0, 0, 0, 0, 0, 0, 0, 0, 0, 0, 0, 0,...  \n",
       "382233  [[0, 0, 0, 0, 0, 0, 0, 0, 0, 0, 0, 0, 0, 0, 0,...  \n",
       "174905  [[0, 0, 0, 0, 0, 0, 0, 0, 0, 0, 0, 0, 0, 0, 0,...  \n",
       "23516   [[0, 0, 0, 0, 0, 0, 0, 0, 0, 0, 0, 0, 0, 0, 0,...  "
      ]
     },
     "execution_count": 29,
     "metadata": {},
     "output_type": "execute_result"
    }
   ],
   "source": [
    "test_wafermap.head()"
   ]
  },
  {
   "cell_type": "code",
   "execution_count": 30,
   "id": "84c011e5",
   "metadata": {
    "execution": {
     "iopub.execute_input": "2022-04-06T07:56:30.961184Z",
     "iopub.status.busy": "2022-04-06T07:56:30.960389Z",
     "iopub.status.idle": "2022-04-06T07:56:31.081429Z",
     "shell.execute_reply": "2022-04-06T07:56:31.080622Z",
     "shell.execute_reply.started": "2022-04-06T07:56:30.960389Z"
    },
    "tags": []
   },
   "outputs": [
    {
     "data": {
      "image/png": "[encoded data removed]",
      "text/plain": [
       "<Figure size 432x288 with 1 Axes>"
      ]
     },
     "metadata": {
      "needs_background": "light"
     },
     "output_type": "display_data"
    }
   ],
   "source": [
    "plt.imshow(test_wafermap.iloc[3][\"waferMap\"])\n",
    "plt.show()"
   ]
  },
  {
   "cell_type": "code",
   "execution_count": 31,
   "id": "45370ad9",
   "metadata": {
    "execution": {
     "iopub.execute_input": "2022-04-06T07:56:31.082957Z",
     "iopub.status.busy": "2022-04-06T07:56:31.081931Z",
     "iopub.status.idle": "2022-04-06T07:56:31.173398Z",
     "shell.execute_reply": "2022-04-06T07:56:31.172896Z",
     "shell.execute_reply.started": "2022-04-06T07:56:31.082957Z"
    },
    "tags": []
   },
   "outputs": [
    {
     "data": {
      "image/png": "[encoded data removed]",
      "text/plain": [
       "<Figure size 432x288 with 1 Axes>"
      ]
     },
     "metadata": {
      "needs_background": "light"
     },
     "output_type": "display_data"
    }
   ],
   "source": [
    "plt.imshow(test_wafermap.iloc[3][\"waferMap_augmentation\"])\n",
    "plt.show()"
   ]
  },
  {
   "cell_type": "code",
   "execution_count": 32,
   "id": "f48933df",
   "metadata": {
    "execution": {
     "iopub.execute_input": "2022-04-06T07:56:31.174406Z",
     "iopub.status.busy": "2022-04-06T07:56:31.174406Z",
     "iopub.status.idle": "2022-04-06T07:56:31.634668Z",
     "shell.execute_reply": "2022-04-06T07:56:31.634063Z",
     "shell.execute_reply.started": "2022-04-06T07:56:31.174406Z"
    },
    "tags": []
   },
   "outputs": [
    {
     "data": {
      "text/html": [
       "<div>\n",
       "<style scoped>\n",
       "    .dataframe tbody tr th:only-of-type {\n",
       "        vertical-align: middle;\n",
       "    }\n",
       "\n",
       "    .dataframe tbody tr th {\n",
       "        vertical-align: top;\n",
       "    }\n",
       "\n",
       "    .dataframe thead th {\n",
       "        text-align: right;\n",
       "    }\n",
       "</style>\n",
       "<table border=\"1\" class=\"dataframe\">\n",
       "  <thead>\n",
       "    <tr style=\"text-align: right;\">\n",
       "      <th></th>\n",
       "      <th>waferMap</th>\n",
       "      <th>dieSize</th>\n",
       "      <th>lotName</th>\n",
       "      <th>trianTestLabel</th>\n",
       "      <th>failureType</th>\n",
       "      <th>waferMapDim</th>\n",
       "      <th>failureNum</th>\n",
       "      <th>trainTestNum</th>\n",
       "      <th>waferMap_augmentation</th>\n",
       "      <th>waferMap_augmentation_Dim</th>\n",
       "    </tr>\n",
       "  </thead>\n",
       "  <tbody>\n",
       "    <tr>\n",
       "      <th>341768</th>\n",
       "      <td>[[0, 0, 0, 0, 0, 0, 0, 0, 0, 0, 0, 0, 0, 0, 0,...</td>\n",
       "      <td>2582.0</td>\n",
       "      <td>lot20490</td>\n",
       "      <td>[[Training]]</td>\n",
       "      <td>[[Scratch]]</td>\n",
       "      <td>(59, 56)</td>\n",
       "      <td>6</td>\n",
       "      <td>0</td>\n",
       "      <td>[[0, 0, 0, 0, 0, 0, 0, 0, 0, 0, 0, 0, 0, 0, 0,...</td>\n",
       "      <td>(59, 56)</td>\n",
       "    </tr>\n",
       "    <tr>\n",
       "      <th>244606</th>\n",
       "      <td>[[0, 0, 0, 0, 0, 0, 0, 0, 0, 0, 0, 0, 0, 0, 0,...</td>\n",
       "      <td>1583.0</td>\n",
       "      <td>lot15332</td>\n",
       "      <td>[[Training]]</td>\n",
       "      <td>[[Scratch]]</td>\n",
       "      <td>(45, 45)</td>\n",
       "      <td>6</td>\n",
       "      <td>0</td>\n",
       "      <td>[[0, 0, 0, 0, 0, 0, 0, 0, 0, 0, 0, 0, 0, 0, 0,...</td>\n",
       "      <td>(45, 45)</td>\n",
       "    </tr>\n",
       "    <tr>\n",
       "      <th>382233</th>\n",
       "      <td>[[0, 0, 0, 0, 0, 0, 0, 0, 0, 0, 0, 0, 0, 0, 0,...</td>\n",
       "      <td>2393.0</td>\n",
       "      <td>lot22850</td>\n",
       "      <td>[[Training]]</td>\n",
       "      <td>[[Scratch]]</td>\n",
       "      <td>(52, 59)</td>\n",
       "      <td>6</td>\n",
       "      <td>0</td>\n",
       "      <td>[[0, 0, 0, 0, 0, 0, 0, 0, 0, 0, 0, 0, 0, 0, 0,...</td>\n",
       "      <td>(52, 59)</td>\n",
       "    </tr>\n",
       "    <tr>\n",
       "      <th>174905</th>\n",
       "      <td>[[0, 0, 0, 0, 0, 0, 0, 0, 0, 0, 0, 0, 0, 0, 0,...</td>\n",
       "      <td>2393.0</td>\n",
       "      <td>lot11173</td>\n",
       "      <td>[[Training]]</td>\n",
       "      <td>[[Scratch]]</td>\n",
       "      <td>(52, 59)</td>\n",
       "      <td>6</td>\n",
       "      <td>0</td>\n",
       "      <td>[[0, 0, 0, 0, 0, 0, 0, 0, 0, 0, 0, 0, 0, 0, 0,...</td>\n",
       "      <td>(52, 59)</td>\n",
       "    </tr>\n",
       "    <tr>\n",
       "      <th>23516</th>\n",
       "      <td>[[0, 0, 0, 0, 0, 0, 0, 0, 0, 0, 0, 0, 0, 0, 0,...</td>\n",
       "      <td>6065.0</td>\n",
       "      <td>lot2659</td>\n",
       "      <td>[[Training]]</td>\n",
       "      <td>[[Scratch]]</td>\n",
       "      <td>(87, 89)</td>\n",
       "      <td>6</td>\n",
       "      <td>0</td>\n",
       "      <td>[[0, 0, 0, 0, 0, 0, 0, 0, 0, 0, 0, 0, 0, 0, 0,...</td>\n",
       "      <td>(87, 89)</td>\n",
       "    </tr>\n",
       "  </tbody>\n",
       "</table>\n",
       "</div>"
      ],
      "text/plain": [
       "                                                 waferMap  dieSize   lotName  \\\n",
       "341768  [[0, 0, 0, 0, 0, 0, 0, 0, 0, 0, 0, 0, 0, 0, 0,...   2582.0  lot20490   \n",
       "244606  [[0, 0, 0, 0, 0, 0, 0, 0, 0, 0, 0, 0, 0, 0, 0,...   1583.0  lot15332   \n",
       "382233  [[0, 0, 0, 0, 0, 0, 0, 0, 0, 0, 0, 0, 0, 0, 0,...   2393.0  lot22850   \n",
       "174905  [[0, 0, 0, 0, 0, 0, 0, 0, 0, 0, 0, 0, 0, 0, 0,...   2393.0  lot11173   \n",
       "23516   [[0, 0, 0, 0, 0, 0, 0, 0, 0, 0, 0, 0, 0, 0, 0,...   6065.0   lot2659   \n",
       "\n",
       "       trianTestLabel  failureType waferMapDim failureNum trainTestNum  \\\n",
       "341768   [[Training]]  [[Scratch]]    (59, 56)          6            0   \n",
       "244606   [[Training]]  [[Scratch]]    (45, 45)          6            0   \n",
       "382233   [[Training]]  [[Scratch]]    (52, 59)          6            0   \n",
       "174905   [[Training]]  [[Scratch]]    (52, 59)          6            0   \n",
       "23516    [[Training]]  [[Scratch]]    (87, 89)          6            0   \n",
       "\n",
       "                                    waferMap_augmentation  \\\n",
       "341768  [[0, 0, 0, 0, 0, 0, 0, 0, 0, 0, 0, 0, 0, 0, 0,...   \n",
       "244606  [[0, 0, 0, 0, 0, 0, 0, 0, 0, 0, 0, 0, 0, 0, 0,...   \n",
       "382233  [[0, 0, 0, 0, 0, 0, 0, 0, 0, 0, 0, 0, 0, 0, 0,...   \n",
       "174905  [[0, 0, 0, 0, 0, 0, 0, 0, 0, 0, 0, 0, 0, 0, 0,...   \n",
       "23516   [[0, 0, 0, 0, 0, 0, 0, 0, 0, 0, 0, 0, 0, 0, 0,...   \n",
       "\n",
       "       waferMap_augmentation_Dim  \n",
       "341768                  (59, 56)  \n",
       "244606                  (45, 45)  \n",
       "382233                  (52, 59)  \n",
       "174905                  (52, 59)  \n",
       "23516                   (87, 89)  "
      ]
     },
     "execution_count": 32,
     "metadata": {},
     "output_type": "execute_result"
    }
   ],
   "source": [
    "# augmentated data dim\n",
    "test_wafermap['waferMap_augmentation_Dim']=test_wafermap['waferMap_augmentation'].apply(find_dim)\n",
    "test_wafermap.head()"
   ]
  },
  {
   "cell_type": "markdown",
   "id": "ba47c54b",
   "metadata": {},
   "source": [
    "### Input size에 맞게 zero-padding\n",
    "- 참고 : https://webnautes.tistory.com/1652"
   ]
  },
  {
   "cell_type": "code",
   "execution_count": 33,
   "id": "e4ae4f16",
   "metadata": {
    "execution": {
     "iopub.execute_input": "2022-04-06T07:56:31.635168Z",
     "iopub.status.busy": "2022-04-06T07:56:31.635168Z",
     "iopub.status.idle": "2022-04-06T07:56:31.649839Z",
     "shell.execute_reply": "2022-04-06T07:56:31.649839Z",
     "shell.execute_reply.started": "2022-04-06T07:56:31.635168Z"
    },
    "tags": []
   },
   "outputs": [],
   "source": [
    "def zero_padding(data_img, set_size):\n",
    "    height, width = data_img.shape\n",
    "    \n",
    "    if max(height, width) > set_size:\n",
    "        return data_img\n",
    "    \n",
    "    delta_width = set_size - width\n",
    "    delta_height = set_size - height\n",
    "    top, bottom = delta_height//2, delta_height-(delta_height//2)\n",
    "    left, right = delta_width//2, delta_width-(delta_width//2)\n",
    "    \n",
    "    padded_img = cv2.copyMakeBorder(data_img, top, bottom, left, right, cv2.BORDER_CONSTANT, value=[0,0,0])\n",
    "    return padded_img"
   ]
  },
  {
   "cell_type": "code",
   "execution_count": 34,
   "id": "65c0af10",
   "metadata": {
    "execution": {
     "iopub.execute_input": "2022-04-06T07:56:31.650853Z",
     "iopub.status.busy": "2022-04-06T07:56:31.650853Z",
     "iopub.status.idle": "2022-04-06T07:56:31.742095Z",
     "shell.execute_reply": "2022-04-06T07:56:31.741566Z",
     "shell.execute_reply.started": "2022-04-06T07:56:31.650853Z"
    },
    "tags": []
   },
   "outputs": [
    {
     "data": {
      "image/png": "[encoded data removed]",
      "text/plain": [
       "<Figure size 432x288 with 1 Axes>"
      ]
     },
     "metadata": {
      "needs_background": "light"
     },
     "output_type": "display_data"
    }
   ],
   "source": [
    "plt.imshow(test_wafermap.iloc[3][\"waferMap\"])\n",
    "plt.show()"
   ]
  },
  {
   "cell_type": "code",
   "execution_count": 35,
   "id": "9b2f209f",
   "metadata": {
    "execution": {
     "iopub.execute_input": "2022-04-06T07:56:31.743117Z",
     "iopub.status.busy": "2022-04-06T07:56:31.742095Z",
     "iopub.status.idle": "2022-04-06T07:56:31.757629Z",
     "shell.execute_reply": "2022-04-06T07:56:31.757129Z",
     "shell.execute_reply.started": "2022-04-06T07:56:31.743117Z"
    },
    "tags": []
   },
   "outputs": [
    {
     "data": {
      "text/plain": [
       "(224, 224)"
      ]
     },
     "execution_count": 35,
     "metadata": {},
     "output_type": "execute_result"
    }
   ],
   "source": [
    "pad_test = zero_padding(test_wafermap.iloc[3][\"waferMap\"], 224)\n",
    "pad_test.shape"
   ]
  },
  {
   "cell_type": "code",
   "execution_count": 36,
   "id": "8d31270c",
   "metadata": {
    "execution": {
     "iopub.execute_input": "2022-04-06T07:56:31.759177Z",
     "iopub.status.busy": "2022-04-06T07:56:31.758129Z",
     "iopub.status.idle": "2022-04-06T07:56:31.893483Z",
     "shell.execute_reply": "2022-04-06T07:56:31.893196Z",
     "shell.execute_reply.started": "2022-04-06T07:56:31.759177Z"
    },
    "tags": []
   },
   "outputs": [
    {
     "data": {
      "image/png": "[encoded data removed]",
      "text/plain": [
       "<Figure size 432x288 with 1 Axes>"
      ]
     },
     "metadata": {
      "needs_background": "light"
     },
     "output_type": "display_data"
    }
   ],
   "source": [
    "plt.imshow(pad_test)\n",
    "plt.show()"
   ]
  },
  {
   "cell_type": "code",
   "execution_count": 37,
   "id": "559484ff",
   "metadata": {
    "execution": {
     "iopub.execute_input": "2022-04-06T07:56:31.894492Z",
     "iopub.status.busy": "2022-04-06T07:56:31.894492Z",
     "iopub.status.idle": "2022-04-06T07:56:31.909359Z",
     "shell.execute_reply": "2022-04-06T07:56:31.908907Z",
     "shell.execute_reply.started": "2022-04-06T07:56:31.894492Z"
    }
   },
   "outputs": [],
   "source": [
    "# padding 먼저가 나은지 augmentation 먼저가 나은지 테스트"
   ]
  },
  {
   "cell_type": "markdown",
   "id": "138ae029",
   "metadata": {},
   "source": [
    "### wm811k_new_train_class_XXX 만들어서 concat하기\n",
    "- CNN-WDI input shape 244x244에 맞게 zero-padding 줘야함"
   ]
  },
  {
   "cell_type": "code",
   "execution_count": 38,
   "id": "671315ed",
   "metadata": {
    "execution": {
     "iopub.execute_input": "2022-04-06T07:56:31.909359Z",
     "iopub.status.busy": "2022-04-06T07:56:31.909359Z",
     "iopub.status.idle": "2022-04-06T07:56:31.954797Z",
     "shell.execute_reply": "2022-04-06T07:56:31.954267Z",
     "shell.execute_reply.started": "2022-04-06T07:56:31.909359Z"
    },
    "tags": []
   },
   "outputs": [
    {
     "name": "stdout",
     "output_type": "stream",
     "text": [
      "<class 'pandas.core.frame.DataFrame'>\n",
      "Int64Index: 10000 entries, 749336 to 244652\n",
      "Data columns (total 8 columns):\n",
      " #   Column          Non-Null Count  Dtype  \n",
      "---  ------          --------------  -----  \n",
      " 0   waferMap        10000 non-null  object \n",
      " 1   dieSize         10000 non-null  float64\n",
      " 2   lotName         10000 non-null  object \n",
      " 3   trianTestLabel  10000 non-null  object \n",
      " 4   failureType     10000 non-null  object \n",
      " 5   waferMapDim     10000 non-null  object \n",
      " 6   failureNum      10000 non-null  object \n",
      " 7   trainTestNum    10000 non-null  object \n",
      "dtypes: float64(1), object(7)\n",
      "memory usage: 703.1+ KB\n"
     ]
    }
   ],
   "source": [
    "# None type class 10,000개 sampling\n",
    "# 참고 : https://rfriend.tistory.com/602\n",
    "wm811k_new_train_class_None = wm811k_train.query(\"failureNum == 8\").sample(n=10000, random_state=2022)\n",
    "wm811k_new_train_class_None.info()"
   ]
  },
  {
   "cell_type": "code",
   "execution_count": 39,
   "id": "3a21b080",
   "metadata": {
    "execution": {
     "iopub.execute_input": "2022-04-06T07:56:31.958818Z",
     "iopub.status.busy": "2022-04-06T07:56:31.958818Z",
     "iopub.status.idle": "2022-04-06T07:56:31.969916Z",
     "shell.execute_reply": "2022-04-06T07:56:31.969414Z",
     "shell.execute_reply.started": "2022-04-06T07:56:31.958818Z"
    },
    "tags": []
   },
   "outputs": [],
   "source": [
    "# Edge-Ring(3) 현 보유 8,554개 / 1,446개 augmentation 필요\n",
    "# +10도 회전 : 10% - 144개\n",
    "# -10도 회전 : 10% - 144개\n",
    "# 좌우 대칭 : 20%  - 288개\n",
    "# 너비 이동 : 20% - 288개\n",
    "# 높이 이동: 20% - 288개\n",
    "# 전단 범위(shearing range) : 10% - 144개\n",
    "# 확대 : 10% - 150개"
   ]
  },
  {
   "cell_type": "code",
   "execution_count": 40,
   "id": "29a6cd72",
   "metadata": {
    "execution": {
     "iopub.execute_input": "2022-04-06T07:56:31.971387Z",
     "iopub.status.busy": "2022-04-06T07:56:31.970888Z",
     "iopub.status.idle": "2022-04-06T07:56:31.999987Z",
     "shell.execute_reply": "2022-04-06T07:56:31.999485Z",
     "shell.execute_reply.started": "2022-04-06T07:56:31.970888Z"
    }
   },
   "outputs": [
    {
     "name": "stdout",
     "output_type": "stream",
     "text": [
      "<class 'pandas.core.frame.DataFrame'>\n",
      "Int64Index: 8554 entries, 100 to 786313\n",
      "Data columns (total 8 columns):\n",
      " #   Column          Non-Null Count  Dtype  \n",
      "---  ------          --------------  -----  \n",
      " 0   waferMap        8554 non-null   object \n",
      " 1   dieSize         8554 non-null   float64\n",
      " 2   lotName         8554 non-null   object \n",
      " 3   trianTestLabel  8554 non-null   object \n",
      " 4   failureType     8554 non-null   object \n",
      " 5   waferMapDim     8554 non-null   object \n",
      " 6   failureNum      8554 non-null   object \n",
      " 7   trainTestNum    8554 non-null   object \n",
      "dtypes: float64(1), object(7)\n",
      "memory usage: 601.5+ KB\n"
     ]
    }
   ],
   "source": [
    "wm811k_new_train_class_Edge_Ring = wm811k_train.query(\"failureNum == 3\")\n",
    "wm811k_new_train_class_Edge_Ring.info()"
   ]
  },
  {
   "cell_type": "code",
   "execution_count": 41,
   "id": "5958d9ae",
   "metadata": {
    "execution": {
     "iopub.execute_input": "2022-04-06T07:56:32.001008Z",
     "iopub.status.busy": "2022-04-06T07:56:32.001008Z",
     "iopub.status.idle": "2022-04-06T07:56:32.014732Z",
     "shell.execute_reply": "2022-04-06T07:56:32.014320Z",
     "shell.execute_reply.started": "2022-04-06T07:56:32.001008Z"
    }
   },
   "outputs": [],
   "source": [
    "# Center(0) 현 보유 3,462개 / 6,538개 augmentation 필요\n",
    "# +10도 회전 : 10% - 654개\n",
    "# -10도 회전 : 10% - 654개\n",
    "# 좌우 대칭 : 20%  - 1308개\n",
    "# 너비 이동 : 20%  - 1308개\n",
    "# 높이 이동: 20%   - 1308개\n",
    "# 전단 범위(shearing range) : 10% - 652개\n",
    "# 확대 : 10% - 654개"
   ]
  },
  {
   "cell_type": "code",
   "execution_count": 42,
   "id": "d5c9ba22",
   "metadata": {
    "execution": {
     "iopub.execute_input": "2022-04-06T07:56:32.016017Z",
     "iopub.status.busy": "2022-04-06T07:56:32.016017Z",
     "iopub.status.idle": "2022-04-06T07:56:32.045408Z",
     "shell.execute_reply": "2022-04-06T07:56:32.044905Z",
     "shell.execute_reply.started": "2022-04-06T07:56:32.016017Z"
    }
   },
   "outputs": [
    {
     "name": "stdout",
     "output_type": "stream",
     "text": [
      "<class 'pandas.core.frame.DataFrame'>\n",
      "Int64Index: 3462 entries, 44 to 785245\n",
      "Data columns (total 8 columns):\n",
      " #   Column          Non-Null Count  Dtype  \n",
      "---  ------          --------------  -----  \n",
      " 0   waferMap        3462 non-null   object \n",
      " 1   dieSize         3462 non-null   float64\n",
      " 2   lotName         3462 non-null   object \n",
      " 3   trianTestLabel  3462 non-null   object \n",
      " 4   failureType     3462 non-null   object \n",
      " 5   waferMapDim     3462 non-null   object \n",
      " 6   failureNum      3462 non-null   object \n",
      " 7   trainTestNum    3462 non-null   object \n",
      "dtypes: float64(1), object(7)\n",
      "memory usage: 243.4+ KB\n"
     ]
    }
   ],
   "source": [
    "wm811k_new_train_class_Center = wm811k_train.query(\"failureNum == 0\")\n",
    "wm811k_new_train_class_Center.info()"
   ]
  },
  {
   "cell_type": "code",
   "execution_count": 43,
   "id": "c38a9537",
   "metadata": {
    "execution": {
     "iopub.execute_input": "2022-04-06T07:56:32.046922Z",
     "iopub.status.busy": "2022-04-06T07:56:32.045901Z",
     "iopub.status.idle": "2022-04-06T07:56:32.060703Z",
     "shell.execute_reply": "2022-04-06T07:56:32.059918Z",
     "shell.execute_reply.started": "2022-04-06T07:56:32.046922Z"
    }
   },
   "outputs": [],
   "source": [
    "# Edge-Loc(2) 현 보유 2,417개 / 7,583개 augmentation 필요\n",
    "# +10도 회전 : 10% - 758개\n",
    "# -10도 회전 : 10% - 758개\n",
    "# 좌우 대칭 : 20% - 1517개\n",
    "# 너비 이동 : 20% - 1517개\n",
    "# 높이 이동: 20%  - 1517개\n",
    "# 전단 범위(shearing range) : 10% - 758개\n",
    "# 확대 : 10% - 758개"
   ]
  },
  {
   "cell_type": "code",
   "execution_count": 44,
   "id": "e2a51e65",
   "metadata": {
    "execution": {
     "iopub.execute_input": "2022-04-06T07:56:32.061780Z",
     "iopub.status.busy": "2022-04-06T07:56:32.061780Z",
     "iopub.status.idle": "2022-04-06T07:56:32.091096Z",
     "shell.execute_reply": "2022-04-06T07:56:32.090087Z",
     "shell.execute_reply.started": "2022-04-06T07:56:32.061780Z"
    }
   },
   "outputs": [
    {
     "name": "stdout",
     "output_type": "stream",
     "text": [
      "<class 'pandas.core.frame.DataFrame'>\n",
      "Int64Index: 2417 entries, 36 to 791230\n",
      "Data columns (total 8 columns):\n",
      " #   Column          Non-Null Count  Dtype  \n",
      "---  ------          --------------  -----  \n",
      " 0   waferMap        2417 non-null   object \n",
      " 1   dieSize         2417 non-null   float64\n",
      " 2   lotName         2417 non-null   object \n",
      " 3   trianTestLabel  2417 non-null   object \n",
      " 4   failureType     2417 non-null   object \n",
      " 5   waferMapDim     2417 non-null   object \n",
      " 6   failureNum      2417 non-null   object \n",
      " 7   trainTestNum    2417 non-null   object \n",
      "dtypes: float64(1), object(7)\n",
      "memory usage: 169.9+ KB\n"
     ]
    }
   ],
   "source": [
    "wm811k_new_train_class_Edge_Loc = wm811k_train.query(\"failureNum == 2\")\n",
    "wm811k_new_train_class_Edge_Loc.info()"
   ]
  },
  {
   "cell_type": "code",
   "execution_count": 45,
   "id": "f219a052",
   "metadata": {
    "execution": {
     "iopub.execute_input": "2022-04-06T07:56:32.091096Z",
     "iopub.status.busy": "2022-04-06T07:56:32.091096Z",
     "iopub.status.idle": "2022-04-06T07:56:32.106365Z",
     "shell.execute_reply": "2022-04-06T07:56:32.105776Z",
     "shell.execute_reply.started": "2022-04-06T07:56:32.091096Z"
    }
   },
   "outputs": [],
   "source": [
    "# Loc(4) 현 보유 1,620개 / 8,380개 augmentation 필요\n",
    "# +10도 회전 : 10% - 838개\n",
    "# -10도 회전 : 10% - 838개\n",
    "# 좌우 대칭 : 20%  - \"1676개\"\n",
    "# 너비 이동 : 20%  - \"1676개\"\n",
    "# 높이 이동: 20%   - \"1676개\"\n",
    "# 전단 범위(shearing range) : 10% - 838개\n",
    "# 확대 : 10% - 838개"
   ]
  },
  {
   "cell_type": "code",
   "execution_count": 46,
   "id": "51903427",
   "metadata": {
    "execution": {
     "iopub.execute_input": "2022-04-06T07:56:32.107658Z",
     "iopub.status.busy": "2022-04-06T07:56:32.107658Z",
     "iopub.status.idle": "2022-04-06T07:56:32.136570Z",
     "shell.execute_reply": "2022-04-06T07:56:32.136069Z",
     "shell.execute_reply.started": "2022-04-06T07:56:32.107658Z"
    }
   },
   "outputs": [
    {
     "name": "stdout",
     "output_type": "stream",
     "text": [
      "<class 'pandas.core.frame.DataFrame'>\n",
      "Int64Index: 1620 entries, 19 to 791433\n",
      "Data columns (total 8 columns):\n",
      " #   Column          Non-Null Count  Dtype  \n",
      "---  ------          --------------  -----  \n",
      " 0   waferMap        1620 non-null   object \n",
      " 1   dieSize         1620 non-null   float64\n",
      " 2   lotName         1620 non-null   object \n",
      " 3   trianTestLabel  1620 non-null   object \n",
      " 4   failureType     1620 non-null   object \n",
      " 5   waferMapDim     1620 non-null   object \n",
      " 6   failureNum      1620 non-null   object \n",
      " 7   trainTestNum    1620 non-null   object \n",
      "dtypes: float64(1), object(7)\n",
      "memory usage: 113.9+ KB\n"
     ]
    }
   ],
   "source": [
    "wm811k_new_train_class_Loc = wm811k_train.query(\"failureNum == 4\")\n",
    "wm811k_new_train_class_Loc.info()"
   ]
  },
  {
   "cell_type": "code",
   "execution_count": 47,
   "id": "5b07c33e",
   "metadata": {
    "execution": {
     "iopub.execute_input": "2022-04-06T07:56:32.137683Z",
     "iopub.status.busy": "2022-04-06T07:56:32.137683Z",
     "iopub.status.idle": "2022-04-06T07:56:32.152023Z",
     "shell.execute_reply": "2022-04-06T07:56:32.151523Z",
     "shell.execute_reply.started": "2022-04-06T07:56:32.137683Z"
    }
   },
   "outputs": [],
   "source": [
    "# Random(5) 현 보유 609개 / 9,391개 augmentation 필요\n",
    "# +10도 회전 : 10%\n",
    "# -10도 회전 : 10%\n",
    "# 좌우 대칭 : 20% \n",
    "# 너비 이동 : 20%\n",
    "# 높이 이동: 20%\n",
    "# 전단 범위(shearing range) : 10%\n",
    "# 확대 : 10%"
   ]
  },
  {
   "cell_type": "code",
   "execution_count": 48,
   "id": "f9b72529",
   "metadata": {
    "execution": {
     "iopub.execute_input": "2022-04-06T07:56:32.153652Z",
     "iopub.status.busy": "2022-04-06T07:56:32.153147Z",
     "iopub.status.idle": "2022-04-06T07:56:32.182099Z",
     "shell.execute_reply": "2022-04-06T07:56:32.182099Z",
     "shell.execute_reply.started": "2022-04-06T07:56:32.153147Z"
    }
   },
   "outputs": [
    {
     "name": "stdout",
     "output_type": "stream",
     "text": [
      "<class 'pandas.core.frame.DataFrame'>\n",
      "Int64Index: 609 entries, 602 to 751939\n",
      "Data columns (total 8 columns):\n",
      " #   Column          Non-Null Count  Dtype  \n",
      "---  ------          --------------  -----  \n",
      " 0   waferMap        609 non-null    object \n",
      " 1   dieSize         609 non-null    float64\n",
      " 2   lotName         609 non-null    object \n",
      " 3   trianTestLabel  609 non-null    object \n",
      " 4   failureType     609 non-null    object \n",
      " 5   waferMapDim     609 non-null    object \n",
      " 6   failureNum      609 non-null    object \n",
      " 7   trainTestNum    609 non-null    object \n",
      "dtypes: float64(1), object(7)\n",
      "memory usage: 42.8+ KB\n"
     ]
    }
   ],
   "source": [
    "wm811k_new_train_class_Random = wm811k_train.query(\"failureNum == 5\")\n",
    "wm811k_new_train_class_Random.info()"
   ]
  },
  {
   "cell_type": "code",
   "execution_count": 49,
   "id": "5d4d23a7",
   "metadata": {
    "execution": {
     "iopub.execute_input": "2022-04-06T07:56:32.184098Z",
     "iopub.status.busy": "2022-04-06T07:56:32.183100Z",
     "iopub.status.idle": "2022-04-06T07:56:32.197639Z",
     "shell.execute_reply": "2022-04-06T07:56:32.197116Z",
     "shell.execute_reply.started": "2022-04-06T07:56:32.184098Z"
    }
   },
   "outputs": [],
   "source": [
    "# Scratch(6) 현 보유 500개 / 9,500개 augmentation 필요\n",
    "# +10도 회전 : 10%\n",
    "# -10도 회전 : 10%\n",
    "# 좌우 대칭 : 20% \n",
    "# 너비 이동 : 20%\n",
    "# 높이 이동: 20%\n",
    "# 전단 범위(shearing range) : 10%\n",
    "# 확대 : 10%"
   ]
  },
  {
   "cell_type": "code",
   "execution_count": 50,
   "id": "1f7c9261",
   "metadata": {
    "execution": {
     "iopub.execute_input": "2022-04-06T07:56:32.199659Z",
     "iopub.status.busy": "2022-04-06T07:56:32.198661Z",
     "iopub.status.idle": "2022-04-06T07:56:32.228106Z",
     "shell.execute_reply": "2022-04-06T07:56:32.227652Z",
     "shell.execute_reply.started": "2022-04-06T07:56:32.199659Z"
    }
   },
   "outputs": [
    {
     "name": "stdout",
     "output_type": "stream",
     "text": [
      "<class 'pandas.core.frame.DataFrame'>\n",
      "Int64Index: 500 entries, 134 to 791228\n",
      "Data columns (total 8 columns):\n",
      " #   Column          Non-Null Count  Dtype  \n",
      "---  ------          --------------  -----  \n",
      " 0   waferMap        500 non-null    object \n",
      " 1   dieSize         500 non-null    float64\n",
      " 2   lotName         500 non-null    object \n",
      " 3   trianTestLabel  500 non-null    object \n",
      " 4   failureType     500 non-null    object \n",
      " 5   waferMapDim     500 non-null    object \n",
      " 6   failureNum      500 non-null    object \n",
      " 7   trainTestNum    500 non-null    object \n",
      "dtypes: float64(1), object(7)\n",
      "memory usage: 35.2+ KB\n"
     ]
    }
   ],
   "source": [
    "wm811k_new_train_class_Scratch = wm811k_train.query(\"failureNum == 6\")\n",
    "wm811k_new_train_class_Scratch.info()"
   ]
  },
  {
   "cell_type": "code",
   "execution_count": 51,
   "id": "039df057",
   "metadata": {
    "execution": {
     "iopub.execute_input": "2022-04-06T07:56:32.229645Z",
     "iopub.status.busy": "2022-04-06T07:56:32.229645Z",
     "iopub.status.idle": "2022-04-06T07:56:32.243740Z",
     "shell.execute_reply": "2022-04-06T07:56:32.242741Z",
     "shell.execute_reply.started": "2022-04-06T07:56:32.229645Z"
    }
   },
   "outputs": [],
   "source": [
    "# Donut(1) 현 보유 409개 / 9,591개 augmentation 필요\n",
    "# +10도 회전 : 10%\n",
    "# -10도 회전 : 10%\n",
    "# 좌우 대칭 : 20% \n",
    "# 너비 이동 : 20%\n",
    "# 높이 이동: 20%\n",
    "# 전단 범위(shearing range) : 10%\n",
    "# 확대 : 10%"
   ]
  },
  {
   "cell_type": "code",
   "execution_count": 52,
   "id": "6ac4eabf",
   "metadata": {
    "execution": {
     "iopub.execute_input": "2022-04-06T07:56:32.244754Z",
     "iopub.status.busy": "2022-04-06T07:56:32.243740Z",
     "iopub.status.idle": "2022-04-06T07:56:32.273465Z",
     "shell.execute_reply": "2022-04-06T07:56:32.272965Z",
     "shell.execute_reply.started": "2022-04-06T07:56:32.244754Z"
    }
   },
   "outputs": [
    {
     "name": "stdout",
     "output_type": "stream",
     "text": [
      "<class 'pandas.core.frame.DataFrame'>\n",
      "Int64Index: 409 entries, 7316 to 747563\n",
      "Data columns (total 8 columns):\n",
      " #   Column          Non-Null Count  Dtype  \n",
      "---  ------          --------------  -----  \n",
      " 0   waferMap        409 non-null    object \n",
      " 1   dieSize         409 non-null    float64\n",
      " 2   lotName         409 non-null    object \n",
      " 3   trianTestLabel  409 non-null    object \n",
      " 4   failureType     409 non-null    object \n",
      " 5   waferMapDim     409 non-null    object \n",
      " 6   failureNum      409 non-null    object \n",
      " 7   trainTestNum    409 non-null    object \n",
      "dtypes: float64(1), object(7)\n",
      "memory usage: 28.8+ KB\n"
     ]
    }
   ],
   "source": [
    "wm811k_new_train_class_Donut = wm811k_train.query(\"failureNum == 1\")\n",
    "wm811k_new_train_class_Donut.info()"
   ]
  },
  {
   "cell_type": "code",
   "execution_count": 53,
   "id": "c58cf1a4",
   "metadata": {
    "execution": {
     "iopub.execute_input": "2022-04-06T07:56:32.275282Z",
     "iopub.status.busy": "2022-04-06T07:56:32.274783Z",
     "iopub.status.idle": "2022-04-06T07:56:32.289310Z",
     "shell.execute_reply": "2022-04-06T07:56:32.288224Z",
     "shell.execute_reply.started": "2022-04-06T07:56:32.275282Z"
    }
   },
   "outputs": [],
   "source": [
    "# Near-full(7) 현 보유 54개 / 9,946개 augmentation 필요\n",
    "# +10도 회전 : 10%\n",
    "# -10도 회전 : 10%\n",
    "# 좌우 대칭 : 20% \n",
    "# 너비 이동 : 20%\n",
    "# 높이 이동: 20%\n",
    "# 전단 범위(shearing range) : 10%\n",
    "# 확대 : 10%"
   ]
  },
  {
   "cell_type": "code",
   "execution_count": 54,
   "id": "6651ed7d",
   "metadata": {
    "execution": {
     "iopub.execute_input": "2022-04-06T07:56:32.289890Z",
     "iopub.status.busy": "2022-04-06T07:56:32.289890Z",
     "iopub.status.idle": "2022-04-06T07:56:32.319912Z",
     "shell.execute_reply": "2022-04-06T07:56:32.319134Z",
     "shell.execute_reply.started": "2022-04-06T07:56:32.289890Z"
    }
   },
   "outputs": [
    {
     "name": "stdout",
     "output_type": "stream",
     "text": [
      "<class 'pandas.core.frame.DataFrame'>\n",
      "Int64Index: 54 entries, 929 to 785955\n",
      "Data columns (total 8 columns):\n",
      " #   Column          Non-Null Count  Dtype  \n",
      "---  ------          --------------  -----  \n",
      " 0   waferMap        54 non-null     object \n",
      " 1   dieSize         54 non-null     float64\n",
      " 2   lotName         54 non-null     object \n",
      " 3   trianTestLabel  54 non-null     object \n",
      " 4   failureType     54 non-null     object \n",
      " 5   waferMapDim     54 non-null     object \n",
      " 6   failureNum      54 non-null     object \n",
      " 7   trainTestNum    54 non-null     object \n",
      "dtypes: float64(1), object(7)\n",
      "memory usage: 3.8+ KB\n"
     ]
    }
   ],
   "source": [
    "wm811k_new_train_class_Near_Full = wm811k_train.query(\"failureNum == 7\")\n",
    "wm811k_new_train_class_Near_Full.info()"
   ]
  },
  {
   "cell_type": "markdown",
   "id": "9797f385",
   "metadata": {},
   "source": [
    "- augmentation 데이터 파일 저장\n",
    "    - pkl 파일 저장 참고 : https://seing.tistory.com/95"
   ]
  },
  {
   "cell_type": "markdown",
   "id": "3b3dfc03",
   "metadata": {},
   "source": [
    "## CNN-WDI Modeling"
   ]
  },
  {
   "cell_type": "code",
   "execution_count": 55,
   "id": "6bd826ff",
   "metadata": {
    "execution": {
     "iopub.execute_input": "2022-04-06T07:56:32.321505Z",
     "iopub.status.busy": "2022-04-06T07:56:32.320976Z",
     "iopub.status.idle": "2022-04-06T07:56:34.480821Z",
     "shell.execute_reply": "2022-04-06T07:56:34.480521Z",
     "shell.execute_reply.started": "2022-04-06T07:56:32.321505Z"
    },
    "tags": []
   },
   "outputs": [],
   "source": [
    "from tensorflow.keras import layers\n",
    "from tensorflow.keras import optimizers\n",
    "from tensorflow.keras.models import Model\n",
    "from tensorflow.keras.callbacks import ModelCheckpoint"
   ]
  },
  {
   "cell_type": "code",
   "execution_count": 56,
   "id": "64441f23",
   "metadata": {
    "execution": {
     "iopub.execute_input": "2022-04-06T07:56:34.481934Z",
     "iopub.status.busy": "2022-04-06T07:56:34.481934Z",
     "iopub.status.idle": "2022-04-06T07:56:34.649179Z",
     "shell.execute_reply": "2022-04-06T07:56:34.649179Z",
     "shell.execute_reply.started": "2022-04-06T07:56:34.481934Z"
    },
    "tags": []
   },
   "outputs": [],
   "source": [
    "# CNN-WDI model\n",
    "# layer별 padding option check ~ valid, same\n",
    "input_shape = (224,224,1) # 학습 data shape 확인\n",
    "class_num = 9\n",
    "KERNEL_SIZE = 3\n",
    "\n",
    "input_layer = layers.Input(shape=input_shape) # Input 224x224\n",
    "x = layers.Conv2D(16, kernel_size=KERNEL_SIZE, padding='valid')(input_layer) # 16, 3x3\n",
    "x = layers.Activation(activation='relu')(x) # ReLU\n",
    "x = layers.BatchNormalization()(x) # BatchNormalization\n",
    "x = layers.MaxPool2D(pool_size=(2,2))(x) # Max-pooling\n",
    "x = layers.Conv2D(16, kernel_size=KERNEL_SIZE, padding='same')(x) # 16, 3x3\n",
    "x = layers.Activation(activation='relu')(x) # ReLU\n",
    "x = layers.BatchNormalization()(x) # BatchNormalization\n",
    "\n",
    "x = layers.Conv2D(32, kernel_size=KERNEL_SIZE, padding='same')(x) # 32, 3x3\n",
    "x = layers.Activation(activation='relu')(x) # ReLU\n",
    "x = layers.BatchNormalization()(x) # BatchNormalization\n",
    "x = layers.MaxPool2D(pool_size=(2,2))(x) # Max-pooling\n",
    "x = layers.Conv2D(32, kernel_size=KERNEL_SIZE, padding='same')(x) # 32, 3x3\n",
    "x = layers.Activation(activation='relu')(x) # ReLU\n",
    "x = layers.BatchNormalization()(x) # BatchNormalization\n",
    "\n",
    "x = layers.Conv2D(64, kernel_size=KERNEL_SIZE, padding='same')(x) # 64, 3x3\n",
    "x = layers.Activation(activation='relu')(x) # ReLU\n",
    "x = layers.BatchNormalization()(x) # BatchNormalization\n",
    "x = layers.MaxPool2D(pool_size=(2,2))(x) # Max-pooling\n",
    "x = layers.Conv2D(64, kernel_size=KERNEL_SIZE, padding='same')(x) # 64, 3x3\n",
    "x = layers.Activation(activation='relu')(x) # ReLU\n",
    "x = layers.BatchNormalization()(x) # BatchNormalization\n",
    "\n",
    "x = layers.Conv2D(128, kernel_size=KERNEL_SIZE, padding='same')(x) # 128, 3x3\n",
    "x = layers.Activation(activation='relu')(x) # ReLU\n",
    "x = layers.BatchNormalization()(x) # BatchNormalization\n",
    "x = layers.MaxPool2D(pool_size=(2,2))(x) # Max-pooling\n",
    "x = layers.Conv2D(128, kernel_size=KERNEL_SIZE, padding='same')(x) # 128, 3x3\n",
    "x = layers.Activation(activation='relu')(x) # ReLU\n",
    "x = layers.BatchNormalization()(x) # BatchNormalization\n",
    "\n",
    "x = layers.SpatialDropout2D(0.2)(x) # Spartial Dropout 0.2\n",
    "x = layers.MaxPool2D(pool_size=(2,2))(x) # Max-pooling\n",
    "x = layers.Flatten()(x) # 4608 확인\n",
    "x = layers.Dense(512, activation='relu')(x)\n",
    "output_layer = layers.Dense(class_num, activation='softmax')(x)\n",
    "\n",
    "CNN_WDI = Model(input_layer, output_layer)"
   ]
  },
  {
   "cell_type": "code",
   "execution_count": 57,
   "id": "0b3a1804",
   "metadata": {
    "execution": {
     "iopub.execute_input": "2022-04-06T07:56:34.650208Z",
     "iopub.status.busy": "2022-04-06T07:56:34.650208Z",
     "iopub.status.idle": "2022-04-06T07:56:34.664848Z",
     "shell.execute_reply": "2022-04-06T07:56:34.664131Z",
     "shell.execute_reply.started": "2022-04-06T07:56:34.650208Z"
    },
    "tags": []
   },
   "outputs": [
    {
     "name": "stdout",
     "output_type": "stream",
     "text": [
      "Model: \"model\"\n",
      "_________________________________________________________________\n",
      "Layer (type)                 Output Shape              Param #   \n",
      "=================================================================\n",
      "input_1 (InputLayer)         [(None, 224, 224, 1)]     0         \n",
      "_________________________________________________________________\n",
      "conv2d (Conv2D)              (None, 222, 222, 16)      160       \n",
      "_________________________________________________________________\n",
      "activation (Activation)      (None, 222, 222, 16)      0         \n",
      "_________________________________________________________________\n",
      "batch_normalization (BatchNo (None, 222, 222, 16)      64        \n",
      "_________________________________________________________________\n",
      "max_pooling2d (MaxPooling2D) (None, 111, 111, 16)      0         \n",
      "_________________________________________________________________\n",
      "conv2d_1 (Conv2D)            (None, 111, 111, 16)      2320      \n",
      "_________________________________________________________________\n",
      "activation_1 (Activation)    (None, 111, 111, 16)      0         \n",
      "_________________________________________________________________\n",
      "batch_normalization_1 (Batch (None, 111, 111, 16)      64        \n",
      "_________________________________________________________________\n",
      "conv2d_2 (Conv2D)            (None, 111, 111, 32)      4640      \n",
      "_________________________________________________________________\n",
      "activation_2 (Activation)    (None, 111, 111, 32)      0         \n",
      "_________________________________________________________________\n",
      "batch_normalization_2 (Batch (None, 111, 111, 32)      128       \n",
      "_________________________________________________________________\n",
      "max_pooling2d_1 (MaxPooling2 (None, 55, 55, 32)        0         \n",
      "_________________________________________________________________\n",
      "conv2d_3 (Conv2D)            (None, 55, 55, 32)        9248      \n",
      "_________________________________________________________________\n",
      "activation_3 (Activation)    (None, 55, 55, 32)        0         \n",
      "_________________________________________________________________\n",
      "batch_normalization_3 (Batch (None, 55, 55, 32)        128       \n",
      "_________________________________________________________________\n",
      "conv2d_4 (Conv2D)            (None, 55, 55, 64)        18496     \n",
      "_________________________________________________________________\n",
      "activation_4 (Activation)    (None, 55, 55, 64)        0         \n",
      "_________________________________________________________________\n",
      "batch_normalization_4 (Batch (None, 55, 55, 64)        256       \n",
      "_________________________________________________________________\n",
      "max_pooling2d_2 (MaxPooling2 (None, 27, 27, 64)        0         \n",
      "_________________________________________________________________\n",
      "conv2d_5 (Conv2D)            (None, 27, 27, 64)        36928     \n",
      "_________________________________________________________________\n",
      "activation_5 (Activation)    (None, 27, 27, 64)        0         \n",
      "_________________________________________________________________\n",
      "batch_normalization_5 (Batch (None, 27, 27, 64)        256       \n",
      "_________________________________________________________________\n",
      "conv2d_6 (Conv2D)            (None, 27, 27, 128)       73856     \n",
      "_________________________________________________________________\n",
      "activation_6 (Activation)    (None, 27, 27, 128)       0         \n",
      "_________________________________________________________________\n",
      "batch_normalization_6 (Batch (None, 27, 27, 128)       512       \n",
      "_________________________________________________________________\n",
      "max_pooling2d_3 (MaxPooling2 (None, 13, 13, 128)       0         \n",
      "_________________________________________________________________\n",
      "conv2d_7 (Conv2D)            (None, 13, 13, 128)       147584    \n",
      "_________________________________________________________________\n",
      "activation_7 (Activation)    (None, 13, 13, 128)       0         \n",
      "_________________________________________________________________\n",
      "batch_normalization_7 (Batch (None, 13, 13, 128)       512       \n",
      "_________________________________________________________________\n",
      "spatial_dropout2d (SpatialDr (None, 13, 13, 128)       0         \n",
      "_________________________________________________________________\n",
      "max_pooling2d_4 (MaxPooling2 (None, 6, 6, 128)         0         \n",
      "_________________________________________________________________\n",
      "flatten (Flatten)            (None, 4608)              0         \n",
      "_________________________________________________________________\n",
      "dense (Dense)                (None, 512)               2359808   \n",
      "_________________________________________________________________\n",
      "dense_1 (Dense)              (None, 9)                 4617      \n",
      "=================================================================\n",
      "Total params: 2,659,577\n",
      "Trainable params: 2,658,617\n",
      "Non-trainable params: 960\n",
      "_________________________________________________________________\n"
     ]
    }
   ],
   "source": [
    "CNN_WDI.summary()"
   ]
  },
  {
   "cell_type": "code",
   "execution_count": null,
   "id": "8705128e",
   "metadata": {
    "tags": []
   },
   "outputs": [],
   "source": [
    "# learning_rate 설정 ~ compile? fit?\n",
    "# X, y 설정\n",
    "# loss_function, metrics 설정 확인\n",
    "# checkpointer patience 값 확인\n",
    "\n",
    "# train / validation / test set 설정\n",
    "# X_train, X_valid = train_test_split(df, test_size=TEST_SIZE, random_state=2021)\n",
    "\n",
    "# model 설정\n",
    "LEARNING_RATE = 0.001\n",
    "BATCH_SIZE = 100\n",
    "EPOCH = 20  # 논문 그래프에 20 epoch 까지 있음\n",
    "\n",
    "CNN_WDI.compile(loss='categorical_crossentropy', optimizer=optimizers.Adam(LEARNING_RATE), metrics=['categorical_crossentropy'], learning_rate = LEARNING_RATE)\n",
    "checkpointer = ModelCheckpoint(filepath=\"{0}.h5\".format(model_id), verbose=1, save_best_only=True)\n",
    "\n",
    "# 학습 실행\n",
    "hist = CNN_WDI.fit(X_train, X_test, epochs=EPOCH, batch_size=BATCH_SIZE, shuffle=True,\n",
    "                   validation_data=(X_valid, X_valid), callbacks=[checkpointer])"
   ]
  }
 ],
 "metadata": {
  "kernelspec": {
   "display_name": "Python 3 (ipykernel)",
   "language": "python",
   "name": "python3"
  },
  "language_info": {
   "codemirror_mode": {
    "name": "ipython",
    "version": 3
   },
   "file_extension": ".py",
   "mimetype": "text/x-python",
   "name": "python",
   "nbconvert_exporter": "python",
   "pygments_lexer": "ipython3",
   "version": "3.7.9"
  }
 },
 "nbformat": 4,
 "nbformat_minor": 5
}
