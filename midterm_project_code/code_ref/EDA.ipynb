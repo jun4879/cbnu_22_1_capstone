{
 "cells": [
  {
   "cell_type": "markdown",
   "id": "005816de",
   "metadata": {},
   "source": [
    "## 불균형 데이터셋에 대한 웨이퍼 불량식별을 위한 CNN\n",
    "### 키워드\n",
    "- 데이터 전처리\n",
    "    - Data Augmentaion\n",
    "    - 불량 클래스\n",
    "        - Center\n",
    "        - Donut\n",
    "        - Local\n",
    "        - Edge-Loc\n",
    "        - Edge-Ring\n",
    "        - Scratch\n",
    "        - Random\n",
    "        - Near-Full\n",
    "        - None\n",
    "- 모델 구성\n",
    "    - Batch Normalization\n",
    "    - Spatical Dropout\n",
    "    - Regularization"
   ]
  },
  {
   "cell_type": "markdown",
   "id": "749e852e",
   "metadata": {},
   "source": [
    "### 데이터 확인사항\n",
    "- 웨이퍼 불량 label 갯수는 논문과 일치\n",
    "- trainTestLabel의 경우 train 데이터 54355개, test 데이터 118595개로  \n",
    "논문에서의 학습:검증:테스트 데이터셋 비율 개수 확인하여 augmentation 작업 필요\n",
    "- waferMap 사이즈를 확인하여 추후 개발할 신경망 모델의 224x224 사이즈에 맞게 resizing 작업이 필요할 것으로 예상됨\n",
    "- augmentaion 작업과 resizing 작업이 한 번에 해결될 수 있도록 전처리하는 것이 좋을 듯"
   ]
  },
  {
   "cell_type": "code",
   "execution_count": 1,
   "id": "eb6db360",
   "metadata": {
    "execution": {
     "iopub.execute_input": "2022-03-27T23:19:05.350730Z",
     "iopub.status.busy": "2022-03-27T23:19:05.349731Z",
     "iopub.status.idle": "2022-03-27T23:19:07.401815Z",
     "shell.execute_reply": "2022-03-27T23:19:07.401316Z",
     "shell.execute_reply.started": "2022-03-27T23:19:05.350730Z"
    },
    "tags": []
   },
   "outputs": [],
   "source": [
    "import pandas as pd\n",
    "import numpy as np"
   ]
  },
  {
   "cell_type": "code",
   "execution_count": 2,
   "id": "161b71c3",
   "metadata": {
    "execution": {
     "iopub.execute_input": "2022-03-27T23:19:07.402946Z",
     "iopub.status.busy": "2022-03-27T23:19:07.402946Z",
     "iopub.status.idle": "2022-03-27T23:20:01.607505Z",
     "shell.execute_reply": "2022-03-27T23:20:01.606420Z",
     "shell.execute_reply.started": "2022-03-27T23:19:07.402946Z"
    },
    "tags": []
   },
   "outputs": [],
   "source": [
    "wm811k = pd.read_pickle('./LSWMD.pkl')"
   ]
  },
  {
   "cell_type": "code",
   "execution_count": 3,
   "id": "fd50ed6e",
   "metadata": {
    "execution": {
     "iopub.execute_input": "2022-03-27T23:20:01.607505Z",
     "iopub.status.busy": "2022-03-27T23:20:01.607505Z",
     "iopub.status.idle": "2022-03-27T23:20:01.776937Z",
     "shell.execute_reply": "2022-03-27T23:20:01.776439Z",
     "shell.execute_reply.started": "2022-03-27T23:20:01.607505Z"
    },
    "tags": []
   },
   "outputs": [
    {
     "data": {
      "text/html": [
       "<div>\n",
       "<style scoped>\n",
       "    .dataframe tbody tr th:only-of-type {\n",
       "        vertical-align: middle;\n",
       "    }\n",
       "\n",
       "    .dataframe tbody tr th {\n",
       "        vertical-align: top;\n",
       "    }\n",
       "\n",
       "    .dataframe thead th {\n",
       "        text-align: right;\n",
       "    }\n",
       "</style>\n",
       "<table border=\"1\" class=\"dataframe\">\n",
       "  <thead>\n",
       "    <tr style=\"text-align: right;\">\n",
       "      <th></th>\n",
       "      <th>waferMap</th>\n",
       "      <th>dieSize</th>\n",
       "      <th>lotName</th>\n",
       "      <th>waferIndex</th>\n",
       "      <th>trianTestLabel</th>\n",
       "      <th>failureType</th>\n",
       "    </tr>\n",
       "  </thead>\n",
       "  <tbody>\n",
       "    <tr>\n",
       "      <th>0</th>\n",
       "      <td>[[0, 0, 0, 0, 0, 0, 0, 0, 0, 0, 0, 0, 0, 0, 0,...</td>\n",
       "      <td>1683.0</td>\n",
       "      <td>lot1</td>\n",
       "      <td>1.0</td>\n",
       "      <td>[[Training]]</td>\n",
       "      <td>[[none]]</td>\n",
       "    </tr>\n",
       "    <tr>\n",
       "      <th>1</th>\n",
       "      <td>[[0, 0, 0, 0, 0, 0, 0, 0, 0, 0, 0, 0, 0, 0, 0,...</td>\n",
       "      <td>1683.0</td>\n",
       "      <td>lot1</td>\n",
       "      <td>2.0</td>\n",
       "      <td>[[Training]]</td>\n",
       "      <td>[[none]]</td>\n",
       "    </tr>\n",
       "    <tr>\n",
       "      <th>2</th>\n",
       "      <td>[[0, 0, 0, 0, 0, 0, 0, 0, 0, 0, 0, 0, 0, 0, 0,...</td>\n",
       "      <td>1683.0</td>\n",
       "      <td>lot1</td>\n",
       "      <td>3.0</td>\n",
       "      <td>[[Training]]</td>\n",
       "      <td>[[none]]</td>\n",
       "    </tr>\n",
       "    <tr>\n",
       "      <th>3</th>\n",
       "      <td>[[0, 0, 0, 0, 0, 0, 0, 0, 0, 0, 0, 0, 0, 0, 0,...</td>\n",
       "      <td>1683.0</td>\n",
       "      <td>lot1</td>\n",
       "      <td>4.0</td>\n",
       "      <td>[[Training]]</td>\n",
       "      <td>[[none]]</td>\n",
       "    </tr>\n",
       "    <tr>\n",
       "      <th>4</th>\n",
       "      <td>[[0, 0, 0, 0, 0, 0, 0, 0, 0, 0, 0, 0, 0, 0, 0,...</td>\n",
       "      <td>1683.0</td>\n",
       "      <td>lot1</td>\n",
       "      <td>5.0</td>\n",
       "      <td>[[Training]]</td>\n",
       "      <td>[[none]]</td>\n",
       "    </tr>\n",
       "  </tbody>\n",
       "</table>\n",
       "</div>"
      ],
      "text/plain": [
       "                                            waferMap  dieSize lotName  \\\n",
       "0  [[0, 0, 0, 0, 0, 0, 0, 0, 0, 0, 0, 0, 0, 0, 0,...   1683.0    lot1   \n",
       "1  [[0, 0, 0, 0, 0, 0, 0, 0, 0, 0, 0, 0, 0, 0, 0,...   1683.0    lot1   \n",
       "2  [[0, 0, 0, 0, 0, 0, 0, 0, 0, 0, 0, 0, 0, 0, 0,...   1683.0    lot1   \n",
       "3  [[0, 0, 0, 0, 0, 0, 0, 0, 0, 0, 0, 0, 0, 0, 0,...   1683.0    lot1   \n",
       "4  [[0, 0, 0, 0, 0, 0, 0, 0, 0, 0, 0, 0, 0, 0, 0,...   1683.0    lot1   \n",
       "\n",
       "   waferIndex trianTestLabel failureType  \n",
       "0         1.0   [[Training]]    [[none]]  \n",
       "1         2.0   [[Training]]    [[none]]  \n",
       "2         3.0   [[Training]]    [[none]]  \n",
       "3         4.0   [[Training]]    [[none]]  \n",
       "4         5.0   [[Training]]    [[none]]  "
      ]
     },
     "execution_count": 3,
     "metadata": {},
     "output_type": "execute_result"
    }
   ],
   "source": [
    "wm811k.head()"
   ]
  },
  {
   "cell_type": "code",
   "execution_count": 4,
   "id": "319d460d",
   "metadata": {
    "execution": {
     "iopub.execute_input": "2022-03-27T23:20:01.778461Z",
     "iopub.status.busy": "2022-03-27T23:20:01.778461Z",
     "iopub.status.idle": "2022-03-27T23:20:01.930032Z",
     "shell.execute_reply": "2022-03-27T23:20:01.929471Z",
     "shell.execute_reply.started": "2022-03-27T23:20:01.778461Z"
    },
    "tags": []
   },
   "outputs": [
    {
     "name": "stdout",
     "output_type": "stream",
     "text": [
      "<class 'pandas.core.frame.DataFrame'>\n",
      "RangeIndex: 811457 entries, 0 to 811456\n",
      "Data columns (total 6 columns):\n",
      " #   Column          Non-Null Count   Dtype  \n",
      "---  ------          --------------   -----  \n",
      " 0   waferMap        811457 non-null  object \n",
      " 1   dieSize         811457 non-null  float64\n",
      " 2   lotName         811457 non-null  object \n",
      " 3   waferIndex      811457 non-null  float64\n",
      " 4   trianTestLabel  811457 non-null  object \n",
      " 5   failureType     811457 non-null  object \n",
      "dtypes: float64(2), object(4)\n",
      "memory usage: 37.1+ MB\n"
     ]
    }
   ],
   "source": [
    "wm811k.info()"
   ]
  },
  {
   "cell_type": "code",
   "execution_count": 5,
   "id": "466053fc",
   "metadata": {
    "execution": {
     "iopub.execute_input": "2022-03-27T23:20:01.930032Z",
     "iopub.status.busy": "2022-03-27T23:20:01.930032Z",
     "iopub.status.idle": "2022-03-27T23:20:02.005681Z",
     "shell.execute_reply": "2022-03-27T23:20:02.005083Z",
     "shell.execute_reply.started": "2022-03-27T23:20:01.930032Z"
    },
    "tags": []
   },
   "outputs": [
    {
     "data": {
      "text/html": [
       "<div>\n",
       "<style scoped>\n",
       "    .dataframe tbody tr th:only-of-type {\n",
       "        vertical-align: middle;\n",
       "    }\n",
       "\n",
       "    .dataframe tbody tr th {\n",
       "        vertical-align: top;\n",
       "    }\n",
       "\n",
       "    .dataframe thead th {\n",
       "        text-align: right;\n",
       "    }\n",
       "</style>\n",
       "<table border=\"1\" class=\"dataframe\">\n",
       "  <thead>\n",
       "    <tr style=\"text-align: right;\">\n",
       "      <th></th>\n",
       "      <th>dieSize</th>\n",
       "      <th>waferIndex</th>\n",
       "    </tr>\n",
       "  </thead>\n",
       "  <tbody>\n",
       "    <tr>\n",
       "      <th>count</th>\n",
       "      <td>811457.000000</td>\n",
       "      <td>811457.000000</td>\n",
       "    </tr>\n",
       "    <tr>\n",
       "      <th>mean</th>\n",
       "      <td>1840.998585</td>\n",
       "      <td>12.961207</td>\n",
       "    </tr>\n",
       "    <tr>\n",
       "      <th>std</th>\n",
       "      <td>2254.987374</td>\n",
       "      <td>7.207489</td>\n",
       "    </tr>\n",
       "    <tr>\n",
       "      <th>min</th>\n",
       "      <td>3.000000</td>\n",
       "      <td>1.000000</td>\n",
       "    </tr>\n",
       "    <tr>\n",
       "      <th>25%</th>\n",
       "      <td>710.000000</td>\n",
       "      <td>7.000000</td>\n",
       "    </tr>\n",
       "    <tr>\n",
       "      <th>50%</th>\n",
       "      <td>953.000000</td>\n",
       "      <td>13.000000</td>\n",
       "    </tr>\n",
       "    <tr>\n",
       "      <th>75%</th>\n",
       "      <td>1902.000000</td>\n",
       "      <td>19.000000</td>\n",
       "    </tr>\n",
       "    <tr>\n",
       "      <th>max</th>\n",
       "      <td>48099.000000</td>\n",
       "      <td>25.000000</td>\n",
       "    </tr>\n",
       "  </tbody>\n",
       "</table>\n",
       "</div>"
      ],
      "text/plain": [
       "             dieSize     waferIndex\n",
       "count  811457.000000  811457.000000\n",
       "mean     1840.998585      12.961207\n",
       "std      2254.987374       7.207489\n",
       "min         3.000000       1.000000\n",
       "25%       710.000000       7.000000\n",
       "50%       953.000000      13.000000\n",
       "75%      1902.000000      19.000000\n",
       "max     48099.000000      25.000000"
      ]
     },
     "execution_count": 5,
     "metadata": {},
     "output_type": "execute_result"
    }
   ],
   "source": [
    "wm811k.describe()"
   ]
  },
  {
   "cell_type": "code",
   "execution_count": 6,
   "id": "ffe5e8a5",
   "metadata": {
    "execution": {
     "iopub.execute_input": "2022-03-27T23:20:02.006757Z",
     "iopub.status.busy": "2022-03-27T23:20:02.006757Z",
     "iopub.status.idle": "2022-03-27T23:20:02.021532Z",
     "shell.execute_reply": "2022-03-27T23:20:02.021028Z",
     "shell.execute_reply.started": "2022-03-27T23:20:02.006757Z"
    },
    "tags": []
   },
   "outputs": [],
   "source": [
    "failureType_ndarray = wm811k['failureType']"
   ]
  },
  {
   "cell_type": "code",
   "execution_count": 10,
   "id": "14645e38",
   "metadata": {
    "execution": {
     "iopub.execute_input": "2022-03-28T05:49:44.700923Z",
     "iopub.status.busy": "2022-03-28T05:49:44.696576Z",
     "iopub.status.idle": "2022-03-28T05:49:44.740240Z",
     "shell.execute_reply": "2022-03-28T05:49:44.738225Z",
     "shell.execute_reply.started": "2022-03-28T05:49:44.700137Z"
    },
    "tags": []
   },
   "outputs": [
    {
     "data": {
      "text/plain": [
       "pandas.core.series.Series"
      ]
     },
     "execution_count": 10,
     "metadata": {},
     "output_type": "execute_result"
    }
   ],
   "source": [
    "type(failureType_ndarray)"
   ]
  },
  {
   "cell_type": "code",
   "execution_count": 34,
   "id": "ced86362",
   "metadata": {
    "execution": {
     "iopub.execute_input": "2022-03-28T05:57:48.076111Z",
     "iopub.status.busy": "2022-03-28T05:57:48.075711Z",
     "iopub.status.idle": "2022-03-28T05:57:51.828439Z",
     "shell.execute_reply": "2022-03-28T05:57:51.827440Z",
     "shell.execute_reply.started": "2022-03-28T05:57:48.076111Z"
    },
    "tags": []
   },
   "outputs": [
    {
     "data": {
      "text/plain": [
       "[]                 638507\n",
       "[['none']]         147431\n",
       "[['Edge-Ring']]      9680\n",
       "[['Edge-Loc']]       5189\n",
       "[['Center']]         4294\n",
       "[['Loc']]            3593\n",
       "[['Scratch']]        1193\n",
       "[['Random']]          866\n",
       "[['Donut']]           555\n",
       "[['Near-full']]       149\n",
       "Name: failureType, dtype: int64"
      ]
     },
     "execution_count": 34,
     "metadata": {},
     "output_type": "execute_result"
    }
   ],
   "source": [
    "wm811k['failureType'].apply(lambda x: str(x)).value_counts()"
   ]
  },
  {
   "cell_type": "code",
   "execution_count": 35,
   "id": "c5e6b0c8",
   "metadata": {
    "execution": {
     "iopub.execute_input": "2022-03-28T05:58:27.574212Z",
     "iopub.status.busy": "2022-03-28T05:58:27.574212Z",
     "iopub.status.idle": "2022-03-28T05:58:31.172368Z",
     "shell.execute_reply": "2022-03-28T05:58:31.171868Z",
     "shell.execute_reply.started": "2022-03-28T05:58:27.574212Z"
    },
    "tags": []
   },
   "outputs": [
    {
     "data": {
      "text/plain": [
       "[]                638507\n",
       "[['Test']]        118595\n",
       "[['Training']]     54355\n",
       "Name: trianTestLabel, dtype: int64"
      ]
     },
     "execution_count": 35,
     "metadata": {},
     "output_type": "execute_result"
    }
   ],
   "source": [
    "wm811k['trianTestLabel'].apply(lambda x: str(x)).value_counts()"
   ]
  }
 ],
 "metadata": {
  "kernelspec": {
   "display_name": "Python 3 (ipykernel)",
   "language": "python",
   "name": "python3"
  },
  "language_info": {
   "codemirror_mode": {
    "name": "ipython",
    "version": 3
   },
   "file_extension": ".py",
   "mimetype": "text/x-python",
   "name": "python",
   "nbconvert_exporter": "python",
   "pygments_lexer": "ipython3",
   "version": "3.7.9"
  }
 },
 "nbformat": 4,
 "nbformat_minor": 5
}
